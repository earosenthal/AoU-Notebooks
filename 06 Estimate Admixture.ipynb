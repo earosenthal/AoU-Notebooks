{
 "cells": [
  {
   "cell_type": "markdown",
   "metadata": {},
   "source": [
    "06 Estimate Admixture \n",
    "\n",
    "using method  in PMID: 26482676\n",
    "\n",
    "Using the list of kept SNPs\n",
    "\n",
    "Note: PLINK files were not copied over from the pre-production workspace. The code here if for illustration purposes. \n",
    "\n",
    "Using standard VM 96 CPUs, 86.4 RAM. Will need to increase for the EigMix. It takes longer than PCA analysis. Seems to take about half an hour for each AoU subset. Because it takes so long, instead of using a loop, I will run each one separately so that I come back to the notebook over a few days"
   ]
  },
  {
   "cell_type": "markdown",
   "metadata": {
    "heading_collapsed": true
   },
   "source": [
    "# Install Libraries"
   ]
  },
  {
   "cell_type": "code",
   "execution_count": 1,
   "metadata": {
    "hidden": true
   },
   "outputs": [],
   "source": [
    "rm(list=ls())"
   ]
  },
  {
   "cell_type": "code",
   "execution_count": 2,
   "metadata": {
    "hidden": true
   },
   "outputs": [
    {
     "data": {
      "text/html": [
       "<ol>\n",
       "\t<li>NULL</li>\n",
       "\t<li>NULL</li>\n",
       "\t<li>NULL</li>\n",
       "\t<li>NULL</li>\n",
       "\t<li>NULL</li>\n",
       "\t<li>NULL</li>\n",
       "\t<li>NULL</li>\n",
       "\t<li>NULL</li>\n",
       "\t<li>NULL</li>\n",
       "\t<li>NULL</li>\n",
       "\t<li>NULL</li>\n",
       "</ol>\n"
      ],
      "text/latex": [
       "\\begin{enumerate}\n",
       "\\item NULL\n",
       "\\item NULL\n",
       "\\item NULL\n",
       "\\item NULL\n",
       "\\item NULL\n",
       "\\item NULL\n",
       "\\item NULL\n",
       "\\item NULL\n",
       "\\item NULL\n",
       "\\item NULL\n",
       "\\item NULL\n",
       "\\end{enumerate}\n"
      ],
      "text/markdown": [
       "1. NULL\n",
       "2. NULL\n",
       "3. NULL\n",
       "4. NULL\n",
       "5. NULL\n",
       "6. NULL\n",
       "7. NULL\n",
       "8. NULL\n",
       "9. NULL\n",
       "10. NULL\n",
       "11. NULL\n",
       "\n",
       "\n"
      ],
      "text/plain": [
       "[[1]]\n",
       "NULL\n",
       "\n",
       "[[2]]\n",
       "NULL\n",
       "\n",
       "[[3]]\n",
       "NULL\n",
       "\n",
       "[[4]]\n",
       "NULL\n",
       "\n",
       "[[5]]\n",
       "NULL\n",
       "\n",
       "[[6]]\n",
       "NULL\n",
       "\n",
       "[[7]]\n",
       "NULL\n",
       "\n",
       "[[8]]\n",
       "NULL\n",
       "\n",
       "[[9]]\n",
       "NULL\n",
       "\n",
       "[[10]]\n",
       "NULL\n",
       "\n",
       "[[11]]\n",
       "NULL\n"
      ]
     },
     "metadata": {},
     "output_type": "display_data"
    },
    {
     "name": "stderr",
     "output_type": "stream",
     "text": [
      "Loading required package: lattice\n",
      "\n",
      "Loading required package: survival\n",
      "\n",
      "Loading required package: Formula\n",
      "\n",
      "Loading required package: ggplot2\n",
      "\n",
      "\n",
      "Attaching package: ‘Hmisc’\n",
      "\n",
      "\n",
      "The following objects are masked from ‘package:base’:\n",
      "\n",
      "    format.pval, units\n",
      "\n",
      "\n",
      "Warning message in system(\"timedatectl\", intern = TRUE):\n",
      "“running command 'timedatectl' had status 1”\n",
      "── \u001b[1mAttaching packages\u001b[22m ─────────────────────────────────────── tidyverse 1.3.2 ──\n",
      "\u001b[32m✔\u001b[39m \u001b[34mtibble \u001b[39m 3.1.8      \u001b[32m✔\u001b[39m \u001b[34mdplyr  \u001b[39m 1.0.10\n",
      "\u001b[32m✔\u001b[39m \u001b[34mtidyr  \u001b[39m 1.2.1      \u001b[32m✔\u001b[39m \u001b[34mstringr\u001b[39m 1.5.0 \n",
      "\u001b[32m✔\u001b[39m \u001b[34mreadr  \u001b[39m 2.1.3      \u001b[32m✔\u001b[39m \u001b[34mforcats\u001b[39m 0.5.2 \n",
      "\u001b[32m✔\u001b[39m \u001b[34mpurrr  \u001b[39m 0.3.5      \n",
      "── \u001b[1mConflicts\u001b[22m ────────────────────────────────────────── tidyverse_conflicts() ──\n",
      "\u001b[31m✖\u001b[39m \u001b[34mdplyr\u001b[39m::\u001b[32mbetween()\u001b[39m   masks \u001b[34mdata.table\u001b[39m::between()\n",
      "\u001b[31m✖\u001b[39m \u001b[34mdplyr\u001b[39m::\u001b[32mfilter()\u001b[39m    masks \u001b[34mstats\u001b[39m::filter()\n",
      "\u001b[31m✖\u001b[39m \u001b[34mdplyr\u001b[39m::\u001b[32mfirst()\u001b[39m     masks \u001b[34mdata.table\u001b[39m::first()\n",
      "\u001b[31m✖\u001b[39m \u001b[34mdplyr\u001b[39m::\u001b[32mlag()\u001b[39m       masks \u001b[34mstats\u001b[39m::lag()\n",
      "\u001b[31m✖\u001b[39m \u001b[34mdplyr\u001b[39m::\u001b[32mlast()\u001b[39m      masks \u001b[34mdata.table\u001b[39m::last()\n",
      "\u001b[31m✖\u001b[39m \u001b[34mdplyr\u001b[39m::\u001b[32msrc()\u001b[39m       masks \u001b[34mHmisc\u001b[39m::src()\n",
      "\u001b[31m✖\u001b[39m \u001b[34mdplyr\u001b[39m::\u001b[32msummarize()\u001b[39m masks \u001b[34mHmisc\u001b[39m::summarize()\n",
      "\u001b[31m✖\u001b[39m \u001b[34mpurrr\u001b[39m::\u001b[32mtranspose()\u001b[39m masks \u001b[34mdata.table\u001b[39m::transpose()\n",
      "SNPRelate -- supported by Streaming SIMD Extensions 2 (SSE2)\n",
      "\n",
      "Loading required package: foreach\n",
      "\n",
      "\n",
      "Attaching package: ‘foreach’\n",
      "\n",
      "\n",
      "The following objects are masked from ‘package:purrr’:\n",
      "\n",
      "    accumulate, when\n",
      "\n",
      "\n",
      "\n",
      "Attaching package: ‘SeqArray’\n",
      "\n",
      "\n",
      "The following object is masked from ‘package:stringr’:\n",
      "\n",
      "    fixed\n",
      "\n",
      "\n",
      "Loading required package: Biobase\n",
      "\n",
      "Loading required package: BiocGenerics\n",
      "\n",
      "\n",
      "Attaching package: ‘BiocGenerics’\n",
      "\n",
      "\n",
      "The following objects are masked from ‘package:dplyr’:\n",
      "\n",
      "    combine, intersect, setdiff, union\n",
      "\n",
      "\n",
      "The following objects are masked from ‘package:stats’:\n",
      "\n",
      "    IQR, mad, sd, var, xtabs\n",
      "\n",
      "\n",
      "The following objects are masked from ‘package:base’:\n",
      "\n",
      "    anyDuplicated, aperm, append, as.data.frame, basename, cbind,\n",
      "    colnames, dirname, do.call, duplicated, eval, evalq, Filter, Find,\n",
      "    get, grep, grepl, intersect, is.unsorted, lapply, Map, mapply,\n",
      "    match, mget, order, paste, pmax, pmax.int, pmin, pmin.int,\n",
      "    Position, rank, rbind, Reduce, rownames, sapply, setdiff, sort,\n",
      "    table, tapply, union, unique, unsplit, which.max, which.min\n",
      "\n",
      "\n",
      "Welcome to Bioconductor\n",
      "\n",
      "    Vignettes contain introductory material; view with\n",
      "    'browseVignettes()'. To cite Bioconductor, see\n",
      "    'citation(\"Biobase\")', and for packages 'citation(\"pkgname\")'.\n",
      "\n",
      "\n",
      "\n",
      "Attaching package: ‘Biobase’\n",
      "\n",
      "\n",
      "The following object is masked from ‘package:Hmisc’:\n",
      "\n",
      "    contents\n",
      "\n",
      "\n",
      "\n",
      "Attaching package: ‘GWASTools’\n",
      "\n",
      "\n",
      "The following objects are masked from ‘package:SeqVarTools’:\n",
      "\n",
      "    alleleFrequency, duplicateDiscordance, getGenotype, iterateFilter,\n",
      "    lastFilter, lastFilter<-, mendelErr, resetIterator\n",
      "\n",
      "\n"
     ]
    },
    {
     "data": {
      "text/html": [
       "<ol>\n",
       "\t<li><style>\n",
       ".list-inline {list-style: none; margin:0; padding: 0}\n",
       ".list-inline>li {display: inline-block}\n",
       ".list-inline>li:not(:last-child)::after {content: \"\\00b7\"; padding: 0 .5ex}\n",
       "</style>\n",
       "<ol class=list-inline><li>'data.table'</li><li>'stats'</li><li>'graphics'</li><li>'grDevices'</li><li>'utils'</li><li>'datasets'</li><li>'methods'</li><li>'base'</li></ol>\n",
       "</li>\n",
       "\t<li><style>\n",
       ".list-inline {list-style: none; margin:0; padding: 0}\n",
       ".list-inline>li {display: inline-block}\n",
       ".list-inline>li:not(:last-child)::after {content: \"\\00b7\"; padding: 0 .5ex}\n",
       "</style>\n",
       "<ol class=list-inline><li>'Hmisc'</li><li>'ggplot2'</li><li>'Formula'</li><li>'survival'</li><li>'lattice'</li><li>'data.table'</li><li>'stats'</li><li>'graphics'</li><li>'grDevices'</li><li>'utils'</li><li>'datasets'</li><li>'methods'</li><li>'base'</li></ol>\n",
       "</li>\n",
       "\t<li><style>\n",
       ".list-inline {list-style: none; margin:0; padding: 0}\n",
       ".list-inline>li {display: inline-block}\n",
       ".list-inline>li:not(:last-child)::after {content: \"\\00b7\"; padding: 0 .5ex}\n",
       "</style>\n",
       "<ol class=list-inline><li>'forcats'</li><li>'stringr'</li><li>'dplyr'</li><li>'purrr'</li><li>'readr'</li><li>'tidyr'</li><li>'tibble'</li><li>'tidyverse'</li><li>'Hmisc'</li><li>'ggplot2'</li><li>'Formula'</li><li>'survival'</li><li>'lattice'</li><li>'data.table'</li><li>'stats'</li><li>'graphics'</li><li>'grDevices'</li><li>'utils'</li><li>'datasets'</li><li>'methods'</li><li>'base'</li></ol>\n",
       "</li>\n",
       "\t<li><style>\n",
       ".list-inline {list-style: none; margin:0; padding: 0}\n",
       ".list-inline>li {display: inline-block}\n",
       ".list-inline>li:not(:last-child)::after {content: \"\\00b7\"; padding: 0 .5ex}\n",
       "</style>\n",
       "<ol class=list-inline><li>'GENESIS'</li><li>'forcats'</li><li>'stringr'</li><li>'dplyr'</li><li>'purrr'</li><li>'readr'</li><li>'tidyr'</li><li>'tibble'</li><li>'tidyverse'</li><li>'Hmisc'</li><li>'ggplot2'</li><li>'Formula'</li><li>'survival'</li><li>'lattice'</li><li>'data.table'</li><li>'stats'</li><li>'graphics'</li><li>'grDevices'</li><li>'utils'</li><li>'datasets'</li><li>'methods'</li><li>'base'</li></ol>\n",
       "</li>\n",
       "\t<li><style>\n",
       ".list-inline {list-style: none; margin:0; padding: 0}\n",
       ".list-inline>li {display: inline-block}\n",
       ".list-inline>li:not(:last-child)::after {content: \"\\00b7\"; padding: 0 .5ex}\n",
       "</style>\n",
       "<ol class=list-inline><li>'gdsfmt'</li><li>'GENESIS'</li><li>'forcats'</li><li>'stringr'</li><li>'dplyr'</li><li>'purrr'</li><li>'readr'</li><li>'tidyr'</li><li>'tibble'</li><li>'tidyverse'</li><li>'Hmisc'</li><li>'ggplot2'</li><li>'Formula'</li><li>'survival'</li><li>'lattice'</li><li>'data.table'</li><li>'stats'</li><li>'graphics'</li><li>'grDevices'</li><li>'utils'</li><li>'datasets'</li><li>'methods'</li><li>'base'</li></ol>\n",
       "</li>\n",
       "\t<li><style>\n",
       ".list-inline {list-style: none; margin:0; padding: 0}\n",
       ".list-inline>li {display: inline-block}\n",
       ".list-inline>li:not(:last-child)::after {content: \"\\00b7\"; padding: 0 .5ex}\n",
       "</style>\n",
       "<ol class=list-inline><li>'SNPRelate'</li><li>'gdsfmt'</li><li>'GENESIS'</li><li>'forcats'</li><li>'stringr'</li><li>'dplyr'</li><li>'purrr'</li><li>'readr'</li><li>'tidyr'</li><li>'tibble'</li><li>'tidyverse'</li><li>'Hmisc'</li><li>'ggplot2'</li><li>'Formula'</li><li>'survival'</li><li>'lattice'</li><li>'data.table'</li><li>'stats'</li><li>'graphics'</li><li>'grDevices'</li><li>'utils'</li><li>'datasets'</li><li>'methods'</li><li>'base'</li></ol>\n",
       "</li>\n",
       "\t<li><style>\n",
       ".list-inline {list-style: none; margin:0; padding: 0}\n",
       ".list-inline>li {display: inline-block}\n",
       ".list-inline>li:not(:last-child)::after {content: \"\\00b7\"; padding: 0 .5ex}\n",
       "</style>\n",
       "<ol class=list-inline><li>'bigparallelr'</li><li>'foreach'</li><li>'SNPRelate'</li><li>'gdsfmt'</li><li>'GENESIS'</li><li>'forcats'</li><li>'stringr'</li><li>'dplyr'</li><li>'purrr'</li><li>'readr'</li><li>'tidyr'</li><li>'tibble'</li><li>'tidyverse'</li><li>'Hmisc'</li><li>'ggplot2'</li><li>'Formula'</li><li>'survival'</li><li>'lattice'</li><li>'data.table'</li><li>'stats'</li><li>'graphics'</li><li>'grDevices'</li><li>'utils'</li><li>'datasets'</li><li>'methods'</li><li>'base'</li></ol>\n",
       "</li>\n",
       "\t<li><style>\n",
       ".list-inline {list-style: none; margin:0; padding: 0}\n",
       ".list-inline>li {display: inline-block}\n",
       ".list-inline>li:not(:last-child)::after {content: \"\\00b7\"; padding: 0 .5ex}\n",
       "</style>\n",
       "<ol class=list-inline><li>'SeqArray'</li><li>'bigparallelr'</li><li>'foreach'</li><li>'SNPRelate'</li><li>'gdsfmt'</li><li>'GENESIS'</li><li>'forcats'</li><li>'stringr'</li><li>'dplyr'</li><li>'purrr'</li><li>'readr'</li><li>'tidyr'</li><li>'tibble'</li><li>'tidyverse'</li><li>'Hmisc'</li><li>'ggplot2'</li><li>'Formula'</li><li>'survival'</li><li>'lattice'</li><li>'data.table'</li><li>'stats'</li><li>'graphics'</li><li>'grDevices'</li><li>'utils'</li><li>'datasets'</li><li>'methods'</li><li>'base'</li></ol>\n",
       "</li>\n",
       "\t<li><style>\n",
       ".list-inline {list-style: none; margin:0; padding: 0}\n",
       ".list-inline>li {display: inline-block}\n",
       ".list-inline>li:not(:last-child)::after {content: \"\\00b7\"; padding: 0 .5ex}\n",
       "</style>\n",
       "<ol class=list-inline><li>'SeqVarTools'</li><li>'SeqArray'</li><li>'bigparallelr'</li><li>'foreach'</li><li>'SNPRelate'</li><li>'gdsfmt'</li><li>'GENESIS'</li><li>'forcats'</li><li>'stringr'</li><li>'dplyr'</li><li>'purrr'</li><li>'readr'</li><li>'tidyr'</li><li>'tibble'</li><li>'tidyverse'</li><li>'Hmisc'</li><li>'ggplot2'</li><li>'Formula'</li><li>'survival'</li><li>'lattice'</li><li>'data.table'</li><li>'stats'</li><li>'graphics'</li><li>'grDevices'</li><li>'utils'</li><li>'datasets'</li><li>'methods'</li><li>'base'</li></ol>\n",
       "</li>\n",
       "\t<li><style>\n",
       ".list-inline {list-style: none; margin:0; padding: 0}\n",
       ".list-inline>li {display: inline-block}\n",
       ".list-inline>li:not(:last-child)::after {content: \"\\00b7\"; padding: 0 .5ex}\n",
       "</style>\n",
       "<ol class=list-inline><li>'GWASTools'</li><li>'Biobase'</li><li>'BiocGenerics'</li><li>'SeqVarTools'</li><li>'SeqArray'</li><li>'bigparallelr'</li><li>'foreach'</li><li>'SNPRelate'</li><li>'gdsfmt'</li><li>'GENESIS'</li><li>'forcats'</li><li>'stringr'</li><li>'dplyr'</li><li>'purrr'</li><li>'readr'</li><li>'tidyr'</li><li>'tibble'</li><li>'tidyverse'</li><li>'Hmisc'</li><li>'ggplot2'</li><li>'Formula'</li><li>'survival'</li><li>'lattice'</li><li>'data.table'</li><li>'stats'</li><li>'graphics'</li><li>'grDevices'</li><li>'utils'</li><li>'datasets'</li><li>'methods'</li><li>'base'</li></ol>\n",
       "</li>\n",
       "\t<li><style>\n",
       ".list-inline {list-style: none; margin:0; padding: 0}\n",
       ".list-inline>li {display: inline-block}\n",
       ".list-inline>li:not(:last-child)::after {content: \"\\00b7\"; padding: 0 .5ex}\n",
       "</style>\n",
       "<ol class=list-inline><li>'GWASTools'</li><li>'Biobase'</li><li>'BiocGenerics'</li><li>'SeqVarTools'</li><li>'SeqArray'</li><li>'bigparallelr'</li><li>'foreach'</li><li>'SNPRelate'</li><li>'gdsfmt'</li><li>'GENESIS'</li><li>'forcats'</li><li>'stringr'</li><li>'dplyr'</li><li>'purrr'</li><li>'readr'</li><li>'tidyr'</li><li>'tibble'</li><li>'tidyverse'</li><li>'Hmisc'</li><li>'ggplot2'</li><li>'Formula'</li><li>'survival'</li><li>'lattice'</li><li>'data.table'</li><li>'stats'</li><li>'graphics'</li><li>'grDevices'</li><li>'utils'</li><li>'datasets'</li><li>'methods'</li><li>'base'</li></ol>\n",
       "</li>\n",
       "</ol>\n"
      ],
      "text/latex": [
       "\\begin{enumerate}\n",
       "\\item \\begin{enumerate*}\n",
       "\\item 'data.table'\n",
       "\\item 'stats'\n",
       "\\item 'graphics'\n",
       "\\item 'grDevices'\n",
       "\\item 'utils'\n",
       "\\item 'datasets'\n",
       "\\item 'methods'\n",
       "\\item 'base'\n",
       "\\end{enumerate*}\n",
       "\n",
       "\\item \\begin{enumerate*}\n",
       "\\item 'Hmisc'\n",
       "\\item 'ggplot2'\n",
       "\\item 'Formula'\n",
       "\\item 'survival'\n",
       "\\item 'lattice'\n",
       "\\item 'data.table'\n",
       "\\item 'stats'\n",
       "\\item 'graphics'\n",
       "\\item 'grDevices'\n",
       "\\item 'utils'\n",
       "\\item 'datasets'\n",
       "\\item 'methods'\n",
       "\\item 'base'\n",
       "\\end{enumerate*}\n",
       "\n",
       "\\item \\begin{enumerate*}\n",
       "\\item 'forcats'\n",
       "\\item 'stringr'\n",
       "\\item 'dplyr'\n",
       "\\item 'purrr'\n",
       "\\item 'readr'\n",
       "\\item 'tidyr'\n",
       "\\item 'tibble'\n",
       "\\item 'tidyverse'\n",
       "\\item 'Hmisc'\n",
       "\\item 'ggplot2'\n",
       "\\item 'Formula'\n",
       "\\item 'survival'\n",
       "\\item 'lattice'\n",
       "\\item 'data.table'\n",
       "\\item 'stats'\n",
       "\\item 'graphics'\n",
       "\\item 'grDevices'\n",
       "\\item 'utils'\n",
       "\\item 'datasets'\n",
       "\\item 'methods'\n",
       "\\item 'base'\n",
       "\\end{enumerate*}\n",
       "\n",
       "\\item \\begin{enumerate*}\n",
       "\\item 'GENESIS'\n",
       "\\item 'forcats'\n",
       "\\item 'stringr'\n",
       "\\item 'dplyr'\n",
       "\\item 'purrr'\n",
       "\\item 'readr'\n",
       "\\item 'tidyr'\n",
       "\\item 'tibble'\n",
       "\\item 'tidyverse'\n",
       "\\item 'Hmisc'\n",
       "\\item 'ggplot2'\n",
       "\\item 'Formula'\n",
       "\\item 'survival'\n",
       "\\item 'lattice'\n",
       "\\item 'data.table'\n",
       "\\item 'stats'\n",
       "\\item 'graphics'\n",
       "\\item 'grDevices'\n",
       "\\item 'utils'\n",
       "\\item 'datasets'\n",
       "\\item 'methods'\n",
       "\\item 'base'\n",
       "\\end{enumerate*}\n",
       "\n",
       "\\item \\begin{enumerate*}\n",
       "\\item 'gdsfmt'\n",
       "\\item 'GENESIS'\n",
       "\\item 'forcats'\n",
       "\\item 'stringr'\n",
       "\\item 'dplyr'\n",
       "\\item 'purrr'\n",
       "\\item 'readr'\n",
       "\\item 'tidyr'\n",
       "\\item 'tibble'\n",
       "\\item 'tidyverse'\n",
       "\\item 'Hmisc'\n",
       "\\item 'ggplot2'\n",
       "\\item 'Formula'\n",
       "\\item 'survival'\n",
       "\\item 'lattice'\n",
       "\\item 'data.table'\n",
       "\\item 'stats'\n",
       "\\item 'graphics'\n",
       "\\item 'grDevices'\n",
       "\\item 'utils'\n",
       "\\item 'datasets'\n",
       "\\item 'methods'\n",
       "\\item 'base'\n",
       "\\end{enumerate*}\n",
       "\n",
       "\\item \\begin{enumerate*}\n",
       "\\item 'SNPRelate'\n",
       "\\item 'gdsfmt'\n",
       "\\item 'GENESIS'\n",
       "\\item 'forcats'\n",
       "\\item 'stringr'\n",
       "\\item 'dplyr'\n",
       "\\item 'purrr'\n",
       "\\item 'readr'\n",
       "\\item 'tidyr'\n",
       "\\item 'tibble'\n",
       "\\item 'tidyverse'\n",
       "\\item 'Hmisc'\n",
       "\\item 'ggplot2'\n",
       "\\item 'Formula'\n",
       "\\item 'survival'\n",
       "\\item 'lattice'\n",
       "\\item 'data.table'\n",
       "\\item 'stats'\n",
       "\\item 'graphics'\n",
       "\\item 'grDevices'\n",
       "\\item 'utils'\n",
       "\\item 'datasets'\n",
       "\\item 'methods'\n",
       "\\item 'base'\n",
       "\\end{enumerate*}\n",
       "\n",
       "\\item \\begin{enumerate*}\n",
       "\\item 'bigparallelr'\n",
       "\\item 'foreach'\n",
       "\\item 'SNPRelate'\n",
       "\\item 'gdsfmt'\n",
       "\\item 'GENESIS'\n",
       "\\item 'forcats'\n",
       "\\item 'stringr'\n",
       "\\item 'dplyr'\n",
       "\\item 'purrr'\n",
       "\\item 'readr'\n",
       "\\item 'tidyr'\n",
       "\\item 'tibble'\n",
       "\\item 'tidyverse'\n",
       "\\item 'Hmisc'\n",
       "\\item 'ggplot2'\n",
       "\\item 'Formula'\n",
       "\\item 'survival'\n",
       "\\item 'lattice'\n",
       "\\item 'data.table'\n",
       "\\item 'stats'\n",
       "\\item 'graphics'\n",
       "\\item 'grDevices'\n",
       "\\item 'utils'\n",
       "\\item 'datasets'\n",
       "\\item 'methods'\n",
       "\\item 'base'\n",
       "\\end{enumerate*}\n",
       "\n",
       "\\item \\begin{enumerate*}\n",
       "\\item 'SeqArray'\n",
       "\\item 'bigparallelr'\n",
       "\\item 'foreach'\n",
       "\\item 'SNPRelate'\n",
       "\\item 'gdsfmt'\n",
       "\\item 'GENESIS'\n",
       "\\item 'forcats'\n",
       "\\item 'stringr'\n",
       "\\item 'dplyr'\n",
       "\\item 'purrr'\n",
       "\\item 'readr'\n",
       "\\item 'tidyr'\n",
       "\\item 'tibble'\n",
       "\\item 'tidyverse'\n",
       "\\item 'Hmisc'\n",
       "\\item 'ggplot2'\n",
       "\\item 'Formula'\n",
       "\\item 'survival'\n",
       "\\item 'lattice'\n",
       "\\item 'data.table'\n",
       "\\item 'stats'\n",
       "\\item 'graphics'\n",
       "\\item 'grDevices'\n",
       "\\item 'utils'\n",
       "\\item 'datasets'\n",
       "\\item 'methods'\n",
       "\\item 'base'\n",
       "\\end{enumerate*}\n",
       "\n",
       "\\item \\begin{enumerate*}\n",
       "\\item 'SeqVarTools'\n",
       "\\item 'SeqArray'\n",
       "\\item 'bigparallelr'\n",
       "\\item 'foreach'\n",
       "\\item 'SNPRelate'\n",
       "\\item 'gdsfmt'\n",
       "\\item 'GENESIS'\n",
       "\\item 'forcats'\n",
       "\\item 'stringr'\n",
       "\\item 'dplyr'\n",
       "\\item 'purrr'\n",
       "\\item 'readr'\n",
       "\\item 'tidyr'\n",
       "\\item 'tibble'\n",
       "\\item 'tidyverse'\n",
       "\\item 'Hmisc'\n",
       "\\item 'ggplot2'\n",
       "\\item 'Formula'\n",
       "\\item 'survival'\n",
       "\\item 'lattice'\n",
       "\\item 'data.table'\n",
       "\\item 'stats'\n",
       "\\item 'graphics'\n",
       "\\item 'grDevices'\n",
       "\\item 'utils'\n",
       "\\item 'datasets'\n",
       "\\item 'methods'\n",
       "\\item 'base'\n",
       "\\end{enumerate*}\n",
       "\n",
       "\\item \\begin{enumerate*}\n",
       "\\item 'GWASTools'\n",
       "\\item 'Biobase'\n",
       "\\item 'BiocGenerics'\n",
       "\\item 'SeqVarTools'\n",
       "\\item 'SeqArray'\n",
       "\\item 'bigparallelr'\n",
       "\\item 'foreach'\n",
       "\\item 'SNPRelate'\n",
       "\\item 'gdsfmt'\n",
       "\\item 'GENESIS'\n",
       "\\item 'forcats'\n",
       "\\item 'stringr'\n",
       "\\item 'dplyr'\n",
       "\\item 'purrr'\n",
       "\\item 'readr'\n",
       "\\item 'tidyr'\n",
       "\\item 'tibble'\n",
       "\\item 'tidyverse'\n",
       "\\item 'Hmisc'\n",
       "\\item 'ggplot2'\n",
       "\\item 'Formula'\n",
       "\\item 'survival'\n",
       "\\item 'lattice'\n",
       "\\item 'data.table'\n",
       "\\item 'stats'\n",
       "\\item 'graphics'\n",
       "\\item 'grDevices'\n",
       "\\item 'utils'\n",
       "\\item 'datasets'\n",
       "\\item 'methods'\n",
       "\\item 'base'\n",
       "\\end{enumerate*}\n",
       "\n",
       "\\item \\begin{enumerate*}\n",
       "\\item 'GWASTools'\n",
       "\\item 'Biobase'\n",
       "\\item 'BiocGenerics'\n",
       "\\item 'SeqVarTools'\n",
       "\\item 'SeqArray'\n",
       "\\item 'bigparallelr'\n",
       "\\item 'foreach'\n",
       "\\item 'SNPRelate'\n",
       "\\item 'gdsfmt'\n",
       "\\item 'GENESIS'\n",
       "\\item 'forcats'\n",
       "\\item 'stringr'\n",
       "\\item 'dplyr'\n",
       "\\item 'purrr'\n",
       "\\item 'readr'\n",
       "\\item 'tidyr'\n",
       "\\item 'tibble'\n",
       "\\item 'tidyverse'\n",
       "\\item 'Hmisc'\n",
       "\\item 'ggplot2'\n",
       "\\item 'Formula'\n",
       "\\item 'survival'\n",
       "\\item 'lattice'\n",
       "\\item 'data.table'\n",
       "\\item 'stats'\n",
       "\\item 'graphics'\n",
       "\\item 'grDevices'\n",
       "\\item 'utils'\n",
       "\\item 'datasets'\n",
       "\\item 'methods'\n",
       "\\item 'base'\n",
       "\\end{enumerate*}\n",
       "\n",
       "\\end{enumerate}\n"
      ],
      "text/markdown": [
       "1. 1. 'data.table'\n",
       "2. 'stats'\n",
       "3. 'graphics'\n",
       "4. 'grDevices'\n",
       "5. 'utils'\n",
       "6. 'datasets'\n",
       "7. 'methods'\n",
       "8. 'base'\n",
       "\n",
       "\n",
       "\n",
       "2. 1. 'Hmisc'\n",
       "2. 'ggplot2'\n",
       "3. 'Formula'\n",
       "4. 'survival'\n",
       "5. 'lattice'\n",
       "6. 'data.table'\n",
       "7. 'stats'\n",
       "8. 'graphics'\n",
       "9. 'grDevices'\n",
       "10. 'utils'\n",
       "11. 'datasets'\n",
       "12. 'methods'\n",
       "13. 'base'\n",
       "\n",
       "\n",
       "\n",
       "3. 1. 'forcats'\n",
       "2. 'stringr'\n",
       "3. 'dplyr'\n",
       "4. 'purrr'\n",
       "5. 'readr'\n",
       "6. 'tidyr'\n",
       "7. 'tibble'\n",
       "8. 'tidyverse'\n",
       "9. 'Hmisc'\n",
       "10. 'ggplot2'\n",
       "11. 'Formula'\n",
       "12. 'survival'\n",
       "13. 'lattice'\n",
       "14. 'data.table'\n",
       "15. 'stats'\n",
       "16. 'graphics'\n",
       "17. 'grDevices'\n",
       "18. 'utils'\n",
       "19. 'datasets'\n",
       "20. 'methods'\n",
       "21. 'base'\n",
       "\n",
       "\n",
       "\n",
       "4. 1. 'GENESIS'\n",
       "2. 'forcats'\n",
       "3. 'stringr'\n",
       "4. 'dplyr'\n",
       "5. 'purrr'\n",
       "6. 'readr'\n",
       "7. 'tidyr'\n",
       "8. 'tibble'\n",
       "9. 'tidyverse'\n",
       "10. 'Hmisc'\n",
       "11. 'ggplot2'\n",
       "12. 'Formula'\n",
       "13. 'survival'\n",
       "14. 'lattice'\n",
       "15. 'data.table'\n",
       "16. 'stats'\n",
       "17. 'graphics'\n",
       "18. 'grDevices'\n",
       "19. 'utils'\n",
       "20. 'datasets'\n",
       "21. 'methods'\n",
       "22. 'base'\n",
       "\n",
       "\n",
       "\n",
       "5. 1. 'gdsfmt'\n",
       "2. 'GENESIS'\n",
       "3. 'forcats'\n",
       "4. 'stringr'\n",
       "5. 'dplyr'\n",
       "6. 'purrr'\n",
       "7. 'readr'\n",
       "8. 'tidyr'\n",
       "9. 'tibble'\n",
       "10. 'tidyverse'\n",
       "11. 'Hmisc'\n",
       "12. 'ggplot2'\n",
       "13. 'Formula'\n",
       "14. 'survival'\n",
       "15. 'lattice'\n",
       "16. 'data.table'\n",
       "17. 'stats'\n",
       "18. 'graphics'\n",
       "19. 'grDevices'\n",
       "20. 'utils'\n",
       "21. 'datasets'\n",
       "22. 'methods'\n",
       "23. 'base'\n",
       "\n",
       "\n",
       "\n",
       "6. 1. 'SNPRelate'\n",
       "2. 'gdsfmt'\n",
       "3. 'GENESIS'\n",
       "4. 'forcats'\n",
       "5. 'stringr'\n",
       "6. 'dplyr'\n",
       "7. 'purrr'\n",
       "8. 'readr'\n",
       "9. 'tidyr'\n",
       "10. 'tibble'\n",
       "11. 'tidyverse'\n",
       "12. 'Hmisc'\n",
       "13. 'ggplot2'\n",
       "14. 'Formula'\n",
       "15. 'survival'\n",
       "16. 'lattice'\n",
       "17. 'data.table'\n",
       "18. 'stats'\n",
       "19. 'graphics'\n",
       "20. 'grDevices'\n",
       "21. 'utils'\n",
       "22. 'datasets'\n",
       "23. 'methods'\n",
       "24. 'base'\n",
       "\n",
       "\n",
       "\n",
       "7. 1. 'bigparallelr'\n",
       "2. 'foreach'\n",
       "3. 'SNPRelate'\n",
       "4. 'gdsfmt'\n",
       "5. 'GENESIS'\n",
       "6. 'forcats'\n",
       "7. 'stringr'\n",
       "8. 'dplyr'\n",
       "9. 'purrr'\n",
       "10. 'readr'\n",
       "11. 'tidyr'\n",
       "12. 'tibble'\n",
       "13. 'tidyverse'\n",
       "14. 'Hmisc'\n",
       "15. 'ggplot2'\n",
       "16. 'Formula'\n",
       "17. 'survival'\n",
       "18. 'lattice'\n",
       "19. 'data.table'\n",
       "20. 'stats'\n",
       "21. 'graphics'\n",
       "22. 'grDevices'\n",
       "23. 'utils'\n",
       "24. 'datasets'\n",
       "25. 'methods'\n",
       "26. 'base'\n",
       "\n",
       "\n",
       "\n",
       "8. 1. 'SeqArray'\n",
       "2. 'bigparallelr'\n",
       "3. 'foreach'\n",
       "4. 'SNPRelate'\n",
       "5. 'gdsfmt'\n",
       "6. 'GENESIS'\n",
       "7. 'forcats'\n",
       "8. 'stringr'\n",
       "9. 'dplyr'\n",
       "10. 'purrr'\n",
       "11. 'readr'\n",
       "12. 'tidyr'\n",
       "13. 'tibble'\n",
       "14. 'tidyverse'\n",
       "15. 'Hmisc'\n",
       "16. 'ggplot2'\n",
       "17. 'Formula'\n",
       "18. 'survival'\n",
       "19. 'lattice'\n",
       "20. 'data.table'\n",
       "21. 'stats'\n",
       "22. 'graphics'\n",
       "23. 'grDevices'\n",
       "24. 'utils'\n",
       "25. 'datasets'\n",
       "26. 'methods'\n",
       "27. 'base'\n",
       "\n",
       "\n",
       "\n",
       "9. 1. 'SeqVarTools'\n",
       "2. 'SeqArray'\n",
       "3. 'bigparallelr'\n",
       "4. 'foreach'\n",
       "5. 'SNPRelate'\n",
       "6. 'gdsfmt'\n",
       "7. 'GENESIS'\n",
       "8. 'forcats'\n",
       "9. 'stringr'\n",
       "10. 'dplyr'\n",
       "11. 'purrr'\n",
       "12. 'readr'\n",
       "13. 'tidyr'\n",
       "14. 'tibble'\n",
       "15. 'tidyverse'\n",
       "16. 'Hmisc'\n",
       "17. 'ggplot2'\n",
       "18. 'Formula'\n",
       "19. 'survival'\n",
       "20. 'lattice'\n",
       "21. 'data.table'\n",
       "22. 'stats'\n",
       "23. 'graphics'\n",
       "24. 'grDevices'\n",
       "25. 'utils'\n",
       "26. 'datasets'\n",
       "27. 'methods'\n",
       "28. 'base'\n",
       "\n",
       "\n",
       "\n",
       "10. 1. 'GWASTools'\n",
       "2. 'Biobase'\n",
       "3. 'BiocGenerics'\n",
       "4. 'SeqVarTools'\n",
       "5. 'SeqArray'\n",
       "6. 'bigparallelr'\n",
       "7. 'foreach'\n",
       "8. 'SNPRelate'\n",
       "9. 'gdsfmt'\n",
       "10. 'GENESIS'\n",
       "11. 'forcats'\n",
       "12. 'stringr'\n",
       "13. 'dplyr'\n",
       "14. 'purrr'\n",
       "15. 'readr'\n",
       "16. 'tidyr'\n",
       "17. 'tibble'\n",
       "18. 'tidyverse'\n",
       "19. 'Hmisc'\n",
       "20. 'ggplot2'\n",
       "21. 'Formula'\n",
       "22. 'survival'\n",
       "23. 'lattice'\n",
       "24. 'data.table'\n",
       "25. 'stats'\n",
       "26. 'graphics'\n",
       "27. 'grDevices'\n",
       "28. 'utils'\n",
       "29. 'datasets'\n",
       "30. 'methods'\n",
       "31. 'base'\n",
       "\n",
       "\n",
       "\n",
       "11. 1. 'GWASTools'\n",
       "2. 'Biobase'\n",
       "3. 'BiocGenerics'\n",
       "4. 'SeqVarTools'\n",
       "5. 'SeqArray'\n",
       "6. 'bigparallelr'\n",
       "7. 'foreach'\n",
       "8. 'SNPRelate'\n",
       "9. 'gdsfmt'\n",
       "10. 'GENESIS'\n",
       "11. 'forcats'\n",
       "12. 'stringr'\n",
       "13. 'dplyr'\n",
       "14. 'purrr'\n",
       "15. 'readr'\n",
       "16. 'tidyr'\n",
       "17. 'tibble'\n",
       "18. 'tidyverse'\n",
       "19. 'Hmisc'\n",
       "20. 'ggplot2'\n",
       "21. 'Formula'\n",
       "22. 'survival'\n",
       "23. 'lattice'\n",
       "24. 'data.table'\n",
       "25. 'stats'\n",
       "26. 'graphics'\n",
       "27. 'grDevices'\n",
       "28. 'utils'\n",
       "29. 'datasets'\n",
       "30. 'methods'\n",
       "31. 'base'\n",
       "\n",
       "\n",
       "\n",
       "\n",
       "\n"
      ],
      "text/plain": [
       "[[1]]\n",
       "[1] \"data.table\" \"stats\"      \"graphics\"   \"grDevices\"  \"utils\"     \n",
       "[6] \"datasets\"   \"methods\"    \"base\"      \n",
       "\n",
       "[[2]]\n",
       " [1] \"Hmisc\"      \"ggplot2\"    \"Formula\"    \"survival\"   \"lattice\"   \n",
       " [6] \"data.table\" \"stats\"      \"graphics\"   \"grDevices\"  \"utils\"     \n",
       "[11] \"datasets\"   \"methods\"    \"base\"      \n",
       "\n",
       "[[3]]\n",
       " [1] \"forcats\"    \"stringr\"    \"dplyr\"      \"purrr\"      \"readr\"     \n",
       " [6] \"tidyr\"      \"tibble\"     \"tidyverse\"  \"Hmisc\"      \"ggplot2\"   \n",
       "[11] \"Formula\"    \"survival\"   \"lattice\"    \"data.table\" \"stats\"     \n",
       "[16] \"graphics\"   \"grDevices\"  \"utils\"      \"datasets\"   \"methods\"   \n",
       "[21] \"base\"      \n",
       "\n",
       "[[4]]\n",
       " [1] \"GENESIS\"    \"forcats\"    \"stringr\"    \"dplyr\"      \"purrr\"     \n",
       " [6] \"readr\"      \"tidyr\"      \"tibble\"     \"tidyverse\"  \"Hmisc\"     \n",
       "[11] \"ggplot2\"    \"Formula\"    \"survival\"   \"lattice\"    \"data.table\"\n",
       "[16] \"stats\"      \"graphics\"   \"grDevices\"  \"utils\"      \"datasets\"  \n",
       "[21] \"methods\"    \"base\"      \n",
       "\n",
       "[[5]]\n",
       " [1] \"gdsfmt\"     \"GENESIS\"    \"forcats\"    \"stringr\"    \"dplyr\"     \n",
       " [6] \"purrr\"      \"readr\"      \"tidyr\"      \"tibble\"     \"tidyverse\" \n",
       "[11] \"Hmisc\"      \"ggplot2\"    \"Formula\"    \"survival\"   \"lattice\"   \n",
       "[16] \"data.table\" \"stats\"      \"graphics\"   \"grDevices\"  \"utils\"     \n",
       "[21] \"datasets\"   \"methods\"    \"base\"      \n",
       "\n",
       "[[6]]\n",
       " [1] \"SNPRelate\"  \"gdsfmt\"     \"GENESIS\"    \"forcats\"    \"stringr\"   \n",
       " [6] \"dplyr\"      \"purrr\"      \"readr\"      \"tidyr\"      \"tibble\"    \n",
       "[11] \"tidyverse\"  \"Hmisc\"      \"ggplot2\"    \"Formula\"    \"survival\"  \n",
       "[16] \"lattice\"    \"data.table\" \"stats\"      \"graphics\"   \"grDevices\" \n",
       "[21] \"utils\"      \"datasets\"   \"methods\"    \"base\"      \n",
       "\n",
       "[[7]]\n",
       " [1] \"bigparallelr\" \"foreach\"      \"SNPRelate\"    \"gdsfmt\"       \"GENESIS\"     \n",
       " [6] \"forcats\"      \"stringr\"      \"dplyr\"        \"purrr\"        \"readr\"       \n",
       "[11] \"tidyr\"        \"tibble\"       \"tidyverse\"    \"Hmisc\"        \"ggplot2\"     \n",
       "[16] \"Formula\"      \"survival\"     \"lattice\"      \"data.table\"   \"stats\"       \n",
       "[21] \"graphics\"     \"grDevices\"    \"utils\"        \"datasets\"     \"methods\"     \n",
       "[26] \"base\"        \n",
       "\n",
       "[[8]]\n",
       " [1] \"SeqArray\"     \"bigparallelr\" \"foreach\"      \"SNPRelate\"    \"gdsfmt\"      \n",
       " [6] \"GENESIS\"      \"forcats\"      \"stringr\"      \"dplyr\"        \"purrr\"       \n",
       "[11] \"readr\"        \"tidyr\"        \"tibble\"       \"tidyverse\"    \"Hmisc\"       \n",
       "[16] \"ggplot2\"      \"Formula\"      \"survival\"     \"lattice\"      \"data.table\"  \n",
       "[21] \"stats\"        \"graphics\"     \"grDevices\"    \"utils\"        \"datasets\"    \n",
       "[26] \"methods\"      \"base\"        \n",
       "\n",
       "[[9]]\n",
       " [1] \"SeqVarTools\"  \"SeqArray\"     \"bigparallelr\" \"foreach\"      \"SNPRelate\"   \n",
       " [6] \"gdsfmt\"       \"GENESIS\"      \"forcats\"      \"stringr\"      \"dplyr\"       \n",
       "[11] \"purrr\"        \"readr\"        \"tidyr\"        \"tibble\"       \"tidyverse\"   \n",
       "[16] \"Hmisc\"        \"ggplot2\"      \"Formula\"      \"survival\"     \"lattice\"     \n",
       "[21] \"data.table\"   \"stats\"        \"graphics\"     \"grDevices\"    \"utils\"       \n",
       "[26] \"datasets\"     \"methods\"      \"base\"        \n",
       "\n",
       "[[10]]\n",
       " [1] \"GWASTools\"    \"Biobase\"      \"BiocGenerics\" \"SeqVarTools\"  \"SeqArray\"    \n",
       " [6] \"bigparallelr\" \"foreach\"      \"SNPRelate\"    \"gdsfmt\"       \"GENESIS\"     \n",
       "[11] \"forcats\"      \"stringr\"      \"dplyr\"        \"purrr\"        \"readr\"       \n",
       "[16] \"tidyr\"        \"tibble\"       \"tidyverse\"    \"Hmisc\"        \"ggplot2\"     \n",
       "[21] \"Formula\"      \"survival\"     \"lattice\"      \"data.table\"   \"stats\"       \n",
       "[26] \"graphics\"     \"grDevices\"    \"utils\"        \"datasets\"     \"methods\"     \n",
       "[31] \"base\"        \n",
       "\n",
       "[[11]]\n",
       " [1] \"GWASTools\"    \"Biobase\"      \"BiocGenerics\" \"SeqVarTools\"  \"SeqArray\"    \n",
       " [6] \"bigparallelr\" \"foreach\"      \"SNPRelate\"    \"gdsfmt\"       \"GENESIS\"     \n",
       "[11] \"forcats\"      \"stringr\"      \"dplyr\"        \"purrr\"        \"readr\"       \n",
       "[16] \"tidyr\"        \"tibble\"       \"tidyverse\"    \"Hmisc\"        \"ggplot2\"     \n",
       "[21] \"Formula\"      \"survival\"     \"lattice\"      \"data.table\"   \"stats\"       \n",
       "[26] \"graphics\"     \"grDevices\"    \"utils\"        \"datasets\"     \"methods\"     \n",
       "[31] \"base\"        \n"
      ]
     },
     "metadata": {},
     "output_type": "display_data"
    }
   ],
   "source": [
    "my.packages <- c('data.table','Hmisc','tidyverse','GENESIS','gdsfmt','SNPRelate','bigparallelr','SeqArray',\n",
    "                 'SeqVarTools','GWASTools','ggplot2')\n",
    "lapply(my.packages,\n",
    "       function(pkg) { if(! pkg %in% installed.packages()) { install.packages(pkg)} } )\n",
    "lapply(my.packages,library,character.only = TRUE)"
   ]
  },
  {
   "cell_type": "code",
   "execution_count": 3,
   "metadata": {
    "hidden": true
   },
   "outputs": [
    {
     "data": {
      "text/plain": [
       "R version 4.2.2 Patched (2022-11-10 r83330)\n",
       "Platform: x86_64-pc-linux-gnu (64-bit)\n",
       "Running under: Ubuntu 20.04.3 LTS\n",
       "\n",
       "Matrix products: default\n",
       "BLAS:   /usr/lib/x86_64-linux-gnu/openblas-pthread/libblas.so.3\n",
       "LAPACK: /usr/lib/x86_64-linux-gnu/openblas-pthread/liblapack.so.3\n",
       "\n",
       "locale:\n",
       " [1] LC_CTYPE=en_US.UTF-8       LC_NUMERIC=C              \n",
       " [3] LC_TIME=en_US.UTF-8        LC_COLLATE=en_US.UTF-8    \n",
       " [5] LC_MONETARY=en_US.UTF-8    LC_MESSAGES=en_US.UTF-8   \n",
       " [7] LC_PAPER=en_US.UTF-8       LC_NAME=C                 \n",
       " [9] LC_ADDRESS=C               LC_TELEPHONE=C            \n",
       "[11] LC_MEASUREMENT=en_US.UTF-8 LC_IDENTIFICATION=C       \n",
       "\n",
       "attached base packages:\n",
       "[1] stats     graphics  grDevices utils     datasets  methods   base     \n",
       "\n",
       "other attached packages:\n",
       " [1] GWASTools_1.44.0    Biobase_2.58.0      BiocGenerics_0.44.0\n",
       " [4] SeqVarTools_1.36.0  SeqArray_1.38.0     bigparallelr_0.3.2 \n",
       " [7] foreach_1.5.2       SNPRelate_1.32.1    gdsfmt_1.34.0      \n",
       "[10] GENESIS_2.28.0      forcats_0.5.2       stringr_1.5.0      \n",
       "[13] dplyr_1.0.10        purrr_0.3.5         readr_2.1.3        \n",
       "[16] tidyr_1.2.1         tibble_3.1.8        tidyverse_1.3.2    \n",
       "[19] Hmisc_4.7-2         ggplot2_3.4.0       Formula_1.2-4      \n",
       "[22] survival_3.4-0      lattice_0.20-45     data.table_1.14.6  \n",
       "\n",
       "loaded via a namespace (and not attached):\n",
       "  [1] readxl_1.4.1           uuid_1.1-0             backports_1.4.1       \n",
       "  [4] repr_1.1.4             splines_4.2.2          operator.tools_1.6.3  \n",
       "  [7] BiocParallel_1.32.4    GenomeInfoDb_1.34.4    digest_0.6.30         \n",
       " [10] htmltools_0.5.4        fansi_1.0.3            magrittr_2.0.3        \n",
       " [13] checkmate_2.1.0        memoise_2.0.1          doParallel_1.0.17     \n",
       " [16] googlesheets4_1.0.1    cluster_2.1.4          bigassertr_0.1.6      \n",
       " [19] tzdb_0.3.0             Biostrings_2.66.0      modelr_0.1.10         \n",
       " [22] formula.tools_1.7.1    sandwich_3.0-2         timechange_0.1.1      \n",
       " [25] jpeg_0.1-10            colorspace_2.0-3       blob_1.2.3            \n",
       " [28] rvest_1.0.3            haven_2.5.1            xfun_0.35             \n",
       " [31] crayon_1.5.2           RCurl_1.98-1.9         jsonlite_1.8.4        \n",
       " [34] flock_0.7              zoo_1.8-11             iterators_1.0.14      \n",
       " [37] glue_1.6.2             gtable_0.3.1           gargle_1.2.1          \n",
       " [40] zlibbioc_1.44.0        XVector_0.38.0         MatrixModels_0.5-1    \n",
       " [43] SparseM_1.81           scales_1.2.1           DBI_1.1.3             \n",
       " [46] Rcpp_1.0.9             htmlTable_2.4.1        quantsmooth_1.64.0    \n",
       " [49] foreign_0.8-84         bit_4.0.5              stats4_4.2.2          \n",
       " [52] htmlwidgets_1.5.4      httr_1.4.4             logistf_1.24.1        \n",
       " [55] RColorBrewer_1.1-3     ellipsis_0.3.2         mice_3.15.0           \n",
       " [58] pkgconfig_2.0.3        nnet_7.3-18            dbplyr_2.2.1          \n",
       " [61] deldir_1.0-6           utf8_1.2.2             DNAcopy_1.72.2        \n",
       " [64] tidyselect_1.2.0       rlang_1.0.6            munsell_0.5.0         \n",
       " [67] cellranger_1.1.0       tools_4.2.2            cachem_1.0.6          \n",
       " [70] cli_3.4.1              generics_0.1.3         RSQLite_2.2.19        \n",
       " [73] broom_1.0.1            evaluate_0.18          fastmap_1.1.0         \n",
       " [76] knitr_1.41             bit64_4.0.5            fs_1.5.2              \n",
       " [79] nlme_3.1-160           GWASExactHW_1.01       quantreg_5.94         \n",
       " [82] xml2_1.3.3             compiler_4.2.2         rstudioapi_0.14       \n",
       " [85] png_0.1-8              reprex_2.0.2           stringi_1.7.8         \n",
       " [88] IRdisplay_1.1          Matrix_1.5-3           vctrs_0.5.1           \n",
       " [91] pillar_1.8.1           lifecycle_1.0.3        lmtest_0.9-40         \n",
       " [94] bitops_1.0-7           GenomicRanges_1.50.1   R6_2.5.1              \n",
       " [97] latticeExtra_0.6-30    gridExtra_2.3          IRanges_2.32.0        \n",
       "[100] codetools_0.2-18       MASS_7.3-58.1          assertthat_0.2.1      \n",
       "[103] withr_2.5.0            S4Vectors_0.36.1       GenomeInfoDbData_1.2.9\n",
       "[106] mgcv_1.8-41            parallel_4.2.2         hms_1.1.2             \n",
       "[109] grid_4.2.2             rpart_4.1.19           IRkernel_1.3.1        \n",
       "[112] googledrive_2.0.0      pbdZMQ_0.3-8           lubridate_1.9.0       \n",
       "[115] base64enc_0.1-3        interp_1.1-3          "
      ]
     },
     "metadata": {},
     "output_type": "display_data"
    }
   ],
   "source": [
    "sessionInfo()"
   ]
  },
  {
   "cell_type": "code",
   "execution_count": 4,
   "metadata": {
    "hidden": true
   },
   "outputs": [
    {
     "data": {
      "text/html": [
       "63"
      ],
      "text/latex": [
       "63"
      ],
      "text/markdown": [
       "63"
      ],
      "text/plain": [
       "[1] 63"
      ]
     },
     "metadata": {},
     "output_type": "display_data"
    }
   ],
   "source": [
    "(num.threads <- nb_cores())"
   ]
  },
  {
   "cell_type": "markdown",
   "metadata": {},
   "source": [
    "# Read in reference data "
   ]
  },
  {
   "cell_type": "code",
   "execution_count": 5,
   "metadata": {},
   "outputs": [
    {
     "data": {
      "text/html": [],
      "text/latex": [],
      "text/markdown": [],
      "text/plain": [
       "character(0)"
      ]
     },
     "metadata": {},
     "output_type": "display_data"
    }
   ],
   "source": [
    "# read in the file with the original population information \n",
    "#(which also contains the DRC generated PCs based on chrs 20 and 21)\n",
    "infile <- \"ref-pcs-clean.csv\"\n",
    "#cp.command <- paste0(\"gsutil -m cp -r gs://fc-secure-30fdbdfd-a46b-406d-9617-1bc69ae1da9d/reference/data/\",infile,\" .\")\n",
    "cp.command <- paste0(\"gsutil -m cp -r gs://fc-secure-91b7b957-58d8-4142-b93b-c3a2635f2d78/reference/data/\",infile,\" .\")\n",
    "system(cp.command, intern=TRUE)"
   ]
  },
  {
   "cell_type": "code",
   "execution_count": 6,
   "metadata": {},
   "outputs": [
    {
     "name": "stdout",
     "output_type": "stream",
     "text": [
      "Classes ‘data.table’ and 'data.frame':\t3942 obs. of  19 variables:\n",
      " $ ID                      : chr  \"HG00096\" \"HG00097\" \"HG00099\" \"HG00100\" ...\n",
      " $ population_inference.pop: chr  \"nfe\" \"nfe\" \"nfe\" \"nfe\" ...\n",
      " $ pop_label               : chr  \"eur\" \"eur\" \"eur\" \"eur\" ...\n",
      " $ PC1                     : num  0.098 0.0957 0.0989 0.099 0.0937 ...\n",
      " $ PC2                     : num  0.137 0.145 0.129 0.139 0.146 ...\n",
      " $ PC3                     : num  0.01181 0.00901 0.01276 0.01705 0.0106 ...\n",
      " $ PC4                     : num  -0.0554 -0.0688 -0.0557 -0.0637 -0.0653 ...\n",
      " $ PC5                     : num  -0.0425 -0.052 -0.0655 -0.0326 -0.0581 ...\n",
      " $ PC6                     : num  -0.001167 0.003567 0.006461 -0.000644 -0.009689 ...\n",
      " $ PC7                     : num  -0.0173 -0.0135 -0.0145 -0.0075 -0.0201 ...\n",
      " $ PC8                     : num  0.00368 -0.01296 0.00621 -0.00776 0.04205 ...\n",
      " $ PC9                     : num  0.03164 0.0339 -0.00876 0.04579 0.02895 ...\n",
      " $ PC10                    : num  0.01252 0.00358 -0.00271 0.01868 -0.01164 ...\n",
      " $ PC11                    : num  0.0187 0.0192 0.0108 0.037 0.0286 ...\n",
      " $ PC12                    : num  -0.00438 -0.00456 -0.01277 -0.05782 -0.00525 ...\n",
      " $ PC13                    : num  0.01348 -0.00988 0.00896 0.02361 0.04898 ...\n",
      " $ PC14                    : num  -0.02414 -0.00116 0.00244 0.0217 -0.01783 ...\n",
      " $ PC15                    : num  -0.01763 0.00479 0.00141 0.00283 -0.00442 ...\n",
      " $ PC16                    : num  -0.01956 -0.00197 0.00633 0.02487 0.01248 ...\n",
      " - attr(*, \".internal.selfref\")=<externalptr> \n"
     ]
    }
   ],
   "source": [
    "ref.pcs.dt <- fread(infile)\n",
    "str(ref.pcs.dt)"
   ]
  },
  {
   "cell_type": "code",
   "execution_count": 7,
   "metadata": {},
   "outputs": [],
   "source": [
    "# load the plink file data (All PLINK files were not copied over from the preproduction workspace)\n",
    "cp.command <- \"gsutil -m cp -r gs://fc-secure-30fdbdfd-a46b-406d-9617-1bc69ae1da9d/data/PCSNPS/all_combined_PCSNPS_final_ref.* .\"\n",
    "system(cp.command)\n"
   ]
  },
  {
   "cell_type": "code",
   "execution_count": 8,
   "metadata": {},
   "outputs": [],
   "source": [
    "bed.fn <- \"all_combined_PCSNPS_final_ref.bed\"\n",
    "fam.fn <- \"all_combined_PCSNPS_final_ref.fam\"\n",
    "bim.fn <- \"all_combined_PCSNPS_final_ref.bim\""
   ]
  },
  {
   "cell_type": "code",
   "execution_count": 9,
   "metadata": {},
   "outputs": [
    {
     "name": "stdout",
     "output_type": "stream",
     "text": [
      "Start file conversion from PLINK BED to SNP GDS ...\n",
      "    BED file: 'all_combined_PCSNPS_final_ref.bed'\n",
      "        SNP-major mode (Sample X SNP), 297.4M\n",
      "    FAM file: 'all_combined_PCSNPS_final_ref.fam'\n",
      "    BIM file: 'all_combined_PCSNPS_final_ref.bim'\n",
      "Fri Feb 10 16:42:16 2023     (store sample id, snp id, position, and chromosome)\n",
      "    start writing: 4151 samples, 300387 SNPs ...\n",
      "[==================================================] 100%, completed, 3s  \n",
      "Fri Feb 10 16:42:22 2023 \tDone.\n",
      "Optimize the access efficiency ...\n",
      "Clean up the fragments of GDS file:\n",
      "    open the file 'ref-pcsnps.gds' (299.0M)\n",
      "    # of fragments: 39\n",
      "    save to 'ref-pcsnps.gds.tmp'\n",
      "    rename 'ref-pcsnps.gds.tmp' (299.0M, reduced: 252B)\n",
      "    # of fragments: 18\n",
      "The file name: /home/jupyter/workspaces/crcprsanalysisinteractivenotebooks/ref-pcsnps.gds \n",
      "The total number of samples: 4151 \n",
      "The total number of SNPs: 300387 \n",
      "SNP genotypes are stored in SNP-major mode (Sample X SNP).\n"
     ]
    }
   ],
   "source": [
    "# create the gds file\n",
    "snpgdsBED2GDS(bed.fn, fam.fn, bim.fn, \"ref-pcsnps.gds\")\n",
    "snpgdsSummary(\"ref-pcsnps.gds\")"
   ]
  },
  {
   "cell_type": "markdown",
   "metadata": {},
   "source": [
    "# Check for relatives in reference data. Do not need to repeat if saved the output"
   ]
  },
  {
   "cell_type": "code",
   "execution_count": 10,
   "metadata": {},
   "outputs": [],
   "source": [
    "genofile <- snpgdsOpen(\"ref-pcsnps.gds\")"
   ]
  },
  {
   "cell_type": "code",
   "execution_count": 11,
   "metadata": {},
   "outputs": [
    {
     "name": "stdout",
     "output_type": "stream",
     "text": [
      "IBD analysis (KING method of moment) on genotypes:\n",
      "Excluding 0 SNP on non-autosomes\n",
      "Excluding 0 SNP (monomorphic: TRUE, MAF: NaN, missing rate: NaN)\n",
      "    # of samples: 4,151\n",
      "    # of SNPs: 300,387\n",
      "    using 63 threads\n",
      "No family is specified, and all individuals are treated as singletons.\n",
      "Relationship inference in the presence of population stratification.\n",
      "KING IBD:    the sum of all selected genotypes (0,1,2) = 303551849\n",
      "CPU capabilities: Double-Precision SSE2\n",
      "Fri Feb 10 16:42:57 2023    (internal increment: 45184)\n",
      "[==================================================] 100%, completed, 24s \n",
      "Fri Feb 10 16:43:22 2023    Done.\n",
      "List of 5\n",
      " $ sample.id: chr [1:4151] \"CHMI_CHMI3_WGS2\" \"HG00096\" \"HG00097\" \"HG00099\" ...\n",
      " $ snp.id   : chr [1:300387] \"chr1:819049:T:G\" \"chr1:833994:G:A\" \"chr1:838618\"..\n",
      " $ afreq    : NULL\n",
      " $ IBS0     : num [1:4151, 1:4151] 0 0.0272 0.0265 0.0267 0.0267 ...\n",
      " $ kinship  : num [1:4151, 1:4151] 0.5 -0.00642 -0.00289 -0.00299 -0.0052 ...\n",
      " - attr(*, \"class\")= chr \"snpgdsIBDClass\"\n"
     ]
    }
   ],
   "source": [
    "# need to check for related participants to remove bias\n",
    "king <- snpgdsIBDKING(genofile, num.thread=num.threads)\n",
    "str(king, max.level = 2, strict.width = \"cut\")"
   ]
  },
  {
   "cell_type": "code",
   "execution_count": 12,
   "metadata": {},
   "outputs": [],
   "source": [
    "kingMat <- king$kinship\n",
    "colnames(kingMat) <- rownames(kingMat) <- king$sample.id"
   ]
  },
  {
   "cell_type": "code",
   "execution_count": 13,
   "metadata": {},
   "outputs": [
    {
     "name": "stderr",
     "output_type": "stream",
     "text": [
      "Using kinobj and divobj to partition samples into unrelated and related sets\n",
      "\n",
      "Working with 4151 samples\n",
      "\n",
      "Identifying relatives for each sample using kinship threshold 0.0441941738241592\n",
      "\n",
      "Identifying pairs of divergent samples using divergence threshold -0.0441941738241592\n",
      "\n",
      "Partitioning samples into unrelated and related sets...\n",
      "\n"
     ]
    },
    {
     "data": {
      "text/html": [
       "<style>\n",
       ".dl-inline {width: auto; margin:0; padding: 0}\n",
       ".dl-inline>dt, .dl-inline>dd {float: none; width: auto; display: inline-block}\n",
       ".dl-inline>dt::after {content: \":\\0020\"; padding-right: .5ex}\n",
       ".dl-inline>dt:not(:first-of-type) {padding-left: .5ex}\n",
       "</style><dl class=dl-inline><dt>rels</dt><dd>711</dd><dt>unrels</dt><dd>3440</dd></dl>\n"
      ],
      "text/latex": [
       "\\begin{description*}\n",
       "\\item[rels] 711\n",
       "\\item[unrels] 3440\n",
       "\\end{description*}\n"
      ],
      "text/markdown": [
       "rels\n",
       ":   711unrels\n",
       ":   3440\n",
       "\n"
      ],
      "text/plain": [
       "  rels unrels \n",
       "   711   3440 "
      ]
     },
     "metadata": {},
     "output_type": "display_data"
    }
   ],
   "source": [
    "sampset1 <- pcairPartition(kinobj=kingMat, kin.thresh=2^(-9/2),\n",
    "                          divobj=kingMat, div.thresh=-2^(-9/2))\n",
    "sapply(sampset1, length)"
   ]
  },
  {
   "cell_type": "code",
   "execution_count": 14,
   "metadata": {},
   "outputs": [],
   "source": [
    "snpgdsClose(genofile)"
   ]
  },
  {
   "cell_type": "code",
   "execution_count": 15,
   "metadata": {},
   "outputs": [
    {
     "data": {
      "text/html": [
       "'gsutil -m cp -r ref-sampset.RData gs://fc-secure-30fdbdfd-a46b-406d-9617-1bc69ae1da9d/data/PCSNPS/'"
      ],
      "text/latex": [
       "'gsutil -m cp -r ref-sampset.RData gs://fc-secure-30fdbdfd-a46b-406d-9617-1bc69ae1da9d/data/PCSNPS/'"
      ],
      "text/markdown": [
       "'gsutil -m cp -r ref-sampset.RData gs://fc-secure-30fdbdfd-a46b-406d-9617-1bc69ae1da9d/data/PCSNPS/'"
      ],
      "text/plain": [
       "[1] \"gsutil -m cp -r ref-sampset.RData gs://fc-secure-30fdbdfd-a46b-406d-9617-1bc69ae1da9d/data/PCSNPS/\""
      ]
     },
     "metadata": {},
     "output_type": "display_data"
    }
   ],
   "source": [
    "# save so that I don't have to repeat the unrelated analysis\n",
    "outfile <- \"ref-sampset.RData\"\n",
    "save(sampset1, file=outfile)\n",
    "(cp.command <- paste0(\"gsutil -m cp -r \", outfile,\" gs://fc-secure-30fdbdfd-a46b-406d-9617-1bc69ae1da9d/data/PCSNPS/\"))\n",
    "system(cp.command)"
   ]
  },
  {
   "cell_type": "markdown",
   "metadata": {},
   "source": [
    "# Load in the list of related and unrelated reference participants. run this if already saved from previous step"
   ]
  },
  {
   "cell_type": "code",
   "execution_count": 12,
   "metadata": {},
   "outputs": [
    {
     "name": "stderr",
     "output_type": "stream",
     "text": [
      "Warning message in system(cp.command, intern = TRUE):\n",
      "“running command 'gsutil -m cp -r gs://fc-secure-30fdbdfd-a46b-406d-9617-1bc69ae1da9d/reference/data/PCSNPSref-sampset.Rdata .' had status 1”\n"
     ]
    },
    {
     "data": {
      "text/html": [],
      "text/latex": [],
      "text/markdown": [],
      "text/plain": [
       "character(0)\n",
       "attr(,\"status\")\n",
       "[1] 1\n",
       "attr(,\"errmsg\")\n",
       "[1] \"Resource temporarily unavailable\""
      ]
     },
     "metadata": {},
     "output_type": "display_data"
    }
   ],
   "source": [
    "infile <- \"ref-sampset.RData\"\n",
    "cp.command <- paste0(\"gsutil -m cp -r gs://fc-secure-30fdbdfd-a46b-406d-9617-1bc69ae1da9d/reference/data/PCSNPS\",infile,\" .\")\n",
    "system(cp.command, intern=TRUE)\n",
    "load(infile)"
   ]
  },
  {
   "cell_type": "code",
   "execution_count": 13,
   "metadata": {},
   "outputs": [
    {
     "data": {
      "text/html": [
       "<style>\n",
       ".dl-inline {width: auto; margin:0; padding: 0}\n",
       ".dl-inline>dt, .dl-inline>dd {float: none; width: auto; display: inline-block}\n",
       ".dl-inline>dt::after {content: \":\\0020\"; padding-right: .5ex}\n",
       ".dl-inline>dt:not(:first-of-type) {padding-left: .5ex}\n",
       "</style><dl class=dl-inline><dt>rels</dt><dd>711</dd><dt>unrels</dt><dd>3440</dd></dl>\n"
      ],
      "text/latex": [
       "\\begin{description*}\n",
       "\\item[rels] 711\n",
       "\\item[unrels] 3440\n",
       "\\end{description*}\n"
      ],
      "text/markdown": [
       "rels\n",
       ":   711unrels\n",
       ":   3440\n",
       "\n"
      ],
      "text/plain": [
       "  rels unrels \n",
       "   711   3440 "
      ]
     },
     "metadata": {},
     "output_type": "display_data"
    }
   ],
   "source": [
    "sapply(sampset1, length)"
   ]
  },
  {
   "cell_type": "markdown",
   "metadata": {},
   "source": [
    "# Estimate Admixture in each of the AoU subsets "
   ]
  },
  {
   "cell_type": "code",
   "execution_count": 16,
   "metadata": {},
   "outputs": [
    {
     "data": {
      "text/plain": [
       "ref.pcs.dt$pop_label \n",
       "       n  missing distinct \n",
       "    3942        0        7 \n",
       "\n",
       "lowest : afr amr eas eur mid, highest: eas eur mid oth sas\n",
       "                                                    \n",
       "Value        afr   amr   eas   eur   mid   oth   sas\n",
       "Frequency    896   541   801   767   126    47   764\n",
       "Proportion 0.227 0.137 0.203 0.195 0.032 0.012 0.194"
      ]
     },
     "metadata": {},
     "output_type": "display_data"
    }
   ],
   "source": [
    "describe(ref.pcs.dt$pop_label)"
   ]
  },
  {
   "cell_type": "code",
   "execution_count": 17,
   "metadata": {},
   "outputs": [],
   "source": [
    "# define the population groups that we will use\n",
    "groups <- list(AFR = ref.pcs.dt$ID[ref.pcs.dt$pop_label == \"afr\" & ref.pcs.dt$ID %in% sampset1$unrels],\n",
    "               AMR = ref.pcs.dt$ID[ref.pcs.dt$pop_label == \"amr\" & ref.pcs.dt$ID %in% sampset1$unrels],\n",
    "               EAS = ref.pcs.dt$ID[ref.pcs.dt$pop_label == \"eas\" & ref.pcs.dt$ID %in% sampset1$unrels],\n",
    "               EUR = ref.pcs.dt$ID[ref.pcs.dt$pop_label == \"eur\" & ref.pcs.dt$ID %in% sampset1$unrels],\n",
    "               MID = ref.pcs.dt$ID[ref.pcs.dt$pop_label == \"mid\" & ref.pcs.dt$ID %in% sampset1$unrels],\n",
    "               #OTH = ref.pcs.dt$ID[ref.pcs.dt$pop_label == \"oth\" & ref.pcs.dt$ID %in% sampset1$unrels],\n",
    "               SAS = ref.pcs.dt$ID[ref.pcs.dt$pop_label == \"sas\" & ref.pcs.dt$ID %in% sampset1$unrels])\n",
    "\n",
    "#Including the oth group messes up with the ancestry assignm"
   ]
  },
  {
   "cell_type": "code",
   "execution_count": 18,
   "metadata": {},
   "outputs": [
    {
     "data": {
      "text/html": [
       "<style>\n",
       ".dl-inline {width: auto; margin:0; padding: 0}\n",
       ".dl-inline>dt, .dl-inline>dd {float: none; width: auto; display: inline-block}\n",
       ".dl-inline>dt::after {content: \":\\0020\"; padding-right: .5ex}\n",
       ".dl-inline>dt:not(:first-of-type) {padding-left: .5ex}\n",
       "</style><dl class=dl-inline><dt>AFR</dt><dd>648</dd><dt>AMR</dt><dd>371</dd><dt>EAS</dt><dd>703</dd><dt>EUR</dt><dd>655</dd><dt>MID</dt><dd>118</dd><dt>SAS</dt><dd>651</dd></dl>\n"
      ],
      "text/latex": [
       "\\begin{description*}\n",
       "\\item[AFR] 648\n",
       "\\item[AMR] 371\n",
       "\\item[EAS] 703\n",
       "\\item[EUR] 655\n",
       "\\item[MID] 118\n",
       "\\item[SAS] 651\n",
       "\\end{description*}\n"
      ],
      "text/markdown": [
       "AFR\n",
       ":   648AMR\n",
       ":   371EAS\n",
       ":   703EUR\n",
       ":   655MID\n",
       ":   118SAS\n",
       ":   651\n",
       "\n"
      ],
      "text/plain": [
       "AFR AMR EAS EUR MID SAS \n",
       "648 371 703 655 118 651 "
      ]
     },
     "metadata": {},
     "output_type": "display_data"
    }
   ],
   "source": [
    "sapply(groups,length)"
   ]
  },
  {
   "cell_type": "code",
   "execution_count": 17,
   "metadata": {},
   "outputs": [
    {
     "data": {
      "text/html": [
       "'all_combined_PCSNPS_final_aou00'"
      ],
      "text/latex": [
       "'all\\_combined\\_PCSNPS\\_final\\_aou00'"
      ],
      "text/markdown": [
       "'all_combined_PCSNPS_final_aou00'"
      ],
      "text/plain": [
       "[1] \"all_combined_PCSNPS_final_aou00\""
      ]
     },
     "metadata": {},
     "output_type": "display_data"
    },
    {
     "data": {
      "text/html": [
       "'gsutil -m cp -r gs://fc-secure-30fdbdfd-a46b-406d-9617-1bc69ae1da9d/data/PCSNPS/all_combined_PCSNPS_final_aou00.* .'"
      ],
      "text/latex": [
       "'gsutil -m cp -r gs://fc-secure-30fdbdfd-a46b-406d-9617-1bc69ae1da9d/data/PCSNPS/all\\_combined\\_PCSNPS\\_final\\_aou00.* .'"
      ],
      "text/markdown": [
       "'gsutil -m cp -r gs://fc-secure-30fdbdfd-a46b-406d-9617-1bc69ae1da9d/data/PCSNPS/all_combined_PCSNPS_final_aou00.* .'"
      ],
      "text/plain": [
       "[1] \"gsutil -m cp -r gs://fc-secure-30fdbdfd-a46b-406d-9617-1bc69ae1da9d/data/PCSNPS/all_combined_PCSNPS_final_aou00.* .\""
      ]
     },
     "metadata": {},
     "output_type": "display_data"
    },
    {
     "data": {
      "text/html": [
       "'all_combined_PCSNPS_final_aou00.bed'"
      ],
      "text/latex": [
       "'all\\_combined\\_PCSNPS\\_final\\_aou00.bed'"
      ],
      "text/markdown": [
       "'all_combined_PCSNPS_final_aou00.bed'"
      ],
      "text/plain": [
       "[1] \"all_combined_PCSNPS_final_aou00.bed\""
      ]
     },
     "metadata": {},
     "output_type": "display_data"
    },
    {
     "data": {
      "text/html": [
       "'all_combined_PCSNPS_final_aou00.fam'"
      ],
      "text/latex": [
       "'all\\_combined\\_PCSNPS\\_final\\_aou00.fam'"
      ],
      "text/markdown": [
       "'all_combined_PCSNPS_final_aou00.fam'"
      ],
      "text/plain": [
       "[1] \"all_combined_PCSNPS_final_aou00.fam\""
      ]
     },
     "metadata": {},
     "output_type": "display_data"
    },
    {
     "data": {
      "text/html": [
       "'all_combined_PCSNPS_final_aou00.bim'"
      ],
      "text/latex": [
       "'all\\_combined\\_PCSNPS\\_final\\_aou00.bim'"
      ],
      "text/markdown": [
       "'all_combined_PCSNPS_final_aou00.bim'"
      ],
      "text/plain": [
       "[1] \"all_combined_PCSNPS_final_aou00.bim\""
      ]
     },
     "metadata": {},
     "output_type": "display_data"
    },
    {
     "name": "stdout",
     "output_type": "stream",
     "text": [
      "Start file conversion from PLINK BED to SNP GDS ...\n",
      "    BED file: 'all_combined_PCSNPS_final_aou00.bed'\n",
      "        SNP-major mode (Sample X SNP), 706.4M\n",
      "    FAM file: 'all_combined_PCSNPS_final_aou00.fam'\n",
      "    BIM file: 'all_combined_PCSNPS_final_aou00.bim'\n",
      "Thu Feb  9 19:11:05 2023     (store sample id, snp id, position, and chromosome)\n",
      "    start writing: 9863 samples, 300387 SNPs ...\n",
      "[==================================================] 100%, completed, 5s  \n",
      "Thu Feb  9 19:11:15 2023 \tDone.\n",
      "Optimize the access efficiency ...\n",
      "Clean up the fragments of GDS file:\n",
      "    open the file 'aou-pcsnps.gds' (708.1M)\n",
      "    # of fragments: 39\n",
      "    save to 'aou-pcsnps.gds.tmp'\n",
      "    rename 'aou-pcsnps.gds.tmp' (708.1M, reduced: 252B)\n",
      "    # of fragments: 18\n",
      "The file name: /home/jupyter/workspaces/crcprsanalysisinteractivenotebooks/aou-pcsnps.gds \n",
      "The total number of samples: 9863 \n",
      "The total number of SNPs: 300387 \n",
      "SNP genotypes are stored in SNP-major mode (Sample X SNP).\n",
      "Merge SNP GDS files:\n",
      "    open 'ref-pcsnps.gds' ...\n",
      "        4151 samples, 300387 SNPs\n",
      "    open 'aou-pcsnps.gds' ...\n",
      "        9863 samples, 300387 SNPs\n",
      "Concatenating samples (mapping to the first GDS file) ...\n",
      "    reference: 300387 SNPs (100.0%)\n",
      "    file 2: 7621 allele flips, 145044 ambiguous locus/loci\n",
      "        [no flip]: 256505\n",
      "        [flip]: 7621\n",
      "        [no flip / ambiguous strand]: 36261\n",
      "    create 'merge.gds': 14014 samples, 300387 SNPs\n",
      "    FileFormat = SNP_ARRAY\n",
      "    writing genotypes ...\n",
      "Clean up the fragments of GDS file:\n",
      "    open the file 'merge.gds' (418.3M)\n",
      "    # of fragments: 29\n",
      "    save to 'merge.gds.tmp'\n",
      "    rename 'merge.gds.tmp' (418.3M, reduced: 192B)\n",
      "    # of fragments: 13\n",
      "Done.\n",
      "Eigen-analysis on genotypes:\n",
      "Excluding 0 SNP on non-autosomes\n",
      "Excluding 0 SNP (monomorphic: TRUE, MAF: NaN, missing rate: NaN)\n",
      "    # of samples: 13,303\n",
      "    # of SNPs: 300,387\n",
      "    using 63 threads\n",
      "Eigen-analysis:    the sum of all selected genotypes (0,1,2) = 977465451\n",
      "CPU capabilities: Double-Precision SSE2\n",
      "Thu Feb  9 19:18:34 2023    (internal increment: 440)\n",
      "[==================================================] 100%, completed, 10.7m\n",
      "Thu Feb  9 19:29:15 2023    Begin (eigenvalues and eigenvectors)\n",
      "Thu Feb  9 19:44:59 2023    Done.\n"
     ]
    },
    {
     "data": {
      "text/html": [
       "'admixture_aou00.csv'"
      ],
      "text/latex": [
       "'admixture\\_aou00.csv'"
      ],
      "text/markdown": [
       "'admixture_aou00.csv'"
      ],
      "text/plain": [
       "[1] \"admixture_aou00.csv\""
      ]
     },
     "metadata": {},
     "output_type": "display_data"
    },
    {
     "data": {
      "text/html": [
       "'gsutil -m cp -r admixture_aou00.csv gs://fc-secure-30fdbdfd-a46b-406d-9617-1bc69ae1da9d/data/PCSNPS/'"
      ],
      "text/latex": [
       "'gsutil -m cp -r admixture\\_aou00.csv gs://fc-secure-30fdbdfd-a46b-406d-9617-1bc69ae1da9d/data/PCSNPS/'"
      ],
      "text/markdown": [
       "'gsutil -m cp -r admixture_aou00.csv gs://fc-secure-30fdbdfd-a46b-406d-9617-1bc69ae1da9d/data/PCSNPS/'"
      ],
      "text/plain": [
       "[1] \"gsutil -m cp -r admixture_aou00.csv gs://fc-secure-30fdbdfd-a46b-406d-9617-1bc69ae1da9d/data/PCSNPS/\""
      ]
     },
     "metadata": {},
     "output_type": "display_data"
    }
   ],
   "source": [
    "# for loop applied to all of the AoU PLINK files\n",
    "i<- 0\n",
    "#for(i in 0:9)\n",
    "#{\n",
    "    # Get the AoU file \n",
    "    (infile <- paste0(\"all_combined_PCSNPS_final_aou0\",i))\n",
    "    (cp.command <- paste0(\"gsutil -m cp -r gs://fc-secure-30fdbdfd-a46b-406d-9617-1bc69ae1da9d/data/PCSNPS/\",infile,\".* .\"))\n",
    "    system(cp.command)\n",
    "    \n",
    "    #set up for the GDS\n",
    "    (bed.aou.fn <- paste0(\"all_combined_PCSNPS_final_aou0\",i,\".bed\"))\n",
    "    (fam.aou.fn <- paste0(\"all_combined_PCSNPS_final_aou0\",i,\".fam\"))\n",
    "    (bim.aou.fn <- paste0(\"all_combined_PCSNPS_final_aou0\",i,\".bim\"))\n",
    "    snpgdsBED2GDS(bed.aou.fn, fam.aou.fn, bim.aou.fn, \"aou-pcsnps.gds\")\n",
    "    aou.ids <- snpgdsSummary(\"aou-pcsnps.gds\")$sample.id\n",
    "    \n",
    "    #combined the AoU GDS with the referene GDS \n",
    "    snpgdsCombineGeno(c(\"ref-pcsnps.gds\",\"aou-pcsnps.gds\"), \"merge.gds\") #takes about 7 minutes\n",
    "    genofile <- snpgdsOpen(\"merge.gds\")\n",
    "    \n",
    "    # Run Eigen analysis\n",
    "    eigen.aou <- snpgdsEIGMIX(genofile, sample.id=c(sampset1$unrels,aou.ids), num.thread=num.threads,eigen.cnt=32L, \n",
    "             diagadj=TRUE, ibdmat=FALSE, verbose=TRUE)\n",
    "    \n",
    "    #Get the Admixture estimates\n",
    "    prop.ref <- snpgdsAdmixProp(eigen.aou, groups=groups, bound=TRUE)\n",
    "    \n",
    "    #Subset to just the AoU participants\n",
    "    prop.dt <- data.table(prop.ref)\n",
    "    prop.dt[,ID:=rownames(prop.ref)]\n",
    "    prop.aou.dt <- prop.dt[][prop.dt$ID %in% aou.ids]\n",
    "    \n",
    "    #close the connection to the AoU data\n",
    "    snpgdsClose(genofile)\n",
    "    \n",
    "    #output to a file for this set\n",
    "    ################\n",
    "    (outfile <- paste0(\"admixture_aou0\",i,\".csv\"))\n",
    "    write.csv(prop.aou.dt, outfile,quote=FALSE, row.names=FALSE)\n",
    "    \n",
    "    #(cp.command <- paste0(\"gsutil -m cp -r \", outfile,\" gs://fc-secure-30fdbdfd-a46b-406d-9617-1bc69ae1da9d/data/PCSNPS/\"))\n",
    "    (cp.command <- paste0(\"gsutil -m cp -r \", outfile,\" gs://fc-secure-91b7b957-58d8-4142-b93b-c3a2635f2d78/data/PCSNPS/\"))\n",
    "    system(cp.command)\n",
    "   \n",
    "#}"
   ]
  },
  {
   "cell_type": "code",
   "execution_count": 19,
   "metadata": {},
   "outputs": [
    {
     "data": {
      "text/html": [
       "'all_combined_PCSNPS_final_aou01'"
      ],
      "text/latex": [
       "'all\\_combined\\_PCSNPS\\_final\\_aou01'"
      ],
      "text/markdown": [
       "'all_combined_PCSNPS_final_aou01'"
      ],
      "text/plain": [
       "[1] \"all_combined_PCSNPS_final_aou01\""
      ]
     },
     "metadata": {},
     "output_type": "display_data"
    },
    {
     "data": {
      "text/html": [
       "'gsutil -m cp -r gs://fc-secure-30fdbdfd-a46b-406d-9617-1bc69ae1da9d/data/PCSNPS/all_combined_PCSNPS_final_aou01.* .'"
      ],
      "text/latex": [
       "'gsutil -m cp -r gs://fc-secure-30fdbdfd-a46b-406d-9617-1bc69ae1da9d/data/PCSNPS/all\\_combined\\_PCSNPS\\_final\\_aou01.* .'"
      ],
      "text/markdown": [
       "'gsutil -m cp -r gs://fc-secure-30fdbdfd-a46b-406d-9617-1bc69ae1da9d/data/PCSNPS/all_combined_PCSNPS_final_aou01.* .'"
      ],
      "text/plain": [
       "[1] \"gsutil -m cp -r gs://fc-secure-30fdbdfd-a46b-406d-9617-1bc69ae1da9d/data/PCSNPS/all_combined_PCSNPS_final_aou01.* .\""
      ]
     },
     "metadata": {},
     "output_type": "display_data"
    },
    {
     "data": {
      "text/html": [
       "'all_combined_PCSNPS_final_aou01.bed'"
      ],
      "text/latex": [
       "'all\\_combined\\_PCSNPS\\_final\\_aou01.bed'"
      ],
      "text/markdown": [
       "'all_combined_PCSNPS_final_aou01.bed'"
      ],
      "text/plain": [
       "[1] \"all_combined_PCSNPS_final_aou01.bed\""
      ]
     },
     "metadata": {},
     "output_type": "display_data"
    },
    {
     "data": {
      "text/html": [
       "'all_combined_PCSNPS_final_aou01.fam'"
      ],
      "text/latex": [
       "'all\\_combined\\_PCSNPS\\_final\\_aou01.fam'"
      ],
      "text/markdown": [
       "'all_combined_PCSNPS_final_aou01.fam'"
      ],
      "text/plain": [
       "[1] \"all_combined_PCSNPS_final_aou01.fam\""
      ]
     },
     "metadata": {},
     "output_type": "display_data"
    },
    {
     "data": {
      "text/html": [
       "'all_combined_PCSNPS_final_aou01.bim'"
      ],
      "text/latex": [
       "'all\\_combined\\_PCSNPS\\_final\\_aou01.bim'"
      ],
      "text/markdown": [
       "'all_combined_PCSNPS_final_aou01.bim'"
      ],
      "text/plain": [
       "[1] \"all_combined_PCSNPS_final_aou01.bim\""
      ]
     },
     "metadata": {},
     "output_type": "display_data"
    },
    {
     "name": "stdout",
     "output_type": "stream",
     "text": [
      "Start file conversion from PLINK BED to SNP GDS ...\n",
      "    BED file: 'all_combined_PCSNPS_final_aou01.bed'\n",
      "        SNP-major mode (Sample X SNP), 706.4M\n",
      "    FAM file: 'all_combined_PCSNPS_final_aou01.fam'\n",
      "    BIM file: 'all_combined_PCSNPS_final_aou01.bim'\n",
      "Fri Feb 10 16:44:33 2023     (store sample id, snp id, position, and chromosome)\n",
      "    start writing: 9863 samples, 300387 SNPs ...\n",
      "[==================================================] 100%, completed, 4s  \n",
      "Fri Feb 10 16:44:43 2023 \tDone.\n",
      "Optimize the access efficiency ...\n",
      "Clean up the fragments of GDS file:\n",
      "    open the file 'aou-pcsnps.gds' (708.1M)\n",
      "    # of fragments: 39\n",
      "    save to 'aou-pcsnps.gds.tmp'\n",
      "    rename 'aou-pcsnps.gds.tmp' (708.1M, reduced: 252B)\n",
      "    # of fragments: 18\n",
      "The file name: /home/jupyter/workspaces/crcprsanalysisinteractivenotebooks/aou-pcsnps.gds \n",
      "The total number of samples: 9863 \n",
      "The total number of SNPs: 300387 \n",
      "SNP genotypes are stored in SNP-major mode (Sample X SNP).\n",
      "Merge SNP GDS files:\n",
      "    open 'ref-pcsnps.gds' ...\n",
      "        4151 samples, 300387 SNPs\n",
      "    open 'aou-pcsnps.gds' ...\n",
      "        9863 samples, 300387 SNPs\n",
      "Concatenating samples (mapping to the first GDS file) ...\n",
      "    reference: 300387 SNPs (100.0%)\n",
      "    file 2: 7523 allele flips, 145044 ambiguous locus/loci\n",
      "        [no flip]: 256603\n",
      "        [flip]: 7523\n",
      "        [no flip / ambiguous strand]: 36261\n",
      "    create 'merge.gds': 14014 samples, 300387 SNPs\n",
      "    FileFormat = SNP_ARRAY\n",
      "    writing genotypes ...\n",
      "Clean up the fragments of GDS file:\n",
      "    open the file 'merge.gds' (419.0M)\n",
      "    # of fragments: 29\n",
      "    save to 'merge.gds.tmp'\n",
      "    rename 'merge.gds.tmp' (419.0M, reduced: 192B)\n",
      "    # of fragments: 13\n",
      "Done.\n",
      "Eigen-analysis on genotypes:\n",
      "Excluding 0 SNP on non-autosomes\n",
      "Excluding 0 SNP (monomorphic: TRUE, MAF: NaN, missing rate: NaN)\n",
      "    # of samples: 13,303\n",
      "    # of SNPs: 300,387\n",
      "    using 63 threads\n",
      "Eigen-analysis:    the sum of all selected genotypes (0,1,2) = 978876129\n",
      "CPU capabilities: Double-Precision SSE2\n",
      "Fri Feb 10 16:51:36 2023    (internal increment: 440)\n",
      "[==================================================] 100%, completed, 9.7m \n",
      "Fri Feb 10 17:01:16 2023    Begin (eigenvalues and eigenvectors)\n",
      "Fri Feb 10 17:16:21 2023    Done.\n"
     ]
    },
    {
     "data": {
      "text/html": [
       "'admixture_aou01.csv'"
      ],
      "text/latex": [
       "'admixture\\_aou01.csv'"
      ],
      "text/markdown": [
       "'admixture_aou01.csv'"
      ],
      "text/plain": [
       "[1] \"admixture_aou01.csv\""
      ]
     },
     "metadata": {},
     "output_type": "display_data"
    },
    {
     "data": {
      "text/html": [
       "'gsutil -m cp -r admixture_aou01.csv gs://fc-secure-30fdbdfd-a46b-406d-9617-1bc69ae1da9d/data/PCSNPS/'"
      ],
      "text/latex": [
       "'gsutil -m cp -r admixture\\_aou01.csv gs://fc-secure-30fdbdfd-a46b-406d-9617-1bc69ae1da9d/data/PCSNPS/'"
      ],
      "text/markdown": [
       "'gsutil -m cp -r admixture_aou01.csv gs://fc-secure-30fdbdfd-a46b-406d-9617-1bc69ae1da9d/data/PCSNPS/'"
      ],
      "text/plain": [
       "[1] \"gsutil -m cp -r admixture_aou01.csv gs://fc-secure-30fdbdfd-a46b-406d-9617-1bc69ae1da9d/data/PCSNPS/\""
      ]
     },
     "metadata": {},
     "output_type": "display_data"
    }
   ],
   "source": [
    "# for loop applied to all of the AoU PLINK files\n",
    "i<- 1\n",
    "#for(i in 0:9)\n",
    "#{\n",
    "    # Get the AoU file \n",
    "    (infile <- paste0(\"all_combined_PCSNPS_final_aou0\",i))\n",
    "    (cp.command <- paste0(\"gsutil -m cp -r gs://fc-secure-30fdbdfd-a46b-406d-9617-1bc69ae1da9d/data/PCSNPS/\",infile,\".* .\"))\n",
    "    system(cp.command)\n",
    "    \n",
    "    #set up for the GDS\n",
    "    (bed.aou.fn <- paste0(\"all_combined_PCSNPS_final_aou0\",i,\".bed\"))\n",
    "    (fam.aou.fn <- paste0(\"all_combined_PCSNPS_final_aou0\",i,\".fam\"))\n",
    "    (bim.aou.fn <- paste0(\"all_combined_PCSNPS_final_aou0\",i,\".bim\"))\n",
    "    snpgdsBED2GDS(bed.aou.fn, fam.aou.fn, bim.aou.fn, \"aou-pcsnps.gds\")\n",
    "    aou.ids <- snpgdsSummary(\"aou-pcsnps.gds\")$sample.id\n",
    "    \n",
    "    #combined the AoU GDS with the referene GDS \n",
    "    snpgdsCombineGeno(c(\"ref-pcsnps.gds\",\"aou-pcsnps.gds\"), \"merge.gds\") #takes about 7 minutes\n",
    "    genofile <- snpgdsOpen(\"merge.gds\")\n",
    "    \n",
    "    # Run Eigen analysis\n",
    "    eigen.aou <- snpgdsEIGMIX(genofile, sample.id=c(sampset1$unrels,aou.ids), num.thread=num.threads,eigen.cnt=32L, \n",
    "             diagadj=TRUE, ibdmat=FALSE, verbose=TRUE)\n",
    "    \n",
    "    #Get the Admixture estimates\n",
    "    prop.ref <- snpgdsAdmixProp(eigen.aou, groups=groups, bound=TRUE)\n",
    "    \n",
    "    #Subset to just the AoU participants\n",
    "    prop.dt <- data.table(prop.ref)\n",
    "    prop.dt[,ID:=rownames(prop.ref)]\n",
    "    prop.aou.dt <- prop.dt[][prop.dt$ID %in% aou.ids]\n",
    "    \n",
    "    #close the connection to the AoU data\n",
    "    snpgdsClose(genofile)\n",
    "    \n",
    "    #output to a file for this set\n",
    "    ################\n",
    "    (outfile <- paste0(\"admixture_aou0\",i,\".csv\"))\n",
    "    write.csv(prop.aou.dt, outfile,quote=FALSE, row.names=FALSE)\n",
    "    \n",
    "    #(cp.command <- paste0(\"gsutil -m cp -r \", outfile,\" gs://fc-secure-30fdbdfd-a46b-406d-9617-1bc69ae1da9d/data/PCSNPS/\"))\n",
    "    (cp.command <- paste0(\"gsutil -m cp -r \", outfile,\" gs://fc-secure-91b7b957-58d8-4142-b93b-c3a2635f2d78/data/PCSNPS/\"))\n",
    "    system(cp.command)\n",
    "   \n",
    "#}"
   ]
  },
  {
   "cell_type": "code",
   "execution_count": 20,
   "metadata": {},
   "outputs": [
    {
     "data": {
      "text/html": [
       "'all_combined_PCSNPS_final_aou02'"
      ],
      "text/latex": [
       "'all\\_combined\\_PCSNPS\\_final\\_aou02'"
      ],
      "text/markdown": [
       "'all_combined_PCSNPS_final_aou02'"
      ],
      "text/plain": [
       "[1] \"all_combined_PCSNPS_final_aou02\""
      ]
     },
     "metadata": {},
     "output_type": "display_data"
    },
    {
     "data": {
      "text/html": [
       "'gsutil -m cp -r gs://fc-secure-30fdbdfd-a46b-406d-9617-1bc69ae1da9d/data/PCSNPS/all_combined_PCSNPS_final_aou02.* .'"
      ],
      "text/latex": [
       "'gsutil -m cp -r gs://fc-secure-30fdbdfd-a46b-406d-9617-1bc69ae1da9d/data/PCSNPS/all\\_combined\\_PCSNPS\\_final\\_aou02.* .'"
      ],
      "text/markdown": [
       "'gsutil -m cp -r gs://fc-secure-30fdbdfd-a46b-406d-9617-1bc69ae1da9d/data/PCSNPS/all_combined_PCSNPS_final_aou02.* .'"
      ],
      "text/plain": [
       "[1] \"gsutil -m cp -r gs://fc-secure-30fdbdfd-a46b-406d-9617-1bc69ae1da9d/data/PCSNPS/all_combined_PCSNPS_final_aou02.* .\""
      ]
     },
     "metadata": {},
     "output_type": "display_data"
    },
    {
     "data": {
      "text/html": [
       "'all_combined_PCSNPS_final_aou02.bed'"
      ],
      "text/latex": [
       "'all\\_combined\\_PCSNPS\\_final\\_aou02.bed'"
      ],
      "text/markdown": [
       "'all_combined_PCSNPS_final_aou02.bed'"
      ],
      "text/plain": [
       "[1] \"all_combined_PCSNPS_final_aou02.bed\""
      ]
     },
     "metadata": {},
     "output_type": "display_data"
    },
    {
     "data": {
      "text/html": [
       "'all_combined_PCSNPS_final_aou02.fam'"
      ],
      "text/latex": [
       "'all\\_combined\\_PCSNPS\\_final\\_aou02.fam'"
      ],
      "text/markdown": [
       "'all_combined_PCSNPS_final_aou02.fam'"
      ],
      "text/plain": [
       "[1] \"all_combined_PCSNPS_final_aou02.fam\""
      ]
     },
     "metadata": {},
     "output_type": "display_data"
    },
    {
     "data": {
      "text/html": [
       "'all_combined_PCSNPS_final_aou02.bim'"
      ],
      "text/latex": [
       "'all\\_combined\\_PCSNPS\\_final\\_aou02.bim'"
      ],
      "text/markdown": [
       "'all_combined_PCSNPS_final_aou02.bim'"
      ],
      "text/plain": [
       "[1] \"all_combined_PCSNPS_final_aou02.bim\""
      ]
     },
     "metadata": {},
     "output_type": "display_data"
    },
    {
     "name": "stdout",
     "output_type": "stream",
     "text": [
      "Start file conversion from PLINK BED to SNP GDS ...\n",
      "    BED file: 'all_combined_PCSNPS_final_aou02.bed'\n",
      "        SNP-major mode (Sample X SNP), 706.4M\n",
      "    FAM file: 'all_combined_PCSNPS_final_aou02.fam'\n",
      "    BIM file: 'all_combined_PCSNPS_final_aou02.bim'\n",
      "Fri Feb 10 17:17:21 2023     (store sample id, snp id, position, and chromosome)\n",
      "    start writing: 9863 samples, 300387 SNPs ...\n",
      "[==================================================] 100%, completed, 4s  \n",
      "Fri Feb 10 17:17:31 2023 \tDone.\n",
      "Optimize the access efficiency ...\n",
      "Clean up the fragments of GDS file:\n",
      "    open the file 'aou-pcsnps.gds' (708.1M)\n",
      "    # of fragments: 39\n",
      "    save to 'aou-pcsnps.gds.tmp'\n",
      "    rename 'aou-pcsnps.gds.tmp' (708.1M, reduced: 252B)\n",
      "    # of fragments: 18\n",
      "The file name: /home/jupyter/workspaces/crcprsanalysisinteractivenotebooks/aou-pcsnps.gds \n",
      "The total number of samples: 9863 \n",
      "The total number of SNPs: 300387 \n",
      "SNP genotypes are stored in SNP-major mode (Sample X SNP).\n",
      "Merge SNP GDS files:\n",
      "    open 'ref-pcsnps.gds' ...\n",
      "        4151 samples, 300387 SNPs\n",
      "    open 'aou-pcsnps.gds' ...\n",
      "        9863 samples, 300387 SNPs\n",
      "Concatenating samples (mapping to the first GDS file) ...\n",
      "    reference: 300387 SNPs (100.0%)\n",
      "    file 2: 7622 allele flips, 145044 ambiguous locus/loci\n",
      "        [no flip]: 256504\n",
      "        [flip]: 7622\n",
      "        [no flip / ambiguous strand]: 36261\n",
      "    create 'merge.gds': 14014 samples, 300387 SNPs\n",
      "    FileFormat = SNP_ARRAY\n",
      "    writing genotypes ...\n",
      "Clean up the fragments of GDS file:\n",
      "    open the file 'merge.gds' (418.5M)\n",
      "    # of fragments: 29\n",
      "    save to 'merge.gds.tmp'\n",
      "    rename 'merge.gds.tmp' (418.5M, reduced: 192B)\n",
      "    # of fragments: 13\n",
      "Done.\n",
      "Eigen-analysis on genotypes:\n",
      "Excluding 0 SNP on non-autosomes\n",
      "Excluding 0 SNP (monomorphic: TRUE, MAF: NaN, missing rate: NaN)\n",
      "    # of samples: 13,303\n",
      "    # of SNPs: 300,387\n",
      "    using 63 threads\n",
      "Eigen-analysis:    the sum of all selected genotypes (0,1,2) = 977921425\n",
      "CPU capabilities: Double-Precision SSE2\n",
      "Fri Feb 10 17:24:29 2023    (internal increment: 440)\n",
      "[==================================================] 100%, completed, 9.8m \n",
      "Fri Feb 10 17:34:15 2023    Begin (eigenvalues and eigenvectors)\n",
      "Fri Feb 10 17:49:35 2023    Done.\n"
     ]
    },
    {
     "data": {
      "text/html": [
       "'admixture_aou02.csv'"
      ],
      "text/latex": [
       "'admixture\\_aou02.csv'"
      ],
      "text/markdown": [
       "'admixture_aou02.csv'"
      ],
      "text/plain": [
       "[1] \"admixture_aou02.csv\""
      ]
     },
     "metadata": {},
     "output_type": "display_data"
    },
    {
     "data": {
      "text/html": [
       "'gsutil -m cp -r admixture_aou02.csv gs://fc-secure-30fdbdfd-a46b-406d-9617-1bc69ae1da9d/data/PCSNPS/'"
      ],
      "text/latex": [
       "'gsutil -m cp -r admixture\\_aou02.csv gs://fc-secure-30fdbdfd-a46b-406d-9617-1bc69ae1da9d/data/PCSNPS/'"
      ],
      "text/markdown": [
       "'gsutil -m cp -r admixture_aou02.csv gs://fc-secure-30fdbdfd-a46b-406d-9617-1bc69ae1da9d/data/PCSNPS/'"
      ],
      "text/plain": [
       "[1] \"gsutil -m cp -r admixture_aou02.csv gs://fc-secure-30fdbdfd-a46b-406d-9617-1bc69ae1da9d/data/PCSNPS/\""
      ]
     },
     "metadata": {},
     "output_type": "display_data"
    }
   ],
   "source": [
    "# for loop applied to all of the AoU PLINK files\n",
    "i<- 2\n",
    "#for(i in 0:9)\n",
    "#{\n",
    "    # Get the AoU file \n",
    "    (infile <- paste0(\"all_combined_PCSNPS_final_aou0\",i))\n",
    "    (cp.command <- paste0(\"gsutil -m cp -r gs://fc-secure-30fdbdfd-a46b-406d-9617-1bc69ae1da9d/data/PCSNPS/\",infile,\".* .\"))\n",
    "    system(cp.command)\n",
    "    \n",
    "    #set up for the GDS\n",
    "    (bed.aou.fn <- paste0(\"all_combined_PCSNPS_final_aou0\",i,\".bed\"))\n",
    "    (fam.aou.fn <- paste0(\"all_combined_PCSNPS_final_aou0\",i,\".fam\"))\n",
    "    (bim.aou.fn <- paste0(\"all_combined_PCSNPS_final_aou0\",i,\".bim\"))\n",
    "    snpgdsBED2GDS(bed.aou.fn, fam.aou.fn, bim.aou.fn, \"aou-pcsnps.gds\")\n",
    "    aou.ids <- snpgdsSummary(\"aou-pcsnps.gds\")$sample.id\n",
    "    \n",
    "    #combined the AoU GDS with the referene GDS \n",
    "    snpgdsCombineGeno(c(\"ref-pcsnps.gds\",\"aou-pcsnps.gds\"), \"merge.gds\") #takes about 7 minutes\n",
    "    genofile <- snpgdsOpen(\"merge.gds\")\n",
    "    \n",
    "    # Run Eigen analysis\n",
    "    eigen.aou <- snpgdsEIGMIX(genofile, sample.id=c(sampset1$unrels,aou.ids), num.thread=num.threads,eigen.cnt=32L, \n",
    "             diagadj=TRUE, ibdmat=FALSE, verbose=TRUE)\n",
    "    \n",
    "    #Get the Admixture estimates\n",
    "    prop.ref <- snpgdsAdmixProp(eigen.aou, groups=groups, bound=TRUE)\n",
    "    \n",
    "    #Subset to just the AoU participants\n",
    "    prop.dt <- data.table(prop.ref)\n",
    "    prop.dt[,ID:=rownames(prop.ref)]\n",
    "    prop.aou.dt <- prop.dt[][prop.dt$ID %in% aou.ids]\n",
    "    \n",
    "    #close the connection to the AoU data\n",
    "    snpgdsClose(genofile)\n",
    "    \n",
    "    #output to a file for this set\n",
    "    ################\n",
    "    (outfile <- paste0(\"admixture_aou0\",i,\".csv\"))\n",
    "    write.csv(prop.aou.dt, outfile,quote=FALSE, row.names=FALSE)\n",
    "    \n",
    "    #(cp.command <- paste0(\"gsutil -m cp -r \", outfile,\" gs://fc-secure-30fdbdfd-a46b-406d-9617-1bc69ae1da9d/data/PCSNPS/\"))\n",
    "    (cp.command <- paste0(\"gsutil -m cp -r \", outfile,\" gs://fc-secure-91b7b957-58d8-4142-b93b-c3a2635f2d78/data/PCSNPS/\"))\n",
    "    system(cp.command)\n",
    "   \n",
    "#}"
   ]
  },
  {
   "cell_type": "code",
   "execution_count": 21,
   "metadata": {},
   "outputs": [
    {
     "data": {
      "text/html": [
       "'all_combined_PCSNPS_final_aou03'"
      ],
      "text/latex": [
       "'all\\_combined\\_PCSNPS\\_final\\_aou03'"
      ],
      "text/markdown": [
       "'all_combined_PCSNPS_final_aou03'"
      ],
      "text/plain": [
       "[1] \"all_combined_PCSNPS_final_aou03\""
      ]
     },
     "metadata": {},
     "output_type": "display_data"
    },
    {
     "data": {
      "text/html": [
       "'gsutil -m cp -r gs://fc-secure-30fdbdfd-a46b-406d-9617-1bc69ae1da9d/data/PCSNPS/all_combined_PCSNPS_final_aou03.* .'"
      ],
      "text/latex": [
       "'gsutil -m cp -r gs://fc-secure-30fdbdfd-a46b-406d-9617-1bc69ae1da9d/data/PCSNPS/all\\_combined\\_PCSNPS\\_final\\_aou03.* .'"
      ],
      "text/markdown": [
       "'gsutil -m cp -r gs://fc-secure-30fdbdfd-a46b-406d-9617-1bc69ae1da9d/data/PCSNPS/all_combined_PCSNPS_final_aou03.* .'"
      ],
      "text/plain": [
       "[1] \"gsutil -m cp -r gs://fc-secure-30fdbdfd-a46b-406d-9617-1bc69ae1da9d/data/PCSNPS/all_combined_PCSNPS_final_aou03.* .\""
      ]
     },
     "metadata": {},
     "output_type": "display_data"
    },
    {
     "data": {
      "text/html": [
       "'all_combined_PCSNPS_final_aou03.bed'"
      ],
      "text/latex": [
       "'all\\_combined\\_PCSNPS\\_final\\_aou03.bed'"
      ],
      "text/markdown": [
       "'all_combined_PCSNPS_final_aou03.bed'"
      ],
      "text/plain": [
       "[1] \"all_combined_PCSNPS_final_aou03.bed\""
      ]
     },
     "metadata": {},
     "output_type": "display_data"
    },
    {
     "data": {
      "text/html": [
       "'all_combined_PCSNPS_final_aou03.fam'"
      ],
      "text/latex": [
       "'all\\_combined\\_PCSNPS\\_final\\_aou03.fam'"
      ],
      "text/markdown": [
       "'all_combined_PCSNPS_final_aou03.fam'"
      ],
      "text/plain": [
       "[1] \"all_combined_PCSNPS_final_aou03.fam\""
      ]
     },
     "metadata": {},
     "output_type": "display_data"
    },
    {
     "data": {
      "text/html": [
       "'all_combined_PCSNPS_final_aou03.bim'"
      ],
      "text/latex": [
       "'all\\_combined\\_PCSNPS\\_final\\_aou03.bim'"
      ],
      "text/markdown": [
       "'all_combined_PCSNPS_final_aou03.bim'"
      ],
      "text/plain": [
       "[1] \"all_combined_PCSNPS_final_aou03.bim\""
      ]
     },
     "metadata": {},
     "output_type": "display_data"
    },
    {
     "name": "stdout",
     "output_type": "stream",
     "text": [
      "Start file conversion from PLINK BED to SNP GDS ...\n",
      "    BED file: 'all_combined_PCSNPS_final_aou03.bed'\n",
      "        SNP-major mode (Sample X SNP), 706.4M\n",
      "    FAM file: 'all_combined_PCSNPS_final_aou03.fam'\n",
      "    BIM file: 'all_combined_PCSNPS_final_aou03.bim'\n",
      "Fri Feb 10 17:50:58 2023     (store sample id, snp id, position, and chromosome)\n",
      "    start writing: 9863 samples, 300387 SNPs ...\n",
      "[==================================================] 100%, completed, 5s  \n",
      "Fri Feb 10 17:51:09 2023 \tDone.\n",
      "Optimize the access efficiency ...\n",
      "Clean up the fragments of GDS file:\n",
      "    open the file 'aou-pcsnps.gds' (708.1M)\n",
      "    # of fragments: 39\n",
      "    save to 'aou-pcsnps.gds.tmp'\n",
      "    rename 'aou-pcsnps.gds.tmp' (708.1M, reduced: 252B)\n",
      "    # of fragments: 18\n",
      "The file name: /home/jupyter/workspaces/crcprsanalysisinteractivenotebooks/aou-pcsnps.gds \n",
      "The total number of samples: 9863 \n",
      "The total number of SNPs: 300387 \n",
      "SNP genotypes are stored in SNP-major mode (Sample X SNP).\n",
      "Merge SNP GDS files:\n",
      "    open 'ref-pcsnps.gds' ...\n",
      "        4151 samples, 300387 SNPs\n",
      "    open 'aou-pcsnps.gds' ...\n",
      "        9863 samples, 300387 SNPs\n",
      "Concatenating samples (mapping to the first GDS file) ...\n",
      "    reference: 300387 SNPs (100.0%)\n",
      "    file 2: 7507 allele flips, 145044 ambiguous locus/loci\n",
      "        [no flip]: 256619\n",
      "        [flip]: 7507\n",
      "        [no flip / ambiguous strand]: 36261\n",
      "    create 'merge.gds': 14014 samples, 300387 SNPs\n",
      "    FileFormat = SNP_ARRAY\n",
      "    writing genotypes ...\n",
      "Clean up the fragments of GDS file:\n",
      "    open the file 'merge.gds' (419.2M)\n",
      "    # of fragments: 29\n",
      "    save to 'merge.gds.tmp'\n",
      "    rename 'merge.gds.tmp' (419.2M, reduced: 192B)\n",
      "    # of fragments: 13\n",
      "Done.\n",
      "Eigen-analysis on genotypes:\n",
      "Excluding 0 SNP on non-autosomes\n",
      "Excluding 0 SNP (monomorphic: TRUE, MAF: NaN, missing rate: NaN)\n",
      "    # of samples: 13,303\n",
      "    # of SNPs: 300,387\n",
      "    using 63 threads\n",
      "Eigen-analysis:    the sum of all selected genotypes (0,1,2) = 978979357\n",
      "CPU capabilities: Double-Precision SSE2\n",
      "Fri Feb 10 17:58:09 2023    (internal increment: 440)\n",
      "[==================================================] 100%, completed, 10.5m \n",
      "Fri Feb 10 18:08:40 2023    Begin (eigenvalues and eigenvectors)\n",
      "Fri Feb 10 18:23:18 2023    Done.\n"
     ]
    },
    {
     "data": {
      "text/html": [
       "'admixture_aou03.csv'"
      ],
      "text/latex": [
       "'admixture\\_aou03.csv'"
      ],
      "text/markdown": [
       "'admixture_aou03.csv'"
      ],
      "text/plain": [
       "[1] \"admixture_aou03.csv\""
      ]
     },
     "metadata": {},
     "output_type": "display_data"
    },
    {
     "data": {
      "text/html": [
       "'gsutil -m cp -r admixture_aou03.csv gs://fc-secure-30fdbdfd-a46b-406d-9617-1bc69ae1da9d/data/PCSNPS/'"
      ],
      "text/latex": [
       "'gsutil -m cp -r admixture\\_aou03.csv gs://fc-secure-30fdbdfd-a46b-406d-9617-1bc69ae1da9d/data/PCSNPS/'"
      ],
      "text/markdown": [
       "'gsutil -m cp -r admixture_aou03.csv gs://fc-secure-30fdbdfd-a46b-406d-9617-1bc69ae1da9d/data/PCSNPS/'"
      ],
      "text/plain": [
       "[1] \"gsutil -m cp -r admixture_aou03.csv gs://fc-secure-30fdbdfd-a46b-406d-9617-1bc69ae1da9d/data/PCSNPS/\""
      ]
     },
     "metadata": {},
     "output_type": "display_data"
    }
   ],
   "source": [
    "i<- 3\n",
    "#for(i in 0:9)\n",
    "#{\n",
    "    # Get the AoU file \n",
    "    (infile <- paste0(\"all_combined_PCSNPS_final_aou0\",i))\n",
    "    (cp.command <- paste0(\"gsutil -m cp -r gs://fc-secure-30fdbdfd-a46b-406d-9617-1bc69ae1da9d/data/PCSNPS/\",infile,\".* .\"))\n",
    "    system(cp.command)\n",
    "    \n",
    "    #set up for the GDS\n",
    "    (bed.aou.fn <- paste0(\"all_combined_PCSNPS_final_aou0\",i,\".bed\"))\n",
    "    (fam.aou.fn <- paste0(\"all_combined_PCSNPS_final_aou0\",i,\".fam\"))\n",
    "    (bim.aou.fn <- paste0(\"all_combined_PCSNPS_final_aou0\",i,\".bim\"))\n",
    "    snpgdsBED2GDS(bed.aou.fn, fam.aou.fn, bim.aou.fn, \"aou-pcsnps.gds\")\n",
    "    aou.ids <- snpgdsSummary(\"aou-pcsnps.gds\")$sample.id\n",
    "    \n",
    "    #combined the AoU GDS with the referene GDS \n",
    "    snpgdsCombineGeno(c(\"ref-pcsnps.gds\",\"aou-pcsnps.gds\"), \"merge.gds\") #takes about 7 minutes\n",
    "    genofile <- snpgdsOpen(\"merge.gds\")\n",
    "    \n",
    "    # Run Eigen analysis\n",
    "    eigen.aou <- snpgdsEIGMIX(genofile, sample.id=c(sampset1$unrels,aou.ids), num.thread=num.threads,eigen.cnt=32L, \n",
    "             diagadj=TRUE, ibdmat=FALSE, verbose=TRUE)\n",
    "    \n",
    "    #Get the Admixture estimates\n",
    "    prop.ref <- snpgdsAdmixProp(eigen.aou, groups=groups, bound=TRUE)\n",
    "    \n",
    "    #Subset to just the AoU participants\n",
    "    prop.dt <- data.table(prop.ref)\n",
    "    prop.dt[,ID:=rownames(prop.ref)]\n",
    "    prop.aou.dt <- prop.dt[][prop.dt$ID %in% aou.ids]\n",
    "    \n",
    "    #close the connection to the AoU data\n",
    "    snpgdsClose(genofile)\n",
    "    \n",
    "    #output to a file for this set\n",
    "    ################\n",
    "    (outfile <- paste0(\"admixture_aou0\",i,\".csv\"))\n",
    "    write.csv(prop.aou.dt, outfile,quote=FALSE, row.names=FALSE)\n",
    "    \n",
    "    #(cp.command <- paste0(\"gsutil -m cp -r \", outfile,\" gs://fc-secure-30fdbdfd-a46b-406d-9617-1bc69ae1da9d/data/PCSNPS/\"))\n",
    "    (cp.command <- paste0(\"gsutil -m cp -r \", outfile,\" gs://fc-secure-91b7b957-58d8-4142-b93b-c3a2635f2d78/data/PCSNPS/\"))\n",
    "    system(cp.command)\n",
    "   \n",
    "#}"
   ]
  },
  {
   "cell_type": "code",
   "execution_count": 22,
   "metadata": {},
   "outputs": [
    {
     "data": {
      "text/html": [
       "'all_combined_PCSNPS_final_aou04'"
      ],
      "text/latex": [
       "'all\\_combined\\_PCSNPS\\_final\\_aou04'"
      ],
      "text/markdown": [
       "'all_combined_PCSNPS_final_aou04'"
      ],
      "text/plain": [
       "[1] \"all_combined_PCSNPS_final_aou04\""
      ]
     },
     "metadata": {},
     "output_type": "display_data"
    },
    {
     "data": {
      "text/html": [
       "'gsutil -m cp -r gs://fc-secure-30fdbdfd-a46b-406d-9617-1bc69ae1da9d/data/PCSNPS/all_combined_PCSNPS_final_aou04.* .'"
      ],
      "text/latex": [
       "'gsutil -m cp -r gs://fc-secure-30fdbdfd-a46b-406d-9617-1bc69ae1da9d/data/PCSNPS/all\\_combined\\_PCSNPS\\_final\\_aou04.* .'"
      ],
      "text/markdown": [
       "'gsutil -m cp -r gs://fc-secure-30fdbdfd-a46b-406d-9617-1bc69ae1da9d/data/PCSNPS/all_combined_PCSNPS_final_aou04.* .'"
      ],
      "text/plain": [
       "[1] \"gsutil -m cp -r gs://fc-secure-30fdbdfd-a46b-406d-9617-1bc69ae1da9d/data/PCSNPS/all_combined_PCSNPS_final_aou04.* .\""
      ]
     },
     "metadata": {},
     "output_type": "display_data"
    },
    {
     "data": {
      "text/html": [
       "'all_combined_PCSNPS_final_aou04.bed'"
      ],
      "text/latex": [
       "'all\\_combined\\_PCSNPS\\_final\\_aou04.bed'"
      ],
      "text/markdown": [
       "'all_combined_PCSNPS_final_aou04.bed'"
      ],
      "text/plain": [
       "[1] \"all_combined_PCSNPS_final_aou04.bed\""
      ]
     },
     "metadata": {},
     "output_type": "display_data"
    },
    {
     "data": {
      "text/html": [
       "'all_combined_PCSNPS_final_aou04.fam'"
      ],
      "text/latex": [
       "'all\\_combined\\_PCSNPS\\_final\\_aou04.fam'"
      ],
      "text/markdown": [
       "'all_combined_PCSNPS_final_aou04.fam'"
      ],
      "text/plain": [
       "[1] \"all_combined_PCSNPS_final_aou04.fam\""
      ]
     },
     "metadata": {},
     "output_type": "display_data"
    },
    {
     "data": {
      "text/html": [
       "'all_combined_PCSNPS_final_aou04.bim'"
      ],
      "text/latex": [
       "'all\\_combined\\_PCSNPS\\_final\\_aou04.bim'"
      ],
      "text/markdown": [
       "'all_combined_PCSNPS_final_aou04.bim'"
      ],
      "text/plain": [
       "[1] \"all_combined_PCSNPS_final_aou04.bim\""
      ]
     },
     "metadata": {},
     "output_type": "display_data"
    },
    {
     "name": "stdout",
     "output_type": "stream",
     "text": [
      "Start file conversion from PLINK BED to SNP GDS ...\n",
      "    BED file: 'all_combined_PCSNPS_final_aou04.bed'\n",
      "        SNP-major mode (Sample X SNP), 706.4M\n",
      "    FAM file: 'all_combined_PCSNPS_final_aou04.fam'\n",
      "    BIM file: 'all_combined_PCSNPS_final_aou04.bim'\n",
      "Fri Feb 10 18:24:09 2023     (store sample id, snp id, position, and chromosome)\n",
      "    start writing: 9863 samples, 300387 SNPs ...\n",
      "[==================================================] 100%, completed, 4s  \n",
      "Fri Feb 10 18:24:19 2023 \tDone.\n",
      "Optimize the access efficiency ...\n",
      "Clean up the fragments of GDS file:\n",
      "    open the file 'aou-pcsnps.gds' (708.1M)\n",
      "    # of fragments: 39\n",
      "    save to 'aou-pcsnps.gds.tmp'\n",
      "    rename 'aou-pcsnps.gds.tmp' (708.1M, reduced: 252B)\n",
      "    # of fragments: 18\n",
      "The file name: /home/jupyter/workspaces/crcprsanalysisinteractivenotebooks/aou-pcsnps.gds \n",
      "The total number of samples: 9863 \n",
      "The total number of SNPs: 300387 \n",
      "SNP genotypes are stored in SNP-major mode (Sample X SNP).\n",
      "Merge SNP GDS files:\n",
      "    open 'ref-pcsnps.gds' ...\n",
      "        4151 samples, 300387 SNPs\n",
      "    open 'aou-pcsnps.gds' ...\n",
      "        9863 samples, 300387 SNPs\n",
      "Concatenating samples (mapping to the first GDS file) ...\n",
      "    reference: 300387 SNPs (100.0%)\n",
      "    file 2: 7470 allele flips, 145044 ambiguous locus/loci\n",
      "        [no flip]: 256656\n",
      "        [flip]: 7470\n",
      "        [no flip / ambiguous strand]: 36261\n",
      "    create 'merge.gds': 14014 samples, 300387 SNPs\n",
      "    FileFormat = SNP_ARRAY\n",
      "    writing genotypes ...\n",
      "Clean up the fragments of GDS file:\n",
      "    open the file 'merge.gds' (418.7M)\n",
      "    # of fragments: 29\n",
      "    save to 'merge.gds.tmp'\n",
      "    rename 'merge.gds.tmp' (418.7M, reduced: 192B)\n",
      "    # of fragments: 13\n",
      "Done.\n",
      "Eigen-analysis on genotypes:\n",
      "Excluding 0 SNP on non-autosomes\n",
      "Excluding 0 SNP (monomorphic: TRUE, MAF: NaN, missing rate: NaN)\n",
      "    # of samples: 13,303\n",
      "    # of SNPs: 300,387\n",
      "    using 63 threads\n",
      "Eigen-analysis:    the sum of all selected genotypes (0,1,2) = 977903791\n",
      "CPU capabilities: Double-Precision SSE2\n",
      "Fri Feb 10 18:31:13 2023    (internal increment: 440)\n",
      "[==================================================] 100%, completed, 10.4m\n",
      "Fri Feb 10 18:41:37 2023    Begin (eigenvalues and eigenvectors)\n",
      "Fri Feb 10 18:57:25 2023    Done.\n"
     ]
    },
    {
     "data": {
      "text/html": [
       "'admixture_aou04.csv'"
      ],
      "text/latex": [
       "'admixture\\_aou04.csv'"
      ],
      "text/markdown": [
       "'admixture_aou04.csv'"
      ],
      "text/plain": [
       "[1] \"admixture_aou04.csv\""
      ]
     },
     "metadata": {},
     "output_type": "display_data"
    },
    {
     "data": {
      "text/html": [
       "'gsutil -m cp -r admixture_aou04.csv gs://fc-secure-30fdbdfd-a46b-406d-9617-1bc69ae1da9d/data/PCSNPS/'"
      ],
      "text/latex": [
       "'gsutil -m cp -r admixture\\_aou04.csv gs://fc-secure-30fdbdfd-a46b-406d-9617-1bc69ae1da9d/data/PCSNPS/'"
      ],
      "text/markdown": [
       "'gsutil -m cp -r admixture_aou04.csv gs://fc-secure-30fdbdfd-a46b-406d-9617-1bc69ae1da9d/data/PCSNPS/'"
      ],
      "text/plain": [
       "[1] \"gsutil -m cp -r admixture_aou04.csv gs://fc-secure-30fdbdfd-a46b-406d-9617-1bc69ae1da9d/data/PCSNPS/\""
      ]
     },
     "metadata": {},
     "output_type": "display_data"
    }
   ],
   "source": [
    "i<- 4\n",
    "#for(i in 0:9)\n",
    "#{\n",
    "    # Get the AoU file \n",
    "    (infile <- paste0(\"all_combined_PCSNPS_final_aou0\",i))\n",
    "    (cp.command <- paste0(\"gsutil -m cp -r gs://fc-secure-30fdbdfd-a46b-406d-9617-1bc69ae1da9d/data/PCSNPS/\",infile,\".* .\"))\n",
    "    system(cp.command)\n",
    "    \n",
    "    #set up for the GDS\n",
    "    (bed.aou.fn <- paste0(\"all_combined_PCSNPS_final_aou0\",i,\".bed\"))\n",
    "    (fam.aou.fn <- paste0(\"all_combined_PCSNPS_final_aou0\",i,\".fam\"))\n",
    "    (bim.aou.fn <- paste0(\"all_combined_PCSNPS_final_aou0\",i,\".bim\"))\n",
    "    snpgdsBED2GDS(bed.aou.fn, fam.aou.fn, bim.aou.fn, \"aou-pcsnps.gds\")\n",
    "    aou.ids <- snpgdsSummary(\"aou-pcsnps.gds\")$sample.id\n",
    "    \n",
    "    #combined the AoU GDS with the referene GDS \n",
    "    snpgdsCombineGeno(c(\"ref-pcsnps.gds\",\"aou-pcsnps.gds\"), \"merge.gds\") #takes about 7 minutes\n",
    "    genofile <- snpgdsOpen(\"merge.gds\")\n",
    "    \n",
    "    # Run Eigen analysis\n",
    "    eigen.aou <- snpgdsEIGMIX(genofile, sample.id=c(sampset1$unrels,aou.ids), num.thread=num.threads,eigen.cnt=32L, \n",
    "             diagadj=TRUE, ibdmat=FALSE, verbose=TRUE)\n",
    "    \n",
    "    #Get the Admixture estimates\n",
    "    prop.ref <- snpgdsAdmixProp(eigen.aou, groups=groups, bound=TRUE)\n",
    "    \n",
    "    #Subset to just the AoU participants\n",
    "    prop.dt <- data.table(prop.ref)\n",
    "    prop.dt[,ID:=rownames(prop.ref)]\n",
    "    prop.aou.dt <- prop.dt[][prop.dt$ID %in% aou.ids]\n",
    "    \n",
    "    #close the connection to the AoU data\n",
    "    snpgdsClose(genofile)\n",
    "    \n",
    "    #output to a file for this set\n",
    "    ################\n",
    "    (outfile <- paste0(\"admixture_aou0\",i,\".csv\"))\n",
    "    write.csv(prop.aou.dt, outfile,quote=FALSE, row.names=FALSE)\n",
    "    \n",
    "    #(cp.command <- paste0(\"gsutil -m cp -r \", outfile,\" gs://fc-secure-30fdbdfd-a46b-406d-9617-1bc69ae1da9d/data/PCSNPS/\"))\n",
    "    (cp.command <- paste0(\"gsutil -m cp -r \", outfile,\" gs://fc-secure-91b7b957-58d8-4142-b93b-c3a2635f2d78/data/PCSNPS/\"))\n",
    "    system(cp.command)\n",
    "   \n",
    "#}"
   ]
  },
  {
   "cell_type": "code",
   "execution_count": 23,
   "metadata": {},
   "outputs": [
    {
     "data": {
      "text/html": [
       "'all_combined_PCSNPS_final_aou05'"
      ],
      "text/latex": [
       "'all\\_combined\\_PCSNPS\\_final\\_aou05'"
      ],
      "text/markdown": [
       "'all_combined_PCSNPS_final_aou05'"
      ],
      "text/plain": [
       "[1] \"all_combined_PCSNPS_final_aou05\""
      ]
     },
     "metadata": {},
     "output_type": "display_data"
    },
    {
     "data": {
      "text/html": [
       "'gsutil -m cp -r gs://fc-secure-30fdbdfd-a46b-406d-9617-1bc69ae1da9d/data/PCSNPS/all_combined_PCSNPS_final_aou05.* .'"
      ],
      "text/latex": [
       "'gsutil -m cp -r gs://fc-secure-30fdbdfd-a46b-406d-9617-1bc69ae1da9d/data/PCSNPS/all\\_combined\\_PCSNPS\\_final\\_aou05.* .'"
      ],
      "text/markdown": [
       "'gsutil -m cp -r gs://fc-secure-30fdbdfd-a46b-406d-9617-1bc69ae1da9d/data/PCSNPS/all_combined_PCSNPS_final_aou05.* .'"
      ],
      "text/plain": [
       "[1] \"gsutil -m cp -r gs://fc-secure-30fdbdfd-a46b-406d-9617-1bc69ae1da9d/data/PCSNPS/all_combined_PCSNPS_final_aou05.* .\""
      ]
     },
     "metadata": {},
     "output_type": "display_data"
    },
    {
     "data": {
      "text/html": [
       "'all_combined_PCSNPS_final_aou05.bed'"
      ],
      "text/latex": [
       "'all\\_combined\\_PCSNPS\\_final\\_aou05.bed'"
      ],
      "text/markdown": [
       "'all_combined_PCSNPS_final_aou05.bed'"
      ],
      "text/plain": [
       "[1] \"all_combined_PCSNPS_final_aou05.bed\""
      ]
     },
     "metadata": {},
     "output_type": "display_data"
    },
    {
     "data": {
      "text/html": [
       "'all_combined_PCSNPS_final_aou05.fam'"
      ],
      "text/latex": [
       "'all\\_combined\\_PCSNPS\\_final\\_aou05.fam'"
      ],
      "text/markdown": [
       "'all_combined_PCSNPS_final_aou05.fam'"
      ],
      "text/plain": [
       "[1] \"all_combined_PCSNPS_final_aou05.fam\""
      ]
     },
     "metadata": {},
     "output_type": "display_data"
    },
    {
     "data": {
      "text/html": [
       "'all_combined_PCSNPS_final_aou05.bim'"
      ],
      "text/latex": [
       "'all\\_combined\\_PCSNPS\\_final\\_aou05.bim'"
      ],
      "text/markdown": [
       "'all_combined_PCSNPS_final_aou05.bim'"
      ],
      "text/plain": [
       "[1] \"all_combined_PCSNPS_final_aou05.bim\""
      ]
     },
     "metadata": {},
     "output_type": "display_data"
    },
    {
     "name": "stdout",
     "output_type": "stream",
     "text": [
      "Start file conversion from PLINK BED to SNP GDS ...\n",
      "    BED file: 'all_combined_PCSNPS_final_aou05.bed'\n",
      "        SNP-major mode (Sample X SNP), 706.4M\n",
      "    FAM file: 'all_combined_PCSNPS_final_aou05.fam'\n",
      "    BIM file: 'all_combined_PCSNPS_final_aou05.bim'\n",
      "Fri Feb 10 18:58:01 2023     (store sample id, snp id, position, and chromosome)\n",
      "    start writing: 9863 samples, 300387 SNPs ...\n",
      "[==================================================] 100%, completed, 5s  \n",
      "Fri Feb 10 18:58:11 2023 \tDone.\n",
      "Optimize the access efficiency ...\n",
      "Clean up the fragments of GDS file:\n",
      "    open the file 'aou-pcsnps.gds' (708.1M)\n",
      "    # of fragments: 39\n",
      "    save to 'aou-pcsnps.gds.tmp'\n",
      "    rename 'aou-pcsnps.gds.tmp' (708.1M, reduced: 252B)\n",
      "    # of fragments: 18\n",
      "The file name: /home/jupyter/workspaces/crcprsanalysisinteractivenotebooks/aou-pcsnps.gds \n",
      "The total number of samples: 9863 \n",
      "The total number of SNPs: 300387 \n",
      "SNP genotypes are stored in SNP-major mode (Sample X SNP).\n",
      "Merge SNP GDS files:\n",
      "    open 'ref-pcsnps.gds' ...\n",
      "        4151 samples, 300387 SNPs\n",
      "    open 'aou-pcsnps.gds' ...\n",
      "        9863 samples, 300387 SNPs\n",
      "Concatenating samples (mapping to the first GDS file) ...\n",
      "    reference: 300387 SNPs (100.0%)\n",
      "    file 2: 7510 allele flips, 145044 ambiguous locus/loci\n",
      "        [no flip]: 256616\n",
      "        [flip]: 7510\n",
      "        [no flip / ambiguous strand]: 36261\n",
      "    create 'merge.gds': 14014 samples, 300387 SNPs\n",
      "    FileFormat = SNP_ARRAY\n",
      "    writing genotypes ...\n",
      "Clean up the fragments of GDS file:\n",
      "    open the file 'merge.gds' (418.7M)\n",
      "    # of fragments: 29\n",
      "    save to 'merge.gds.tmp'\n",
      "    rename 'merge.gds.tmp' (418.7M, reduced: 192B)\n",
      "    # of fragments: 13\n",
      "Done.\n",
      "Eigen-analysis on genotypes:\n",
      "Excluding 0 SNP on non-autosomes\n",
      "Excluding 0 SNP (monomorphic: TRUE, MAF: NaN, missing rate: NaN)\n",
      "    # of samples: 13,303\n",
      "    # of SNPs: 300,387\n",
      "    using 63 threads\n",
      "Eigen-analysis:    the sum of all selected genotypes (0,1,2) = 978041063\n",
      "CPU capabilities: Double-Precision SSE2\n",
      "Fri Feb 10 19:05:06 2023    (internal increment: 440)\n",
      "[==================================================] 100%, completed, 10.3m\n",
      "Fri Feb 10 19:15:25 2023    Begin (eigenvalues and eigenvectors)\n",
      "Fri Feb 10 19:32:12 2023    Done.\n"
     ]
    },
    {
     "data": {
      "text/html": [
       "'admixture_aou05.csv'"
      ],
      "text/latex": [
       "'admixture\\_aou05.csv'"
      ],
      "text/markdown": [
       "'admixture_aou05.csv'"
      ],
      "text/plain": [
       "[1] \"admixture_aou05.csv\""
      ]
     },
     "metadata": {},
     "output_type": "display_data"
    },
    {
     "data": {
      "text/html": [
       "'gsutil -m cp -r admixture_aou05.csv gs://fc-secure-30fdbdfd-a46b-406d-9617-1bc69ae1da9d/data/PCSNPS/'"
      ],
      "text/latex": [
       "'gsutil -m cp -r admixture\\_aou05.csv gs://fc-secure-30fdbdfd-a46b-406d-9617-1bc69ae1da9d/data/PCSNPS/'"
      ],
      "text/markdown": [
       "'gsutil -m cp -r admixture_aou05.csv gs://fc-secure-30fdbdfd-a46b-406d-9617-1bc69ae1da9d/data/PCSNPS/'"
      ],
      "text/plain": [
       "[1] \"gsutil -m cp -r admixture_aou05.csv gs://fc-secure-30fdbdfd-a46b-406d-9617-1bc69ae1da9d/data/PCSNPS/\""
      ]
     },
     "metadata": {},
     "output_type": "display_data"
    }
   ],
   "source": [
    "i<- 5\n",
    "#for(i in 0:9)\n",
    "#{\n",
    "    # Get the AoU file \n",
    "    (infile <- paste0(\"all_combined_PCSNPS_final_aou0\",i))\n",
    "    (cp.command <- paste0(\"gsutil -m cp -r gs://fc-secure-30fdbdfd-a46b-406d-9617-1bc69ae1da9d/data/PCSNPS/\",infile,\".* .\"))\n",
    "    system(cp.command)\n",
    "    \n",
    "    #set up for the GDS\n",
    "    (bed.aou.fn <- paste0(\"all_combined_PCSNPS_final_aou0\",i,\".bed\"))\n",
    "    (fam.aou.fn <- paste0(\"all_combined_PCSNPS_final_aou0\",i,\".fam\"))\n",
    "    (bim.aou.fn <- paste0(\"all_combined_PCSNPS_final_aou0\",i,\".bim\"))\n",
    "    snpgdsBED2GDS(bed.aou.fn, fam.aou.fn, bim.aou.fn, \"aou-pcsnps.gds\")\n",
    "    aou.ids <- snpgdsSummary(\"aou-pcsnps.gds\")$sample.id\n",
    "    \n",
    "    #combined the AoU GDS with the referene GDS \n",
    "    snpgdsCombineGeno(c(\"ref-pcsnps.gds\",\"aou-pcsnps.gds\"), \"merge.gds\") #takes about 7 minutes\n",
    "    genofile <- snpgdsOpen(\"merge.gds\")\n",
    "    \n",
    "    # Run Eigen analysis\n",
    "    eigen.aou <- snpgdsEIGMIX(genofile, sample.id=c(sampset1$unrels,aou.ids), num.thread=num.threads,eigen.cnt=32L, \n",
    "             diagadj=TRUE, ibdmat=FALSE, verbose=TRUE)\n",
    "    \n",
    "    #Get the Admixture estimates\n",
    "    prop.ref <- snpgdsAdmixProp(eigen.aou, groups=groups, bound=TRUE)\n",
    "    \n",
    "    #Subset to just the AoU participants\n",
    "    prop.dt <- data.table(prop.ref)\n",
    "    prop.dt[,ID:=rownames(prop.ref)]\n",
    "    prop.aou.dt <- prop.dt[][prop.dt$ID %in% aou.ids]\n",
    "    \n",
    "    #close the connection to the AoU data\n",
    "    snpgdsClose(genofile)\n",
    "    \n",
    "    #output to a file for this set\n",
    "    ################\n",
    "    (outfile <- paste0(\"admixture_aou0\",i,\".csv\"))\n",
    "    write.csv(prop.aou.dt, outfile,quote=FALSE, row.names=FALSE)\n",
    "    \n",
    "    #(cp.command <- paste0(\"gsutil -m cp -r \", outfile,\" gs://fc-secure-30fdbdfd-a46b-406d-9617-1bc69ae1da9d/data/PCSNPS/\"))\n",
    "    (cp.command <- paste0(\"gsutil -m cp -r \", outfile,\" gs://fc-secure-91b7b957-58d8-4142-b93b-c3a2635f2d78/data/PCSNPS/\"))\n",
    "    system(cp.command)\n",
    "   \n",
    "#}"
   ]
  },
  {
   "cell_type": "code",
   "execution_count": 24,
   "metadata": {},
   "outputs": [
    {
     "data": {
      "text/html": [
       "'all_combined_PCSNPS_final_aou06'"
      ],
      "text/latex": [
       "'all\\_combined\\_PCSNPS\\_final\\_aou06'"
      ],
      "text/markdown": [
       "'all_combined_PCSNPS_final_aou06'"
      ],
      "text/plain": [
       "[1] \"all_combined_PCSNPS_final_aou06\""
      ]
     },
     "metadata": {},
     "output_type": "display_data"
    },
    {
     "data": {
      "text/html": [
       "'gsutil -m cp -r gs://fc-secure-30fdbdfd-a46b-406d-9617-1bc69ae1da9d/data/PCSNPS/all_combined_PCSNPS_final_aou06.* .'"
      ],
      "text/latex": [
       "'gsutil -m cp -r gs://fc-secure-30fdbdfd-a46b-406d-9617-1bc69ae1da9d/data/PCSNPS/all\\_combined\\_PCSNPS\\_final\\_aou06.* .'"
      ],
      "text/markdown": [
       "'gsutil -m cp -r gs://fc-secure-30fdbdfd-a46b-406d-9617-1bc69ae1da9d/data/PCSNPS/all_combined_PCSNPS_final_aou06.* .'"
      ],
      "text/plain": [
       "[1] \"gsutil -m cp -r gs://fc-secure-30fdbdfd-a46b-406d-9617-1bc69ae1da9d/data/PCSNPS/all_combined_PCSNPS_final_aou06.* .\""
      ]
     },
     "metadata": {},
     "output_type": "display_data"
    },
    {
     "data": {
      "text/html": [
       "'all_combined_PCSNPS_final_aou06.bed'"
      ],
      "text/latex": [
       "'all\\_combined\\_PCSNPS\\_final\\_aou06.bed'"
      ],
      "text/markdown": [
       "'all_combined_PCSNPS_final_aou06.bed'"
      ],
      "text/plain": [
       "[1] \"all_combined_PCSNPS_final_aou06.bed\""
      ]
     },
     "metadata": {},
     "output_type": "display_data"
    },
    {
     "data": {
      "text/html": [
       "'all_combined_PCSNPS_final_aou06.fam'"
      ],
      "text/latex": [
       "'all\\_combined\\_PCSNPS\\_final\\_aou06.fam'"
      ],
      "text/markdown": [
       "'all_combined_PCSNPS_final_aou06.fam'"
      ],
      "text/plain": [
       "[1] \"all_combined_PCSNPS_final_aou06.fam\""
      ]
     },
     "metadata": {},
     "output_type": "display_data"
    },
    {
     "data": {
      "text/html": [
       "'all_combined_PCSNPS_final_aou06.bim'"
      ],
      "text/latex": [
       "'all\\_combined\\_PCSNPS\\_final\\_aou06.bim'"
      ],
      "text/markdown": [
       "'all_combined_PCSNPS_final_aou06.bim'"
      ],
      "text/plain": [
       "[1] \"all_combined_PCSNPS_final_aou06.bim\""
      ]
     },
     "metadata": {},
     "output_type": "display_data"
    },
    {
     "name": "stdout",
     "output_type": "stream",
     "text": [
      "Start file conversion from PLINK BED to SNP GDS ...\n",
      "    BED file: 'all_combined_PCSNPS_final_aou06.bed'\n",
      "        SNP-major mode (Sample X SNP), 706.4M\n",
      "    FAM file: 'all_combined_PCSNPS_final_aou06.fam'\n",
      "    BIM file: 'all_combined_PCSNPS_final_aou06.bim'\n",
      "Fri Feb 10 19:35:32 2023     (store sample id, snp id, position, and chromosome)\n",
      "    start writing: 9863 samples, 300387 SNPs ...\n",
      "[==================================================] 100%, completed, 4s  \n",
      "Fri Feb 10 19:35:42 2023 \tDone.\n",
      "Optimize the access efficiency ...\n",
      "Clean up the fragments of GDS file:\n",
      "    open the file 'aou-pcsnps.gds' (708.1M)\n",
      "    # of fragments: 39\n",
      "    save to 'aou-pcsnps.gds.tmp'\n",
      "    rename 'aou-pcsnps.gds.tmp' (708.1M, reduced: 252B)\n",
      "    # of fragments: 18\n",
      "The file name: /home/jupyter/workspaces/crcprsanalysisinteractivenotebooks/aou-pcsnps.gds \n",
      "The total number of samples: 9863 \n",
      "The total number of SNPs: 300387 \n",
      "SNP genotypes are stored in SNP-major mode (Sample X SNP).\n",
      "Merge SNP GDS files:\n",
      "    open 'ref-pcsnps.gds' ...\n",
      "        4151 samples, 300387 SNPs\n",
      "    open 'aou-pcsnps.gds' ...\n",
      "        9863 samples, 300387 SNPs\n",
      "Concatenating samples (mapping to the first GDS file) ...\n",
      "    reference: 300387 SNPs (100.0%)\n",
      "    file 2: 7997 allele flips, 145044 ambiguous locus/loci\n",
      "        [no flip]: 256129\n",
      "        [flip]: 7997\n",
      "        [no flip / ambiguous strand]: 36261\n",
      "    create 'merge.gds': 14014 samples, 300387 SNPs\n",
      "    FileFormat = SNP_ARRAY\n",
      "    writing genotypes ...\n",
      "Clean up the fragments of GDS file:\n",
      "    open the file 'merge.gds' (413.5M)\n",
      "    # of fragments: 29\n",
      "    save to 'merge.gds.tmp'\n",
      "    rename 'merge.gds.tmp' (413.5M, reduced: 192B)\n",
      "    # of fragments: 13\n",
      "Done.\n",
      "Eigen-analysis on genotypes:\n",
      "Excluding 0 SNP on non-autosomes\n",
      "Excluding 0 SNP (monomorphic: TRUE, MAF: NaN, missing rate: NaN)\n",
      "    # of samples: 13,303\n",
      "    # of SNPs: 300,387\n",
      "    using 63 threads\n",
      "Eigen-analysis:    the sum of all selected genotypes (0,1,2) = 968992495\n",
      "CPU capabilities: Double-Precision SSE2\n",
      "Fri Feb 10 19:42:39 2023    (internal increment: 440)\n",
      "[==================================================] 100%, completed, 10.6m \n",
      "Fri Feb 10 19:53:18 2023    Begin (eigenvalues and eigenvectors)\n",
      "Fri Feb 10 20:09:38 2023    Done.\n"
     ]
    },
    {
     "data": {
      "text/html": [
       "'admixture_aou06.csv'"
      ],
      "text/latex": [
       "'admixture\\_aou06.csv'"
      ],
      "text/markdown": [
       "'admixture_aou06.csv'"
      ],
      "text/plain": [
       "[1] \"admixture_aou06.csv\""
      ]
     },
     "metadata": {},
     "output_type": "display_data"
    },
    {
     "data": {
      "text/html": [
       "'gsutil -m cp -r admixture_aou06.csv gs://fc-secure-30fdbdfd-a46b-406d-9617-1bc69ae1da9d/data/PCSNPS/'"
      ],
      "text/latex": [
       "'gsutil -m cp -r admixture\\_aou06.csv gs://fc-secure-30fdbdfd-a46b-406d-9617-1bc69ae1da9d/data/PCSNPS/'"
      ],
      "text/markdown": [
       "'gsutil -m cp -r admixture_aou06.csv gs://fc-secure-30fdbdfd-a46b-406d-9617-1bc69ae1da9d/data/PCSNPS/'"
      ],
      "text/plain": [
       "[1] \"gsutil -m cp -r admixture_aou06.csv gs://fc-secure-30fdbdfd-a46b-406d-9617-1bc69ae1da9d/data/PCSNPS/\""
      ]
     },
     "metadata": {},
     "output_type": "display_data"
    }
   ],
   "source": [
    "i<- 6\n",
    "#for(i in 0:9)\n",
    "#{\n",
    "    # Get the AoU file \n",
    "    (infile <- paste0(\"all_combined_PCSNPS_final_aou0\",i))\n",
    "    (cp.command <- paste0(\"gsutil -m cp -r gs://fc-secure-30fdbdfd-a46b-406d-9617-1bc69ae1da9d/data/PCSNPS/\",infile,\".* .\"))\n",
    "    system(cp.command)\n",
    "    \n",
    "    #set up for the GDS\n",
    "    (bed.aou.fn <- paste0(\"all_combined_PCSNPS_final_aou0\",i,\".bed\"))\n",
    "    (fam.aou.fn <- paste0(\"all_combined_PCSNPS_final_aou0\",i,\".fam\"))\n",
    "    (bim.aou.fn <- paste0(\"all_combined_PCSNPS_final_aou0\",i,\".bim\"))\n",
    "    snpgdsBED2GDS(bed.aou.fn, fam.aou.fn, bim.aou.fn, \"aou-pcsnps.gds\")\n",
    "    aou.ids <- snpgdsSummary(\"aou-pcsnps.gds\")$sample.id\n",
    "    \n",
    "    #combined the AoU GDS with the referene GDS \n",
    "    snpgdsCombineGeno(c(\"ref-pcsnps.gds\",\"aou-pcsnps.gds\"), \"merge.gds\") #takes about 7 minutes\n",
    "    genofile <- snpgdsOpen(\"merge.gds\")\n",
    "    \n",
    "    # Run Eigen analysis\n",
    "    eigen.aou <- snpgdsEIGMIX(genofile, sample.id=c(sampset1$unrels,aou.ids), num.thread=num.threads,eigen.cnt=32L, \n",
    "             diagadj=TRUE, ibdmat=FALSE, verbose=TRUE)\n",
    "    \n",
    "    #Get the Admixture estimates\n",
    "    prop.ref <- snpgdsAdmixProp(eigen.aou, groups=groups, bound=TRUE)\n",
    "    \n",
    "    #Subset to just the AoU participants\n",
    "    prop.dt <- data.table(prop.ref)\n",
    "    prop.dt[,ID:=rownames(prop.ref)]\n",
    "    prop.aou.dt <- prop.dt[][prop.dt$ID %in% aou.ids]\n",
    "    \n",
    "    #close the connection to the AoU data\n",
    "    snpgdsClose(genofile)\n",
    "    \n",
    "    #output to a file for this set\n",
    "    ################\n",
    "    (outfile <- paste0(\"admixture_aou0\",i,\".csv\"))\n",
    "    write.csv(prop.aou.dt, outfile,quote=FALSE, row.names=FALSE)\n",
    "    \n",
    "    #(cp.command <- paste0(\"gsutil -m cp -r \", outfile,\" gs://fc-secure-30fdbdfd-a46b-406d-9617-1bc69ae1da9d/data/PCSNPS/\"))\n",
    "    (cp.command <- paste0(\"gsutil -m cp -r \", outfile,\" gs://fc-secure-91b7b957-58d8-4142-b93b-c3a2635f2d78/data/PCSNPS/\"))\n",
    "    system(cp.command)\n",
    "   \n",
    "#}"
   ]
  },
  {
   "cell_type": "code",
   "execution_count": 25,
   "metadata": {},
   "outputs": [
    {
     "data": {
      "text/html": [
       "'all_combined_PCSNPS_final_aou07'"
      ],
      "text/latex": [
       "'all\\_combined\\_PCSNPS\\_final\\_aou07'"
      ],
      "text/markdown": [
       "'all_combined_PCSNPS_final_aou07'"
      ],
      "text/plain": [
       "[1] \"all_combined_PCSNPS_final_aou07\""
      ]
     },
     "metadata": {},
     "output_type": "display_data"
    },
    {
     "data": {
      "text/html": [
       "'gsutil -m cp -r gs://fc-secure-30fdbdfd-a46b-406d-9617-1bc69ae1da9d/data/PCSNPS/all_combined_PCSNPS_final_aou07.* .'"
      ],
      "text/latex": [
       "'gsutil -m cp -r gs://fc-secure-30fdbdfd-a46b-406d-9617-1bc69ae1da9d/data/PCSNPS/all\\_combined\\_PCSNPS\\_final\\_aou07.* .'"
      ],
      "text/markdown": [
       "'gsutil -m cp -r gs://fc-secure-30fdbdfd-a46b-406d-9617-1bc69ae1da9d/data/PCSNPS/all_combined_PCSNPS_final_aou07.* .'"
      ],
      "text/plain": [
       "[1] \"gsutil -m cp -r gs://fc-secure-30fdbdfd-a46b-406d-9617-1bc69ae1da9d/data/PCSNPS/all_combined_PCSNPS_final_aou07.* .\""
      ]
     },
     "metadata": {},
     "output_type": "display_data"
    },
    {
     "data": {
      "text/html": [
       "'all_combined_PCSNPS_final_aou07.bed'"
      ],
      "text/latex": [
       "'all\\_combined\\_PCSNPS\\_final\\_aou07.bed'"
      ],
      "text/markdown": [
       "'all_combined_PCSNPS_final_aou07.bed'"
      ],
      "text/plain": [
       "[1] \"all_combined_PCSNPS_final_aou07.bed\""
      ]
     },
     "metadata": {},
     "output_type": "display_data"
    },
    {
     "data": {
      "text/html": [
       "'all_combined_PCSNPS_final_aou07.fam'"
      ],
      "text/latex": [
       "'all\\_combined\\_PCSNPS\\_final\\_aou07.fam'"
      ],
      "text/markdown": [
       "'all_combined_PCSNPS_final_aou07.fam'"
      ],
      "text/plain": [
       "[1] \"all_combined_PCSNPS_final_aou07.fam\""
      ]
     },
     "metadata": {},
     "output_type": "display_data"
    },
    {
     "data": {
      "text/html": [
       "'all_combined_PCSNPS_final_aou07.bim'"
      ],
      "text/latex": [
       "'all\\_combined\\_PCSNPS\\_final\\_aou07.bim'"
      ],
      "text/markdown": [
       "'all_combined_PCSNPS_final_aou07.bim'"
      ],
      "text/plain": [
       "[1] \"all_combined_PCSNPS_final_aou07.bim\""
      ]
     },
     "metadata": {},
     "output_type": "display_data"
    },
    {
     "name": "stdout",
     "output_type": "stream",
     "text": [
      "Start file conversion from PLINK BED to SNP GDS ...\n",
      "    BED file: 'all_combined_PCSNPS_final_aou07.bed'\n",
      "        SNP-major mode (Sample X SNP), 706.4M\n",
      "    FAM file: 'all_combined_PCSNPS_final_aou07.fam'\n",
      "    BIM file: 'all_combined_PCSNPS_final_aou07.bim'\n",
      "Fri Feb 10 20:10:16 2023     (store sample id, snp id, position, and chromosome)\n",
      "    start writing: 9863 samples, 300387 SNPs ...\n",
      "[==================================================] 100%, completed, 5s  \n",
      "Fri Feb 10 20:10:26 2023 \tDone.\n",
      "Optimize the access efficiency ...\n",
      "Clean up the fragments of GDS file:\n",
      "    open the file 'aou-pcsnps.gds' (708.1M)\n",
      "    # of fragments: 39\n",
      "    save to 'aou-pcsnps.gds.tmp'\n",
      "    rename 'aou-pcsnps.gds.tmp' (708.1M, reduced: 252B)\n",
      "    # of fragments: 18\n",
      "The file name: /home/jupyter/workspaces/crcprsanalysisinteractivenotebooks/aou-pcsnps.gds \n",
      "The total number of samples: 9863 \n",
      "The total number of SNPs: 300387 \n",
      "SNP genotypes are stored in SNP-major mode (Sample X SNP).\n",
      "Merge SNP GDS files:\n",
      "    open 'ref-pcsnps.gds' ...\n",
      "        4151 samples, 300387 SNPs\n",
      "    open 'aou-pcsnps.gds' ...\n",
      "        9863 samples, 300387 SNPs\n",
      "Concatenating samples (mapping to the first GDS file) ...\n",
      "    reference: 300387 SNPs (100.0%)\n",
      "    file 2: 8486 allele flips, 145044 ambiguous locus/loci\n",
      "        [no flip]: 255640\n",
      "        [flip]: 8486\n",
      "        [no flip / ambiguous strand]: 36261\n",
      "    create 'merge.gds': 14014 samples, 300387 SNPs\n",
      "    FileFormat = SNP_ARRAY\n",
      "    writing genotypes ...\n",
      "Clean up the fragments of GDS file:\n",
      "    open the file 'merge.gds' (410.2M)\n",
      "    # of fragments: 29\n",
      "    save to 'merge.gds.tmp'\n",
      "    rename 'merge.gds.tmp' (410.2M, reduced: 192B)\n",
      "    # of fragments: 13\n",
      "Done.\n",
      "Eigen-analysis on genotypes:\n",
      "Excluding 0 SNP on non-autosomes\n",
      "Excluding 0 SNP (monomorphic: TRUE, MAF: NaN, missing rate: NaN)\n",
      "    # of samples: 13,303\n",
      "    # of SNPs: 300,387\n",
      "    using 63 threads\n",
      "Eigen-analysis:    the sum of all selected genotypes (0,1,2) = 963716661\n",
      "CPU capabilities: Double-Precision SSE2\n",
      "Fri Feb 10 20:17:28 2023    (internal increment: 440)\n",
      "[==================================================] 100%, completed, 10.2m\n",
      "Fri Feb 10 20:27:39 2023    Begin (eigenvalues and eigenvectors)\n",
      "Fri Feb 10 20:45:12 2023    Done.\n"
     ]
    },
    {
     "data": {
      "text/html": [
       "'admixture_aou07.csv'"
      ],
      "text/latex": [
       "'admixture\\_aou07.csv'"
      ],
      "text/markdown": [
       "'admixture_aou07.csv'"
      ],
      "text/plain": [
       "[1] \"admixture_aou07.csv\""
      ]
     },
     "metadata": {},
     "output_type": "display_data"
    },
    {
     "data": {
      "text/html": [
       "'gsutil -m cp -r admixture_aou07.csv gs://fc-secure-30fdbdfd-a46b-406d-9617-1bc69ae1da9d/data/PCSNPS/'"
      ],
      "text/latex": [
       "'gsutil -m cp -r admixture\\_aou07.csv gs://fc-secure-30fdbdfd-a46b-406d-9617-1bc69ae1da9d/data/PCSNPS/'"
      ],
      "text/markdown": [
       "'gsutil -m cp -r admixture_aou07.csv gs://fc-secure-30fdbdfd-a46b-406d-9617-1bc69ae1da9d/data/PCSNPS/'"
      ],
      "text/plain": [
       "[1] \"gsutil -m cp -r admixture_aou07.csv gs://fc-secure-30fdbdfd-a46b-406d-9617-1bc69ae1da9d/data/PCSNPS/\""
      ]
     },
     "metadata": {},
     "output_type": "display_data"
    }
   ],
   "source": [
    "i<- 7\n",
    "#for(i in 0:9)\n",
    "#{\n",
    "    # Get the AoU file \n",
    "    (infile <- paste0(\"all_combined_PCSNPS_final_aou0\",i))\n",
    "    (cp.command <- paste0(\"gsutil -m cp -r gs://fc-secure-30fdbdfd-a46b-406d-9617-1bc69ae1da9d/data/PCSNPS/\",infile,\".* .\"))\n",
    "    system(cp.command)\n",
    "    \n",
    "    #set up for the GDS\n",
    "    (bed.aou.fn <- paste0(\"all_combined_PCSNPS_final_aou0\",i,\".bed\"))\n",
    "    (fam.aou.fn <- paste0(\"all_combined_PCSNPS_final_aou0\",i,\".fam\"))\n",
    "    (bim.aou.fn <- paste0(\"all_combined_PCSNPS_final_aou0\",i,\".bim\"))\n",
    "    snpgdsBED2GDS(bed.aou.fn, fam.aou.fn, bim.aou.fn, \"aou-pcsnps.gds\")\n",
    "    aou.ids <- snpgdsSummary(\"aou-pcsnps.gds\")$sample.id\n",
    "    \n",
    "    #combined the AoU GDS with the referene GDS \n",
    "    snpgdsCombineGeno(c(\"ref-pcsnps.gds\",\"aou-pcsnps.gds\"), \"merge.gds\") #takes about 7 minutes\n",
    "    genofile <- snpgdsOpen(\"merge.gds\")\n",
    "    \n",
    "    # Run Eigen analysis\n",
    "    eigen.aou <- snpgdsEIGMIX(genofile, sample.id=c(sampset1$unrels,aou.ids), num.thread=num.threads,eigen.cnt=32L, \n",
    "             diagadj=TRUE, ibdmat=FALSE, verbose=TRUE)\n",
    "    \n",
    "    #Get the Admixture estimates\n",
    "    prop.ref <- snpgdsAdmixProp(eigen.aou, groups=groups, bound=TRUE)\n",
    "    \n",
    "    #Subset to just the AoU participants\n",
    "    prop.dt <- data.table(prop.ref)\n",
    "    prop.dt[,ID:=rownames(prop.ref)]\n",
    "    prop.aou.dt <- prop.dt[][prop.dt$ID %in% aou.ids]\n",
    "    \n",
    "    #close the connection to the AoU data\n",
    "    snpgdsClose(genofile)\n",
    "    \n",
    "    #output to a file for this set\n",
    "    ################\n",
    "    (outfile <- paste0(\"admixture_aou0\",i,\".csv\"))\n",
    "    write.csv(prop.aou.dt, outfile,quote=FALSE, row.names=FALSE)\n",
    "    \n",
    "    #(cp.command <- paste0(\"gsutil -m cp -r \", outfile,\" gs://fc-secure-30fdbdfd-a46b-406d-9617-1bc69ae1da9d/data/PCSNPS/\"))\n",
    "    (cp.command <- paste0(\"gsutil -m cp -r \", outfile,\" gs://fc-secure-91b7b957-58d8-4142-b93b-c3a2635f2d78/data/PCSNPS/\"))\n",
    "    system(cp.command)\n",
    "   \n",
    "#}"
   ]
  },
  {
   "cell_type": "code",
   "execution_count": 26,
   "metadata": {},
   "outputs": [
    {
     "data": {
      "text/html": [
       "'all_combined_PCSNPS_final_aou08'"
      ],
      "text/latex": [
       "'all\\_combined\\_PCSNPS\\_final\\_aou08'"
      ],
      "text/markdown": [
       "'all_combined_PCSNPS_final_aou08'"
      ],
      "text/plain": [
       "[1] \"all_combined_PCSNPS_final_aou08\""
      ]
     },
     "metadata": {},
     "output_type": "display_data"
    },
    {
     "data": {
      "text/html": [
       "'gsutil -m cp -r gs://fc-secure-30fdbdfd-a46b-406d-9617-1bc69ae1da9d/data/PCSNPS/all_combined_PCSNPS_final_aou08.* .'"
      ],
      "text/latex": [
       "'gsutil -m cp -r gs://fc-secure-30fdbdfd-a46b-406d-9617-1bc69ae1da9d/data/PCSNPS/all\\_combined\\_PCSNPS\\_final\\_aou08.* .'"
      ],
      "text/markdown": [
       "'gsutil -m cp -r gs://fc-secure-30fdbdfd-a46b-406d-9617-1bc69ae1da9d/data/PCSNPS/all_combined_PCSNPS_final_aou08.* .'"
      ],
      "text/plain": [
       "[1] \"gsutil -m cp -r gs://fc-secure-30fdbdfd-a46b-406d-9617-1bc69ae1da9d/data/PCSNPS/all_combined_PCSNPS_final_aou08.* .\""
      ]
     },
     "metadata": {},
     "output_type": "display_data"
    },
    {
     "data": {
      "text/html": [
       "'all_combined_PCSNPS_final_aou08.bed'"
      ],
      "text/latex": [
       "'all\\_combined\\_PCSNPS\\_final\\_aou08.bed'"
      ],
      "text/markdown": [
       "'all_combined_PCSNPS_final_aou08.bed'"
      ],
      "text/plain": [
       "[1] \"all_combined_PCSNPS_final_aou08.bed\""
      ]
     },
     "metadata": {},
     "output_type": "display_data"
    },
    {
     "data": {
      "text/html": [
       "'all_combined_PCSNPS_final_aou08.fam'"
      ],
      "text/latex": [
       "'all\\_combined\\_PCSNPS\\_final\\_aou08.fam'"
      ],
      "text/markdown": [
       "'all_combined_PCSNPS_final_aou08.fam'"
      ],
      "text/plain": [
       "[1] \"all_combined_PCSNPS_final_aou08.fam\""
      ]
     },
     "metadata": {},
     "output_type": "display_data"
    },
    {
     "data": {
      "text/html": [
       "'all_combined_PCSNPS_final_aou08.bim'"
      ],
      "text/latex": [
       "'all\\_combined\\_PCSNPS\\_final\\_aou08.bim'"
      ],
      "text/markdown": [
       "'all_combined_PCSNPS_final_aou08.bim'"
      ],
      "text/plain": [
       "[1] \"all_combined_PCSNPS_final_aou08.bim\""
      ]
     },
     "metadata": {},
     "output_type": "display_data"
    },
    {
     "name": "stdout",
     "output_type": "stream",
     "text": [
      "Start file conversion from PLINK BED to SNP GDS ...\n",
      "    BED file: 'all_combined_PCSNPS_final_aou08.bed'\n",
      "        SNP-major mode (Sample X SNP), 706.4M\n",
      "    FAM file: 'all_combined_PCSNPS_final_aou08.fam'\n",
      "    BIM file: 'all_combined_PCSNPS_final_aou08.bim'\n",
      "Fri Feb 10 20:45:41 2023     (store sample id, snp id, position, and chromosome)\n",
      "    start writing: 9863 samples, 300387 SNPs ...\n",
      "[==================================================] 100%, completed, 6s  \n",
      "Fri Feb 10 20:45:52 2023 \tDone.\n",
      "Optimize the access efficiency ...\n",
      "Clean up the fragments of GDS file:\n",
      "    open the file 'aou-pcsnps.gds' (708.1M)\n",
      "    # of fragments: 39\n",
      "    save to 'aou-pcsnps.gds.tmp'\n",
      "    rename 'aou-pcsnps.gds.tmp' (708.1M, reduced: 252B)\n",
      "    # of fragments: 18\n",
      "The file name: /home/jupyter/workspaces/crcprsanalysisinteractivenotebooks/aou-pcsnps.gds \n",
      "The total number of samples: 9863 \n",
      "The total number of SNPs: 300387 \n",
      "SNP genotypes are stored in SNP-major mode (Sample X SNP).\n",
      "Merge SNP GDS files:\n",
      "    open 'ref-pcsnps.gds' ...\n",
      "        4151 samples, 300387 SNPs\n",
      "    open 'aou-pcsnps.gds' ...\n",
      "        9863 samples, 300387 SNPs\n",
      "Concatenating samples (mapping to the first GDS file) ...\n",
      "    reference: 300387 SNPs (100.0%)\n",
      "    file 2: 8529 allele flips, 145044 ambiguous locus/loci\n",
      "        [no flip]: 255597\n",
      "        [flip]: 8529\n",
      "        [no flip / ambiguous strand]: 36261\n",
      "    create 'merge.gds': 14014 samples, 300387 SNPs\n",
      "    FileFormat = SNP_ARRAY\n",
      "    writing genotypes ...\n",
      "Clean up the fragments of GDS file:\n",
      "    open the file 'merge.gds' (409.6M)\n",
      "    # of fragments: 29\n",
      "    save to 'merge.gds.tmp'\n",
      "    rename 'merge.gds.tmp' (409.6M, reduced: 192B)\n",
      "    # of fragments: 13\n",
      "Done.\n",
      "Eigen-analysis on genotypes:\n",
      "Excluding 0 SNP on non-autosomes\n",
      "Excluding 0 SNP (monomorphic: TRUE, MAF: NaN, missing rate: NaN)\n",
      "    # of samples: 13,303\n",
      "    # of SNPs: 300,387\n",
      "    using 63 threads\n",
      "Eigen-analysis:    the sum of all selected genotypes (0,1,2) = 962576450\n",
      "CPU capabilities: Double-Precision SSE2\n",
      "Fri Feb 10 20:52:57 2023    (internal increment: 440)\n",
      "[==================================================] 100%, completed, 9.5m \n",
      "Fri Feb 10 21:02:28 2023    Begin (eigenvalues and eigenvectors)\n",
      "Fri Feb 10 21:16:58 2023    Done.\n"
     ]
    },
    {
     "data": {
      "text/html": [
       "'admixture_aou08.csv'"
      ],
      "text/latex": [
       "'admixture\\_aou08.csv'"
      ],
      "text/markdown": [
       "'admixture_aou08.csv'"
      ],
      "text/plain": [
       "[1] \"admixture_aou08.csv\""
      ]
     },
     "metadata": {},
     "output_type": "display_data"
    },
    {
     "data": {
      "text/html": [
       "'gsutil -m cp -r admixture_aou08.csv gs://fc-secure-30fdbdfd-a46b-406d-9617-1bc69ae1da9d/data/PCSNPS/'"
      ],
      "text/latex": [
       "'gsutil -m cp -r admixture\\_aou08.csv gs://fc-secure-30fdbdfd-a46b-406d-9617-1bc69ae1da9d/data/PCSNPS/'"
      ],
      "text/markdown": [
       "'gsutil -m cp -r admixture_aou08.csv gs://fc-secure-30fdbdfd-a46b-406d-9617-1bc69ae1da9d/data/PCSNPS/'"
      ],
      "text/plain": [
       "[1] \"gsutil -m cp -r admixture_aou08.csv gs://fc-secure-30fdbdfd-a46b-406d-9617-1bc69ae1da9d/data/PCSNPS/\""
      ]
     },
     "metadata": {},
     "output_type": "display_data"
    }
   ],
   "source": [
    "i<- 8\n",
    "#for(i in 0:9)\n",
    "#{\n",
    "    # Get the AoU file \n",
    "    (infile <- paste0(\"all_combined_PCSNPS_final_aou0\",i))\n",
    "    (cp.command <- paste0(\"gsutil -m cp -r gs://fc-secure-30fdbdfd-a46b-406d-9617-1bc69ae1da9d/data/PCSNPS/\",infile,\".* .\"))\n",
    "    system(cp.command)\n",
    "    \n",
    "    #set up for the GDS\n",
    "    (bed.aou.fn <- paste0(\"all_combined_PCSNPS_final_aou0\",i,\".bed\"))\n",
    "    (fam.aou.fn <- paste0(\"all_combined_PCSNPS_final_aou0\",i,\".fam\"))\n",
    "    (bim.aou.fn <- paste0(\"all_combined_PCSNPS_final_aou0\",i,\".bim\"))\n",
    "    snpgdsBED2GDS(bed.aou.fn, fam.aou.fn, bim.aou.fn, \"aou-pcsnps.gds\")\n",
    "    aou.ids <- snpgdsSummary(\"aou-pcsnps.gds\")$sample.id\n",
    "    \n",
    "    #combined the AoU GDS with the referene GDS \n",
    "    snpgdsCombineGeno(c(\"ref-pcsnps.gds\",\"aou-pcsnps.gds\"), \"merge.gds\") #takes about 7 minutes\n",
    "    genofile <- snpgdsOpen(\"merge.gds\")\n",
    "    \n",
    "    # Run Eigen analysis\n",
    "    eigen.aou <- snpgdsEIGMIX(genofile, sample.id=c(sampset1$unrels,aou.ids), num.thread=num.threads,eigen.cnt=32L, \n",
    "             diagadj=TRUE, ibdmat=FALSE, verbose=TRUE)\n",
    "    \n",
    "    #Get the Admixture estimates\n",
    "    prop.ref <- snpgdsAdmixProp(eigen.aou, groups=groups, bound=TRUE)\n",
    "    \n",
    "    #Subset to just the AoU participants\n",
    "    prop.dt <- data.table(prop.ref)\n",
    "    prop.dt[,ID:=rownames(prop.ref)]\n",
    "    prop.aou.dt <- prop.dt[][prop.dt$ID %in% aou.ids]\n",
    "    \n",
    "    #close the connection to the AoU data\n",
    "    snpgdsClose(genofile)\n",
    "    \n",
    "    #output to a file for this set\n",
    "    ################\n",
    "    (outfile <- paste0(\"admixture_aou0\",i,\".csv\"))\n",
    "    write.csv(prop.aou.dt, outfile,quote=FALSE, row.names=FALSE)\n",
    "    \n",
    "    #(cp.command <- paste0(\"gsutil -m cp -r \", outfile,\" gs://fc-secure-30fdbdfd-a46b-406d-9617-1bc69ae1da9d/data/PCSNPS/\"))\n",
    "    (cp.command <- paste0(\"gsutil -m cp -r \", outfile,\" gs://fc-secure-91b7b957-58d8-4142-b93b-c3a2635f2d78/data/PCSNPS/\"))\n",
    "    system(cp.command)\n",
    "   \n",
    "#}"
   ]
  },
  {
   "cell_type": "code",
   "execution_count": 27,
   "metadata": {},
   "outputs": [
    {
     "data": {
      "text/html": [
       "'all_combined_PCSNPS_final_aou09'"
      ],
      "text/latex": [
       "'all\\_combined\\_PCSNPS\\_final\\_aou09'"
      ],
      "text/markdown": [
       "'all_combined_PCSNPS_final_aou09'"
      ],
      "text/plain": [
       "[1] \"all_combined_PCSNPS_final_aou09\""
      ]
     },
     "metadata": {},
     "output_type": "display_data"
    },
    {
     "data": {
      "text/html": [
       "'gsutil -m cp -r gs://fc-secure-30fdbdfd-a46b-406d-9617-1bc69ae1da9d/data/PCSNPS/all_combined_PCSNPS_final_aou09.* .'"
      ],
      "text/latex": [
       "'gsutil -m cp -r gs://fc-secure-30fdbdfd-a46b-406d-9617-1bc69ae1da9d/data/PCSNPS/all\\_combined\\_PCSNPS\\_final\\_aou09.* .'"
      ],
      "text/markdown": [
       "'gsutil -m cp -r gs://fc-secure-30fdbdfd-a46b-406d-9617-1bc69ae1da9d/data/PCSNPS/all_combined_PCSNPS_final_aou09.* .'"
      ],
      "text/plain": [
       "[1] \"gsutil -m cp -r gs://fc-secure-30fdbdfd-a46b-406d-9617-1bc69ae1da9d/data/PCSNPS/all_combined_PCSNPS_final_aou09.* .\""
      ]
     },
     "metadata": {},
     "output_type": "display_data"
    },
    {
     "data": {
      "text/html": [
       "'all_combined_PCSNPS_final_aou09.bed'"
      ],
      "text/latex": [
       "'all\\_combined\\_PCSNPS\\_final\\_aou09.bed'"
      ],
      "text/markdown": [
       "'all_combined_PCSNPS_final_aou09.bed'"
      ],
      "text/plain": [
       "[1] \"all_combined_PCSNPS_final_aou09.bed\""
      ]
     },
     "metadata": {},
     "output_type": "display_data"
    },
    {
     "data": {
      "text/html": [
       "'all_combined_PCSNPS_final_aou09.fam'"
      ],
      "text/latex": [
       "'all\\_combined\\_PCSNPS\\_final\\_aou09.fam'"
      ],
      "text/markdown": [
       "'all_combined_PCSNPS_final_aou09.fam'"
      ],
      "text/plain": [
       "[1] \"all_combined_PCSNPS_final_aou09.fam\""
      ]
     },
     "metadata": {},
     "output_type": "display_data"
    },
    {
     "data": {
      "text/html": [
       "'all_combined_PCSNPS_final_aou09.bim'"
      ],
      "text/latex": [
       "'all\\_combined\\_PCSNPS\\_final\\_aou09.bim'"
      ],
      "text/markdown": [
       "'all_combined_PCSNPS_final_aou09.bim'"
      ],
      "text/plain": [
       "[1] \"all_combined_PCSNPS_final_aou09.bim\""
      ]
     },
     "metadata": {},
     "output_type": "display_data"
    },
    {
     "name": "stdout",
     "output_type": "stream",
     "text": [
      "Start file conversion from PLINK BED to SNP GDS ...\n",
      "    BED file: 'all_combined_PCSNPS_final_aou09.bed'\n",
      "        SNP-major mode (Sample X SNP), 705.9M\n",
      "    FAM file: 'all_combined_PCSNPS_final_aou09.fam'\n",
      "    BIM file: 'all_combined_PCSNPS_final_aou09.bim'\n",
      "Fri Feb 10 21:22:11 2023     (store sample id, snp id, position, and chromosome)\n",
      "    start writing: 9855 samples, 300387 SNPs ...\n",
      "[==================================================] 100%, completed, 5s  \n",
      "Fri Feb 10 21:22:21 2023 \tDone.\n",
      "Optimize the access efficiency ...\n",
      "Clean up the fragments of GDS file:\n",
      "    open the file 'aou-pcsnps.gds' (707.5M)\n",
      "    # of fragments: 39\n",
      "    save to 'aou-pcsnps.gds.tmp'\n",
      "    rename 'aou-pcsnps.gds.tmp' (707.5M, reduced: 252B)\n",
      "    # of fragments: 18\n",
      "The file name: /home/jupyter/workspaces/crcprsanalysisinteractivenotebooks/aou-pcsnps.gds \n",
      "The total number of samples: 9855 \n",
      "The total number of SNPs: 300387 \n",
      "SNP genotypes are stored in SNP-major mode (Sample X SNP).\n",
      "Merge SNP GDS files:\n",
      "    open 'ref-pcsnps.gds' ...\n",
      "        4151 samples, 300387 SNPs\n",
      "    open 'aou-pcsnps.gds' ...\n",
      "        9855 samples, 300387 SNPs\n",
      "Concatenating samples (mapping to the first GDS file) ...\n",
      "    reference: 300387 SNPs (100.0%)\n",
      "    file 2: 8985 allele flips, 145044 ambiguous locus/loci\n",
      "        [no flip]: 255141\n",
      "        [flip]: 8985\n",
      "        [no flip / ambiguous strand]: 36261\n",
      "    create 'merge.gds': 14006 samples, 300387 SNPs\n",
      "    FileFormat = SNP_ARRAY\n",
      "    writing genotypes ...\n",
      "Clean up the fragments of GDS file:\n",
      "    open the file 'merge.gds' (405.5M)\n",
      "    # of fragments: 29\n",
      "    save to 'merge.gds.tmp'\n",
      "    rename 'merge.gds.tmp' (405.5M, reduced: 192B)\n",
      "    # of fragments: 13\n",
      "Done.\n",
      "Eigen-analysis on genotypes:\n",
      "Excluding 0 SNP on non-autosomes\n",
      "Excluding 0 SNP (monomorphic: TRUE, MAF: NaN, missing rate: NaN)\n",
      "    # of samples: 13,295\n",
      "    # of SNPs: 300,387\n",
      "    using 63 threads\n",
      "Eigen-analysis:    the sum of all selected genotypes (0,1,2) = 957024185\n",
      "CPU capabilities: Double-Precision SSE2\n",
      "Fri Feb 10 21:29:26 2023    (internal increment: 440)\n",
      "[==================================================] 100%, completed, 9.7m \n",
      "Fri Feb 10 21:39:08 2023    Begin (eigenvalues and eigenvectors)\n",
      "Fri Feb 10 21:55:28 2023    Done.\n"
     ]
    },
    {
     "data": {
      "text/html": [
       "'admixture_aou09.csv'"
      ],
      "text/latex": [
       "'admixture\\_aou09.csv'"
      ],
      "text/markdown": [
       "'admixture_aou09.csv'"
      ],
      "text/plain": [
       "[1] \"admixture_aou09.csv\""
      ]
     },
     "metadata": {},
     "output_type": "display_data"
    },
    {
     "data": {
      "text/html": [
       "'gsutil -m cp -r admixture_aou09.csv gs://fc-secure-30fdbdfd-a46b-406d-9617-1bc69ae1da9d/data/PCSNPS/'"
      ],
      "text/latex": [
       "'gsutil -m cp -r admixture\\_aou09.csv gs://fc-secure-30fdbdfd-a46b-406d-9617-1bc69ae1da9d/data/PCSNPS/'"
      ],
      "text/markdown": [
       "'gsutil -m cp -r admixture_aou09.csv gs://fc-secure-30fdbdfd-a46b-406d-9617-1bc69ae1da9d/data/PCSNPS/'"
      ],
      "text/plain": [
       "[1] \"gsutil -m cp -r admixture_aou09.csv gs://fc-secure-30fdbdfd-a46b-406d-9617-1bc69ae1da9d/data/PCSNPS/\""
      ]
     },
     "metadata": {},
     "output_type": "display_data"
    }
   ],
   "source": [
    "i<- 9\n",
    "#for(i in 0:9)\n",
    "#{\n",
    "    # Get the AoU file \n",
    "    (infile <- paste0(\"all_combined_PCSNPS_final_aou0\",i))\n",
    "    (cp.command <- paste0(\"gsutil -m cp -r gs://fc-secure-30fdbdfd-a46b-406d-9617-1bc69ae1da9d/data/PCSNPS/\",infile,\".* .\"))\n",
    "    system(cp.command)\n",
    "    \n",
    "    #set up for the GDS\n",
    "    (bed.aou.fn <- paste0(\"all_combined_PCSNPS_final_aou0\",i,\".bed\"))\n",
    "    (fam.aou.fn <- paste0(\"all_combined_PCSNPS_final_aou0\",i,\".fam\"))\n",
    "    (bim.aou.fn <- paste0(\"all_combined_PCSNPS_final_aou0\",i,\".bim\"))\n",
    "    snpgdsBED2GDS(bed.aou.fn, fam.aou.fn, bim.aou.fn, \"aou-pcsnps.gds\")\n",
    "    aou.ids <- snpgdsSummary(\"aou-pcsnps.gds\")$sample.id\n",
    "    \n",
    "    #combined the AoU GDS with the referene GDS \n",
    "    snpgdsCombineGeno(c(\"ref-pcsnps.gds\",\"aou-pcsnps.gds\"), \"merge.gds\") #takes about 7 minutes\n",
    "    genofile <- snpgdsOpen(\"merge.gds\")\n",
    "    \n",
    "    # Run Eigen analysis\n",
    "    eigen.aou <- snpgdsEIGMIX(genofile, sample.id=c(sampset1$unrels,aou.ids), num.thread=num.threads,eigen.cnt=32L, \n",
    "             diagadj=TRUE, ibdmat=FALSE, verbose=TRUE)\n",
    "    \n",
    "    #Get the Admixture estimates\n",
    "    prop.ref <- snpgdsAdmixProp(eigen.aou, groups=groups, bound=TRUE)\n",
    "    \n",
    "    #Subset to just the AoU participants\n",
    "    prop.dt <- data.table(prop.ref)\n",
    "    prop.dt[,ID:=rownames(prop.ref)]\n",
    "    prop.aou.dt <- prop.dt[][prop.dt$ID %in% aou.ids]\n",
    "    \n",
    "    #close the connection to the AoU data\n",
    "    snpgdsClose(genofile)\n",
    "    \n",
    "    #output to a file for this set\n",
    "    ################\n",
    "    (outfile <- paste0(\"admixture_aou0\",i,\".csv\"))\n",
    "    write.csv(prop.aou.dt, outfile,quote=FALSE, row.names=FALSE)\n",
    "    \n",
    "    #(cp.command <- paste0(\"gsutil -m cp -r \", outfile,\" gs://fc-secure-30fdbdfd-a46b-406d-9617-1bc69ae1da9d/data/PCSNPS/\"))\n",
    "    (cp.command <- paste0(\"gsutil -m cp -r \", outfile,\" gs://fc-secure-91b7b957-58d8-4142-b93b-c3a2635f2d78/data/PCSNPS/\"))\n",
    "    system(cp.command)\n",
    "   \n",
    "#}"
   ]
  }
 ],
 "metadata": {
  "kernelspec": {
   "display_name": "R",
   "language": "R",
   "name": "ir"
  },
  "language_info": {
   "codemirror_mode": "r",
   "file_extension": ".r",
   "mimetype": "text/x-r-source",
   "name": "R",
   "pygments_lexer": "r",
   "version": "4.3.1"
  },
  "toc": {
   "base_numbering": 1,
   "nav_menu": {},
   "number_sections": true,
   "sideBar": true,
   "skip_h1_title": false,
   "title_cell": "Table of Contents",
   "title_sidebar": "Contents",
   "toc_cell": false,
   "toc_position": {},
   "toc_section_display": true,
   "toc_window_display": false
  }
 },
 "nbformat": 4,
 "nbformat_minor": 2
}
