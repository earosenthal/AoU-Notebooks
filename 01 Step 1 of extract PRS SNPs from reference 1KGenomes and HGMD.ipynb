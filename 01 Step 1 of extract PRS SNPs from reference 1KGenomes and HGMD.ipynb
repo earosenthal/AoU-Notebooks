{
 "cells": [
  {
   "cell_type": "markdown",
   "metadata": {},
   "source": [
    "01 Step 1 of extract PRS SNPs from reference 1KGenomes and HGMD\n",
    "\n",
    "extract all chrs, perform QC on them. Save to a matrix table to be opened in step 2\n",
    "\n",
    "Run this notebook in the background using Cloud Compute Profile: 4CPUs, 26GB RAM and 100GB DISK; Dataproc with 100 workers, each w/ 4 CPUs, 15GB RAM, and 150GB HDD."
   ]
  },
  {
   "cell_type": "code",
   "execution_count": null,
   "metadata": {
    "execution": {
     "iopub.execute_input": "2022-03-24T15:51:34.936116Z",
     "iopub.status.busy": "2022-03-24T15:51:34.933512Z",
     "iopub.status.idle": "2022-03-24T15:51:34.947167Z",
     "shell.execute_reply": "2022-03-24T15:51:34.947860Z"
    }
   },
   "outputs": [],
   "source": [
    "from datetime import datetime\n",
    "start = datetime.now()\n",
    "start"
   ]
  },
  {
   "cell_type": "code",
   "execution_count": null,
   "metadata": {
    "execution": {
     "iopub.execute_input": "2022-03-24T15:51:34.955722Z",
     "iopub.status.busy": "2022-03-24T15:51:34.954896Z",
     "iopub.status.idle": "2022-03-24T15:51:52.777841Z",
     "shell.execute_reply": "2022-03-24T15:51:52.779011Z"
    }
   },
   "outputs": [],
   "source": [
    "# Confirm Spark is installed.\n",
    "try:\n",
    "    import pyspark\n",
    "except ModuleNotFoundError:\n",
    "    print(\"!\" * 100 + \"\\n\\n\"\n",
    "          \"In the Researcher Workbench, Hail can only be used on a Dataproc cluster.\\n\"\n",
    "          \"Please use the 'Cloud Analysis Environment' side panel to update your runtime compute type.\\n\\n\" +\n",
    "          \"!\" * 100)\n",
    "\n",
    "# Initialize Hail\n",
    "import hail as hl\n",
    "import os\n",
    "from hail.plot import show\n",
    "\n",
    "hl.init(default_reference='GRCh38', idempotent=True) #add idempotent = True. I think This setting enables multiple notebooks to use the same Hail context.\n",
    "hl.plot.output_notebook()"
   ]
  },
  {
   "cell_type": "code",
   "execution_count": null,
   "metadata": {
    "execution": {
     "iopub.execute_input": "2022-03-24T15:51:52.788851Z",
     "iopub.status.busy": "2022-03-24T15:51:52.787958Z",
     "iopub.status.idle": "2022-03-24T15:51:59.521871Z",
     "shell.execute_reply": "2022-03-24T15:51:59.521164Z"
    }
   },
   "outputs": [],
   "source": [
    "# get reference matrix table. Note, I don't change variable names so that I don't have to fix the names later\n",
    "path_mt_alpha2_cleaned = 'gs://gcp-public-data--gnomad/release/3.1.2/mt/genomes/gnomad.genomes.v3.1.2.hgdp_1kg_subset_dense.mt'\n",
    "mt_alpha2 = hl.read_matrix_table(path_mt_alpha2_cleaned)\n",
    "\n"
   ]
  },
  {
   "cell_type": "code",
   "execution_count": null,
   "metadata": {
    "execution": {
     "iopub.execute_input": "2022-03-24T15:51:59.528340Z",
     "iopub.status.busy": "2022-03-24T15:51:59.527372Z",
     "iopub.status.idle": "2022-03-24T15:51:59.530952Z",
     "shell.execute_reply": "2022-03-24T15:51:59.530080Z"
    }
   },
   "outputs": [],
   "source": [
    "# connect to workspace\n",
    "workspace_bucket = os.environ['WORKSPACE_BUCKET']\n",
    "#!gsutil ls {workspace_bucket}"
   ]
  },
  {
   "cell_type": "code",
   "execution_count": null,
   "metadata": {
    "execution": {
     "iopub.execute_input": "2022-03-24T15:51:59.538369Z",
     "iopub.status.busy": "2022-03-24T15:51:59.537627Z",
     "iopub.status.idle": "2022-03-24T15:52:00.767265Z",
     "shell.execute_reply": "2022-03-24T15:52:00.766533Z"
    }
   },
   "outputs": [],
   "source": [
    "#pull in the intervals\n",
    "interval_table = hl.import_locus_intervals('gs://fc-secure-30fdbdfd-a46b-406d-9617-1bc69ae1da9d/CRC-PRS-2021-02-positions.b38.intervals.txt',reference_genome='GRCh38')\n",
    "#filter on intervals. must use filter_rows here. filter_intervals did not work. \n",
    "filtered_mt = mt_alpha2.filter_rows(hl.is_defined(interval_table[mt_alpha2.locus]))\n"
   ]
  },
  {
   "cell_type": "code",
   "execution_count": null,
   "metadata": {
    "execution": {
     "iopub.execute_input": "2022-03-24T15:52:00.808257Z",
     "iopub.status.busy": "2022-03-24T15:52:00.781641Z",
     "iopub.status.idle": "2022-03-24T15:52:00.952263Z",
     "shell.execute_reply": "2022-03-24T15:52:00.951565Z"
    }
   },
   "outputs": [],
   "source": [
    "# perform QC steps\n",
    "#filtered_mt.alleles.summarize()\n",
    "#hl.summarize_variants(filtered_mt)\n",
    "#filtered_mt.GQ.summarize()\n",
    "\n",
    "#require GQ >=20\n",
    "filtered_mt_GQ_QC = filtered_mt.filter_entries(filtered_mt.GQ >= 20)\n",
    "#filtered_mt_GQ_QC.GQ.summarize()"
   ]
  },
  {
   "cell_type": "code",
   "execution_count": null,
   "metadata": {
    "execution": {
     "iopub.execute_input": "2022-03-24T15:52:00.961380Z",
     "iopub.status.busy": "2022-03-24T15:52:00.960622Z",
     "iopub.status.idle": "2022-03-24T15:52:02.475640Z",
     "shell.execute_reply": "2022-03-24T15:52:02.474843Z"
    }
   },
   "outputs": [],
   "source": [
    "# QC by participants\n",
    "# add in sample qc column?\n",
    "filtered_mt_GQ_QC = hl.sample_qc(filtered_mt_GQ_QC)\n",
    "#filtered_mt_GQ_QC.sample_qc.call_rate.summarize()\n",
    "# keep participants with > 90% call rate\n",
    "mt_QC1 = filtered_mt_GQ_QC.filter_cols(filtered_mt_GQ_QC.sample_qc.call_rate >= 0.9)"
   ]
  },
  {
   "cell_type": "code",
   "execution_count": null,
   "metadata": {
    "execution": {
     "iopub.execute_input": "2022-03-24T15:52:02.482852Z",
     "iopub.status.busy": "2022-03-24T15:52:02.482046Z",
     "iopub.status.idle": "2022-03-24T15:52:02.937895Z",
     "shell.execute_reply": "2022-03-24T15:52:02.937208Z"
    }
   },
   "outputs": [],
   "source": [
    "# QC variants\n",
    "mt_QC1 = hl.variant_qc(mt_QC1)\n",
    "#mt_QC2 = mt_QC1.filter_rows(mt_QC1.variant_qc.call_rate >= 0.9)\n",
    "#hl.summarize_variants(mt_QC2)\n",
    "filtered2_mt = mt_QC1.filter_rows(mt_QC1.variant_qc.call_rate >= 0.9)\n",
    "#hl.summarize_variants(filtered2_mt)"
   ]
  },
  {
   "cell_type": "code",
   "execution_count": null,
   "metadata": {
    "execution": {
     "iopub.execute_input": "2022-03-24T15:52:03.105695Z",
     "iopub.status.busy": "2022-03-24T15:52:03.085216Z",
     "iopub.status.idle": "2022-03-25T01:40:11.334040Z",
     "shell.execute_reply": "2022-03-25T01:40:11.335069Z"
    }
   },
   "outputs": [],
   "source": [
    "# save to matrix table in my google bucket\n",
    "#filtered2_mt = filtered2_mt.cache() \n",
    "filtered2_mt.write(\"gs://fc-secure-30fdbdfd-a46b-406d-9617-1bc69ae1da9d/data/reference/filtered2.mt\")"
   ]
  },
  {
   "cell_type": "code",
   "execution_count": null,
   "metadata": {
    "execution": {
     "iopub.execute_input": "2022-03-25T01:40:11.345506Z",
     "iopub.status.busy": "2022-03-25T01:40:11.344637Z",
     "iopub.status.idle": "2022-03-25T01:40:11.350006Z",
     "shell.execute_reply": "2022-03-25T01:40:11.349133Z"
    }
   },
   "outputs": [],
   "source": [
    "stop = datetime.now()\n",
    "print ('total time is: {}'.format(stop - start))"
   ]
  },
  {
   "cell_type": "markdown",
   "metadata": {},
   "source": []
  }
 ],
 "metadata": {
  "kernelspec": {
   "display_name": "Python 3",
   "language": "python",
   "name": "python3"
  },
  "language_info": {
   "codemirror_mode": {
    "name": "ipython",
    "version": 3
   },
   "file_extension": ".py",
   "mimetype": "text/x-python",
   "name": "python",
   "nbconvert_exporter": "python",
   "pygments_lexer": "ipython3",
   "version": "3.10.12"
  },
  "toc": {
   "base_numbering": 1,
   "nav_menu": {},
   "number_sections": true,
   "sideBar": true,
   "skip_h1_title": false,
   "title_cell": "Table of Contents",
   "title_sidebar": "Contents",
   "toc_cell": false,
   "toc_position": {},
   "toc_section_display": true,
   "toc_window_display": false
  }
 },
 "nbformat": 4,
 "nbformat_minor": 2
}
