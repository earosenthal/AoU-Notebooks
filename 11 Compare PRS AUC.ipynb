{
 "cells": [
  {
   "cell_type": "markdown",
   "metadata": {},
   "source": [
    "11 Compare PRS AUC\n",
    "\n",
    "compare the performance of the adjusted PRSs for CRC cleaned case and screened control data. \n",
    "\n",
    "Creating functions and figuring out how to paste together the tables with results from different ancestries. \n",
    "\n",
    "use standard VM (attachable disk?)"
   ]
  },
  {
   "cell_type": "markdown",
   "metadata": {
    "heading_collapsed": true
   },
   "source": [
    "# Try to do install using suggestion via email"
   ]
  },
  {
   "cell_type": "markdown",
   "metadata": {
    "hidden": true
   },
   "source": [
    "The order for install does not necessarily follow the below order. \n",
    "\n",
    "First step: Try to install all the packages with the code. This can take a long time (40 minutes?)\n",
    "```\n",
    "my.packages <- c('data.table','Hmisc','tidyverse','bigrquery','lubridate','pROC','RISCA')\n",
    "lapply(my.packages,\n",
    "       function(pkg) { if(! pkg %in% installed.packages()) { install.packages(pkg)} } )\n",
    "lapply(my.packages,library,character.only = TRUE)\n",
    "```\n",
    "Second step: Read the errors/warnings to determine which packages need updating\n",
    "\n",
    "Third step: Install those packages\n",
    "\n",
    "Fourth step: Click on Kernel and do restart\n",
    "\n",
    "Fifth step: check the package versions. May have to cycle through this step to find out which other packages I need to install.\n",
    "\n",
    "Sicth step: Install the packages again"
   ]
  },
  {
   "cell_type": "code",
   "execution_count": 3,
   "metadata": {
    "hidden": true
   },
   "outputs": [
    {
     "data": {
      "text/plain": [
       "[1] ‘1.0.6’"
      ]
     },
     "metadata": {},
     "output_type": "display_data"
    },
    {
     "data": {
      "text/plain": [
       "[1] ‘1.0.3’"
      ]
     },
     "metadata": {},
     "output_type": "display_data"
    },
    {
     "data": {
      "text/plain": [
       "[1] ‘0.4.1’"
      ]
     },
     "metadata": {},
     "output_type": "display_data"
    }
   ],
   "source": [
    "# check package versions\n",
    "packageVersion(\"rlang\")\n",
    "packageVersion(\"lifecycle\")\n",
    "#namespace ‘vctrs’ 0.4.1 is already loaded, but >= 0.5.0 is required\n",
    "packageVersion(\"vctrs\")"
   ]
  },
  {
   "cell_type": "code",
   "execution_count": 4,
   "metadata": {
    "hidden": true
   },
   "outputs": [
    {
     "name": "stderr",
     "output_type": "stream",
     "text": [
      "Installing package into ‘/home/jupyter/packages’\n",
      "(as ‘lib’ is unspecified)\n",
      "\n",
      "system (cmd0): /usr/lib/R/bin/R CMD INSTALL\n",
      "\n",
      "foundpkgs: vctrs, /tmp/Rtmp9Jaado/downloaded_packages/vctrs_0.5.0.tar.gz\n",
      "\n",
      "files: /tmp/Rtmp9Jaado/downloaded_packages/vctrs_0.5.0.tar.gz\n",
      "\n",
      "1): succeeded '/usr/lib/R/bin/R CMD INSTALL -l '/home/jupyter/packages' '/tmp/Rtmp9Jaado/downloaded_packages/vctrs_0.5.0.tar.gz''\n",
      "\n"
     ]
    }
   ],
   "source": [
    "install.packages(\"vctrs\",verbose=TRUE)"
   ]
  },
  {
   "cell_type": "code",
   "execution_count": 2,
   "metadata": {
    "hidden": true
   },
   "outputs": [
    {
     "name": "stderr",
     "output_type": "stream",
     "text": [
      "Installing package into ‘/home/jupyter/packages’\n",
      "(as ‘lib’ is unspecified)\n",
      "\n",
      "system (cmd0): /usr/lib/R/bin/R CMD INSTALL\n",
      "\n",
      "also installing the dependencies ‘cli’, ‘rlang’\n",
      "\n",
      "\n",
      "foundpkgs: cli, rlang, lifecycle, /tmp/RtmpweEdMX/downloaded_packages/cli_3.4.1.tar.gz, /tmp/RtmpweEdMX/downloaded_packages/rlang_1.0.6.tar.gz, /tmp/RtmpweEdMX/downloaded_packages/lifecycle_1.0.3.tar.gz\n",
      "\n",
      "files: /tmp/RtmpweEdMX/downloaded_packages/cli_3.4.1.tar.gz, \n",
      "\t/tmp/RtmpweEdMX/downloaded_packages/rlang_1.0.6.tar.gz, \n",
      "\t/tmp/RtmpweEdMX/downloaded_packages/lifecycle_1.0.3.tar.gz\n",
      "\n",
      "1): succeeded '/usr/lib/R/bin/R CMD INSTALL -l '/home/jupyter/packages' '/tmp/RtmpweEdMX/downloaded_packages/cli_3.4.1.tar.gz''\n",
      "\n",
      "2): succeeded '/usr/lib/R/bin/R CMD INSTALL -l '/home/jupyter/packages' '/tmp/RtmpweEdMX/downloaded_packages/rlang_1.0.6.tar.gz''\n",
      "\n",
      "3): succeeded '/usr/lib/R/bin/R CMD INSTALL -l '/home/jupyter/packages' '/tmp/RtmpweEdMX/downloaded_packages/lifecycle_1.0.3.tar.gz''\n",
      "\n"
     ]
    }
   ],
   "source": [
    "# install the necessary updated packages\n",
    "install.packages(\"lifecycle\",verbose=TRUE)"
   ]
  },
  {
   "cell_type": "markdown",
   "metadata": {
    "hidden": true
   },
   "source": [
    "click on kernel and restart"
   ]
  },
  {
   "cell_type": "code",
   "execution_count": 1,
   "metadata": {
    "hidden": true
   },
   "outputs": [
    {
     "data": {
      "text/plain": [
       "[1] ‘1.0.3’"
      ]
     },
     "metadata": {},
     "output_type": "display_data"
    },
    {
     "data": {
      "text/plain": [
       "[1] ‘0.5.0’"
      ]
     },
     "metadata": {},
     "output_type": "display_data"
    }
   ],
   "source": [
    "# check for newer versions of needed packags\n",
    "packageVersion(\"lifecycle\")\n",
    "packageVersion(\"vctrs\")"
   ]
  },
  {
   "cell_type": "code",
   "execution_count": 1,
   "metadata": {
    "hidden": true,
    "scrolled": true
   },
   "outputs": [
    {
     "name": "stderr",
     "output_type": "stream",
     "text": [
      "Installing package into ‘/home/jupyter/packages’\n",
      "(as ‘lib’ is unspecified)\n",
      "\n",
      "also installing the dependencies ‘recipes’, ‘workflows’, ‘DiagrammeR’, ‘ggformula’, ‘relsurv’, ‘tune’, ‘caret’, ‘flexsurv’, ‘randomForestSRC’, ‘mosaic’, ‘mosaicCalc’, ‘timeROC’\n",
      "\n",
      "\n"
     ]
    },
    {
     "data": {
      "text/html": [
       "<ol>\n",
       "\t<li>NULL</li>\n",
       "\t<li>NULL</li>\n",
       "\t<li>NULL</li>\n",
       "\t<li>NULL</li>\n",
       "\t<li>NULL</li>\n",
       "\t<li>NULL</li>\n",
       "\t<li>NULL</li>\n",
       "</ol>\n"
      ],
      "text/latex": [
       "\\begin{enumerate}\n",
       "\\item NULL\n",
       "\\item NULL\n",
       "\\item NULL\n",
       "\\item NULL\n",
       "\\item NULL\n",
       "\\item NULL\n",
       "\\item NULL\n",
       "\\end{enumerate}\n"
      ],
      "text/markdown": [
       "1. NULL\n",
       "2. NULL\n",
       "3. NULL\n",
       "4. NULL\n",
       "5. NULL\n",
       "6. NULL\n",
       "7. NULL\n",
       "\n",
       "\n"
      ],
      "text/plain": [
       "[[1]]\n",
       "NULL\n",
       "\n",
       "[[2]]\n",
       "NULL\n",
       "\n",
       "[[3]]\n",
       "NULL\n",
       "\n",
       "[[4]]\n",
       "NULL\n",
       "\n",
       "[[5]]\n",
       "NULL\n",
       "\n",
       "[[6]]\n",
       "NULL\n",
       "\n",
       "[[7]]\n",
       "NULL\n"
      ]
     },
     "metadata": {},
     "output_type": "display_data"
    },
    {
     "name": "stderr",
     "output_type": "stream",
     "text": [
      "\n",
      "Attaching package: ‘Hmisc’\n",
      "\n",
      "\n",
      "The following objects are masked from ‘package:base’:\n",
      "\n",
      "    format.pval, units\n",
      "\n",
      "\n",
      "Warning message in system(\"timedatectl\", intern = TRUE):\n",
      "“running command 'timedatectl' had status 1”\n",
      "── \u001b[1mAttaching packages\u001b[22m ─────────────────────────────────────── tidyverse 1.3.2 ──\n",
      "\u001b[32m✔\u001b[39m \u001b[34mggplot2\u001b[39m 3.4.0     \u001b[32m✔\u001b[39m \u001b[34mpurrr  \u001b[39m 1.0.1\n",
      "\u001b[32m✔\u001b[39m \u001b[34mtibble \u001b[39m 3.2.1     \u001b[32m✔\u001b[39m \u001b[34mdplyr  \u001b[39m 1.1.2\n",
      "\u001b[32m✔\u001b[39m \u001b[34mtidyr  \u001b[39m 1.3.0     \u001b[32m✔\u001b[39m \u001b[34mstringr\u001b[39m 1.5.0\n",
      "\u001b[32m✔\u001b[39m \u001b[34mreadr  \u001b[39m 2.1.3     \u001b[32m✔\u001b[39m \u001b[34mforcats\u001b[39m 0.5.2\n",
      "── \u001b[1mConflicts\u001b[22m ────────────────────────────────────────── tidyverse_conflicts() ──\n",
      "\u001b[31m✖\u001b[39m \u001b[34mdplyr\u001b[39m::\u001b[32mbetween()\u001b[39m   masks \u001b[34mdata.table\u001b[39m::between()\n",
      "\u001b[31m✖\u001b[39m \u001b[34mdplyr\u001b[39m::\u001b[32mfilter()\u001b[39m    masks \u001b[34mstats\u001b[39m::filter()\n",
      "\u001b[31m✖\u001b[39m \u001b[34mdplyr\u001b[39m::\u001b[32mfirst()\u001b[39m     masks \u001b[34mdata.table\u001b[39m::first()\n",
      "\u001b[31m✖\u001b[39m \u001b[34mdplyr\u001b[39m::\u001b[32mlag()\u001b[39m       masks \u001b[34mstats\u001b[39m::lag()\n",
      "\u001b[31m✖\u001b[39m \u001b[34mdplyr\u001b[39m::\u001b[32mlast()\u001b[39m      masks \u001b[34mdata.table\u001b[39m::last()\n",
      "\u001b[31m✖\u001b[39m \u001b[34mdplyr\u001b[39m::\u001b[32msrc()\u001b[39m       masks \u001b[34mHmisc\u001b[39m::src()\n",
      "\u001b[31m✖\u001b[39m \u001b[34mdplyr\u001b[39m::\u001b[32msummarize()\u001b[39m masks \u001b[34mHmisc\u001b[39m::summarize()\n",
      "\u001b[31m✖\u001b[39m \u001b[34mpurrr\u001b[39m::\u001b[32mtranspose()\u001b[39m masks \u001b[34mdata.table\u001b[39m::transpose()\n",
      "Loading required package: timechange\n",
      "\n",
      "\n",
      "Attaching package: ‘lubridate’\n",
      "\n",
      "\n",
      "The following objects are masked from ‘package:data.table’:\n",
      "\n",
      "    hour, isoweek, mday, minute, month, quarter, second, wday, week,\n",
      "    yday, year\n",
      "\n",
      "\n",
      "The following objects are masked from ‘package:base’:\n",
      "\n",
      "    date, intersect, setdiff, union\n",
      "\n",
      "\n",
      "Type 'citation(\"pROC\")' for a citation.\n",
      "\n",
      "\n",
      "Attaching package: ‘pROC’\n",
      "\n",
      "\n",
      "The following objects are masked from ‘package:stats’:\n",
      "\n",
      "    cov, smooth, var\n",
      "\n",
      "\n",
      "Loading required package: splines\n",
      "\n",
      "Loading required package: survival\n",
      "\n",
      "Loading required package: relsurv\n",
      "\n",
      "Loading required package: date\n",
      "\n",
      "\n",
      "Attaching package: ‘relsurv’\n",
      "\n",
      "\n",
      "The following object is masked from ‘package:lubridate’:\n",
      "\n",
      "    years\n",
      "\n",
      "\n",
      "Loading required package: reticulate\n",
      "\n",
      "Loading required package: tune\n",
      "\n",
      "Registered S3 method overwritten by 'mosaic':\n",
      "  method                           from   \n",
      "  fortify.SpatialPolygonsDataFrame ggplot2\n",
      "\n",
      "\n",
      "Attaching package: ‘RISCA’\n",
      "\n",
      "\n",
      "The following object is masked from ‘package:pROC’:\n",
      "\n",
      "    auc\n",
      "\n",
      "\n"
     ]
    },
    {
     "data": {
      "text/html": [
       "<ol>\n",
       "\t<li><style>\n",
       ".list-inline {list-style: none; margin:0; padding: 0}\n",
       ".list-inline>li {display: inline-block}\n",
       ".list-inline>li:not(:last-child)::after {content: \"\\00b7\"; padding: 0 .5ex}\n",
       "</style>\n",
       "<ol class=list-inline><li>'data.table'</li><li>'stats'</li><li>'graphics'</li><li>'grDevices'</li><li>'utils'</li><li>'datasets'</li><li>'methods'</li><li>'base'</li></ol>\n",
       "</li>\n",
       "\t<li><style>\n",
       ".list-inline {list-style: none; margin:0; padding: 0}\n",
       ".list-inline>li {display: inline-block}\n",
       ".list-inline>li:not(:last-child)::after {content: \"\\00b7\"; padding: 0 .5ex}\n",
       "</style>\n",
       "<ol class=list-inline><li>'Hmisc'</li><li>'data.table'</li><li>'stats'</li><li>'graphics'</li><li>'grDevices'</li><li>'utils'</li><li>'datasets'</li><li>'methods'</li><li>'base'</li></ol>\n",
       "</li>\n",
       "\t<li><style>\n",
       ".list-inline {list-style: none; margin:0; padding: 0}\n",
       ".list-inline>li {display: inline-block}\n",
       ".list-inline>li:not(:last-child)::after {content: \"\\00b7\"; padding: 0 .5ex}\n",
       "</style>\n",
       "<ol class=list-inline><li>'forcats'</li><li>'stringr'</li><li>'dplyr'</li><li>'purrr'</li><li>'readr'</li><li>'tidyr'</li><li>'tibble'</li><li>'ggplot2'</li><li>'tidyverse'</li><li>'Hmisc'</li><li>'data.table'</li><li>'stats'</li><li>'graphics'</li><li>'grDevices'</li><li>'utils'</li><li>'datasets'</li><li>'methods'</li><li>'base'</li></ol>\n",
       "</li>\n",
       "\t<li><style>\n",
       ".list-inline {list-style: none; margin:0; padding: 0}\n",
       ".list-inline>li {display: inline-block}\n",
       ".list-inline>li:not(:last-child)::after {content: \"\\00b7\"; padding: 0 .5ex}\n",
       "</style>\n",
       "<ol class=list-inline><li>'bigrquery'</li><li>'forcats'</li><li>'stringr'</li><li>'dplyr'</li><li>'purrr'</li><li>'readr'</li><li>'tidyr'</li><li>'tibble'</li><li>'ggplot2'</li><li>'tidyverse'</li><li>'Hmisc'</li><li>'data.table'</li><li>'stats'</li><li>'graphics'</li><li>'grDevices'</li><li>'utils'</li><li>'datasets'</li><li>'methods'</li><li>'base'</li></ol>\n",
       "</li>\n",
       "\t<li><style>\n",
       ".list-inline {list-style: none; margin:0; padding: 0}\n",
       ".list-inline>li {display: inline-block}\n",
       ".list-inline>li:not(:last-child)::after {content: \"\\00b7\"; padding: 0 .5ex}\n",
       "</style>\n",
       "<ol class=list-inline><li>'lubridate'</li><li>'timechange'</li><li>'bigrquery'</li><li>'forcats'</li><li>'stringr'</li><li>'dplyr'</li><li>'purrr'</li><li>'readr'</li><li>'tidyr'</li><li>'tibble'</li><li>'ggplot2'</li><li>'tidyverse'</li><li>'Hmisc'</li><li>'data.table'</li><li>'stats'</li><li>'graphics'</li><li>'grDevices'</li><li>'utils'</li><li>'datasets'</li><li>'methods'</li><li>'base'</li></ol>\n",
       "</li>\n",
       "\t<li><style>\n",
       ".list-inline {list-style: none; margin:0; padding: 0}\n",
       ".list-inline>li {display: inline-block}\n",
       ".list-inline>li:not(:last-child)::after {content: \"\\00b7\"; padding: 0 .5ex}\n",
       "</style>\n",
       "<ol class=list-inline><li>'pROC'</li><li>'lubridate'</li><li>'timechange'</li><li>'bigrquery'</li><li>'forcats'</li><li>'stringr'</li><li>'dplyr'</li><li>'purrr'</li><li>'readr'</li><li>'tidyr'</li><li>'tibble'</li><li>'ggplot2'</li><li>'tidyverse'</li><li>'Hmisc'</li><li>'data.table'</li><li>'stats'</li><li>'graphics'</li><li>'grDevices'</li><li>'utils'</li><li>'datasets'</li><li>'methods'</li><li>'base'</li></ol>\n",
       "</li>\n",
       "\t<li><style>\n",
       ".list-inline {list-style: none; margin:0; padding: 0}\n",
       ".list-inline>li {display: inline-block}\n",
       ".list-inline>li:not(:last-child)::after {content: \"\\00b7\"; padding: 0 .5ex}\n",
       "</style>\n",
       "<ol class=list-inline><li>'RISCA'</li><li>'mosaicData'</li><li>'ggformula'</li><li>'Matrix'</li><li>'lattice'</li><li>'tune'</li><li>'reticulate'</li><li>'relsurv'</li><li>'date'</li><li>'survival'</li><li>'splines'</li><li>'pROC'</li><li>'lubridate'</li><li>'timechange'</li><li>'bigrquery'</li><li>'forcats'</li><li>'stringr'</li><li>'dplyr'</li><li>'purrr'</li><li>'readr'</li><li>'tidyr'</li><li>'tibble'</li><li>'ggplot2'</li><li>'tidyverse'</li><li>'Hmisc'</li><li>'data.table'</li><li>'stats'</li><li>'graphics'</li><li>'grDevices'</li><li>'utils'</li><li>'datasets'</li><li>'methods'</li><li>'base'</li></ol>\n",
       "</li>\n",
       "</ol>\n"
      ],
      "text/latex": [
       "\\begin{enumerate}\n",
       "\\item \\begin{enumerate*}\n",
       "\\item 'data.table'\n",
       "\\item 'stats'\n",
       "\\item 'graphics'\n",
       "\\item 'grDevices'\n",
       "\\item 'utils'\n",
       "\\item 'datasets'\n",
       "\\item 'methods'\n",
       "\\item 'base'\n",
       "\\end{enumerate*}\n",
       "\n",
       "\\item \\begin{enumerate*}\n",
       "\\item 'Hmisc'\n",
       "\\item 'data.table'\n",
       "\\item 'stats'\n",
       "\\item 'graphics'\n",
       "\\item 'grDevices'\n",
       "\\item 'utils'\n",
       "\\item 'datasets'\n",
       "\\item 'methods'\n",
       "\\item 'base'\n",
       "\\end{enumerate*}\n",
       "\n",
       "\\item \\begin{enumerate*}\n",
       "\\item 'forcats'\n",
       "\\item 'stringr'\n",
       "\\item 'dplyr'\n",
       "\\item 'purrr'\n",
       "\\item 'readr'\n",
       "\\item 'tidyr'\n",
       "\\item 'tibble'\n",
       "\\item 'ggplot2'\n",
       "\\item 'tidyverse'\n",
       "\\item 'Hmisc'\n",
       "\\item 'data.table'\n",
       "\\item 'stats'\n",
       "\\item 'graphics'\n",
       "\\item 'grDevices'\n",
       "\\item 'utils'\n",
       "\\item 'datasets'\n",
       "\\item 'methods'\n",
       "\\item 'base'\n",
       "\\end{enumerate*}\n",
       "\n",
       "\\item \\begin{enumerate*}\n",
       "\\item 'bigrquery'\n",
       "\\item 'forcats'\n",
       "\\item 'stringr'\n",
       "\\item 'dplyr'\n",
       "\\item 'purrr'\n",
       "\\item 'readr'\n",
       "\\item 'tidyr'\n",
       "\\item 'tibble'\n",
       "\\item 'ggplot2'\n",
       "\\item 'tidyverse'\n",
       "\\item 'Hmisc'\n",
       "\\item 'data.table'\n",
       "\\item 'stats'\n",
       "\\item 'graphics'\n",
       "\\item 'grDevices'\n",
       "\\item 'utils'\n",
       "\\item 'datasets'\n",
       "\\item 'methods'\n",
       "\\item 'base'\n",
       "\\end{enumerate*}\n",
       "\n",
       "\\item \\begin{enumerate*}\n",
       "\\item 'lubridate'\n",
       "\\item 'timechange'\n",
       "\\item 'bigrquery'\n",
       "\\item 'forcats'\n",
       "\\item 'stringr'\n",
       "\\item 'dplyr'\n",
       "\\item 'purrr'\n",
       "\\item 'readr'\n",
       "\\item 'tidyr'\n",
       "\\item 'tibble'\n",
       "\\item 'ggplot2'\n",
       "\\item 'tidyverse'\n",
       "\\item 'Hmisc'\n",
       "\\item 'data.table'\n",
       "\\item 'stats'\n",
       "\\item 'graphics'\n",
       "\\item 'grDevices'\n",
       "\\item 'utils'\n",
       "\\item 'datasets'\n",
       "\\item 'methods'\n",
       "\\item 'base'\n",
       "\\end{enumerate*}\n",
       "\n",
       "\\item \\begin{enumerate*}\n",
       "\\item 'pROC'\n",
       "\\item 'lubridate'\n",
       "\\item 'timechange'\n",
       "\\item 'bigrquery'\n",
       "\\item 'forcats'\n",
       "\\item 'stringr'\n",
       "\\item 'dplyr'\n",
       "\\item 'purrr'\n",
       "\\item 'readr'\n",
       "\\item 'tidyr'\n",
       "\\item 'tibble'\n",
       "\\item 'ggplot2'\n",
       "\\item 'tidyverse'\n",
       "\\item 'Hmisc'\n",
       "\\item 'data.table'\n",
       "\\item 'stats'\n",
       "\\item 'graphics'\n",
       "\\item 'grDevices'\n",
       "\\item 'utils'\n",
       "\\item 'datasets'\n",
       "\\item 'methods'\n",
       "\\item 'base'\n",
       "\\end{enumerate*}\n",
       "\n",
       "\\item \\begin{enumerate*}\n",
       "\\item 'RISCA'\n",
       "\\item 'mosaicData'\n",
       "\\item 'ggformula'\n",
       "\\item 'Matrix'\n",
       "\\item 'lattice'\n",
       "\\item 'tune'\n",
       "\\item 'reticulate'\n",
       "\\item 'relsurv'\n",
       "\\item 'date'\n",
       "\\item 'survival'\n",
       "\\item 'splines'\n",
       "\\item 'pROC'\n",
       "\\item 'lubridate'\n",
       "\\item 'timechange'\n",
       "\\item 'bigrquery'\n",
       "\\item 'forcats'\n",
       "\\item 'stringr'\n",
       "\\item 'dplyr'\n",
       "\\item 'purrr'\n",
       "\\item 'readr'\n",
       "\\item 'tidyr'\n",
       "\\item 'tibble'\n",
       "\\item 'ggplot2'\n",
       "\\item 'tidyverse'\n",
       "\\item 'Hmisc'\n",
       "\\item 'data.table'\n",
       "\\item 'stats'\n",
       "\\item 'graphics'\n",
       "\\item 'grDevices'\n",
       "\\item 'utils'\n",
       "\\item 'datasets'\n",
       "\\item 'methods'\n",
       "\\item 'base'\n",
       "\\end{enumerate*}\n",
       "\n",
       "\\end{enumerate}\n"
      ],
      "text/markdown": [
       "1. 1. 'data.table'\n",
       "2. 'stats'\n",
       "3. 'graphics'\n",
       "4. 'grDevices'\n",
       "5. 'utils'\n",
       "6. 'datasets'\n",
       "7. 'methods'\n",
       "8. 'base'\n",
       "\n",
       "\n",
       "\n",
       "2. 1. 'Hmisc'\n",
       "2. 'data.table'\n",
       "3. 'stats'\n",
       "4. 'graphics'\n",
       "5. 'grDevices'\n",
       "6. 'utils'\n",
       "7. 'datasets'\n",
       "8. 'methods'\n",
       "9. 'base'\n",
       "\n",
       "\n",
       "\n",
       "3. 1. 'forcats'\n",
       "2. 'stringr'\n",
       "3. 'dplyr'\n",
       "4. 'purrr'\n",
       "5. 'readr'\n",
       "6. 'tidyr'\n",
       "7. 'tibble'\n",
       "8. 'ggplot2'\n",
       "9. 'tidyverse'\n",
       "10. 'Hmisc'\n",
       "11. 'data.table'\n",
       "12. 'stats'\n",
       "13. 'graphics'\n",
       "14. 'grDevices'\n",
       "15. 'utils'\n",
       "16. 'datasets'\n",
       "17. 'methods'\n",
       "18. 'base'\n",
       "\n",
       "\n",
       "\n",
       "4. 1. 'bigrquery'\n",
       "2. 'forcats'\n",
       "3. 'stringr'\n",
       "4. 'dplyr'\n",
       "5. 'purrr'\n",
       "6. 'readr'\n",
       "7. 'tidyr'\n",
       "8. 'tibble'\n",
       "9. 'ggplot2'\n",
       "10. 'tidyverse'\n",
       "11. 'Hmisc'\n",
       "12. 'data.table'\n",
       "13. 'stats'\n",
       "14. 'graphics'\n",
       "15. 'grDevices'\n",
       "16. 'utils'\n",
       "17. 'datasets'\n",
       "18. 'methods'\n",
       "19. 'base'\n",
       "\n",
       "\n",
       "\n",
       "5. 1. 'lubridate'\n",
       "2. 'timechange'\n",
       "3. 'bigrquery'\n",
       "4. 'forcats'\n",
       "5. 'stringr'\n",
       "6. 'dplyr'\n",
       "7. 'purrr'\n",
       "8. 'readr'\n",
       "9. 'tidyr'\n",
       "10. 'tibble'\n",
       "11. 'ggplot2'\n",
       "12. 'tidyverse'\n",
       "13. 'Hmisc'\n",
       "14. 'data.table'\n",
       "15. 'stats'\n",
       "16. 'graphics'\n",
       "17. 'grDevices'\n",
       "18. 'utils'\n",
       "19. 'datasets'\n",
       "20. 'methods'\n",
       "21. 'base'\n",
       "\n",
       "\n",
       "\n",
       "6. 1. 'pROC'\n",
       "2. 'lubridate'\n",
       "3. 'timechange'\n",
       "4. 'bigrquery'\n",
       "5. 'forcats'\n",
       "6. 'stringr'\n",
       "7. 'dplyr'\n",
       "8. 'purrr'\n",
       "9. 'readr'\n",
       "10. 'tidyr'\n",
       "11. 'tibble'\n",
       "12. 'ggplot2'\n",
       "13. 'tidyverse'\n",
       "14. 'Hmisc'\n",
       "15. 'data.table'\n",
       "16. 'stats'\n",
       "17. 'graphics'\n",
       "18. 'grDevices'\n",
       "19. 'utils'\n",
       "20. 'datasets'\n",
       "21. 'methods'\n",
       "22. 'base'\n",
       "\n",
       "\n",
       "\n",
       "7. 1. 'RISCA'\n",
       "2. 'mosaicData'\n",
       "3. 'ggformula'\n",
       "4. 'Matrix'\n",
       "5. 'lattice'\n",
       "6. 'tune'\n",
       "7. 'reticulate'\n",
       "8. 'relsurv'\n",
       "9. 'date'\n",
       "10. 'survival'\n",
       "11. 'splines'\n",
       "12. 'pROC'\n",
       "13. 'lubridate'\n",
       "14. 'timechange'\n",
       "15. 'bigrquery'\n",
       "16. 'forcats'\n",
       "17. 'stringr'\n",
       "18. 'dplyr'\n",
       "19. 'purrr'\n",
       "20. 'readr'\n",
       "21. 'tidyr'\n",
       "22. 'tibble'\n",
       "23. 'ggplot2'\n",
       "24. 'tidyverse'\n",
       "25. 'Hmisc'\n",
       "26. 'data.table'\n",
       "27. 'stats'\n",
       "28. 'graphics'\n",
       "29. 'grDevices'\n",
       "30. 'utils'\n",
       "31. 'datasets'\n",
       "32. 'methods'\n",
       "33. 'base'\n",
       "\n",
       "\n",
       "\n",
       "\n",
       "\n"
      ],
      "text/plain": [
       "[[1]]\n",
       "[1] \"data.table\" \"stats\"      \"graphics\"   \"grDevices\"  \"utils\"     \n",
       "[6] \"datasets\"   \"methods\"    \"base\"      \n",
       "\n",
       "[[2]]\n",
       "[1] \"Hmisc\"      \"data.table\" \"stats\"      \"graphics\"   \"grDevices\" \n",
       "[6] \"utils\"      \"datasets\"   \"methods\"    \"base\"      \n",
       "\n",
       "[[3]]\n",
       " [1] \"forcats\"    \"stringr\"    \"dplyr\"      \"purrr\"      \"readr\"     \n",
       " [6] \"tidyr\"      \"tibble\"     \"ggplot2\"    \"tidyverse\"  \"Hmisc\"     \n",
       "[11] \"data.table\" \"stats\"      \"graphics\"   \"grDevices\"  \"utils\"     \n",
       "[16] \"datasets\"   \"methods\"    \"base\"      \n",
       "\n",
       "[[4]]\n",
       " [1] \"bigrquery\"  \"forcats\"    \"stringr\"    \"dplyr\"      \"purrr\"     \n",
       " [6] \"readr\"      \"tidyr\"      \"tibble\"     \"ggplot2\"    \"tidyverse\" \n",
       "[11] \"Hmisc\"      \"data.table\" \"stats\"      \"graphics\"   \"grDevices\" \n",
       "[16] \"utils\"      \"datasets\"   \"methods\"    \"base\"      \n",
       "\n",
       "[[5]]\n",
       " [1] \"lubridate\"  \"timechange\" \"bigrquery\"  \"forcats\"    \"stringr\"   \n",
       " [6] \"dplyr\"      \"purrr\"      \"readr\"      \"tidyr\"      \"tibble\"    \n",
       "[11] \"ggplot2\"    \"tidyverse\"  \"Hmisc\"      \"data.table\" \"stats\"     \n",
       "[16] \"graphics\"   \"grDevices\"  \"utils\"      \"datasets\"   \"methods\"   \n",
       "[21] \"base\"      \n",
       "\n",
       "[[6]]\n",
       " [1] \"pROC\"       \"lubridate\"  \"timechange\" \"bigrquery\"  \"forcats\"   \n",
       " [6] \"stringr\"    \"dplyr\"      \"purrr\"      \"readr\"      \"tidyr\"     \n",
       "[11] \"tibble\"     \"ggplot2\"    \"tidyverse\"  \"Hmisc\"      \"data.table\"\n",
       "[16] \"stats\"      \"graphics\"   \"grDevices\"  \"utils\"      \"datasets\"  \n",
       "[21] \"methods\"    \"base\"      \n",
       "\n",
       "[[7]]\n",
       " [1] \"RISCA\"      \"mosaicData\" \"ggformula\"  \"Matrix\"     \"lattice\"   \n",
       " [6] \"tune\"       \"reticulate\" \"relsurv\"    \"date\"       \"survival\"  \n",
       "[11] \"splines\"    \"pROC\"       \"lubridate\"  \"timechange\" \"bigrquery\" \n",
       "[16] \"forcats\"    \"stringr\"    \"dplyr\"      \"purrr\"      \"readr\"     \n",
       "[21] \"tidyr\"      \"tibble\"     \"ggplot2\"    \"tidyverse\"  \"Hmisc\"     \n",
       "[26] \"data.table\" \"stats\"      \"graphics\"   \"grDevices\"  \"utils\"     \n",
       "[31] \"datasets\"   \"methods\"    \"base\"      \n"
      ]
     },
     "metadata": {},
     "output_type": "display_data"
    }
   ],
   "source": [
    "# try to install the packages I want\n",
    "my.packages <- c('data.table','Hmisc','tidyverse','bigrquery','lubridate','pROC','RISCA')\n",
    "lapply(my.packages,\n",
    "       function(pkg) { if(! pkg %in% installed.packages()) { install.packages(pkg)} } )\n",
    "lapply(my.packages,library,character.only = TRUE)"
   ]
  },
  {
   "cell_type": "code",
   "execution_count": 2,
   "metadata": {
    "hidden": true
   },
   "outputs": [
    {
     "data": {
      "text/plain": [
       "R version 4.2.2 Patched (2022-11-10 r83330)\n",
       "Platform: x86_64-pc-linux-gnu (64-bit)\n",
       "Running under: Ubuntu 20.04.3 LTS\n",
       "\n",
       "Matrix products: default\n",
       "BLAS:   /usr/lib/x86_64-linux-gnu/openblas-pthread/libblas.so.3\n",
       "LAPACK: /usr/lib/x86_64-linux-gnu/openblas-pthread/liblapack.so.3\n",
       "\n",
       "locale:\n",
       " [1] LC_CTYPE=en_US.UTF-8       LC_NUMERIC=C              \n",
       " [3] LC_TIME=en_US.UTF-8        LC_COLLATE=en_US.UTF-8    \n",
       " [5] LC_MONETARY=en_US.UTF-8    LC_MESSAGES=en_US.UTF-8   \n",
       " [7] LC_PAPER=en_US.UTF-8       LC_NAME=C                 \n",
       " [9] LC_ADDRESS=C               LC_TELEPHONE=C            \n",
       "[11] LC_MEASUREMENT=en_US.UTF-8 LC_IDENTIFICATION=C       \n",
       "\n",
       "attached base packages:\n",
       "[1] splines   stats     graphics  grDevices utils     datasets  methods  \n",
       "[8] base     \n",
       "\n",
       "other attached packages:\n",
       " [1] RISCA_1.0.4       mosaicData_0.20.3 ggformula_0.10.4  Matrix_1.5-3     \n",
       " [5] lattice_0.20-45   tune_1.1.1        reticulate_1.26   relsurv_2.2-9    \n",
       " [9] date_1.2-42       survival_3.4-0    pROC_1.18.2       lubridate_1.9.0  \n",
       "[13] timechange_0.1.1  bigrquery_1.4.1   forcats_0.5.2     stringr_1.5.0    \n",
       "[17] dplyr_1.1.2       purrr_1.0.1       readr_2.1.3       tidyr_1.3.0      \n",
       "[21] tibble_3.2.1      ggplot2_3.4.0     tidyverse_1.3.2   Hmisc_5.1-0      \n",
       "[25] data.table_1.14.6\n",
       "\n",
       "loaded via a namespace (and not attached):\n",
       "  [1] utf8_1.2.2            ggstance_0.3.6        tidyselect_1.2.0     \n",
       "  [4] ncvreg_3.14.1         htmlwidgets_1.5.4     grid_4.2.2           \n",
       "  [7] munsell_0.5.0         pec_2023.04.12        codetools_0.2-18     \n",
       " [10] dials_1.2.0           statmod_1.4.37        pbdZMQ_0.3-8         \n",
       " [13] future_1.29.0         withr_2.5.0           colorspace_2.0-3     \n",
       " [16] muhaz_1.2.6.4         knitr_1.41            uuid_1.1-0           \n",
       " [19] rstudioapi_0.14       stats4_4.2.2          listenv_0.8.0        \n",
       " [22] repr_1.1.4            hdnom_6.0.2           polyclip_1.10-4      \n",
       " [25] bit64_4.0.5           DiceDesign_1.9        farver_2.1.1         \n",
       " [28] parallelly_1.32.1     vctrs_0.6.2           generics_0.1.3       \n",
       " [31] ipred_0.9-14          xfun_0.35             R6_2.5.1             \n",
       " [34] doParallel_1.0.17     timereg_2.0.5         lhs_1.1.6            \n",
       " [37] cachem_1.0.6          assertthat_0.2.1      scales_1.2.1         \n",
       " [40] nnet_7.3-18           googlesheets4_1.0.1   gtable_0.3.1         \n",
       " [43] globals_0.16.2        flexsurv_2.2.2        timeDate_4022.108    \n",
       " [46] rlang_1.1.1           workflows_1.1.3       randomForestSRC_3.2.1\n",
       " [49] lazyeval_0.2.2        survivalmodels_0.1.13 ModelMetrics_1.2.2.2 \n",
       " [52] gargle_1.2.1          yardstick_1.2.0       broom_1.0.1          \n",
       " [55] mosaicCore_0.9.2.1    checkmate_2.2.0       reshape2_1.4.4       \n",
       " [58] modelr_0.1.10         backports_1.4.1       SuperLearner_2.0-28  \n",
       " [61] caret_6.0-94          DiagrammeR_1.0.9      tools_4.2.2          \n",
       " [64] lava_1.7.2.1          cubature_2.0.4.6      ellipsis_0.3.2       \n",
       " [67] RColorBrewer_1.1-3    ggridges_0.5.4        polynom_1.4-1        \n",
       " [70] Rcpp_1.0.9            parsnip_1.1.0         plyr_1.8.8           \n",
       " [73] base64enc_0.1-3       visNetwork_2.1.2      rpart_4.1.19         \n",
       " [76] glmnetUtils_1.1.8     deSolve_1.35          haven_2.5.1          \n",
       " [79] cluster_2.1.4         fs_1.5.2              furrr_0.3.1          \n",
       " [82] magrittr_2.0.3        reprex_2.0.2          GPfit_1.0-8          \n",
       " [85] timeROC_0.4           googledrive_2.0.0     mvtnorm_1.1-3        \n",
       " [88] pkgload_1.3.2         hms_1.1.2             evaluate_0.18        \n",
       " [91] readxl_1.4.1          gridExtra_2.3         shape_1.4.6          \n",
       " [94] compiler_4.2.2        crayon_1.5.2          htmltools_0.5.4      \n",
       " [97] tzdb_0.4.0            Formula_1.2-5         Ryacas_1.1.5         \n",
       "[100] DBI_1.1.3             tweenr_2.0.2          dbplyr_2.2.1         \n",
       "[103] MASS_7.3-58.1         data.tree_1.0.0       cli_3.6.1            \n",
       "[106] quadprog_1.5-8        parallel_4.2.2        gower_1.0.1          \n",
       "[109] mosaicCalc_0.6.0      pkgconfig_2.0.3       sp_1.5-1             \n",
       "[112] numDeriv_2016.8-1.1   foreign_0.8-84        IRdisplay_1.1        \n",
       "[115] plotly_4.10.1         recipes_1.0.6         xml2_1.3.3           \n",
       "[118] foreach_1.5.2         penalized_0.9-52      hardhat_1.3.0        \n",
       "[121] prodlim_2023.03.31    rvest_1.0.3           digest_0.6.30        \n",
       "[124] rmarkdown_2.18        cellranger_1.1.0      gam_1.22-2           \n",
       "[127] htmlTable_2.4.1       Deriv_4.1.3           kernlab_0.9-32       \n",
       "[130] lifecycle_1.0.3       nlme_3.1-160          jsonlite_1.8.4       \n",
       "[133] mstate_0.3.2          orthopolynom_1.0-6.1  viridisLite_0.4.1    \n",
       "[136] fansi_1.0.3           labelled_2.11.0       pillar_1.9.0         \n",
       "[139] fastmap_1.1.0         httr_1.4.4            glue_1.6.2           \n",
       "[142] png_0.1-8             iterators_1.0.14      glmnet_4.1-7         \n",
       "[145] bit_4.0.5             ggforce_0.4.1         class_7.3-20         \n",
       "[148] stringi_1.7.8         mosaic_1.8.4.2        nnls_1.4             \n",
       "[151] rsample_1.1.1         metR_0.14.0           memoise_2.0.1        \n",
       "[154] IRkernel_1.3.1        future.apply_1.10.0  "
      ]
     },
     "metadata": {},
     "output_type": "display_data"
    }
   ],
   "source": [
    "sessionInfo()"
   ]
  },
  {
   "cell_type": "markdown",
   "metadata": {
    "heading_collapsed": true
   },
   "source": [
    "# Functions used in this notebook"
   ]
  },
  {
   "cell_type": "code",
   "execution_count": 3,
   "metadata": {
    "hidden": true
   },
   "outputs": [],
   "source": [
    "# Functions that are used in this notebook\n",
    "# need to add in UC1 or UC2. Need to check the OR analysis firt to decide which to use. \n",
    "# It doesn't look like either UC1 or UC2 is significant, so may be best to ignore\n",
    "# the data set must contain variables named my.PRS, CRC.status, sex and censored.age\n",
    "\n",
    "# function to get the ORs and CIs for the PRS\n",
    "get.OR.round <- function(subset.dt)\n",
    "    {\n",
    "    glm1 <- summary(glm(CRC.status ~ my.PRS, data=subset.dt,family=\"binomial\"))\n",
    "    glm2 <- summary(glm(CRC.status ~ my.PRS + sex + censored.age, data=subset.dt,family=\"binomial\"))\n",
    "    beta1 <-  (glm1$coef[\"my.PRS\",1])\n",
    "    beta2 <- (glm2$coef[\"my.PRS\",1])\n",
    "    OR1 <- round(exp(glm1$coef[\"my.PRS\",1]), 2)\n",
    "    OR2 <- round(exp(glm2$coef[\"my.PRS\",1]), 2)\n",
    "    SD1 <- glm1$coef[\"my.PRS\",2]\n",
    "    SD2 <- glm2$coef[\"my.PRS\",2]\n",
    "    CI1 <- round(exp(beta1 + (SD1* qnorm(c(0.025,0.975)))), 2) \n",
    "    CI2 <- round(exp(beta2 + (SD2* qnorm(c(0.025,0.975)))), 2)\n",
    "    rbind( c(OR1,paste(CI1[1],CI1[2],sep=\",\")), c(OR2, paste(CI2[1],CI2[2],sep=\",\")))\n",
    "}\n",
    "get.OR <- function(subset.dt)\n",
    "    {\n",
    "    glm1 <- summary(glm(CRC.status ~ my.PRS, data=subset.dt,family=\"binomial\"))\n",
    "    glm2 <- summary(glm(CRC.status ~ my.PRS + sex + censored.age, data=subset.dt,family=\"binomial\"))\n",
    "    beta1 <-  (glm1$coef[\"my.PRS\",1])\n",
    "    beta2 <- (glm2$coef[\"my.PRS\",1])\n",
    "    OR1 <- exp(glm1$coef[\"my.PRS\",1])\n",
    "    OR2 <- exp(glm2$coef[\"my.PRS\",1])\n",
    "    SD1 <- glm1$coef[\"my.PRS\",2]\n",
    "    SD2 <- glm2$coef[\"my.PRS\",2]\n",
    "    CI1 <- exp(beta1 + (SD1* qnorm(c(0.025,0.975))))\n",
    "    CI2 <- exp(beta2 + (SD2* qnorm(c(0.025,0.975))))\n",
    "    rbind( c(OR1,paste(CI1[1],CI1[2],sep=\",\")), c(OR2, paste(CI2[1],CI2[2],sep=\",\")))\n",
    "}\n",
    "\n",
    "\n",
    "auc.adjusted=function(subset.dt)\n",
    "    {\n",
    "    lm.controls <- lm(my.PRS ~ sex + censored.age, data=subset.dt[][subset.dt$CRC.status==0])\n",
    "    subset.dt$prs.adj.age.sex <- (subset.dt$my.PRS - (lm.controls$coef[1] + lm.controls$coef[\"sex\"] * subset.dt$sex \n",
    "                                 + lm.controls$coef[\"censored.age\"] * subset.dt$censored.age)) / sd(lm.controls$residuals)\n",
    "    roc.binary(status=\"CRC.status\", variable=\"prs.adj.age.sex\", confounders=~sex+censored.age, data=subset.dt,\n",
    "           precision=seq(0.1,0.9, by=0.1) )$auc\n",
    "}\n",
    "\n",
    "#Bootstrap CI function\n",
    "auc.boot.ci <- function(auc.iter)\n",
    "    {\n",
    "    c(auc.iter[1]-1.96*sd(auc.iter), auc.iter[1]+1.96*sd(auc.iter))\n",
    "}\n",
    "# set the number of iterations for the bootstrap here so I don't have to repeat myself later (remember to remove \n",
    "# the repeats when I increase the number of iterations to 500. There may be a time issue involved)\n",
    "niter <- 500"
   ]
  },
  {
   "cell_type": "markdown",
   "metadata": {},
   "source": [
    "# Prepare the data"
   ]
  },
  {
   "cell_type": "code",
   "execution_count": 4,
   "metadata": {
    "code_folding": []
   },
   "outputs": [
    {
     "data": {
      "text/html": [
       "<span style=white-space:pre-wrap>'gsutil -m cp -r  gs://fc-secure-30fdbdfd-a46b-406d-9617-1bc69ae1da9d/alpha3/CRC-Nov2021-PRS-adjustments-2023-03-02.tsv .'</span>"
      ],
      "text/latex": [
       "'gsutil -m cp -r  gs://fc-secure-30fdbdfd-a46b-406d-9617-1bc69ae1da9d/alpha3/CRC-Nov2021-PRS-adjustments-2023-03-02.tsv .'"
      ],
      "text/markdown": [
       "<span style=white-space:pre-wrap>'gsutil -m cp -r  gs://fc-secure-30fdbdfd-a46b-406d-9617-1bc69ae1da9d/alpha3/CRC-Nov2021-PRS-adjustments-2023-03-02.tsv .'</span>"
      ],
      "text/plain": [
       "[1] \"gsutil -m cp -r  gs://fc-secure-30fdbdfd-a46b-406d-9617-1bc69ae1da9d/alpha3/CRC-Nov2021-PRS-adjustments-2023-03-02.tsv .\""
      ]
     },
     "metadata": {},
     "output_type": "display_data"
    }
   ],
   "source": [
    "# copy over the output file from 25 Adjust alpha3 PRS by WG PCs or admixture\n",
    "#infile <- \"CRC-Nov2021-PRS-adjustments-2023-03-02.tsv\"\n",
    "#(cp.command <- paste0(\"gsutil -m cp -r  gs://fc-secure-30fdbdfd-a46b-406d-9617-1bc69ae1da9d/alpha3/\",infile,\" .\"))\n",
    "infile <- \"CRC-PRS-adjustments-2023-03-02.tsv\"\n",
    "(cp.command <- paste0(\"gsutil -m cp -r   gs://fc-secure-91b7b957-58d8-4142-b93b-c3a2635f2d78/alpha3/\",infile,\" .\"))\n",
    "system(cp.command)"
   ]
  },
  {
   "cell_type": "code",
   "execution_count": null,
   "metadata": {},
   "outputs": [],
   "source": [
    "merge.dt <- fread(infile)\n",
    "str(merge.dt)"
   ]
  },
  {
   "cell_type": "code",
   "execution_count": 6,
   "metadata": {},
   "outputs": [],
   "source": [
    "# standardise raw PRS, PC adjusted PRS and ANC adjusted PRS  for the OR calculations\n",
    "# standardization needs to happen before reducing to the cleaned cases and screened controls\n",
    "merge.dt[,norm.PRS := (PRS-mean(PRS))/sd(PRS)]\n",
    "merge.dt[,norm.PRS.ADJ.PC := (PRS.ADJ.PC)/sd(PRS.ADJ.PC)]\n",
    "merge.dt[,norm.PRS.ADJ.ANC := (PRS.ADJ.ANC)/sd(PRS.ADJ.ANC)]\n",
    "# The broad adjustments don't need to be standardized because theoretically, they already do this\n",
    "#merge.dt[,norm.BROAD.PRS := BROAD.PRS] "
   ]
  },
  {
   "cell_type": "code",
   "execution_count": 7,
   "metadata": {},
   "outputs": [],
   "source": [
    "# need to have sex be numeric\n",
    "#merge.dt <- merge.dt[][!is.na(merge.dt$sex_at_birth)]\n",
    "merge.dt[,sex:=ifelse(sex_at_birth==\"Male\",1,NA)] #since there are fewer males than females, males are 1 and females are 0\n",
    "merge.dt[,sex:=ifelse(sex_at_birth==\"Female\",0,sex)]"
   ]
  },
  {
   "cell_type": "code",
   "execution_count": null,
   "metadata": {},
   "outputs": [],
   "source": [
    "describe(merge.dt$sex_at_birth)\n",
    "describe(merge.dt$sex)"
   ]
  },
  {
   "cell_type": "code",
   "execution_count": 16,
   "metadata": {},
   "outputs": [
    {
     "data": {
      "text/html": [
       "<table class=\"dataframe\">\n",
       "<caption>A data.frame: 2 × 5</caption>\n",
       "<thead>\n",
       "\t<tr><th scope=col>CRC.status</th><th scope=col>CSET1</th><th scope=col>CSET3</th><th scope=col>SCREENED</th><th scope=col>n</th></tr>\n",
       "\t<tr><th scope=col>&lt;int&gt;</th><th scope=col>&lt;int&gt;</th><th scope=col>&lt;int&gt;</th><th scope=col>&lt;int&gt;</th><th scope=col>&lt;int&gt;</th></tr>\n",
       "</thead>\n",
       "<tbody>\n",
       "\t<tr><td>0</td><td>0</td><td>0</td><td>1</td><td>12378</td></tr>\n",
       "\t<tr><td>1</td><td>1</td><td>1</td><td>0</td><td>  348</td></tr>\n",
       "</tbody>\n",
       "</table>\n"
      ],
      "text/latex": [
       "A data.frame: 2 × 5\n",
       "\\begin{tabular}{lllll}\n",
       " CRC.status & CSET1 & CSET3 & SCREENED & n\\\\\n",
       " <int> & <int> & <int> & <int> & <int>\\\\\n",
       "\\hline\n",
       "\t 0 & 0 & 0 & 1 & 12378\\\\\n",
       "\t 1 & 1 & 1 & 0 &   348\\\\\n",
       "\\end{tabular}\n"
      ],
      "text/markdown": [
       "\n",
       "A data.frame: 2 × 5\n",
       "\n",
       "| CRC.status &lt;int&gt; | CSET1 &lt;int&gt; | CSET3 &lt;int&gt; | SCREENED &lt;int&gt; | n &lt;int&gt; |\n",
       "|---|---|---|---|---|\n",
       "| 0 | 0 | 0 | 1 | 12378 |\n",
       "| 1 | 1 | 1 | 0 |   348 |\n",
       "\n"
      ],
      "text/plain": [
       "  CRC.status CSET1 CSET3 SCREENED n    \n",
       "1 0          0     0     1        12378\n",
       "2 1          1     1     0          348"
      ]
     },
     "metadata": {},
     "output_type": "display_data"
    }
   ],
   "source": [
    "# Get subset with just cleaned cases and screened controls\n",
    "merge2.dt <- merge.dt[][(merge.dt$CSET3==1 | merge.dt$SCREENED==1) ]\n",
    "as.data.frame(merge2.dt) %>%\n",
    "    count(CRC.status,CSET1, CSET3, SCREENED)"
   ]
  },
  {
   "cell_type": "code",
   "execution_count": 17,
   "metadata": {},
   "outputs": [
    {
     "data": {
      "text/html": [
       "<style>\n",
       ".list-inline {list-style: none; margin:0; padding: 0}\n",
       ".list-inline>li {display: inline-block}\n",
       ".list-inline>li:not(:last-child)::after {content: \"\\00b7\"; padding: 0 .5ex}\n",
       "</style>\n",
       "<ol class=list-inline><li>'person_id'</li><li>'PC1'</li><li>'PC2'</li><li>'PC3'</li><li>'PC4'</li><li>'PC5'</li><li>'PC6'</li><li>'PC7'</li><li>'PC8'</li><li>'PC9'</li><li>'PC10'</li><li>'PC11'</li><li>'PC12'</li><li>'PC13'</li><li>'PC14'</li><li>'PC15'</li><li>'PC16'</li><li>'PC17'</li><li>'PC18'</li><li>'PC19'</li><li>'PC20'</li><li>'PC21'</li><li>'PC22'</li><li>'PC23'</li><li>'PC24'</li><li>'PC25'</li><li>'PC26'</li><li>'PC27'</li><li>'PC28'</li><li>'PC29'</li><li>'PC30'</li><li>'PC31'</li><li>'PC32'</li><li>'AFR'</li><li>'AMR'</li><li>'EAS'</li><li>'EUR'</li><li>'MID'</li><li>'SAS'</li><li>'ID'</li><li>'PRS'</li><li>'dob'</li><li>'AGE'</li><li>'age.of.onset'</li><li>'age.screen1'</li><li>'age.screen2'</li><li>'censored.age'</li><li>'CRC.status'</li><li>'CSET1'</li><li>'CSET3'</li><li>'UC1'</li><li>'UC2'</li><li>'SCREENED'</li><li>'sex_at_birth'</li><li>'gender'</li><li>'race'</li><li>'ethnicity'</li><li>'my.ancestry3'</li><li>'PRS.ADJ.PC'</li><li>'PRS.ADJ.ANC'</li><li>'PRS.BR.REF'</li><li>'PRS.BR.AOU1'</li><li>'PRS.BR.AOU2'</li><li>'PRS.BR.AOU.ALL'</li><li>'PRS.BR.ANC.AOU1'</li><li>'PRS.BR.ANC.AOU2'</li><li>'norm.PRS'</li><li>'norm.PRS.ADJ.PC'</li><li>'norm.PRS.ADJ.ANC'</li><li>'sex'</li></ol>\n"
      ],
      "text/latex": [
       "\\begin{enumerate*}\n",
       "\\item 'person\\_id'\n",
       "\\item 'PC1'\n",
       "\\item 'PC2'\n",
       "\\item 'PC3'\n",
       "\\item 'PC4'\n",
       "\\item 'PC5'\n",
       "\\item 'PC6'\n",
       "\\item 'PC7'\n",
       "\\item 'PC8'\n",
       "\\item 'PC9'\n",
       "\\item 'PC10'\n",
       "\\item 'PC11'\n",
       "\\item 'PC12'\n",
       "\\item 'PC13'\n",
       "\\item 'PC14'\n",
       "\\item 'PC15'\n",
       "\\item 'PC16'\n",
       "\\item 'PC17'\n",
       "\\item 'PC18'\n",
       "\\item 'PC19'\n",
       "\\item 'PC20'\n",
       "\\item 'PC21'\n",
       "\\item 'PC22'\n",
       "\\item 'PC23'\n",
       "\\item 'PC24'\n",
       "\\item 'PC25'\n",
       "\\item 'PC26'\n",
       "\\item 'PC27'\n",
       "\\item 'PC28'\n",
       "\\item 'PC29'\n",
       "\\item 'PC30'\n",
       "\\item 'PC31'\n",
       "\\item 'PC32'\n",
       "\\item 'AFR'\n",
       "\\item 'AMR'\n",
       "\\item 'EAS'\n",
       "\\item 'EUR'\n",
       "\\item 'MID'\n",
       "\\item 'SAS'\n",
       "\\item 'ID'\n",
       "\\item 'PRS'\n",
       "\\item 'dob'\n",
       "\\item 'AGE'\n",
       "\\item 'age.of.onset'\n",
       "\\item 'age.screen1'\n",
       "\\item 'age.screen2'\n",
       "\\item 'censored.age'\n",
       "\\item 'CRC.status'\n",
       "\\item 'CSET1'\n",
       "\\item 'CSET3'\n",
       "\\item 'UC1'\n",
       "\\item 'UC2'\n",
       "\\item 'SCREENED'\n",
       "\\item 'sex\\_at\\_birth'\n",
       "\\item 'gender'\n",
       "\\item 'race'\n",
       "\\item 'ethnicity'\n",
       "\\item 'my.ancestry3'\n",
       "\\item 'PRS.ADJ.PC'\n",
       "\\item 'PRS.ADJ.ANC'\n",
       "\\item 'PRS.BR.REF'\n",
       "\\item 'PRS.BR.AOU1'\n",
       "\\item 'PRS.BR.AOU2'\n",
       "\\item 'PRS.BR.AOU.ALL'\n",
       "\\item 'PRS.BR.ANC.AOU1'\n",
       "\\item 'PRS.BR.ANC.AOU2'\n",
       "\\item 'norm.PRS'\n",
       "\\item 'norm.PRS.ADJ.PC'\n",
       "\\item 'norm.PRS.ADJ.ANC'\n",
       "\\item 'sex'\n",
       "\\end{enumerate*}\n"
      ],
      "text/markdown": [
       "1. 'person_id'\n",
       "2. 'PC1'\n",
       "3. 'PC2'\n",
       "4. 'PC3'\n",
       "5. 'PC4'\n",
       "6. 'PC5'\n",
       "7. 'PC6'\n",
       "8. 'PC7'\n",
       "9. 'PC8'\n",
       "10. 'PC9'\n",
       "11. 'PC10'\n",
       "12. 'PC11'\n",
       "13. 'PC12'\n",
       "14. 'PC13'\n",
       "15. 'PC14'\n",
       "16. 'PC15'\n",
       "17. 'PC16'\n",
       "18. 'PC17'\n",
       "19. 'PC18'\n",
       "20. 'PC19'\n",
       "21. 'PC20'\n",
       "22. 'PC21'\n",
       "23. 'PC22'\n",
       "24. 'PC23'\n",
       "25. 'PC24'\n",
       "26. 'PC25'\n",
       "27. 'PC26'\n",
       "28. 'PC27'\n",
       "29. 'PC28'\n",
       "30. 'PC29'\n",
       "31. 'PC30'\n",
       "32. 'PC31'\n",
       "33. 'PC32'\n",
       "34. 'AFR'\n",
       "35. 'AMR'\n",
       "36. 'EAS'\n",
       "37. 'EUR'\n",
       "38. 'MID'\n",
       "39. 'SAS'\n",
       "40. 'ID'\n",
       "41. 'PRS'\n",
       "42. 'dob'\n",
       "43. 'AGE'\n",
       "44. 'age.of.onset'\n",
       "45. 'age.screen1'\n",
       "46. 'age.screen2'\n",
       "47. 'censored.age'\n",
       "48. 'CRC.status'\n",
       "49. 'CSET1'\n",
       "50. 'CSET3'\n",
       "51. 'UC1'\n",
       "52. 'UC2'\n",
       "53. 'SCREENED'\n",
       "54. 'sex_at_birth'\n",
       "55. 'gender'\n",
       "56. 'race'\n",
       "57. 'ethnicity'\n",
       "58. 'my.ancestry3'\n",
       "59. 'PRS.ADJ.PC'\n",
       "60. 'PRS.ADJ.ANC'\n",
       "61. 'PRS.BR.REF'\n",
       "62. 'PRS.BR.AOU1'\n",
       "63. 'PRS.BR.AOU2'\n",
       "64. 'PRS.BR.AOU.ALL'\n",
       "65. 'PRS.BR.ANC.AOU1'\n",
       "66. 'PRS.BR.ANC.AOU2'\n",
       "67. 'norm.PRS'\n",
       "68. 'norm.PRS.ADJ.PC'\n",
       "69. 'norm.PRS.ADJ.ANC'\n",
       "70. 'sex'\n",
       "\n",
       "\n"
      ],
      "text/plain": [
       " [1] \"person_id\"        \"PC1\"              \"PC2\"              \"PC3\"             \n",
       " [5] \"PC4\"              \"PC5\"              \"PC6\"              \"PC7\"             \n",
       " [9] \"PC8\"              \"PC9\"              \"PC10\"             \"PC11\"            \n",
       "[13] \"PC12\"             \"PC13\"             \"PC14\"             \"PC15\"            \n",
       "[17] \"PC16\"             \"PC17\"             \"PC18\"             \"PC19\"            \n",
       "[21] \"PC20\"             \"PC21\"             \"PC22\"             \"PC23\"            \n",
       "[25] \"PC24\"             \"PC25\"             \"PC26\"             \"PC27\"            \n",
       "[29] \"PC28\"             \"PC29\"             \"PC30\"             \"PC31\"            \n",
       "[33] \"PC32\"             \"AFR\"              \"AMR\"              \"EAS\"             \n",
       "[37] \"EUR\"              \"MID\"              \"SAS\"              \"ID\"              \n",
       "[41] \"PRS\"              \"dob\"              \"AGE\"              \"age.of.onset\"    \n",
       "[45] \"age.screen1\"      \"age.screen2\"      \"censored.age\"     \"CRC.status\"      \n",
       "[49] \"CSET1\"            \"CSET3\"            \"UC1\"              \"UC2\"             \n",
       "[53] \"SCREENED\"         \"sex_at_birth\"     \"gender\"           \"race\"            \n",
       "[57] \"ethnicity\"        \"my.ancestry3\"     \"PRS.ADJ.PC\"       \"PRS.ADJ.ANC\"     \n",
       "[61] \"PRS.BR.REF\"       \"PRS.BR.AOU1\"      \"PRS.BR.AOU2\"      \"PRS.BR.AOU.ALL\"  \n",
       "[65] \"PRS.BR.ANC.AOU1\"  \"PRS.BR.ANC.AOU2\"  \"norm.PRS\"         \"norm.PRS.ADJ.PC\" \n",
       "[69] \"norm.PRS.ADJ.ANC\" \"sex\"             "
      ]
     },
     "metadata": {},
     "output_type": "display_data"
    }
   ],
   "source": [
    "names(merge2.dt)"
   ]
  },
  {
   "cell_type": "markdown",
   "metadata": {
    "heading_collapsed": true
   },
   "source": [
    "# Set up the lists for the AUC comparisons"
   ]
  },
  {
   "cell_type": "markdown",
   "metadata": {
    "hidden": true
   },
   "source": [
    "list := Compare all cases (CSET1) with all controls\n",
    "\n",
    "**list2 := Compare clean cases (CSET3) with screened controls**\n",
    "\n",
    "list3 := Compare all cases with (CSET1) with screened controls"
   ]
  },
  {
   "cell_type": "code",
   "execution_count": 24,
   "metadata": {
    "code_folding": [],
    "hidden": true
   },
   "outputs": [],
   "source": [
    "# list2 contains comparisons between CSET3 and controls.A\n",
    "basic.auc.list2 <- vector(mode = \"list\", length = 5) # For AUC without adjusting the AUC for censored age, sex\n",
    "adj.auc.list2 <- vector(mode = \"list\", length = 5) # For AUC adjusted for censored age and sex"
   ]
  },
  {
   "cell_type": "code",
   "execution_count": 25,
   "metadata": {
    "hidden": true
   },
   "outputs": [],
   "source": [
    "# set the iterator so that I can add to the list easily\n",
    "ancestry.iter <- 0"
   ]
  },
  {
   "cell_type": "markdown",
   "metadata": {
    "heading_collapsed": true
   },
   "source": [
    "# Calculation for all participants, CSET3 vs controls.A (remove?)"
   ]
  },
  {
   "cell_type": "code",
   "execution_count": 17,
   "metadata": {
    "hidden": true
   },
   "outputs": [
    {
     "data": {
      "text/html": [
       "<table class=\"dataframe\">\n",
       "<caption>A data.frame: 2 × 4</caption>\n",
       "<thead>\n",
       "\t<tr><th scope=col>CSET1</th><th scope=col>CSET3</th><th scope=col>SCREENED</th><th scope=col>n</th></tr>\n",
       "\t<tr><th scope=col>&lt;int&gt;</th><th scope=col>&lt;int&gt;</th><th scope=col>&lt;int&gt;</th><th scope=col>&lt;int&gt;</th></tr>\n",
       "</thead>\n",
       "<tbody>\n",
       "\t<tr><td>0</td><td>0</td><td>1</td><td>12378</td></tr>\n",
       "\t<tr><td>1</td><td>1</td><td>0</td><td>  348</td></tr>\n",
       "</tbody>\n",
       "</table>\n"
      ],
      "text/latex": [
       "A data.frame: 2 × 4\n",
       "\\begin{tabular}{llll}\n",
       " CSET1 & CSET3 & SCREENED & n\\\\\n",
       " <int> & <int> & <int> & <int>\\\\\n",
       "\\hline\n",
       "\t 0 & 0 & 1 & 12378\\\\\n",
       "\t 1 & 1 & 0 &   348\\\\\n",
       "\\end{tabular}\n"
      ],
      "text/markdown": [
       "\n",
       "A data.frame: 2 × 4\n",
       "\n",
       "| CSET1 &lt;int&gt; | CSET3 &lt;int&gt; | SCREENED &lt;int&gt; | n &lt;int&gt; |\n",
       "|---|---|---|---|\n",
       "| 0 | 0 | 1 | 12378 |\n",
       "| 1 | 1 | 0 |   348 |\n",
       "\n"
      ],
      "text/plain": [
       "  CSET1 CSET3 SCREENED n    \n",
       "1 0     0     1        12378\n",
       "2 1     1     0          348"
      ]
     },
     "metadata": {},
     "output_type": "display_data"
    },
    {
     "data": {
      "text/html": [
       "12726"
      ],
      "text/latex": [
       "12726"
      ],
      "text/markdown": [
       "12726"
      ],
      "text/plain": [
       "[1] 12726"
      ]
     },
     "metadata": {},
     "output_type": "display_data"
    },
    {
     "name": "stderr",
     "output_type": "stream",
     "text": [
      "Setting levels: control = 0, case = 1\n",
      "\n",
      "Setting direction: controls < cases\n",
      "\n",
      "Setting levels: control = 0, case = 1\n",
      "\n",
      "Setting direction: controls < cases\n",
      "\n",
      "Setting levels: control = 0, case = 1\n",
      "\n",
      "Setting direction: controls < cases\n",
      "\n",
      "Setting levels: control = 0, case = 1\n",
      "\n",
      "Setting direction: controls < cases\n",
      "\n"
     ]
    },
    {
     "data": {
      "text/html": [
       "<table class=\"dataframe\">\n",
       "<caption>A data.table: 4 × 3</caption>\n",
       "<thead>\n",
       "\t<tr><th scope=col>V1</th><th scope=col>V2</th><th scope=col>V3</th></tr>\n",
       "\t<tr><th scope=col>&lt;dbl&gt;</th><th scope=col>&lt;dbl&gt;</th><th scope=col>&lt;dbl&gt;</th></tr>\n",
       "</thead>\n",
       "<tbody>\n",
       "\t<tr><td>0.5942980</td><td>0.6241225</td><td>0.6539470</td></tr>\n",
       "\t<tr><td>0.5970656</td><td>0.6267599</td><td>0.6564542</td></tr>\n",
       "\t<tr><td>0.5966058</td><td>0.6265494</td><td>0.6564930</td></tr>\n",
       "\t<tr><td>0.5988175</td><td>0.6283961</td><td>0.6579748</td></tr>\n",
       "</tbody>\n",
       "</table>\n"
      ],
      "text/latex": [
       "A data.table: 4 × 3\n",
       "\\begin{tabular}{lll}\n",
       " V1 & V2 & V3\\\\\n",
       " <dbl> & <dbl> & <dbl>\\\\\n",
       "\\hline\n",
       "\t 0.5942980 & 0.6241225 & 0.6539470\\\\\n",
       "\t 0.5970656 & 0.6267599 & 0.6564542\\\\\n",
       "\t 0.5966058 & 0.6265494 & 0.6564930\\\\\n",
       "\t 0.5988175 & 0.6283961 & 0.6579748\\\\\n",
       "\\end{tabular}\n"
      ],
      "text/markdown": [
       "\n",
       "A data.table: 4 × 3\n",
       "\n",
       "| V1 &lt;dbl&gt; | V2 &lt;dbl&gt; | V3 &lt;dbl&gt; |\n",
       "|---|---|---|\n",
       "| 0.5942980 | 0.6241225 | 0.6539470 |\n",
       "| 0.5970656 | 0.6267599 | 0.6564542 |\n",
       "| 0.5966058 | 0.6265494 | 0.6564930 |\n",
       "| 0.5988175 | 0.6283961 | 0.6579748 |\n",
       "\n"
      ],
      "text/plain": [
       "  V1        V2        V3       \n",
       "1 0.5942980 0.6241225 0.6539470\n",
       "2 0.5970656 0.6267599 0.6564542\n",
       "3 0.5966058 0.6265494 0.6564930\n",
       "4 0.5988175 0.6283961 0.6579748"
      ]
     },
     "metadata": {},
     "output_type": "display_data"
    },
    {
     "data": {
      "text/html": [
       "<table class=\"dataframe\">\n",
       "<caption>A data.table: 4 × 3</caption>\n",
       "<thead>\n",
       "\t<tr><th scope=col>PRS</th><th scope=col>AUC</th><th scope=col>CI</th></tr>\n",
       "\t<tr><th scope=col>&lt;chr&gt;</th><th scope=col>&lt;dbl&gt;</th><th scope=col>&lt;chr&gt;</th></tr>\n",
       "</thead>\n",
       "<tbody>\n",
       "\t<tr><td>RAW.PRS</td><td>0.62</td><td>0.59, 0.65</td></tr>\n",
       "\t<tr><td>ADJ.PC </td><td>0.63</td><td>0.6, 0.66 </td></tr>\n",
       "\t<tr><td>ADJ.ANC</td><td>0.63</td><td>0.6, 0.66 </td></tr>\n",
       "\t<tr><td>BROAD  </td><td>0.63</td><td>0.6, 0.66 </td></tr>\n",
       "</tbody>\n",
       "</table>\n"
      ],
      "text/latex": [
       "A data.table: 4 × 3\n",
       "\\begin{tabular}{lll}\n",
       " PRS & AUC & CI\\\\\n",
       " <chr> & <dbl> & <chr>\\\\\n",
       "\\hline\n",
       "\t RAW.PRS & 0.62 & 0.59, 0.65\\\\\n",
       "\t ADJ.PC  & 0.63 & 0.6, 0.66 \\\\\n",
       "\t ADJ.ANC & 0.63 & 0.6, 0.66 \\\\\n",
       "\t BROAD   & 0.63 & 0.6, 0.66 \\\\\n",
       "\\end{tabular}\n"
      ],
      "text/markdown": [
       "\n",
       "A data.table: 4 × 3\n",
       "\n",
       "| PRS &lt;chr&gt; | AUC &lt;dbl&gt; | CI &lt;chr&gt; |\n",
       "|---|---|---|\n",
       "| RAW.PRS | 0.62 | 0.59, 0.65 |\n",
       "| ADJ.PC  | 0.63 | 0.6, 0.66  |\n",
       "| ADJ.ANC | 0.63 | 0.6, 0.66  |\n",
       "| BROAD   | 0.63 | 0.6, 0.66  |\n",
       "\n"
      ],
      "text/plain": [
       "  PRS     AUC  CI        \n",
       "1 RAW.PRS 0.62 0.59, 0.65\n",
       "2 ADJ.PC  0.63 0.6, 0.66 \n",
       "3 ADJ.ANC 0.63 0.6, 0.66 \n",
       "4 BROAD   0.63 0.6, 0.66 "
      ]
     },
     "metadata": {},
     "output_type": "display_data"
    },
    {
     "data": {
      "text/html": [
       "<style>\n",
       ".list-inline {list-style: none; margin:0; padding: 0}\n",
       ".list-inline>li {display: inline-block}\n",
       ".list-inline>li:not(:last-child)::after {content: \"\\00b7\"; padding: 0 .5ex}\n",
       "</style>\n",
       "<ol class=list-inline><li>'ALL.AUC'</li><li>'ALL.CI'</li></ol>\n"
      ],
      "text/latex": [
       "\\begin{enumerate*}\n",
       "\\item 'ALL.AUC'\n",
       "\\item 'ALL.CI'\n",
       "\\end{enumerate*}\n"
      ],
      "text/markdown": [
       "1. 'ALL.AUC'\n",
       "2. 'ALL.CI'\n",
       "\n",
       "\n"
      ],
      "text/plain": [
       "[1] \"ALL.AUC\" \"ALL.CI\" "
      ]
     },
     "metadata": {},
     "output_type": "display_data"
    },
    {
     "data": {
      "text/html": [
       "<table class=\"dataframe\">\n",
       "<caption>A data.frame: 2 × 4</caption>\n",
       "<thead>\n",
       "\t<tr><th scope=col>CSET1</th><th scope=col>CSET3</th><th scope=col>SCREENED</th><th scope=col>n</th></tr>\n",
       "\t<tr><th scope=col>&lt;int&gt;</th><th scope=col>&lt;int&gt;</th><th scope=col>&lt;int&gt;</th><th scope=col>&lt;int&gt;</th></tr>\n",
       "</thead>\n",
       "<tbody>\n",
       "\t<tr><td>0</td><td>0</td><td>1</td><td>12232</td></tr>\n",
       "\t<tr><td>1</td><td>1</td><td>0</td><td>  346</td></tr>\n",
       "</tbody>\n",
       "</table>\n"
      ],
      "text/latex": [
       "A data.frame: 2 × 4\n",
       "\\begin{tabular}{llll}\n",
       " CSET1 & CSET3 & SCREENED & n\\\\\n",
       " <int> & <int> & <int> & <int>\\\\\n",
       "\\hline\n",
       "\t 0 & 0 & 1 & 12232\\\\\n",
       "\t 1 & 1 & 0 &   346\\\\\n",
       "\\end{tabular}\n"
      ],
      "text/markdown": [
       "\n",
       "A data.frame: 2 × 4\n",
       "\n",
       "| CSET1 &lt;int&gt; | CSET3 &lt;int&gt; | SCREENED &lt;int&gt; | n &lt;int&gt; |\n",
       "|---|---|---|---|\n",
       "| 0 | 0 | 1 | 12232 |\n",
       "| 1 | 1 | 0 |   346 |\n",
       "\n"
      ],
      "text/plain": [
       "  CSET1 CSET3 SCREENED n    \n",
       "1 0     0     1        12232\n",
       "2 1     1     0          346"
      ]
     },
     "metadata": {},
     "output_type": "display_data"
    },
    {
     "data": {
      "text/html": [
       "12578"
      ],
      "text/latex": [
       "12578"
      ],
      "text/markdown": [
       "12578"
      ],
      "text/plain": [
       "[1] 12578"
      ]
     },
     "metadata": {},
     "output_type": "display_data"
    },
    {
     "data": {
      "text/html": [
       "0.625867318985708"
      ],
      "text/latex": [
       "0.625867318985708"
      ],
      "text/markdown": [
       "0.625867318985708"
      ],
      "text/plain": [
       "[1] 0.6258673"
      ]
     },
     "metadata": {},
     "output_type": "display_data"
    },
    {
     "data": {
      "text/html": [
       "0.629147485514787"
      ],
      "text/latex": [
       "0.629147485514787"
      ],
      "text/markdown": [
       "0.629147485514787"
      ],
      "text/plain": [
       "[1] 0.6291475"
      ]
     },
     "metadata": {},
     "output_type": "display_data"
    },
    {
     "data": {
      "text/html": [
       "0.628764558577161"
      ],
      "text/latex": [
       "0.628764558577161"
      ],
      "text/markdown": [
       "0.628764558577161"
      ],
      "text/plain": [
       "[1] 0.6287646"
      ]
     },
     "metadata": {},
     "output_type": "display_data"
    },
    {
     "data": {
      "text/html": [
       "0.628097323294632"
      ],
      "text/latex": [
       "0.628097323294632"
      ],
      "text/markdown": [
       "0.628097323294632"
      ],
      "text/plain": [
       "[1] 0.6280973"
      ]
     },
     "metadata": {},
     "output_type": "display_data"
    },
    {
     "data": {
      "text/html": [
       "<style>\n",
       ".list-inline {list-style: none; margin:0; padding: 0}\n",
       ".list-inline>li {display: inline-block}\n",
       ".list-inline>li:not(:last-child)::after {content: \"\\00b7\"; padding: 0 .5ex}\n",
       "</style>\n",
       "<ol class=list-inline><li>0.59537568990428</li><li>0.656358948067136</li></ol>\n"
      ],
      "text/latex": [
       "\\begin{enumerate*}\n",
       "\\item 0.59537568990428\n",
       "\\item 0.656358948067136\n",
       "\\end{enumerate*}\n"
      ],
      "text/markdown": [
       "1. 0.59537568990428\n",
       "2. 0.656358948067136\n",
       "\n",
       "\n"
      ],
      "text/plain": [
       "[1] 0.5953757 0.6563589"
      ]
     },
     "metadata": {},
     "output_type": "display_data"
    },
    {
     "data": {
      "text/html": [
       "<style>\n",
       ".list-inline {list-style: none; margin:0; padding: 0}\n",
       ".list-inline>li {display: inline-block}\n",
       ".list-inline>li:not(:last-child)::after {content: \"\\00b7\"; padding: 0 .5ex}\n",
       "</style>\n",
       "<ol class=list-inline><li>0.598656691608233</li><li>0.659638279421341</li></ol>\n"
      ],
      "text/latex": [
       "\\begin{enumerate*}\n",
       "\\item 0.598656691608233\n",
       "\\item 0.659638279421341\n",
       "\\end{enumerate*}\n"
      ],
      "text/markdown": [
       "1. 0.598656691608233\n",
       "2. 0.659638279421341\n",
       "\n",
       "\n"
      ],
      "text/plain": [
       "[1] 0.5986567 0.6596383"
      ]
     },
     "metadata": {},
     "output_type": "display_data"
    },
    {
     "data": {
      "text/html": [
       "<style>\n",
       ".list-inline {list-style: none; margin:0; padding: 0}\n",
       ".list-inline>li {display: inline-block}\n",
       ".list-inline>li:not(:last-child)::after {content: \"\\00b7\"; padding: 0 .5ex}\n",
       "</style>\n",
       "<ol class=list-inline><li>0.598273806671492</li><li>0.65925531048283</li></ol>\n"
      ],
      "text/latex": [
       "\\begin{enumerate*}\n",
       "\\item 0.598273806671492\n",
       "\\item 0.65925531048283\n",
       "\\end{enumerate*}\n"
      ],
      "text/markdown": [
       "1. 0.598273806671492\n",
       "2. 0.65925531048283\n",
       "\n",
       "\n"
      ],
      "text/plain": [
       "[1] 0.5982738 0.6592553"
      ]
     },
     "metadata": {},
     "output_type": "display_data"
    },
    {
     "data": {
      "text/html": [
       "<style>\n",
       ".list-inline {list-style: none; margin:0; padding: 0}\n",
       ".list-inline>li {display: inline-block}\n",
       ".list-inline>li:not(:last-child)::after {content: \"\\00b7\"; padding: 0 .5ex}\n",
       "</style>\n",
       "<ol class=list-inline><li>0.598273806671492</li><li>0.65925531048283</li></ol>\n"
      ],
      "text/latex": [
       "\\begin{enumerate*}\n",
       "\\item 0.598273806671492\n",
       "\\item 0.65925531048283\n",
       "\\end{enumerate*}\n"
      ],
      "text/markdown": [
       "1. 0.598273806671492\n",
       "2. 0.65925531048283\n",
       "\n",
       "\n"
      ],
      "text/plain": [
       "[1] 0.5982738 0.6592553"
      ]
     },
     "metadata": {},
     "output_type": "display_data"
    },
    {
     "data": {
      "text/html": [
       "<table class=\"dataframe\">\n",
       "<caption>A data.table: 4 × 3</caption>\n",
       "<thead>\n",
       "\t<tr><th scope=col>PRS</th><th scope=col>AUC</th><th scope=col>CI</th></tr>\n",
       "\t<tr><th scope=col>&lt;chr&gt;</th><th scope=col>&lt;dbl&gt;</th><th scope=col>&lt;chr&gt;</th></tr>\n",
       "</thead>\n",
       "<tbody>\n",
       "\t<tr><td>PRS.RAW</td><td>0.63</td><td>0.6, 0.66</td></tr>\n",
       "\t<tr><td>ADJ.PC </td><td>0.63</td><td>0.6, 0.66</td></tr>\n",
       "\t<tr><td>ADJ.ANC</td><td>0.63</td><td>0.6, 0.66</td></tr>\n",
       "\t<tr><td>BROAD  </td><td>0.63</td><td>0.6, 0.66</td></tr>\n",
       "</tbody>\n",
       "</table>\n"
      ],
      "text/latex": [
       "A data.table: 4 × 3\n",
       "\\begin{tabular}{lll}\n",
       " PRS & AUC & CI\\\\\n",
       " <chr> & <dbl> & <chr>\\\\\n",
       "\\hline\n",
       "\t PRS.RAW & 0.63 & 0.6, 0.66\\\\\n",
       "\t ADJ.PC  & 0.63 & 0.6, 0.66\\\\\n",
       "\t ADJ.ANC & 0.63 & 0.6, 0.66\\\\\n",
       "\t BROAD   & 0.63 & 0.6, 0.66\\\\\n",
       "\\end{tabular}\n"
      ],
      "text/markdown": [
       "\n",
       "A data.table: 4 × 3\n",
       "\n",
       "| PRS &lt;chr&gt; | AUC &lt;dbl&gt; | CI &lt;chr&gt; |\n",
       "|---|---|---|\n",
       "| PRS.RAW | 0.63 | 0.6, 0.66 |\n",
       "| ADJ.PC  | 0.63 | 0.6, 0.66 |\n",
       "| ADJ.ANC | 0.63 | 0.6, 0.66 |\n",
       "| BROAD   | 0.63 | 0.6, 0.66 |\n",
       "\n"
      ],
      "text/plain": [
       "  PRS     AUC  CI       \n",
       "1 PRS.RAW 0.63 0.6, 0.66\n",
       "2 ADJ.PC  0.63 0.6, 0.66\n",
       "3 ADJ.ANC 0.63 0.6, 0.66\n",
       "4 BROAD   0.63 0.6, 0.66"
      ]
     },
     "metadata": {},
     "output_type": "display_data"
    },
    {
     "data": {
      "text/html": [
       "<style>\n",
       ".list-inline {list-style: none; margin:0; padding: 0}\n",
       ".list-inline>li {display: inline-block}\n",
       ".list-inline>li:not(:last-child)::after {content: \"\\00b7\"; padding: 0 .5ex}\n",
       "</style>\n",
       "<ol class=list-inline><li>'ALL.AUC'</li><li>'ALL.CI'</li></ol>\n"
      ],
      "text/latex": [
       "\\begin{enumerate*}\n",
       "\\item 'ALL.AUC'\n",
       "\\item 'ALL.CI'\n",
       "\\end{enumerate*}\n"
      ],
      "text/markdown": [
       "1. 'ALL.AUC'\n",
       "2. 'ALL.CI'\n",
       "\n",
       "\n"
      ],
      "text/plain": [
       "[1] \"ALL.AUC\" \"ALL.CI\" "
      ]
     },
     "metadata": {},
     "output_type": "display_data"
    }
   ],
   "source": [
    "keep.ancestry <- \"ALL\"\n",
    "subset.dt <- merge2.dt\n",
    "#subset.dt <- merge2.dt[][!(merge2.dt$CSET1==1 & merge2.dt$CSET3==0) ]\n",
    "as.data.frame(subset.dt) %>%\n",
    "    count(CSET1, CSET3, SCREENED)\n",
    "length(subset.dt$PRS)\n",
    "attach(subset.dt)\n",
    "# can I get into table format? Why am I getting negative values? \n",
    "(auc.1 <- data.table(rbind(\n",
    "    pROC::ci.auc(CRC.status,PRS),\n",
    "    pROC::ci.auc(CRC.status,PRS.ADJ.PC),\n",
    "    pROC::ci.auc(CRC.status,PRS.ADJ.ANC),\n",
    "    pROC::ci.auc(CRC.status,BROAD.PRS)\n",
    "    )) )\n",
    "detach(subset.dt)\n",
    "header.names <- c(\"lower\",\"AUC\",\"upper\")\n",
    "setnames(auc.1,header.names)\n",
    "auc.1[,(header.names):=round(.SD,2),.SDcols=header.names]\n",
    "auc.1[,PRS:=c(\"RAW.PRS\",\"ADJ.PC\",\"ADJ.ANC\",\"BROAD\")]\n",
    "auc.1.table <- data.table(as.data.frame(auc.1) %>%\n",
    "    unite(\"CI\",lower,upper,sep=\", \"))\n",
    "(setcolorder(auc.1.table,c(\"PRS\",\"AUC\",\"CI\")))\n",
    "\n",
    "# fix the column names\n",
    "(new.labels <- paste0(paste0(keep.ancestry,\".\"),names(auc.1.table)[c(2,3)]))\n",
    "setnames(auc.1.table, names(auc.1.table)[c(2,3)], new.labels)\n",
    "#names(auc.1.table)\n",
    "(auc.1.table[,PRS:=NULL])\n",
    "\n",
    "\n",
    "# check the auc adjust function\n",
    "# The basic AUC will have larger sample size at this time\n",
    "subset.dt <- merge2.dt[][!(merge2.dt$CSET1==1 & merge2.dt$CSET3==0) &\n",
    "                        !is.na(merge2.dt$censored.age) &\n",
    "                        merge2.dt$censored.age <=91  & !is.na(merge2.dt$sex)]\n",
    "as.data.frame(subset.dt) %>%\n",
    "    count(CSET1, CSET3, SCREENED)\n",
    "\n",
    "length(subset.dt$PRS)\n",
    "subset.dt[,my.PRS:=PRS]\n",
    "(auc.prs.raw <- auc.adjusted(subset.dt))\n",
    "subset.dt[,my.PRS:=PRS.ADJ.PC]\n",
    "(auc.prs.adj.pc <- auc.adjusted(subset.dt))\n",
    "subset.dt[,my.PRS:=PRS.ADJ.ANC]\n",
    "(auc.prs.adj.anc <- auc.adjusted(subset.dt))\n",
    "subset.dt[,my.PRS:=BROAD.PRS]\n",
    "(auc.prs.broad <- auc.adjusted(subset.dt))\n",
    "\n",
    "\n",
    "n <- length(subset.dt$CRC.status)\n",
    "for(i in 1:niter)\n",
    "    {\n",
    "    sp=sample(1:n,n,replace=T)  \n",
    "    subset.dt[,PRS:=PRS]\n",
    "    auc.prs.raw <- c(auc.prs.raw, auc.adjusted(subset.dt[sp,]))\n",
    "    subset.dt[,PRS:=PRS.ADJ.PC]\n",
    "    auc.prs.adj.pc <- c(auc.prs.adj.pc, auc.adjusted(subset.dt[sp,]))\n",
    "    subset.dt[,PRS:=PRS.ADJ.ANC]\n",
    "    auc.prs.adj.anc <- c(auc.prs.adj.anc, auc.adjusted(subset.dt[sp,]))    \n",
    "    subset.dt[,my.PRS:=BROAD.PRS]\n",
    "    auc.prs.broad <- c(auc.prs.broad, auc.adjusted(subset.dt[sp,]))    \n",
    "}\n",
    "\n",
    "# check the CI function\n",
    "auc.boot.ci(auc.prs.raw)\n",
    "auc.boot.ci(auc.prs.adj.pc)\n",
    "auc.boot.ci(auc.prs.adj.anc)\n",
    "auc.boot.ci(auc.prs.adj.anc)\n",
    "\n",
    "\n",
    "\n",
    "#make into a table\n",
    "auc.adj <- c(auc.prs.raw[1], auc.prs.adj.pc[1], auc.prs.adj.anc[1],auc.prs.broad[1])\n",
    "auc.2 <- data.table(\n",
    "    cbind(auc.adj, rbind(auc.boot.ci(auc.prs.raw), auc.boot.ci(auc.prs.adj.pc), auc.boot.ci(auc.prs.adj.anc), auc.boot.ci(auc.prs.adj.anc) ))\n",
    "    )\n",
    "header.names <- c(\"AUC\",\"lower\",\"upper\")\n",
    "setnames(auc.2,header.names)\n",
    "auc.2[,(header.names):=round(.SD,2),.SDcols=header.names]\n",
    "auc.2[,PRS:=c(\"PRS.RAW\",\"ADJ.PC\",\"ADJ.ANC\",\"BROAD\")]\n",
    "auc.2.table <- data.table(as.data.frame(auc.2) %>%\n",
    "    unite(\"CI\",lower,upper,sep=\", \"))\n",
    "(setcolorder(auc.2.table,c(\"PRS\",\"AUC\",\"CI\")))\n",
    "\n",
    "# fix the column names\n",
    "(new.labels <- paste0(paste0(keep.ancestry,\".\"),names(auc.2.table)[c(2,3)]))\n",
    "setnames(auc.2.table, names(auc.2.table)[c(2,3)], new.labels)\n",
    "(auc.2.table[,PRS:=NULL])\n",
    "\n",
    "\n"
   ]
  },
  {
   "cell_type": "markdown",
   "metadata": {
    "heading_collapsed": true
   },
   "source": [
    "# Calculations for AFR subset, CSET3 vs controls.A"
   ]
  },
  {
   "cell_type": "code",
   "execution_count": 26,
   "metadata": {
    "hidden": true
   },
   "outputs": [
    {
     "data": {
      "text/html": [
       "1"
      ],
      "text/latex": [
       "1"
      ],
      "text/markdown": [
       "1"
      ],
      "text/plain": [
       "[1] 1"
      ]
     },
     "metadata": {},
     "output_type": "display_data"
    },
    {
     "data": {
      "text/html": [
       "<table class=\"dataframe\">\n",
       "<caption>A data.frame: 2 × 4</caption>\n",
       "<thead>\n",
       "\t<tr><th scope=col>CSET1</th><th scope=col>CSET3</th><th scope=col>SCREENED</th><th scope=col>n</th></tr>\n",
       "\t<tr><th scope=col>&lt;int&gt;</th><th scope=col>&lt;int&gt;</th><th scope=col>&lt;int&gt;</th><th scope=col>&lt;int&gt;</th></tr>\n",
       "</thead>\n",
       "<tbody>\n",
       "\t<tr><td>0</td><td>0</td><td>1</td><td>2012</td></tr>\n",
       "\t<tr><td>1</td><td>1</td><td>0</td><td>  42</td></tr>\n",
       "</tbody>\n",
       "</table>\n"
      ],
      "text/latex": [
       "A data.frame: 2 × 4\n",
       "\\begin{tabular}{llll}\n",
       " CSET1 & CSET3 & SCREENED & n\\\\\n",
       " <int> & <int> & <int> & <int>\\\\\n",
       "\\hline\n",
       "\t 0 & 0 & 1 & 2012\\\\\n",
       "\t 1 & 1 & 0 &   42\\\\\n",
       "\\end{tabular}\n"
      ],
      "text/markdown": [
       "\n",
       "A data.frame: 2 × 4\n",
       "\n",
       "| CSET1 &lt;int&gt; | CSET3 &lt;int&gt; | SCREENED &lt;int&gt; | n &lt;int&gt; |\n",
       "|---|---|---|---|\n",
       "| 0 | 0 | 1 | 2012 |\n",
       "| 1 | 1 | 0 |   42 |\n",
       "\n"
      ],
      "text/plain": [
       "  CSET1 CSET3 SCREENED n   \n",
       "1 0     0     1        2012\n",
       "2 1     1     0          42"
      ]
     },
     "metadata": {},
     "output_type": "display_data"
    },
    {
     "data": {
      "text/html": [
       "2054"
      ],
      "text/latex": [
       "2054"
      ],
      "text/markdown": [
       "2054"
      ],
      "text/plain": [
       "[1] 2054"
      ]
     },
     "metadata": {},
     "output_type": "display_data"
    },
    {
     "name": "stderr",
     "output_type": "stream",
     "text": [
      "The following objects are masked from subset.dt (pos = 3):\n",
      "\n",
      "    AFR, AGE, age.of.onset, age.screen1, age.screen2, AMR,\n",
      "    censored.age, CRC.status, CSET1, CSET3, dob, EAS, ethnicity, EUR,\n",
      "    gender, ID, MID, my.ancestry3, norm.PRS, norm.PRS.ADJ.ANC,\n",
      "    norm.PRS.ADJ.PC, PC1, PC10, PC11, PC12, PC13, PC14, PC15, PC16,\n",
      "    PC17, PC18, PC19, PC2, PC20, PC21, PC22, PC23, PC24, PC25, PC26,\n",
      "    PC27, PC28, PC29, PC3, PC30, PC31, PC32, PC4, PC5, PC6, PC7, PC8,\n",
      "    PC9, person_id, PRS, PRS.ADJ.ANC, PRS.ADJ.PC, PRS.BR.ANC.AOU1,\n",
      "    PRS.BR.ANC.AOU2, PRS.BR.AOU.ALL, PRS.BR.AOU1, PRS.BR.AOU2,\n",
      "    PRS.BR.REF, race, SAS, SCREENED, sex, sex_at_birth, UC1, UC2\n",
      "\n",
      "\n",
      "Setting levels: control = 0, case = 1\n",
      "\n",
      "Setting direction: controls < cases\n",
      "\n",
      "Setting levels: control = 0, case = 1\n",
      "\n",
      "Setting direction: controls < cases\n",
      "\n",
      "Setting levels: control = 0, case = 1\n",
      "\n",
      "Setting direction: controls < cases\n",
      "\n",
      "Setting levels: control = 0, case = 1\n",
      "\n",
      "Setting direction: controls < cases\n",
      "\n",
      "Setting levels: control = 0, case = 1\n",
      "\n",
      "Setting direction: controls < cases\n",
      "\n"
     ]
    },
    {
     "data": {
      "text/html": [
       "<table class=\"dataframe\">\n",
       "<caption>A data.table: 5 × 3</caption>\n",
       "<thead>\n",
       "\t<tr><th scope=col>V1</th><th scope=col>V2</th><th scope=col>V3</th></tr>\n",
       "\t<tr><th scope=col>&lt;dbl&gt;</th><th scope=col>&lt;dbl&gt;</th><th scope=col>&lt;dbl&gt;</th></tr>\n",
       "</thead>\n",
       "<tbody>\n",
       "\t<tr><td>0.5063614</td><td>0.5894396</td><td>0.6725177</td></tr>\n",
       "\t<tr><td>0.5051809</td><td>0.5889780</td><td>0.6727752</td></tr>\n",
       "\t<tr><td>0.5045063</td><td>0.5875817</td><td>0.6706570</td></tr>\n",
       "\t<tr><td>0.5061992</td><td>0.5891674</td><td>0.6721356</td></tr>\n",
       "\t<tr><td>0.5047735</td><td>0.5878183</td><td>0.6708631</td></tr>\n",
       "</tbody>\n",
       "</table>\n"
      ],
      "text/latex": [
       "A data.table: 5 × 3\n",
       "\\begin{tabular}{lll}\n",
       " V1 & V2 & V3\\\\\n",
       " <dbl> & <dbl> & <dbl>\\\\\n",
       "\\hline\n",
       "\t 0.5063614 & 0.5894396 & 0.6725177\\\\\n",
       "\t 0.5051809 & 0.5889780 & 0.6727752\\\\\n",
       "\t 0.5045063 & 0.5875817 & 0.6706570\\\\\n",
       "\t 0.5061992 & 0.5891674 & 0.6721356\\\\\n",
       "\t 0.5047735 & 0.5878183 & 0.6708631\\\\\n",
       "\\end{tabular}\n"
      ],
      "text/markdown": [
       "\n",
       "A data.table: 5 × 3\n",
       "\n",
       "| V1 &lt;dbl&gt; | V2 &lt;dbl&gt; | V3 &lt;dbl&gt; |\n",
       "|---|---|---|\n",
       "| 0.5063614 | 0.5894396 | 0.6725177 |\n",
       "| 0.5051809 | 0.5889780 | 0.6727752 |\n",
       "| 0.5045063 | 0.5875817 | 0.6706570 |\n",
       "| 0.5061992 | 0.5891674 | 0.6721356 |\n",
       "| 0.5047735 | 0.5878183 | 0.6708631 |\n",
       "\n"
      ],
      "text/plain": [
       "  V1        V2        V3       \n",
       "1 0.5063614 0.5894396 0.6725177\n",
       "2 0.5051809 0.5889780 0.6727752\n",
       "3 0.5045063 0.5875817 0.6706570\n",
       "4 0.5061992 0.5891674 0.6721356\n",
       "5 0.5047735 0.5878183 0.6708631"
      ]
     },
     "metadata": {},
     "output_type": "display_data"
    },
    {
     "data": {
      "text/html": [
       "<table class=\"dataframe\">\n",
       "<caption>A data.table: 5 × 3</caption>\n",
       "<thead>\n",
       "\t<tr><th scope=col>PRS</th><th scope=col>AUC</th><th scope=col>CI</th></tr>\n",
       "\t<tr><th scope=col>&lt;chr&gt;</th><th scope=col>&lt;dbl&gt;</th><th scope=col>&lt;chr&gt;</th></tr>\n",
       "</thead>\n",
       "<tbody>\n",
       "\t<tr><td>RAW.PRS</td><td>0.59</td><td>0.51, 0.67</td></tr>\n",
       "\t<tr><td>ADJ.PC </td><td>0.59</td><td>0.51, 0.67</td></tr>\n",
       "\t<tr><td>ADJ.ANC</td><td>0.59</td><td>0.5, 0.67 </td></tr>\n",
       "\t<tr><td>BR.AOU </td><td>0.59</td><td>0.51, 0.67</td></tr>\n",
       "\t<tr><td>BR.ANC </td><td>0.59</td><td>0.5, 0.67 </td></tr>\n",
       "</tbody>\n",
       "</table>\n"
      ],
      "text/latex": [
       "A data.table: 5 × 3\n",
       "\\begin{tabular}{lll}\n",
       " PRS & AUC & CI\\\\\n",
       " <chr> & <dbl> & <chr>\\\\\n",
       "\\hline\n",
       "\t RAW.PRS & 0.59 & 0.51, 0.67\\\\\n",
       "\t ADJ.PC  & 0.59 & 0.51, 0.67\\\\\n",
       "\t ADJ.ANC & 0.59 & 0.5, 0.67 \\\\\n",
       "\t BR.AOU  & 0.59 & 0.51, 0.67\\\\\n",
       "\t BR.ANC  & 0.59 & 0.5, 0.67 \\\\\n",
       "\\end{tabular}\n"
      ],
      "text/markdown": [
       "\n",
       "A data.table: 5 × 3\n",
       "\n",
       "| PRS &lt;chr&gt; | AUC &lt;dbl&gt; | CI &lt;chr&gt; |\n",
       "|---|---|---|\n",
       "| RAW.PRS | 0.59 | 0.51, 0.67 |\n",
       "| ADJ.PC  | 0.59 | 0.51, 0.67 |\n",
       "| ADJ.ANC | 0.59 | 0.5, 0.67  |\n",
       "| BR.AOU  | 0.59 | 0.51, 0.67 |\n",
       "| BR.ANC  | 0.59 | 0.5, 0.67  |\n",
       "\n"
      ],
      "text/plain": [
       "  PRS     AUC  CI        \n",
       "1 RAW.PRS 0.59 0.51, 0.67\n",
       "2 ADJ.PC  0.59 0.51, 0.67\n",
       "3 ADJ.ANC 0.59 0.5, 0.67 \n",
       "4 BR.AOU  0.59 0.51, 0.67\n",
       "5 BR.ANC  0.59 0.5, 0.67 "
      ]
     },
     "metadata": {},
     "output_type": "display_data"
    },
    {
     "data": {
      "text/html": [
       "<style>\n",
       ".list-inline {list-style: none; margin:0; padding: 0}\n",
       ".list-inline>li {display: inline-block}\n",
       ".list-inline>li:not(:last-child)::after {content: \"\\00b7\"; padding: 0 .5ex}\n",
       "</style>\n",
       "<ol class=list-inline><li>'AFR.AUC'</li><li>'AFR.CI'</li></ol>\n"
      ],
      "text/latex": [
       "\\begin{enumerate*}\n",
       "\\item 'AFR.AUC'\n",
       "\\item 'AFR.CI'\n",
       "\\end{enumerate*}\n"
      ],
      "text/markdown": [
       "1. 'AFR.AUC'\n",
       "2. 'AFR.CI'\n",
       "\n",
       "\n"
      ],
      "text/plain": [
       "[1] \"AFR.AUC\" \"AFR.CI\" "
      ]
     },
     "metadata": {},
     "output_type": "display_data"
    },
    {
     "name": "stdout",
     "output_type": "stream",
     "text": [
      "List of 5\n",
      " $ :Classes ‘data.table’ and 'data.frame':\t5 obs. of  2 variables:\n",
      "  ..$ AFR.AUC: num [1:5] 0.59 0.59 0.59 0.59 0.59\n",
      "  ..$ AFR.CI : chr [1:5] \"0.51, 0.67\" \"0.51, 0.67\" \"0.5, 0.67\" \"0.51, 0.67\" ...\n",
      "  ..- attr(*, \".internal.selfref\")=<externalptr> \n",
      " $ : NULL\n",
      " $ : NULL\n",
      " $ : NULL\n",
      " $ : NULL\n"
     ]
    },
    {
     "data": {
      "text/html": [
       "<table class=\"dataframe\">\n",
       "<caption>A data.frame: 2 × 4</caption>\n",
       "<thead>\n",
       "\t<tr><th scope=col>CSET1</th><th scope=col>CSET3</th><th scope=col>SCREENED</th><th scope=col>n</th></tr>\n",
       "\t<tr><th scope=col>&lt;int&gt;</th><th scope=col>&lt;int&gt;</th><th scope=col>&lt;int&gt;</th><th scope=col>&lt;int&gt;</th></tr>\n",
       "</thead>\n",
       "<tbody>\n",
       "\t<tr><td>0</td><td>0</td><td>1</td><td>1972</td></tr>\n",
       "\t<tr><td>1</td><td>1</td><td>0</td><td>  42</td></tr>\n",
       "</tbody>\n",
       "</table>\n"
      ],
      "text/latex": [
       "A data.frame: 2 × 4\n",
       "\\begin{tabular}{llll}\n",
       " CSET1 & CSET3 & SCREENED & n\\\\\n",
       " <int> & <int> & <int> & <int>\\\\\n",
       "\\hline\n",
       "\t 0 & 0 & 1 & 1972\\\\\n",
       "\t 1 & 1 & 0 &   42\\\\\n",
       "\\end{tabular}\n"
      ],
      "text/markdown": [
       "\n",
       "A data.frame: 2 × 4\n",
       "\n",
       "| CSET1 &lt;int&gt; | CSET3 &lt;int&gt; | SCREENED &lt;int&gt; | n &lt;int&gt; |\n",
       "|---|---|---|---|\n",
       "| 0 | 0 | 1 | 1972 |\n",
       "| 1 | 1 | 0 |   42 |\n",
       "\n"
      ],
      "text/plain": [
       "  CSET1 CSET3 SCREENED n   \n",
       "1 0     0     1        1972\n",
       "2 1     1     0          42"
      ]
     },
     "metadata": {},
     "output_type": "display_data"
    },
    {
     "data": {
      "text/html": [
       "2014"
      ],
      "text/latex": [
       "2014"
      ],
      "text/markdown": [
       "2014"
      ],
      "text/plain": [
       "[1] 2014"
      ]
     },
     "metadata": {},
     "output_type": "display_data"
    },
    {
     "data": {
      "text/html": [
       "0.596239123836603"
      ],
      "text/latex": [
       "0.596239123836603"
      ],
      "text/markdown": [
       "0.596239123836603"
      ],
      "text/plain": [
       "[1] 0.5962391"
      ]
     },
     "metadata": {},
     "output_type": "display_data"
    },
    {
     "data": {
      "text/html": [
       "0.586616480896763"
      ],
      "text/latex": [
       "0.586616480896763"
      ],
      "text/markdown": [
       "0.586616480896763"
      ],
      "text/plain": [
       "[1] 0.5866165"
      ]
     },
     "metadata": {},
     "output_type": "display_data"
    },
    {
     "data": {
      "text/html": [
       "0.592525532300882"
      ],
      "text/latex": [
       "0.592525532300882"
      ],
      "text/markdown": [
       "0.592525532300882"
      ],
      "text/plain": [
       "[1] 0.5925255"
      ]
     },
     "metadata": {},
     "output_type": "display_data"
    },
    {
     "data": {
      "text/html": [
       "0.591859291039905"
      ],
      "text/latex": [
       "0.591859291039905"
      ],
      "text/markdown": [
       "0.591859291039905"
      ],
      "text/plain": [
       "[1] 0.5918593"
      ]
     },
     "metadata": {},
     "output_type": "display_data"
    },
    {
     "data": {
      "text/html": [
       "0.592522236285555"
      ],
      "text/latex": [
       "0.592522236285555"
      ],
      "text/markdown": [
       "0.592522236285555"
      ],
      "text/plain": [
       "[1] 0.5925222"
      ]
     },
     "metadata": {},
     "output_type": "display_data"
    },
    {
     "data": {
      "text/html": [
       "<style>\n",
       ".list-inline {list-style: none; margin:0; padding: 0}\n",
       ".list-inline>li {display: inline-block}\n",
       ".list-inline>li:not(:last-child)::after {content: \"\\00b7\"; padding: 0 .5ex}\n",
       "</style>\n",
       "<ol class=list-inline><li>0.500081909896424</li><li>0.692396337776782</li></ol>\n"
      ],
      "text/latex": [
       "\\begin{enumerate*}\n",
       "\\item 0.500081909896424\n",
       "\\item 0.692396337776782\n",
       "\\end{enumerate*}\n"
      ],
      "text/markdown": [
       "1. 0.500081909896424\n",
       "2. 0.692396337776782\n",
       "\n",
       "\n"
      ],
      "text/plain": [
       "[1] 0.5000819 0.6923963"
      ]
     },
     "metadata": {},
     "output_type": "display_data"
    },
    {
     "data": {
      "text/html": [
       "<style>\n",
       ".list-inline {list-style: none; margin:0; padding: 0}\n",
       ".list-inline>li {display: inline-block}\n",
       ".list-inline>li:not(:last-child)::after {content: \"\\00b7\"; padding: 0 .5ex}\n",
       "</style>\n",
       "<ol class=list-inline><li>0.490457410456069</li><li>0.682775551337457</li></ol>\n"
      ],
      "text/latex": [
       "\\begin{enumerate*}\n",
       "\\item 0.490457410456069\n",
       "\\item 0.682775551337457\n",
       "\\end{enumerate*}\n"
      ],
      "text/markdown": [
       "1. 0.490457410456069\n",
       "2. 0.682775551337457\n",
       "\n",
       "\n"
      ],
      "text/plain": [
       "[1] 0.4904574 0.6827756"
      ]
     },
     "metadata": {},
     "output_type": "display_data"
    },
    {
     "data": {
      "text/html": [
       "<style>\n",
       ".list-inline {list-style: none; margin:0; padding: 0}\n",
       ".list-inline>li {display: inline-block}\n",
       ".list-inline>li:not(:last-child)::after {content: \"\\00b7\"; padding: 0 .5ex}\n",
       "</style>\n",
       "<ol class=list-inline><li>0.496368476821456</li><li>0.688682587780308</li></ol>\n"
      ],
      "text/latex": [
       "\\begin{enumerate*}\n",
       "\\item 0.496368476821456\n",
       "\\item 0.688682587780308\n",
       "\\end{enumerate*}\n"
      ],
      "text/markdown": [
       "1. 0.496368476821456\n",
       "2. 0.688682587780308\n",
       "\n",
       "\n"
      ],
      "text/plain": [
       "[1] 0.4963685 0.6886826"
      ]
     },
     "metadata": {},
     "output_type": "display_data"
    },
    {
     "data": {
      "text/html": [
       "<style>\n",
       ".list-inline {list-style: none; margin:0; padding: 0}\n",
       ".list-inline>li {display: inline-block}\n",
       ".list-inline>li:not(:last-child)::after {content: \"\\00b7\"; padding: 0 .5ex}\n",
       "</style>\n",
       "<ol class=list-inline><li>0.495425966470215</li><li>0.688292615609595</li></ol>\n"
      ],
      "text/latex": [
       "\\begin{enumerate*}\n",
       "\\item 0.495425966470215\n",
       "\\item 0.688292615609595\n",
       "\\end{enumerate*}\n"
      ],
      "text/markdown": [
       "1. 0.495425966470215\n",
       "2. 0.688292615609595\n",
       "\n",
       "\n"
      ],
      "text/plain": [
       "[1] 0.4954260 0.6882926"
      ]
     },
     "metadata": {},
     "output_type": "display_data"
    },
    {
     "data": {
      "text/html": [
       "<style>\n",
       ".list-inline {list-style: none; margin:0; padding: 0}\n",
       ".list-inline>li {display: inline-block}\n",
       ".list-inline>li:not(:last-child)::after {content: \"\\00b7\"; padding: 0 .5ex}\n",
       "</style>\n",
       "<ol class=list-inline><li>0.496365180458308</li><li>0.688679292112801</li></ol>\n"
      ],
      "text/latex": [
       "\\begin{enumerate*}\n",
       "\\item 0.496365180458308\n",
       "\\item 0.688679292112801\n",
       "\\end{enumerate*}\n"
      ],
      "text/markdown": [
       "1. 0.496365180458308\n",
       "2. 0.688679292112801\n",
       "\n",
       "\n"
      ],
      "text/plain": [
       "[1] 0.4963652 0.6886793"
      ]
     },
     "metadata": {},
     "output_type": "display_data"
    },
    {
     "data": {
      "text/html": [
       "<table class=\"dataframe\">\n",
       "<caption>A data.table: 5 × 3</caption>\n",
       "<thead>\n",
       "\t<tr><th scope=col>PRS</th><th scope=col>AUC</th><th scope=col>CI</th></tr>\n",
       "\t<tr><th scope=col>&lt;chr&gt;</th><th scope=col>&lt;dbl&gt;</th><th scope=col>&lt;chr&gt;</th></tr>\n",
       "</thead>\n",
       "<tbody>\n",
       "\t<tr><td>PRS.RAW</td><td>0.60</td><td>0.5, 0.69 </td></tr>\n",
       "\t<tr><td>ADJ.PC </td><td>0.59</td><td>0.49, 0.68</td></tr>\n",
       "\t<tr><td>ADJ.ANC</td><td>0.59</td><td>0.5, 0.69 </td></tr>\n",
       "\t<tr><td>BR.AOU </td><td>0.59</td><td>0.5, 0.69 </td></tr>\n",
       "\t<tr><td>BR.ANC </td><td>0.59</td><td>0.5, 0.69 </td></tr>\n",
       "</tbody>\n",
       "</table>\n"
      ],
      "text/latex": [
       "A data.table: 5 × 3\n",
       "\\begin{tabular}{lll}\n",
       " PRS & AUC & CI\\\\\n",
       " <chr> & <dbl> & <chr>\\\\\n",
       "\\hline\n",
       "\t PRS.RAW & 0.60 & 0.5, 0.69 \\\\\n",
       "\t ADJ.PC  & 0.59 & 0.49, 0.68\\\\\n",
       "\t ADJ.ANC & 0.59 & 0.5, 0.69 \\\\\n",
       "\t BR.AOU  & 0.59 & 0.5, 0.69 \\\\\n",
       "\t BR.ANC  & 0.59 & 0.5, 0.69 \\\\\n",
       "\\end{tabular}\n"
      ],
      "text/markdown": [
       "\n",
       "A data.table: 5 × 3\n",
       "\n",
       "| PRS &lt;chr&gt; | AUC &lt;dbl&gt; | CI &lt;chr&gt; |\n",
       "|---|---|---|\n",
       "| PRS.RAW | 0.60 | 0.5, 0.69  |\n",
       "| ADJ.PC  | 0.59 | 0.49, 0.68 |\n",
       "| ADJ.ANC | 0.59 | 0.5, 0.69  |\n",
       "| BR.AOU  | 0.59 | 0.5, 0.69  |\n",
       "| BR.ANC  | 0.59 | 0.5, 0.69  |\n",
       "\n"
      ],
      "text/plain": [
       "  PRS     AUC  CI        \n",
       "1 PRS.RAW 0.60 0.5, 0.69 \n",
       "2 ADJ.PC  0.59 0.49, 0.68\n",
       "3 ADJ.ANC 0.59 0.5, 0.69 \n",
       "4 BR.AOU  0.59 0.5, 0.69 \n",
       "5 BR.ANC  0.59 0.5, 0.69 "
      ]
     },
     "metadata": {},
     "output_type": "display_data"
    },
    {
     "data": {
      "text/html": [
       "<style>\n",
       ".list-inline {list-style: none; margin:0; padding: 0}\n",
       ".list-inline>li {display: inline-block}\n",
       ".list-inline>li:not(:last-child)::after {content: \"\\00b7\"; padding: 0 .5ex}\n",
       "</style>\n",
       "<ol class=list-inline><li>'AFR.AUC'</li><li>'AFR.CI'</li></ol>\n"
      ],
      "text/latex": [
       "\\begin{enumerate*}\n",
       "\\item 'AFR.AUC'\n",
       "\\item 'AFR.CI'\n",
       "\\end{enumerate*}\n"
      ],
      "text/markdown": [
       "1. 'AFR.AUC'\n",
       "2. 'AFR.CI'\n",
       "\n",
       "\n"
      ],
      "text/plain": [
       "[1] \"AFR.AUC\" \"AFR.CI\" "
      ]
     },
     "metadata": {},
     "output_type": "display_data"
    },
    {
     "name": "stdout",
     "output_type": "stream",
     "text": [
      "List of 5\n",
      " $ :Classes ‘data.table’ and 'data.frame':\t5 obs. of  2 variables:\n",
      "  ..$ AFR.AUC: num [1:5] 0.6 0.59 0.59 0.59 0.59\n",
      "  ..$ AFR.CI : chr [1:5] \"0.5, 0.69\" \"0.49, 0.68\" \"0.5, 0.69\" \"0.5, 0.69\" ...\n",
      "  ..- attr(*, \".internal.selfref\")=<externalptr> \n",
      " $ : NULL\n",
      " $ : NULL\n",
      " $ : NULL\n",
      " $ : NULL\n"
     ]
    }
   ],
   "source": [
    "(ancestry.iter <- ancestry.iter + 1)\n",
    "keep.ancestry <- \"AFR\"\n",
    "subset.dt <- merge2.dt[][merge2.dt$my.ancestry == keep.ancestry]\n",
    "as.data.frame(subset.dt) %>%\n",
    "    count(CSET1, CSET3, SCREENED)\n",
    "length(subset.dt$PRS)\n",
    "attach(subset.dt)\n",
    "# can I get into table format? Why am I getting negative values? \n",
    "(auc.1 <- data.table(rbind(\n",
    "    pROC::ci.auc(CRC.status,PRS),\n",
    "    pROC::ci.auc(CRC.status,PRS.ADJ.PC),\n",
    "    pROC::ci.auc(CRC.status,PRS.ADJ.ANC),\n",
    "    pROC::ci.auc(CRC.status,PRS.BR.AOU1),\n",
    "    pROC::ci.auc(CRC.status,PRS.BR.ANC.AOU1)\n",
    "    )) )\n",
    "detach(subset.dt)\n",
    "header.names <- c(\"lower\",\"AUC\",\"upper\")\n",
    "setnames(auc.1,header.names)\n",
    "auc.1[,(header.names):=round(.SD,2),.SDcols=header.names]\n",
    "auc.1[,PRS:=c(\"RAW.PRS\",\"ADJ.PC\",\"ADJ.ANC\",\"BR.AOU\",\"BR.ANC\")]\n",
    "auc.1.table <- data.table(as.data.frame(auc.1) %>%\n",
    "    unite(\"CI\",lower,upper,sep=\", \"))\n",
    "(setcolorder(auc.1.table,c(\"PRS\",\"AUC\",\"CI\")))\n",
    "\n",
    "# fix the column names\n",
    "(new.labels <- paste0(paste0(keep.ancestry,\".\"),names(auc.1.table)[c(2,3)]))\n",
    "setnames(auc.1.table, names(auc.1.table)[c(2,3)], new.labels)\n",
    "#names(auc.1.table)\n",
    "auc.1.table[,PRS:=NULL]\n",
    "\n",
    "# add table to list\n",
    "basic.auc.list2[[ancestry.iter]] <- auc.1.table\n",
    "str(basic.auc.list2)\n",
    "\n",
    "\n",
    "# check the auc adjust function\n",
    "# The basic AUC will have larger sample size at this time\n",
    "subset.dt <- merge2.dt[][merge2.dt$my.ancestry == keep.ancestry & !is.na(merge2.dt$censored.age) &\n",
    "                        merge2.dt$censored.age <=91  & !is.na(merge2.dt$sex)]\n",
    "as.data.frame(subset.dt) %>%\n",
    "    count(CSET1, CSET3, SCREENED)\n",
    "\n",
    "length(subset.dt$PRS)\n",
    "subset.dt[,my.PRS:=PRS]\n",
    "(auc.prs.raw <- auc.adjusted(subset.dt))\n",
    "subset.dt[,my.PRS:=PRS.ADJ.PC]\n",
    "(auc.prs.adj.pc <- auc.adjusted(subset.dt))\n",
    "subset.dt[,my.PRS:=PRS.ADJ.ANC]\n",
    "(auc.prs.adj.anc <- auc.adjusted(subset.dt))\n",
    "subset.dt[,my.PRS:=PRS.BR.AOU1]\n",
    "(auc.prs.br.aou <- auc.adjusted(subset.dt))\n",
    "subset.dt[,my.PRS:=PRS.BR.ANC.AOU1]\n",
    "(auc.prs.br.anc <- auc.adjusted(subset.dt))\n",
    "\n",
    "n <- length(subset.dt$CRC.status)\n",
    "for(i in 1:niter)\n",
    "    {\n",
    "    sp=sample(1:n,n,replace=T)  \n",
    "    subset.dt[,PRS:=PRS]\n",
    "    auc.prs.raw <- c(auc.prs.raw, auc.adjusted(subset.dt[sp,]))\n",
    "    subset.dt[,PRS:=PRS.ADJ.PC]\n",
    "    auc.prs.adj.pc <- c(auc.prs.adj.pc, auc.adjusted(subset.dt[sp,]))\n",
    "    subset.dt[,PRS:=PRS.ADJ.ANC]\n",
    "    auc.prs.adj.anc <- c(auc.prs.adj.anc, auc.adjusted(subset.dt[sp,]))    \n",
    "    subset.dt[,my.PRS:=PRS.BR.AOU1]\n",
    "    auc.prs.br.aou <- c(auc.prs.br.aou, auc.adjusted(subset.dt[sp,]))    \n",
    "    subset.dt[,my.PRS:=PRS.BR.ANC.AOU1]\n",
    "    auc.prs.br.anc <- c(auc.prs.br.anc, auc.adjusted(subset.dt[sp,]))    \n",
    "}\n",
    "# Maybe make the below a function as well so I don't have to write stuff over and over\n",
    "#(ci.auc.prs.raw=c(auc.prs.raw[1] - 1.96*sd(auc.prs.raw), auc.prs.raw[1] + 1.96*sd(auc.prs.raw)))\n",
    "#(ci.auc.prs.adj.pc=c(auc.prs.adj.pc[1] - 1.96*sd(auc.prs.adj.pc), auc.prs.adj.pc[1] + 1.96*sd(auc.prs.adj.pc)))\n",
    "#(ci.auc.prs.adj.anc=c(auc.prs.adj.anc[1] - 1.96*sd(auc.prs.adj.anc), auc.prs.adj.anc[1] + 1.96*sd(auc.prs.adj.anc)))\n",
    "#(ci.auc.broad=c(auc.prs.broad[1] - 1.96*sd(auc.prs.broad), auc.prs.broad[1] + 1.96*sd(auc.prs.broad)))\n",
    "\n",
    "# check the CI function\n",
    "auc.boot.ci(auc.prs.raw)\n",
    "auc.boot.ci(auc.prs.adj.pc)\n",
    "auc.boot.ci(auc.prs.adj.anc)\n",
    "auc.boot.ci(auc.prs.br.aou)\n",
    "auc.boot.ci(auc.prs.br.anc)\n",
    "\n",
    "\n",
    "\n",
    "#make into a table\n",
    "auc.adj <- c(auc.prs.raw[1], auc.prs.adj.pc[1], auc.prs.adj.anc[1],auc.prs.br.aou[1],auc.prs.br.anc[1])\n",
    "auc.2 <- data.table(\n",
    "    cbind(auc.adj, rbind(auc.boot.ci(auc.prs.raw), auc.boot.ci(auc.prs.adj.pc), auc.boot.ci(auc.prs.adj.anc), \n",
    "                         auc.boot.ci(auc.prs.br.aou), auc.boot.ci(auc.prs.br.anc) ))\n",
    "    )\n",
    "header.names <- c(\"AUC\",\"lower\",\"upper\")\n",
    "setnames(auc.2,header.names)\n",
    "auc.2[,(header.names):=round(.SD,2),.SDcols=header.names]\n",
    "auc.2[,PRS:=c(\"PRS.RAW\",\"ADJ.PC\",\"ADJ.ANC\",\"BR.AOU\",\"BR.ANC\")]\n",
    "auc.2.table <- data.table(as.data.frame(auc.2) %>%\n",
    "    unite(\"CI\",lower,upper,sep=\", \"))\n",
    "(setcolorder(auc.2.table,c(\"PRS\",\"AUC\",\"CI\")))\n",
    "\n",
    "# fix the column names\n",
    "(new.labels <- paste0(paste0(keep.ancestry,\".\"),names(auc.2.table)[c(2,3)]))\n",
    "setnames(auc.2.table, names(auc.2.table)[c(2,3)], new.labels)\n",
    "auc.2.table[,PRS:=NULL]\n",
    "\n",
    "\n",
    "adj.auc.list2[[ancestry.iter]] <- auc.2.table\n",
    "str(adj.auc.list2)"
   ]
  },
  {
   "cell_type": "markdown",
   "metadata": {
    "heading_collapsed": true
   },
   "source": [
    "# Calculations for AMR subset, CSET3 vs controls.A"
   ]
  },
  {
   "cell_type": "code",
   "execution_count": null,
   "metadata": {
    "hidden": true
   },
   "outputs": [],
   "source": [
    "(ancestry.iter <- ancestry.iter + 1)\n",
    "keep.ancestry <- \"AMR\"\n",
    "subset.dt <- merge2.dt[][merge2.dt$my.ancestry == keep.ancestry]\n",
    "as.data.frame(subset.dt) %>%\n",
    "    count(CSET1, CSET3, SCREENED)\n",
    "length(subset.dt$PRS)\n",
    "attach(subset.dt)\n",
    "# can I get into table format? Why am I getting negative values? \n",
    "(auc.1 <- data.table(rbind(\n",
    "    pROC::ci.auc(CRC.status,PRS),\n",
    "    pROC::ci.auc(CRC.status,PRS.ADJ.PC),\n",
    "    pROC::ci.auc(CRC.status,PRS.ADJ.ANC),\n",
    "    pROC::ci.auc(CRC.status,PRS.BR.AOU1),\n",
    "    pROC::ci.auc(CRC.status,PRS.BR.ANC.AOU1)\n",
    "    )) )\n",
    "detach(subset.dt)\n",
    "header.names <- c(\"lower\",\"AUC\",\"upper\")\n",
    "setnames(auc.1,header.names)\n",
    "auc.1[,(header.names):=round(.SD,2),.SDcols=header.names]\n",
    "auc.1[,PRS:=c(\"RAW.PRS\",\"ADJ.PC\",\"ADJ.ANC\",\"BR.AOU\",\"BR.ANC\")]\n",
    "auc.1.table <- data.table(as.data.frame(auc.1) %>%\n",
    "    unite(\"CI\",lower,upper,sep=\", \"))\n",
    "(setcolorder(auc.1.table,c(\"PRS\",\"AUC\",\"CI\")))\n",
    "\n",
    "# fix the column names\n",
    "(new.labels <- paste0(paste0(keep.ancestry,\".\"),names(auc.1.table)[c(2,3)]))\n",
    "setnames(auc.1.table, names(auc.1.table)[c(2,3)], new.labels)\n",
    "#names(auc.1.table)\n",
    "auc.1.table[,PRS:=NULL]\n",
    "\n",
    "# add table to list\n",
    "basic.auc.list2[[ancestry.iter]] <- auc.1.table\n",
    "str(basic.auc.list2)\n",
    "\n",
    "\n",
    "# check the auc adjust function\n",
    "# The basic AUC will have larger sample size at this time\n",
    "subset.dt <- merge2.dt[][merge2.dt$my.ancestry == keep.ancestry & !is.na(merge2.dt$censored.age) &\n",
    "                        merge2.dt$censored.age <=91  & !is.na(merge2.dt$sex)]\n",
    "as.data.frame(subset.dt) %>%\n",
    "    count(CSET1, CSET3, SCREENED)\n",
    "\n",
    "length(subset.dt$PRS)\n",
    "subset.dt[,my.PRS:=PRS]\n",
    "(auc.prs.raw <- auc.adjusted(subset.dt))\n",
    "subset.dt[,my.PRS:=PRS.ADJ.PC]\n",
    "(auc.prs.adj.pc <- auc.adjusted(subset.dt))\n",
    "subset.dt[,my.PRS:=PRS.ADJ.ANC]\n",
    "(auc.prs.adj.anc <- auc.adjusted(subset.dt))\n",
    "subset.dt[,my.PRS:=PRS.BR.AOU1]\n",
    "(auc.prs.br.aou <- auc.adjusted(subset.dt))\n",
    "subset.dt[,my.PRS:=PRS.BR.ANC.AOU1]\n",
    "(auc.prs.br.anc <- auc.adjusted(subset.dt))\n",
    "\n",
    "n <- length(subset.dt$CRC.status)\n",
    "for(i in 1:niter)\n",
    "    {\n",
    "    sp=sample(1:n,n,replace=T)  \n",
    "    subset.dt[,PRS:=PRS]\n",
    "    auc.prs.raw <- c(auc.prs.raw, auc.adjusted(subset.dt[sp,]))\n",
    "    subset.dt[,PRS:=PRS.ADJ.PC]\n",
    "    auc.prs.adj.pc <- c(auc.prs.adj.pc, auc.adjusted(subset.dt[sp,]))\n",
    "    subset.dt[,PRS:=PRS.ADJ.ANC]\n",
    "    auc.prs.adj.anc <- c(auc.prs.adj.anc, auc.adjusted(subset.dt[sp,]))    \n",
    "    subset.dt[,my.PRS:=PRS.BR.AOU1]\n",
    "    auc.prs.br.aou <- c(auc.prs.br.aou, auc.adjusted(subset.dt[sp,]))    \n",
    "    subset.dt[,my.PRS:=PRS.BR.ANC.AOU1]\n",
    "    auc.prs.br.anc <- c(auc.prs.br.anc, auc.adjusted(subset.dt[sp,]))    \n",
    "}\n",
    "# Maybe make the below a function as well so I don't have to write stuff over and over\n",
    "#(ci.auc.prs.raw=c(auc.prs.raw[1] - 1.96*sd(auc.prs.raw), auc.prs.raw[1] + 1.96*sd(auc.prs.raw)))\n",
    "#(ci.auc.prs.adj.pc=c(auc.prs.adj.pc[1] - 1.96*sd(auc.prs.adj.pc), auc.prs.adj.pc[1] + 1.96*sd(auc.prs.adj.pc)))\n",
    "#(ci.auc.prs.adj.anc=c(auc.prs.adj.anc[1] - 1.96*sd(auc.prs.adj.anc), auc.prs.adj.anc[1] + 1.96*sd(auc.prs.adj.anc)))\n",
    "#(ci.auc.broad=c(auc.prs.broad[1] - 1.96*sd(auc.prs.broad), auc.prs.broad[1] + 1.96*sd(auc.prs.broad)))\n",
    "\n",
    "# check the CI function\n",
    "auc.boot.ci(auc.prs.raw)\n",
    "auc.boot.ci(auc.prs.adj.pc)\n",
    "auc.boot.ci(auc.prs.adj.anc)\n",
    "auc.boot.ci(auc.prs.br.aou)\n",
    "auc.boot.ci(auc.prs.br.anc)\n",
    "\n",
    "\n",
    "\n",
    "#make into a table\n",
    "auc.adj <- c(auc.prs.raw[1], auc.prs.adj.pc[1], auc.prs.adj.anc[1],auc.prs.br.aou[1],auc.prs.br.anc[1])\n",
    "auc.2 <- data.table(\n",
    "    cbind(auc.adj, rbind(auc.boot.ci(auc.prs.raw), auc.boot.ci(auc.prs.adj.pc), auc.boot.ci(auc.prs.adj.anc), \n",
    "                         auc.boot.ci(auc.prs.br.aou), auc.boot.ci(auc.prs.br.anc) ))\n",
    "    )\n",
    "header.names <- c(\"AUC\",\"lower\",\"upper\")\n",
    "setnames(auc.2,header.names)\n",
    "auc.2[,(header.names):=round(.SD,2),.SDcols=header.names]\n",
    "auc.2[,PRS:=c(\"PRS.RAW\",\"ADJ.PC\",\"ADJ.ANC\",\"BR.AOU\",\"BR.ANC\")]\n",
    "auc.2.table <- data.table(as.data.frame(auc.2) %>%\n",
    "    unite(\"CI\",lower,upper,sep=\", \"))\n",
    "(setcolorder(auc.2.table,c(\"PRS\",\"AUC\",\"CI\")))\n",
    "\n",
    "# fix the column names\n",
    "(new.labels <- paste0(paste0(keep.ancestry,\".\"),names(auc.2.table)[c(2,3)]))\n",
    "setnames(auc.2.table, names(auc.2.table)[c(2,3)], new.labels)\n",
    "auc.2.table[,PRS:=NULL]\n",
    "\n",
    "\n",
    "adj.auc.list2[[ancestry.iter]] <- auc.2.table\n",
    "str(adj.auc.list2)"
   ]
  },
  {
   "cell_type": "markdown",
   "metadata": {
    "heading_collapsed": true
   },
   "source": [
    "# Calculations for EUR subset, CSET3 vs controls.A"
   ]
  },
  {
   "cell_type": "code",
   "execution_count": 28,
   "metadata": {
    "hidden": true
   },
   "outputs": [
    {
     "data": {
      "text/html": [
       "3"
      ],
      "text/latex": [
       "3"
      ],
      "text/markdown": [
       "3"
      ],
      "text/plain": [
       "[1] 3"
      ]
     },
     "metadata": {},
     "output_type": "display_data"
    },
    {
     "data": {
      "text/html": [
       "<table class=\"dataframe\">\n",
       "<caption>A data.frame: 2 × 4</caption>\n",
       "<thead>\n",
       "\t<tr><th scope=col>CSET1</th><th scope=col>CSET3</th><th scope=col>SCREENED</th><th scope=col>n</th></tr>\n",
       "\t<tr><th scope=col>&lt;int&gt;</th><th scope=col>&lt;int&gt;</th><th scope=col>&lt;int&gt;</th><th scope=col>&lt;int&gt;</th></tr>\n",
       "</thead>\n",
       "<tbody>\n",
       "\t<tr><td>0</td><td>0</td><td>1</td><td>6625</td></tr>\n",
       "\t<tr><td>1</td><td>1</td><td>0</td><td> 204</td></tr>\n",
       "</tbody>\n",
       "</table>\n"
      ],
      "text/latex": [
       "A data.frame: 2 × 4\n",
       "\\begin{tabular}{llll}\n",
       " CSET1 & CSET3 & SCREENED & n\\\\\n",
       " <int> & <int> & <int> & <int>\\\\\n",
       "\\hline\n",
       "\t 0 & 0 & 1 & 6625\\\\\n",
       "\t 1 & 1 & 0 &  204\\\\\n",
       "\\end{tabular}\n"
      ],
      "text/markdown": [
       "\n",
       "A data.frame: 2 × 4\n",
       "\n",
       "| CSET1 &lt;int&gt; | CSET3 &lt;int&gt; | SCREENED &lt;int&gt; | n &lt;int&gt; |\n",
       "|---|---|---|---|\n",
       "| 0 | 0 | 1 | 6625 |\n",
       "| 1 | 1 | 0 |  204 |\n",
       "\n"
      ],
      "text/plain": [
       "  CSET1 CSET3 SCREENED n   \n",
       "1 0     0     1        6625\n",
       "2 1     1     0         204"
      ]
     },
     "metadata": {},
     "output_type": "display_data"
    },
    {
     "data": {
      "text/html": [
       "6829"
      ],
      "text/latex": [
       "6829"
      ],
      "text/markdown": [
       "6829"
      ],
      "text/plain": [
       "[1] 6829"
      ]
     },
     "metadata": {},
     "output_type": "display_data"
    },
    {
     "name": "stderr",
     "output_type": "stream",
     "text": [
      "The following objects are masked from subset.dt (pos = 3):\n",
      "\n",
      "    AFR, AGE, age.of.onset, age.screen1, age.screen2, AMR,\n",
      "    censored.age, CRC.status, CSET1, CSET3, dob, EAS, ethnicity, EUR,\n",
      "    gender, ID, MID, my.ancestry3, norm.PRS, norm.PRS.ADJ.ANC,\n",
      "    norm.PRS.ADJ.PC, PC1, PC10, PC11, PC12, PC13, PC14, PC15, PC16,\n",
      "    PC17, PC18, PC19, PC2, PC20, PC21, PC22, PC23, PC24, PC25, PC26,\n",
      "    PC27, PC28, PC29, PC3, PC30, PC31, PC32, PC4, PC5, PC6, PC7, PC8,\n",
      "    PC9, person_id, PRS, PRS.ADJ.ANC, PRS.ADJ.PC, PRS.BR.ANC.AOU1,\n",
      "    PRS.BR.ANC.AOU2, PRS.BR.AOU.ALL, PRS.BR.AOU1, PRS.BR.AOU2,\n",
      "    PRS.BR.REF, race, SAS, SCREENED, sex, sex_at_birth, UC1, UC2\n",
      "\n",
      "\n",
      "Setting levels: control = 0, case = 1\n",
      "\n",
      "Setting direction: controls < cases\n",
      "\n",
      "Setting levels: control = 0, case = 1\n",
      "\n",
      "Setting direction: controls < cases\n",
      "\n",
      "Setting levels: control = 0, case = 1\n",
      "\n",
      "Setting direction: controls < cases\n",
      "\n",
      "Setting levels: control = 0, case = 1\n",
      "\n",
      "Setting direction: controls < cases\n",
      "\n",
      "Setting levels: control = 0, case = 1\n",
      "\n",
      "Setting direction: controls < cases\n",
      "\n"
     ]
    },
    {
     "data": {
      "text/html": [
       "<table class=\"dataframe\">\n",
       "<caption>A data.table: 5 × 3</caption>\n",
       "<thead>\n",
       "\t<tr><th scope=col>V1</th><th scope=col>V2</th><th scope=col>V3</th></tr>\n",
       "\t<tr><th scope=col>&lt;dbl&gt;</th><th scope=col>&lt;dbl&gt;</th><th scope=col>&lt;dbl&gt;</th></tr>\n",
       "</thead>\n",
       "<tbody>\n",
       "\t<tr><td>0.5930569</td><td>0.6328206</td><td>0.6725842</td></tr>\n",
       "\t<tr><td>0.5933971</td><td>0.6331432</td><td>0.6728893</td></tr>\n",
       "\t<tr><td>0.5939341</td><td>0.6335960</td><td>0.6732579</td></tr>\n",
       "\t<tr><td>0.5932804</td><td>0.6330314</td><td>0.6727825</td></tr>\n",
       "\t<tr><td>0.5939957</td><td>0.6336574</td><td>0.6733192</td></tr>\n",
       "</tbody>\n",
       "</table>\n"
      ],
      "text/latex": [
       "A data.table: 5 × 3\n",
       "\\begin{tabular}{lll}\n",
       " V1 & V2 & V3\\\\\n",
       " <dbl> & <dbl> & <dbl>\\\\\n",
       "\\hline\n",
       "\t 0.5930569 & 0.6328206 & 0.6725842\\\\\n",
       "\t 0.5933971 & 0.6331432 & 0.6728893\\\\\n",
       "\t 0.5939341 & 0.6335960 & 0.6732579\\\\\n",
       "\t 0.5932804 & 0.6330314 & 0.6727825\\\\\n",
       "\t 0.5939957 & 0.6336574 & 0.6733192\\\\\n",
       "\\end{tabular}\n"
      ],
      "text/markdown": [
       "\n",
       "A data.table: 5 × 3\n",
       "\n",
       "| V1 &lt;dbl&gt; | V2 &lt;dbl&gt; | V3 &lt;dbl&gt; |\n",
       "|---|---|---|\n",
       "| 0.5930569 | 0.6328206 | 0.6725842 |\n",
       "| 0.5933971 | 0.6331432 | 0.6728893 |\n",
       "| 0.5939341 | 0.6335960 | 0.6732579 |\n",
       "| 0.5932804 | 0.6330314 | 0.6727825 |\n",
       "| 0.5939957 | 0.6336574 | 0.6733192 |\n",
       "\n"
      ],
      "text/plain": [
       "  V1        V2        V3       \n",
       "1 0.5930569 0.6328206 0.6725842\n",
       "2 0.5933971 0.6331432 0.6728893\n",
       "3 0.5939341 0.6335960 0.6732579\n",
       "4 0.5932804 0.6330314 0.6727825\n",
       "5 0.5939957 0.6336574 0.6733192"
      ]
     },
     "metadata": {},
     "output_type": "display_data"
    },
    {
     "data": {
      "text/html": [
       "<table class=\"dataframe\">\n",
       "<caption>A data.table: 5 × 3</caption>\n",
       "<thead>\n",
       "\t<tr><th scope=col>PRS</th><th scope=col>AUC</th><th scope=col>CI</th></tr>\n",
       "\t<tr><th scope=col>&lt;chr&gt;</th><th scope=col>&lt;dbl&gt;</th><th scope=col>&lt;chr&gt;</th></tr>\n",
       "</thead>\n",
       "<tbody>\n",
       "\t<tr><td>RAW.PRS</td><td>0.63</td><td>0.59, 0.67</td></tr>\n",
       "\t<tr><td>ADJ.PC </td><td>0.63</td><td>0.59, 0.67</td></tr>\n",
       "\t<tr><td>ADJ.ANC</td><td>0.63</td><td>0.59, 0.67</td></tr>\n",
       "\t<tr><td>BR.AOU </td><td>0.63</td><td>0.59, 0.67</td></tr>\n",
       "\t<tr><td>BR.ANC </td><td>0.63</td><td>0.59, 0.67</td></tr>\n",
       "</tbody>\n",
       "</table>\n"
      ],
      "text/latex": [
       "A data.table: 5 × 3\n",
       "\\begin{tabular}{lll}\n",
       " PRS & AUC & CI\\\\\n",
       " <chr> & <dbl> & <chr>\\\\\n",
       "\\hline\n",
       "\t RAW.PRS & 0.63 & 0.59, 0.67\\\\\n",
       "\t ADJ.PC  & 0.63 & 0.59, 0.67\\\\\n",
       "\t ADJ.ANC & 0.63 & 0.59, 0.67\\\\\n",
       "\t BR.AOU  & 0.63 & 0.59, 0.67\\\\\n",
       "\t BR.ANC  & 0.63 & 0.59, 0.67\\\\\n",
       "\\end{tabular}\n"
      ],
      "text/markdown": [
       "\n",
       "A data.table: 5 × 3\n",
       "\n",
       "| PRS &lt;chr&gt; | AUC &lt;dbl&gt; | CI &lt;chr&gt; |\n",
       "|---|---|---|\n",
       "| RAW.PRS | 0.63 | 0.59, 0.67 |\n",
       "| ADJ.PC  | 0.63 | 0.59, 0.67 |\n",
       "| ADJ.ANC | 0.63 | 0.59, 0.67 |\n",
       "| BR.AOU  | 0.63 | 0.59, 0.67 |\n",
       "| BR.ANC  | 0.63 | 0.59, 0.67 |\n",
       "\n"
      ],
      "text/plain": [
       "  PRS     AUC  CI        \n",
       "1 RAW.PRS 0.63 0.59, 0.67\n",
       "2 ADJ.PC  0.63 0.59, 0.67\n",
       "3 ADJ.ANC 0.63 0.59, 0.67\n",
       "4 BR.AOU  0.63 0.59, 0.67\n",
       "5 BR.ANC  0.63 0.59, 0.67"
      ]
     },
     "metadata": {},
     "output_type": "display_data"
    },
    {
     "data": {
      "text/html": [
       "<style>\n",
       ".list-inline {list-style: none; margin:0; padding: 0}\n",
       ".list-inline>li {display: inline-block}\n",
       ".list-inline>li:not(:last-child)::after {content: \"\\00b7\"; padding: 0 .5ex}\n",
       "</style>\n",
       "<ol class=list-inline><li>'EUR.AUC'</li><li>'EUR.CI'</li></ol>\n"
      ],
      "text/latex": [
       "\\begin{enumerate*}\n",
       "\\item 'EUR.AUC'\n",
       "\\item 'EUR.CI'\n",
       "\\end{enumerate*}\n"
      ],
      "text/markdown": [
       "1. 'EUR.AUC'\n",
       "2. 'EUR.CI'\n",
       "\n",
       "\n"
      ],
      "text/plain": [
       "[1] \"EUR.AUC\" \"EUR.CI\" "
      ]
     },
     "metadata": {},
     "output_type": "display_data"
    },
    {
     "name": "stdout",
     "output_type": "stream",
     "text": [
      "List of 5\n",
      " $ :Classes ‘data.table’ and 'data.frame':\t5 obs. of  2 variables:\n",
      "  ..$ AFR.AUC: num [1:5] 0.59 0.59 0.59 0.59 0.59\n",
      "  ..$ AFR.CI : chr [1:5] \"0.51, 0.67\" \"0.51, 0.67\" \"0.5, 0.67\" \"0.51, 0.67\" ...\n",
      "  ..- attr(*, \".internal.selfref\")=<externalptr> \n",
      " $ :Classes ‘data.table’ and 'data.frame':\t5 obs. of  2 variables:\n",
      "  ..$ AMR.AUC: num [1:5] 0.71 0.71 0.72 0.71 0.72\n",
      "  ..$ AMR.CI : chr [1:5] \"0.6, 0.83\" \"0.6, 0.83\" \"0.61, 0.83\" \"0.6, 0.82\" ...\n",
      "  ..- attr(*, \".internal.selfref\")=<externalptr> \n",
      " $ :Classes ‘data.table’ and 'data.frame':\t5 obs. of  2 variables:\n",
      "  ..$ EUR.AUC: num [1:5] 0.63 0.63 0.63 0.63 0.63\n",
      "  ..$ EUR.CI : chr [1:5] \"0.59, 0.67\" \"0.59, 0.67\" \"0.59, 0.67\" \"0.59, 0.67\" ...\n",
      "  ..- attr(*, \".internal.selfref\")=<externalptr> \n",
      " $ : NULL\n",
      " $ : NULL\n"
     ]
    },
    {
     "data": {
      "text/html": [
       "<table class=\"dataframe\">\n",
       "<caption>A data.frame: 2 × 4</caption>\n",
       "<thead>\n",
       "\t<tr><th scope=col>CSET1</th><th scope=col>CSET3</th><th scope=col>SCREENED</th><th scope=col>n</th></tr>\n",
       "\t<tr><th scope=col>&lt;int&gt;</th><th scope=col>&lt;int&gt;</th><th scope=col>&lt;int&gt;</th><th scope=col>&lt;int&gt;</th></tr>\n",
       "</thead>\n",
       "<tbody>\n",
       "\t<tr><td>0</td><td>0</td><td>1</td><td>6554</td></tr>\n",
       "\t<tr><td>1</td><td>1</td><td>0</td><td> 202</td></tr>\n",
       "</tbody>\n",
       "</table>\n"
      ],
      "text/latex": [
       "A data.frame: 2 × 4\n",
       "\\begin{tabular}{llll}\n",
       " CSET1 & CSET3 & SCREENED & n\\\\\n",
       " <int> & <int> & <int> & <int>\\\\\n",
       "\\hline\n",
       "\t 0 & 0 & 1 & 6554\\\\\n",
       "\t 1 & 1 & 0 &  202\\\\\n",
       "\\end{tabular}\n"
      ],
      "text/markdown": [
       "\n",
       "A data.frame: 2 × 4\n",
       "\n",
       "| CSET1 &lt;int&gt; | CSET3 &lt;int&gt; | SCREENED &lt;int&gt; | n &lt;int&gt; |\n",
       "|---|---|---|---|\n",
       "| 0 | 0 | 1 | 6554 |\n",
       "| 1 | 1 | 0 |  202 |\n",
       "\n"
      ],
      "text/plain": [
       "  CSET1 CSET3 SCREENED n   \n",
       "1 0     0     1        6554\n",
       "2 1     1     0         202"
      ]
     },
     "metadata": {},
     "output_type": "display_data"
    },
    {
     "data": {
      "text/html": [
       "6756"
      ],
      "text/latex": [
       "6756"
      ],
      "text/markdown": [
       "6756"
      ],
      "text/plain": [
       "[1] 6756"
      ]
     },
     "metadata": {},
     "output_type": "display_data"
    },
    {
     "data": {
      "text/html": [
       "0.63584479738543"
      ],
      "text/latex": [
       "0.63584479738543"
      ],
      "text/markdown": [
       "0.63584479738543"
      ],
      "text/plain": [
       "[1] 0.6358448"
      ]
     },
     "metadata": {},
     "output_type": "display_data"
    },
    {
     "data": {
      "text/html": [
       "0.635378798690507"
      ],
      "text/latex": [
       "0.635378798690507"
      ],
      "text/markdown": [
       "0.635378798690507"
      ],
      "text/plain": [
       "[1] 0.6353788"
      ]
     },
     "metadata": {},
     "output_type": "display_data"
    },
    {
     "data": {
      "text/html": [
       "0.633817567910725"
      ],
      "text/latex": [
       "0.633817567910725"
      ],
      "text/markdown": [
       "0.633817567910725"
      ],
      "text/plain": [
       "[1] 0.6338176"
      ]
     },
     "metadata": {},
     "output_type": "display_data"
    },
    {
     "data": {
      "text/html": [
       "0.634309555532455"
      ],
      "text/latex": [
       "0.634309555532455"
      ],
      "text/markdown": [
       "0.634309555532455"
      ],
      "text/plain": [
       "[1] 0.6343096"
      ]
     },
     "metadata": {},
     "output_type": "display_data"
    },
    {
     "data": {
      "text/html": [
       "0.634897965289129"
      ],
      "text/latex": [
       "0.634897965289129"
      ],
      "text/markdown": [
       "0.634897965289129"
      ],
      "text/plain": [
       "[1] 0.634898"
      ]
     },
     "metadata": {},
     "output_type": "display_data"
    },
    {
     "data": {
      "text/html": [
       "<style>\n",
       ".list-inline {list-style: none; margin:0; padding: 0}\n",
       ".list-inline>li {display: inline-block}\n",
       ".list-inline>li:not(:last-child)::after {content: \"\\00b7\"; padding: 0 .5ex}\n",
       "</style>\n",
       "<ol class=list-inline><li>0.594888421014192</li><li>0.676801173756668</li></ol>\n"
      ],
      "text/latex": [
       "\\begin{enumerate*}\n",
       "\\item 0.594888421014192\n",
       "\\item 0.676801173756668\n",
       "\\end{enumerate*}\n"
      ],
      "text/markdown": [
       "1. 0.594888421014192\n",
       "2. 0.676801173756668\n",
       "\n",
       "\n"
      ],
      "text/plain": [
       "[1] 0.5948884 0.6768012"
      ]
     },
     "metadata": {},
     "output_type": "display_data"
    },
    {
     "data": {
      "text/html": [
       "<style>\n",
       ".list-inline {list-style: none; margin:0; padding: 0}\n",
       ".list-inline>li {display: inline-block}\n",
       ".list-inline>li:not(:last-child)::after {content: \"\\00b7\"; padding: 0 .5ex}\n",
       "</style>\n",
       "<ol class=list-inline><li>0.594422458066976</li><li>0.676335139314038</li></ol>\n"
      ],
      "text/latex": [
       "\\begin{enumerate*}\n",
       "\\item 0.594422458066976\n",
       "\\item 0.676335139314038\n",
       "\\end{enumerate*}\n"
      ],
      "text/markdown": [
       "1. 0.594422458066976\n",
       "2. 0.676335139314038\n",
       "\n",
       "\n"
      ],
      "text/plain": [
       "[1] 0.5944225 0.6763351"
      ]
     },
     "metadata": {},
     "output_type": "display_data"
    },
    {
     "data": {
      "text/html": [
       "<style>\n",
       ".list-inline {list-style: none; margin:0; padding: 0}\n",
       ".list-inline>li {display: inline-block}\n",
       ".list-inline>li:not(:last-child)::after {content: \"\\00b7\"; padding: 0 .5ex}\n",
       "</style>\n",
       "<ol class=list-inline><li>0.592861050778982</li><li>0.674774085042467</li></ol>\n"
      ],
      "text/latex": [
       "\\begin{enumerate*}\n",
       "\\item 0.592861050778982\n",
       "\\item 0.674774085042467\n",
       "\\end{enumerate*}\n"
      ],
      "text/markdown": [
       "1. 0.592861050778982\n",
       "2. 0.674774085042467\n",
       "\n",
       "\n"
      ],
      "text/plain": [
       "[1] 0.5928611 0.6747741"
      ]
     },
     "metadata": {},
     "output_type": "display_data"
    },
    {
     "data": {
      "text/html": [
       "<style>\n",
       ".list-inline {list-style: none; margin:0; padding: 0}\n",
       ".list-inline>li {display: inline-block}\n",
       ".list-inline>li:not(:last-child)::after {content: \"\\00b7\"; padding: 0 .5ex}\n",
       "</style>\n",
       "<ol class=list-inline><li>0.592955508709114</li><li>0.675663602355796</li></ol>\n"
      ],
      "text/latex": [
       "\\begin{enumerate*}\n",
       "\\item 0.592955508709114\n",
       "\\item 0.675663602355796\n",
       "\\end{enumerate*}\n"
      ],
      "text/markdown": [
       "1. 0.592955508709114\n",
       "2. 0.675663602355796\n",
       "\n",
       "\n"
      ],
      "text/plain": [
       "[1] 0.5929555 0.6756636"
      ]
     },
     "metadata": {},
     "output_type": "display_data"
    },
    {
     "data": {
      "text/html": [
       "<style>\n",
       ".list-inline {list-style: none; margin:0; padding: 0}\n",
       ".list-inline>li {display: inline-block}\n",
       ".list-inline>li:not(:last-child)::after {content: \"\\00b7\"; padding: 0 .5ex}\n",
       "</style>\n",
       "<ol class=list-inline><li>0.593941618933537</li><li>0.675854311644721</li></ol>\n"
      ],
      "text/latex": [
       "\\begin{enumerate*}\n",
       "\\item 0.593941618933537\n",
       "\\item 0.675854311644721\n",
       "\\end{enumerate*}\n"
      ],
      "text/markdown": [
       "1. 0.593941618933537\n",
       "2. 0.675854311644721\n",
       "\n",
       "\n"
      ],
      "text/plain": [
       "[1] 0.5939416 0.6758543"
      ]
     },
     "metadata": {},
     "output_type": "display_data"
    },
    {
     "data": {
      "text/html": [
       "<table class=\"dataframe\">\n",
       "<caption>A data.table: 5 × 3</caption>\n",
       "<thead>\n",
       "\t<tr><th scope=col>PRS</th><th scope=col>AUC</th><th scope=col>CI</th></tr>\n",
       "\t<tr><th scope=col>&lt;chr&gt;</th><th scope=col>&lt;dbl&gt;</th><th scope=col>&lt;chr&gt;</th></tr>\n",
       "</thead>\n",
       "<tbody>\n",
       "\t<tr><td>PRS.RAW</td><td>0.64</td><td>0.59, 0.68</td></tr>\n",
       "\t<tr><td>ADJ.PC </td><td>0.64</td><td>0.59, 0.68</td></tr>\n",
       "\t<tr><td>ADJ.ANC</td><td>0.63</td><td>0.59, 0.67</td></tr>\n",
       "\t<tr><td>BR.AOU </td><td>0.63</td><td>0.59, 0.68</td></tr>\n",
       "\t<tr><td>BR.ANC </td><td>0.63</td><td>0.59, 0.68</td></tr>\n",
       "</tbody>\n",
       "</table>\n"
      ],
      "text/latex": [
       "A data.table: 5 × 3\n",
       "\\begin{tabular}{lll}\n",
       " PRS & AUC & CI\\\\\n",
       " <chr> & <dbl> & <chr>\\\\\n",
       "\\hline\n",
       "\t PRS.RAW & 0.64 & 0.59, 0.68\\\\\n",
       "\t ADJ.PC  & 0.64 & 0.59, 0.68\\\\\n",
       "\t ADJ.ANC & 0.63 & 0.59, 0.67\\\\\n",
       "\t BR.AOU  & 0.63 & 0.59, 0.68\\\\\n",
       "\t BR.ANC  & 0.63 & 0.59, 0.68\\\\\n",
       "\\end{tabular}\n"
      ],
      "text/markdown": [
       "\n",
       "A data.table: 5 × 3\n",
       "\n",
       "| PRS &lt;chr&gt; | AUC &lt;dbl&gt; | CI &lt;chr&gt; |\n",
       "|---|---|---|\n",
       "| PRS.RAW | 0.64 | 0.59, 0.68 |\n",
       "| ADJ.PC  | 0.64 | 0.59, 0.68 |\n",
       "| ADJ.ANC | 0.63 | 0.59, 0.67 |\n",
       "| BR.AOU  | 0.63 | 0.59, 0.68 |\n",
       "| BR.ANC  | 0.63 | 0.59, 0.68 |\n",
       "\n"
      ],
      "text/plain": [
       "  PRS     AUC  CI        \n",
       "1 PRS.RAW 0.64 0.59, 0.68\n",
       "2 ADJ.PC  0.64 0.59, 0.68\n",
       "3 ADJ.ANC 0.63 0.59, 0.67\n",
       "4 BR.AOU  0.63 0.59, 0.68\n",
       "5 BR.ANC  0.63 0.59, 0.68"
      ]
     },
     "metadata": {},
     "output_type": "display_data"
    },
    {
     "data": {
      "text/html": [
       "<style>\n",
       ".list-inline {list-style: none; margin:0; padding: 0}\n",
       ".list-inline>li {display: inline-block}\n",
       ".list-inline>li:not(:last-child)::after {content: \"\\00b7\"; padding: 0 .5ex}\n",
       "</style>\n",
       "<ol class=list-inline><li>'EUR.AUC'</li><li>'EUR.CI'</li></ol>\n"
      ],
      "text/latex": [
       "\\begin{enumerate*}\n",
       "\\item 'EUR.AUC'\n",
       "\\item 'EUR.CI'\n",
       "\\end{enumerate*}\n"
      ],
      "text/markdown": [
       "1. 'EUR.AUC'\n",
       "2. 'EUR.CI'\n",
       "\n",
       "\n"
      ],
      "text/plain": [
       "[1] \"EUR.AUC\" \"EUR.CI\" "
      ]
     },
     "metadata": {},
     "output_type": "display_data"
    },
    {
     "name": "stdout",
     "output_type": "stream",
     "text": [
      "List of 5\n",
      " $ :Classes ‘data.table’ and 'data.frame':\t5 obs. of  2 variables:\n",
      "  ..$ AFR.AUC: num [1:5] 0.6 0.59 0.59 0.59 0.59\n",
      "  ..$ AFR.CI : chr [1:5] \"0.5, 0.69\" \"0.49, 0.68\" \"0.5, 0.69\" \"0.5, 0.69\" ...\n",
      "  ..- attr(*, \".internal.selfref\")=<externalptr> \n",
      " $ :Classes ‘data.table’ and 'data.frame':\t5 obs. of  2 variables:\n",
      "  ..$ AMR.AUC: num [1:5] 0.69 0.68 0.69 0.68 0.7\n",
      "  ..$ AMR.CI : chr [1:5] \"0.58, 0.8\" \"0.57, 0.8\" \"0.58, 0.8\" \"0.57, 0.8\" ...\n",
      "  ..- attr(*, \".internal.selfref\")=<externalptr> \n",
      " $ :Classes ‘data.table’ and 'data.frame':\t5 obs. of  2 variables:\n",
      "  ..$ EUR.AUC: num [1:5] 0.64 0.64 0.63 0.63 0.63\n",
      "  ..$ EUR.CI : chr [1:5] \"0.59, 0.68\" \"0.59, 0.68\" \"0.59, 0.67\" \"0.59, 0.68\" ...\n",
      "  ..- attr(*, \".internal.selfref\")=<externalptr> \n",
      " $ : NULL\n",
      " $ : NULL\n"
     ]
    }
   ],
   "source": [
    "(ancestry.iter <- ancestry.iter + 1)\n",
    "keep.ancestry <- \"EUR\"\n",
    "subset.dt <- merge2.dt[][merge2.dt$my.ancestry == keep.ancestry]\n",
    "as.data.frame(subset.dt) %>%\n",
    "    count(CSET1, CSET3, SCREENED)\n",
    "length(subset.dt$PRS)\n",
    "attach(subset.dt)\n",
    "# can I get into table format? Why am I getting negative values? \n",
    "(auc.1 <- data.table(rbind(\n",
    "    pROC::ci.auc(CRC.status,PRS),\n",
    "    pROC::ci.auc(CRC.status,PRS.ADJ.PC),\n",
    "    pROC::ci.auc(CRC.status,PRS.ADJ.ANC),\n",
    "    pROC::ci.auc(CRC.status,PRS.BR.AOU1),\n",
    "    pROC::ci.auc(CRC.status,PRS.BR.ANC.AOU1)\n",
    "    )) )\n",
    "detach(subset.dt)\n",
    "header.names <- c(\"lower\",\"AUC\",\"upper\")\n",
    "setnames(auc.1,header.names)\n",
    "auc.1[,(header.names):=round(.SD,2),.SDcols=header.names]\n",
    "auc.1[,PRS:=c(\"RAW.PRS\",\"ADJ.PC\",\"ADJ.ANC\",\"BR.AOU\",\"BR.ANC\")]\n",
    "auc.1.table <- data.table(as.data.frame(auc.1) %>%\n",
    "    unite(\"CI\",lower,upper,sep=\", \"))\n",
    "(setcolorder(auc.1.table,c(\"PRS\",\"AUC\",\"CI\")))\n",
    "\n",
    "# fix the column names\n",
    "(new.labels <- paste0(paste0(keep.ancestry,\".\"),names(auc.1.table)[c(2,3)]))\n",
    "setnames(auc.1.table, names(auc.1.table)[c(2,3)], new.labels)\n",
    "#names(auc.1.table)\n",
    "auc.1.table[,PRS:=NULL]\n",
    "\n",
    "# add table to list\n",
    "basic.auc.list2[[ancestry.iter]] <- auc.1.table\n",
    "str(basic.auc.list2)\n",
    "\n",
    "\n",
    "# check the auc adjust function\n",
    "# The basic AUC will have larger sample size at this time\n",
    "subset.dt <- merge2.dt[][merge2.dt$my.ancestry == keep.ancestry & !is.na(merge2.dt$censored.age) &\n",
    "                        merge2.dt$censored.age <=91  & !is.na(merge2.dt$sex)]\n",
    "as.data.frame(subset.dt) %>%\n",
    "    count(CSET1, CSET3, SCREENED)\n",
    "\n",
    "length(subset.dt$PRS)\n",
    "subset.dt[,my.PRS:=PRS]\n",
    "(auc.prs.raw <- auc.adjusted(subset.dt))\n",
    "subset.dt[,my.PRS:=PRS.ADJ.PC]\n",
    "(auc.prs.adj.pc <- auc.adjusted(subset.dt))\n",
    "subset.dt[,my.PRS:=PRS.ADJ.ANC]\n",
    "(auc.prs.adj.anc <- auc.adjusted(subset.dt))\n",
    "subset.dt[,my.PRS:=PRS.BR.AOU1]\n",
    "(auc.prs.br.aou <- auc.adjusted(subset.dt))\n",
    "subset.dt[,my.PRS:=PRS.BR.ANC.AOU1]\n",
    "(auc.prs.br.anc <- auc.adjusted(subset.dt))\n",
    "\n",
    "n <- length(subset.dt$CRC.status)\n",
    "for(i in 1:niter)\n",
    "    {\n",
    "    sp=sample(1:n,n,replace=T)  \n",
    "    subset.dt[,PRS:=PRS]\n",
    "    auc.prs.raw <- c(auc.prs.raw, auc.adjusted(subset.dt[sp,]))\n",
    "    subset.dt[,PRS:=PRS.ADJ.PC]\n",
    "    auc.prs.adj.pc <- c(auc.prs.adj.pc, auc.adjusted(subset.dt[sp,]))\n",
    "    subset.dt[,PRS:=PRS.ADJ.ANC]\n",
    "    auc.prs.adj.anc <- c(auc.prs.adj.anc, auc.adjusted(subset.dt[sp,]))    \n",
    "    subset.dt[,my.PRS:=PRS.BR.AOU1]\n",
    "    auc.prs.br.aou <- c(auc.prs.br.aou, auc.adjusted(subset.dt[sp,]))    \n",
    "    subset.dt[,my.PRS:=PRS.BR.ANC.AOU1]\n",
    "    auc.prs.br.anc <- c(auc.prs.br.anc, auc.adjusted(subset.dt[sp,]))    \n",
    "}\n",
    "# Maybe make the below a function as well so I don't have to write stuff over and over\n",
    "#(ci.auc.prs.raw=c(auc.prs.raw[1] - 1.96*sd(auc.prs.raw), auc.prs.raw[1] + 1.96*sd(auc.prs.raw)))\n",
    "#(ci.auc.prs.adj.pc=c(auc.prs.adj.pc[1] - 1.96*sd(auc.prs.adj.pc), auc.prs.adj.pc[1] + 1.96*sd(auc.prs.adj.pc)))\n",
    "#(ci.auc.prs.adj.anc=c(auc.prs.adj.anc[1] - 1.96*sd(auc.prs.adj.anc), auc.prs.adj.anc[1] + 1.96*sd(auc.prs.adj.anc)))\n",
    "#(ci.auc.broad=c(auc.prs.broad[1] - 1.96*sd(auc.prs.broad), auc.prs.broad[1] + 1.96*sd(auc.prs.broad)))\n",
    "\n",
    "# check the CI function\n",
    "auc.boot.ci(auc.prs.raw)\n",
    "auc.boot.ci(auc.prs.adj.pc)\n",
    "auc.boot.ci(auc.prs.adj.anc)\n",
    "auc.boot.ci(auc.prs.br.aou)\n",
    "auc.boot.ci(auc.prs.br.anc)\n",
    "\n",
    "\n",
    "\n",
    "#make into a table\n",
    "auc.adj <- c(auc.prs.raw[1], auc.prs.adj.pc[1], auc.prs.adj.anc[1],auc.prs.br.aou[1],auc.prs.br.anc[1])\n",
    "auc.2 <- data.table(\n",
    "    cbind(auc.adj, rbind(auc.boot.ci(auc.prs.raw), auc.boot.ci(auc.prs.adj.pc), auc.boot.ci(auc.prs.adj.anc), \n",
    "                         auc.boot.ci(auc.prs.br.aou), auc.boot.ci(auc.prs.br.anc) ))\n",
    "    )\n",
    "header.names <- c(\"AUC\",\"lower\",\"upper\")\n",
    "setnames(auc.2,header.names)\n",
    "auc.2[,(header.names):=round(.SD,2),.SDcols=header.names]\n",
    "auc.2[,PRS:=c(\"PRS.RAW\",\"ADJ.PC\",\"ADJ.ANC\",\"BR.AOU\",\"BR.ANC\")]\n",
    "auc.2.table <- data.table(as.data.frame(auc.2) %>%\n",
    "    unite(\"CI\",lower,upper,sep=\", \"))\n",
    "(setcolorder(auc.2.table,c(\"PRS\",\"AUC\",\"CI\")))\n",
    "\n",
    "# fix the column names\n",
    "(new.labels <- paste0(paste0(keep.ancestry,\".\"),names(auc.2.table)[c(2,3)]))\n",
    "setnames(auc.2.table, names(auc.2.table)[c(2,3)], new.labels)\n",
    "auc.2.table[,PRS:=NULL]\n",
    "\n",
    "\n",
    "adj.auc.list2[[ancestry.iter]] <- auc.2.table\n",
    "str(adj.auc.list2)"
   ]
  },
  {
   "cell_type": "markdown",
   "metadata": {
    "heading_collapsed": true
   },
   "source": [
    "# Calculations for MID subset, CSET3 vs controls.A"
   ]
  },
  {
   "cell_type": "code",
   "execution_count": 29,
   "metadata": {
    "hidden": true
   },
   "outputs": [
    {
     "data": {
      "text/html": [
       "4"
      ],
      "text/latex": [
       "4"
      ],
      "text/markdown": [
       "4"
      ],
      "text/plain": [
       "[1] 4"
      ]
     },
     "metadata": {},
     "output_type": "display_data"
    },
    {
     "data": {
      "text/html": [
       "<table class=\"dataframe\">\n",
       "<caption>A data.frame: 2 × 4</caption>\n",
       "<thead>\n",
       "\t<tr><th scope=col>CSET1</th><th scope=col>CSET3</th><th scope=col>SCREENED</th><th scope=col>n</th></tr>\n",
       "\t<tr><th scope=col>&lt;int&gt;</th><th scope=col>&lt;int&gt;</th><th scope=col>&lt;int&gt;</th><th scope=col>&lt;int&gt;</th></tr>\n",
       "</thead>\n",
       "<tbody>\n",
       "\t<tr><td>0</td><td>0</td><td>1</td><td>821</td></tr>\n",
       "\t<tr><td>1</td><td>1</td><td>0</td><td> 23</td></tr>\n",
       "</tbody>\n",
       "</table>\n"
      ],
      "text/latex": [
       "A data.frame: 2 × 4\n",
       "\\begin{tabular}{llll}\n",
       " CSET1 & CSET3 & SCREENED & n\\\\\n",
       " <int> & <int> & <int> & <int>\\\\\n",
       "\\hline\n",
       "\t 0 & 0 & 1 & 821\\\\\n",
       "\t 1 & 1 & 0 &  23\\\\\n",
       "\\end{tabular}\n"
      ],
      "text/markdown": [
       "\n",
       "A data.frame: 2 × 4\n",
       "\n",
       "| CSET1 &lt;int&gt; | CSET3 &lt;int&gt; | SCREENED &lt;int&gt; | n &lt;int&gt; |\n",
       "|---|---|---|---|\n",
       "| 0 | 0 | 1 | 821 |\n",
       "| 1 | 1 | 0 |  23 |\n",
       "\n"
      ],
      "text/plain": [
       "  CSET1 CSET3 SCREENED n  \n",
       "1 0     0     1        821\n",
       "2 1     1     0         23"
      ]
     },
     "metadata": {},
     "output_type": "display_data"
    },
    {
     "data": {
      "text/html": [
       "844"
      ],
      "text/latex": [
       "844"
      ],
      "text/markdown": [
       "844"
      ],
      "text/plain": [
       "[1] 844"
      ]
     },
     "metadata": {},
     "output_type": "display_data"
    },
    {
     "name": "stderr",
     "output_type": "stream",
     "text": [
      "The following objects are masked from subset.dt (pos = 3):\n",
      "\n",
      "    AFR, AGE, age.of.onset, age.screen1, age.screen2, AMR,\n",
      "    censored.age, CRC.status, CSET1, CSET3, dob, EAS, ethnicity, EUR,\n",
      "    gender, ID, MID, my.ancestry3, norm.PRS, norm.PRS.ADJ.ANC,\n",
      "    norm.PRS.ADJ.PC, PC1, PC10, PC11, PC12, PC13, PC14, PC15, PC16,\n",
      "    PC17, PC18, PC19, PC2, PC20, PC21, PC22, PC23, PC24, PC25, PC26,\n",
      "    PC27, PC28, PC29, PC3, PC30, PC31, PC32, PC4, PC5, PC6, PC7, PC8,\n",
      "    PC9, person_id, PRS, PRS.ADJ.ANC, PRS.ADJ.PC, PRS.BR.ANC.AOU1,\n",
      "    PRS.BR.ANC.AOU2, PRS.BR.AOU.ALL, PRS.BR.AOU1, PRS.BR.AOU2,\n",
      "    PRS.BR.REF, race, SAS, SCREENED, sex, sex_at_birth, UC1, UC2\n",
      "\n",
      "\n",
      "Setting levels: control = 0, case = 1\n",
      "\n",
      "Setting direction: controls < cases\n",
      "\n",
      "Setting levels: control = 0, case = 1\n",
      "\n",
      "Setting direction: controls < cases\n",
      "\n",
      "Setting levels: control = 0, case = 1\n",
      "\n",
      "Setting direction: controls < cases\n",
      "\n",
      "Setting levels: control = 0, case = 1\n",
      "\n",
      "Setting direction: controls < cases\n",
      "\n",
      "Setting levels: control = 0, case = 1\n",
      "\n",
      "Setting direction: controls < cases\n",
      "\n"
     ]
    },
    {
     "data": {
      "text/html": [
       "<table class=\"dataframe\">\n",
       "<caption>A data.table: 5 × 3</caption>\n",
       "<thead>\n",
       "\t<tr><th scope=col>V1</th><th scope=col>V2</th><th scope=col>V3</th></tr>\n",
       "\t<tr><th scope=col>&lt;dbl&gt;</th><th scope=col>&lt;dbl&gt;</th><th scope=col>&lt;dbl&gt;</th></tr>\n",
       "</thead>\n",
       "<tbody>\n",
       "\t<tr><td>0.3978476</td><td>0.5323307</td><td>0.6668137</td></tr>\n",
       "\t<tr><td>0.3981586</td><td>0.5324366</td><td>0.6667146</td></tr>\n",
       "\t<tr><td>0.4063442</td><td>0.5402743</td><td>0.6742045</td></tr>\n",
       "\t<tr><td>0.3980805</td><td>0.5323307</td><td>0.6665809</td></tr>\n",
       "\t<tr><td>0.4064290</td><td>0.5403802</td><td>0.6743315</td></tr>\n",
       "</tbody>\n",
       "</table>\n"
      ],
      "text/latex": [
       "A data.table: 5 × 3\n",
       "\\begin{tabular}{lll}\n",
       " V1 & V2 & V3\\\\\n",
       " <dbl> & <dbl> & <dbl>\\\\\n",
       "\\hline\n",
       "\t 0.3978476 & 0.5323307 & 0.6668137\\\\\n",
       "\t 0.3981586 & 0.5324366 & 0.6667146\\\\\n",
       "\t 0.4063442 & 0.5402743 & 0.6742045\\\\\n",
       "\t 0.3980805 & 0.5323307 & 0.6665809\\\\\n",
       "\t 0.4064290 & 0.5403802 & 0.6743315\\\\\n",
       "\\end{tabular}\n"
      ],
      "text/markdown": [
       "\n",
       "A data.table: 5 × 3\n",
       "\n",
       "| V1 &lt;dbl&gt; | V2 &lt;dbl&gt; | V3 &lt;dbl&gt; |\n",
       "|---|---|---|\n",
       "| 0.3978476 | 0.5323307 | 0.6668137 |\n",
       "| 0.3981586 | 0.5324366 | 0.6667146 |\n",
       "| 0.4063442 | 0.5402743 | 0.6742045 |\n",
       "| 0.3980805 | 0.5323307 | 0.6665809 |\n",
       "| 0.4064290 | 0.5403802 | 0.6743315 |\n",
       "\n"
      ],
      "text/plain": [
       "  V1        V2        V3       \n",
       "1 0.3978476 0.5323307 0.6668137\n",
       "2 0.3981586 0.5324366 0.6667146\n",
       "3 0.4063442 0.5402743 0.6742045\n",
       "4 0.3980805 0.5323307 0.6665809\n",
       "5 0.4064290 0.5403802 0.6743315"
      ]
     },
     "metadata": {},
     "output_type": "display_data"
    },
    {
     "data": {
      "text/html": [
       "<table class=\"dataframe\">\n",
       "<caption>A data.table: 5 × 3</caption>\n",
       "<thead>\n",
       "\t<tr><th scope=col>PRS</th><th scope=col>AUC</th><th scope=col>CI</th></tr>\n",
       "\t<tr><th scope=col>&lt;chr&gt;</th><th scope=col>&lt;dbl&gt;</th><th scope=col>&lt;chr&gt;</th></tr>\n",
       "</thead>\n",
       "<tbody>\n",
       "\t<tr><td>RAW.PRS</td><td>0.53</td><td>0.4, 0.67 </td></tr>\n",
       "\t<tr><td>ADJ.PC </td><td>0.53</td><td>0.4, 0.67 </td></tr>\n",
       "\t<tr><td>ADJ.ANC</td><td>0.54</td><td>0.41, 0.67</td></tr>\n",
       "\t<tr><td>BR.AOU </td><td>0.53</td><td>0.4, 0.67 </td></tr>\n",
       "\t<tr><td>BR.ANC </td><td>0.54</td><td>0.41, 0.67</td></tr>\n",
       "</tbody>\n",
       "</table>\n"
      ],
      "text/latex": [
       "A data.table: 5 × 3\n",
       "\\begin{tabular}{lll}\n",
       " PRS & AUC & CI\\\\\n",
       " <chr> & <dbl> & <chr>\\\\\n",
       "\\hline\n",
       "\t RAW.PRS & 0.53 & 0.4, 0.67 \\\\\n",
       "\t ADJ.PC  & 0.53 & 0.4, 0.67 \\\\\n",
       "\t ADJ.ANC & 0.54 & 0.41, 0.67\\\\\n",
       "\t BR.AOU  & 0.53 & 0.4, 0.67 \\\\\n",
       "\t BR.ANC  & 0.54 & 0.41, 0.67\\\\\n",
       "\\end{tabular}\n"
      ],
      "text/markdown": [
       "\n",
       "A data.table: 5 × 3\n",
       "\n",
       "| PRS &lt;chr&gt; | AUC &lt;dbl&gt; | CI &lt;chr&gt; |\n",
       "|---|---|---|\n",
       "| RAW.PRS | 0.53 | 0.4, 0.67  |\n",
       "| ADJ.PC  | 0.53 | 0.4, 0.67  |\n",
       "| ADJ.ANC | 0.54 | 0.41, 0.67 |\n",
       "| BR.AOU  | 0.53 | 0.4, 0.67  |\n",
       "| BR.ANC  | 0.54 | 0.41, 0.67 |\n",
       "\n"
      ],
      "text/plain": [
       "  PRS     AUC  CI        \n",
       "1 RAW.PRS 0.53 0.4, 0.67 \n",
       "2 ADJ.PC  0.53 0.4, 0.67 \n",
       "3 ADJ.ANC 0.54 0.41, 0.67\n",
       "4 BR.AOU  0.53 0.4, 0.67 \n",
       "5 BR.ANC  0.54 0.41, 0.67"
      ]
     },
     "metadata": {},
     "output_type": "display_data"
    },
    {
     "data": {
      "text/html": [
       "<style>\n",
       ".list-inline {list-style: none; margin:0; padding: 0}\n",
       ".list-inline>li {display: inline-block}\n",
       ".list-inline>li:not(:last-child)::after {content: \"\\00b7\"; padding: 0 .5ex}\n",
       "</style>\n",
       "<ol class=list-inline><li>'MID.AUC'</li><li>'MID.CI'</li></ol>\n"
      ],
      "text/latex": [
       "\\begin{enumerate*}\n",
       "\\item 'MID.AUC'\n",
       "\\item 'MID.CI'\n",
       "\\end{enumerate*}\n"
      ],
      "text/markdown": [
       "1. 'MID.AUC'\n",
       "2. 'MID.CI'\n",
       "\n",
       "\n"
      ],
      "text/plain": [
       "[1] \"MID.AUC\" \"MID.CI\" "
      ]
     },
     "metadata": {},
     "output_type": "display_data"
    },
    {
     "name": "stdout",
     "output_type": "stream",
     "text": [
      "List of 5\n",
      " $ :Classes ‘data.table’ and 'data.frame':\t5 obs. of  2 variables:\n",
      "  ..$ AFR.AUC: num [1:5] 0.59 0.59 0.59 0.59 0.59\n",
      "  ..$ AFR.CI : chr [1:5] \"0.51, 0.67\" \"0.51, 0.67\" \"0.5, 0.67\" \"0.51, 0.67\" ...\n",
      "  ..- attr(*, \".internal.selfref\")=<externalptr> \n",
      " $ :Classes ‘data.table’ and 'data.frame':\t5 obs. of  2 variables:\n",
      "  ..$ AMR.AUC: num [1:5] 0.71 0.71 0.72 0.71 0.72\n",
      "  ..$ AMR.CI : chr [1:5] \"0.6, 0.83\" \"0.6, 0.83\" \"0.61, 0.83\" \"0.6, 0.82\" ...\n",
      "  ..- attr(*, \".internal.selfref\")=<externalptr> \n",
      " $ :Classes ‘data.table’ and 'data.frame':\t5 obs. of  2 variables:\n",
      "  ..$ EUR.AUC: num [1:5] 0.63 0.63 0.63 0.63 0.63\n",
      "  ..$ EUR.CI : chr [1:5] \"0.59, 0.67\" \"0.59, 0.67\" \"0.59, 0.67\" \"0.59, 0.67\" ...\n",
      "  ..- attr(*, \".internal.selfref\")=<externalptr> \n",
      " $ :Classes ‘data.table’ and 'data.frame':\t5 obs. of  2 variables:\n",
      "  ..$ MID.AUC: num [1:5] 0.53 0.53 0.54 0.53 0.54\n",
      "  ..$ MID.CI : chr [1:5] \"0.4, 0.67\" \"0.4, 0.67\" \"0.41, 0.67\" \"0.4, 0.67\" ...\n",
      "  ..- attr(*, \".internal.selfref\")=<externalptr> \n",
      " $ : NULL\n"
     ]
    },
    {
     "data": {
      "text/html": [
       "<table class=\"dataframe\">\n",
       "<caption>A data.frame: 2 × 4</caption>\n",
       "<thead>\n",
       "\t<tr><th scope=col>CSET1</th><th scope=col>CSET3</th><th scope=col>SCREENED</th><th scope=col>n</th></tr>\n",
       "\t<tr><th scope=col>&lt;int&gt;</th><th scope=col>&lt;int&gt;</th><th scope=col>&lt;int&gt;</th><th scope=col>&lt;int&gt;</th></tr>\n",
       "</thead>\n",
       "<tbody>\n",
       "\t<tr><td>0</td><td>0</td><td>1</td><td>811</td></tr>\n",
       "\t<tr><td>1</td><td>1</td><td>0</td><td> 23</td></tr>\n",
       "</tbody>\n",
       "</table>\n"
      ],
      "text/latex": [
       "A data.frame: 2 × 4\n",
       "\\begin{tabular}{llll}\n",
       " CSET1 & CSET3 & SCREENED & n\\\\\n",
       " <int> & <int> & <int> & <int>\\\\\n",
       "\\hline\n",
       "\t 0 & 0 & 1 & 811\\\\\n",
       "\t 1 & 1 & 0 &  23\\\\\n",
       "\\end{tabular}\n"
      ],
      "text/markdown": [
       "\n",
       "A data.frame: 2 × 4\n",
       "\n",
       "| CSET1 &lt;int&gt; | CSET3 &lt;int&gt; | SCREENED &lt;int&gt; | n &lt;int&gt; |\n",
       "|---|---|---|---|\n",
       "| 0 | 0 | 1 | 811 |\n",
       "| 1 | 1 | 0 |  23 |\n",
       "\n"
      ],
      "text/plain": [
       "  CSET1 CSET3 SCREENED n  \n",
       "1 0     0     1        811\n",
       "2 1     1     0         23"
      ]
     },
     "metadata": {},
     "output_type": "display_data"
    },
    {
     "data": {
      "text/html": [
       "834"
      ],
      "text/latex": [
       "834"
      ],
      "text/markdown": [
       "834"
      ],
      "text/plain": [
       "[1] 834"
      ]
     },
     "metadata": {},
     "output_type": "display_data"
    },
    {
     "data": {
      "text/html": [
       "0.546203967799392"
      ],
      "text/latex": [
       "0.546203967799392"
      ],
      "text/markdown": [
       "0.546203967799392"
      ],
      "text/plain": [
       "[1] 0.546204"
      ]
     },
     "metadata": {},
     "output_type": "display_data"
    },
    {
     "data": {
      "text/html": [
       "0.546212164811785"
      ],
      "text/latex": [
       "0.546212164811785"
      ],
      "text/markdown": [
       "0.546212164811785"
      ],
      "text/plain": [
       "[1] 0.5462122"
      ]
     },
     "metadata": {},
     "output_type": "display_data"
    },
    {
     "data": {
      "text/html": [
       "0.557708791678974"
      ],
      "text/latex": [
       "0.557708791678974"
      ],
      "text/markdown": [
       "0.557708791678974"
      ],
      "text/plain": [
       "[1] 0.5577088"
      ]
     },
     "metadata": {},
     "output_type": "display_data"
    },
    {
     "data": {
      "text/html": [
       "0.537906878295756"
      ],
      "text/latex": [
       "0.537906878295756"
      ],
      "text/markdown": [
       "0.537906878295756"
      ],
      "text/plain": [
       "[1] 0.5379069"
      ]
     },
     "metadata": {},
     "output_type": "display_data"
    },
    {
     "data": {
      "text/html": [
       "0.557717008760556"
      ],
      "text/latex": [
       "0.557717008760556"
      ],
      "text/markdown": [
       "0.557717008760556"
      ],
      "text/plain": [
       "[1] 0.557717"
      ]
     },
     "metadata": {},
     "output_type": "display_data"
    },
    {
     "data": {
      "text/html": [
       "<style>\n",
       ".list-inline {list-style: none; margin:0; padding: 0}\n",
       ".list-inline>li {display: inline-block}\n",
       ".list-inline>li:not(:last-child)::after {content: \"\\00b7\"; padding: 0 .5ex}\n",
       "</style>\n",
       "<ol class=list-inline><li>0.391085403650398</li><li>0.701322531948385</li></ol>\n"
      ],
      "text/latex": [
       "\\begin{enumerate*}\n",
       "\\item 0.391085403650398\n",
       "\\item 0.701322531948385\n",
       "\\end{enumerate*}\n"
      ],
      "text/markdown": [
       "1. 0.391085403650398\n",
       "2. 0.701322531948385\n",
       "\n",
       "\n"
      ],
      "text/plain": [
       "[1] 0.3910854 0.7013225"
      ]
     },
     "metadata": {},
     "output_type": "display_data"
    },
    {
     "data": {
      "text/html": [
       "<style>\n",
       ".list-inline {list-style: none; margin:0; padding: 0}\n",
       ".list-inline>li {display: inline-block}\n",
       ".list-inline>li:not(:last-child)::after {content: \"\\00b7\"; padding: 0 .5ex}\n",
       "</style>\n",
       "<ol class=list-inline><li>0.391093604978094</li><li>0.701330724645475</li></ol>\n"
      ],
      "text/latex": [
       "\\begin{enumerate*}\n",
       "\\item 0.391093604978094\n",
       "\\item 0.701330724645475\n",
       "\\end{enumerate*}\n"
      ],
      "text/markdown": [
       "1. 0.391093604978094\n",
       "2. 0.701330724645475\n",
       "\n",
       "\n"
      ],
      "text/plain": [
       "[1] 0.3910936 0.7013307"
      ]
     },
     "metadata": {},
     "output_type": "display_data"
    },
    {
     "data": {
      "text/html": [
       "<style>\n",
       ".list-inline {list-style: none; margin:0; padding: 0}\n",
       ".list-inline>li {display: inline-block}\n",
       ".list-inline>li:not(:last-child)::after {content: \"\\00b7\"; padding: 0 .5ex}\n",
       "</style>\n",
       "<ol class=list-inline><li>0.402593015127906</li><li>0.712824568230042</li></ol>\n"
      ],
      "text/latex": [
       "\\begin{enumerate*}\n",
       "\\item 0.402593015127906\n",
       "\\item 0.712824568230042\n",
       "\\end{enumerate*}\n"
      ],
      "text/markdown": [
       "1. 0.402593015127906\n",
       "2. 0.712824568230042\n",
       "\n",
       "\n"
      ],
      "text/plain": [
       "[1] 0.4025930 0.7128246"
      ]
     },
     "metadata": {},
     "output_type": "display_data"
    },
    {
     "data": {
      "text/html": [
       "<style>\n",
       ".list-inline {list-style: none; margin:0; padding: 0}\n",
       ".list-inline>li {display: inline-block}\n",
       ".list-inline>li:not(:last-child)::after {content: \"\\00b7\"; padding: 0 .5ex}\n",
       "</style>\n",
       "<ol class=list-inline><li>0.382457698915093</li><li>0.693356057676419</li></ol>\n"
      ],
      "text/latex": [
       "\\begin{enumerate*}\n",
       "\\item 0.382457698915093\n",
       "\\item 0.693356057676419\n",
       "\\end{enumerate*}\n"
      ],
      "text/markdown": [
       "1. 0.382457698915093\n",
       "2. 0.693356057676419\n",
       "\n",
       "\n"
      ],
      "text/plain": [
       "[1] 0.3824577 0.6933561"
      ]
     },
     "metadata": {},
     "output_type": "display_data"
    },
    {
     "data": {
      "text/html": [
       "<style>\n",
       ".list-inline {list-style: none; margin:0; padding: 0}\n",
       ".list-inline>li {display: inline-block}\n",
       ".list-inline>li:not(:last-child)::after {content: \"\\00b7\"; padding: 0 .5ex}\n",
       "</style>\n",
       "<ol class=list-inline><li>0.402601231862212</li><li>0.712832785658901</li></ol>\n"
      ],
      "text/latex": [
       "\\begin{enumerate*}\n",
       "\\item 0.402601231862212\n",
       "\\item 0.712832785658901\n",
       "\\end{enumerate*}\n"
      ],
      "text/markdown": [
       "1. 0.402601231862212\n",
       "2. 0.712832785658901\n",
       "\n",
       "\n"
      ],
      "text/plain": [
       "[1] 0.4026012 0.7128328"
      ]
     },
     "metadata": {},
     "output_type": "display_data"
    },
    {
     "data": {
      "text/html": [
       "<table class=\"dataframe\">\n",
       "<caption>A data.table: 5 × 3</caption>\n",
       "<thead>\n",
       "\t<tr><th scope=col>PRS</th><th scope=col>AUC</th><th scope=col>CI</th></tr>\n",
       "\t<tr><th scope=col>&lt;chr&gt;</th><th scope=col>&lt;dbl&gt;</th><th scope=col>&lt;chr&gt;</th></tr>\n",
       "</thead>\n",
       "<tbody>\n",
       "\t<tr><td>PRS.RAW</td><td>0.55</td><td>0.39, 0.7 </td></tr>\n",
       "\t<tr><td>ADJ.PC </td><td>0.55</td><td>0.39, 0.7 </td></tr>\n",
       "\t<tr><td>ADJ.ANC</td><td>0.56</td><td>0.4, 0.71 </td></tr>\n",
       "\t<tr><td>BR.AOU </td><td>0.54</td><td>0.38, 0.69</td></tr>\n",
       "\t<tr><td>BR.ANC </td><td>0.56</td><td>0.4, 0.71 </td></tr>\n",
       "</tbody>\n",
       "</table>\n"
      ],
      "text/latex": [
       "A data.table: 5 × 3\n",
       "\\begin{tabular}{lll}\n",
       " PRS & AUC & CI\\\\\n",
       " <chr> & <dbl> & <chr>\\\\\n",
       "\\hline\n",
       "\t PRS.RAW & 0.55 & 0.39, 0.7 \\\\\n",
       "\t ADJ.PC  & 0.55 & 0.39, 0.7 \\\\\n",
       "\t ADJ.ANC & 0.56 & 0.4, 0.71 \\\\\n",
       "\t BR.AOU  & 0.54 & 0.38, 0.69\\\\\n",
       "\t BR.ANC  & 0.56 & 0.4, 0.71 \\\\\n",
       "\\end{tabular}\n"
      ],
      "text/markdown": [
       "\n",
       "A data.table: 5 × 3\n",
       "\n",
       "| PRS &lt;chr&gt; | AUC &lt;dbl&gt; | CI &lt;chr&gt; |\n",
       "|---|---|---|\n",
       "| PRS.RAW | 0.55 | 0.39, 0.7  |\n",
       "| ADJ.PC  | 0.55 | 0.39, 0.7  |\n",
       "| ADJ.ANC | 0.56 | 0.4, 0.71  |\n",
       "| BR.AOU  | 0.54 | 0.38, 0.69 |\n",
       "| BR.ANC  | 0.56 | 0.4, 0.71  |\n",
       "\n"
      ],
      "text/plain": [
       "  PRS     AUC  CI        \n",
       "1 PRS.RAW 0.55 0.39, 0.7 \n",
       "2 ADJ.PC  0.55 0.39, 0.7 \n",
       "3 ADJ.ANC 0.56 0.4, 0.71 \n",
       "4 BR.AOU  0.54 0.38, 0.69\n",
       "5 BR.ANC  0.56 0.4, 0.71 "
      ]
     },
     "metadata": {},
     "output_type": "display_data"
    },
    {
     "data": {
      "text/html": [
       "<style>\n",
       ".list-inline {list-style: none; margin:0; padding: 0}\n",
       ".list-inline>li {display: inline-block}\n",
       ".list-inline>li:not(:last-child)::after {content: \"\\00b7\"; padding: 0 .5ex}\n",
       "</style>\n",
       "<ol class=list-inline><li>'MID.AUC'</li><li>'MID.CI'</li></ol>\n"
      ],
      "text/latex": [
       "\\begin{enumerate*}\n",
       "\\item 'MID.AUC'\n",
       "\\item 'MID.CI'\n",
       "\\end{enumerate*}\n"
      ],
      "text/markdown": [
       "1. 'MID.AUC'\n",
       "2. 'MID.CI'\n",
       "\n",
       "\n"
      ],
      "text/plain": [
       "[1] \"MID.AUC\" \"MID.CI\" "
      ]
     },
     "metadata": {},
     "output_type": "display_data"
    },
    {
     "name": "stdout",
     "output_type": "stream",
     "text": [
      "List of 5\n",
      " $ :Classes ‘data.table’ and 'data.frame':\t5 obs. of  2 variables:\n",
      "  ..$ AFR.AUC: num [1:5] 0.6 0.59 0.59 0.59 0.59\n",
      "  ..$ AFR.CI : chr [1:5] \"0.5, 0.69\" \"0.49, 0.68\" \"0.5, 0.69\" \"0.5, 0.69\" ...\n",
      "  ..- attr(*, \".internal.selfref\")=<externalptr> \n",
      " $ :Classes ‘data.table’ and 'data.frame':\t5 obs. of  2 variables:\n",
      "  ..$ AMR.AUC: num [1:5] 0.69 0.68 0.69 0.68 0.7\n",
      "  ..$ AMR.CI : chr [1:5] \"0.58, 0.8\" \"0.57, 0.8\" \"0.58, 0.8\" \"0.57, 0.8\" ...\n",
      "  ..- attr(*, \".internal.selfref\")=<externalptr> \n",
      " $ :Classes ‘data.table’ and 'data.frame':\t5 obs. of  2 variables:\n",
      "  ..$ EUR.AUC: num [1:5] 0.64 0.64 0.63 0.63 0.63\n",
      "  ..$ EUR.CI : chr [1:5] \"0.59, 0.68\" \"0.59, 0.68\" \"0.59, 0.67\" \"0.59, 0.68\" ...\n",
      "  ..- attr(*, \".internal.selfref\")=<externalptr> \n",
      " $ :Classes ‘data.table’ and 'data.frame':\t5 obs. of  2 variables:\n",
      "  ..$ MID.AUC: num [1:5] 0.55 0.55 0.56 0.54 0.56\n",
      "  ..$ MID.CI : chr [1:5] \"0.39, 0.7\" \"0.39, 0.7\" \"0.4, 0.71\" \"0.38, 0.69\" ...\n",
      "  ..- attr(*, \".internal.selfref\")=<externalptr> \n",
      " $ : NULL\n"
     ]
    }
   ],
   "source": [
    "(ancestry.iter <- ancestry.iter + 1)\n",
    "keep.ancestry <- \"MID\"\n",
    "subset.dt <- merge2.dt[][merge2.dt$my.ancestry == keep.ancestry]\n",
    "as.data.frame(subset.dt) %>%\n",
    "    count(CSET1, CSET3, SCREENED)\n",
    "length(subset.dt$PRS)\n",
    "attach(subset.dt)\n",
    "# can I get into table format? Why am I getting negative values? \n",
    "(auc.1 <- data.table(rbind(\n",
    "    pROC::ci.auc(CRC.status,PRS),\n",
    "    pROC::ci.auc(CRC.status,PRS.ADJ.PC),\n",
    "    pROC::ci.auc(CRC.status,PRS.ADJ.ANC),\n",
    "    pROC::ci.auc(CRC.status,PRS.BR.AOU1),\n",
    "    pROC::ci.auc(CRC.status,PRS.BR.ANC.AOU1)\n",
    "    )) )\n",
    "detach(subset.dt)\n",
    "header.names <- c(\"lower\",\"AUC\",\"upper\")\n",
    "setnames(auc.1,header.names)\n",
    "auc.1[,(header.names):=round(.SD,2),.SDcols=header.names]\n",
    "auc.1[,PRS:=c(\"RAW.PRS\",\"ADJ.PC\",\"ADJ.ANC\",\"BR.AOU\",\"BR.ANC\")]\n",
    "auc.1.table <- data.table(as.data.frame(auc.1) %>%\n",
    "    unite(\"CI\",lower,upper,sep=\", \"))\n",
    "(setcolorder(auc.1.table,c(\"PRS\",\"AUC\",\"CI\")))\n",
    "\n",
    "# fix the column names\n",
    "(new.labels <- paste0(paste0(keep.ancestry,\".\"),names(auc.1.table)[c(2,3)]))\n",
    "setnames(auc.1.table, names(auc.1.table)[c(2,3)], new.labels)\n",
    "#names(auc.1.table)\n",
    "auc.1.table[,PRS:=NULL]\n",
    "\n",
    "# add table to list\n",
    "basic.auc.list2[[ancestry.iter]] <- auc.1.table\n",
    "str(basic.auc.list2)\n",
    "\n",
    "\n",
    "# check the auc adjust function\n",
    "# The basic AUC will have larger sample size at this time\n",
    "subset.dt <- merge2.dt[][merge2.dt$my.ancestry == keep.ancestry & !is.na(merge2.dt$censored.age) &\n",
    "                        merge2.dt$censored.age <=91  & !is.na(merge2.dt$sex)]\n",
    "as.data.frame(subset.dt) %>%\n",
    "    count(CSET1, CSET3, SCREENED)\n",
    "\n",
    "length(subset.dt$PRS)\n",
    "subset.dt[,my.PRS:=PRS]\n",
    "(auc.prs.raw <- auc.adjusted(subset.dt))\n",
    "subset.dt[,my.PRS:=PRS.ADJ.PC]\n",
    "(auc.prs.adj.pc <- auc.adjusted(subset.dt))\n",
    "subset.dt[,my.PRS:=PRS.ADJ.ANC]\n",
    "(auc.prs.adj.anc <- auc.adjusted(subset.dt))\n",
    "subset.dt[,my.PRS:=PRS.BR.AOU1]\n",
    "(auc.prs.br.aou <- auc.adjusted(subset.dt))\n",
    "subset.dt[,my.PRS:=PRS.BR.ANC.AOU1]\n",
    "(auc.prs.br.anc <- auc.adjusted(subset.dt))\n",
    "\n",
    "n <- length(subset.dt$CRC.status)\n",
    "for(i in 1:niter)\n",
    "    {\n",
    "    sp=sample(1:n,n,replace=T)  \n",
    "    subset.dt[,PRS:=PRS]\n",
    "    auc.prs.raw <- c(auc.prs.raw, auc.adjusted(subset.dt[sp,]))\n",
    "    subset.dt[,PRS:=PRS.ADJ.PC]\n",
    "    auc.prs.adj.pc <- c(auc.prs.adj.pc, auc.adjusted(subset.dt[sp,]))\n",
    "    subset.dt[,PRS:=PRS.ADJ.ANC]\n",
    "    auc.prs.adj.anc <- c(auc.prs.adj.anc, auc.adjusted(subset.dt[sp,]))    \n",
    "    subset.dt[,my.PRS:=PRS.BR.AOU1]\n",
    "    auc.prs.br.aou <- c(auc.prs.br.aou, auc.adjusted(subset.dt[sp,]))    \n",
    "    subset.dt[,my.PRS:=PRS.BR.ANC.AOU1]\n",
    "    auc.prs.br.anc <- c(auc.prs.br.anc, auc.adjusted(subset.dt[sp,]))    \n",
    "}\n",
    "# Maybe make the below a function as well so I don't have to write stuff over and over\n",
    "#(ci.auc.prs.raw=c(auc.prs.raw[1] - 1.96*sd(auc.prs.raw), auc.prs.raw[1] + 1.96*sd(auc.prs.raw)))\n",
    "#(ci.auc.prs.adj.pc=c(auc.prs.adj.pc[1] - 1.96*sd(auc.prs.adj.pc), auc.prs.adj.pc[1] + 1.96*sd(auc.prs.adj.pc)))\n",
    "#(ci.auc.prs.adj.anc=c(auc.prs.adj.anc[1] - 1.96*sd(auc.prs.adj.anc), auc.prs.adj.anc[1] + 1.96*sd(auc.prs.adj.anc)))\n",
    "#(ci.auc.broad=c(auc.prs.broad[1] - 1.96*sd(auc.prs.broad), auc.prs.broad[1] + 1.96*sd(auc.prs.broad)))\n",
    "\n",
    "# check the CI function\n",
    "auc.boot.ci(auc.prs.raw)\n",
    "auc.boot.ci(auc.prs.adj.pc)\n",
    "auc.boot.ci(auc.prs.adj.anc)\n",
    "auc.boot.ci(auc.prs.br.aou)\n",
    "auc.boot.ci(auc.prs.br.anc)\n",
    "\n",
    "\n",
    "\n",
    "#make into a table\n",
    "auc.adj <- c(auc.prs.raw[1], auc.prs.adj.pc[1], auc.prs.adj.anc[1],auc.prs.br.aou[1],auc.prs.br.anc[1])\n",
    "auc.2 <- data.table(\n",
    "    cbind(auc.adj, rbind(auc.boot.ci(auc.prs.raw), auc.boot.ci(auc.prs.adj.pc), auc.boot.ci(auc.prs.adj.anc), \n",
    "                         auc.boot.ci(auc.prs.br.aou), auc.boot.ci(auc.prs.br.anc) ))\n",
    "    )\n",
    "header.names <- c(\"AUC\",\"lower\",\"upper\")\n",
    "setnames(auc.2,header.names)\n",
    "auc.2[,(header.names):=round(.SD,2),.SDcols=header.names]\n",
    "auc.2[,PRS:=c(\"PRS.RAW\",\"ADJ.PC\",\"ADJ.ANC\",\"BR.AOU\",\"BR.ANC\")]\n",
    "auc.2.table <- data.table(as.data.frame(auc.2) %>%\n",
    "    unite(\"CI\",lower,upper,sep=\", \"))\n",
    "(setcolorder(auc.2.table,c(\"PRS\",\"AUC\",\"CI\")))\n",
    "\n",
    "# fix the column names\n",
    "(new.labels <- paste0(paste0(keep.ancestry,\".\"),names(auc.2.table)[c(2,3)]))\n",
    "setnames(auc.2.table, names(auc.2.table)[c(2,3)], new.labels)\n",
    "auc.2.table[,PRS:=NULL]\n",
    "\n",
    "\n",
    "adj.auc.list2[[ancestry.iter]] <- auc.2.table\n",
    "str(adj.auc.list2)"
   ]
  },
  {
   "cell_type": "markdown",
   "metadata": {
    "heading_collapsed": true
   },
   "source": [
    "# Calculations for OTH subset, CSET3 vs controls.A"
   ]
  },
  {
   "cell_type": "code",
   "execution_count": 30,
   "metadata": {
    "hidden": true
   },
   "outputs": [
    {
     "data": {
      "text/html": [
       "5"
      ],
      "text/latex": [
       "5"
      ],
      "text/markdown": [
       "5"
      ],
      "text/plain": [
       "[1] 5"
      ]
     },
     "metadata": {},
     "output_type": "display_data"
    },
    {
     "data": {
      "text/html": [
       "<table class=\"dataframe\">\n",
       "<caption>A data.frame: 2 × 4</caption>\n",
       "<thead>\n",
       "\t<tr><th scope=col>CSET1</th><th scope=col>CSET3</th><th scope=col>SCREENED</th><th scope=col>n</th></tr>\n",
       "\t<tr><th scope=col>&lt;int&gt;</th><th scope=col>&lt;int&gt;</th><th scope=col>&lt;int&gt;</th><th scope=col>&lt;int&gt;</th></tr>\n",
       "</thead>\n",
       "<tbody>\n",
       "\t<tr><td>0</td><td>0</td><td>1</td><td>2085</td></tr>\n",
       "\t<tr><td>1</td><td>1</td><td>0</td><td>  57</td></tr>\n",
       "</tbody>\n",
       "</table>\n"
      ],
      "text/latex": [
       "A data.frame: 2 × 4\n",
       "\\begin{tabular}{llll}\n",
       " CSET1 & CSET3 & SCREENED & n\\\\\n",
       " <int> & <int> & <int> & <int>\\\\\n",
       "\\hline\n",
       "\t 0 & 0 & 1 & 2085\\\\\n",
       "\t 1 & 1 & 0 &   57\\\\\n",
       "\\end{tabular}\n"
      ],
      "text/markdown": [
       "\n",
       "A data.frame: 2 × 4\n",
       "\n",
       "| CSET1 &lt;int&gt; | CSET3 &lt;int&gt; | SCREENED &lt;int&gt; | n &lt;int&gt; |\n",
       "|---|---|---|---|\n",
       "| 0 | 0 | 1 | 2085 |\n",
       "| 1 | 1 | 0 |   57 |\n",
       "\n"
      ],
      "text/plain": [
       "  CSET1 CSET3 SCREENED n   \n",
       "1 0     0     1        2085\n",
       "2 1     1     0          57"
      ]
     },
     "metadata": {},
     "output_type": "display_data"
    },
    {
     "data": {
      "text/html": [
       "2142"
      ],
      "text/latex": [
       "2142"
      ],
      "text/markdown": [
       "2142"
      ],
      "text/plain": [
       "[1] 2142"
      ]
     },
     "metadata": {},
     "output_type": "display_data"
    },
    {
     "name": "stderr",
     "output_type": "stream",
     "text": [
      "The following objects are masked from subset.dt (pos = 3):\n",
      "\n",
      "    AFR, AGE, age.of.onset, age.screen1, age.screen2, AMR,\n",
      "    censored.age, CRC.status, CSET1, CSET3, dob, EAS, ethnicity, EUR,\n",
      "    gender, ID, MID, my.ancestry3, norm.PRS, norm.PRS.ADJ.ANC,\n",
      "    norm.PRS.ADJ.PC, PC1, PC10, PC11, PC12, PC13, PC14, PC15, PC16,\n",
      "    PC17, PC18, PC19, PC2, PC20, PC21, PC22, PC23, PC24, PC25, PC26,\n",
      "    PC27, PC28, PC29, PC3, PC30, PC31, PC32, PC4, PC5, PC6, PC7, PC8,\n",
      "    PC9, person_id, PRS, PRS.ADJ.ANC, PRS.ADJ.PC, PRS.BR.ANC.AOU1,\n",
      "    PRS.BR.ANC.AOU2, PRS.BR.AOU.ALL, PRS.BR.AOU1, PRS.BR.AOU2,\n",
      "    PRS.BR.REF, race, SAS, SCREENED, sex, sex_at_birth, UC1, UC2\n",
      "\n",
      "\n",
      "Setting levels: control = 0, case = 1\n",
      "\n",
      "Setting direction: controls < cases\n",
      "\n",
      "Setting levels: control = 0, case = 1\n",
      "\n",
      "Setting direction: controls < cases\n",
      "\n",
      "Setting levels: control = 0, case = 1\n",
      "\n",
      "Setting direction: controls < cases\n",
      "\n",
      "Setting levels: control = 0, case = 1\n",
      "\n",
      "Setting direction: controls < cases\n",
      "\n",
      "Setting levels: control = 0, case = 1\n",
      "\n",
      "Setting direction: controls < cases\n",
      "\n"
     ]
    },
    {
     "data": {
      "text/html": [
       "<table class=\"dataframe\">\n",
       "<caption>A data.table: 5 × 3</caption>\n",
       "<thead>\n",
       "\t<tr><th scope=col>V1</th><th scope=col>V2</th><th scope=col>V3</th></tr>\n",
       "\t<tr><th scope=col>&lt;dbl&gt;</th><th scope=col>&lt;dbl&gt;</th><th scope=col>&lt;dbl&gt;</th></tr>\n",
       "</thead>\n",
       "<tbody>\n",
       "\t<tr><td>0.5599547</td><td>0.6313013</td><td>0.7026479</td></tr>\n",
       "\t<tr><td>0.5570236</td><td>0.6286171</td><td>0.7002107</td></tr>\n",
       "\t<tr><td>0.5578598</td><td>0.6299550</td><td>0.7020502</td></tr>\n",
       "\t<tr><td>0.5575358</td><td>0.6291388</td><td>0.7007418</td></tr>\n",
       "\t<tr><td>0.5566062</td><td>0.6288864</td><td>0.7011665</td></tr>\n",
       "</tbody>\n",
       "</table>\n"
      ],
      "text/latex": [
       "A data.table: 5 × 3\n",
       "\\begin{tabular}{lll}\n",
       " V1 & V2 & V3\\\\\n",
       " <dbl> & <dbl> & <dbl>\\\\\n",
       "\\hline\n",
       "\t 0.5599547 & 0.6313013 & 0.7026479\\\\\n",
       "\t 0.5570236 & 0.6286171 & 0.7002107\\\\\n",
       "\t 0.5578598 & 0.6299550 & 0.7020502\\\\\n",
       "\t 0.5575358 & 0.6291388 & 0.7007418\\\\\n",
       "\t 0.5566062 & 0.6288864 & 0.7011665\\\\\n",
       "\\end{tabular}\n"
      ],
      "text/markdown": [
       "\n",
       "A data.table: 5 × 3\n",
       "\n",
       "| V1 &lt;dbl&gt; | V2 &lt;dbl&gt; | V3 &lt;dbl&gt; |\n",
       "|---|---|---|\n",
       "| 0.5599547 | 0.6313013 | 0.7026479 |\n",
       "| 0.5570236 | 0.6286171 | 0.7002107 |\n",
       "| 0.5578598 | 0.6299550 | 0.7020502 |\n",
       "| 0.5575358 | 0.6291388 | 0.7007418 |\n",
       "| 0.5566062 | 0.6288864 | 0.7011665 |\n",
       "\n"
      ],
      "text/plain": [
       "  V1        V2        V3       \n",
       "1 0.5599547 0.6313013 0.7026479\n",
       "2 0.5570236 0.6286171 0.7002107\n",
       "3 0.5578598 0.6299550 0.7020502\n",
       "4 0.5575358 0.6291388 0.7007418\n",
       "5 0.5566062 0.6288864 0.7011665"
      ]
     },
     "metadata": {},
     "output_type": "display_data"
    },
    {
     "data": {
      "text/html": [
       "<table class=\"dataframe\">\n",
       "<caption>A data.table: 5 × 3</caption>\n",
       "<thead>\n",
       "\t<tr><th scope=col>PRS</th><th scope=col>AUC</th><th scope=col>CI</th></tr>\n",
       "\t<tr><th scope=col>&lt;chr&gt;</th><th scope=col>&lt;dbl&gt;</th><th scope=col>&lt;chr&gt;</th></tr>\n",
       "</thead>\n",
       "<tbody>\n",
       "\t<tr><td>RAW.PRS</td><td>0.63</td><td>0.56, 0.7</td></tr>\n",
       "\t<tr><td>ADJ.PC </td><td>0.63</td><td>0.56, 0.7</td></tr>\n",
       "\t<tr><td>ADJ.ANC</td><td>0.63</td><td>0.56, 0.7</td></tr>\n",
       "\t<tr><td>BR.AOU </td><td>0.63</td><td>0.56, 0.7</td></tr>\n",
       "\t<tr><td>BR.ANC </td><td>0.63</td><td>0.56, 0.7</td></tr>\n",
       "</tbody>\n",
       "</table>\n"
      ],
      "text/latex": [
       "A data.table: 5 × 3\n",
       "\\begin{tabular}{lll}\n",
       " PRS & AUC & CI\\\\\n",
       " <chr> & <dbl> & <chr>\\\\\n",
       "\\hline\n",
       "\t RAW.PRS & 0.63 & 0.56, 0.7\\\\\n",
       "\t ADJ.PC  & 0.63 & 0.56, 0.7\\\\\n",
       "\t ADJ.ANC & 0.63 & 0.56, 0.7\\\\\n",
       "\t BR.AOU  & 0.63 & 0.56, 0.7\\\\\n",
       "\t BR.ANC  & 0.63 & 0.56, 0.7\\\\\n",
       "\\end{tabular}\n"
      ],
      "text/markdown": [
       "\n",
       "A data.table: 5 × 3\n",
       "\n",
       "| PRS &lt;chr&gt; | AUC &lt;dbl&gt; | CI &lt;chr&gt; |\n",
       "|---|---|---|\n",
       "| RAW.PRS | 0.63 | 0.56, 0.7 |\n",
       "| ADJ.PC  | 0.63 | 0.56, 0.7 |\n",
       "| ADJ.ANC | 0.63 | 0.56, 0.7 |\n",
       "| BR.AOU  | 0.63 | 0.56, 0.7 |\n",
       "| BR.ANC  | 0.63 | 0.56, 0.7 |\n",
       "\n"
      ],
      "text/plain": [
       "  PRS     AUC  CI       \n",
       "1 RAW.PRS 0.63 0.56, 0.7\n",
       "2 ADJ.PC  0.63 0.56, 0.7\n",
       "3 ADJ.ANC 0.63 0.56, 0.7\n",
       "4 BR.AOU  0.63 0.56, 0.7\n",
       "5 BR.ANC  0.63 0.56, 0.7"
      ]
     },
     "metadata": {},
     "output_type": "display_data"
    },
    {
     "data": {
      "text/html": [
       "<style>\n",
       ".list-inline {list-style: none; margin:0; padding: 0}\n",
       ".list-inline>li {display: inline-block}\n",
       ".list-inline>li:not(:last-child)::after {content: \"\\00b7\"; padding: 0 .5ex}\n",
       "</style>\n",
       "<ol class=list-inline><li>'OTH.AUC'</li><li>'OTH.CI'</li></ol>\n"
      ],
      "text/latex": [
       "\\begin{enumerate*}\n",
       "\\item 'OTH.AUC'\n",
       "\\item 'OTH.CI'\n",
       "\\end{enumerate*}\n"
      ],
      "text/markdown": [
       "1. 'OTH.AUC'\n",
       "2. 'OTH.CI'\n",
       "\n",
       "\n"
      ],
      "text/plain": [
       "[1] \"OTH.AUC\" \"OTH.CI\" "
      ]
     },
     "metadata": {},
     "output_type": "display_data"
    },
    {
     "name": "stdout",
     "output_type": "stream",
     "text": [
      "List of 5\n",
      " $ :Classes ‘data.table’ and 'data.frame':\t5 obs. of  2 variables:\n",
      "  ..$ AFR.AUC: num [1:5] 0.59 0.59 0.59 0.59 0.59\n",
      "  ..$ AFR.CI : chr [1:5] \"0.51, 0.67\" \"0.51, 0.67\" \"0.5, 0.67\" \"0.51, 0.67\" ...\n",
      "  ..- attr(*, \".internal.selfref\")=<externalptr> \n",
      " $ :Classes ‘data.table’ and 'data.frame':\t5 obs. of  2 variables:\n",
      "  ..$ AMR.AUC: num [1:5] 0.71 0.71 0.72 0.71 0.72\n",
      "  ..$ AMR.CI : chr [1:5] \"0.6, 0.83\" \"0.6, 0.83\" \"0.61, 0.83\" \"0.6, 0.82\" ...\n",
      "  ..- attr(*, \".internal.selfref\")=<externalptr> \n",
      " $ :Classes ‘data.table’ and 'data.frame':\t5 obs. of  2 variables:\n",
      "  ..$ EUR.AUC: num [1:5] 0.63 0.63 0.63 0.63 0.63\n",
      "  ..$ EUR.CI : chr [1:5] \"0.59, 0.67\" \"0.59, 0.67\" \"0.59, 0.67\" \"0.59, 0.67\" ...\n",
      "  ..- attr(*, \".internal.selfref\")=<externalptr> \n",
      " $ :Classes ‘data.table’ and 'data.frame':\t5 obs. of  2 variables:\n",
      "  ..$ MID.AUC: num [1:5] 0.53 0.53 0.54 0.53 0.54\n",
      "  ..$ MID.CI : chr [1:5] \"0.4, 0.67\" \"0.4, 0.67\" \"0.41, 0.67\" \"0.4, 0.67\" ...\n",
      "  ..- attr(*, \".internal.selfref\")=<externalptr> \n",
      " $ :Classes ‘data.table’ and 'data.frame':\t5 obs. of  2 variables:\n",
      "  ..$ OTH.AUC: num [1:5] 0.63 0.63 0.63 0.63 0.63\n",
      "  ..$ OTH.CI : chr [1:5] \"0.56, 0.7\" \"0.56, 0.7\" \"0.56, 0.7\" \"0.56, 0.7\" ...\n",
      "  ..- attr(*, \".internal.selfref\")=<externalptr> \n"
     ]
    },
    {
     "data": {
      "text/html": [
       "<table class=\"dataframe\">\n",
       "<caption>A data.frame: 2 × 4</caption>\n",
       "<thead>\n",
       "\t<tr><th scope=col>CSET1</th><th scope=col>CSET3</th><th scope=col>SCREENED</th><th scope=col>n</th></tr>\n",
       "\t<tr><th scope=col>&lt;int&gt;</th><th scope=col>&lt;int&gt;</th><th scope=col>&lt;int&gt;</th><th scope=col>&lt;int&gt;</th></tr>\n",
       "</thead>\n",
       "<tbody>\n",
       "\t<tr><td>0</td><td>0</td><td>1</td><td>2063</td></tr>\n",
       "\t<tr><td>1</td><td>1</td><td>0</td><td>  57</td></tr>\n",
       "</tbody>\n",
       "</table>\n"
      ],
      "text/latex": [
       "A data.frame: 2 × 4\n",
       "\\begin{tabular}{llll}\n",
       " CSET1 & CSET3 & SCREENED & n\\\\\n",
       " <int> & <int> & <int> & <int>\\\\\n",
       "\\hline\n",
       "\t 0 & 0 & 1 & 2063\\\\\n",
       "\t 1 & 1 & 0 &   57\\\\\n",
       "\\end{tabular}\n"
      ],
      "text/markdown": [
       "\n",
       "A data.frame: 2 × 4\n",
       "\n",
       "| CSET1 &lt;int&gt; | CSET3 &lt;int&gt; | SCREENED &lt;int&gt; | n &lt;int&gt; |\n",
       "|---|---|---|---|\n",
       "| 0 | 0 | 1 | 2063 |\n",
       "| 1 | 1 | 0 |   57 |\n",
       "\n"
      ],
      "text/plain": [
       "  CSET1 CSET3 SCREENED n   \n",
       "1 0     0     1        2063\n",
       "2 1     1     0          57"
      ]
     },
     "metadata": {},
     "output_type": "display_data"
    },
    {
     "data": {
      "text/html": [
       "2120"
      ],
      "text/latex": [
       "2120"
      ],
      "text/markdown": [
       "2120"
      ],
      "text/plain": [
       "[1] 2120"
      ]
     },
     "metadata": {},
     "output_type": "display_data"
    },
    {
     "data": {
      "text/html": [
       "0.645011931659483"
      ],
      "text/latex": [
       "0.645011931659483"
      ],
      "text/markdown": [
       "0.645011931659483"
      ],
      "text/plain": [
       "[1] 0.6450119"
      ]
     },
     "metadata": {},
     "output_type": "display_data"
    },
    {
     "data": {
      "text/html": [
       "0.640505276969066"
      ],
      "text/latex": [
       "0.640505276969066"
      ],
      "text/markdown": [
       "0.640505276969066"
      ],
      "text/plain": [
       "[1] 0.6405053"
      ]
     },
     "metadata": {},
     "output_type": "display_data"
    },
    {
     "data": {
      "text/html": [
       "0.642224498106674"
      ],
      "text/latex": [
       "0.642224498106674"
      ],
      "text/markdown": [
       "0.642224498106674"
      ],
      "text/plain": [
       "[1] 0.6422245"
      ]
     },
     "metadata": {},
     "output_type": "display_data"
    },
    {
     "data": {
      "text/html": [
       "0.631402050930749"
      ],
      "text/latex": [
       "0.631402050930749"
      ],
      "text/markdown": [
       "0.631402050930749"
      ],
      "text/plain": [
       "[1] 0.6314021"
      ]
     },
     "metadata": {},
     "output_type": "display_data"
    },
    {
     "data": {
      "text/html": [
       "0.643276912498882"
      ],
      "text/latex": [
       "0.643276912498882"
      ],
      "text/markdown": [
       "0.643276912498882"
      ],
      "text/plain": [
       "[1] 0.6432769"
      ]
     },
     "metadata": {},
     "output_type": "display_data"
    },
    {
     "data": {
      "text/html": [
       "<style>\n",
       ".list-inline {list-style: none; margin:0; padding: 0}\n",
       ".list-inline>li {display: inline-block}\n",
       ".list-inline>li:not(:last-child)::after {content: \"\\00b7\"; padding: 0 .5ex}\n",
       "</style>\n",
       "<ol class=list-inline><li>0.578495323206845</li><li>0.711528540112121</li></ol>\n"
      ],
      "text/latex": [
       "\\begin{enumerate*}\n",
       "\\item 0.578495323206845\n",
       "\\item 0.711528540112121\n",
       "\\end{enumerate*}\n"
      ],
      "text/markdown": [
       "1. 0.578495323206845\n",
       "2. 0.711528540112121\n",
       "\n",
       "\n"
      ],
      "text/plain": [
       "[1] 0.5784953 0.7115285"
      ]
     },
     "metadata": {},
     "output_type": "display_data"
    },
    {
     "data": {
      "text/html": [
       "<style>\n",
       ".list-inline {list-style: none; margin:0; padding: 0}\n",
       ".list-inline>li {display: inline-block}\n",
       ".list-inline>li:not(:last-child)::after {content: \"\\00b7\"; padding: 0 .5ex}\n",
       "</style>\n",
       "<ol class=list-inline><li>0.57399143254062</li><li>0.707019121397511</li></ol>\n"
      ],
      "text/latex": [
       "\\begin{enumerate*}\n",
       "\\item 0.57399143254062\n",
       "\\item 0.707019121397511\n",
       "\\end{enumerate*}\n"
      ],
      "text/markdown": [
       "1. 0.57399143254062\n",
       "2. 0.707019121397511\n",
       "\n",
       "\n"
      ],
      "text/plain": [
       "[1] 0.5739914 0.7070191"
      ]
     },
     "metadata": {},
     "output_type": "display_data"
    },
    {
     "data": {
      "text/html": [
       "<style>\n",
       ".list-inline {list-style: none; margin:0; padding: 0}\n",
       ".list-inline>li {display: inline-block}\n",
       ".list-inline>li:not(:last-child)::after {content: \"\\00b7\"; padding: 0 .5ex}\n",
       "</style>\n",
       "<ol class=list-inline><li>0.575709875455716</li><li>0.708739120757632</li></ol>\n"
      ],
      "text/latex": [
       "\\begin{enumerate*}\n",
       "\\item 0.575709875455716\n",
       "\\item 0.708739120757632\n",
       "\\end{enumerate*}\n"
      ],
      "text/markdown": [
       "1. 0.575709875455716\n",
       "2. 0.708739120757632\n",
       "\n",
       "\n"
      ],
      "text/plain": [
       "[1] 0.5757099 0.7087391"
      ]
     },
     "metadata": {},
     "output_type": "display_data"
    },
    {
     "data": {
      "text/html": [
       "<style>\n",
       ".list-inline {list-style: none; margin:0; padding: 0}\n",
       ".list-inline>li {display: inline-block}\n",
       ".list-inline>li:not(:last-child)::after {content: \"\\00b7\"; padding: 0 .5ex}\n",
       "</style>\n",
       "<ol class=list-inline><li>0.563901884595159</li><li>0.698902217266339</li></ol>\n"
      ],
      "text/latex": [
       "\\begin{enumerate*}\n",
       "\\item 0.563901884595159\n",
       "\\item 0.698902217266339\n",
       "\\end{enumerate*}\n"
      ],
      "text/markdown": [
       "1. 0.563901884595159\n",
       "2. 0.698902217266339\n",
       "\n",
       "\n"
      ],
      "text/plain": [
       "[1] 0.5639019 0.6989022"
      ]
     },
     "metadata": {},
     "output_type": "display_data"
    },
    {
     "data": {
      "text/html": [
       "<style>\n",
       ".list-inline {list-style: none; margin:0; padding: 0}\n",
       ".list-inline>li {display: inline-block}\n",
       ".list-inline>li:not(:last-child)::after {content: \"\\00b7\"; padding: 0 .5ex}\n",
       "</style>\n",
       "<ol class=list-inline><li>0.576761645336086</li><li>0.709792179661677</li></ol>\n"
      ],
      "text/latex": [
       "\\begin{enumerate*}\n",
       "\\item 0.576761645336086\n",
       "\\item 0.709792179661677\n",
       "\\end{enumerate*}\n"
      ],
      "text/markdown": [
       "1. 0.576761645336086\n",
       "2. 0.709792179661677\n",
       "\n",
       "\n"
      ],
      "text/plain": [
       "[1] 0.5767616 0.7097922"
      ]
     },
     "metadata": {},
     "output_type": "display_data"
    },
    {
     "data": {
      "text/html": [
       "<table class=\"dataframe\">\n",
       "<caption>A data.table: 5 × 3</caption>\n",
       "<thead>\n",
       "\t<tr><th scope=col>PRS</th><th scope=col>AUC</th><th scope=col>CI</th></tr>\n",
       "\t<tr><th scope=col>&lt;chr&gt;</th><th scope=col>&lt;dbl&gt;</th><th scope=col>&lt;chr&gt;</th></tr>\n",
       "</thead>\n",
       "<tbody>\n",
       "\t<tr><td>PRS.RAW</td><td>0.65</td><td>0.58, 0.71</td></tr>\n",
       "\t<tr><td>ADJ.PC </td><td>0.64</td><td>0.57, 0.71</td></tr>\n",
       "\t<tr><td>ADJ.ANC</td><td>0.64</td><td>0.58, 0.71</td></tr>\n",
       "\t<tr><td>BR.AOU </td><td>0.63</td><td>0.56, 0.7 </td></tr>\n",
       "\t<tr><td>BR.ANC </td><td>0.64</td><td>0.58, 0.71</td></tr>\n",
       "</tbody>\n",
       "</table>\n"
      ],
      "text/latex": [
       "A data.table: 5 × 3\n",
       "\\begin{tabular}{lll}\n",
       " PRS & AUC & CI\\\\\n",
       " <chr> & <dbl> & <chr>\\\\\n",
       "\\hline\n",
       "\t PRS.RAW & 0.65 & 0.58, 0.71\\\\\n",
       "\t ADJ.PC  & 0.64 & 0.57, 0.71\\\\\n",
       "\t ADJ.ANC & 0.64 & 0.58, 0.71\\\\\n",
       "\t BR.AOU  & 0.63 & 0.56, 0.7 \\\\\n",
       "\t BR.ANC  & 0.64 & 0.58, 0.71\\\\\n",
       "\\end{tabular}\n"
      ],
      "text/markdown": [
       "\n",
       "A data.table: 5 × 3\n",
       "\n",
       "| PRS &lt;chr&gt; | AUC &lt;dbl&gt; | CI &lt;chr&gt; |\n",
       "|---|---|---|\n",
       "| PRS.RAW | 0.65 | 0.58, 0.71 |\n",
       "| ADJ.PC  | 0.64 | 0.57, 0.71 |\n",
       "| ADJ.ANC | 0.64 | 0.58, 0.71 |\n",
       "| BR.AOU  | 0.63 | 0.56, 0.7  |\n",
       "| BR.ANC  | 0.64 | 0.58, 0.71 |\n",
       "\n"
      ],
      "text/plain": [
       "  PRS     AUC  CI        \n",
       "1 PRS.RAW 0.65 0.58, 0.71\n",
       "2 ADJ.PC  0.64 0.57, 0.71\n",
       "3 ADJ.ANC 0.64 0.58, 0.71\n",
       "4 BR.AOU  0.63 0.56, 0.7 \n",
       "5 BR.ANC  0.64 0.58, 0.71"
      ]
     },
     "metadata": {},
     "output_type": "display_data"
    },
    {
     "data": {
      "text/html": [
       "<style>\n",
       ".list-inline {list-style: none; margin:0; padding: 0}\n",
       ".list-inline>li {display: inline-block}\n",
       ".list-inline>li:not(:last-child)::after {content: \"\\00b7\"; padding: 0 .5ex}\n",
       "</style>\n",
       "<ol class=list-inline><li>'OTH.AUC'</li><li>'OTH.CI'</li></ol>\n"
      ],
      "text/latex": [
       "\\begin{enumerate*}\n",
       "\\item 'OTH.AUC'\n",
       "\\item 'OTH.CI'\n",
       "\\end{enumerate*}\n"
      ],
      "text/markdown": [
       "1. 'OTH.AUC'\n",
       "2. 'OTH.CI'\n",
       "\n",
       "\n"
      ],
      "text/plain": [
       "[1] \"OTH.AUC\" \"OTH.CI\" "
      ]
     },
     "metadata": {},
     "output_type": "display_data"
    },
    {
     "name": "stdout",
     "output_type": "stream",
     "text": [
      "List of 5\n",
      " $ :Classes ‘data.table’ and 'data.frame':\t5 obs. of  2 variables:\n",
      "  ..$ AFR.AUC: num [1:5] 0.6 0.59 0.59 0.59 0.59\n",
      "  ..$ AFR.CI : chr [1:5] \"0.5, 0.69\" \"0.49, 0.68\" \"0.5, 0.69\" \"0.5, 0.69\" ...\n",
      "  ..- attr(*, \".internal.selfref\")=<externalptr> \n",
      " $ :Classes ‘data.table’ and 'data.frame':\t5 obs. of  2 variables:\n",
      "  ..$ AMR.AUC: num [1:5] 0.69 0.68 0.69 0.68 0.7\n",
      "  ..$ AMR.CI : chr [1:5] \"0.58, 0.8\" \"0.57, 0.8\" \"0.58, 0.8\" \"0.57, 0.8\" ...\n",
      "  ..- attr(*, \".internal.selfref\")=<externalptr> \n",
      " $ :Classes ‘data.table’ and 'data.frame':\t5 obs. of  2 variables:\n",
      "  ..$ EUR.AUC: num [1:5] 0.64 0.64 0.63 0.63 0.63\n",
      "  ..$ EUR.CI : chr [1:5] \"0.59, 0.68\" \"0.59, 0.68\" \"0.59, 0.67\" \"0.59, 0.68\" ...\n",
      "  ..- attr(*, \".internal.selfref\")=<externalptr> \n",
      " $ :Classes ‘data.table’ and 'data.frame':\t5 obs. of  2 variables:\n",
      "  ..$ MID.AUC: num [1:5] 0.55 0.55 0.56 0.54 0.56\n",
      "  ..$ MID.CI : chr [1:5] \"0.39, 0.7\" \"0.39, 0.7\" \"0.4, 0.71\" \"0.38, 0.69\" ...\n",
      "  ..- attr(*, \".internal.selfref\")=<externalptr> \n",
      " $ :Classes ‘data.table’ and 'data.frame':\t5 obs. of  2 variables:\n",
      "  ..$ OTH.AUC: num [1:5] 0.65 0.64 0.64 0.63 0.64\n",
      "  ..$ OTH.CI : chr [1:5] \"0.58, 0.71\" \"0.57, 0.71\" \"0.58, 0.71\" \"0.56, 0.7\" ...\n",
      "  ..- attr(*, \".internal.selfref\")=<externalptr> \n"
     ]
    }
   ],
   "source": [
    "(ancestry.iter <- ancestry.iter + 1)\n",
    "keep.ancestry <- \"OTH\"\n",
    "subset.dt <- merge2.dt[][merge2.dt$my.ancestry == keep.ancestry]\n",
    "as.data.frame(subset.dt) %>%\n",
    "    count(CSET1, CSET3, SCREENED)\n",
    "length(subset.dt$PRS)\n",
    "attach(subset.dt)\n",
    "# can I get into table format? Why am I getting negative values? \n",
    "(auc.1 <- data.table(rbind(\n",
    "    pROC::ci.auc(CRC.status,PRS),\n",
    "    pROC::ci.auc(CRC.status,PRS.ADJ.PC),\n",
    "    pROC::ci.auc(CRC.status,PRS.ADJ.ANC),\n",
    "    pROC::ci.auc(CRC.status,PRS.BR.AOU1),\n",
    "    pROC::ci.auc(CRC.status,PRS.BR.ANC.AOU1)\n",
    "    )) )\n",
    "detach(subset.dt)\n",
    "header.names <- c(\"lower\",\"AUC\",\"upper\")\n",
    "setnames(auc.1,header.names)\n",
    "auc.1[,(header.names):=round(.SD,2),.SDcols=header.names]\n",
    "auc.1[,PRS:=c(\"RAW.PRS\",\"ADJ.PC\",\"ADJ.ANC\",\"BR.AOU\",\"BR.ANC\")]\n",
    "auc.1.table <- data.table(as.data.frame(auc.1) %>%\n",
    "    unite(\"CI\",lower,upper,sep=\", \"))\n",
    "(setcolorder(auc.1.table,c(\"PRS\",\"AUC\",\"CI\")))\n",
    "\n",
    "# fix the column names\n",
    "(new.labels <- paste0(paste0(keep.ancestry,\".\"),names(auc.1.table)[c(2,3)]))\n",
    "setnames(auc.1.table, names(auc.1.table)[c(2,3)], new.labels)\n",
    "#names(auc.1.table)\n",
    "auc.1.table[,PRS:=NULL]\n",
    "\n",
    "# add table to list\n",
    "basic.auc.list2[[ancestry.iter]] <- auc.1.table\n",
    "str(basic.auc.list2)\n",
    "\n",
    "\n",
    "# check the auc adjust function\n",
    "# The basic AUC will have larger sample size at this time\n",
    "subset.dt <- merge2.dt[][merge2.dt$my.ancestry == keep.ancestry & !is.na(merge2.dt$censored.age) &\n",
    "                        merge2.dt$censored.age <=91  & !is.na(merge2.dt$sex)]\n",
    "as.data.frame(subset.dt) %>%\n",
    "    count(CSET1, CSET3, SCREENED)\n",
    "\n",
    "length(subset.dt$PRS)\n",
    "subset.dt[,my.PRS:=PRS]\n",
    "(auc.prs.raw <- auc.adjusted(subset.dt))\n",
    "subset.dt[,my.PRS:=PRS.ADJ.PC]\n",
    "(auc.prs.adj.pc <- auc.adjusted(subset.dt))\n",
    "subset.dt[,my.PRS:=PRS.ADJ.ANC]\n",
    "(auc.prs.adj.anc <- auc.adjusted(subset.dt))\n",
    "subset.dt[,my.PRS:=PRS.BR.AOU1]\n",
    "(auc.prs.br.aou <- auc.adjusted(subset.dt))\n",
    "subset.dt[,my.PRS:=PRS.BR.ANC.AOU1]\n",
    "(auc.prs.br.anc <- auc.adjusted(subset.dt))\n",
    "\n",
    "n <- length(subset.dt$CRC.status)\n",
    "for(i in 1:niter)\n",
    "    {\n",
    "    sp=sample(1:n,n,replace=T)  \n",
    "    subset.dt[,PRS:=PRS]\n",
    "    auc.prs.raw <- c(auc.prs.raw, auc.adjusted(subset.dt[sp,]))\n",
    "    subset.dt[,PRS:=PRS.ADJ.PC]\n",
    "    auc.prs.adj.pc <- c(auc.prs.adj.pc, auc.adjusted(subset.dt[sp,]))\n",
    "    subset.dt[,PRS:=PRS.ADJ.ANC]\n",
    "    auc.prs.adj.anc <- c(auc.prs.adj.anc, auc.adjusted(subset.dt[sp,]))    \n",
    "    subset.dt[,my.PRS:=PRS.BR.AOU1]\n",
    "    auc.prs.br.aou <- c(auc.prs.br.aou, auc.adjusted(subset.dt[sp,]))    \n",
    "    subset.dt[,my.PRS:=PRS.BR.ANC.AOU1]\n",
    "    auc.prs.br.anc <- c(auc.prs.br.anc, auc.adjusted(subset.dt[sp,]))    \n",
    "}\n",
    "# Maybe make the below a function as well so I don't have to write stuff over and over\n",
    "#(ci.auc.prs.raw=c(auc.prs.raw[1] - 1.96*sd(auc.prs.raw), auc.prs.raw[1] + 1.96*sd(auc.prs.raw)))\n",
    "#(ci.auc.prs.adj.pc=c(auc.prs.adj.pc[1] - 1.96*sd(auc.prs.adj.pc), auc.prs.adj.pc[1] + 1.96*sd(auc.prs.adj.pc)))\n",
    "#(ci.auc.prs.adj.anc=c(auc.prs.adj.anc[1] - 1.96*sd(auc.prs.adj.anc), auc.prs.adj.anc[1] + 1.96*sd(auc.prs.adj.anc)))\n",
    "#(ci.auc.broad=c(auc.prs.broad[1] - 1.96*sd(auc.prs.broad), auc.prs.broad[1] + 1.96*sd(auc.prs.broad)))\n",
    "\n",
    "# check the CI function\n",
    "auc.boot.ci(auc.prs.raw)\n",
    "auc.boot.ci(auc.prs.adj.pc)\n",
    "auc.boot.ci(auc.prs.adj.anc)\n",
    "auc.boot.ci(auc.prs.br.aou)\n",
    "auc.boot.ci(auc.prs.br.anc)\n",
    "\n",
    "\n",
    "\n",
    "#make into a table\n",
    "auc.adj <- c(auc.prs.raw[1], auc.prs.adj.pc[1], auc.prs.adj.anc[1],auc.prs.br.aou[1],auc.prs.br.anc[1])\n",
    "auc.2 <- data.table(\n",
    "    cbind(auc.adj, rbind(auc.boot.ci(auc.prs.raw), auc.boot.ci(auc.prs.adj.pc), auc.boot.ci(auc.prs.adj.anc), \n",
    "                         auc.boot.ci(auc.prs.br.aou), auc.boot.ci(auc.prs.br.anc) ))\n",
    "    )\n",
    "header.names <- c(\"AUC\",\"lower\",\"upper\")\n",
    "setnames(auc.2,header.names)\n",
    "auc.2[,(header.names):=round(.SD,2),.SDcols=header.names]\n",
    "auc.2[,PRS:=c(\"PRS.RAW\",\"ADJ.PC\",\"ADJ.ANC\",\"BR.AOU\",\"BR.ANC\")]\n",
    "auc.2.table <- data.table(as.data.frame(auc.2) %>%\n",
    "    unite(\"CI\",lower,upper,sep=\", \"))\n",
    "(setcolorder(auc.2.table,c(\"PRS\",\"AUC\",\"CI\")))\n",
    "\n",
    "# fix the column names\n",
    "(new.labels <- paste0(paste0(keep.ancestry,\".\"),names(auc.2.table)[c(2,3)]))\n",
    "setnames(auc.2.table, names(auc.2.table)[c(2,3)], new.labels)\n",
    "auc.2.table[,PRS:=NULL]\n",
    "\n",
    "\n",
    "adj.auc.list2[[ancestry.iter]] <- auc.2.table\n",
    "str(adj.auc.list2)"
   ]
  },
  {
   "cell_type": "markdown",
   "metadata": {
    "heading_collapsed": true
   },
   "source": [
    "# Paste together tables for CSET3 vs. controls.A"
   ]
  },
  {
   "cell_type": "code",
   "execution_count": 42,
   "metadata": {
    "hidden": true
   },
   "outputs": [
    {
     "data": {
      "text/html": [
       "<style>\n",
       ".list-inline {list-style: none; margin:0; padding: 0}\n",
       ".list-inline>li {display: inline-block}\n",
       ".list-inline>li:not(:last-child)::after {content: \"\\00b7\"; padding: 0 .5ex}\n",
       "</style>\n",
       "<ol class=list-inline><li>'AFR.CI'</li><li>'AMR.CI'</li><li>'EUR.CI'</li><li>'MID.CI'</li><li>'OTH.CI'</li></ol>\n"
      ],
      "text/latex": [
       "\\begin{enumerate*}\n",
       "\\item 'AFR.CI'\n",
       "\\item 'AMR.CI'\n",
       "\\item 'EUR.CI'\n",
       "\\item 'MID.CI'\n",
       "\\item 'OTH.CI'\n",
       "\\end{enumerate*}\n"
      ],
      "text/markdown": [
       "1. 'AFR.CI'\n",
       "2. 'AMR.CI'\n",
       "3. 'EUR.CI'\n",
       "4. 'MID.CI'\n",
       "5. 'OTH.CI'\n",
       "\n",
       "\n"
      ],
      "text/plain": [
       "[1] \"AFR.CI\" \"AMR.CI\" \"EUR.CI\" \"MID.CI\" \"OTH.CI\""
      ]
     },
     "metadata": {},
     "output_type": "display_data"
    },
    {
     "data": {
      "text/html": [
       "<table class=\"dataframe\">\n",
       "<caption>A data.table: 5 × 5</caption>\n",
       "<thead>\n",
       "\t<tr><th scope=col>AFR</th><th scope=col>AMR</th><th scope=col>EUR</th><th scope=col>MID</th><th scope=col>OTH</th></tr>\n",
       "\t<tr><th scope=col>&lt;chr&gt;</th><th scope=col>&lt;chr&gt;</th><th scope=col>&lt;chr&gt;</th><th scope=col>&lt;chr&gt;</th><th scope=col>&lt;chr&gt;</th></tr>\n",
       "</thead>\n",
       "<tbody>\n",
       "\t<tr><td>0.59(0.51, 0.67)</td><td>0.71(0.6, 0.83) </td><td>0.63(0.59, 0.67)</td><td>0.53(0.4, 0.67) </td><td>0.63(0.56, 0.7)</td></tr>\n",
       "\t<tr><td>0.59(0.51, 0.67)</td><td>0.71(0.6, 0.83) </td><td>0.63(0.59, 0.67)</td><td>0.53(0.4, 0.67) </td><td>0.63(0.56, 0.7)</td></tr>\n",
       "\t<tr><td>0.59(0.5, 0.67) </td><td>0.72(0.61, 0.83)</td><td>0.63(0.59, 0.67)</td><td>0.54(0.41, 0.67)</td><td>0.63(0.56, 0.7)</td></tr>\n",
       "\t<tr><td>0.59(0.51, 0.67)</td><td>0.71(0.6, 0.82) </td><td>0.63(0.59, 0.67)</td><td>0.53(0.4, 0.67) </td><td>0.63(0.56, 0.7)</td></tr>\n",
       "\t<tr><td>0.59(0.5, 0.67) </td><td>0.72(0.61, 0.83)</td><td>0.63(0.59, 0.67)</td><td>0.54(0.41, 0.67)</td><td>0.63(0.56, 0.7)</td></tr>\n",
       "</tbody>\n",
       "</table>\n"
      ],
      "text/latex": [
       "A data.table: 5 × 5\n",
       "\\begin{tabular}{lllll}\n",
       " AFR & AMR & EUR & MID & OTH\\\\\n",
       " <chr> & <chr> & <chr> & <chr> & <chr>\\\\\n",
       "\\hline\n",
       "\t 0.59(0.51, 0.67) & 0.71(0.6, 0.83)  & 0.63(0.59, 0.67) & 0.53(0.4, 0.67)  & 0.63(0.56, 0.7)\\\\\n",
       "\t 0.59(0.51, 0.67) & 0.71(0.6, 0.83)  & 0.63(0.59, 0.67) & 0.53(0.4, 0.67)  & 0.63(0.56, 0.7)\\\\\n",
       "\t 0.59(0.5, 0.67)  & 0.72(0.61, 0.83) & 0.63(0.59, 0.67) & 0.54(0.41, 0.67) & 0.63(0.56, 0.7)\\\\\n",
       "\t 0.59(0.51, 0.67) & 0.71(0.6, 0.82)  & 0.63(0.59, 0.67) & 0.53(0.4, 0.67)  & 0.63(0.56, 0.7)\\\\\n",
       "\t 0.59(0.5, 0.67)  & 0.72(0.61, 0.83) & 0.63(0.59, 0.67) & 0.54(0.41, 0.67) & 0.63(0.56, 0.7)\\\\\n",
       "\\end{tabular}\n"
      ],
      "text/markdown": [
       "\n",
       "A data.table: 5 × 5\n",
       "\n",
       "| AFR &lt;chr&gt; | AMR &lt;chr&gt; | EUR &lt;chr&gt; | MID &lt;chr&gt; | OTH &lt;chr&gt; |\n",
       "|---|---|---|---|---|\n",
       "| 0.59(0.51, 0.67) | 0.71(0.6, 0.83)  | 0.63(0.59, 0.67) | 0.53(0.4, 0.67)  | 0.63(0.56, 0.7) |\n",
       "| 0.59(0.51, 0.67) | 0.71(0.6, 0.83)  | 0.63(0.59, 0.67) | 0.53(0.4, 0.67)  | 0.63(0.56, 0.7) |\n",
       "| 0.59(0.5, 0.67)  | 0.72(0.61, 0.83) | 0.63(0.59, 0.67) | 0.54(0.41, 0.67) | 0.63(0.56, 0.7) |\n",
       "| 0.59(0.51, 0.67) | 0.71(0.6, 0.82)  | 0.63(0.59, 0.67) | 0.53(0.4, 0.67)  | 0.63(0.56, 0.7) |\n",
       "| 0.59(0.5, 0.67)  | 0.72(0.61, 0.83) | 0.63(0.59, 0.67) | 0.54(0.41, 0.67) | 0.63(0.56, 0.7) |\n",
       "\n"
      ],
      "text/plain": [
       "  AFR              AMR              EUR              MID             \n",
       "1 0.59(0.51, 0.67) 0.71(0.6, 0.83)  0.63(0.59, 0.67) 0.53(0.4, 0.67) \n",
       "2 0.59(0.51, 0.67) 0.71(0.6, 0.83)  0.63(0.59, 0.67) 0.53(0.4, 0.67) \n",
       "3 0.59(0.5, 0.67)  0.72(0.61, 0.83) 0.63(0.59, 0.67) 0.54(0.41, 0.67)\n",
       "4 0.59(0.51, 0.67) 0.71(0.6, 0.82)  0.63(0.59, 0.67) 0.53(0.4, 0.67) \n",
       "5 0.59(0.5, 0.67)  0.72(0.61, 0.83) 0.63(0.59, 0.67) 0.54(0.41, 0.67)\n",
       "  OTH            \n",
       "1 0.63(0.56, 0.7)\n",
       "2 0.63(0.56, 0.7)\n",
       "3 0.63(0.56, 0.7)\n",
       "4 0.63(0.56, 0.7)\n",
       "5 0.63(0.56, 0.7)"
      ]
     },
     "metadata": {},
     "output_type": "display_data"
    },
    {
     "data": {
      "text/html": [
       "<style>\n",
       ".list-inline {list-style: none; margin:0; padding: 0}\n",
       ".list-inline>li {display: inline-block}\n",
       ".list-inline>li:not(:last-child)::after {content: \"\\00b7\"; padding: 0 .5ex}\n",
       "</style>\n",
       "<ol class=list-inline><li>'AFR.CI'</li><li>'AMR.CI'</li><li>'EUR.CI'</li><li>'MID.CI'</li><li>'OTH.CI'</li></ol>\n"
      ],
      "text/latex": [
       "\\begin{enumerate*}\n",
       "\\item 'AFR.CI'\n",
       "\\item 'AMR.CI'\n",
       "\\item 'EUR.CI'\n",
       "\\item 'MID.CI'\n",
       "\\item 'OTH.CI'\n",
       "\\end{enumerate*}\n"
      ],
      "text/markdown": [
       "1. 'AFR.CI'\n",
       "2. 'AMR.CI'\n",
       "3. 'EUR.CI'\n",
       "4. 'MID.CI'\n",
       "5. 'OTH.CI'\n",
       "\n",
       "\n"
      ],
      "text/plain": [
       "[1] \"AFR.CI\" \"AMR.CI\" \"EUR.CI\" \"MID.CI\" \"OTH.CI\""
      ]
     },
     "metadata": {},
     "output_type": "display_data"
    },
    {
     "data": {
      "text/html": [
       "<table class=\"dataframe\">\n",
       "<caption>A data.table: 5 × 5</caption>\n",
       "<thead>\n",
       "\t<tr><th scope=col>AFR</th><th scope=col>AMR</th><th scope=col>EUR</th><th scope=col>MID</th><th scope=col>OTH</th></tr>\n",
       "\t<tr><th scope=col>&lt;chr&gt;</th><th scope=col>&lt;chr&gt;</th><th scope=col>&lt;chr&gt;</th><th scope=col>&lt;chr&gt;</th><th scope=col>&lt;chr&gt;</th></tr>\n",
       "</thead>\n",
       "<tbody>\n",
       "\t<tr><td>0.6(0.5, 0.69)  </td><td>0.69(0.58, 0.8)</td><td>0.64(0.59, 0.68)</td><td>0.55(0.39, 0.7) </td><td>0.65(0.58, 0.71)</td></tr>\n",
       "\t<tr><td>0.59(0.49, 0.68)</td><td>0.68(0.57, 0.8)</td><td>0.64(0.59, 0.68)</td><td>0.55(0.39, 0.7) </td><td>0.64(0.57, 0.71)</td></tr>\n",
       "\t<tr><td>0.59(0.5, 0.69) </td><td>0.69(0.58, 0.8)</td><td>0.63(0.59, 0.67)</td><td>0.56(0.4, 0.71) </td><td>0.64(0.58, 0.71)</td></tr>\n",
       "\t<tr><td>0.59(0.5, 0.69) </td><td>0.68(0.57, 0.8)</td><td>0.63(0.59, 0.68)</td><td>0.54(0.38, 0.69)</td><td>0.63(0.56, 0.7) </td></tr>\n",
       "\t<tr><td>0.59(0.5, 0.69) </td><td>0.7(0.59, 0.81)</td><td>0.63(0.59, 0.68)</td><td>0.56(0.4, 0.71) </td><td>0.64(0.58, 0.71)</td></tr>\n",
       "</tbody>\n",
       "</table>\n"
      ],
      "text/latex": [
       "A data.table: 5 × 5\n",
       "\\begin{tabular}{lllll}\n",
       " AFR & AMR & EUR & MID & OTH\\\\\n",
       " <chr> & <chr> & <chr> & <chr> & <chr>\\\\\n",
       "\\hline\n",
       "\t 0.6(0.5, 0.69)   & 0.69(0.58, 0.8) & 0.64(0.59, 0.68) & 0.55(0.39, 0.7)  & 0.65(0.58, 0.71)\\\\\n",
       "\t 0.59(0.49, 0.68) & 0.68(0.57, 0.8) & 0.64(0.59, 0.68) & 0.55(0.39, 0.7)  & 0.64(0.57, 0.71)\\\\\n",
       "\t 0.59(0.5, 0.69)  & 0.69(0.58, 0.8) & 0.63(0.59, 0.67) & 0.56(0.4, 0.71)  & 0.64(0.58, 0.71)\\\\\n",
       "\t 0.59(0.5, 0.69)  & 0.68(0.57, 0.8) & 0.63(0.59, 0.68) & 0.54(0.38, 0.69) & 0.63(0.56, 0.7) \\\\\n",
       "\t 0.59(0.5, 0.69)  & 0.7(0.59, 0.81) & 0.63(0.59, 0.68) & 0.56(0.4, 0.71)  & 0.64(0.58, 0.71)\\\\\n",
       "\\end{tabular}\n"
      ],
      "text/markdown": [
       "\n",
       "A data.table: 5 × 5\n",
       "\n",
       "| AFR &lt;chr&gt; | AMR &lt;chr&gt; | EUR &lt;chr&gt; | MID &lt;chr&gt; | OTH &lt;chr&gt; |\n",
       "|---|---|---|---|---|\n",
       "| 0.6(0.5, 0.69)   | 0.69(0.58, 0.8) | 0.64(0.59, 0.68) | 0.55(0.39, 0.7)  | 0.65(0.58, 0.71) |\n",
       "| 0.59(0.49, 0.68) | 0.68(0.57, 0.8) | 0.64(0.59, 0.68) | 0.55(0.39, 0.7)  | 0.64(0.57, 0.71) |\n",
       "| 0.59(0.5, 0.69)  | 0.69(0.58, 0.8) | 0.63(0.59, 0.67) | 0.56(0.4, 0.71)  | 0.64(0.58, 0.71) |\n",
       "| 0.59(0.5, 0.69)  | 0.68(0.57, 0.8) | 0.63(0.59, 0.68) | 0.54(0.38, 0.69) | 0.63(0.56, 0.7)  |\n",
       "| 0.59(0.5, 0.69)  | 0.7(0.59, 0.81) | 0.63(0.59, 0.68) | 0.56(0.4, 0.71)  | 0.64(0.58, 0.71) |\n",
       "\n"
      ],
      "text/plain": [
       "  AFR              AMR             EUR              MID             \n",
       "1 0.6(0.5, 0.69)   0.69(0.58, 0.8) 0.64(0.59, 0.68) 0.55(0.39, 0.7) \n",
       "2 0.59(0.49, 0.68) 0.68(0.57, 0.8) 0.64(0.59, 0.68) 0.55(0.39, 0.7) \n",
       "3 0.59(0.5, 0.69)  0.69(0.58, 0.8) 0.63(0.59, 0.67) 0.56(0.4, 0.71) \n",
       "4 0.59(0.5, 0.69)  0.68(0.57, 0.8) 0.63(0.59, 0.68) 0.54(0.38, 0.69)\n",
       "5 0.59(0.5, 0.69)  0.7(0.59, 0.81) 0.63(0.59, 0.68) 0.56(0.4, 0.71) \n",
       "  OTH             \n",
       "1 0.65(0.58, 0.71)\n",
       "2 0.64(0.57, 0.71)\n",
       "3 0.64(0.58, 0.71)\n",
       "4 0.63(0.56, 0.7) \n",
       "5 0.64(0.58, 0.71)"
      ]
     },
     "metadata": {},
     "output_type": "display_data"
    }
   ],
   "source": [
    "#cbind(basic.auc.list[[1]],basic.auc.list[[2]])\n",
    "addparentheses <- function(x){paste0(\"(\", x, \")\")}\n",
    "table.unadjusted <- data.table(do.call(\"cbind\", basic.auc.list2))\n",
    "table.adj <- data.table(do.call(\"cbind\", adj.auc.list2))\n",
    "\n",
    "all.cols <- names(table.unadjusted)\n",
    "(CI.cols <- all.cols[all.cols %like% \"CI\"])\n",
    "table.unadjusted[,(CI.cols):=lapply(.SD, addparentheses), .SDcols=CI.cols]\n",
    "(table.unadjusted.dt <-data.table(\n",
    "    as.data.frame(table.unadjusted) %>%\n",
    "    unite(AFR,c(AFR.AUC,AFR.CI),sep=\"\") %>%\n",
    "    unite(AMR,c(AMR.AUC,AMR.CI),sep=\"\") %>%\n",
    "    unite(EUR,c(EUR.AUC,EUR.CI),sep=\"\") %>%\n",
    "    unite(MID,c(MID.AUC,MID.CI),sep=\"\") %>%\n",
    "    unite(OTH,c(OTH.AUC,OTH.CI),sep=\"\") )\n",
    ")\n",
    "all.cols <- names(table.adj)\n",
    "(CI.cols <- all.cols[all.cols %like% \"CI\"])\n",
    "table.adj[,(CI.cols):=lapply(.SD, addparentheses), .SDcols=CI.cols]\n",
    "(table.adjusted.dt <- data.table(\n",
    "    as.data.frame(table.adj) %>%\n",
    "    unite(AFR,c(AFR.AUC,AFR.CI),sep=\"\") %>%\n",
    "    unite(AMR,c(AMR.AUC,AMR.CI),sep=\"\") %>%\n",
    "    unite(EUR,c(EUR.AUC,EUR.CI),sep=\"\") %>%\n",
    "    unite(MID,c(MID.AUC,MID.CI),sep=\"\") %>%\n",
    "    unite(OTH,c(OTH.AUC,OTH.CI),sep=\"\") )\n",
    ")"
   ]
  },
  {
   "cell_type": "code",
   "execution_count": 37,
   "metadata": {
    "hidden": true
   },
   "outputs": [
    {
     "data": {
      "text/html": [
       "<table class=\"dataframe\">\n",
       "<caption>A data.table: 5 × 6</caption>\n",
       "<thead>\n",
       "\t<tr><th scope=col>AFR</th><th scope=col>AMR</th><th scope=col>EUR</th><th scope=col>MID</th><th scope=col>OTH</th><th scope=col>PRS</th></tr>\n",
       "\t<tr><th scope=col>&lt;chr&gt;</th><th scope=col>&lt;chr&gt;</th><th scope=col>&lt;chr&gt;</th><th scope=col>&lt;chr&gt;</th><th scope=col>&lt;chr&gt;</th><th scope=col>&lt;chr&gt;</th></tr>\n",
       "</thead>\n",
       "<tbody>\n",
       "\t<tr><td>0.59(0.51, 0.67)</td><td>0.71(0.6, 0.83) </td><td>0.63(0.59, 0.67)</td><td>0.53(0.4, 0.67) </td><td>0.63(0.56, 0.7)</td><td>PRS.RAW</td></tr>\n",
       "\t<tr><td>0.59(0.51, 0.67)</td><td>0.71(0.6, 0.83) </td><td>0.63(0.59, 0.67)</td><td>0.53(0.4, 0.67) </td><td>0.63(0.56, 0.7)</td><td>ADJ.PC </td></tr>\n",
       "\t<tr><td>0.59(0.5, 0.67) </td><td>0.72(0.61, 0.83)</td><td>0.63(0.59, 0.67)</td><td>0.54(0.41, 0.67)</td><td>0.63(0.56, 0.7)</td><td>ADJ.ANC</td></tr>\n",
       "\t<tr><td>0.59(0.51, 0.67)</td><td>0.71(0.6, 0.82) </td><td>0.63(0.59, 0.67)</td><td>0.53(0.4, 0.67) </td><td>0.63(0.56, 0.7)</td><td>BR.AOU </td></tr>\n",
       "\t<tr><td>0.59(0.5, 0.67) </td><td>0.72(0.61, 0.83)</td><td>0.63(0.59, 0.67)</td><td>0.54(0.41, 0.67)</td><td>0.63(0.56, 0.7)</td><td>BR.ANC </td></tr>\n",
       "</tbody>\n",
       "</table>\n"
      ],
      "text/latex": [
       "A data.table: 5 × 6\n",
       "\\begin{tabular}{llllll}\n",
       " AFR & AMR & EUR & MID & OTH & PRS\\\\\n",
       " <chr> & <chr> & <chr> & <chr> & <chr> & <chr>\\\\\n",
       "\\hline\n",
       "\t 0.59(0.51, 0.67) & 0.71(0.6, 0.83)  & 0.63(0.59, 0.67) & 0.53(0.4, 0.67)  & 0.63(0.56, 0.7) & PRS.RAW\\\\\n",
       "\t 0.59(0.51, 0.67) & 0.71(0.6, 0.83)  & 0.63(0.59, 0.67) & 0.53(0.4, 0.67)  & 0.63(0.56, 0.7) & ADJ.PC \\\\\n",
       "\t 0.59(0.5, 0.67)  & 0.72(0.61, 0.83) & 0.63(0.59, 0.67) & 0.54(0.41, 0.67) & 0.63(0.56, 0.7) & ADJ.ANC\\\\\n",
       "\t 0.59(0.51, 0.67) & 0.71(0.6, 0.82)  & 0.63(0.59, 0.67) & 0.53(0.4, 0.67)  & 0.63(0.56, 0.7) & BR.AOU \\\\\n",
       "\t 0.59(0.5, 0.67)  & 0.72(0.61, 0.83) & 0.63(0.59, 0.67) & 0.54(0.41, 0.67) & 0.63(0.56, 0.7) & BR.ANC \\\\\n",
       "\\end{tabular}\n"
      ],
      "text/markdown": [
       "\n",
       "A data.table: 5 × 6\n",
       "\n",
       "| AFR &lt;chr&gt; | AMR &lt;chr&gt; | EUR &lt;chr&gt; | MID &lt;chr&gt; | OTH &lt;chr&gt; | PRS &lt;chr&gt; |\n",
       "|---|---|---|---|---|---|\n",
       "| 0.59(0.51, 0.67) | 0.71(0.6, 0.83)  | 0.63(0.59, 0.67) | 0.53(0.4, 0.67)  | 0.63(0.56, 0.7) | PRS.RAW |\n",
       "| 0.59(0.51, 0.67) | 0.71(0.6, 0.83)  | 0.63(0.59, 0.67) | 0.53(0.4, 0.67)  | 0.63(0.56, 0.7) | ADJ.PC  |\n",
       "| 0.59(0.5, 0.67)  | 0.72(0.61, 0.83) | 0.63(0.59, 0.67) | 0.54(0.41, 0.67) | 0.63(0.56, 0.7) | ADJ.ANC |\n",
       "| 0.59(0.51, 0.67) | 0.71(0.6, 0.82)  | 0.63(0.59, 0.67) | 0.53(0.4, 0.67)  | 0.63(0.56, 0.7) | BR.AOU  |\n",
       "| 0.59(0.5, 0.67)  | 0.72(0.61, 0.83) | 0.63(0.59, 0.67) | 0.54(0.41, 0.67) | 0.63(0.56, 0.7) | BR.ANC  |\n",
       "\n"
      ],
      "text/plain": [
       "  AFR              AMR              EUR              MID             \n",
       "1 0.59(0.51, 0.67) 0.71(0.6, 0.83)  0.63(0.59, 0.67) 0.53(0.4, 0.67) \n",
       "2 0.59(0.51, 0.67) 0.71(0.6, 0.83)  0.63(0.59, 0.67) 0.53(0.4, 0.67) \n",
       "3 0.59(0.5, 0.67)  0.72(0.61, 0.83) 0.63(0.59, 0.67) 0.54(0.41, 0.67)\n",
       "4 0.59(0.51, 0.67) 0.71(0.6, 0.82)  0.63(0.59, 0.67) 0.53(0.4, 0.67) \n",
       "5 0.59(0.5, 0.67)  0.72(0.61, 0.83) 0.63(0.59, 0.67) 0.54(0.41, 0.67)\n",
       "  OTH             PRS    \n",
       "1 0.63(0.56, 0.7) PRS.RAW\n",
       "2 0.63(0.56, 0.7) ADJ.PC \n",
       "3 0.63(0.56, 0.7) ADJ.ANC\n",
       "4 0.63(0.56, 0.7) BR.AOU \n",
       "5 0.63(0.56, 0.7) BR.ANC "
      ]
     },
     "metadata": {},
     "output_type": "display_data"
    },
    {
     "ename": "ERROR",
     "evalue": "Error in eval(expr, envir, enclos): object 'table.adjusted.dt' not found\n",
     "output_type": "error",
     "traceback": [
      "Error in eval(expr, envir, enclos): object 'table.adjusted.dt' not found\nTraceback:\n"
     ]
    }
   ],
   "source": [
    "table.unadjusted.dt\n",
    "table.adjusted.dt"
   ]
  },
  {
   "cell_type": "code",
   "execution_count": 43,
   "metadata": {
    "hidden": true
   },
   "outputs": [
    {
     "data": {
      "text/html": [
       "<table class=\"dataframe\">\n",
       "<caption>A data.table: 5 × 11</caption>\n",
       "<thead>\n",
       "\t<tr><th scope=col>AFR</th><th scope=col>AMR</th><th scope=col>EUR</th><th scope=col>MID</th><th scope=col>OTH</th><th scope=col>PRS</th><th scope=col>AFR2</th><th scope=col>AMR2</th><th scope=col>EUR2</th><th scope=col>MID2</th><th scope=col>OTH2</th></tr>\n",
       "\t<tr><th scope=col>&lt;chr&gt;</th><th scope=col>&lt;chr&gt;</th><th scope=col>&lt;chr&gt;</th><th scope=col>&lt;chr&gt;</th><th scope=col>&lt;chr&gt;</th><th scope=col>&lt;chr&gt;</th><th scope=col>&lt;chr&gt;</th><th scope=col>&lt;chr&gt;</th><th scope=col>&lt;chr&gt;</th><th scope=col>&lt;chr&gt;</th><th scope=col>&lt;chr&gt;</th></tr>\n",
       "</thead>\n",
       "<tbody>\n",
       "\t<tr><td>0.59(0.51, 0.67)</td><td>0.71(0.6, 0.83) </td><td>0.63(0.59, 0.67)</td><td>0.53(0.4, 0.67) </td><td>0.63(0.56, 0.7)</td><td>0PRS.RAW</td><td>0.6(0.5, 0.69)  </td><td>0.69(0.58, 0.8)</td><td>0.64(0.59, 0.68)</td><td>0.55(0.39, 0.7) </td><td>0.65(0.58, 0.71)</td></tr>\n",
       "\t<tr><td>0.59(0.51, 0.67)</td><td>0.71(0.6, 0.83) </td><td>0.63(0.59, 0.67)</td><td>0.53(0.4, 0.67) </td><td>0.63(0.56, 0.7)</td><td>1ADJ.PC </td><td>0.59(0.49, 0.68)</td><td>0.68(0.57, 0.8)</td><td>0.64(0.59, 0.68)</td><td>0.55(0.39, 0.7) </td><td>0.64(0.57, 0.71)</td></tr>\n",
       "\t<tr><td>0.59(0.5, 0.67) </td><td>0.72(0.61, 0.83)</td><td>0.63(0.59, 0.67)</td><td>0.54(0.41, 0.67)</td><td>0.63(0.56, 0.7)</td><td>2ADJ.ANC</td><td>0.59(0.5, 0.69) </td><td>0.69(0.58, 0.8)</td><td>0.63(0.59, 0.67)</td><td>0.56(0.4, 0.71) </td><td>0.64(0.58, 0.71)</td></tr>\n",
       "\t<tr><td>0.59(0.51, 0.67)</td><td>0.71(0.6, 0.82) </td><td>0.63(0.59, 0.67)</td><td>0.53(0.4, 0.67) </td><td>0.63(0.56, 0.7)</td><td>3BR.AOU </td><td>0.59(0.5, 0.69) </td><td>0.68(0.57, 0.8)</td><td>0.63(0.59, 0.68)</td><td>0.54(0.38, 0.69)</td><td>0.63(0.56, 0.7) </td></tr>\n",
       "\t<tr><td>0.59(0.5, 0.67) </td><td>0.72(0.61, 0.83)</td><td>0.63(0.59, 0.67)</td><td>0.54(0.41, 0.67)</td><td>0.63(0.56, 0.7)</td><td>4BR.ANC </td><td>0.59(0.5, 0.69) </td><td>0.7(0.59, 0.81)</td><td>0.63(0.59, 0.68)</td><td>0.56(0.4, 0.71) </td><td>0.64(0.58, 0.71)</td></tr>\n",
       "</tbody>\n",
       "</table>\n"
      ],
      "text/latex": [
       "A data.table: 5 × 11\n",
       "\\begin{tabular}{lllllllllll}\n",
       " AFR & AMR & EUR & MID & OTH & PRS & AFR2 & AMR2 & EUR2 & MID2 & OTH2\\\\\n",
       " <chr> & <chr> & <chr> & <chr> & <chr> & <chr> & <chr> & <chr> & <chr> & <chr> & <chr>\\\\\n",
       "\\hline\n",
       "\t 0.59(0.51, 0.67) & 0.71(0.6, 0.83)  & 0.63(0.59, 0.67) & 0.53(0.4, 0.67)  & 0.63(0.56, 0.7) & 0PRS.RAW & 0.6(0.5, 0.69)   & 0.69(0.58, 0.8) & 0.64(0.59, 0.68) & 0.55(0.39, 0.7)  & 0.65(0.58, 0.71)\\\\\n",
       "\t 0.59(0.51, 0.67) & 0.71(0.6, 0.83)  & 0.63(0.59, 0.67) & 0.53(0.4, 0.67)  & 0.63(0.56, 0.7) & 1ADJ.PC  & 0.59(0.49, 0.68) & 0.68(0.57, 0.8) & 0.64(0.59, 0.68) & 0.55(0.39, 0.7)  & 0.64(0.57, 0.71)\\\\\n",
       "\t 0.59(0.5, 0.67)  & 0.72(0.61, 0.83) & 0.63(0.59, 0.67) & 0.54(0.41, 0.67) & 0.63(0.56, 0.7) & 2ADJ.ANC & 0.59(0.5, 0.69)  & 0.69(0.58, 0.8) & 0.63(0.59, 0.67) & 0.56(0.4, 0.71)  & 0.64(0.58, 0.71)\\\\\n",
       "\t 0.59(0.51, 0.67) & 0.71(0.6, 0.82)  & 0.63(0.59, 0.67) & 0.53(0.4, 0.67)  & 0.63(0.56, 0.7) & 3BR.AOU  & 0.59(0.5, 0.69)  & 0.68(0.57, 0.8) & 0.63(0.59, 0.68) & 0.54(0.38, 0.69) & 0.63(0.56, 0.7) \\\\\n",
       "\t 0.59(0.5, 0.67)  & 0.72(0.61, 0.83) & 0.63(0.59, 0.67) & 0.54(0.41, 0.67) & 0.63(0.56, 0.7) & 4BR.ANC  & 0.59(0.5, 0.69)  & 0.7(0.59, 0.81) & 0.63(0.59, 0.68) & 0.56(0.4, 0.71)  & 0.64(0.58, 0.71)\\\\\n",
       "\\end{tabular}\n"
      ],
      "text/markdown": [
       "\n",
       "A data.table: 5 × 11\n",
       "\n",
       "| AFR &lt;chr&gt; | AMR &lt;chr&gt; | EUR &lt;chr&gt; | MID &lt;chr&gt; | OTH &lt;chr&gt; | PRS &lt;chr&gt; | AFR2 &lt;chr&gt; | AMR2 &lt;chr&gt; | EUR2 &lt;chr&gt; | MID2 &lt;chr&gt; | OTH2 &lt;chr&gt; |\n",
       "|---|---|---|---|---|---|---|---|---|---|---|\n",
       "| 0.59(0.51, 0.67) | 0.71(0.6, 0.83)  | 0.63(0.59, 0.67) | 0.53(0.4, 0.67)  | 0.63(0.56, 0.7) | 0PRS.RAW | 0.6(0.5, 0.69)   | 0.69(0.58, 0.8) | 0.64(0.59, 0.68) | 0.55(0.39, 0.7)  | 0.65(0.58, 0.71) |\n",
       "| 0.59(0.51, 0.67) | 0.71(0.6, 0.83)  | 0.63(0.59, 0.67) | 0.53(0.4, 0.67)  | 0.63(0.56, 0.7) | 1ADJ.PC  | 0.59(0.49, 0.68) | 0.68(0.57, 0.8) | 0.64(0.59, 0.68) | 0.55(0.39, 0.7)  | 0.64(0.57, 0.71) |\n",
       "| 0.59(0.5, 0.67)  | 0.72(0.61, 0.83) | 0.63(0.59, 0.67) | 0.54(0.41, 0.67) | 0.63(0.56, 0.7) | 2ADJ.ANC | 0.59(0.5, 0.69)  | 0.69(0.58, 0.8) | 0.63(0.59, 0.67) | 0.56(0.4, 0.71)  | 0.64(0.58, 0.71) |\n",
       "| 0.59(0.51, 0.67) | 0.71(0.6, 0.82)  | 0.63(0.59, 0.67) | 0.53(0.4, 0.67)  | 0.63(0.56, 0.7) | 3BR.AOU  | 0.59(0.5, 0.69)  | 0.68(0.57, 0.8) | 0.63(0.59, 0.68) | 0.54(0.38, 0.69) | 0.63(0.56, 0.7)  |\n",
       "| 0.59(0.5, 0.67)  | 0.72(0.61, 0.83) | 0.63(0.59, 0.67) | 0.54(0.41, 0.67) | 0.63(0.56, 0.7) | 4BR.ANC  | 0.59(0.5, 0.69)  | 0.7(0.59, 0.81) | 0.63(0.59, 0.68) | 0.56(0.4, 0.71)  | 0.64(0.58, 0.71) |\n",
       "\n"
      ],
      "text/plain": [
       "  AFR              AMR              EUR              MID             \n",
       "1 0.59(0.51, 0.67) 0.71(0.6, 0.83)  0.63(0.59, 0.67) 0.53(0.4, 0.67) \n",
       "2 0.59(0.51, 0.67) 0.71(0.6, 0.83)  0.63(0.59, 0.67) 0.53(0.4, 0.67) \n",
       "3 0.59(0.5, 0.67)  0.72(0.61, 0.83) 0.63(0.59, 0.67) 0.54(0.41, 0.67)\n",
       "4 0.59(0.51, 0.67) 0.71(0.6, 0.82)  0.63(0.59, 0.67) 0.53(0.4, 0.67) \n",
       "5 0.59(0.5, 0.67)  0.72(0.61, 0.83) 0.63(0.59, 0.67) 0.54(0.41, 0.67)\n",
       "  OTH             PRS      AFR2             AMR2            EUR2            \n",
       "1 0.63(0.56, 0.7) 0PRS.RAW 0.6(0.5, 0.69)   0.69(0.58, 0.8) 0.64(0.59, 0.68)\n",
       "2 0.63(0.56, 0.7) 1ADJ.PC  0.59(0.49, 0.68) 0.68(0.57, 0.8) 0.64(0.59, 0.68)\n",
       "3 0.63(0.56, 0.7) 2ADJ.ANC 0.59(0.5, 0.69)  0.69(0.58, 0.8) 0.63(0.59, 0.67)\n",
       "4 0.63(0.56, 0.7) 3BR.AOU  0.59(0.5, 0.69)  0.68(0.57, 0.8) 0.63(0.59, 0.68)\n",
       "5 0.63(0.56, 0.7) 4BR.ANC  0.59(0.5, 0.69)  0.7(0.59, 0.81) 0.63(0.59, 0.68)\n",
       "  MID2             OTH2            \n",
       "1 0.55(0.39, 0.7)  0.65(0.58, 0.71)\n",
       "2 0.55(0.39, 0.7)  0.64(0.57, 0.71)\n",
       "3 0.56(0.4, 0.71)  0.64(0.58, 0.71)\n",
       "4 0.54(0.38, 0.69) 0.63(0.56, 0.7) \n",
       "5 0.56(0.4, 0.71)  0.64(0.58, 0.71)"
      ]
     },
     "metadata": {},
     "output_type": "display_data"
    }
   ],
   "source": [
    "# need to coombine and then rotate the table\n",
    "setnames(table.adjusted.dt,c(\"AFR2\",\"AMR2\",\"EUR2\",\"MID2\", \"OTH2\"))\n",
    "#Inlcude numbers so sort gives me the order I want\n",
    "table.unadjusted.dt[,PRS:=c(\"0PRS.RAW\",\"1ADJ.PC\",\"2ADJ.ANC\",\"3BR.AOU\",\"4BR.ANC\")]\n",
    "table.adjusted.dt[,PRS:=c(\"0PRS.RAW\",\"1ADJ.PC\",\"2ADJ.ANC\",\"3BR.AOU\",\"4BR.ANC\")]\n",
    "\n",
    "setkey(table.unadjusted.dt,\"PRS\")\n",
    "setkey(table.adjusted.dt,\"PRS\")\n",
    "(out.table <- table.unadjusted.dt[table.adjusted.dt])"
   ]
  },
  {
   "cell_type": "code",
   "execution_count": 44,
   "metadata": {
    "hidden": true
   },
   "outputs": [
    {
     "data": {
      "text/html": [
       "<table class=\"dataframe\">\n",
       "<caption>A data.table: 5 × 11</caption>\n",
       "<thead>\n",
       "\t<tr><th scope=col>PRS</th><th scope=col>AFR</th><th scope=col>AFR2</th><th scope=col>AMR</th><th scope=col>AMR2</th><th scope=col>EUR</th><th scope=col>EUR2</th><th scope=col>MID</th><th scope=col>MID2</th><th scope=col>OTH</th><th scope=col>OTH2</th></tr>\n",
       "\t<tr><th scope=col>&lt;chr&gt;</th><th scope=col>&lt;chr&gt;</th><th scope=col>&lt;chr&gt;</th><th scope=col>&lt;chr&gt;</th><th scope=col>&lt;chr&gt;</th><th scope=col>&lt;chr&gt;</th><th scope=col>&lt;chr&gt;</th><th scope=col>&lt;chr&gt;</th><th scope=col>&lt;chr&gt;</th><th scope=col>&lt;chr&gt;</th><th scope=col>&lt;chr&gt;</th></tr>\n",
       "</thead>\n",
       "<tbody>\n",
       "\t<tr><td>0PRS.RAW</td><td>0.59(0.51, 0.67)</td><td>0.6(0.5, 0.69)  </td><td>0.71(0.6, 0.83) </td><td>0.69(0.58, 0.8)</td><td>0.63(0.59, 0.67)</td><td>0.64(0.59, 0.68)</td><td>0.53(0.4, 0.67) </td><td>0.55(0.39, 0.7) </td><td>0.63(0.56, 0.7)</td><td>0.65(0.58, 0.71)</td></tr>\n",
       "\t<tr><td>1ADJ.PC </td><td>0.59(0.51, 0.67)</td><td>0.59(0.49, 0.68)</td><td>0.71(0.6, 0.83) </td><td>0.68(0.57, 0.8)</td><td>0.63(0.59, 0.67)</td><td>0.64(0.59, 0.68)</td><td>0.53(0.4, 0.67) </td><td>0.55(0.39, 0.7) </td><td>0.63(0.56, 0.7)</td><td>0.64(0.57, 0.71)</td></tr>\n",
       "\t<tr><td>2ADJ.ANC</td><td>0.59(0.5, 0.67) </td><td>0.59(0.5, 0.69) </td><td>0.72(0.61, 0.83)</td><td>0.69(0.58, 0.8)</td><td>0.63(0.59, 0.67)</td><td>0.63(0.59, 0.67)</td><td>0.54(0.41, 0.67)</td><td>0.56(0.4, 0.71) </td><td>0.63(0.56, 0.7)</td><td>0.64(0.58, 0.71)</td></tr>\n",
       "\t<tr><td>3BR.AOU </td><td>0.59(0.51, 0.67)</td><td>0.59(0.5, 0.69) </td><td>0.71(0.6, 0.82) </td><td>0.68(0.57, 0.8)</td><td>0.63(0.59, 0.67)</td><td>0.63(0.59, 0.68)</td><td>0.53(0.4, 0.67) </td><td>0.54(0.38, 0.69)</td><td>0.63(0.56, 0.7)</td><td>0.63(0.56, 0.7) </td></tr>\n",
       "\t<tr><td>4BR.ANC </td><td>0.59(0.5, 0.67) </td><td>0.59(0.5, 0.69) </td><td>0.72(0.61, 0.83)</td><td>0.7(0.59, 0.81)</td><td>0.63(0.59, 0.67)</td><td>0.63(0.59, 0.68)</td><td>0.54(0.41, 0.67)</td><td>0.56(0.4, 0.71) </td><td>0.63(0.56, 0.7)</td><td>0.64(0.58, 0.71)</td></tr>\n",
       "</tbody>\n",
       "</table>\n"
      ],
      "text/latex": [
       "A data.table: 5 × 11\n",
       "\\begin{tabular}{lllllllllll}\n",
       " PRS & AFR & AFR2 & AMR & AMR2 & EUR & EUR2 & MID & MID2 & OTH & OTH2\\\\\n",
       " <chr> & <chr> & <chr> & <chr> & <chr> & <chr> & <chr> & <chr> & <chr> & <chr> & <chr>\\\\\n",
       "\\hline\n",
       "\t 0PRS.RAW & 0.59(0.51, 0.67) & 0.6(0.5, 0.69)   & 0.71(0.6, 0.83)  & 0.69(0.58, 0.8) & 0.63(0.59, 0.67) & 0.64(0.59, 0.68) & 0.53(0.4, 0.67)  & 0.55(0.39, 0.7)  & 0.63(0.56, 0.7) & 0.65(0.58, 0.71)\\\\\n",
       "\t 1ADJ.PC  & 0.59(0.51, 0.67) & 0.59(0.49, 0.68) & 0.71(0.6, 0.83)  & 0.68(0.57, 0.8) & 0.63(0.59, 0.67) & 0.64(0.59, 0.68) & 0.53(0.4, 0.67)  & 0.55(0.39, 0.7)  & 0.63(0.56, 0.7) & 0.64(0.57, 0.71)\\\\\n",
       "\t 2ADJ.ANC & 0.59(0.5, 0.67)  & 0.59(0.5, 0.69)  & 0.72(0.61, 0.83) & 0.69(0.58, 0.8) & 0.63(0.59, 0.67) & 0.63(0.59, 0.67) & 0.54(0.41, 0.67) & 0.56(0.4, 0.71)  & 0.63(0.56, 0.7) & 0.64(0.58, 0.71)\\\\\n",
       "\t 3BR.AOU  & 0.59(0.51, 0.67) & 0.59(0.5, 0.69)  & 0.71(0.6, 0.82)  & 0.68(0.57, 0.8) & 0.63(0.59, 0.67) & 0.63(0.59, 0.68) & 0.53(0.4, 0.67)  & 0.54(0.38, 0.69) & 0.63(0.56, 0.7) & 0.63(0.56, 0.7) \\\\\n",
       "\t 4BR.ANC  & 0.59(0.5, 0.67)  & 0.59(0.5, 0.69)  & 0.72(0.61, 0.83) & 0.7(0.59, 0.81) & 0.63(0.59, 0.67) & 0.63(0.59, 0.68) & 0.54(0.41, 0.67) & 0.56(0.4, 0.71)  & 0.63(0.56, 0.7) & 0.64(0.58, 0.71)\\\\\n",
       "\\end{tabular}\n"
      ],
      "text/markdown": [
       "\n",
       "A data.table: 5 × 11\n",
       "\n",
       "| PRS &lt;chr&gt; | AFR &lt;chr&gt; | AFR2 &lt;chr&gt; | AMR &lt;chr&gt; | AMR2 &lt;chr&gt; | EUR &lt;chr&gt; | EUR2 &lt;chr&gt; | MID &lt;chr&gt; | MID2 &lt;chr&gt; | OTH &lt;chr&gt; | OTH2 &lt;chr&gt; |\n",
       "|---|---|---|---|---|---|---|---|---|---|---|\n",
       "| 0PRS.RAW | 0.59(0.51, 0.67) | 0.6(0.5, 0.69)   | 0.71(0.6, 0.83)  | 0.69(0.58, 0.8) | 0.63(0.59, 0.67) | 0.64(0.59, 0.68) | 0.53(0.4, 0.67)  | 0.55(0.39, 0.7)  | 0.63(0.56, 0.7) | 0.65(0.58, 0.71) |\n",
       "| 1ADJ.PC  | 0.59(0.51, 0.67) | 0.59(0.49, 0.68) | 0.71(0.6, 0.83)  | 0.68(0.57, 0.8) | 0.63(0.59, 0.67) | 0.64(0.59, 0.68) | 0.53(0.4, 0.67)  | 0.55(0.39, 0.7)  | 0.63(0.56, 0.7) | 0.64(0.57, 0.71) |\n",
       "| 2ADJ.ANC | 0.59(0.5, 0.67)  | 0.59(0.5, 0.69)  | 0.72(0.61, 0.83) | 0.69(0.58, 0.8) | 0.63(0.59, 0.67) | 0.63(0.59, 0.67) | 0.54(0.41, 0.67) | 0.56(0.4, 0.71)  | 0.63(0.56, 0.7) | 0.64(0.58, 0.71) |\n",
       "| 3BR.AOU  | 0.59(0.51, 0.67) | 0.59(0.5, 0.69)  | 0.71(0.6, 0.82)  | 0.68(0.57, 0.8) | 0.63(0.59, 0.67) | 0.63(0.59, 0.68) | 0.53(0.4, 0.67)  | 0.54(0.38, 0.69) | 0.63(0.56, 0.7) | 0.63(0.56, 0.7)  |\n",
       "| 4BR.ANC  | 0.59(0.5, 0.67)  | 0.59(0.5, 0.69)  | 0.72(0.61, 0.83) | 0.7(0.59, 0.81) | 0.63(0.59, 0.67) | 0.63(0.59, 0.68) | 0.54(0.41, 0.67) | 0.56(0.4, 0.71)  | 0.63(0.56, 0.7) | 0.64(0.58, 0.71) |\n",
       "\n"
      ],
      "text/plain": [
       "  PRS      AFR              AFR2             AMR              AMR2           \n",
       "1 0PRS.RAW 0.59(0.51, 0.67) 0.6(0.5, 0.69)   0.71(0.6, 0.83)  0.69(0.58, 0.8)\n",
       "2 1ADJ.PC  0.59(0.51, 0.67) 0.59(0.49, 0.68) 0.71(0.6, 0.83)  0.68(0.57, 0.8)\n",
       "3 2ADJ.ANC 0.59(0.5, 0.67)  0.59(0.5, 0.69)  0.72(0.61, 0.83) 0.69(0.58, 0.8)\n",
       "4 3BR.AOU  0.59(0.51, 0.67) 0.59(0.5, 0.69)  0.71(0.6, 0.82)  0.68(0.57, 0.8)\n",
       "5 4BR.ANC  0.59(0.5, 0.67)  0.59(0.5, 0.69)  0.72(0.61, 0.83) 0.7(0.59, 0.81)\n",
       "  EUR              EUR2             MID              MID2            \n",
       "1 0.63(0.59, 0.67) 0.64(0.59, 0.68) 0.53(0.4, 0.67)  0.55(0.39, 0.7) \n",
       "2 0.63(0.59, 0.67) 0.64(0.59, 0.68) 0.53(0.4, 0.67)  0.55(0.39, 0.7) \n",
       "3 0.63(0.59, 0.67) 0.63(0.59, 0.67) 0.54(0.41, 0.67) 0.56(0.4, 0.71) \n",
       "4 0.63(0.59, 0.67) 0.63(0.59, 0.68) 0.53(0.4, 0.67)  0.54(0.38, 0.69)\n",
       "5 0.63(0.59, 0.67) 0.63(0.59, 0.68) 0.54(0.41, 0.67) 0.56(0.4, 0.71) \n",
       "  OTH             OTH2            \n",
       "1 0.63(0.56, 0.7) 0.65(0.58, 0.71)\n",
       "2 0.63(0.56, 0.7) 0.64(0.57, 0.71)\n",
       "3 0.63(0.56, 0.7) 0.64(0.58, 0.71)\n",
       "4 0.63(0.56, 0.7) 0.63(0.56, 0.7) \n",
       "5 0.63(0.56, 0.7) 0.64(0.58, 0.71)"
      ]
     },
     "metadata": {},
     "output_type": "display_data"
    }
   ],
   "source": [
    "setcolorder(out.table,c(\"PRS\",\"AFR\", \"AFR2\",\"AMR\",\"AMR2\",\"EUR\",\"EUR2\",\"MID\",\"MID2\", \"OTH\",\"OTH2\"))\n",
    "out.table"
   ]
  },
  {
   "cell_type": "code",
   "execution_count": 45,
   "metadata": {
    "hidden": true
   },
   "outputs": [
    {
     "data": {
      "text/html": [
       "<table class=\"dataframe\">\n",
       "<caption>A matrix: 11 × 5 of type chr</caption>\n",
       "<tbody>\n",
       "\t<tr><th scope=row>PRS</th><td>0PRS.RAW        </td><td>1ADJ.PC         </td><td>2ADJ.ANC        </td><td>3BR.AOU         </td><td>4BR.ANC         </td></tr>\n",
       "\t<tr><th scope=row>AFR</th><td>0.59(0.51, 0.67)</td><td>0.59(0.51, 0.67)</td><td>0.59(0.5, 0.67) </td><td>0.59(0.51, 0.67)</td><td>0.59(0.5, 0.67) </td></tr>\n",
       "\t<tr><th scope=row>AFR2</th><td>0.6(0.5, 0.69)  </td><td>0.59(0.49, 0.68)</td><td>0.59(0.5, 0.69) </td><td>0.59(0.5, 0.69) </td><td>0.59(0.5, 0.69) </td></tr>\n",
       "\t<tr><th scope=row>AMR</th><td>0.71(0.6, 0.83) </td><td>0.71(0.6, 0.83) </td><td>0.72(0.61, 0.83)</td><td>0.71(0.6, 0.82) </td><td>0.72(0.61, 0.83)</td></tr>\n",
       "\t<tr><th scope=row>AMR2</th><td>0.69(0.58, 0.8) </td><td>0.68(0.57, 0.8) </td><td>0.69(0.58, 0.8) </td><td>0.68(0.57, 0.8) </td><td>0.7(0.59, 0.81) </td></tr>\n",
       "\t<tr><th scope=row>EUR</th><td>0.63(0.59, 0.67)</td><td>0.63(0.59, 0.67)</td><td>0.63(0.59, 0.67)</td><td>0.63(0.59, 0.67)</td><td>0.63(0.59, 0.67)</td></tr>\n",
       "\t<tr><th scope=row>EUR2</th><td>0.64(0.59, 0.68)</td><td>0.64(0.59, 0.68)</td><td>0.63(0.59, 0.67)</td><td>0.63(0.59, 0.68)</td><td>0.63(0.59, 0.68)</td></tr>\n",
       "\t<tr><th scope=row>MID</th><td>0.53(0.4, 0.67) </td><td>0.53(0.4, 0.67) </td><td>0.54(0.41, 0.67)</td><td>0.53(0.4, 0.67) </td><td>0.54(0.41, 0.67)</td></tr>\n",
       "\t<tr><th scope=row>MID2</th><td>0.55(0.39, 0.7) </td><td>0.55(0.39, 0.7) </td><td>0.56(0.4, 0.71) </td><td>0.54(0.38, 0.69)</td><td>0.56(0.4, 0.71) </td></tr>\n",
       "\t<tr><th scope=row>OTH</th><td>0.63(0.56, 0.7) </td><td>0.63(0.56, 0.7) </td><td>0.63(0.56, 0.7) </td><td>0.63(0.56, 0.7) </td><td>0.63(0.56, 0.7) </td></tr>\n",
       "\t<tr><th scope=row>OTH2</th><td>0.65(0.58, 0.71)</td><td>0.64(0.57, 0.71)</td><td>0.64(0.58, 0.71)</td><td>0.63(0.56, 0.7) </td><td>0.64(0.58, 0.71)</td></tr>\n",
       "</tbody>\n",
       "</table>\n"
      ],
      "text/latex": [
       "A matrix: 11 × 5 of type chr\n",
       "\\begin{tabular}{r|lllll}\n",
       "\tPRS & 0PRS.RAW         & 1ADJ.PC          & 2ADJ.ANC         & 3BR.AOU          & 4BR.ANC         \\\\\n",
       "\tAFR & 0.59(0.51, 0.67) & 0.59(0.51, 0.67) & 0.59(0.5, 0.67)  & 0.59(0.51, 0.67) & 0.59(0.5, 0.67) \\\\\n",
       "\tAFR2 & 0.6(0.5, 0.69)   & 0.59(0.49, 0.68) & 0.59(0.5, 0.69)  & 0.59(0.5, 0.69)  & 0.59(0.5, 0.69) \\\\\n",
       "\tAMR & 0.71(0.6, 0.83)  & 0.71(0.6, 0.83)  & 0.72(0.61, 0.83) & 0.71(0.6, 0.82)  & 0.72(0.61, 0.83)\\\\\n",
       "\tAMR2 & 0.69(0.58, 0.8)  & 0.68(0.57, 0.8)  & 0.69(0.58, 0.8)  & 0.68(0.57, 0.8)  & 0.7(0.59, 0.81) \\\\\n",
       "\tEUR & 0.63(0.59, 0.67) & 0.63(0.59, 0.67) & 0.63(0.59, 0.67) & 0.63(0.59, 0.67) & 0.63(0.59, 0.67)\\\\\n",
       "\tEUR2 & 0.64(0.59, 0.68) & 0.64(0.59, 0.68) & 0.63(0.59, 0.67) & 0.63(0.59, 0.68) & 0.63(0.59, 0.68)\\\\\n",
       "\tMID & 0.53(0.4, 0.67)  & 0.53(0.4, 0.67)  & 0.54(0.41, 0.67) & 0.53(0.4, 0.67)  & 0.54(0.41, 0.67)\\\\\n",
       "\tMID2 & 0.55(0.39, 0.7)  & 0.55(0.39, 0.7)  & 0.56(0.4, 0.71)  & 0.54(0.38, 0.69) & 0.56(0.4, 0.71) \\\\\n",
       "\tOTH & 0.63(0.56, 0.7)  & 0.63(0.56, 0.7)  & 0.63(0.56, 0.7)  & 0.63(0.56, 0.7)  & 0.63(0.56, 0.7) \\\\\n",
       "\tOTH2 & 0.65(0.58, 0.71) & 0.64(0.57, 0.71) & 0.64(0.58, 0.71) & 0.63(0.56, 0.7)  & 0.64(0.58, 0.71)\\\\\n",
       "\\end{tabular}\n"
      ],
      "text/markdown": [
       "\n",
       "A matrix: 11 × 5 of type chr\n",
       "\n",
       "| PRS | 0PRS.RAW         | 1ADJ.PC          | 2ADJ.ANC         | 3BR.AOU          | 4BR.ANC          |\n",
       "| AFR | 0.59(0.51, 0.67) | 0.59(0.51, 0.67) | 0.59(0.5, 0.67)  | 0.59(0.51, 0.67) | 0.59(0.5, 0.67)  |\n",
       "| AFR2 | 0.6(0.5, 0.69)   | 0.59(0.49, 0.68) | 0.59(0.5, 0.69)  | 0.59(0.5, 0.69)  | 0.59(0.5, 0.69)  |\n",
       "| AMR | 0.71(0.6, 0.83)  | 0.71(0.6, 0.83)  | 0.72(0.61, 0.83) | 0.71(0.6, 0.82)  | 0.72(0.61, 0.83) |\n",
       "| AMR2 | 0.69(0.58, 0.8)  | 0.68(0.57, 0.8)  | 0.69(0.58, 0.8)  | 0.68(0.57, 0.8)  | 0.7(0.59, 0.81)  |\n",
       "| EUR | 0.63(0.59, 0.67) | 0.63(0.59, 0.67) | 0.63(0.59, 0.67) | 0.63(0.59, 0.67) | 0.63(0.59, 0.67) |\n",
       "| EUR2 | 0.64(0.59, 0.68) | 0.64(0.59, 0.68) | 0.63(0.59, 0.67) | 0.63(0.59, 0.68) | 0.63(0.59, 0.68) |\n",
       "| MID | 0.53(0.4, 0.67)  | 0.53(0.4, 0.67)  | 0.54(0.41, 0.67) | 0.53(0.4, 0.67)  | 0.54(0.41, 0.67) |\n",
       "| MID2 | 0.55(0.39, 0.7)  | 0.55(0.39, 0.7)  | 0.56(0.4, 0.71)  | 0.54(0.38, 0.69) | 0.56(0.4, 0.71)  |\n",
       "| OTH | 0.63(0.56, 0.7)  | 0.63(0.56, 0.7)  | 0.63(0.56, 0.7)  | 0.63(0.56, 0.7)  | 0.63(0.56, 0.7)  |\n",
       "| OTH2 | 0.65(0.58, 0.71) | 0.64(0.57, 0.71) | 0.64(0.58, 0.71) | 0.63(0.56, 0.7)  | 0.64(0.58, 0.71) |\n",
       "\n"
      ],
      "text/plain": [
       "     [,1]             [,2]             [,3]             [,4]            \n",
       "PRS  0PRS.RAW         1ADJ.PC          2ADJ.ANC         3BR.AOU         \n",
       "AFR  0.59(0.51, 0.67) 0.59(0.51, 0.67) 0.59(0.5, 0.67)  0.59(0.51, 0.67)\n",
       "AFR2 0.6(0.5, 0.69)   0.59(0.49, 0.68) 0.59(0.5, 0.69)  0.59(0.5, 0.69) \n",
       "AMR  0.71(0.6, 0.83)  0.71(0.6, 0.83)  0.72(0.61, 0.83) 0.71(0.6, 0.82) \n",
       "AMR2 0.69(0.58, 0.8)  0.68(0.57, 0.8)  0.69(0.58, 0.8)  0.68(0.57, 0.8) \n",
       "EUR  0.63(0.59, 0.67) 0.63(0.59, 0.67) 0.63(0.59, 0.67) 0.63(0.59, 0.67)\n",
       "EUR2 0.64(0.59, 0.68) 0.64(0.59, 0.68) 0.63(0.59, 0.67) 0.63(0.59, 0.68)\n",
       "MID  0.53(0.4, 0.67)  0.53(0.4, 0.67)  0.54(0.41, 0.67) 0.53(0.4, 0.67) \n",
       "MID2 0.55(0.39, 0.7)  0.55(0.39, 0.7)  0.56(0.4, 0.71)  0.54(0.38, 0.69)\n",
       "OTH  0.63(0.56, 0.7)  0.63(0.56, 0.7)  0.63(0.56, 0.7)  0.63(0.56, 0.7) \n",
       "OTH2 0.65(0.58, 0.71) 0.64(0.57, 0.71) 0.64(0.58, 0.71) 0.63(0.56, 0.7) \n",
       "     [,5]            \n",
       "PRS  4BR.ANC         \n",
       "AFR  0.59(0.5, 0.67) \n",
       "AFR2 0.59(0.5, 0.69) \n",
       "AMR  0.72(0.61, 0.83)\n",
       "AMR2 0.7(0.59, 0.81) \n",
       "EUR  0.63(0.59, 0.67)\n",
       "EUR2 0.63(0.59, 0.68)\n",
       "MID  0.54(0.41, 0.67)\n",
       "MID2 0.56(0.4, 0.71) \n",
       "OTH  0.63(0.56, 0.7) \n",
       "OTH2 0.64(0.58, 0.71)"
      ]
     },
     "metadata": {},
     "output_type": "display_data"
    }
   ],
   "source": [
    "t(out.table)"
   ]
  }
 ],
 "metadata": {
  "kernelspec": {
   "display_name": "R",
   "language": "R",
   "name": "ir"
  },
  "language_info": {
   "codemirror_mode": "r",
   "file_extension": ".r",
   "mimetype": "text/x-r-source",
   "name": "R",
   "pygments_lexer": "r",
   "version": "4.3.1"
  },
  "toc": {
   "base_numbering": 1,
   "nav_menu": {
    "height": "300.994px",
    "width": "395.994px"
   },
   "number_sections": true,
   "sideBar": true,
   "skip_h1_title": false,
   "title_cell": "Table of Contents",
   "title_sidebar": "Contents",
   "toc_cell": false,
   "toc_position": {},
   "toc_section_display": true,
   "toc_window_display": false
  }
 },
 "nbformat": 4,
 "nbformat_minor": 2
}
