{
 "cells": [
  {
   "cell_type": "markdown",
   "metadata": {},
   "source": [
    "05 Plink commands\n",
    "\n",
    "notebook for shell and plink commands to get the SNPs used to calculate genome-wide PCs. The SNPs were provided by the BROAD\n",
    "\n",
    "The PLINK files were not copied over from the pre-production site, so I did not update file names. This code is to show how the QC on the SNPs was done. \n",
    "\n",
    "using standard VM"
   ]
  },
  {
   "cell_type": "code",
   "execution_count": 1,
   "metadata": {},
   "outputs": [
    {
     "data": {
      "text/plain": [
       "'gs://fc-secure-329f909f-3a71-416a-9c18-95db1c1f801d'"
      ]
     },
     "execution_count": 1,
     "metadata": {},
     "output_type": "execute_result"
    }
   ],
   "source": [
    "import os\n",
    "os.getenv(\"WORKSPACE_BUCKET\")"
   ]
  },
  {
   "cell_type": "code",
   "execution_count": 2,
   "metadata": {},
   "outputs": [
    {
     "name": "stdout",
     "output_type": "stream",
     "text": [
      "Copying gs://fc-secure-30fdbdfd-a46b-406d-9617-1bc69ae1da9d/data/PCSNPS/reference/plink_chr/chr1.bed...\n",
      "Copying gs://fc-secure-30fdbdfd-a46b-406d-9617-1bc69ae1da9d/data/PCSNPS/reference/plink_chr/chr1.bim...\n",
      "Copying gs://fc-secure-30fdbdfd-a46b-406d-9617-1bc69ae1da9d/data/PCSNPS/reference/plink_chr/chr1.fam...\n",
      "Copying gs://fc-secure-30fdbdfd-a46b-406d-9617-1bc69ae1da9d/data/PCSNPS/reference/plink_chr/chr10.bed...\n",
      "Copying gs://fc-secure-30fdbdfd-a46b-406d-9617-1bc69ae1da9d/data/PCSNPS/reference/plink_chr/chr13.bed...\n",
      "Copying gs://fc-secure-30fdbdfd-a46b-406d-9617-1bc69ae1da9d/data/PCSNPS/reference/plink_chr/chr10.bim...\n",
      "Copying gs://fc-secure-30fdbdfd-a46b-406d-9617-1bc69ae1da9d/data/PCSNPS/reference/plink_chr/chr11.bim...\n",
      "Copying gs://fc-secure-30fdbdfd-a46b-406d-9617-1bc69ae1da9d/data/PCSNPS/reference/plink_chr/chr10.fam...\n",
      "Copying gs://fc-secure-30fdbdfd-a46b-406d-9617-1bc69ae1da9d/data/PCSNPS/reference/plink_chr/chr11.bed...\n",
      "Copying gs://fc-secure-30fdbdfd-a46b-406d-9617-1bc69ae1da9d/data/PCSNPS/reference/plink_chr/chr14.bim...\n",
      "Copying gs://fc-secure-30fdbdfd-a46b-406d-9617-1bc69ae1da9d/data/PCSNPS/reference/plink_chr/chr13.bim...\n",
      "Copying gs://fc-secure-30fdbdfd-a46b-406d-9617-1bc69ae1da9d/data/PCSNPS/reference/plink_chr/chr14.fam...\n",
      "Copying gs://fc-secure-30fdbdfd-a46b-406d-9617-1bc69ae1da9d/data/PCSNPS/reference/plink_chr/chr12.fam...\n",
      "Copying gs://fc-secure-30fdbdfd-a46b-406d-9617-1bc69ae1da9d/data/PCSNPS/reference/plink_chr/chr12.bed...\n",
      "Copying gs://fc-secure-30fdbdfd-a46b-406d-9617-1bc69ae1da9d/data/PCSNPS/reference/plink_chr/chr15.bed...\n",
      "Copying gs://fc-secure-30fdbdfd-a46b-406d-9617-1bc69ae1da9d/data/PCSNPS/reference/plink_chr/chr11.fam...\n",
      "Copying gs://fc-secure-30fdbdfd-a46b-406d-9617-1bc69ae1da9d/data/PCSNPS/reference/plink_chr/chr15.bim...\n",
      "Copying gs://fc-secure-30fdbdfd-a46b-406d-9617-1bc69ae1da9d/data/PCSNPS/reference/plink_chr/chr12.bim...\n",
      "Copying gs://fc-secure-30fdbdfd-a46b-406d-9617-1bc69ae1da9d/data/PCSNPS/reference/plink_chr/chr13.fam...\n",
      "Copying gs://fc-secure-30fdbdfd-a46b-406d-9617-1bc69ae1da9d/data/PCSNPS/reference/plink_chr/chr14.bed...\n",
      "Copying gs://fc-secure-30fdbdfd-a46b-406d-9617-1bc69ae1da9d/data/PCSNPS/reference/plink_chr/chr15.fam...\n",
      "Copying gs://fc-secure-30fdbdfd-a46b-406d-9617-1bc69ae1da9d/data/PCSNPS/reference/plink_chr/chr16.bed...\n",
      "Copying gs://fc-secure-30fdbdfd-a46b-406d-9617-1bc69ae1da9d/data/PCSNPS/reference/plink_chr/chr16.bim...\n",
      "Copying gs://fc-secure-30fdbdfd-a46b-406d-9617-1bc69ae1da9d/data/PCSNPS/reference/plink_chr/chr16.fam...\n",
      "Copying gs://fc-secure-30fdbdfd-a46b-406d-9617-1bc69ae1da9d/data/PCSNPS/reference/plink_chr/chr17.bed...\n",
      "Copying gs://fc-secure-30fdbdfd-a46b-406d-9617-1bc69ae1da9d/data/PCSNPS/reference/plink_chr/chr17.bim...\n",
      "Copying gs://fc-secure-30fdbdfd-a46b-406d-9617-1bc69ae1da9d/data/PCSNPS/reference/plink_chr/chr18.bed...\n",
      "Copying gs://fc-secure-30fdbdfd-a46b-406d-9617-1bc69ae1da9d/data/PCSNPS/reference/plink_chr/chr17.fam...\n",
      "Copying gs://fc-secure-30fdbdfd-a46b-406d-9617-1bc69ae1da9d/data/PCSNPS/reference/plink_chr/chr18.fam...\n",
      "Copying gs://fc-secure-30fdbdfd-a46b-406d-9617-1bc69ae1da9d/data/PCSNPS/reference/plink_chr/chr18.bim...\n",
      "Copying gs://fc-secure-30fdbdfd-a46b-406d-9617-1bc69ae1da9d/data/PCSNPS/reference/plink_chr/chr19.bed...\n",
      "Copying gs://fc-secure-30fdbdfd-a46b-406d-9617-1bc69ae1da9d/data/PCSNPS/reference/plink_chr/chr19.bim...\n",
      "Copying gs://fc-secure-30fdbdfd-a46b-406d-9617-1bc69ae1da9d/data/PCSNPS/reference/plink_chr/chr19.fam...\n",
      "Copying gs://fc-secure-30fdbdfd-a46b-406d-9617-1bc69ae1da9d/data/PCSNPS/reference/plink_chr/chr2.bed...\n",
      "Copying gs://fc-secure-30fdbdfd-a46b-406d-9617-1bc69ae1da9d/data/PCSNPS/reference/plink_chr/chr2.bim...\n",
      "Copying gs://fc-secure-30fdbdfd-a46b-406d-9617-1bc69ae1da9d/data/PCSNPS/reference/plink_chr/chr2.fam...\n",
      "Copying gs://fc-secure-30fdbdfd-a46b-406d-9617-1bc69ae1da9d/data/PCSNPS/reference/plink_chr/chr20.bed...\n",
      "Copying gs://fc-secure-30fdbdfd-a46b-406d-9617-1bc69ae1da9d/data/PCSNPS/reference/plink_chr/chr20.bim...\n",
      "Copying gs://fc-secure-30fdbdfd-a46b-406d-9617-1bc69ae1da9d/data/PCSNPS/reference/plink_chr/chr20.fam...\n",
      "Copying gs://fc-secure-30fdbdfd-a46b-406d-9617-1bc69ae1da9d/data/PCSNPS/reference/plink_chr/chr21.bed...\n",
      "Copying gs://fc-secure-30fdbdfd-a46b-406d-9617-1bc69ae1da9d/data/PCSNPS/reference/plink_chr/chr21.bim...\n",
      "Copying gs://fc-secure-30fdbdfd-a46b-406d-9617-1bc69ae1da9d/data/PCSNPS/reference/plink_chr/chr21.fam...\n",
      "Copying gs://fc-secure-30fdbdfd-a46b-406d-9617-1bc69ae1da9d/data/PCSNPS/reference/plink_chr/chr22.bim...\n",
      "Copying gs://fc-secure-30fdbdfd-a46b-406d-9617-1bc69ae1da9d/data/PCSNPS/reference/plink_chr/chr22.bed...\n",
      "Copying gs://fc-secure-30fdbdfd-a46b-406d-9617-1bc69ae1da9d/data/PCSNPS/reference/plink_chr/chr22.fam...\n",
      "Copying gs://fc-secure-30fdbdfd-a46b-406d-9617-1bc69ae1da9d/data/PCSNPS/reference/plink_chr/chr3.bim...\n",
      "Copying gs://fc-secure-30fdbdfd-a46b-406d-9617-1bc69ae1da9d/data/PCSNPS/reference/plink_chr/chr3.bed...\n",
      "Copying gs://fc-secure-30fdbdfd-a46b-406d-9617-1bc69ae1da9d/data/PCSNPS/reference/plink_chr/chr3.fam...\n",
      "Copying gs://fc-secure-30fdbdfd-a46b-406d-9617-1bc69ae1da9d/data/PCSNPS/reference/plink_chr/chr4.bed...\n",
      "Copying gs://fc-secure-30fdbdfd-a46b-406d-9617-1bc69ae1da9d/data/PCSNPS/reference/plink_chr/chr4.bim...\n",
      "Copying gs://fc-secure-30fdbdfd-a46b-406d-9617-1bc69ae1da9d/data/PCSNPS/reference/plink_chr/chr4.fam...\n",
      "Copying gs://fc-secure-30fdbdfd-a46b-406d-9617-1bc69ae1da9d/data/PCSNPS/reference/plink_chr/chr5.bed...\n",
      "Copying gs://fc-secure-30fdbdfd-a46b-406d-9617-1bc69ae1da9d/data/PCSNPS/reference/plink_chr/chr5.bim...\n",
      "Copying gs://fc-secure-30fdbdfd-a46b-406d-9617-1bc69ae1da9d/data/PCSNPS/reference/plink_chr/chr5.fam...\n",
      "Copying gs://fc-secure-30fdbdfd-a46b-406d-9617-1bc69ae1da9d/data/PCSNPS/reference/plink_chr/chr6.bim...\n",
      "Copying gs://fc-secure-30fdbdfd-a46b-406d-9617-1bc69ae1da9d/data/PCSNPS/reference/plink_chr/chr6.bed...\n",
      "Copying gs://fc-secure-30fdbdfd-a46b-406d-9617-1bc69ae1da9d/data/PCSNPS/reference/plink_chr/chr7.bed...\n",
      "Copying gs://fc-secure-30fdbdfd-a46b-406d-9617-1bc69ae1da9d/data/PCSNPS/reference/plink_chr/chr6.fam...\n",
      "Copying gs://fc-secure-30fdbdfd-a46b-406d-9617-1bc69ae1da9d/data/PCSNPS/reference/plink_chr/chr7.bim...\n",
      "Copying gs://fc-secure-30fdbdfd-a46b-406d-9617-1bc69ae1da9d/data/PCSNPS/reference/plink_chr/chr7.fam...\n",
      "Copying gs://fc-secure-30fdbdfd-a46b-406d-9617-1bc69ae1da9d/data/PCSNPS/reference/plink_chr/chr8.bed...\n",
      "Copying gs://fc-secure-30fdbdfd-a46b-406d-9617-1bc69ae1da9d/data/PCSNPS/reference/plink_chr/chr9.bed...\n",
      "Copying gs://fc-secure-30fdbdfd-a46b-406d-9617-1bc69ae1da9d/data/PCSNPS/reference/plink_chr/chr8.fam...\n",
      "Copying gs://fc-secure-30fdbdfd-a46b-406d-9617-1bc69ae1da9d/data/PCSNPS/reference/plink_chr/chr8.bim...\n",
      "Copying gs://fc-secure-30fdbdfd-a46b-406d-9617-1bc69ae1da9d/data/PCSNPS/reference/plink_chr/chr9.bim...\n",
      "Copying gs://fc-secure-30fdbdfd-a46b-406d-9617-1bc69ae1da9d/data/PCSNPS/reference/plink_chr/chr9.fam...\n",
      "| [66/66 files][374.6 MiB/374.6 MiB] 100% Done                                  \n",
      "Operation completed over 66 objects/374.6 MiB.                                   \n"
     ]
    }
   ],
   "source": [
    "# first copy over the files I need to work with first\n",
    "!gsutil -m cp gs://fc-secure-30fdbdfd-a46b-406d-9617-1bc69ae1da9d/data/PCSNPS/reference/plink_chr/chr*.* ."
   ]
  },
  {
   "cell_type": "code",
   "execution_count": null,
   "metadata": {},
   "outputs": [],
   "source": [
    "# may need to remove positions with more than one alelle (duplicate positions?) first. Or I may do this in R. \n"
   ]
  },
  {
   "cell_type": "code",
   "execution_count": 13,
   "metadata": {},
   "outputs": [
    {
     "name": "stdout",
     "output_type": "stream",
     "text": [
      "chr1.bed chr1.bim chr1.fam\n",
      "chr2.bed chr2.bim chr2.fam\n",
      "chr3.bed chr3.bim chr3.fam\n",
      "chr4.bed chr4.bim chr4.fam\n",
      "chr5.bed chr5.bim chr5.fam\n",
      "chr6.bed chr6.bim chr6.fam\n",
      "chr7.bed chr7.bim chr7.fam\n",
      "chr8.bed chr8.bim chr8.fam\n",
      "chr9.bed chr9.bim chr9.fam\n",
      "chr10.bed chr10.bim chr10.fam\n",
      "chr11.bed chr11.bim chr11.fam\n",
      "chr12.bed chr12.bim chr12.fam\n",
      "chr13.bed chr13.bim chr13.fam\n",
      "chr14.bed chr14.bim chr14.fam\n",
      "chr15.bed chr15.bim chr15.fam\n",
      "chr16.bed chr16.bim chr16.fam\n",
      "chr17.bed chr17.bim chr17.fam\n",
      "chr18.bed chr18.bim chr18.fam\n",
      "chr19.bed chr19.bim chr19.fam\n",
      "chr20.bed chr20.bim chr20.fam\n",
      "chr21.bed chr21.bim chr21.fam\n",
      "chr22.bed chr22.bim chr22.fam\n"
     ]
    }
   ],
   "source": [
    "%%bash\n",
    "rm bed_list.txt\n",
    "for i in $(seq 1 22) \n",
    "do \n",
    "echo \"chr$i.bed chr$i.bim chr$i.fam\" >> bed_list.txt\n",
    "done\n",
    "head -n 22 bed_list.txt\n",
    "#tail bed_list.txt"
   ]
  },
  {
   "cell_type": "code",
   "execution_count": 14,
   "metadata": {},
   "outputs": [
    {
     "name": "stdout",
     "output_type": "stream",
     "text": [
      "PLINK v1.90b6.22 64-bit (16 Apr 2021)          www.cog-genomics.org/plink/1.9/\n",
      "(C) 2005-2021 Shaun Purcell, Christopher Chang   GNU General Public License v3\n",
      "Logging to all_ref_PCSNPS.log.\n",
      "Options in effect:\n",
      "  --make-bed\n",
      "  --merge-list bed_list.txt\n",
      "  --out all_ref_PCSNPS\n",
      "\n",
      "14998 MB RAM detected; reserving 7499 MB for main workspace.\n",
      "Warning: Variants 'chr1:971630:C:T' and 'chr1:971630:C:G' have the same\n",
      "position.\n",
      "Warning: Variants 'chr1:1477279:G:T' and 'chr1:1477279:G:A' have the same\n",
      "position.\n",
      "Warning: Variants 'chr1:1594277:G:T' and 'chr1:1594277:G:A' have the same\n",
      "position.\n",
      "9509 more same-position warnings: see log file.\n",
      "Performing single-pass merge (4151 people, 362301 variants).\n",
      "Merged fileset written to all_ref_PCSNPS-merge.bed + all_ref_PCSNPS-merge.bim +\n",
      "all_ref_PCSNPS-merge.fam .\n",
      "362301 variants loaded from .bim file.\n",
      "4151 people (0 males, 0 females, 4151 ambiguous) loaded from .fam.\n",
      "Ambiguous sex IDs written to all_ref_PCSNPS.nosex .\n",
      "Using 1 thread (no multithreaded calculations invoked).\n",
      "Before main variant filters, 4151 founders and 0 nonfounders present.\n",
      "Calculating allele frequencies... 10111213141516171819202122232425262728293031323334353637383940414243444546474849505152535455565758596061626364656667686970717273747576777879808182838485868788899091929394959697989 done.\n",
      "Total genotyping rate is 0.9984.\n",
      "362301 variants and 4151 people pass filters and QC.\n",
      "Note: No phenotypes present.\n",
      "--make-bed to all_ref_PCSNPS.bed + all_ref_PCSNPS.bim + all_ref_PCSNPS.fam ...\n",
      "101112131415161718192021222324252627282930313233343536373839404142434445464748495051525354555657585960616263646566676869707172737475767778798081828384858687888990919293949596979899done.\n",
      "all_ref_PCSNPS.bed  all_ref_PCSNPS.fam\tall_ref_PCSNPS.nosex\n",
      "all_ref_PCSNPS.bim  all_ref_PCSNPS.log\n"
     ]
    }
   ],
   "source": [
    "!plink --merge-list bed_list.txt --make-bed --out all_ref_PCSNPS\n",
    "!ls all_ref_PCSNPS*"
   ]
  },
  {
   "cell_type": "code",
   "execution_count": 23,
   "metadata": {},
   "outputs": [
    {
     "name": "stdout",
     "output_type": "stream",
     "text": [
      "Copying gs://fc-secure-30fdbdfd-a46b-406d-9617-1bc69ae1da9d/data/PCSNPS/alpha3/plink_chr/chr1.fam...\n",
      "Copying gs://fc-secure-30fdbdfd-a46b-406d-9617-1bc69ae1da9d/data/PCSNPS/alpha3/plink_chr/chr1.bed...\n",
      "Copying gs://fc-secure-30fdbdfd-a46b-406d-9617-1bc69ae1da9d/data/PCSNPS/alpha3/plink_chr/chr1.bim...\n",
      "Copying gs://fc-secure-30fdbdfd-a46b-406d-9617-1bc69ae1da9d/data/PCSNPS/alpha3/plink_chr/chr10.bed...\n",
      "Copying gs://fc-secure-30fdbdfd-a46b-406d-9617-1bc69ae1da9d/data/PCSNPS/alpha3/plink_chr/chr10.bim...\n",
      "Copying gs://fc-secure-30fdbdfd-a46b-406d-9617-1bc69ae1da9d/data/PCSNPS/alpha3/plink_chr/chr10.fam...\n",
      "Copying gs://fc-secure-30fdbdfd-a46b-406d-9617-1bc69ae1da9d/data/PCSNPS/alpha3/plink_chr/chr12.bim...\n",
      "Copying gs://fc-secure-30fdbdfd-a46b-406d-9617-1bc69ae1da9d/data/PCSNPS/alpha3/plink_chr/chr11.bim...\n",
      "Copying gs://fc-secure-30fdbdfd-a46b-406d-9617-1bc69ae1da9d/data/PCSNPS/alpha3/plink_chr/chr13.bed...\n",
      "Copying gs://fc-secure-30fdbdfd-a46b-406d-9617-1bc69ae1da9d/data/PCSNPS/alpha3/plink_chr/chr12.fam...\n",
      "Copying gs://fc-secure-30fdbdfd-a46b-406d-9617-1bc69ae1da9d/data/PCSNPS/alpha3/plink_chr/chr11.bed...\n",
      "Copying gs://fc-secure-30fdbdfd-a46b-406d-9617-1bc69ae1da9d/data/PCSNPS/alpha3/plink_chr/chr11.fam...\n",
      "Copying gs://fc-secure-30fdbdfd-a46b-406d-9617-1bc69ae1da9d/data/PCSNPS/alpha3/plink_chr/chr14.bed...\n",
      "Copying gs://fc-secure-30fdbdfd-a46b-406d-9617-1bc69ae1da9d/data/PCSNPS/alpha3/plink_chr/chr14.bim...\n",
      "Copying gs://fc-secure-30fdbdfd-a46b-406d-9617-1bc69ae1da9d/data/PCSNPS/alpha3/plink_chr/chr15.bed...\n",
      "Copying gs://fc-secure-30fdbdfd-a46b-406d-9617-1bc69ae1da9d/data/PCSNPS/alpha3/plink_chr/chr14.fam...\n",
      "Copying gs://fc-secure-30fdbdfd-a46b-406d-9617-1bc69ae1da9d/data/PCSNPS/alpha3/plink_chr/chr12.bed...\n",
      "Copying gs://fc-secure-30fdbdfd-a46b-406d-9617-1bc69ae1da9d/data/PCSNPS/alpha3/plink_chr/chr13.bim...\n",
      "Copying gs://fc-secure-30fdbdfd-a46b-406d-9617-1bc69ae1da9d/data/PCSNPS/alpha3/plink_chr/chr15.bim...\n",
      "Copying gs://fc-secure-30fdbdfd-a46b-406d-9617-1bc69ae1da9d/data/PCSNPS/alpha3/plink_chr/chr13.fam...\n",
      "Copying gs://fc-secure-30fdbdfd-a46b-406d-9617-1bc69ae1da9d/data/PCSNPS/alpha3/plink_chr/chr15.fam...\n",
      "Copying gs://fc-secure-30fdbdfd-a46b-406d-9617-1bc69ae1da9d/data/PCSNPS/alpha3/plink_chr/chr16.bed...\n",
      "Copying gs://fc-secure-30fdbdfd-a46b-406d-9617-1bc69ae1da9d/data/PCSNPS/alpha3/plink_chr/chr16.bim...\n",
      "Copying gs://fc-secure-30fdbdfd-a46b-406d-9617-1bc69ae1da9d/data/PCSNPS/alpha3/plink_chr/chr16.fam...\n",
      "Copying gs://fc-secure-30fdbdfd-a46b-406d-9617-1bc69ae1da9d/data/PCSNPS/alpha3/plink_chr/chr17.bed...\n",
      "Copying gs://fc-secure-30fdbdfd-a46b-406d-9617-1bc69ae1da9d/data/PCSNPS/alpha3/plink_chr/chr17.bim...\n",
      "Copying gs://fc-secure-30fdbdfd-a46b-406d-9617-1bc69ae1da9d/data/PCSNPS/alpha3/plink_chr/chr17.fam...\n",
      "Copying gs://fc-secure-30fdbdfd-a46b-406d-9617-1bc69ae1da9d/data/PCSNPS/alpha3/plink_chr/chr18.bed...\n",
      "Copying gs://fc-secure-30fdbdfd-a46b-406d-9617-1bc69ae1da9d/data/PCSNPS/alpha3/plink_chr/chr19.bed...\n",
      "Copying gs://fc-secure-30fdbdfd-a46b-406d-9617-1bc69ae1da9d/data/PCSNPS/alpha3/plink_chr/chr18.bim...\n",
      "Copying gs://fc-secure-30fdbdfd-a46b-406d-9617-1bc69ae1da9d/data/PCSNPS/alpha3/plink_chr/chr18.fam...\n",
      "Copying gs://fc-secure-30fdbdfd-a46b-406d-9617-1bc69ae1da9d/data/PCSNPS/alpha3/plink_chr/chr19.bim...\n",
      "Copying gs://fc-secure-30fdbdfd-a46b-406d-9617-1bc69ae1da9d/data/PCSNPS/alpha3/plink_chr/chr19.fam...\n",
      "Copying gs://fc-secure-30fdbdfd-a46b-406d-9617-1bc69ae1da9d/data/PCSNPS/alpha3/plink_chr/chr2.bim...\n",
      "Copying gs://fc-secure-30fdbdfd-a46b-406d-9617-1bc69ae1da9d/data/PCSNPS/alpha3/plink_chr/chr2.bed...\n",
      "Copying gs://fc-secure-30fdbdfd-a46b-406d-9617-1bc69ae1da9d/data/PCSNPS/alpha3/plink_chr/chr2.fam...\n",
      "Copying gs://fc-secure-30fdbdfd-a46b-406d-9617-1bc69ae1da9d/data/PCSNPS/alpha3/plink_chr/chr20.bed...\n",
      "Copying gs://fc-secure-30fdbdfd-a46b-406d-9617-1bc69ae1da9d/data/PCSNPS/alpha3/plink_chr/chr20.bim...\n",
      "Copying gs://fc-secure-30fdbdfd-a46b-406d-9617-1bc69ae1da9d/data/PCSNPS/alpha3/plink_chr/chr20.fam...\n",
      "Copying gs://fc-secure-30fdbdfd-a46b-406d-9617-1bc69ae1da9d/data/PCSNPS/alpha3/plink_chr/chr21.bed...\n",
      "Copying gs://fc-secure-30fdbdfd-a46b-406d-9617-1bc69ae1da9d/data/PCSNPS/alpha3/plink_chr/chr21.bim...\n",
      "Copying gs://fc-secure-30fdbdfd-a46b-406d-9617-1bc69ae1da9d/data/PCSNPS/alpha3/plink_chr/chr21.fam...\n",
      "Copying gs://fc-secure-30fdbdfd-a46b-406d-9617-1bc69ae1da9d/data/PCSNPS/alpha3/plink_chr/chr22.bed...\n",
      "Copying gs://fc-secure-30fdbdfd-a46b-406d-9617-1bc69ae1da9d/data/PCSNPS/alpha3/plink_chr/chr22.bim...\n",
      "Copying gs://fc-secure-30fdbdfd-a46b-406d-9617-1bc69ae1da9d/data/PCSNPS/alpha3/plink_chr/chr22.fam...\n",
      "Copying gs://fc-secure-30fdbdfd-a46b-406d-9617-1bc69ae1da9d/data/PCSNPS/alpha3/plink_chr/chr3.bim...\n",
      "Copying gs://fc-secure-30fdbdfd-a46b-406d-9617-1bc69ae1da9d/data/PCSNPS/alpha3/plink_chr/chr3.bed...\n",
      "Copying gs://fc-secure-30fdbdfd-a46b-406d-9617-1bc69ae1da9d/data/PCSNPS/alpha3/plink_chr/chr3.fam...\n",
      "Copying gs://fc-secure-30fdbdfd-a46b-406d-9617-1bc69ae1da9d/data/PCSNPS/alpha3/plink_chr/chr4.bed...\n",
      "Copying gs://fc-secure-30fdbdfd-a46b-406d-9617-1bc69ae1da9d/data/PCSNPS/alpha3/plink_chr/chr4.bim...\n",
      "Copying gs://fc-secure-30fdbdfd-a46b-406d-9617-1bc69ae1da9d/data/PCSNPS/alpha3/plink_chr/chr4.fam...\n",
      "Copying gs://fc-secure-30fdbdfd-a46b-406d-9617-1bc69ae1da9d/data/PCSNPS/alpha3/plink_chr/chr5.bed...\n",
      "Copying gs://fc-secure-30fdbdfd-a46b-406d-9617-1bc69ae1da9d/data/PCSNPS/alpha3/plink_chr/chr5.bim...\n",
      "Copying gs://fc-secure-30fdbdfd-a46b-406d-9617-1bc69ae1da9d/data/PCSNPS/alpha3/plink_chr/chr5.fam...\n",
      "Copying gs://fc-secure-30fdbdfd-a46b-406d-9617-1bc69ae1da9d/data/PCSNPS/alpha3/plink_chr/chr6.bed...\n",
      "Copying gs://fc-secure-30fdbdfd-a46b-406d-9617-1bc69ae1da9d/data/PCSNPS/alpha3/plink_chr/chr6.bim...\n",
      "Copying gs://fc-secure-30fdbdfd-a46b-406d-9617-1bc69ae1da9d/data/PCSNPS/alpha3/plink_chr/chr6.fam...\n",
      "Copying gs://fc-secure-30fdbdfd-a46b-406d-9617-1bc69ae1da9d/data/PCSNPS/alpha3/plink_chr/chr7.bed...\n",
      "Copying gs://fc-secure-30fdbdfd-a46b-406d-9617-1bc69ae1da9d/data/PCSNPS/alpha3/plink_chr/chr7.bim...\n",
      "Copying gs://fc-secure-30fdbdfd-a46b-406d-9617-1bc69ae1da9d/data/PCSNPS/alpha3/plink_chr/chr7.fam...\n",
      "Copying gs://fc-secure-30fdbdfd-a46b-406d-9617-1bc69ae1da9d/data/PCSNPS/alpha3/plink_chr/chr8.bed...\n",
      "Copying gs://fc-secure-30fdbdfd-a46b-406d-9617-1bc69ae1da9d/data/PCSNPS/alpha3/plink_chr/chr8.bim...\n",
      "Copying gs://fc-secure-30fdbdfd-a46b-406d-9617-1bc69ae1da9d/data/PCSNPS/alpha3/plink_chr/chr8.fam...\n",
      "Copying gs://fc-secure-30fdbdfd-a46b-406d-9617-1bc69ae1da9d/data/PCSNPS/alpha3/plink_chr/chr9.bed...\n",
      "Copying gs://fc-secure-30fdbdfd-a46b-406d-9617-1bc69ae1da9d/data/PCSNPS/alpha3/plink_chr/chr9.bim...\n",
      "Copying gs://fc-secure-30fdbdfd-a46b-406d-9617-1bc69ae1da9d/data/PCSNPS/alpha3/plink_chr/chr9.fam...\n",
      "| [66/66 files][  9.6 GiB/  9.6 GiB] 100% Done  65.9 MiB/s ETA 00:00:00         \n",
      "Operation completed over 66 objects/9.6 GiB.                                     \n"
     ]
    }
   ],
   "source": [
    "# repeat with the All of Us Data\n",
    "!rm chr*.*\n",
    "!gsutil -m cp gs://fc-secure-30fdbdfd-a46b-406d-9617-1bc69ae1da9d/data/PCSNPS/alpha3/plink_chr/chr*.* ."
   ]
  },
  {
   "cell_type": "code",
   "execution_count": 24,
   "metadata": {},
   "outputs": [
    {
     "name": "stdout",
     "output_type": "stream",
     "text": [
      "PLINK v1.90b6.22 64-bit (16 Apr 2021)          www.cog-genomics.org/plink/1.9/\n",
      "(C) 2005-2021 Shaun Purcell, Christopher Chang   GNU General Public License v3\n",
      "Logging to all_aou_PCSNPS.log.\n",
      "Options in effect:\n",
      "  --make-bed\n",
      "  --merge-list bed_list.txt\n",
      "  --out all_aou_PCSNPS\n",
      "\n",
      "14998 MB RAM detected; reserving 7499 MB for main workspace.\n",
      "Warning: Variants 'chr1:801883:G:T' and 'chr1:801883:G:A' have the same\n",
      "position.\n",
      "Warning: Variants 'chr1:866563:C:G' and 'chr1:866563:C:A' have the same\n",
      "position.\n",
      "Warning: Variants 'chr1:866563:C:T' and 'chr1:866563:C:G' have the same\n",
      "position.\n",
      "61626 more same-position warnings: see log file.\n",
      "Performing 2-pass merge (98622 people, 211973/414687 variants per pass).\n",
      "Pass 1 complete.                              \n",
      "Merged fileset written to all_aou_PCSNPS-merge.bed + all_aou_PCSNPS-merge.bim +\n",
      "all_aou_PCSNPS-merge.fam .\n",
      "414687 variants loaded from .bim file.\n",
      "98622 people (0 males, 0 females, 98622 ambiguous) loaded from .fam.\n",
      "Ambiguous sex IDs written to all_aou_PCSNPS.nosex .\n",
      "Using 1 thread (no multithreaded calculations invoked).\n",
      "Before main variant filters, 98622 founders and 0 nonfounders present.\n",
      "Calculating allele frequencies... 10111213141516171819202122232425262728293031323334353637383940414243444546474849505152535455565758596061626364656667686970717273747576777879808182838485868788899091929394959697989 done.\n",
      "Total genotyping rate is 0.998856.\n",
      "414687 variants and 98622 people pass filters and QC.\n",
      "Note: No phenotypes present.\n",
      "--make-bed to all_aou_PCSNPS.bed + all_aou_PCSNPS.bim + all_aou_PCSNPS.fam ...\n",
      "101112131415161718192021222324252627282930313233343536373839404142434445464748495051525354555657585960616263646566676869707172737475767778798081828384858687888990919293949596979899done.\n",
      "all_aou_PCSNPS.bed  all_aou_PCSNPS.fam\tall_aou_PCSNPS.nosex\n",
      "all_aou_PCSNPS.bim  all_aou_PCSNPS.log\n"
     ]
    }
   ],
   "source": [
    "!plink --merge-list bed_list.txt --make-bed --out all_aou_PCSNPS\n",
    "!ls all_aou_PCSNPS*"
   ]
  },
  {
   "cell_type": "code",
   "execution_count": 25,
   "metadata": {},
   "outputs": [
    {
     "name": "stdout",
     "output_type": "stream",
     "text": [
      "all_ref_PCSNPS.bed all_ref_PCSNPS.bim all_ref_PCSNPS.fam\n",
      "all_aou_PCSNPS.bed all_aou_PCSNPS.bim all_aou_PCSNPS.fam\n"
     ]
    },
    {
     "name": "stderr",
     "output_type": "stream",
     "text": [
      "rm: cannot remove 'data_list.txt': No such file or directory\n"
     ]
    }
   ],
   "source": [
    "%%bash\n",
    "rm data_list.txt\n",
    "echo \"all_ref_PCSNPS.bed all_ref_PCSNPS.bim all_ref_PCSNPS.fam\" >> data_list.txt\n",
    "echo \"all_aou_PCSNPS.bed all_aou_PCSNPS.bim all_aou_PCSNPS.fam\" >> data_list.txt\n",
    "head data_list.txt"
   ]
  },
  {
   "cell_type": "code",
   "execution_count": 49,
   "metadata": {},
   "outputs": [
    {
     "name": "stdout",
     "output_type": "stream",
     "text": [
      "all_ref_PCSNPS.bed all_ref_PCSNPS.bim all_ref_PCSNPS.fam\r\n",
      "all_aou_PCSNPS.bed all_aou_PCSNPS.bim all_aou_PCSNPS.fam\r\n"
     ]
    }
   ],
   "source": [
    "!head data_list.txt"
   ]
  },
  {
   "cell_type": "code",
   "execution_count": 50,
   "metadata": {},
   "outputs": [
    {
     "name": "stdout",
     "output_type": "stream",
     "text": [
      "PLINK v1.90b6.22 64-bit (16 Apr 2021)          www.cog-genomics.org/plink/1.9/\n",
      "(C) 2005-2021 Shaun Purcell, Christopher Chang   GNU General Public License v3\n",
      "Logging to all_combined_PCSNPS.log.\n",
      "Options in effect:\n",
      "  --list-duplicate-vars\n",
      "  --make-bed\n",
      "  --merge-list data_list.txt\n",
      "  --out all_combined_PCSNPS\n",
      "\n",
      "14998 MB RAM detected; reserving 7499 MB for main workspace.\n",
      "Warning: Variants 'chr1:801883:G:T' and 'chr1:801883:G:A' have the same\n",
      "position.\n",
      "Warning: Variants 'chr1:866563:C:G' and 'chr1:866563:C:A' have the same\n",
      "position.\n",
      "Warning: Variants 'chr1:866563:C:T' and 'chr1:866563:C:G' have the same\n",
      "position.\n",
      "64730 more same-position warnings: see log file.\n",
      "Performing 3-pass merge (102773 people, 203361/418392 variants per pass).\n",
      "Pass 1 complete.                              \n",
      "Pass 2 complete.                              \n",
      "Merged fileset written to all_combined_PCSNPS-merge.bed +\n",
      "all_combined_PCSNPS-merge.bim + all_combined_PCSNPS-merge.fam .\n",
      "418392 variants loaded from .bim file.\n",
      "102773 people (0 males, 0 females, 102773 ambiguous) loaded from .fam.\n",
      "Ambiguous sex IDs written to all_combined_PCSNPS.nosex .\n",
      "Using 1 thread (no multithreaded calculations invoked).\n",
      "Before main variant filters, 102773 founders and 0 nonfounders present.\n",
      "Calculating allele frequencies... 10111213141516171819202122232425262728293031323334353637383940414243444546474849505152535455565758596061626364656667686970717273747576777879808182838485868788899091929394959697989 done.\n",
      "Total genotyping rate is 0.984943.\n",
      "418392 variants and 102773 people pass filters and QC.\n",
      "Note: No phenotypes present.\n",
      "--list-duplicate-vars report written to all_combined_PCSNPS.dupvar .\n",
      "--make-bed to all_combined_PCSNPS.bed + all_combined_PCSNPS.bim +\n",
      "all_combined_PCSNPS.fam ... 101112131415161718192021222324252627282930313233343536373839404142434445464748495051525354555657585960616263646566676869707172737475767778798081828384858687888990919293949596979899done.\n",
      "all_combined_PCSNPS.bed  all_combined_PCSNPS.dupvar  all_combined_PCSNPS.log\n",
      "all_combined_PCSNPS.bim  all_combined_PCSNPS.fam     all_combined_PCSNPS.nosex\n"
     ]
    }
   ],
   "source": [
    "# may need to add flag to list all duplicate positions\n",
    "!plink --merge-list data_list.txt --list-duplicate-vars --make-bed --out all_combined_PCSNPS\n",
    "!ls all_combined_PCSNPS.*"
   ]
  },
  {
   "cell_type": "code",
   "execution_count": 54,
   "metadata": {},
   "outputs": [
    {
     "name": "stdout",
     "output_type": "stream",
     "text": [
      " 129478  582748 5648065 all_combined_PCSNPS.log\n",
      " 1  4 20 all_combined_PCSNPS.dupvar\n",
      "PLINK v1.90b6.22 64-bit (16 Apr 2021)\n",
      "Options in effect:\n",
      "  --list-duplicate-vars\n",
      "  --make-bed\n",
      "  --merge-list data_list.txt\n",
      "  --out all_combined_PCSNPS\n",
      "\n",
      "Hostname: 06b6fe812a47\n",
      "Working directory: /home/jupyter/workspaces/crcprsanalysisinteractivenotebooks\n",
      "Start time: Thu Jan 19 17:44:15 2023\n",
      "\n",
      "Random number seed: 1674150255\n",
      "14998 MB RAM detected; reserving 7499 MB for main workspace.\n",
      "Warning: Variants 'chr1:801883:G:T' and 'chr1:801883:G:A' have the same\n",
      "position.\n",
      "Warning: Variants 'chr1:866563:C:G' and 'chr1:866563:C:A' have the same\n",
      "position.\n",
      "Warning: Variants 'chr1:866563:C:T' and 'chr1:866563:C:G' have the same\n",
      "position.\n",
      "Warning: Variants 'chr1:889018:A:T' and 'chr1:889018:A:C' have the same\n"
     ]
    }
   ],
   "source": [
    "!wc all_combined_PCSNPS.log\n",
    "!wc all_combined_PCSNPS.dupvar\n",
    "!head -n 20 all_combined_PCSNPS.log"
   ]
  },
  {
   "cell_type": "code",
   "execution_count": 55,
   "metadata": {},
   "outputs": [],
   "source": [
    "!grep \"Warning: Variants\"  all_combined_PCSNPS.log > all_combined_PCSNPS_dup_pos.txt"
   ]
  },
  {
   "cell_type": "code",
   "execution_count": 56,
   "metadata": {},
   "outputs": [
    {
     "name": "stdout",
     "output_type": "stream",
     "text": [
      "  64733  517884 4999662 all_combined_PCSNPS_dup_pos.txt\n",
      "Warning: Variants 'chr1:801883:G:T' and 'chr1:801883:G:A' have the same\n",
      "Warning: Variants 'chr1:866563:C:G' and 'chr1:866563:C:A' have the same\n",
      "Warning: Variants 'chr1:866563:C:T' and 'chr1:866563:C:G' have the same\n",
      "Warning: Variants 'chr1:889018:A:T' and 'chr1:889018:A:C' have the same\n",
      "Warning: Variants 'chr1:899373:G:C' and 'chr1:899373:G:A' have the same\n",
      "Warning: Variants 'chr1:927303:G:C' and 'chr1:927303:G:A' have the same\n",
      "Warning: Variants 'chr1:971630:C:T' and 'chr1:971630:C:G' have the same\n",
      "Warning: Variants 'chr1:1022637:A:G' and 'chr1:1022637:A:C' have the same\n",
      "Warning: Variants 'chr1:1033565:G:C' and 'chr1:1033565:G:A' have the same\n",
      "Warning: Variants 'chr1:1130649:G:T' and 'chr1:1130649:G:A' have the same\n"
     ]
    }
   ],
   "source": [
    "!wc all_combined_PCSNPS_dup_pos.txt\n",
    "!head all_combined_PCSNPS_dup_pos.txt"
   ]
  },
  {
   "cell_type": "code",
   "execution_count": 58,
   "metadata": {},
   "outputs": [
    {
     "name": "stdout",
     "output_type": "stream",
     "text": [
      "1\tchr1:115746:C:T\t0\t115746\tT\tC\r\n",
      "1\tchr1:801883:G:A\t0\t801883\tA\tG\r\n",
      "1\tchr1:801883:G:T\t0\t801883\tT\tG\r\n",
      "1\tchr1:819049:T:G\t0\t819049\tG\tT\r\n",
      "1\tchr1:826940:C:T\t0\t826940\tT\tC\r\n",
      "1\tchr1:833994:G:A\t0\t833994\tA\tG\r\n",
      "1\tchr1:838618:C:T\t0\t838618\tT\tC\r\n",
      "1\tchr1:866563:C:A\t0\t866563\tA\tC\r\n",
      "1\tchr1:866563:C:G\t0\t866563\tG\tC\r\n",
      "1\tchr1:866563:C:T\t0\t866563\tC\tT\r\n"
     ]
    }
   ],
   "source": [
    "# can use the final list of SNPs and compare with the duplicate list to determine which ones I want to remove later on\n",
    "!head all_combined_PCSNPS.bim"
   ]
  },
  {
   "cell_type": "code",
   "execution_count": 59,
   "metadata": {},
   "outputs": [
    {
     "name": "stdout",
     "output_type": "stream",
     "text": [
      "PLINK v1.90b6.22 64-bit (16 Apr 2021)          www.cog-genomics.org/plink/1.9/\n",
      "(C) 2005-2021 Shaun Purcell, Christopher Chang   GNU General Public License v3\n",
      "Logging to all_combined_PCSNPS_filter.log.\n",
      "Options in effect:\n",
      "  --bfile all_combined_PCSNPS\n",
      "  --geno 0.001\n",
      "  --mac 100\n",
      "  --make-bed\n",
      "  --out all_combined_PCSNPS_filter\n",
      "\n",
      "14998 MB RAM detected; reserving 7499 MB for main workspace.\n",
      "418392 variants loaded from .bim file.\n",
      "102773 people (0 males, 0 females, 102773 ambiguous) loaded from .fam.\n",
      "Ambiguous sex IDs written to all_combined_PCSNPS_filter.nosex .\n",
      "Using 1 thread (no multithreaded calculations invoked).\n",
      "Before main variant filters, 102773 founders and 0 nonfounders present.\n",
      "Calculating allele frequencies... 10111213141516171819202122232425262728293031323334353637383940414243444546474849505152535455565758596061626364656667686970717273747576777879808182838485868788899091929394959697989 done.\n",
      "Total genotyping rate is 0.984943.\n",
      "84090 variants removed due to missing genotype data (--geno).\n",
      "4782 variants removed due to minor allele threshold(s)\n",
      "(--maf/--max-maf/--mac/--max-mac).\n",
      "329520 variants and 102773 people pass filters and QC.\n",
      "Note: No phenotypes present.\n",
      "--make-bed to all_combined_PCSNPS_filter.bed + all_combined_PCSNPS_filter.bim +\n",
      "all_combined_PCSNPS_filter.fam ... 101112131415161718192021222324252627282930313233343536373839404142434445464748495051525354555657585960616263646566676869707172737475767778798081828384858687888990919293949596979899done.\n"
     ]
    }
   ],
   "source": [
    "#the all_combined_PCSNPS.bed file is too large. need to filter it and try to make it more manageable\n",
    "# keep only SNPs that have non-missing data results in too few SNPs (try .001 maybe)\n",
    "# keep SNPs with minor allele count >= 100 (Hopefully this removes duplicate locations)\n",
    "\n",
    "#!plink --bfile all_combined_PCSNPS --geno 0.0 --mac 100 --make-bed --out all_combined_PCSNPS_filter\n",
    "!plink --bfile all_combined_PCSNPS --geno 0.001 --mac 100 --make-bed --out all_combined_PCSNPS_filter"
   ]
  },
  {
   "cell_type": "code",
   "execution_count": 60,
   "metadata": {},
   "outputs": [
    {
     "name": "stdout",
     "output_type": "stream",
     "text": [
      "  30  141 1165 all_combined_PCSNPS_filter.log\n",
      "PLINK v1.90b6.22 64-bit (16 Apr 2021)\n",
      "Options in effect:\n",
      "  --bfile all_combined_PCSNPS\n",
      "  --geno 0.001\n",
      "  --mac 100\n",
      "  --make-bed\n",
      "  --out all_combined_PCSNPS_filter\n",
      "\n",
      "Hostname: 06b6fe812a47\n",
      "Working directory: /home/jupyter/workspaces/crcprsanalysisinteractivenotebooks\n",
      "Start time: Thu Jan 19 18:21:50 2023\n",
      "\n",
      "Random number seed: 1674152510\n",
      "14998 MB RAM detected; reserving 7499 MB for main workspace.\n",
      "418392 variants loaded from .bim file.\n",
      "102773 people (0 males, 0 females, 102773 ambiguous) loaded from .fam.\n",
      "Ambiguous sex IDs written to all_combined_PCSNPS_filter.nosex .\n",
      "Using 1 thread (no multithreaded calculations invoked).\n",
      "Before main variant filters, 102773 founders and 0 nonfounders present.\n",
      "Calculating allele frequencies... done.\n"
     ]
    }
   ],
   "source": [
    "!wc all_combined_PCSNPS_filter.log\n",
    "!head -n 20 all_combined_PCSNPS_filter.log\n",
    "# there are no warnings about duplicate positions, but that doesn't mean they don't exist"
   ]
  },
  {
   "cell_type": "code",
   "execution_count": 71,
   "metadata": {},
   "outputs": [
    {
     "name": "stdout",
     "output_type": "stream",
     "text": [
      "1\tchr1:819049:T:G\t0\t819049\tG\tT\n",
      "1\tchr1:833994:G:A\t0\t833994\tA\tG\n",
      "1\tchr1:838618:C:T\t0\t838618\tT\tC\n",
      "1\tchr1:886546:C:G\t0\t886546\tG\tC\n",
      "1\tchr1:889018:A:C\t0\t889018\tC\tA\n",
      "1\tchr1:899373:G:C\t0\t899373\tC\tG\n",
      "1\tchr1:903175:C:A\t0\t903175\tA\tC\n",
      "1\tchr1:903285:T:C\t0\t903285\tC\tT\n",
      "1\tchr1:905373:T:C\t0\t905373\tC\tT\n",
      "1\tchr1:911428:C:T\t0\t911428\tT\tC\n",
      "819049\n",
      "833994\n",
      "838618\n",
      "886546\n",
      "889018\n",
      "899373\n",
      "903175\n",
      "903285\n",
      "905373\n",
      "911428\n",
      " 2011  2011 18498 hold2\n",
      "3247015\n",
      "3247015\n",
      "3880384\n",
      "3880384\n",
      "4328208\n",
      "4328208\n",
      "4770665\n",
      "4770665\n",
      "7819567\n",
      "7819567\n",
      "   1005    1005    9244\n"
     ]
    }
   ],
   "source": [
    "# check for duplicate positions\n",
    "!head all_combined_PCSNPS_filter.bim\n",
    "!perl -lane 'printf \"$F[3]\\n\"' all_combined_PCSNPS_filter.bim > hold\n",
    "!head hold\n",
    "!uniq -D hold > hold2\n",
    "!wc hold2\n",
    "!head hold2\n",
    "!uniq hold2 | wc\n",
    "!uniq hold2 > hold3\n",
    "#there are 1005 positions with more than two alleles"
   ]
  },
  {
   "cell_type": "code",
   "execution_count": 74,
   "metadata": {},
   "outputs": [
    {
     "name": "stdout",
     "output_type": "stream",
     "text": [
      "1\tchr1:3247015:G:A\t0\t3247015\tA\tG\n",
      "1\tchr1:3247015:G:C\t0\t3247015\tC\tG\n",
      "1\tchr1:3880384:G:A\t0\t3880384\tA\tG\n",
      "1\tchr1:3880384:G:T\t0\t3880384\tT\tG\n",
      "1\tchr1:4328208:C:A\t0\t4328208\tA\tC\n",
      "1\tchr1:4328208:C:T\t0\t4328208\tT\tC\n",
      "1\tchr1:4770665:C:A\t0\t4770665\tC\tA\n",
      "1\tchr1:4770665:C:T\t0\t4770665\tT\tC\n",
      "1\tchr1:7819567:C:G\t0\t7819567\tG\tC\n",
      "1\tchr1:7819567:C:T\t0\t7819567\tT\tC\n",
      " 2035 12210 73767 exclude_list.txt\n",
      "chr1:3247015:G:A\n",
      "chr1:3247015:G:C\n",
      "chr1:3880384:G:A\n",
      "chr1:3880384:G:T\n",
      "chr1:4328208:C:A\n",
      "chr1:4328208:C:T\n",
      "chr1:4770665:C:A\n",
      "chr1:4770665:C:T\n",
      "chr1:7819567:C:G\n",
      "chr1:7819567:C:T\n"
     ]
    }
   ],
   "source": [
    "#is there a command line way to pull these specific positions?\n",
    "!grep -f hold3 all_combined_PCSNPS_filter.bim > exclude_list.txt\n",
    "!head exclude_list.txt\n",
    "!wc exclude_list.txt\n",
    "!perl -lane 'printf \"$F[1]\\n\"' exclude_list.txt > exclude_list_names.txt\n",
    "!head exclude_list_names.txt"
   ]
  },
  {
   "cell_type": "code",
   "execution_count": 76,
   "metadata": {},
   "outputs": [
    {
     "name": "stdout",
     "output_type": "stream",
     "text": [
      "PLINK v1.90b6.22 64-bit (16 Apr 2021)          www.cog-genomics.org/plink/1.9/\n",
      "(C) 2005-2021 Shaun Purcell, Christopher Chang   GNU General Public License v3\n",
      "Logging to all_combined_PCSNPS_filter_nodup.log.\n",
      "Options in effect:\n",
      "  --bfile all_combined_PCSNPS_filter\n",
      "  --exclude exclude_list_names.txt\n",
      "  --make-bed\n",
      "  --out all_combined_PCSNPS_filter_nodup\n",
      "\n",
      "14998 MB RAM detected; reserving 7499 MB for main workspace.\n",
      "329520 variants loaded from .bim file.\n",
      "102773 people (0 males, 0 females, 102773 ambiguous) loaded from .fam.\n",
      "Ambiguous sex IDs written to all_combined_PCSNPS_filter_nodup.nosex .\n",
      "--exclude: 327485 variants remaining.\n",
      "Using 1 thread (no multithreaded calculations invoked).\n",
      "Before main variant filters, 102773 founders and 0 nonfounders present.\n",
      "Calculating allele frequencies... 10111213141516171819202122232425262728293031323334353637383940414243444546474849505152535455565758596061626364656667686970717273747576777879808182838485868788899091929394959697989 done.\n",
      "Total genotyping rate is 0.999865.\n",
      "327485 variants and 102773 people pass filters and QC.\n",
      "Note: No phenotypes present.\n",
      "--make-bed to all_combined_PCSNPS_filter_nodup.bed +\n",
      "all_combined_PCSNPS_filter_nodup.bim + all_combined_PCSNPS_filter_nodup.fam ...\n",
      "101112131415161718192021222324252627282930313233343536373839404142434445464748495051525354555657585960616263646566676869707172737475767778798081828384858687888990919293949596979899done.\n"
     ]
    }
   ],
   "source": [
    "!plink --bfile all_combined_PCSNPS_filter --exclude exclude_list_names.txt --make-bed --out all_combined_PCSNPS_filter_nodup"
   ]
  },
  {
   "cell_type": "code",
   "execution_count": 77,
   "metadata": {},
   "outputs": [
    {
     "name": "stdout",
     "output_type": "stream",
     "text": [
      "PLINK v1.90b6.22 64-bit (16 Apr 2021)          www.cog-genomics.org/plink/1.9/\n",
      "(C) 2005-2021 Shaun Purcell, Christopher Chang   GNU General Public License v3\n",
      "Logging to all_combined_PCSNPS_filter_nodup_LD.log.\n",
      "Options in effect:\n",
      "  --bfile all_combined_PCSNPS_filter_nodup\n",
      "  --indep-pairwise 100 20 0.2\n",
      "  --make-bed\n",
      "  --out all_combined_PCSNPS_filter_nodup_LD\n",
      "\n",
      "14998 MB RAM detected; reserving 7499 MB for main workspace.\n",
      "327485 variants loaded from .bim file.\n",
      "102773 people (0 males, 0 females, 102773 ambiguous) loaded from .fam.\n",
      "Ambiguous sex IDs written to all_combined_PCSNPS_filter_nodup_LD.nosex .\n",
      "Using 1 thread (no multithreaded calculations invoked).\n",
      "Before main variant filters, 102773 founders and 0 nonfounders present.\n",
      "Calculating allele frequencies... 10111213141516171819202122232425262728293031323334353637383940414243444546474849505152535455565758596061626364656667686970717273747576777879808182838485868788899091929394959697989 done.\n",
      "Total genotyping rate is 0.999865.\n",
      "327485 variants and 102773 people pass filters and QC.\n",
      "Note: No phenotypes present.\n",
      "--make-bed to all_combined_PCSNPS_filter_nodup_LD.bed +\n",
      "all_combined_PCSNPS_filter_nodup_LD.bim +\n",
      "all_combined_PCSNPS_filter_nodup_LD.fam ... 101112131415161718192021222324252627282930313233343536373839404142434445464748495051525354555657585960616263646566676869707172737475767778798081828384858687888990919293949596979899done.\n",
      "Pruned 2141 variants from chromosome 1, leaving 23963.\n",
      "Pruned 2293 variants from chromosome 2, leaving 24168.\n",
      "Pruned 1933 variants from chromosome 3, leaving 20806.\n",
      "Pruned 1788 variants from chromosome 4, leaving 19439.\n",
      "Pruned 1680 variants from chromosome 5, leaving 18338.\n",
      "Pruned 1612 variants from chromosome 6, leaving 17492.\n",
      "Pruned 1497 variants from chromosome 7, leaving 16549.\n",
      "Pruned 1436 variants from chromosome 8, leaving 15596.\n",
      "Pruned 1258 variants from chromosome 9, leaving 13628.\n",
      "Pruned 1447 variants from chromosome 10, leaving 15321.\n",
      "Pruned 1346 variants from chromosome 11, leaving 14527.\n",
      "Pruned 1281 variants from chromosome 12, leaving 14384.\n",
      "Pruned 965 variants from chromosome 13, leaving 11051.\n",
      "Pruned 938 variants from chromosome 14, leaving 9986.\n",
      "Pruned 904 variants from chromosome 15, leaving 9860.\n",
      "Pruned 920 variants from chromosome 16, leaving 10719.\n",
      "Pruned 814 variants from chromosome 17, leaving 9778.\n",
      "Pruned 877 variants from chromosome 18, leaving 9803.\n",
      "Pruned 502 variants from chromosome 19, leaving 7257.\n",
      "Pruned 696 variants from chromosome 20, leaving 8258.\n",
      "Pruned 333 variants from chromosome 21, leaving 4514.\n",
      "Pruned 437 variants from chromosome 22, leaving 4950.\n",
      "Pruning complete.  27098 of 327485 variants removed.\n",
      "Marker lists written to all_combined_PCSNPS_filter_nodup_LD.prune.in and\n",
      "all_combined_PCSNPS_filter_nodup_LD.prune.out .\n"
     ]
    }
   ],
   "source": [
    "# allow up to 20% LD\n",
    "!plink --bfile all_combined_PCSNPS_filter_nodup --indep-pairwise 100 20 0.2 "
   ]
  },
  {
   "cell_type": "code",
   "execution_count": 79,
   "metadata": {},
   "outputs": [
    {
     "name": "stdout",
     "output_type": "stream",
     "text": [
      " 300387  300387 5601752 all_combined_PCSNPS_filter_nodup_LD.prune.in\n",
      " 27098  27098 505310 all_combined_PCSNPS_filter_nodup_LD.prune.out\n",
      "chr1:1333624:C:T\n",
      "chr1:1477279:G:T\n",
      "chr1:1665581:C:G\n",
      "chr1:1671724:C:T\n",
      "chr1:1764303:C:T\n",
      "chr1:2027682:T:C\n",
      "chr1:2078112:C:T\n",
      "chr1:2083720:G:A\n",
      "chr1:2212668:A:G\n",
      "chr1:2256472:G:A\n"
     ]
    }
   ],
   "source": [
    "!wc all_combined_PCSNPS_filter_nodup_LD.prune.in\n",
    "!wc all_combined_PCSNPS_filter_nodup_LD.prune.out\n",
    "!head all_combined_PCSNPS_filter_nodup_LD.prune.out"
   ]
  },
  {
   "cell_type": "code",
   "execution_count": 82,
   "metadata": {},
   "outputs": [
    {
     "name": "stdout",
     "output_type": "stream",
     "text": [
      "PLINK v1.90b6.22 64-bit (16 Apr 2021)          www.cog-genomics.org/plink/1.9/\n",
      "(C) 2005-2021 Shaun Purcell, Christopher Chang   GNU General Public License v3\n",
      "Logging to all_combined_PCSNPS_filter_nodup_LD.log.\n",
      "Options in effect:\n",
      "  --bfile all_combined_PCSNPS_filter_nodup\n",
      "  --exclude all_combined_PCSNPS_filter_nodup_LD.prune.out\n",
      "  --make-bed\n",
      "  --out all_combined_PCSNPS_filter_nodup_LD\n",
      "\n",
      "14998 MB RAM detected; reserving 7499 MB for main workspace.\n",
      "327485 variants loaded from .bim file.\n",
      "102773 people (0 males, 0 females, 102773 ambiguous) loaded from .fam.\n",
      "Ambiguous sex IDs written to all_combined_PCSNPS_filter_nodup_LD.nosex .\n",
      "--exclude: 300387 variants remaining.\n",
      "Using 1 thread (no multithreaded calculations invoked).\n",
      "Before main variant filters, 102773 founders and 0 nonfounders present.\n",
      "Calculating allele frequencies... 10111213141516171819202122232425262728293031323334353637383940414243444546474849505152535455565758596061626364656667686970717273747576777879808182838485868788899091929394959697989 done.\n",
      "Total genotyping rate is 0.999865.\n",
      "300387 variants and 102773 people pass filters and QC.\n",
      "Note: No phenotypes present.\n",
      "--make-bed to all_combined_PCSNPS_filter_nodup_LD.bed +\n",
      "all_combined_PCSNPS_filter_nodup_LD.bim +\n",
      "all_combined_PCSNPS_filter_nodup_LD.fam ... 101112131415161718192021222324252627282930313233343536373839404142434445464748495051525354555657585960616263646566676869707172737475767778798081828384858687888990919293949596979899done.\n"
     ]
    }
   ],
   "source": [
    "# remove the pruned snps\n",
    "!plink --bfile all_combined_PCSNPS_filter_nodup --exclude all_combined_PCSNPS_filter_nodup_LD.prune.out --make-bed --out all_combined_PCSNPS_filter_nodup_LD"
   ]
  },
  {
   "cell_type": "code",
   "execution_count": 83,
   "metadata": {},
   "outputs": [
    {
     "name": "stdout",
     "output_type": "stream",
     "text": [
      "-rw-rw-r-- 1 jupyter users  11G Jan 19 17:55 all_combined_PCSNPS.bed\r\n",
      "-rw-rw-r-- 1 jupyter users 7.9G Jan 19 18:24 all_combined_PCSNPS_filter.bed\r\n",
      "-rw-rw-r-- 1 jupyter users 8.5G Jan 19 01:59 all_combined_PCSNPS_filter_LD2.bed\r\n",
      "-rw-rw-r-- 1 jupyter users 8.5G Jan 19 01:49 all_combined_PCSNPS_filter_LD.bed\r\n",
      "-rw-rw-r-- 1 jupyter users 7.9G Jan 19 18:56 all_combined_PCSNPS_filter_nodup.bed\r\n",
      "-rw-rw-r-- 1 jupyter users 7.2G Jan 19 19:10 all_combined_PCSNPS_filter_nodup_LD.bed\r\n"
     ]
    }
   ],
   "source": [
    "!ls -lh all_combined_PCSNPS*.bed\n",
    "# the final file is still quite large\n",
    "#so I need to break into manageable cohorts"
   ]
  },
  {
   "cell_type": "code",
   "execution_count": 86,
   "metadata": {},
   "outputs": [
    {
     "name": "stdout",
     "output_type": "stream",
     "text": [
      "0 CHMI_CHMI3_WGS2 0 0 0 -9\r\n",
      "0 HG00096 0 0 0 -9\r\n",
      "0 HG00097 0 0 0 -9\r\n",
      "0 HG00099 0 0 0 -9\r\n",
      "0 HG00100 0 0 0 -9\r\n",
      "0 HG00101 0 0 0 -9\r\n",
      "0 HG00102 0 0 0 -9\r\n",
      "0 HG00103 0 0 0 -9\r\n",
      "0 HG00105 0 0 0 -9\r\n",
      "0 HG00106 0 0 0 -9\r\n"
     ]
    }
   ],
   "source": [
    "!head all_ref_PCSNPS.fam"
   ]
  },
  {
   "cell_type": "code",
   "execution_count": 87,
   "metadata": {},
   "outputs": [
    {
     "name": "stdout",
     "output_type": "stream",
     "text": [
      " 4151  8302 44305 ref_ids.txt\n",
      "0 CHMI_CHMI3_WGS2\n",
      "0 HG00096\n",
      "0 HG00097\n",
      "0 HG00099\n",
      "0 HG00100\n",
      "0 HG00101\n",
      "0 HG00102\n",
      "0 HG00103\n",
      "0 HG00105\n",
      "0 HG00106\n",
      "0 NA21144\n",
      "0 SS6004467\n",
      "0 SS6004468\n",
      "0 SS6004469\n",
      "0 SS6004470\n",
      "0 SS6004471\n",
      "0 SS6004473\n",
      "0 SS6004474\n",
      "0 SS6004475\n",
      "0 SS6004476\n"
     ]
    }
   ],
   "source": [
    "# get the list of IDs from each dataset\n",
    "!perl -lane 'printf \"$F[0] $F[1]\\n\"' all_ref_PCSNPS.fam > ref_ids.txt\n",
    "!wc ref_ids.txt\n",
    "!head ref_ids.txt\n",
    "!tail ref_ids.txt\n"
   ]
  },
  {
   "cell_type": "code",
   "execution_count": 88,
   "metadata": {},
   "outputs": [
    {
     "name": "stdout",
     "output_type": "stream",
     "text": [
      " 98622 197244 986220 aou_ids.txt\n",
      "0 1000004\n",
      "0 1000033\n",
      "0 1000042\n",
      "0 1000091\n",
      "0 1000095\n",
      "0 1000104\n",
      "0 1000109\n",
      "0 1000112\n",
      "0 1000184\n",
      "0 1000185\n",
      "0 9987335\n",
      "0 9987610\n",
      "0 9987690\n",
      "0 9989602\n",
      "0 9990250\n",
      "0 9991636\n",
      "0 9992998\n",
      "0 9993207\n",
      "0 9995407\n",
      "0 9997756\n"
     ]
    }
   ],
   "source": [
    "!perl -lane 'printf \"$F[0] $F[1]\\n\"' all_aou_PCSNPS.fam > aou_ids.txt\n",
    "!wc aou_ids.txt\n",
    "!head aou_ids.txt\n",
    "!tail aou_ids.txt"
   ]
  },
  {
   "cell_type": "code",
   "execution_count": 89,
   "metadata": {},
   "outputs": [
    {
     "name": "stdout",
     "output_type": "stream",
     "text": [
      "PLINK v1.90b6.22 64-bit (16 Apr 2021)          www.cog-genomics.org/plink/1.9/\n",
      "(C) 2005-2021 Shaun Purcell, Christopher Chang   GNU General Public License v3\n",
      "Logging to all_combined_PCSNPS_final_ref.log.\n",
      "Options in effect:\n",
      "  --bfile all_combined_PCSNPS_filter_nodup_LD\n",
      "  --keep ref_ids.txt\n",
      "  --make-bed\n",
      "  --out all_combined_PCSNPS_final_ref\n",
      "\n",
      "14998 MB RAM detected; reserving 7499 MB for main workspace.\n",
      "300387 variants loaded from .bim file.\n",
      "102773 people (0 males, 0 females, 102773 ambiguous) loaded from .fam.\n",
      "Ambiguous sex IDs written to all_combined_PCSNPS_final_ref.nosex .\n",
      "--keep: 4151 people remaining.\n",
      "Using 1 thread (no multithreaded calculations invoked).\n",
      "Before main variant filters, 4151 founders and 0 nonfounders present.\n",
      "Calculating allele frequencies... 10111213141516171819202122232425262728293031323334353637383940414243444546474849505152535455565758596061626364656667686970717273747576777879808182838485868788899091929394959697989 done.\n",
      "Total genotyping rate in remaining samples is 0.999656.\n",
      "300387 variants and 4151 people pass filters and QC.\n",
      "Note: No phenotypes present.\n",
      "--make-bed to all_combined_PCSNPS_final_ref.bed +\n",
      "all_combined_PCSNPS_final_ref.bim + all_combined_PCSNPS_final_ref.fam ... 101112131415161718192021222324252627282930313233343536373839404142434445464748495051525354555657585960616263646566676869707172737475767778798081828384858687888990919293949596979899done.\n"
     ]
    }
   ],
   "source": [
    "# create file with just the reference data\n",
    "!plink --bfile all_combined_PCSNPS_filter_nodup_LD --keep ref_ids.txt --make-bed --out all_combined_PCSNPS_final_ref"
   ]
  },
  {
   "cell_type": "code",
   "execution_count": 105,
   "metadata": {},
   "outputs": [
    {
     "name": "stdout",
     "output_type": "stream",
     "text": [
      "creating file 'aou_ids.txt00'\r\n",
      "creating file 'aou_ids.txt01'\r\n",
      "creating file 'aou_ids.txt02'\r\n",
      "creating file 'aou_ids.txt03'\r\n",
      "creating file 'aou_ids.txt04'\r\n",
      "creating file 'aou_ids.txt05'\r\n",
      "creating file 'aou_ids.txt06'\r\n",
      "creating file 'aou_ids.txt07'\r\n",
      "creating file 'aou_ids.txt08'\r\n",
      "creating file 'aou_ids.txt09'\r\n"
     ]
    }
   ],
   "source": [
    "# create 10 files containing the AoU data\n",
    "# first create the 10 files with the \n",
    "!split -l 9863 -d --verbose aou_ids.txt aou_ids.txt\n",
    "#!ls aou_ids.txt"
   ]
  },
  {
   "cell_type": "code",
   "execution_count": 106,
   "metadata": {},
   "outputs": [
    {
     "name": "stdout",
     "output_type": "stream",
     "text": [
      " 98622 197244 986220 aou_ids.txt\n",
      " 9863 19726 98630 aou_ids.txt00\n",
      "0 1167287\n",
      "0 1167330\n",
      "0 1167345\n",
      "0 1167354\n",
      "0 1167410\n",
      "0 1167412\n",
      "0 1167458\n",
      "0 1167506\n",
      "0 1167537\n",
      "0 1167545\n"
     ]
    }
   ],
   "source": [
    "!wc aou_ids.txt\n",
    "!wc aou_ids.txt00\n",
    "!tail aou_ids.txt00\n"
   ]
  },
  {
   "cell_type": "code",
   "execution_count": 101,
   "metadata": {},
   "outputs": [
    {
     "name": "stdout",
     "output_type": "stream",
     "text": [
      "PLINK v1.90b6.22 64-bit (16 Apr 2021)          www.cog-genomics.org/plink/1.9/\n",
      "(C) 2005-2021 Shaun Purcell, Christopher Chang   GNU General Public License v3\n",
      "Logging to all_combined_PCSNPS_final_aou00.log.\n",
      "Options in effect:\n",
      "  --bfile all_combined_PCSNPS_filter_nodup_LD\n",
      "  --keep aou_ids.txt00\n",
      "  --make-bed\n",
      "  --out all_combined_PCSNPS_final_aou00\n",
      "\n",
      "14998 MB RAM detected; reserving 7499 MB for main workspace.\n",
      "300387 variants loaded from .bim file.\n",
      "102773 people (0 males, 0 females, 102773 ambiguous) loaded from .fam.\n",
      "Ambiguous sex IDs written to all_combined_PCSNPS_final_aou00.nosex .\n",
      "Error: Line 9863 of --keep file has fewer tokens than expected.\n"
     ]
    }
   ],
   "source": [
    "!plink --bfile all_combined_PCSNPS_filter_nodup_LD --keep aou_ids.txt00 --make-bed --out all_combined_PCSNPS_final_aou00"
   ]
  },
  {
   "cell_type": "code",
   "execution_count": 107,
   "metadata": {},
   "outputs": [
    {
     "name": "stdout",
     "output_type": "stream",
     "text": [
      "PLINK v1.90b6.22 64-bit (16 Apr 2021)          www.cog-genomics.org/plink/1.9/\n",
      "(C) 2005-2021 Shaun Purcell, Christopher Chang   GNU General Public License v3\n",
      "Logging to all_combined_PCSNPS_final_aou00.log.\n",
      "Options in effect:\n",
      "  --bfile all_combined_PCSNPS_filter_nodup_LD\n",
      "  --keep aou_ids.txt00\n",
      "  --make-bed\n",
      "  --out all_combined_PCSNPS_final_aou00\n",
      "\n",
      "14998 MB RAM detected; reserving 7499 MB for main workspace.\n",
      "300387 variants loaded from .bim file.\n",
      "102773 people (0 males, 0 females, 102773 ambiguous) loaded from .fam.\n",
      "Ambiguous sex IDs written to all_combined_PCSNPS_final_aou00.nosex .\n",
      "--keep: 9863 people remaining.\n",
      "Using 1 thread (no multithreaded calculations invoked).\n",
      "Before main variant filters, 9863 founders and 0 nonfounders present.\n",
      "Calculating allele frequencies... 10111213141516171819202122232425262728293031323334353637383940414243444546474849505152535455565758596061626364656667686970717273747576777879808182838485868788899091929394959697989 done.\n",
      "Total genotyping rate in remaining samples is 0.999876.\n",
      "300387 variants and 9863 people pass filters and QC.\n",
      "Note: No phenotypes present.\n",
      "--make-bed to all_combined_PCSNPS_final_aou00.bed +\n",
      "all_combined_PCSNPS_final_aou00.bim + all_combined_PCSNPS_final_aou00.fam ...\n",
      "101112131415161718192021222324252627282930313233343536373839404142434445464748495051525354555657585960616263646566676869707172737475767778798081828384858687888990919293949596979899done.\n",
      "PLINK v1.90b6.22 64-bit (16 Apr 2021)          www.cog-genomics.org/plink/1.9/\n",
      "(C) 2005-2021 Shaun Purcell, Christopher Chang   GNU General Public License v3\n",
      "Logging to all_combined_PCSNPS_final_aou01.log.\n",
      "Options in effect:\n",
      "  --bfile all_combined_PCSNPS_filter_nodup_LD\n",
      "  --keep aou_ids.txt01\n",
      "  --make-bed\n",
      "  --out all_combined_PCSNPS_final_aou01\n",
      "\n",
      "14998 MB RAM detected; reserving 7499 MB for main workspace.\n",
      "300387 variants loaded from .bim file.\n",
      "102773 people (0 males, 0 females, 102773 ambiguous) loaded from .fam.\n",
      "Ambiguous sex IDs written to all_combined_PCSNPS_final_aou01.nosex .\n",
      "--keep: 9863 people remaining.\n",
      "Using 1 thread (no multithreaded calculations invoked).\n",
      "Before main variant filters, 9863 founders and 0 nonfounders present.\n",
      "Calculating allele frequencies... 10111213141516171819202122232425262728293031323334353637383940414243444546474849505152535455565758596061626364656667686970717273747576777879808182838485868788899091929394959697989 done.\n",
      "Total genotyping rate in remaining samples is 0.999875.\n",
      "300387 variants and 9863 people pass filters and QC.\n",
      "Note: No phenotypes present.\n",
      "--make-bed to all_combined_PCSNPS_final_aou01.bed +\n",
      "all_combined_PCSNPS_final_aou01.bim + all_combined_PCSNPS_final_aou01.fam ...\n",
      "101112131415161718192021222324252627282930313233343536373839404142434445464748495051525354555657585960616263646566676869707172737475767778798081828384858687888990919293949596979899done.\n",
      "PLINK v1.90b6.22 64-bit (16 Apr 2021)          www.cog-genomics.org/plink/1.9/\n",
      "(C) 2005-2021 Shaun Purcell, Christopher Chang   GNU General Public License v3\n",
      "Logging to all_combined_PCSNPS_final_aou02.log.\n",
      "Options in effect:\n",
      "  --bfile all_combined_PCSNPS_filter_nodup_LD\n",
      "  --keep aou_ids.txt02\n",
      "  --make-bed\n",
      "  --out all_combined_PCSNPS_final_aou02\n",
      "\n",
      "14998 MB RAM detected; reserving 7499 MB for main workspace.\n",
      "300387 variants loaded from .bim file.\n",
      "102773 people (0 males, 0 females, 102773 ambiguous) loaded from .fam.\n",
      "Ambiguous sex IDs written to all_combined_PCSNPS_final_aou02.nosex .\n",
      "--keep: 9863 people remaining.\n",
      "Using 1 thread (no multithreaded calculations invoked).\n",
      "Before main variant filters, 9863 founders and 0 nonfounders present.\n",
      "Calculating allele frequencies... 10111213141516171819202122232425262728293031323334353637383940414243444546474849505152535455565758596061626364656667686970717273747576777879808182838485868788899091929394959697989 done.\n",
      "Total genotyping rate in remaining samples is 0.999872.\n",
      "300387 variants and 9863 people pass filters and QC.\n",
      "Note: No phenotypes present.\n",
      "--make-bed to all_combined_PCSNPS_final_aou02.bed +\n",
      "all_combined_PCSNPS_final_aou02.bim + all_combined_PCSNPS_final_aou02.fam ...\n",
      "101112131415161718192021222324252627282930313233343536373839404142434445464748495051525354555657585960616263646566676869707172737475767778798081828384858687888990919293949596979899done.\n",
      "PLINK v1.90b6.22 64-bit (16 Apr 2021)          www.cog-genomics.org/plink/1.9/\n",
      "(C) 2005-2021 Shaun Purcell, Christopher Chang   GNU General Public License v3\n",
      "Logging to all_combined_PCSNPS_final_aou03.log.\n",
      "Options in effect:\n",
      "  --bfile all_combined_PCSNPS_filter_nodup_LD\n",
      "  --keep aou_ids.txt03\n",
      "  --make-bed\n",
      "  --out all_combined_PCSNPS_final_aou03\n",
      "\n",
      "14998 MB RAM detected; reserving 7499 MB for main workspace.\n",
      "300387 variants loaded from .bim file.\n",
      "102773 people (0 males, 0 females, 102773 ambiguous) loaded from .fam.\n",
      "Ambiguous sex IDs written to all_combined_PCSNPS_final_aou03.nosex .\n",
      "--keep: 9863 people remaining.\n",
      "Using 1 thread (no multithreaded calculations invoked).\n",
      "Before main variant filters, 9863 founders and 0 nonfounders present.\n",
      "Calculating allele frequencies... 10111213141516171819202122232425262728293031323334353637383940414243444546474849505152535455565758596061626364656667686970717273747576777879808182838485868788899091929394959697989 done.\n",
      "Total genotyping rate in remaining samples is 0.999871.\n",
      "300387 variants and 9863 people pass filters and QC.\n",
      "Note: No phenotypes present.\n",
      "--make-bed to all_combined_PCSNPS_final_aou03.bed +\n",
      "all_combined_PCSNPS_final_aou03.bim + all_combined_PCSNPS_final_aou03.fam ...\n",
      "101112131415161718192021222324252627282930313233343536373839404142434445464748495051525354555657585960616263646566676869707172737475767778798081828384858687888990919293949596979899done.\n",
      "PLINK v1.90b6.22 64-bit (16 Apr 2021)          www.cog-genomics.org/plink/1.9/\n",
      "(C) 2005-2021 Shaun Purcell, Christopher Chang   GNU General Public License v3\n",
      "Logging to all_combined_PCSNPS_final_aou04.log.\n",
      "Options in effect:\n",
      "  --bfile all_combined_PCSNPS_filter_nodup_LD\n",
      "  --keep aou_ids.txt04\n",
      "  --make-bed\n",
      "  --out all_combined_PCSNPS_final_aou04\n",
      "\n",
      "14998 MB RAM detected; reserving 7499 MB for main workspace.\n",
      "300387 variants loaded from .bim file.\n",
      "102773 people (0 males, 0 females, 102773 ambiguous) loaded from .fam.\n",
      "Ambiguous sex IDs written to all_combined_PCSNPS_final_aou04.nosex .\n",
      "--keep: 9863 people remaining.\n",
      "Using 1 thread (no multithreaded calculations invoked).\n",
      "Before main variant filters, 9863 founders and 0 nonfounders present.\n",
      "Calculating allele frequencies... 10111213141516171819202122232425262728293031323334353637383940414243444546474849505152535455565758596061626364656667686970717273747576777879808182838485868788899091929394959697989 done.\n",
      "Total genotyping rate in remaining samples is 0.99987.\n",
      "300387 variants and 9863 people pass filters and QC.\n",
      "Note: No phenotypes present.\n",
      "--make-bed to all_combined_PCSNPS_final_aou04.bed +\n",
      "all_combined_PCSNPS_final_aou04.bim + all_combined_PCSNPS_final_aou04.fam ...\n",
      "101112131415161718192021222324252627282930313233343536373839404142434445464748495051525354555657585960616263646566676869707172737475767778798081828384858687888990919293949596979899done.\n",
      "PLINK v1.90b6.22 64-bit (16 Apr 2021)          www.cog-genomics.org/plink/1.9/\n",
      "(C) 2005-2021 Shaun Purcell, Christopher Chang   GNU General Public License v3\n",
      "Logging to all_combined_PCSNPS_final_aou05.log.\n",
      "Options in effect:\n",
      "  --bfile all_combined_PCSNPS_filter_nodup_LD\n",
      "  --keep aou_ids.txt05\n",
      "  --make-bed\n",
      "  --out all_combined_PCSNPS_final_aou05\n",
      "\n",
      "14998 MB RAM detected; reserving 7499 MB for main workspace.\n",
      "300387 variants loaded from .bim file.\n",
      "102773 people (0 males, 0 females, 102773 ambiguous) loaded from .fam.\n",
      "Ambiguous sex IDs written to all_combined_PCSNPS_final_aou05.nosex .\n",
      "--keep: 9863 people remaining.\n",
      "Using 1 thread (no multithreaded calculations invoked).\n",
      "Before main variant filters, 9863 founders and 0 nonfounders present.\n",
      "Calculating allele frequencies... 10111213141516171819202122232425262728293031323334353637383940414243444546474849505152535455565758596061626364656667686970717273747576777879808182838485868788899091929394959697989 done.\n",
      "Total genotyping rate in remaining samples is 0.999872.\n",
      "300387 variants and 9863 people pass filters and QC.\n",
      "Note: No phenotypes present.\n",
      "--make-bed to all_combined_PCSNPS_final_aou05.bed +\n",
      "all_combined_PCSNPS_final_aou05.bim + all_combined_PCSNPS_final_aou05.fam ...\n"
     ]
    },
    {
     "name": "stdout",
     "output_type": "stream",
     "text": [
      "101112131415161718192021222324252627282930313233343536373839404142434445464748495051525354555657585960616263646566676869707172737475767778798081828384858687888990919293949596979899done.\n",
      "PLINK v1.90b6.22 64-bit (16 Apr 2021)          www.cog-genomics.org/plink/1.9/\n",
      "(C) 2005-2021 Shaun Purcell, Christopher Chang   GNU General Public License v3\n",
      "Logging to all_combined_PCSNPS_final_aou06.log.\n",
      "Options in effect:\n",
      "  --bfile all_combined_PCSNPS_filter_nodup_LD\n",
      "  --keep aou_ids.txt06\n",
      "  --make-bed\n",
      "  --out all_combined_PCSNPS_final_aou06\n",
      "\n",
      "14998 MB RAM detected; reserving 7499 MB for main workspace.\n",
      "300387 variants loaded from .bim file.\n",
      "102773 people (0 males, 0 females, 102773 ambiguous) loaded from .fam.\n",
      "Ambiguous sex IDs written to all_combined_PCSNPS_final_aou06.nosex .\n",
      "--keep: 9863 people remaining.\n",
      "Using 1 thread (no multithreaded calculations invoked).\n",
      "Before main variant filters, 9863 founders and 0 nonfounders present.\n",
      "Calculating allele frequencies... 10111213141516171819202122232425262728293031323334353637383940414243444546474849505152535455565758596061626364656667686970717273747576777879808182838485868788899091929394959697989 done.\n",
      "Total genotyping rate in remaining samples is 0.99988.\n",
      "300387 variants and 9863 people pass filters and QC.\n",
      "Note: No phenotypes present.\n",
      "--make-bed to all_combined_PCSNPS_final_aou06.bed +\n",
      "all_combined_PCSNPS_final_aou06.bim + all_combined_PCSNPS_final_aou06.fam ...\n",
      "101112131415161718192021222324252627282930313233343536373839404142434445464748495051525354555657585960616263646566676869707172737475767778798081828384858687888990919293949596979899done.\n",
      "PLINK v1.90b6.22 64-bit (16 Apr 2021)          www.cog-genomics.org/plink/1.9/\n",
      "(C) 2005-2021 Shaun Purcell, Christopher Chang   GNU General Public License v3\n",
      "Logging to all_combined_PCSNPS_final_aou07.log.\n",
      "Options in effect:\n",
      "  --bfile all_combined_PCSNPS_filter_nodup_LD\n",
      "  --keep aou_ids.txt07\n",
      "  --make-bed\n",
      "  --out all_combined_PCSNPS_final_aou07\n",
      "\n",
      "14998 MB RAM detected; reserving 7499 MB for main workspace.\n",
      "300387 variants loaded from .bim file.\n",
      "102773 people (0 males, 0 females, 102773 ambiguous) loaded from .fam.\n",
      "Ambiguous sex IDs written to all_combined_PCSNPS_final_aou07.nosex .\n",
      "--keep: 9863 people remaining.\n",
      "Using 1 thread (no multithreaded calculations invoked).\n",
      "Before main variant filters, 9863 founders and 0 nonfounders present.\n",
      "Calculating allele frequencies... 10111213141516171819202122232425262728293031323334353637383940414243444546474849505152535455565758596061626364656667686970717273747576777879808182838485868788899091929394959697989 done.\n",
      "Total genotyping rate in remaining samples is 0.99988.\n",
      "300387 variants and 9863 people pass filters and QC.\n",
      "Note: No phenotypes present.\n",
      "--make-bed to all_combined_PCSNPS_final_aou07.bed +\n",
      "all_combined_PCSNPS_final_aou07.bim + all_combined_PCSNPS_final_aou07.fam ...\n",
      "101112131415161718192021222324252627282930313233343536373839404142434445464748495051525354555657585960616263646566676869707172737475767778798081828384858687888990919293949596979899done.\n",
      "PLINK v1.90b6.22 64-bit (16 Apr 2021)          www.cog-genomics.org/plink/1.9/\n",
      "(C) 2005-2021 Shaun Purcell, Christopher Chang   GNU General Public License v3\n",
      "Logging to all_combined_PCSNPS_final_aou08.log.\n",
      "Options in effect:\n",
      "  --bfile all_combined_PCSNPS_filter_nodup_LD\n",
      "  --keep aou_ids.txt08\n",
      "  --make-bed\n",
      "  --out all_combined_PCSNPS_final_aou08\n",
      "\n",
      "14998 MB RAM detected; reserving 7499 MB for main workspace.\n",
      "300387 variants loaded from .bim file.\n",
      "102773 people (0 males, 0 females, 102773 ambiguous) loaded from .fam.\n",
      "Ambiguous sex IDs written to all_combined_PCSNPS_final_aou08.nosex .\n",
      "--keep: 9863 people remaining.\n",
      "Using 1 thread (no multithreaded calculations invoked).\n",
      "Before main variant filters, 9863 founders and 0 nonfounders present.\n",
      "Calculating allele frequencies... 10111213141516171819202122232425262728293031323334353637383940414243444546474849505152535455565758596061626364656667686970717273747576777879808182838485868788899091929394959697989 done.\n",
      "Total genotyping rate in remaining samples is 0.999879.\n",
      "300387 variants and 9863 people pass filters and QC.\n",
      "Note: No phenotypes present.\n",
      "--make-bed to all_combined_PCSNPS_final_aou08.bed +\n",
      "all_combined_PCSNPS_final_aou08.bim + all_combined_PCSNPS_final_aou08.fam ...\n",
      "101112131415161718192021222324252627282930313233343536373839404142434445464748495051525354555657585960616263646566676869707172737475767778798081828384858687888990919293949596979899done.\n",
      "PLINK v1.90b6.22 64-bit (16 Apr 2021)          www.cog-genomics.org/plink/1.9/\n",
      "(C) 2005-2021 Shaun Purcell, Christopher Chang   GNU General Public License v3\n",
      "Logging to all_combined_PCSNPS_final_aou09.log.\n",
      "Options in effect:\n",
      "  --bfile all_combined_PCSNPS_filter_nodup_LD\n",
      "  --keep aou_ids.txt09\n",
      "  --make-bed\n",
      "  --out all_combined_PCSNPS_final_aou09\n",
      "\n",
      "14998 MB RAM detected; reserving 7499 MB for main workspace.\n",
      "300387 variants loaded from .bim file.\n",
      "102773 people (0 males, 0 females, 102773 ambiguous) loaded from .fam.\n",
      "Ambiguous sex IDs written to all_combined_PCSNPS_final_aou09.nosex .\n",
      "--keep: 9855 people remaining.\n",
      "Using 1 thread (no multithreaded calculations invoked).\n",
      "Before main variant filters, 9855 founders and 0 nonfounders present.\n",
      "Calculating allele frequencies... 10111213141516171819202122232425262728293031323334353637383940414243444546474849505152535455565758596061626364656667686970717273747576777879808182838485868788899091929394959697989 done.\n",
      "Total genotyping rate in remaining samples is 0.999867.\n",
      "300387 variants and 9855 people pass filters and QC.\n",
      "Note: No phenotypes present.\n",
      "--make-bed to all_combined_PCSNPS_final_aou09.bed +\n",
      "all_combined_PCSNPS_final_aou09.bim + all_combined_PCSNPS_final_aou09.fam ...\n",
      "101112131415161718192021222324252627282930313233343536373839404142434445464748495051525354555657585960616263646566676869707172737475767778798081828384858687888990919293949596979899done.\n"
     ]
    }
   ],
   "source": [
    "!plink --bfile all_combined_PCSNPS_filter_nodup_LD --keep aou_ids.txt00 --make-bed --out all_combined_PCSNPS_final_aou00\n",
    "!plink --bfile all_combined_PCSNPS_filter_nodup_LD --keep aou_ids.txt01 --make-bed --out all_combined_PCSNPS_final_aou01\n",
    "!plink --bfile all_combined_PCSNPS_filter_nodup_LD --keep aou_ids.txt02 --make-bed --out all_combined_PCSNPS_final_aou02\n",
    "!plink --bfile all_combined_PCSNPS_filter_nodup_LD --keep aou_ids.txt03 --make-bed --out all_combined_PCSNPS_final_aou03\n",
    "!plink --bfile all_combined_PCSNPS_filter_nodup_LD --keep aou_ids.txt04 --make-bed --out all_combined_PCSNPS_final_aou04\n",
    "!plink --bfile all_combined_PCSNPS_filter_nodup_LD --keep aou_ids.txt05 --make-bed --out all_combined_PCSNPS_final_aou05\n",
    "!plink --bfile all_combined_PCSNPS_filter_nodup_LD --keep aou_ids.txt06 --make-bed --out all_combined_PCSNPS_final_aou06\n",
    "!plink --bfile all_combined_PCSNPS_filter_nodup_LD --keep aou_ids.txt07 --make-bed --out all_combined_PCSNPS_final_aou07\n",
    "!plink --bfile all_combined_PCSNPS_filter_nodup_LD --keep aou_ids.txt08 --make-bed --out all_combined_PCSNPS_final_aou08\n",
    "!plink --bfile all_combined_PCSNPS_filter_nodup_LD --keep aou_ids.txt09 --make-bed --out all_combined_PCSNPS_final_aou09\n"
   ]
  },
  {
   "cell_type": "code",
   "execution_count": 108,
   "metadata": {},
   "outputs": [
    {
     "name": "stdout",
     "output_type": "stream",
     "text": [
      "-rw-rw-r-- 1 jupyter users 707M Jan 19 19:29 all_combined_PCSNPS_final_aou00.bed\r\n",
      "-rw-rw-r-- 1 jupyter users 707M Jan 19 19:30 all_combined_PCSNPS_final_aou01.bed\r\n",
      "-rw-rw-r-- 1 jupyter users 707M Jan 19 19:30 all_combined_PCSNPS_final_aou02.bed\r\n",
      "-rw-rw-r-- 1 jupyter users 707M Jan 19 19:30 all_combined_PCSNPS_final_aou03.bed\r\n",
      "-rw-rw-r-- 1 jupyter users 707M Jan 19 19:30 all_combined_PCSNPS_final_aou04.bed\r\n",
      "-rw-rw-r-- 1 jupyter users 707M Jan 19 19:31 all_combined_PCSNPS_final_aou05.bed\r\n",
      "-rw-rw-r-- 1 jupyter users 707M Jan 19 19:31 all_combined_PCSNPS_final_aou06.bed\r\n",
      "-rw-rw-r-- 1 jupyter users 707M Jan 19 19:31 all_combined_PCSNPS_final_aou07.bed\r\n",
      "-rw-rw-r-- 1 jupyter users 707M Jan 19 19:31 all_combined_PCSNPS_final_aou08.bed\r\n",
      "-rw-rw-r-- 1 jupyter users 706M Jan 19 19:32 all_combined_PCSNPS_final_aou09.bed\r\n",
      "-rw-rw-r-- 1 jupyter users 298M Jan 19 19:18 all_combined_PCSNPS_final_ref.bed\r\n"
     ]
    }
   ],
   "source": [
    "!ls -lh all_combined_PCSNPS_final*.bed"
   ]
  },
  {
   "cell_type": "code",
   "execution_count": 114,
   "metadata": {},
   "outputs": [
    {
     "name": "stdout",
     "output_type": "stream",
     "text": [
      "Copying file://all_combined_PCSNPS_final_aou00.bim [Content-Type=application/octet-stream]...\n",
      "Copying file://all_combined_PCSNPS_final_aou00.bed [Content-Type=application/octet-stream]...\n",
      "Copying file://all_combined_PCSNPS_final_aou00.fam [Content-Type=application/octet-stream]...\n",
      "==> NOTE: You are uploading one or more large file(s), which would run          \n",
      "significantly faster if you enable parallel composite uploads. This\n",
      "feature can be enabled by editing the\n",
      "\"parallel_composite_upload_threshold\" value in your .boto\n",
      "configuration file. However, note that if you do this large files will\n",
      "be uploaded as `composite objects\n",
      "<https://cloud.google.com/storage/docs/composite-objects>`_,which\n",
      "means that any user who downloads such objects will need to have a\n",
      "compiled crcmod installed (see \"gsutil help crcmod\"). This is because\n",
      "without a compiled crcmod, computing checksums on composite objects is\n",
      "so slow that gsutil disables downloads of composite objects.\n",
      "\n",
      "Copying file://all_combined_PCSNPS_final_aou00.log [Content-Type=application/octet-stream]...\n",
      "Copying file://all_combined_PCSNPS_final_aou00.nosex [Content-Type=application/octet-stream]...\n",
      "Copying file://all_combined_PCSNPS_final_aou01.bed [Content-Type=application/octet-stream]...\n",
      "Copying file://all_combined_PCSNPS_final_aou02.bed [Content-Type=application/octet-stream]...\n",
      "Copying file://all_combined_PCSNPS_final_aou02.log [Content-Type=application/octet-stream]...\n",
      "Copying file://all_combined_PCSNPS_final_aou02.nosex [Content-Type=application/octet-stream]...\n",
      "Copying file://all_combined_PCSNPS_final_aou01.bim [Content-Type=application/octet-stream]...\n",
      "Copying file://all_combined_PCSNPS_final_aou02.fam [Content-Type=application/octet-stream]...\n",
      "Copying file://all_combined_PCSNPS_final_aou01.fam [Content-Type=application/octet-stream]...\n",
      "Copying file://all_combined_PCSNPS_final_aou03.log [Content-Type=application/octet-stream]...\n",
      "Copying file://all_combined_PCSNPS_final_aou01.log [Content-Type=application/octet-stream]...\n",
      "Copying file://all_combined_PCSNPS_final_aou02.bim [Content-Type=application/octet-stream]...\n",
      "Copying file://all_combined_PCSNPS_final_aou01.nosex [Content-Type=application/octet-stream]...\n",
      "Copying file://all_combined_PCSNPS_final_aou03.bed [Content-Type=application/octet-stream]...\n",
      "Copying file://all_combined_PCSNPS_final_aou03.fam [Content-Type=application/octet-stream]...\n",
      "Copying file://all_combined_PCSNPS_final_aou03.bim [Content-Type=application/octet-stream]...\n",
      "Copying file://all_combined_PCSNPS_final_aou03.nosex [Content-Type=application/octet-stream]...\n",
      "Copying file://all_combined_PCSNPS_final_aou04.bed [Content-Type=application/octet-stream]...\n",
      "Copying file://all_combined_PCSNPS_final_aou04.bim [Content-Type=application/octet-stream]...\n",
      "Copying file://all_combined_PCSNPS_final_aou04.fam [Content-Type=application/octet-stream]...\n",
      "Copying file://all_combined_PCSNPS_final_aou04.log [Content-Type=application/octet-stream]...\n",
      "Copying file://all_combined_PCSNPS_final_aou04.nosex [Content-Type=application/octet-stream]...\n",
      "Copying file://all_combined_PCSNPS_final_aou05.bed [Content-Type=application/octet-stream]...\n",
      "Copying file://all_combined_PCSNPS_final_aou05.bim [Content-Type=application/octet-stream]...\n",
      "Copying file://all_combined_PCSNPS_final_aou05.fam [Content-Type=application/octet-stream]...\n",
      "Copying file://all_combined_PCSNPS_final_aou05.log [Content-Type=application/octet-stream]...\n",
      "Copying file://all_combined_PCSNPS_final_aou05.nosex [Content-Type=application/octet-stream]...\n",
      "Copying file://all_combined_PCSNPS_final_aou06.bed [Content-Type=application/octet-stream]...\n",
      "Copying file://all_combined_PCSNPS_final_aou06.bim [Content-Type=application/octet-stream]...\n",
      "Copying file://all_combined_PCSNPS_final_aou06.fam [Content-Type=application/octet-stream]...\n",
      "Copying file://all_combined_PCSNPS_final_aou06.log [Content-Type=application/octet-stream]...\n",
      "Copying file://all_combined_PCSNPS_final_aou06.nosex [Content-Type=application/octet-stream]...\n",
      "Copying file://all_combined_PCSNPS_final_aou07.bed [Content-Type=application/octet-stream]...\n",
      "Copying file://all_combined_PCSNPS_final_aou07.bim [Content-Type=application/octet-stream]...\n",
      "Copying file://all_combined_PCSNPS_final_aou07.fam [Content-Type=application/octet-stream]...\n",
      "Copying file://all_combined_PCSNPS_final_aou07.log [Content-Type=application/octet-stream]...\n",
      "Copying file://all_combined_PCSNPS_final_aou07.nosex [Content-Type=application/octet-stream]...\n",
      "Copying file://all_combined_PCSNPS_final_aou08.bed [Content-Type=application/octet-stream]...\n",
      "Copying file://all_combined_PCSNPS_final_aou08.bim [Content-Type=application/octet-stream]...\n",
      "Copying file://all_combined_PCSNPS_final_aou08.fam [Content-Type=application/octet-stream]...\n",
      "Copying file://all_combined_PCSNPS_final_aou08.log [Content-Type=application/octet-stream]...\n",
      "Copying file://all_combined_PCSNPS_final_aou08.nosex [Content-Type=application/octet-stream]...\n",
      "Copying file://all_combined_PCSNPS_final_aou09.bed [Content-Type=application/octet-stream]...\n",
      "Copying file://all_combined_PCSNPS_final_aou09.bim [Content-Type=application/octet-stream]...\n",
      "Copying file://all_combined_PCSNPS_final_aou09.fam [Content-Type=application/octet-stream]...\n",
      "Copying file://all_combined_PCSNPS_final_aou09.log [Content-Type=application/octet-stream]...\n",
      "Copying file://all_combined_PCSNPS_final_aou09.nosex [Content-Type=application/octet-stream]...\n",
      "Copying file://all_combined_PCSNPS_final_ref.bed [Content-Type=application/octet-stream]...\n",
      "Copying file://all_combined_PCSNPS_final_ref.bim [Content-Type=application/octet-stream]...\n",
      "Copying file://all_combined_PCSNPS_final_ref.fam [Content-Type=application/octet-stream]...\n",
      "Copying file://all_combined_PCSNPS_final_ref.log [Content-Type=application/octet-stream]...\n",
      "Copying file://all_combined_PCSNPS_final_ref.nosex [Content-Type=application/octet-stream]...\n",
      "| [55/55 files][  7.3 GiB/  7.3 GiB] 100% Done   1.6 MiB/s ETA 00:00:00         \n",
      "Operation completed over 55 objects/7.3 GiB.                                     \n"
     ]
    }
   ],
   "source": [
    "!gsutil -m cp all_combined_PCSNPS_final* gs://fc-secure-30fdbdfd-a46b-406d-9617-1bc69ae1da9d/data/PCSNPS/"
   ]
  },
  {
   "cell_type": "code",
   "execution_count": 115,
   "metadata": {},
   "outputs": [
    {
     "name": "stdout",
     "output_type": "stream",
     "text": [
      "gs://fc-secure-30fdbdfd-a46b-406d-9617-1bc69ae1da9d/data/PCSNPS/all_combined_PCSNPS_final_aou00.bed\r\n",
      "gs://fc-secure-30fdbdfd-a46b-406d-9617-1bc69ae1da9d/data/PCSNPS/all_combined_PCSNPS_final_aou00.bim\r\n",
      "gs://fc-secure-30fdbdfd-a46b-406d-9617-1bc69ae1da9d/data/PCSNPS/all_combined_PCSNPS_final_aou00.fam\r\n",
      "gs://fc-secure-30fdbdfd-a46b-406d-9617-1bc69ae1da9d/data/PCSNPS/all_combined_PCSNPS_final_aou00.log\r\n",
      "gs://fc-secure-30fdbdfd-a46b-406d-9617-1bc69ae1da9d/data/PCSNPS/all_combined_PCSNPS_final_aou00.nosex\r\n",
      "gs://fc-secure-30fdbdfd-a46b-406d-9617-1bc69ae1da9d/data/PCSNPS/all_combined_PCSNPS_final_aou01.bed\r\n",
      "gs://fc-secure-30fdbdfd-a46b-406d-9617-1bc69ae1da9d/data/PCSNPS/all_combined_PCSNPS_final_aou01.bim\r\n",
      "gs://fc-secure-30fdbdfd-a46b-406d-9617-1bc69ae1da9d/data/PCSNPS/all_combined_PCSNPS_final_aou01.fam\r\n",
      "gs://fc-secure-30fdbdfd-a46b-406d-9617-1bc69ae1da9d/data/PCSNPS/all_combined_PCSNPS_final_aou01.log\r\n",
      "gs://fc-secure-30fdbdfd-a46b-406d-9617-1bc69ae1da9d/data/PCSNPS/all_combined_PCSNPS_final_aou01.nosex\r\n",
      "gs://fc-secure-30fdbdfd-a46b-406d-9617-1bc69ae1da9d/data/PCSNPS/all_combined_PCSNPS_final_aou02.bed\r\n",
      "gs://fc-secure-30fdbdfd-a46b-406d-9617-1bc69ae1da9d/data/PCSNPS/all_combined_PCSNPS_final_aou02.bim\r\n",
      "gs://fc-secure-30fdbdfd-a46b-406d-9617-1bc69ae1da9d/data/PCSNPS/all_combined_PCSNPS_final_aou02.fam\r\n",
      "gs://fc-secure-30fdbdfd-a46b-406d-9617-1bc69ae1da9d/data/PCSNPS/all_combined_PCSNPS_final_aou02.log\r\n",
      "gs://fc-secure-30fdbdfd-a46b-406d-9617-1bc69ae1da9d/data/PCSNPS/all_combined_PCSNPS_final_aou02.nosex\r\n",
      "gs://fc-secure-30fdbdfd-a46b-406d-9617-1bc69ae1da9d/data/PCSNPS/all_combined_PCSNPS_final_aou03.bed\r\n",
      "gs://fc-secure-30fdbdfd-a46b-406d-9617-1bc69ae1da9d/data/PCSNPS/all_combined_PCSNPS_final_aou03.bim\r\n",
      "gs://fc-secure-30fdbdfd-a46b-406d-9617-1bc69ae1da9d/data/PCSNPS/all_combined_PCSNPS_final_aou03.fam\r\n",
      "gs://fc-secure-30fdbdfd-a46b-406d-9617-1bc69ae1da9d/data/PCSNPS/all_combined_PCSNPS_final_aou03.log\r\n",
      "gs://fc-secure-30fdbdfd-a46b-406d-9617-1bc69ae1da9d/data/PCSNPS/all_combined_PCSNPS_final_aou03.nosex\r\n",
      "gs://fc-secure-30fdbdfd-a46b-406d-9617-1bc69ae1da9d/data/PCSNPS/all_combined_PCSNPS_final_aou04.bed\r\n",
      "gs://fc-secure-30fdbdfd-a46b-406d-9617-1bc69ae1da9d/data/PCSNPS/all_combined_PCSNPS_final_aou04.bim\r\n",
      "gs://fc-secure-30fdbdfd-a46b-406d-9617-1bc69ae1da9d/data/PCSNPS/all_combined_PCSNPS_final_aou04.fam\r\n",
      "gs://fc-secure-30fdbdfd-a46b-406d-9617-1bc69ae1da9d/data/PCSNPS/all_combined_PCSNPS_final_aou04.log\r\n",
      "gs://fc-secure-30fdbdfd-a46b-406d-9617-1bc69ae1da9d/data/PCSNPS/all_combined_PCSNPS_final_aou04.nosex\r\n",
      "gs://fc-secure-30fdbdfd-a46b-406d-9617-1bc69ae1da9d/data/PCSNPS/all_combined_PCSNPS_final_aou05.bed\r\n",
      "gs://fc-secure-30fdbdfd-a46b-406d-9617-1bc69ae1da9d/data/PCSNPS/all_combined_PCSNPS_final_aou05.bim\r\n",
      "gs://fc-secure-30fdbdfd-a46b-406d-9617-1bc69ae1da9d/data/PCSNPS/all_combined_PCSNPS_final_aou05.fam\r\n",
      "gs://fc-secure-30fdbdfd-a46b-406d-9617-1bc69ae1da9d/data/PCSNPS/all_combined_PCSNPS_final_aou05.log\r\n",
      "gs://fc-secure-30fdbdfd-a46b-406d-9617-1bc69ae1da9d/data/PCSNPS/all_combined_PCSNPS_final_aou05.nosex\r\n",
      "gs://fc-secure-30fdbdfd-a46b-406d-9617-1bc69ae1da9d/data/PCSNPS/all_combined_PCSNPS_final_aou06.bed\r\n",
      "gs://fc-secure-30fdbdfd-a46b-406d-9617-1bc69ae1da9d/data/PCSNPS/all_combined_PCSNPS_final_aou06.bim\r\n",
      "gs://fc-secure-30fdbdfd-a46b-406d-9617-1bc69ae1da9d/data/PCSNPS/all_combined_PCSNPS_final_aou06.fam\r\n",
      "gs://fc-secure-30fdbdfd-a46b-406d-9617-1bc69ae1da9d/data/PCSNPS/all_combined_PCSNPS_final_aou06.log\r\n",
      "gs://fc-secure-30fdbdfd-a46b-406d-9617-1bc69ae1da9d/data/PCSNPS/all_combined_PCSNPS_final_aou06.nosex\r\n",
      "gs://fc-secure-30fdbdfd-a46b-406d-9617-1bc69ae1da9d/data/PCSNPS/all_combined_PCSNPS_final_aou07.bed\r\n",
      "gs://fc-secure-30fdbdfd-a46b-406d-9617-1bc69ae1da9d/data/PCSNPS/all_combined_PCSNPS_final_aou07.bim\r\n",
      "gs://fc-secure-30fdbdfd-a46b-406d-9617-1bc69ae1da9d/data/PCSNPS/all_combined_PCSNPS_final_aou07.fam\r\n",
      "gs://fc-secure-30fdbdfd-a46b-406d-9617-1bc69ae1da9d/data/PCSNPS/all_combined_PCSNPS_final_aou07.log\r\n",
      "gs://fc-secure-30fdbdfd-a46b-406d-9617-1bc69ae1da9d/data/PCSNPS/all_combined_PCSNPS_final_aou07.nosex\r\n",
      "gs://fc-secure-30fdbdfd-a46b-406d-9617-1bc69ae1da9d/data/PCSNPS/all_combined_PCSNPS_final_aou08.bed\r\n",
      "gs://fc-secure-30fdbdfd-a46b-406d-9617-1bc69ae1da9d/data/PCSNPS/all_combined_PCSNPS_final_aou08.bim\r\n",
      "gs://fc-secure-30fdbdfd-a46b-406d-9617-1bc69ae1da9d/data/PCSNPS/all_combined_PCSNPS_final_aou08.fam\r\n",
      "gs://fc-secure-30fdbdfd-a46b-406d-9617-1bc69ae1da9d/data/PCSNPS/all_combined_PCSNPS_final_aou08.log\r\n",
      "gs://fc-secure-30fdbdfd-a46b-406d-9617-1bc69ae1da9d/data/PCSNPS/all_combined_PCSNPS_final_aou08.nosex\r\n",
      "gs://fc-secure-30fdbdfd-a46b-406d-9617-1bc69ae1da9d/data/PCSNPS/all_combined_PCSNPS_final_aou09.bed\r\n",
      "gs://fc-secure-30fdbdfd-a46b-406d-9617-1bc69ae1da9d/data/PCSNPS/all_combined_PCSNPS_final_aou09.bim\r\n",
      "gs://fc-secure-30fdbdfd-a46b-406d-9617-1bc69ae1da9d/data/PCSNPS/all_combined_PCSNPS_final_aou09.fam\r\n",
      "gs://fc-secure-30fdbdfd-a46b-406d-9617-1bc69ae1da9d/data/PCSNPS/all_combined_PCSNPS_final_aou09.log\r\n",
      "gs://fc-secure-30fdbdfd-a46b-406d-9617-1bc69ae1da9d/data/PCSNPS/all_combined_PCSNPS_final_aou09.nosex\r\n",
      "gs://fc-secure-30fdbdfd-a46b-406d-9617-1bc69ae1da9d/data/PCSNPS/all_combined_PCSNPS_final_ref.bed\r\n",
      "gs://fc-secure-30fdbdfd-a46b-406d-9617-1bc69ae1da9d/data/PCSNPS/all_combined_PCSNPS_final_ref.bim\r\n",
      "gs://fc-secure-30fdbdfd-a46b-406d-9617-1bc69ae1da9d/data/PCSNPS/all_combined_PCSNPS_final_ref.fam\r\n",
      "gs://fc-secure-30fdbdfd-a46b-406d-9617-1bc69ae1da9d/data/PCSNPS/all_combined_PCSNPS_final_ref.log\r\n",
      "gs://fc-secure-30fdbdfd-a46b-406d-9617-1bc69ae1da9d/data/PCSNPS/all_combined_PCSNPS_final_ref.nosex\r\n"
     ]
    }
   ],
   "source": [
    "!gsutil ls gs://fc-secure-30fdbdfd-a46b-406d-9617-1bc69ae1da9d/data/PCSNPS/all_combined_PCSNPS_final*"
   ]
  },
  {
   "cell_type": "code",
   "execution_count": 116,
   "metadata": {},
   "outputs": [
    {
     "name": "stdout",
     "output_type": "stream",
     "text": [
      "Copying file://ref_ids.txt [Content-Type=text/plain]...\n",
      "/ [1/1 files][ 43.3 KiB/ 43.3 KiB] 100% Done                                    \n",
      "Operation completed over 1 objects/43.3 KiB.                                     \n",
      "Copying file://aou_ids.txt [Content-Type=text/plain]...\n",
      "- [1/1 files][963.1 KiB/963.1 KiB] 100% Done                                    \n",
      "Operation completed over 1 objects/963.1 KiB.                                    \n"
     ]
    }
   ],
   "source": [
    "!gsutil -m cp ref_ids.txt gs://fc-secure-30fdbdfd-a46b-406d-9617-1bc69ae1da9d/data/PCSNPS/\n",
    "!gsutil -m cp aou_ids.txt gs://fc-secure-30fdbdfd-a46b-406d-9617-1bc69ae1da9d/data/PCSNPS/\n",
    "#!gsutil -m cp all_combined_PCSNPS.* gs://fc-secure-30fdbdfd-a46b-406d-9617-1bc69ae1da9d/data/PCSNPS/"
   ]
  },
  {
   "cell_type": "code",
   "execution_count": 120,
   "metadata": {},
   "outputs": [
    {
     "name": "stdout",
     "output_type": "stream",
     "text": [
      "CommandException: One or more URLs matched no objects.\r\n"
     ]
    }
   ],
   "source": [
    "!gsutil ls -lh gs://fc-secure-30fdbdfd-a46b-406d-9617-1bc69ae1da9d/data/PCSNPS/all_combined_PCSNPS.*"
   ]
  }
 ],
 "metadata": {
  "kernelspec": {
   "display_name": "Python 3 (ipykernel)",
   "language": "python",
   "name": "python3"
  },
  "language_info": {
   "codemirror_mode": {
    "name": "ipython",
    "version": 3
   },
   "file_extension": ".py",
   "mimetype": "text/x-python",
   "name": "python",
   "nbconvert_exporter": "python",
   "pygments_lexer": "ipython3",
   "version": "3.10.9"
  },
  "toc": {
   "base_numbering": 1,
   "nav_menu": {
    "height": "110.994px",
    "width": "160px"
   },
   "number_sections": true,
   "sideBar": true,
   "skip_h1_title": false,
   "title_cell": "Table of Contents",
   "title_sidebar": "Contents",
   "toc_cell": false,
   "toc_position": {},
   "toc_section_display": true,
   "toc_window_display": false
  }
 },
 "nbformat": 4,
 "nbformat_minor": 2
}
