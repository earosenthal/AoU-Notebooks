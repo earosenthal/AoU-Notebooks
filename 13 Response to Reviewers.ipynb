{
 "cells": [
  {
   "cell_type": "markdown",
   "metadata": {},
   "source": [
    "13 response to additional reviewers\n",
    "\n",
    "Possible additional analysis in reposne to reviewers \n",
    "\n",
    "use standard VM"
   ]
  },
  {
   "cell_type": "markdown",
   "metadata": {},
   "source": [
    "# Load libraries"
   ]
  },
  {
   "cell_type": "code",
   "execution_count": 1,
   "metadata": {},
   "outputs": [],
   "source": [
    "rm(list=ls())"
   ]
  },
  {
   "cell_type": "code",
   "execution_count": 2,
   "metadata": {},
   "outputs": [
    {
     "data": {
      "text/html": [
       "<ol>\n",
       "\t<li>NULL</li>\n",
       "\t<li>NULL</li>\n",
       "\t<li>NULL</li>\n",
       "\t<li>NULL</li>\n",
       "\t<li>NULL</li>\n",
       "\t<li>NULL</li>\n",
       "\t<li>NULL</li>\n",
       "</ol>\n"
      ],
      "text/latex": [
       "\\begin{enumerate}\n",
       "\\item NULL\n",
       "\\item NULL\n",
       "\\item NULL\n",
       "\\item NULL\n",
       "\\item NULL\n",
       "\\item NULL\n",
       "\\item NULL\n",
       "\\end{enumerate}\n"
      ],
      "text/markdown": [
       "1. NULL\n",
       "2. NULL\n",
       "3. NULL\n",
       "4. NULL\n",
       "5. NULL\n",
       "6. NULL\n",
       "7. NULL\n",
       "\n",
       "\n"
      ],
      "text/plain": [
       "[[1]]\n",
       "NULL\n",
       "\n",
       "[[2]]\n",
       "NULL\n",
       "\n",
       "[[3]]\n",
       "NULL\n",
       "\n",
       "[[4]]\n",
       "NULL\n",
       "\n",
       "[[5]]\n",
       "NULL\n",
       "\n",
       "[[6]]\n",
       "NULL\n",
       "\n",
       "[[7]]\n",
       "NULL\n"
      ]
     },
     "metadata": {},
     "output_type": "display_data"
    },
    {
     "name": "stderr",
     "output_type": "stream",
     "text": [
      "\n",
      "Attaching package: ‘Hmisc’\n",
      "\n",
      "\n",
      "The following objects are masked from ‘package:base’:\n",
      "\n",
      "    format.pval, units\n",
      "\n",
      "\n",
      "── \u001b[1mAttaching core tidyverse packages\u001b[22m ──────────────────────── tidyverse 2.0.0 ──\n",
      "\u001b[32m✔\u001b[39m \u001b[34mdplyr    \u001b[39m 1.1.3     \u001b[32m✔\u001b[39m \u001b[34mreadr    \u001b[39m 2.1.4\n",
      "\u001b[32m✔\u001b[39m \u001b[34mforcats  \u001b[39m 1.0.0     \u001b[32m✔\u001b[39m \u001b[34mstringr  \u001b[39m 1.5.0\n",
      "\u001b[32m✔\u001b[39m \u001b[34mggplot2  \u001b[39m 3.4.3     \u001b[32m✔\u001b[39m \u001b[34mtibble   \u001b[39m 3.2.1\n",
      "\u001b[32m✔\u001b[39m \u001b[34mlubridate\u001b[39m 1.9.3     \u001b[32m✔\u001b[39m \u001b[34mtidyr    \u001b[39m 1.3.0\n",
      "\u001b[32m✔\u001b[39m \u001b[34mpurrr    \u001b[39m 1.0.2     \n",
      "── \u001b[1mConflicts\u001b[22m ────────────────────────────────────────── tidyverse_conflicts() ──\n",
      "\u001b[31m✖\u001b[39m \u001b[34mdplyr\u001b[39m::\u001b[32mbetween()\u001b[39m     masks \u001b[34mdata.table\u001b[39m::between()\n",
      "\u001b[31m✖\u001b[39m \u001b[34mdplyr\u001b[39m::\u001b[32mfilter()\u001b[39m      masks \u001b[34mstats\u001b[39m::filter()\n",
      "\u001b[31m✖\u001b[39m \u001b[34mdplyr\u001b[39m::\u001b[32mfirst()\u001b[39m       masks \u001b[34mdata.table\u001b[39m::first()\n",
      "\u001b[31m✖\u001b[39m \u001b[34mlubridate\u001b[39m::\u001b[32mhour()\u001b[39m    masks \u001b[34mdata.table\u001b[39m::hour()\n",
      "\u001b[31m✖\u001b[39m \u001b[34mlubridate\u001b[39m::\u001b[32misoweek()\u001b[39m masks \u001b[34mdata.table\u001b[39m::isoweek()\n",
      "\u001b[31m✖\u001b[39m \u001b[34mdplyr\u001b[39m::\u001b[32mlag()\u001b[39m         masks \u001b[34mstats\u001b[39m::lag()\n",
      "\u001b[31m✖\u001b[39m \u001b[34mdplyr\u001b[39m::\u001b[32mlast()\u001b[39m        masks \u001b[34mdata.table\u001b[39m::last()\n",
      "\u001b[31m✖\u001b[39m \u001b[34mlubridate\u001b[39m::\u001b[32mmday()\u001b[39m    masks \u001b[34mdata.table\u001b[39m::mday()\n",
      "\u001b[31m✖\u001b[39m \u001b[34mlubridate\u001b[39m::\u001b[32mminute()\u001b[39m  masks \u001b[34mdata.table\u001b[39m::minute()\n",
      "\u001b[31m✖\u001b[39m \u001b[34mlubridate\u001b[39m::\u001b[32mmonth()\u001b[39m   masks \u001b[34mdata.table\u001b[39m::month()\n",
      "\u001b[31m✖\u001b[39m \u001b[34mlubridate\u001b[39m::\u001b[32mquarter()\u001b[39m masks \u001b[34mdata.table\u001b[39m::quarter()\n",
      "\u001b[31m✖\u001b[39m \u001b[34mlubridate\u001b[39m::\u001b[32msecond()\u001b[39m  masks \u001b[34mdata.table\u001b[39m::second()\n",
      "\u001b[31m✖\u001b[39m \u001b[34mdplyr\u001b[39m::\u001b[32msrc()\u001b[39m         masks \u001b[34mHmisc\u001b[39m::src()\n",
      "\u001b[31m✖\u001b[39m \u001b[34mdplyr\u001b[39m::\u001b[32msummarize()\u001b[39m   masks \u001b[34mHmisc\u001b[39m::summarize()\n",
      "\u001b[31m✖\u001b[39m \u001b[34mpurrr\u001b[39m::\u001b[32mtranspose()\u001b[39m   masks \u001b[34mdata.table\u001b[39m::transpose()\n",
      "\u001b[31m✖\u001b[39m \u001b[34mlubridate\u001b[39m::\u001b[32mwday()\u001b[39m    masks \u001b[34mdata.table\u001b[39m::wday()\n",
      "\u001b[31m✖\u001b[39m \u001b[34mlubridate\u001b[39m::\u001b[32mweek()\u001b[39m    masks \u001b[34mdata.table\u001b[39m::week()\n",
      "\u001b[31m✖\u001b[39m \u001b[34mlubridate\u001b[39m::\u001b[32myday()\u001b[39m    masks \u001b[34mdata.table\u001b[39m::yday()\n",
      "\u001b[31m✖\u001b[39m \u001b[34mlubridate\u001b[39m::\u001b[32myear()\u001b[39m    masks \u001b[34mdata.table\u001b[39m::year()\n",
      "\u001b[36mℹ\u001b[39m Use the conflicted package (\u001b[3m\u001b[34m<http://conflicted.r-lib.org/>\u001b[39m\u001b[23m) to force all conflicts to become errors\n",
      "Type 'citation(\"pROC\")' for a citation.\n",
      "\n",
      "\n",
      "Attaching package: ‘pROC’\n",
      "\n",
      "\n",
      "The following objects are masked from ‘package:stats’:\n",
      "\n",
      "    cov, smooth, var\n",
      "\n",
      "\n"
     ]
    },
    {
     "data": {
      "text/html": [
       "<ol>\n",
       "\t<li><style>\n",
       ".list-inline {list-style: none; margin:0; padding: 0}\n",
       ".list-inline>li {display: inline-block}\n",
       ".list-inline>li:not(:last-child)::after {content: \"\\00b7\"; padding: 0 .5ex}\n",
       "</style>\n",
       "<ol class=list-inline><li>'data.table'</li><li>'stats'</li><li>'graphics'</li><li>'grDevices'</li><li>'utils'</li><li>'datasets'</li><li>'methods'</li><li>'base'</li></ol>\n",
       "</li>\n",
       "\t<li><style>\n",
       ".list-inline {list-style: none; margin:0; padding: 0}\n",
       ".list-inline>li {display: inline-block}\n",
       ".list-inline>li:not(:last-child)::after {content: \"\\00b7\"; padding: 0 .5ex}\n",
       "</style>\n",
       "<ol class=list-inline><li>'Hmisc'</li><li>'data.table'</li><li>'stats'</li><li>'graphics'</li><li>'grDevices'</li><li>'utils'</li><li>'datasets'</li><li>'methods'</li><li>'base'</li></ol>\n",
       "</li>\n",
       "\t<li><style>\n",
       ".list-inline {list-style: none; margin:0; padding: 0}\n",
       ".list-inline>li {display: inline-block}\n",
       ".list-inline>li:not(:last-child)::after {content: \"\\00b7\"; padding: 0 .5ex}\n",
       "</style>\n",
       "<ol class=list-inline><li>'lubridate'</li><li>'forcats'</li><li>'stringr'</li><li>'dplyr'</li><li>'purrr'</li><li>'readr'</li><li>'tidyr'</li><li>'tibble'</li><li>'ggplot2'</li><li>'tidyverse'</li><li>'Hmisc'</li><li>'data.table'</li><li>'stats'</li><li>'graphics'</li><li>'grDevices'</li><li>'utils'</li><li>'datasets'</li><li>'methods'</li><li>'base'</li></ol>\n",
       "</li>\n",
       "\t<li><style>\n",
       ".list-inline {list-style: none; margin:0; padding: 0}\n",
       ".list-inline>li {display: inline-block}\n",
       ".list-inline>li:not(:last-child)::after {content: \"\\00b7\"; padding: 0 .5ex}\n",
       "</style>\n",
       "<ol class=list-inline><li>'bigrquery'</li><li>'lubridate'</li><li>'forcats'</li><li>'stringr'</li><li>'dplyr'</li><li>'purrr'</li><li>'readr'</li><li>'tidyr'</li><li>'tibble'</li><li>'ggplot2'</li><li>'tidyverse'</li><li>'Hmisc'</li><li>'data.table'</li><li>'stats'</li><li>'graphics'</li><li>'grDevices'</li><li>'utils'</li><li>'datasets'</li><li>'methods'</li><li>'base'</li></ol>\n",
       "</li>\n",
       "\t<li><style>\n",
       ".list-inline {list-style: none; margin:0; padding: 0}\n",
       ".list-inline>li {display: inline-block}\n",
       ".list-inline>li:not(:last-child)::after {content: \"\\00b7\"; padding: 0 .5ex}\n",
       "</style>\n",
       "<ol class=list-inline><li>'bigrquery'</li><li>'lubridate'</li><li>'forcats'</li><li>'stringr'</li><li>'dplyr'</li><li>'purrr'</li><li>'readr'</li><li>'tidyr'</li><li>'tibble'</li><li>'ggplot2'</li><li>'tidyverse'</li><li>'Hmisc'</li><li>'data.table'</li><li>'stats'</li><li>'graphics'</li><li>'grDevices'</li><li>'utils'</li><li>'datasets'</li><li>'methods'</li><li>'base'</li></ol>\n",
       "</li>\n",
       "\t<li><style>\n",
       ".list-inline {list-style: none; margin:0; padding: 0}\n",
       ".list-inline>li {display: inline-block}\n",
       ".list-inline>li:not(:last-child)::after {content: \"\\00b7\"; padding: 0 .5ex}\n",
       "</style>\n",
       "<ol class=list-inline><li>'pROC'</li><li>'bigrquery'</li><li>'lubridate'</li><li>'forcats'</li><li>'stringr'</li><li>'dplyr'</li><li>'purrr'</li><li>'readr'</li><li>'tidyr'</li><li>'tibble'</li><li>'ggplot2'</li><li>'tidyverse'</li><li>'Hmisc'</li><li>'data.table'</li><li>'stats'</li><li>'graphics'</li><li>'grDevices'</li><li>'utils'</li><li>'datasets'</li><li>'methods'</li><li>'base'</li></ol>\n",
       "</li>\n",
       "\t<li><style>\n",
       ".list-inline {list-style: none; margin:0; padding: 0}\n",
       ".list-inline>li {display: inline-block}\n",
       ".list-inline>li:not(:last-child)::after {content: \"\\00b7\"; padding: 0 .5ex}\n",
       "</style>\n",
       "<ol class=list-inline><li>'pROC'</li><li>'bigrquery'</li><li>'lubridate'</li><li>'forcats'</li><li>'stringr'</li><li>'dplyr'</li><li>'purrr'</li><li>'readr'</li><li>'tidyr'</li><li>'tibble'</li><li>'ggplot2'</li><li>'tidyverse'</li><li>'Hmisc'</li><li>'data.table'</li><li>'stats'</li><li>'graphics'</li><li>'grDevices'</li><li>'utils'</li><li>'datasets'</li><li>'methods'</li><li>'base'</li></ol>\n",
       "</li>\n",
       "</ol>\n"
      ],
      "text/latex": [
       "\\begin{enumerate}\n",
       "\\item \\begin{enumerate*}\n",
       "\\item 'data.table'\n",
       "\\item 'stats'\n",
       "\\item 'graphics'\n",
       "\\item 'grDevices'\n",
       "\\item 'utils'\n",
       "\\item 'datasets'\n",
       "\\item 'methods'\n",
       "\\item 'base'\n",
       "\\end{enumerate*}\n",
       "\n",
       "\\item \\begin{enumerate*}\n",
       "\\item 'Hmisc'\n",
       "\\item 'data.table'\n",
       "\\item 'stats'\n",
       "\\item 'graphics'\n",
       "\\item 'grDevices'\n",
       "\\item 'utils'\n",
       "\\item 'datasets'\n",
       "\\item 'methods'\n",
       "\\item 'base'\n",
       "\\end{enumerate*}\n",
       "\n",
       "\\item \\begin{enumerate*}\n",
       "\\item 'lubridate'\n",
       "\\item 'forcats'\n",
       "\\item 'stringr'\n",
       "\\item 'dplyr'\n",
       "\\item 'purrr'\n",
       "\\item 'readr'\n",
       "\\item 'tidyr'\n",
       "\\item 'tibble'\n",
       "\\item 'ggplot2'\n",
       "\\item 'tidyverse'\n",
       "\\item 'Hmisc'\n",
       "\\item 'data.table'\n",
       "\\item 'stats'\n",
       "\\item 'graphics'\n",
       "\\item 'grDevices'\n",
       "\\item 'utils'\n",
       "\\item 'datasets'\n",
       "\\item 'methods'\n",
       "\\item 'base'\n",
       "\\end{enumerate*}\n",
       "\n",
       "\\item \\begin{enumerate*}\n",
       "\\item 'bigrquery'\n",
       "\\item 'lubridate'\n",
       "\\item 'forcats'\n",
       "\\item 'stringr'\n",
       "\\item 'dplyr'\n",
       "\\item 'purrr'\n",
       "\\item 'readr'\n",
       "\\item 'tidyr'\n",
       "\\item 'tibble'\n",
       "\\item 'ggplot2'\n",
       "\\item 'tidyverse'\n",
       "\\item 'Hmisc'\n",
       "\\item 'data.table'\n",
       "\\item 'stats'\n",
       "\\item 'graphics'\n",
       "\\item 'grDevices'\n",
       "\\item 'utils'\n",
       "\\item 'datasets'\n",
       "\\item 'methods'\n",
       "\\item 'base'\n",
       "\\end{enumerate*}\n",
       "\n",
       "\\item \\begin{enumerate*}\n",
       "\\item 'bigrquery'\n",
       "\\item 'lubridate'\n",
       "\\item 'forcats'\n",
       "\\item 'stringr'\n",
       "\\item 'dplyr'\n",
       "\\item 'purrr'\n",
       "\\item 'readr'\n",
       "\\item 'tidyr'\n",
       "\\item 'tibble'\n",
       "\\item 'ggplot2'\n",
       "\\item 'tidyverse'\n",
       "\\item 'Hmisc'\n",
       "\\item 'data.table'\n",
       "\\item 'stats'\n",
       "\\item 'graphics'\n",
       "\\item 'grDevices'\n",
       "\\item 'utils'\n",
       "\\item 'datasets'\n",
       "\\item 'methods'\n",
       "\\item 'base'\n",
       "\\end{enumerate*}\n",
       "\n",
       "\\item \\begin{enumerate*}\n",
       "\\item 'pROC'\n",
       "\\item 'bigrquery'\n",
       "\\item 'lubridate'\n",
       "\\item 'forcats'\n",
       "\\item 'stringr'\n",
       "\\item 'dplyr'\n",
       "\\item 'purrr'\n",
       "\\item 'readr'\n",
       "\\item 'tidyr'\n",
       "\\item 'tibble'\n",
       "\\item 'ggplot2'\n",
       "\\item 'tidyverse'\n",
       "\\item 'Hmisc'\n",
       "\\item 'data.table'\n",
       "\\item 'stats'\n",
       "\\item 'graphics'\n",
       "\\item 'grDevices'\n",
       "\\item 'utils'\n",
       "\\item 'datasets'\n",
       "\\item 'methods'\n",
       "\\item 'base'\n",
       "\\end{enumerate*}\n",
       "\n",
       "\\item \\begin{enumerate*}\n",
       "\\item 'pROC'\n",
       "\\item 'bigrquery'\n",
       "\\item 'lubridate'\n",
       "\\item 'forcats'\n",
       "\\item 'stringr'\n",
       "\\item 'dplyr'\n",
       "\\item 'purrr'\n",
       "\\item 'readr'\n",
       "\\item 'tidyr'\n",
       "\\item 'tibble'\n",
       "\\item 'ggplot2'\n",
       "\\item 'tidyverse'\n",
       "\\item 'Hmisc'\n",
       "\\item 'data.table'\n",
       "\\item 'stats'\n",
       "\\item 'graphics'\n",
       "\\item 'grDevices'\n",
       "\\item 'utils'\n",
       "\\item 'datasets'\n",
       "\\item 'methods'\n",
       "\\item 'base'\n",
       "\\end{enumerate*}\n",
       "\n",
       "\\end{enumerate}\n"
      ],
      "text/markdown": [
       "1. 1. 'data.table'\n",
       "2. 'stats'\n",
       "3. 'graphics'\n",
       "4. 'grDevices'\n",
       "5. 'utils'\n",
       "6. 'datasets'\n",
       "7. 'methods'\n",
       "8. 'base'\n",
       "\n",
       "\n",
       "\n",
       "2. 1. 'Hmisc'\n",
       "2. 'data.table'\n",
       "3. 'stats'\n",
       "4. 'graphics'\n",
       "5. 'grDevices'\n",
       "6. 'utils'\n",
       "7. 'datasets'\n",
       "8. 'methods'\n",
       "9. 'base'\n",
       "\n",
       "\n",
       "\n",
       "3. 1. 'lubridate'\n",
       "2. 'forcats'\n",
       "3. 'stringr'\n",
       "4. 'dplyr'\n",
       "5. 'purrr'\n",
       "6. 'readr'\n",
       "7. 'tidyr'\n",
       "8. 'tibble'\n",
       "9. 'ggplot2'\n",
       "10. 'tidyverse'\n",
       "11. 'Hmisc'\n",
       "12. 'data.table'\n",
       "13. 'stats'\n",
       "14. 'graphics'\n",
       "15. 'grDevices'\n",
       "16. 'utils'\n",
       "17. 'datasets'\n",
       "18. 'methods'\n",
       "19. 'base'\n",
       "\n",
       "\n",
       "\n",
       "4. 1. 'bigrquery'\n",
       "2. 'lubridate'\n",
       "3. 'forcats'\n",
       "4. 'stringr'\n",
       "5. 'dplyr'\n",
       "6. 'purrr'\n",
       "7. 'readr'\n",
       "8. 'tidyr'\n",
       "9. 'tibble'\n",
       "10. 'ggplot2'\n",
       "11. 'tidyverse'\n",
       "12. 'Hmisc'\n",
       "13. 'data.table'\n",
       "14. 'stats'\n",
       "15. 'graphics'\n",
       "16. 'grDevices'\n",
       "17. 'utils'\n",
       "18. 'datasets'\n",
       "19. 'methods'\n",
       "20. 'base'\n",
       "\n",
       "\n",
       "\n",
       "5. 1. 'bigrquery'\n",
       "2. 'lubridate'\n",
       "3. 'forcats'\n",
       "4. 'stringr'\n",
       "5. 'dplyr'\n",
       "6. 'purrr'\n",
       "7. 'readr'\n",
       "8. 'tidyr'\n",
       "9. 'tibble'\n",
       "10. 'ggplot2'\n",
       "11. 'tidyverse'\n",
       "12. 'Hmisc'\n",
       "13. 'data.table'\n",
       "14. 'stats'\n",
       "15. 'graphics'\n",
       "16. 'grDevices'\n",
       "17. 'utils'\n",
       "18. 'datasets'\n",
       "19. 'methods'\n",
       "20. 'base'\n",
       "\n",
       "\n",
       "\n",
       "6. 1. 'pROC'\n",
       "2. 'bigrquery'\n",
       "3. 'lubridate'\n",
       "4. 'forcats'\n",
       "5. 'stringr'\n",
       "6. 'dplyr'\n",
       "7. 'purrr'\n",
       "8. 'readr'\n",
       "9. 'tidyr'\n",
       "10. 'tibble'\n",
       "11. 'ggplot2'\n",
       "12. 'tidyverse'\n",
       "13. 'Hmisc'\n",
       "14. 'data.table'\n",
       "15. 'stats'\n",
       "16. 'graphics'\n",
       "17. 'grDevices'\n",
       "18. 'utils'\n",
       "19. 'datasets'\n",
       "20. 'methods'\n",
       "21. 'base'\n",
       "\n",
       "\n",
       "\n",
       "7. 1. 'pROC'\n",
       "2. 'bigrquery'\n",
       "3. 'lubridate'\n",
       "4. 'forcats'\n",
       "5. 'stringr'\n",
       "6. 'dplyr'\n",
       "7. 'purrr'\n",
       "8. 'readr'\n",
       "9. 'tidyr'\n",
       "10. 'tibble'\n",
       "11. 'ggplot2'\n",
       "12. 'tidyverse'\n",
       "13. 'Hmisc'\n",
       "14. 'data.table'\n",
       "15. 'stats'\n",
       "16. 'graphics'\n",
       "17. 'grDevices'\n",
       "18. 'utils'\n",
       "19. 'datasets'\n",
       "20. 'methods'\n",
       "21. 'base'\n",
       "\n",
       "\n",
       "\n",
       "\n",
       "\n"
      ],
      "text/plain": [
       "[[1]]\n",
       "[1] \"data.table\" \"stats\"      \"graphics\"   \"grDevices\"  \"utils\"     \n",
       "[6] \"datasets\"   \"methods\"    \"base\"      \n",
       "\n",
       "[[2]]\n",
       "[1] \"Hmisc\"      \"data.table\" \"stats\"      \"graphics\"   \"grDevices\" \n",
       "[6] \"utils\"      \"datasets\"   \"methods\"    \"base\"      \n",
       "\n",
       "[[3]]\n",
       " [1] \"lubridate\"  \"forcats\"    \"stringr\"    \"dplyr\"      \"purrr\"     \n",
       " [6] \"readr\"      \"tidyr\"      \"tibble\"     \"ggplot2\"    \"tidyverse\" \n",
       "[11] \"Hmisc\"      \"data.table\" \"stats\"      \"graphics\"   \"grDevices\" \n",
       "[16] \"utils\"      \"datasets\"   \"methods\"    \"base\"      \n",
       "\n",
       "[[4]]\n",
       " [1] \"bigrquery\"  \"lubridate\"  \"forcats\"    \"stringr\"    \"dplyr\"     \n",
       " [6] \"purrr\"      \"readr\"      \"tidyr\"      \"tibble\"     \"ggplot2\"   \n",
       "[11] \"tidyverse\"  \"Hmisc\"      \"data.table\" \"stats\"      \"graphics\"  \n",
       "[16] \"grDevices\"  \"utils\"      \"datasets\"   \"methods\"    \"base\"      \n",
       "\n",
       "[[5]]\n",
       " [1] \"bigrquery\"  \"lubridate\"  \"forcats\"    \"stringr\"    \"dplyr\"     \n",
       " [6] \"purrr\"      \"readr\"      \"tidyr\"      \"tibble\"     \"ggplot2\"   \n",
       "[11] \"tidyverse\"  \"Hmisc\"      \"data.table\" \"stats\"      \"graphics\"  \n",
       "[16] \"grDevices\"  \"utils\"      \"datasets\"   \"methods\"    \"base\"      \n",
       "\n",
       "[[6]]\n",
       " [1] \"pROC\"       \"bigrquery\"  \"lubridate\"  \"forcats\"    \"stringr\"   \n",
       " [6] \"dplyr\"      \"purrr\"      \"readr\"      \"tidyr\"      \"tibble\"    \n",
       "[11] \"ggplot2\"    \"tidyverse\"  \"Hmisc\"      \"data.table\" \"stats\"     \n",
       "[16] \"graphics\"   \"grDevices\"  \"utils\"      \"datasets\"   \"methods\"   \n",
       "[21] \"base\"      \n",
       "\n",
       "[[7]]\n",
       " [1] \"pROC\"       \"bigrquery\"  \"lubridate\"  \"forcats\"    \"stringr\"   \n",
       " [6] \"dplyr\"      \"purrr\"      \"readr\"      \"tidyr\"      \"tibble\"    \n",
       "[11] \"ggplot2\"    \"tidyverse\"  \"Hmisc\"      \"data.table\" \"stats\"     \n",
       "[16] \"graphics\"   \"grDevices\"  \"utils\"      \"datasets\"   \"methods\"   \n",
       "[21] \"base\"      \n"
      ]
     },
     "metadata": {},
     "output_type": "display_data"
    }
   ],
   "source": [
    "my.packages <- c('data.table','Hmisc','tidyverse','bigrquery','lubridate','pROC','stats')\n",
    "lapply(my.packages,\n",
    "       function(pkg) { if(! pkg %in% installed.packages()) { install.packages(pkg)} } )\n",
    "lapply(my.packages,library,character.only = TRUE)"
   ]
  },
  {
   "cell_type": "code",
   "execution_count": 4,
   "metadata": {},
   "outputs": [
    {
     "name": "stderr",
     "output_type": "stream",
     "text": [
      "'getOption(\"repos\")' replaces Bioconductor standard repositories, see\n",
      "'help(\"repositories\", package = \"BiocManager\")' for details.\n",
      "Replacement repositories:\n",
      "    CRAN: https://cloud.r-project.org\n",
      "\n",
      "Bioconductor version 3.17 (BiocManager 1.30.22), R 4.3.1 (2023-06-16)\n",
      "\n",
      "Installing package(s) 'GENESIS'\n",
      "\n",
      "also installing the dependencies ‘nloptr’, ‘RcppEigen’, ‘lme4’, ‘jomo’, ‘mitml’, ‘mice’, ‘logistf’, ‘GWASTools’, ‘SeqVarTools’\n",
      "\n",
      "\n",
      "Old packages: 'BH', 'bigrquery', 'boot', 'brew', 'brio', 'bslib', 'callr',\n",
      "  'cli', 'cluster', 'codetools', 'commonmark', 'cowplot', 'cpp11', 'crosstalk',\n",
      "  'curl', 'data.table', 'DBI', 'dbplyr', 'deldir', 'desc', 'digest', 'dplyr',\n",
      "  'dqrng', 'DT', 'evaluate', 'fansi', 'filelock', 'FNN', 'foreign', 'future',\n",
      "  'future.apply', 'GenomicRanges', 'gert', 'ggplot2', 'ggrepel', 'ggridges',\n",
      "  'gh', 'globals', 'glue', 'gplots', 'gtable', 'gtools', 'GWASExactHW',\n",
      "  'haven', 'htmltools', 'htmlwidgets', 'httpuv', 'httr2', 'igraph', 'interp',\n",
      "  'jsonlite', 'knitr', 'later', 'lattice', 'leiden', 'lifecycle', 'listenv',\n",
      "  'locfit', 'MASS', 'Matrix', 'MatrixModels', 'matrixStats', 'mgcv', 'munsell',\n",
      "  'nlme', 'openssl', 'ordinal', 'parallelly', 'patchwork', 'pbdZMQ',\n",
      "  'pkgbuild', 'pkgdown', 'pkgload', 'plotly', 'processx', 'progress',\n",
      "  'promises', 'ps', 'ragg', 'rapiclient', 'Rcpp', 'RcppAnnoy', 'RcppArmadillo',\n",
      "  'RcppEigen', 'RcppHNSW', 'RCurl', 'readr', 'remotes', 'repr', 'reprex',\n",
      "  'reticulate', 'rlang', 'rmarkdown', 'roxygen2', 'rpart', 'rprojroot',\n",
      "  'RSQLite', 'rstudioapi', 'Rtsne', 'rvest', 'sandwich', 'sass', 'scales',\n",
      "  'sctransform', 'scuttle', 'Seurat', 'SeuratObject', 'shape', 'shiny', 'sp',\n",
      "  'spatstat.data', 'spatstat.explore', 'spatstat.geom', 'spatstat.random',\n",
      "  'spatstat.sparse', 'spatstat.utils', 'stringi', 'stringr', 'survival',\n",
      "  'systemfonts', 'testthat', 'textshaping', 'tidyr', 'tidyselect',\n",
      "  'timechange', 'tinytex', 'ucminf', 'usethis', 'utf8', 'uuid', 'uwot',\n",
      "  'vctrs', 'vroom', 'waldo', 'withr', 'xfun', 'XML', 'xml2', 'yaml', 'zip'\n",
      "\n"
     ]
    }
   ],
   "source": [
    "# takes about 10 minutes to complete. Run only when necessary\n",
    "install.packages(\"BiocManager\") \n",
    "BiocManager::install(\"GENESIS\")\n"
   ]
  },
  {
   "cell_type": "code",
   "execution_count": 3,
   "metadata": {},
   "outputs": [],
   "source": [
    "library(GENESIS)"
   ]
  },
  {
   "cell_type": "code",
   "execution_count": 23,
   "metadata": {},
   "outputs": [
    {
     "data": {
      "text/plain": [
       "To cite package ‘GENESIS’ in publications use:\n",
       "\n",
       "  Gogarten SM, Sofer T, Chen H, Yu C, Brody JA, Thornton TA, Rice KM,\n",
       "  Conomos MP (2019). “Genetic association testing using the GENESIS\n",
       "  R/Bioconductor package.” _Bioinformatics_.\n",
       "  doi:10.1093/bioinformatics/btz567\n",
       "  <https://doi.org/10.1093/bioinformatics/btz567>.\n",
       "\n",
       "A BibTeX entry for LaTeX users is\n",
       "\n",
       "  @Article{,\n",
       "    title = {{G}enetic association testing using the {G}{E}{N}{E}{S}{I}{S} {R}/{B}ioconductor package},\n",
       "    author = {Stephanie M. Gogarten and Tamar Sofer and Han Chen and Chaoyu Yu and Jennifer A. Brody and Timothy A. Thornton and Kenneth M. Rice and Matthew P. Conomos},\n",
       "    year = {2019},\n",
       "    journal = {Bioinformatics},\n",
       "    doi = {10.1093/bioinformatics/btz567},\n",
       "  }"
      ]
     },
     "metadata": {},
     "output_type": "display_data"
    }
   ],
   "source": [
    "citation(\"GENESIS\")"
   ]
  },
  {
   "cell_type": "code",
   "execution_count": 4,
   "metadata": {},
   "outputs": [
    {
     "data": {
      "text/plain": [
       "R version 4.3.1 (2023-06-16)\n",
       "Platform: x86_64-pc-linux-gnu (64-bit)\n",
       "Running under: Ubuntu 20.04.6 LTS\n",
       "\n",
       "Matrix products: default\n",
       "BLAS:   /usr/lib/x86_64-linux-gnu/openblas-pthread/libblas.so.3 \n",
       "LAPACK: /usr/lib/x86_64-linux-gnu/openblas-pthread/liblapack.so.3;  LAPACK version 3.9.0\n",
       "\n",
       "locale:\n",
       " [1] LC_CTYPE=en_US.UTF-8       LC_NUMERIC=C              \n",
       " [3] LC_TIME=en_US.UTF-8        LC_COLLATE=en_US.UTF-8    \n",
       " [5] LC_MONETARY=en_US.UTF-8    LC_MESSAGES=en_US.UTF-8   \n",
       " [7] LC_PAPER=en_US.UTF-8       LC_NAME=C                 \n",
       " [9] LC_ADDRESS=C               LC_TELEPHONE=C            \n",
       "[11] LC_MEASUREMENT=en_US.UTF-8 LC_IDENTIFICATION=C       \n",
       "\n",
       "time zone: Etc/UTC\n",
       "tzcode source: system (glibc)\n",
       "\n",
       "attached base packages:\n",
       "[1] stats     graphics  grDevices utils     datasets  methods   base     \n",
       "\n",
       "other attached packages:\n",
       " [1] GENESIS_2.30.0    pROC_1.18.5       bigrquery_1.4.2   lubridate_1.9.3  \n",
       " [5] forcats_1.0.0     stringr_1.5.0     dplyr_1.1.3       purrr_1.0.2      \n",
       " [9] readr_2.1.4       tidyr_1.3.0       tibble_3.2.1      ggplot2_3.4.3    \n",
       "[13] tidyverse_2.0.0   Hmisc_5.1-2       data.table_1.14.8\n",
       "\n",
       "loaded via a namespace (and not attached):\n",
       "  [1] rstudioapi_0.15.0       jsonlite_1.8.7          shape_1.4.6            \n",
       "  [4] magrittr_2.0.3          jomo_2.7-6              logistf_1.26.0         \n",
       "  [7] nloptr_2.0.3            rmarkdown_2.25          zlibbioc_1.46.0        \n",
       " [10] fs_1.6.3                vctrs_0.6.3             SNPRelate_1.34.1       \n",
       " [13] memoise_2.0.1           minqa_1.2.6             RCurl_1.98-1.12        \n",
       " [16] quantsmooth_1.66.0      base64enc_0.1-3         htmltools_0.5.6        \n",
       " [19] broom_1.0.5             Formula_1.2-5           mitml_0.4-5            \n",
       " [22] htmlwidgets_1.6.2       plyr_1.8.9              sandwich_3.0-2         \n",
       " [25] zoo_1.8-12              cachem_1.0.8            uuid_1.1-1             \n",
       " [28] lifecycle_1.0.3         iterators_1.0.14        pkgconfig_2.0.3        \n",
       " [31] Matrix_1.6-1.1          R6_2.5.1                fastmap_1.1.1          \n",
       " [34] GenomeInfoDbData_1.2.10 digest_0.6.33           colorspace_2.1-0       \n",
       " [37] GWASTools_1.46.0        S4Vectors_0.38.2        GenomicRanges_1.52.0   \n",
       " [40] RSQLite_2.3.1           fansi_1.0.4             timechange_0.2.0       \n",
       " [43] httr_1.4.7              mgcv_1.9-0              compiler_4.3.1         \n",
       " [46] gargle_1.5.2            bit64_4.0.5             withr_2.5.1            \n",
       " [49] htmlTable_2.4.2         backports_1.4.1         BiocParallel_1.34.2    \n",
       " [52] DBI_1.1.3               pan_1.9                 MASS_7.3-60            \n",
       " [55] quantreg_5.97           DNAcopy_1.74.1          gdsfmt_1.36.1          \n",
       " [58] tools_4.3.1             foreign_0.8-85          lmtest_0.9-40          \n",
       " [61] nnet_7.3-19             glue_1.6.2              nlme_3.1-163           \n",
       " [64] grid_4.3.1              pbdZMQ_0.3-10           checkmate_2.3.1        \n",
       " [67] cluster_2.1.4           generics_0.1.3          operator.tools_1.6.3   \n",
       " [70] gtable_0.3.4            tzdb_0.4.0              formula.tools_1.7.1    \n",
       " [73] hms_1.1.3               XVector_0.40.0          utf8_1.2.3             \n",
       " [76] BiocGenerics_0.46.0     GWASExactHW_1.01        foreach_1.5.2          \n",
       " [79] pillar_1.9.0            IRdisplay_1.1           splines_4.3.1          \n",
       " [82] lattice_0.21-9          survival_3.5-7          bit_4.0.5              \n",
       " [85] SparseM_1.81            tidyselect_1.2.0        SeqVarTools_1.38.0     \n",
       " [88] Biostrings_2.68.1       knitr_1.44              gridExtra_2.3          \n",
       " [91] IRanges_2.34.1          stats4_4.3.1            xfun_0.40              \n",
       " [94] Biobase_2.60.0          stringi_1.7.12          boot_1.3-28.1          \n",
       " [97] evaluate_0.22           codetools_0.2-19        cli_3.6.1              \n",
       "[100] IRkernel_1.3.2          rpart_4.1.19            repr_1.1.6             \n",
       "[103] munsell_0.5.0           Rcpp_1.0.11             GenomeInfoDb_1.36.4    \n",
       "[106] dbplyr_2.3.4            parallel_4.3.1          MatrixModels_0.5-2     \n",
       "[109] assertthat_0.2.1        blob_1.2.4              bitops_1.0-7           \n",
       "[112] lme4_1.1-35.3           glmnet_4.1-8            SeqArray_1.40.1        \n",
       "[115] scales_1.2.1            crayon_1.5.2            rlang_1.1.1            \n",
       "[118] mice_3.16.0            "
      ]
     },
     "metadata": {},
     "output_type": "display_data"
    }
   ],
   "source": [
    "sessionInfo()"
   ]
  },
  {
   "cell_type": "markdown",
   "metadata": {
    "heading_collapsed": true
   },
   "source": [
    "# Functions used in this notebook"
   ]
  },
  {
   "cell_type": "code",
   "execution_count": 4,
   "metadata": {
    "hidden": true
   },
   "outputs": [],
   "source": [
    "# Functions that are used in this notebook\n",
    "# need to add in UC1 or UC2. Need to check the OR analysis firt to decide which to use. \n",
    "# It doesn't look like either UC1 or UC2 is significant, so may be best to ignore\n",
    "# the data set must contain variables named my.PRS, CRC.status, sex and censored.age\n",
    "\n",
    "# function to get the ORs and CIs for one s.d. change in PRS\n",
    "addparentheses <- function(x){paste0(\"(\", x, \")\")}\n",
    "\n",
    "get.sex.age.pvalue <- function(subset.dt)\n",
    "    {\n",
    "    glm2 <- summary(glm(CRC.status ~ my.PRS + sex + censored.age, data=subset.dt,family=\"binomial\"))\n",
    "    (p.sex <- formatC((glm2$coef[\"sex\",4]), format=\"e\", digits=2))\n",
    "    (p.age <- round((glm2$coef[\"censored.age\",4]), 2))\n",
    "    c(p.sex,p.age)\n",
    "}\n",
    "\n",
    "get.OR.round <- function(subset.dt)\n",
    "    {\n",
    "    glm1 <- summary(glm(CRC.status ~ my.PRS, data=subset.dt,family=\"binomial\"))\n",
    "    glm2 <- summary(glm(CRC.status ~ my.PRS + sex + censored.age, data=subset.dt,family=\"binomial\"))\n",
    "    beta1 <-  (glm1$coef[\"my.PRS\",1])\n",
    "    beta2 <- (glm2$coef[\"my.PRS\",1])\n",
    "    OR1 <- round(exp(glm1$coef[\"my.PRS\",1]), 2)\n",
    "    OR2 <- round(exp(glm2$coef[\"my.PRS\",1]), 2)\n",
    "    SD1 <- glm1$coef[\"my.PRS\",2]\n",
    "    SD2 <- glm2$coef[\"my.PRS\",2]\n",
    "    CI1 <- round(exp(beta1 + (SD1* qnorm(c(0.025,0.975)))), 2) \n",
    "    CI2 <- round(exp(beta2 + (SD2* qnorm(c(0.025,0.975)))), 2)\n",
    "    rbind( c(OR1,paste(CI1[1],CI1[2],sep=\",\")), c(OR2, paste(CI2[1],CI2[2],sep=\",\")))\n",
    "}\n",
    "get.OR <- function(subset.dt)\n",
    "    {\n",
    "    glm1 <- summary(glm(CRC.status ~ my.PRS, data=subset.dt,family=\"binomial\"))\n",
    "    glm2 <- summary(glm(CRC.status ~ my.PRS + sex + censored.age, data=subset.dt,family=\"binomial\"))\n",
    "    beta1 <-  (glm1$coef[\"my.PRS\",1])\n",
    "    beta2 <- (glm2$coef[\"my.PRS\",1])\n",
    "    OR1 <- exp(glm1$coef[\"my.PRS\",1])\n",
    "    OR2 <- exp(glm2$coef[\"my.PRS\",1])\n",
    "    SD1 <- glm1$coef[\"my.PRS\",2]\n",
    "    SD2 <- glm2$coef[\"my.PRS\",2]\n",
    "    CI1 <- exp(beta1 + (SD1* qnorm(c(0.025,0.975))))\n",
    "    CI2 <- exp(beta2 + (SD2* qnorm(c(0.025,0.975))))\n",
    "    rbind( c(OR1,paste(CI1[1],CI1[2],sep=\",\")), c(OR2, paste(CI2[1],CI2[2],sep=\",\")))\n",
    "}\n",
    "\n",
    "# function to get the ORs and CIs for comparing top group to middle group\n",
    "get.OR.group.round <- function(subset.dt)\n",
    "    {\n",
    "    glm1 <- summary(glm(CRC.status ~ my.group, data=subset.dt,family=\"binomial\"))\n",
    "    glm2 <- summary(glm(CRC.status ~ my.group + sex + censored.age, data=subset.dt,family=\"binomial\"))\n",
    "    beta1 <-  (glm1$coef[\"my.group\",1])\n",
    "    beta2 <- (glm2$coef[\"my.group\",1])\n",
    "    OR1 <- round(exp(glm1$coef[\"my.group\",1]), 2)\n",
    "    OR2 <- round(exp(glm2$coef[\"my.group\",1]), 2)\n",
    "    SD1 <- glm1$coef[\"my.group\",2]\n",
    "    SD2 <- glm2$coef[\"my.group\",2]\n",
    "    CI1 <- round(exp(beta1 + (SD1* qnorm(c(0.025,0.975)))), 2) \n",
    "    CI2 <- round(exp(beta2 + (SD2* qnorm(c(0.025,0.975)))), 2)\n",
    "    rbind( c(OR1,paste(CI1[1],CI1[2],sep=\",\")), c(OR2, paste(CI2[1],CI2[2],sep=\",\")))\n",
    "}\n",
    "\n",
    "get.OR.quants <- function(subset.dt)\n",
    "    {\n",
    "    glm1 <- summary(glm(CRC.status ~ T1 + T2 + T4 + T5, data=subset.dt,family=\"binomial\"))\n",
    "    glm2 <- summary(glm(CRC.status ~ T1 + T2 + T4 + T5 + sex + censored.age, data=subset.dt,family=\"binomial\"))\n",
    "    beta1 <-  c(glm1$coef[\"T1\",1],glm1$coef[\"T2\",1],0,glm1$coef[\"T4\",1],glm1$coef[\"T5\",1])\n",
    "    beta2 <- c(glm2$coef[\"T1\",1],glm2$coef[\"T2\",1],0,glm2$coef[\"T4\",1],glm2$coef[\"T5\",1])\n",
    "    OR1 <- exp(beta1)\n",
    "    OR2 <- exp(beta2)\n",
    "    SD1 <- c(glm1$coef[\"T1\",2],glm1$coef[\"T2\",2],0, glm1$coef[\"T4\",2],glm1$coef[\"T5\",2]) \n",
    "    SD2 <- c(glm2$coef[\"T1\",2],glm2$coef[\"T2\",2],0, glm2$coef[\"T4\",2],glm2$coef[\"T5\",2])\n",
    "    CI1.low <- (exp(beta1 + (SD1* qnorm(0.025)))) \n",
    "    CI1.upp <- (exp(beta1 + (SD1* qnorm(0.975))))\n",
    "    CI2.low <- (exp(beta2 + (SD2* qnorm(0.025)))) \n",
    "    CI2.upp <- (exp(beta2 + (SD2* qnorm(0.975))))\n",
    "    \n",
    "    cbind(OR1,CI1.low,CI1.upp, OR2,CI2.low,CI2.upp)\n",
    "    \n",
    "}\n",
    "#need to deal with inf and -inf\n",
    "plot.quant.OR <- function(df.raw,df.pc,df.anc,df.broad,df.branc,main.title=\"\",color=\"black\"){\n",
    "    mid.quant <- c(10,30,50,70,90)\n",
    "    min.check <- c(df.raw[,2], df.pc[,2], df.anc[,2], df.broad[,2],df.branc[,2])\n",
    "    max.check <- c(df.raw[,3], df.pc[,3], df.anc[,3], df.broad[,3],df.branc[,3])\n",
    "    min.y <- min(min.check[is.finite(min.check)])\n",
    "    max.y <- max(max.check[is.finite(max.check)])\n",
    "#    min.y <- min(df.raw[,2], df.pc[,2], df.anc[,2], df.broad[,2],df.branc[,2])\n",
    "#    max.y <- max(df.raw[,3], df.pc[,3], df.anc[,3], df.broad[,3],df.branc[,3])\n",
    "    par(mfrow=c(6,1), mar= c(0.4, 4.1,1, 2.1))\n",
    "    plot(mid.quant,df.raw[,1],type=\"p\", ylim=c(min.y, max.y), main=main.title, xlab=\"\", ylab=\"PRS.RAW\",xaxt='n',col=color)\n",
    "    arrows(x0=mid.quant,y0=df.raw[,2],x1=mid.quant,y1=df.raw[,3],col=color,code=3,angle=90,length=1/20,lwd=2)\n",
    "    abline(h=1, lty=2, col=\"gray\")\n",
    "    plot(mid.quant,df.pc[,1],type=\"p\", ylim=c(min.y, max.y), main=\"\", xlab=\"\", ylab=\"PRS.PC\",xaxt='n',col=color)\n",
    "    arrows(x0=mid.quant,y0=df.pc[,2],x1=mid.quant,y1=df.pc[,3],col=color,code=3,angle=90,length=1/20,lwd=2)\n",
    "    abline(h=1, lty=2, col=\"gray\")\n",
    "    plot(mid.quant,df.anc[,1],type=\"p\", ylim=c(min.y, max.y), main=\"\", xlab=\"\", ylab=\"PRS.ANC\",xaxt='n',col=color)\n",
    "    arrows(x0=mid.quant,y0=df.anc[,2],x1=mid.quant,y1=df.anc[,3],col=color,code=3,angle=90,length=1/20,lwd=2)\n",
    "    abline(h=1, lty=2, col=\"gray\")\n",
    "    plot(mid.quant,df.broad[,1],type=\"p\", ylim=c(min.y, max.y), main=\"\", xlab=\"Quantiles\", ylab=\"BROAD.PRS\",xaxt='n',col=color)\n",
    "    arrows(x0=mid.quant,y0=df.broad[,2],x1=mid.quant,y1=df.broad[,3],col=color,code=3,angle=90,length=1/20,lwd=2)\n",
    "    abline(h=1, lty=2, col=\"gray\")\n",
    "    plot(mid.quant,df.branc[,1],type=\"p\", ylim=c(min.y, max.y), main=\"\", xlab=\"Quantiles\", ylab=\"BRANC.PRS\",col=color)\n",
    "    arrows(x0=mid.quant,y0=df.branc[,2],x1=mid.quant,y1=df.broad[,3],col=color,code=3,angle=90,length=1/20,lwd=2)\n",
    "    abline(h=1, lty=2, col=\"gray\")\n",
    "\n",
    "}\n",
    "\n",
    "\n",
    "plot.quant.logOR <- function(df.raw,df.pc,df.anc,df.broad,df.branc,main.title=\"\",color=\"black\"){\n",
    "    mid.quant <- c(10,30,50,70,90)\n",
    "    min.check <- c(df.raw[,2], df.pc[,2], df.anc[,2], df.broad[,2],df.branc[,2])\n",
    "    max.check <- c(df.raw[,3], df.pc[,3], df.anc[,3], df.broad[,3],df.branc[,3])\n",
    "    min.y <- log(min(min.check[is.finite(min.check) & min.check>0]))\n",
    "    max.y <- log(max(max.check[is.finite(max.check) & max.check>0]))\n",
    "    letter.at <- max.y - 0.15 * (max.y-min.y)\n",
    "    par(mfrow=c(6,1), mar= c(0.4, 4.1,1, 2.1))\n",
    "    plot(mid.quant,log(df.raw[,1]),type=\"p\", ylim=c(min.y, max.y), main=\"\", xlab=\"\", ylab=\"\",xaxt='n',col=color)\n",
    "    arrows(x0=mid.quant,y0=log(df.raw[,2]),x1=mid.quant,y1=log(df.raw[,3]),col=color,code=3,angle=90,length=1/20,lwd=2)\n",
    "    abline(h=0, lty=2, col=\"gray\")\n",
    "    mtext(\"A\", 2, adj=1, padj=0, line=3, las=2,at=letter.at)\n",
    "    plot(mid.quant,log(df.pc[,1]),type=\"p\", ylim=c(min.y, max.y), main=\"\", xlab=\"\", ylab=\"\",xaxt='n',col=color)\n",
    "    arrows(x0=mid.quant,y0=log(df.pc[,2]),x1=mid.quant,y1=log(df.pc[,3]),col=color,code=3,angle=90,length=1/20,lwd=2)\n",
    "    abline(h=0, lty=2, col=\"gray\")\n",
    "    mtext(\"B\", 2, adj=1, padj=0, line=3, las=2,at=letter.at)\n",
    "    plot(mid.quant,log(df.anc[,1]),type=\"p\", ylim=c(min.y, max.y), main=\"\", xlab=\"\", ylab=\"\",xaxt='n',col=color)\n",
    "    arrows(x0=mid.quant,y0=log(df.anc[,2]),x1=mid.quant,y1=log(df.anc[,3]),col=color,code=3,angle=90,length=1/20,lwd=2)\n",
    "    abline(h=0, lty=2, col=\"gray\")\n",
    "    mtext(\"C\", 2, adj=1, padj=0, line=3, las=2,at=letter.at)\n",
    "    plot(mid.quant,log(df.broad[,1]),type=\"p\", ylim=c(min.y, max.y), main=\"\", xlab=\"Quantiles\", ylab=\"\",xaxt='n',col=color)\n",
    "    arrows(x0=mid.quant,y0=log(df.broad[,2]),x1=mid.quant,y1=log(df.broad[,3]),col=color,code=3,angle=90,length=1/20,lwd=2)\n",
    "    abline(h=0, lty=2, col=\"gray\")\n",
    "    mtext(\"D\", 2, adj=1, padj=0, line=3, las=2,at=letter.at)\n",
    "    plot(mid.quant,log(df.branc[,1]),type=\"p\", ylim=c(min.y, max.y), main=\"\", xlab=\"Quantiles\", ylab=\"\",col=color)\n",
    "    arrows(x0=mid.quant,y0=log(df.branc[,2]),x1=mid.quant,y1=log(df.branc[,3]),col=color,code=3,angle=90,length=1/20,lwd=2)\n",
    "    abline(h=0, lty=2, col=\"gray\")\n",
    "    mtext(\"E\", 2, adj=1, padj=0, line=3, las=2,at=letter.at)\n",
    "\n",
    "}\n",
    "\n",
    "\n",
    "plot.obs.exp.ci <- function(horiz.axis=c(1:5), actuals.mat, lower.mat, upper.mat, my.ancestry=\"\", col=\"black\")\n",
    "{\n",
    "    matplot(horiz.axis,t(actuals.mat), type=\"n\", main=my.ancestry, xlab=\"PRS\", ylab=\"actual %\", xaxt = \"n\", \n",
    "        xlim=c(0.5, 5.5),ylim=c(0,20))\n",
    "    axis(1, at=1:5, labels=c(\"RAW\", \"PC\",\"BR.AOU\",\"ANC\",\"BR.ANC\"))\n",
    "    matpoints(horiz.axis, t(actuals.mat), lwd=c(4, 3, 2), col=col, pch=1)\n",
    "    matlines(horiz.axis, t(actuals.mat), lwd=c(4, 3, 2), col=col)\n",
    "    arrows(x0=1,y0=lower.mat[,1],x1=1,y1=upper.mat[,1],col=col,lwd=2,code=3,angle=90,length=1/10)\n",
    "    arrows(x0=2,y0=lower.mat[,2],x1=2,y1=upper.mat[,2],col=col,lwd=2,code=3,angle=90,length=1/10)\n",
    "    arrows(x0=3,y0=lower.mat[,3],x1=3,y1=upper.mat[,3],col=col,lwd=2,code=3,angle=90,length=1/10)\n",
    "    arrows(x0=4,y0=lower.mat[,4],x1=4,y1=upper.mat[,4],col=col,lwd=2,code=3,angle=90,length=1/10)\n",
    "    arrows(x0=5,y0=lower.mat[,5],x1=5,y1=upper.mat[,5],col=col,lwd=2,code=3,angle=90,length=1/10)\n",
    "    abline(h=5,lwd=2,lty=3)\n",
    "    abline(h=7.5,lwd=3, lty=2)\n",
    "    abline(h=10,lwd=4,lty=1)\n",
    "}"
   ]
  },
  {
   "cell_type": "markdown",
   "metadata": {},
   "source": [
    "# Prepare the data"
   ]
  },
  {
   "cell_type": "code",
   "execution_count": 3,
   "metadata": {
    "code_folding": []
   },
   "outputs": [
    {
     "data": {
      "text/html": [
       "<span style=white-space:pre-wrap>'gsutil -m cp -r   gs://fc-secure-91b7b957-58d8-4142-b93b-c3a2635f2d78/alpha3/CRC-PRS-adjustments-2023-03-02.tsv .'</span>"
      ],
      "text/latex": [
       "'gsutil -m cp -r   gs://fc-secure-91b7b957-58d8-4142-b93b-c3a2635f2d78/alpha3/CRC-PRS-adjustments-2023-03-02.tsv .'"
      ],
      "text/markdown": [
       "<span style=white-space:pre-wrap>'gsutil -m cp -r   gs://fc-secure-91b7b957-58d8-4142-b93b-c3a2635f2d78/alpha3/CRC-PRS-adjustments-2023-03-02.tsv .'</span>"
      ],
      "text/plain": [
       "[1] \"gsutil -m cp -r   gs://fc-secure-91b7b957-58d8-4142-b93b-c3a2635f2d78/alpha3/CRC-PRS-adjustments-2023-03-02.tsv .\""
      ]
     },
     "metadata": {},
     "output_type": "display_data"
    }
   ],
   "source": [
    "# copy over the output file from 25 Adjust alpha3 PRS by WG PCs or admixture\n",
    "#infile <- \"CRC-Nov2021-PRS-adjustments-2023-03-02.tsv\"\n",
    "#(cp.command <- paste0(\"gsutil -m cp -r  gs://fc-secure-30fdbdfd-a46b-406d-9617-1bc69ae1da9d/alpha3/\",infile,\" .\"))\n",
    "infile <- \"CRC-PRS-adjustments-2023-03-02.tsv\"\n",
    "(cp.command <- paste0(\"gsutil -m cp -r   gs://fc-secure-91b7b957-58d8-4142-b93b-c3a2635f2d78/alpha3/\",infile,\" .\"))\n",
    "system(cp.command)"
   ]
  },
  {
   "cell_type": "code",
   "execution_count": null,
   "metadata": {},
   "outputs": [],
   "source": [
    "merge.dt <- fread(infile)\n",
    "str(merge.dt)"
   ]
  },
  {
   "cell_type": "code",
   "execution_count": 5,
   "metadata": {},
   "outputs": [],
   "source": [
    "# standardise raw PRS, PC adjusted PRS and ANC adjusted PRS  for the OR calculations\n",
    "# standardization needs to happen before reducing to the cleaned cases and screened controls\n",
    "merge.dt[,norm.PRS := (PRS-mean(PRS))/sd(PRS)]\n",
    "merge.dt[,norm.PRS.ADJ.PC := (PRS.ADJ.PC)/sd(PRS.ADJ.PC)]\n",
    "merge.dt[,norm.PRS.ADJ.ANC := (PRS.ADJ.ANC)/sd(PRS.ADJ.ANC)]\n",
    "# The broad adjustments don't need to be standardized because theoretically, they already do this\n",
    "#merge.dt[,norm.BROAD.PRS := BROAD.PRS] "
   ]
  },
  {
   "cell_type": "code",
   "execution_count": 6,
   "metadata": {},
   "outputs": [],
   "source": [
    "# need to have sex be numeric\n",
    "#merge.dt <- merge.dt[][!is.na(merge.dt$sex_at_birth)]\n",
    "merge.dt[,sex:=ifelse(sex_at_birth==\"Male\",1,NA)] #since there are fewer males than females, males are 1 and females are 0\n",
    "merge.dt[,sex:=ifelse(sex_at_birth==\"Female\",0,sex)]"
   ]
  },
  {
   "cell_type": "code",
   "execution_count": null,
   "metadata": {},
   "outputs": [],
   "source": [
    "describe(merge.dt$sex_at_birth)\n",
    "describe(merge.dt$sex)"
   ]
  },
  {
   "cell_type": "code",
   "execution_count": 8,
   "metadata": {},
   "outputs": [
    {
     "data": {
      "text/plain": [
       "merge.dt$is.admixed \n",
       "       n  missing distinct     Info      Sum     Mean      Gmd \n",
       "   98256        0        2    0.183     6421  0.06535   0.1222 \n"
      ]
     },
     "metadata": {},
     "output_type": "display_data"
    }
   ],
   "source": [
    "# get participants who are less than 50% any ancestry\n",
    "merge.dt[, is.admixed:=ifelse(AFR < 0.5 & AMR < 0.5 & EUR < 0.5 & EAS < 0.5 & MID < 0.5 & SAS < 0.5, 1, 0)]\n",
    "describe(merge.dt$is.admixed)"
   ]
  },
  {
   "cell_type": "code",
   "execution_count": 11,
   "metadata": {},
   "outputs": [],
   "source": [
    "# need to get indicator variables for each ancestry group\n",
    "merge.dt[,is.AFR:=ifelse(my.ancestry3==\"AFR\",1,0)]\n",
    "merge.dt[,is.AMR:=ifelse(my.ancestry3==\"AMR\",1,0)]\n",
    "merge.dt[,is.EAS:=ifelse(my.ancestry3==\"EAS\",1,0)]\n",
    "merge.dt[,is.EUR:=ifelse(my.ancestry3==\"EUR\",1,0)]\n",
    "merge.dt[,is.MID:=ifelse(my.ancestry3==\"MID\",1,0)]\n",
    "merge.dt[,is.OTH:=ifelse(my.ancestry3==\"OTH\",1,0)]\n",
    "merge.dt[,is.SAS:=ifelse(my.ancestry3==\"SAS\",1,0)]"
   ]
  },
  {
   "cell_type": "code",
   "execution_count": 12,
   "metadata": {},
   "outputs": [
    {
     "data": {
      "text/html": [
       "<table class=\"dataframe\">\n",
       "<caption>A data.frame: 2 × 5</caption>\n",
       "<thead>\n",
       "\t<tr><th scope=col>CRC.status</th><th scope=col>CSET1</th><th scope=col>CSET3</th><th scope=col>SCREENED</th><th scope=col>n</th></tr>\n",
       "\t<tr><th scope=col>&lt;int&gt;</th><th scope=col>&lt;int&gt;</th><th scope=col>&lt;int&gt;</th><th scope=col>&lt;int&gt;</th><th scope=col>&lt;int&gt;</th></tr>\n",
       "</thead>\n",
       "<tbody>\n",
       "\t<tr><td>0</td><td>0</td><td>0</td><td>1</td><td>12378</td></tr>\n",
       "\t<tr><td>1</td><td>1</td><td>1</td><td>0</td><td>  348</td></tr>\n",
       "</tbody>\n",
       "</table>\n"
      ],
      "text/latex": [
       "A data.frame: 2 × 5\n",
       "\\begin{tabular}{lllll}\n",
       " CRC.status & CSET1 & CSET3 & SCREENED & n\\\\\n",
       " <int> & <int> & <int> & <int> & <int>\\\\\n",
       "\\hline\n",
       "\t 0 & 0 & 0 & 1 & 12378\\\\\n",
       "\t 1 & 1 & 1 & 0 &   348\\\\\n",
       "\\end{tabular}\n"
      ],
      "text/markdown": [
       "\n",
       "A data.frame: 2 × 5\n",
       "\n",
       "| CRC.status &lt;int&gt; | CSET1 &lt;int&gt; | CSET3 &lt;int&gt; | SCREENED &lt;int&gt; | n &lt;int&gt; |\n",
       "|---|---|---|---|---|\n",
       "| 0 | 0 | 0 | 1 | 12378 |\n",
       "| 1 | 1 | 1 | 0 |   348 |\n",
       "\n"
      ],
      "text/plain": [
       "  CRC.status CSET1 CSET3 SCREENED n    \n",
       "1 0          0     0     1        12378\n",
       "2 1          1     1     0          348"
      ]
     },
     "metadata": {},
     "output_type": "display_data"
    }
   ],
   "source": [
    "# Get subset with just cleaned cases and screened controls\n",
    "merge2.dt <- merge.dt[][(merge.dt$CSET3==1 | merge.dt$SCREENED==1) ]\n",
    "as.data.frame(merge2.dt) %>%\n",
    "    count(CRC.status,CSET1, CSET3, SCREENED)"
   ]
  },
  {
   "cell_type": "code",
   "execution_count": 13,
   "metadata": {},
   "outputs": [
    {
     "data": {
      "text/plain": [
       "merge2.dt$is.admixed \n",
       "       n  missing distinct     Info      Sum     Mean      Gmd \n",
       "   12726        0        2    0.209      959  0.07536   0.1394 \n"
      ]
     },
     "metadata": {},
     "output_type": "display_data"
    }
   ],
   "source": [
    "describe(merge2.dt$is.admixed)"
   ]
  },
  {
   "cell_type": "markdown",
   "metadata": {
    "heading_collapsed": true
   },
   "source": [
    "# T-tests for age between cases and controls, plus s.d."
   ]
  },
  {
   "cell_type": "code",
   "execution_count": 28,
   "metadata": {
    "hidden": true
   },
   "outputs": [
    {
     "data": {
      "text/html": [
       "<table class=\"dataframe\">\n",
       "<caption>A data.table: 7 × 4</caption>\n",
       "<thead>\n",
       "\t<tr><th scope=col>my.ancestry3</th><th scope=col>mean.age</th><th scope=col>age.range</th><th scope=col>SD</th></tr>\n",
       "\t<tr><th scope=col>&lt;chr&gt;</th><th scope=col>&lt;dbl&gt;</th><th scope=col>&lt;chr&gt;</th><th scope=col>&lt;dbl&gt;</th></tr>\n",
       "</thead>\n",
       "<tbody>\n",
       "\t<tr><td>AFR</td><td>57</td><td>41,83</td><td>10.1</td></tr>\n",
       "\t<tr><td>AMR</td><td>53</td><td>21,86</td><td>14.8</td></tr>\n",
       "\t<tr><td>EAS</td><td>57</td><td>43,76</td><td>13.5</td></tr>\n",
       "\t<tr><td>EUR</td><td>62</td><td>26,89</td><td>11.9</td></tr>\n",
       "\t<tr><td>MID</td><td>65</td><td>34,84</td><td>11.7</td></tr>\n",
       "\t<tr><td>OTH</td><td>55</td><td>19,83</td><td>13.7</td></tr>\n",
       "\t<tr><td>SAS</td><td>41</td><td>34,48</td><td>10.3</td></tr>\n",
       "</tbody>\n",
       "</table>\n"
      ],
      "text/latex": [
       "A data.table: 7 × 4\n",
       "\\begin{tabular}{llll}\n",
       " my.ancestry3 & mean.age & age.range & SD\\\\\n",
       " <chr> & <dbl> & <chr> & <dbl>\\\\\n",
       "\\hline\n",
       "\t AFR & 57 & 41,83 & 10.1\\\\\n",
       "\t AMR & 53 & 21,86 & 14.8\\\\\n",
       "\t EAS & 57 & 43,76 & 13.5\\\\\n",
       "\t EUR & 62 & 26,89 & 11.9\\\\\n",
       "\t MID & 65 & 34,84 & 11.7\\\\\n",
       "\t OTH & 55 & 19,83 & 13.7\\\\\n",
       "\t SAS & 41 & 34,48 & 10.3\\\\\n",
       "\\end{tabular}\n"
      ],
      "text/markdown": [
       "\n",
       "A data.table: 7 × 4\n",
       "\n",
       "| my.ancestry3 &lt;chr&gt; | mean.age &lt;dbl&gt; | age.range &lt;chr&gt; | SD &lt;dbl&gt; |\n",
       "|---|---|---|---|\n",
       "| AFR | 57 | 41,83 | 10.1 |\n",
       "| AMR | 53 | 21,86 | 14.8 |\n",
       "| EAS | 57 | 43,76 | 13.5 |\n",
       "| EUR | 62 | 26,89 | 11.9 |\n",
       "| MID | 65 | 34,84 | 11.7 |\n",
       "| OTH | 55 | 19,83 | 13.7 |\n",
       "| SAS | 41 | 34,48 | 10.3 |\n",
       "\n"
      ],
      "text/plain": [
       "  my.ancestry3 mean.age age.range SD  \n",
       "1 AFR          57       41,83     10.1\n",
       "2 AMR          53       21,86     14.8\n",
       "3 EAS          57       43,76     13.5\n",
       "4 EUR          62       26,89     11.9\n",
       "5 MID          65       34,84     11.7\n",
       "6 OTH          55       19,83     13.7\n",
       "7 SAS          41       34,48     10.3"
      ]
     },
     "metadata": {},
     "output_type": "display_data"
    },
    {
     "data": {
      "text/html": [
       "<table class=\"dataframe\">\n",
       "<caption>A data.table: 1 × 3</caption>\n",
       "<thead>\n",
       "\t<tr><th scope=col>mean.age</th><th scope=col>age.range</th><th scope=col>SD</th></tr>\n",
       "\t<tr><th scope=col>&lt;dbl&gt;</th><th scope=col>&lt;chr&gt;</th><th scope=col>&lt;dbl&gt;</th></tr>\n",
       "</thead>\n",
       "<tbody>\n",
       "\t<tr><td>60</td><td>19,89</td><td>12.6</td></tr>\n",
       "</tbody>\n",
       "</table>\n"
      ],
      "text/latex": [
       "A data.table: 1 × 3\n",
       "\\begin{tabular}{lll}\n",
       " mean.age & age.range & SD\\\\\n",
       " <dbl> & <chr> & <dbl>\\\\\n",
       "\\hline\n",
       "\t 60 & 19,89 & 12.6\\\\\n",
       "\\end{tabular}\n"
      ],
      "text/markdown": [
       "\n",
       "A data.table: 1 × 3\n",
       "\n",
       "| mean.age &lt;dbl&gt; | age.range &lt;chr&gt; | SD &lt;dbl&gt; |\n",
       "|---|---|---|\n",
       "| 60 | 19,89 | 12.6 |\n",
       "\n"
      ],
      "text/plain": [
       "  mean.age age.range SD  \n",
       "1 60       19,89     12.6"
      ]
     },
     "metadata": {},
     "output_type": "display_data"
    }
   ],
   "source": [
    "(age.dist.case <- data.table(\n",
    "    as.data.frame(merge2.dt[][merge2.dt$CSET3==1 & !is.na(merge2.dt$censored.age)]) %>%\n",
    "    group_by(my.ancestry3) %>%\n",
    "    summarise(mean.age=round(mean(censored.age)),min.age=round(min(censored.age)),max.age=round(max(censored.age)), \n",
    "              SD=round(sd(censored.age),1)) %>%\n",
    "    unite(\"age.range\", min.age,max.age,sep=\",\")\n",
    "))\n",
    "(age.all.case <- data.table(\n",
    "    as.data.frame(merge2.dt[][merge2.dt$CSET3==1 & !is.na(merge2.dt$censored.age)]) %>%\n",
    "    summarise(mean.age=round(mean(censored.age)),min.age=round(min(censored.age)),max.age=round(max(censored.age)),\n",
    "             SD=round(sd(censored.age),1)) %>%\n",
    "    unite(\"age.range\", min.age,max.age,sep=\",\")\n",
    "))"
   ]
  },
  {
   "cell_type": "code",
   "execution_count": 29,
   "metadata": {
    "hidden": true
   },
   "outputs": [
    {
     "data": {
      "text/html": [
       "<table class=\"dataframe\">\n",
       "<caption>A data.table: 7 × 4</caption>\n",
       "<thead>\n",
       "\t<tr><th scope=col>my.ancestry3</th><th scope=col>mean.age</th><th scope=col>age.range</th><th scope=col>SD</th></tr>\n",
       "\t<tr><th scope=col>&lt;chr&gt;</th><th scope=col>&lt;dbl&gt;</th><th scope=col>&lt;chr&gt;</th><th scope=col>&lt;dbl&gt;</th></tr>\n",
       "</thead>\n",
       "<tbody>\n",
       "\t<tr><td>AFR</td><td>57</td><td>18,90</td><td>11.0</td></tr>\n",
       "\t<tr><td>AMR</td><td>56</td><td>20,82</td><td>11.9</td></tr>\n",
       "\t<tr><td>EAS</td><td>58</td><td>25,82</td><td>11.4</td></tr>\n",
       "\t<tr><td>EUR</td><td>61</td><td>18,94</td><td>11.6</td></tr>\n",
       "\t<tr><td>MID</td><td>64</td><td>18,96</td><td>12.3</td></tr>\n",
       "\t<tr><td>OTH</td><td>58</td><td>18,88</td><td>11.7</td></tr>\n",
       "\t<tr><td>SAS</td><td>57</td><td>23,77</td><td>12.2</td></tr>\n",
       "</tbody>\n",
       "</table>\n"
      ],
      "text/latex": [
       "A data.table: 7 × 4\n",
       "\\begin{tabular}{llll}\n",
       " my.ancestry3 & mean.age & age.range & SD\\\\\n",
       " <chr> & <dbl> & <chr> & <dbl>\\\\\n",
       "\\hline\n",
       "\t AFR & 57 & 18,90 & 11.0\\\\\n",
       "\t AMR & 56 & 20,82 & 11.9\\\\\n",
       "\t EAS & 58 & 25,82 & 11.4\\\\\n",
       "\t EUR & 61 & 18,94 & 11.6\\\\\n",
       "\t MID & 64 & 18,96 & 12.3\\\\\n",
       "\t OTH & 58 & 18,88 & 11.7\\\\\n",
       "\t SAS & 57 & 23,77 & 12.2\\\\\n",
       "\\end{tabular}\n"
      ],
      "text/markdown": [
       "\n",
       "A data.table: 7 × 4\n",
       "\n",
       "| my.ancestry3 &lt;chr&gt; | mean.age &lt;dbl&gt; | age.range &lt;chr&gt; | SD &lt;dbl&gt; |\n",
       "|---|---|---|---|\n",
       "| AFR | 57 | 18,90 | 11.0 |\n",
       "| AMR | 56 | 20,82 | 11.9 |\n",
       "| EAS | 58 | 25,82 | 11.4 |\n",
       "| EUR | 61 | 18,94 | 11.6 |\n",
       "| MID | 64 | 18,96 | 12.3 |\n",
       "| OTH | 58 | 18,88 | 11.7 |\n",
       "| SAS | 57 | 23,77 | 12.2 |\n",
       "\n"
      ],
      "text/plain": [
       "  my.ancestry3 mean.age age.range SD  \n",
       "1 AFR          57       18,90     11.0\n",
       "2 AMR          56       20,82     11.9\n",
       "3 EAS          58       25,82     11.4\n",
       "4 EUR          61       18,94     11.6\n",
       "5 MID          64       18,96     12.3\n",
       "6 OTH          58       18,88     11.7\n",
       "7 SAS          57       23,77     12.2"
      ]
     },
     "metadata": {},
     "output_type": "display_data"
    },
    {
     "data": {
      "text/html": [
       "<table class=\"dataframe\">\n",
       "<caption>A data.table: 1 × 3</caption>\n",
       "<thead>\n",
       "\t<tr><th scope=col>mean.age</th><th scope=col>age.range</th><th scope=col>SD</th></tr>\n",
       "\t<tr><th scope=col>&lt;dbl&gt;</th><th scope=col>&lt;chr&gt;</th><th scope=col>&lt;dbl&gt;</th></tr>\n",
       "</thead>\n",
       "<tbody>\n",
       "\t<tr><td>60</td><td>18,96</td><td>11.8</td></tr>\n",
       "</tbody>\n",
       "</table>\n"
      ],
      "text/latex": [
       "A data.table: 1 × 3\n",
       "\\begin{tabular}{lll}\n",
       " mean.age & age.range & SD\\\\\n",
       " <dbl> & <chr> & <dbl>\\\\\n",
       "\\hline\n",
       "\t 60 & 18,96 & 11.8\\\\\n",
       "\\end{tabular}\n"
      ],
      "text/markdown": [
       "\n",
       "A data.table: 1 × 3\n",
       "\n",
       "| mean.age &lt;dbl&gt; | age.range &lt;chr&gt; | SD &lt;dbl&gt; |\n",
       "|---|---|---|\n",
       "| 60 | 18,96 | 11.8 |\n",
       "\n"
      ],
      "text/plain": [
       "  mean.age age.range SD  \n",
       "1 60       18,96     11.8"
      ]
     },
     "metadata": {},
     "output_type": "display_data"
    }
   ],
   "source": [
    "(age.dist.control <- data.table(\n",
    "    as.data.frame(merge2.dt[][merge2.dt$CRC.status==0 & !is.na(merge2.dt$censored.age)]) %>%\n",
    "    group_by(my.ancestry3) %>%\n",
    "    summarise(mean.age=round(mean(censored.age)),min.age=round(min(censored.age)),max.age=round(max(censored.age)),\n",
    "             SD=round(sd(censored.age),1)) %>%\n",
    "    unite(\"age.range\", min.age,max.age,sep=\",\")\n",
    "))\n",
    "(age.all.control <- data.table(\n",
    "    as.data.frame(merge2.dt[][merge2.dt$CRC.status==0 & !is.na(merge2.dt$censored.age)]) %>%\n",
    "    summarise(mean.age=round(mean(censored.age)),min.age=round(min(censored.age)),max.age=round(max(censored.age)),\n",
    "              SD=round(sd(censored.age),1)) %>%\n",
    "    unite(\"age.range\", min.age,max.age,sep=\",\")\n",
    "))"
   ]
  },
  {
   "cell_type": "code",
   "execution_count": 23,
   "metadata": {
    "hidden": true
   },
   "outputs": [
    {
     "data": {
      "text/html": [
       "<strong>$p.value</strong> = 0.99485230832304"
      ],
      "text/latex": [
       "\\textbf{\\$p.value} = 0.99485230832304"
      ],
      "text/markdown": [
       "**$p.value** = 0.99485230832304"
      ],
      "text/plain": [
       "$p.value\n",
       "[1] 0.9948523\n"
      ]
     },
     "metadata": {},
     "output_type": "display_data"
    }
   ],
   "source": [
    "subset.dt <- merge2.dt[][merge2.dt$my.ancestry3==\"AFR\"]\n",
    "t.test(subset.dt$censored.age[subset.dt$CSET3==1],subset.dt$censored.age[subset.dt$CRC.status==0])['p.value']"
   ]
  },
  {
   "cell_type": "code",
   "execution_count": 24,
   "metadata": {
    "hidden": true
   },
   "outputs": [
    {
     "data": {
      "text/html": [
       "<strong>$p.value</strong> = 0.314763959871746"
      ],
      "text/latex": [
       "\\textbf{\\$p.value} = 0.314763959871746"
      ],
      "text/markdown": [
       "**$p.value** = 0.314763959871746"
      ],
      "text/plain": [
       "$p.value\n",
       "[1] 0.314764\n"
      ]
     },
     "metadata": {},
     "output_type": "display_data"
    }
   ],
   "source": [
    "subset.dt <- merge2.dt[][merge2.dt$my.ancestry3==\"EUR\"]\n",
    "t.test(subset.dt$censored.age[subset.dt$CSET3==1],subset.dt$censored.age[subset.dt$CRC.status==0])['p.value']"
   ]
  },
  {
   "cell_type": "code",
   "execution_count": 25,
   "metadata": {
    "hidden": true
   },
   "outputs": [
    {
     "data": {
      "text/html": [
       "<strong>$p.value</strong> = 0.803157410898971"
      ],
      "text/latex": [
       "\\textbf{\\$p.value} = 0.803157410898971"
      ],
      "text/markdown": [
       "**$p.value** = 0.803157410898971"
      ],
      "text/plain": [
       "$p.value\n",
       "[1] 0.8031574\n"
      ]
     },
     "metadata": {},
     "output_type": "display_data"
    }
   ],
   "source": [
    "subset.dt <- merge2.dt[][merge2.dt$my.ancestry3==\"MID\"]\n",
    "t.test(subset.dt$censored.age[subset.dt$CSET3==1],subset.dt$censored.age[subset.dt$CRC.status==0])['p.value']"
   ]
  },
  {
   "cell_type": "code",
   "execution_count": 26,
   "metadata": {
    "hidden": true
   },
   "outputs": [
    {
     "data": {
      "text/html": [
       "<strong>$p.value</strong> = 0.0998687182297047"
      ],
      "text/latex": [
       "\\textbf{\\$p.value} = 0.0998687182297047"
      ],
      "text/markdown": [
       "**$p.value** = 0.0998687182297047"
      ],
      "text/plain": [
       "$p.value\n",
       "[1] 0.09986872\n"
      ]
     },
     "metadata": {},
     "output_type": "display_data"
    }
   ],
   "source": [
    "subset.dt <- merge2.dt[][merge2.dt$my.ancestry3==\"OTH\"]\n",
    "t.test(subset.dt$censored.age[subset.dt$CSET3==1],subset.dt$censored.age[subset.dt$CRC.status==0])['p.value']"
   ]
  },
  {
   "cell_type": "code",
   "execution_count": 27,
   "metadata": {
    "hidden": true
   },
   "outputs": [
    {
     "data": {
      "text/html": [
       "<strong>$p.value</strong> = 0.988790323734535"
      ],
      "text/latex": [
       "\\textbf{\\$p.value} = 0.988790323734535"
      ],
      "text/markdown": [
       "**$p.value** = 0.988790323734535"
      ],
      "text/plain": [
       "$p.value\n",
       "[1] 0.9887903\n"
      ]
     },
     "metadata": {},
     "output_type": "display_data"
    }
   ],
   "source": [
    "#All\n",
    "t.test(merge2.dt$censored.age[merge2.dt$CSET3==1],merge2.dt$censored.age[merge2.dt$CRC.status==0])['p.value']"
   ]
  },
  {
   "cell_type": "markdown",
   "metadata": {
    "heading_collapsed": true
   },
   "source": [
    "# Test if mean PRS are the same across ancestries"
   ]
  },
  {
   "cell_type": "code",
   "execution_count": 14,
   "metadata": {
    "hidden": true
   },
   "outputs": [],
   "source": [
    "# need to get indicator variables for each ancestry group\n",
    "merge.dt[,is.AFR:=ifelse(my.ancestry3==\"AFR\",1,0)]\n",
    "merge.dt[,is.AMR:=ifelse(my.ancestry3==\"AMR\",1,0)]\n",
    "merge.dt[,is.EAS:=ifelse(my.ancestry3==\"EAS\",1,0)]\n",
    "merge.dt[,is.EUR:=ifelse(my.ancestry3==\"EUR\",1,0)]\n",
    "merge.dt[,is.MID:=ifelse(my.ancestry3==\"MID\",1,0)]\n",
    "merge.dt[,is.OTH:=ifelse(my.ancestry3==\"OTH\",1,0)]\n",
    "merge.dt[,is.SAS:=ifelse(my.ancestry3==\"SAS\",1,0)]\n"
   ]
  },
  {
   "cell_type": "code",
   "execution_count": 16,
   "metadata": {
    "hidden": true
   },
   "outputs": [
    {
     "data": {
      "text/plain": [
       "\n",
       "Call:\n",
       "lm(formula = PRS ~ is.AFR + is.AMR + is.EAS + is.MID + is.OTH + \n",
       "    is.SAS, data = merge.dt)\n",
       "\n",
       "Residuals:\n",
       "     Min       1Q   Median       3Q      Max \n",
       "-1.96012 -0.30983 -0.00027  0.30697  1.93889 \n",
       "\n",
       "Coefficients:\n",
       "             Estimate Std. Error t value Pr(>|t|)    \n",
       "(Intercept)  0.376717   0.002179 172.894  < 2e-16 ***\n",
       "is.AFR       0.018352   0.003755   4.887 1.02e-06 ***\n",
       "is.AMR      -0.086640   0.005202 -16.654  < 2e-16 ***\n",
       "is.EAS      -0.004086   0.010293  -0.397    0.691    \n",
       "is.MID      -0.325282   0.007508 -43.326  < 2e-16 ***\n",
       "is.OTH      -0.108173   0.004272 -25.321  < 2e-16 ***\n",
       "is.SAS      -0.125081   0.016740  -7.472 7.96e-14 ***\n",
       "---\n",
       "Signif. codes:  0 ‘***’ 0.001 ‘**’ 0.01 ‘*’ 0.05 ‘.’ 0.1 ‘ ’ 1\n",
       "\n",
       "Residual standard error: 0.4576 on 98249 degrees of freedom\n",
       "Multiple R-squared:  0.02722,\tAdjusted R-squared:  0.02716 \n",
       "F-statistic: 458.3 on 6 and 98249 DF,  p-value: < 2.2e-16\n"
      ]
     },
     "metadata": {},
     "output_type": "display_data"
    }
   ],
   "source": [
    "# regular linear model, assuming variances are the same\n",
    "my.model <- (lm(PRS ~ is.AFR + is.AMR + is.EAS + is.MID + is.OTH + is.SAS, data=merge.dt))\n",
    "summary(my.model)"
   ]
  },
  {
   "cell_type": "code",
   "execution_count": 26,
   "metadata": {
    "hidden": true
   },
   "outputs": [
    {
     "data": {
      "text/html": [
       "<table class=\"dataframe\">\n",
       "<caption>A data.table: 7 × 5</caption>\n",
       "<thead>\n",
       "\t<tr><th scope=col>V1</th><th scope=col>Estimate</th><th scope=col>Std. Error</th><th scope=col>t value</th><th scope=col>Pr(&gt;|t|)</th></tr>\n",
       "\t<tr><th scope=col>&lt;chr&gt;</th><th scope=col>&lt;chr&gt;</th><th scope=col>&lt;chr&gt;</th><th scope=col>&lt;chr&gt;</th><th scope=col>&lt;chr&gt;</th></tr>\n",
       "</thead>\n",
       "<tbody>\n",
       "\t<tr><td>(Intercept)</td><td>0.376717268676477   </td><td>0.0021788906022606 </td><td>172.894072004181  </td><td>0                    </td></tr>\n",
       "\t<tr><td>is.AFR     </td><td>0.018352265727094   </td><td>0.00375504760155322</td><td>4.8873590096442   </td><td>1.02358334084291e-06 </td></tr>\n",
       "\t<tr><td>is.AMR     </td><td>-0.0866398464344861 </td><td>0.00520220510622178</td><td>-16.6544464636478 </td><td>3.42035275895426e-62 </td></tr>\n",
       "\t<tr><td>is.EAS     </td><td>-0.00408593843922544</td><td>0.0102926145961344 </td><td>-0.396977697072229</td><td>0.691384769622065    </td></tr>\n",
       "\t<tr><td>is.MID     </td><td>-0.325282090579576  </td><td>0.00750770407696499</td><td>-43.3264400467781 </td><td>0                    </td></tr>\n",
       "\t<tr><td>is.OTH     </td><td>-0.108173219667131  </td><td>0.00427205901486375</td><td>-25.3210967570356 </td><td>5.31902778412798e-141</td></tr>\n",
       "\t<tr><td>is.SAS     </td><td>-0.125080870056338  </td><td>0.0167399217515187 </td><td>-7.4720104378618  </td><td>7.96298609853676e-14 </td></tr>\n",
       "</tbody>\n",
       "</table>\n"
      ],
      "text/latex": [
       "A data.table: 7 × 5\n",
       "\\begin{tabular}{lllll}\n",
       " V1 & Estimate & Std. Error & t value & Pr(>\\textbar{}t\\textbar{})\\\\\n",
       " <chr> & <chr> & <chr> & <chr> & <chr>\\\\\n",
       "\\hline\n",
       "\t (Intercept) & 0.376717268676477    & 0.0021788906022606  & 172.894072004181   & 0                    \\\\\n",
       "\t is.AFR      & 0.018352265727094    & 0.00375504760155322 & 4.8873590096442    & 1.02358334084291e-06 \\\\\n",
       "\t is.AMR      & -0.0866398464344861  & 0.00520220510622178 & -16.6544464636478  & 3.42035275895426e-62 \\\\\n",
       "\t is.EAS      & -0.00408593843922544 & 0.0102926145961344  & -0.396977697072229 & 0.691384769622065    \\\\\n",
       "\t is.MID      & -0.325282090579576   & 0.00750770407696499 & -43.3264400467781  & 0                    \\\\\n",
       "\t is.OTH      & -0.108173219667131   & 0.00427205901486375 & -25.3210967570356  & 5.31902778412798e-141\\\\\n",
       "\t is.SAS      & -0.125080870056338   & 0.0167399217515187  & -7.4720104378618   & 7.96298609853676e-14 \\\\\n",
       "\\end{tabular}\n"
      ],
      "text/markdown": [
       "\n",
       "A data.table: 7 × 5\n",
       "\n",
       "| V1 &lt;chr&gt; | Estimate &lt;chr&gt; | Std. Error &lt;chr&gt; | t value &lt;chr&gt; | Pr(&gt;|t|) &lt;chr&gt; |\n",
       "|---|---|---|---|---|\n",
       "| (Intercept) | 0.376717268676477    | 0.0021788906022606  | 172.894072004181   | 0                     |\n",
       "| is.AFR      | 0.018352265727094    | 0.00375504760155322 | 4.8873590096442    | 1.02358334084291e-06  |\n",
       "| is.AMR      | -0.0866398464344861  | 0.00520220510622178 | -16.6544464636478  | 3.42035275895426e-62  |\n",
       "| is.EAS      | -0.00408593843922544 | 0.0102926145961344  | -0.396977697072229 | 0.691384769622065     |\n",
       "| is.MID      | -0.325282090579576   | 0.00750770407696499 | -43.3264400467781  | 0                     |\n",
       "| is.OTH      | -0.108173219667131   | 0.00427205901486375 | -25.3210967570356  | 5.31902778412798e-141 |\n",
       "| is.SAS      | -0.125080870056338   | 0.0167399217515187  | -7.4720104378618   | 7.96298609853676e-14  |\n",
       "\n"
      ],
      "text/plain": [
       "  V1          Estimate             Std. Error          t value           \n",
       "1 (Intercept) 0.376717268676477    0.0021788906022606  172.894072004181  \n",
       "2 is.AFR      0.018352265727094    0.00375504760155322 4.8873590096442   \n",
       "3 is.AMR      -0.0866398464344861  0.00520220510622178 -16.6544464636478 \n",
       "4 is.EAS      -0.00408593843922544 0.0102926145961344  -0.396977697072229\n",
       "5 is.MID      -0.325282090579576   0.00750770407696499 -43.3264400467781 \n",
       "6 is.OTH      -0.108173219667131   0.00427205901486375 -25.3210967570356 \n",
       "7 is.SAS      -0.125080870056338   0.0167399217515187  -7.4720104378618  \n",
       "  Pr(>|t|)             \n",
       "1 0                    \n",
       "2 1.02358334084291e-06 \n",
       "3 3.42035275895426e-62 \n",
       "4 0.691384769622065    \n",
       "5 0                    \n",
       "6 5.31902778412798e-141\n",
       "7 7.96298609853676e-14 "
      ]
     },
     "metadata": {},
     "output_type": "display_data"
    },
    {
     "data": {
      "text/html": [
       "<table class=\"dataframe\">\n",
       "<caption>A data.table: 7 × 3</caption>\n",
       "<thead>\n",
       "\t<tr><th scope=col>Variable</th><th scope=col>beta</th><th scope=col>p</th></tr>\n",
       "\t<tr><th scope=col>&lt;chr&gt;</th><th scope=col>&lt;chr&gt;</th><th scope=col>&lt;chr&gt;</th></tr>\n",
       "</thead>\n",
       "<tbody>\n",
       "\t<tr><td>(Intercept)</td><td>0.376717268676477   </td><td>0                    </td></tr>\n",
       "\t<tr><td>is.AFR     </td><td>0.018352265727094   </td><td>1.02358334084291e-06 </td></tr>\n",
       "\t<tr><td>is.AMR     </td><td>-0.0866398464344861 </td><td>3.42035275895426e-62 </td></tr>\n",
       "\t<tr><td>is.EAS     </td><td>-0.00408593843922544</td><td>0.691384769622065    </td></tr>\n",
       "\t<tr><td>is.MID     </td><td>-0.325282090579576  </td><td>0                    </td></tr>\n",
       "\t<tr><td>is.OTH     </td><td>-0.108173219667131  </td><td>5.31902778412798e-141</td></tr>\n",
       "\t<tr><td>is.SAS     </td><td>-0.125080870056338  </td><td>7.96298609853676e-14 </td></tr>\n",
       "</tbody>\n",
       "</table>\n"
      ],
      "text/latex": [
       "A data.table: 7 × 3\n",
       "\\begin{tabular}{lll}\n",
       " Variable & beta & p\\\\\n",
       " <chr> & <chr> & <chr>\\\\\n",
       "\\hline\n",
       "\t (Intercept) & 0.376717268676477    & 0                    \\\\\n",
       "\t is.AFR      & 0.018352265727094    & 1.02358334084291e-06 \\\\\n",
       "\t is.AMR      & -0.0866398464344861  & 3.42035275895426e-62 \\\\\n",
       "\t is.EAS      & -0.00408593843922544 & 0.691384769622065    \\\\\n",
       "\t is.MID      & -0.325282090579576   & 0                    \\\\\n",
       "\t is.OTH      & -0.108173219667131   & 5.31902778412798e-141\\\\\n",
       "\t is.SAS      & -0.125080870056338   & 7.96298609853676e-14 \\\\\n",
       "\\end{tabular}\n"
      ],
      "text/markdown": [
       "\n",
       "A data.table: 7 × 3\n",
       "\n",
       "| Variable &lt;chr&gt; | beta &lt;chr&gt; | p &lt;chr&gt; |\n",
       "|---|---|---|\n",
       "| (Intercept) | 0.376717268676477    | 0                     |\n",
       "| is.AFR      | 0.018352265727094    | 1.02358334084291e-06  |\n",
       "| is.AMR      | -0.0866398464344861  | 3.42035275895426e-62  |\n",
       "| is.EAS      | -0.00408593843922544 | 0.691384769622065     |\n",
       "| is.MID      | -0.325282090579576   | 0                     |\n",
       "| is.OTH      | -0.108173219667131   | 5.31902778412798e-141 |\n",
       "| is.SAS      | -0.125080870056338   | 7.96298609853676e-14  |\n",
       "\n"
      ],
      "text/plain": [
       "  Variable    beta                 p                    \n",
       "1 (Intercept) 0.376717268676477    0                    \n",
       "2 is.AFR      0.018352265727094    1.02358334084291e-06 \n",
       "3 is.AMR      -0.0866398464344861  3.42035275895426e-62 \n",
       "4 is.EAS      -0.00408593843922544 0.691384769622065    \n",
       "5 is.MID      -0.325282090579576   0                    \n",
       "6 is.OTH      -0.108173219667131   5.31902778412798e-141\n",
       "7 is.SAS      -0.125080870056338   7.96298609853676e-14 "
      ]
     },
     "metadata": {},
     "output_type": "display_data"
    },
    {
     "data": {
      "text/html": [
       "<table class=\"dataframe\">\n",
       "<caption>A data.table: 7 × 3</caption>\n",
       "<thead>\n",
       "\t<tr><th scope=col>Variable</th><th scope=col>beta</th><th scope=col>p</th></tr>\n",
       "\t<tr><th scope=col>&lt;chr&gt;</th><th scope=col>&lt;dbl&gt;</th><th scope=col>&lt;chr&gt;</th></tr>\n",
       "</thead>\n",
       "<tbody>\n",
       "\t<tr><td>(Intercept)</td><td> 0.377</td><td>                    0</td></tr>\n",
       "\t<tr><td>is.AFR     </td><td> 0.018</td><td> 1.02358334084291e-06</td></tr>\n",
       "\t<tr><td>is.AMR     </td><td>-0.087</td><td> 3.42035275895426e-62</td></tr>\n",
       "\t<tr><td>is.EAS     </td><td>-0.004</td><td>    0.691384769622065</td></tr>\n",
       "\t<tr><td>is.MID     </td><td>-0.325</td><td>                    0</td></tr>\n",
       "\t<tr><td>is.OTH     </td><td>-0.108</td><td>5.31902778412798e-141</td></tr>\n",
       "\t<tr><td>is.SAS     </td><td>-0.125</td><td> 7.96298609853676e-14</td></tr>\n",
       "</tbody>\n",
       "</table>\n"
      ],
      "text/latex": [
       "A data.table: 7 × 3\n",
       "\\begin{tabular}{lll}\n",
       " Variable & beta & p\\\\\n",
       " <chr> & <dbl> & <chr>\\\\\n",
       "\\hline\n",
       "\t (Intercept) &  0.377 &                     0\\\\\n",
       "\t is.AFR      &  0.018 &  1.02358334084291e-06\\\\\n",
       "\t is.AMR      & -0.087 &  3.42035275895426e-62\\\\\n",
       "\t is.EAS      & -0.004 &     0.691384769622065\\\\\n",
       "\t is.MID      & -0.325 &                     0\\\\\n",
       "\t is.OTH      & -0.108 & 5.31902778412798e-141\\\\\n",
       "\t is.SAS      & -0.125 &  7.96298609853676e-14\\\\\n",
       "\\end{tabular}\n"
      ],
      "text/markdown": [
       "\n",
       "A data.table: 7 × 3\n",
       "\n",
       "| Variable &lt;chr&gt; | beta &lt;dbl&gt; | p &lt;chr&gt; |\n",
       "|---|---|---|\n",
       "| (Intercept) |  0.377 |                     0 |\n",
       "| is.AFR      |  0.018 |  1.02358334084291e-06 |\n",
       "| is.AMR      | -0.087 |  3.42035275895426e-62 |\n",
       "| is.EAS      | -0.004 |     0.691384769622065 |\n",
       "| is.MID      | -0.325 |                     0 |\n",
       "| is.OTH      | -0.108 | 5.31902778412798e-141 |\n",
       "| is.SAS      | -0.125 |  7.96298609853676e-14 |\n",
       "\n"
      ],
      "text/plain": [
       "  Variable    beta   p                    \n",
       "1 (Intercept)  0.377                     0\n",
       "2 is.AFR       0.018  1.02358334084291e-06\n",
       "3 is.AMR      -0.087  3.42035275895426e-62\n",
       "4 is.EAS      -0.004     0.691384769622065\n",
       "5 is.MID      -0.325                     0\n",
       "6 is.OTH      -0.108 5.31902778412798e-141\n",
       "7 is.SAS      -0.125  7.96298609853676e-14"
      ]
     },
     "metadata": {},
     "output_type": "display_data"
    }
   ],
   "source": [
    "my.summary <- summary(my.model)\n",
    "(my.table <- data.table(cbind(rownames(my.summary$coef),my.summary$coef)))\n",
    "setnames(my.table, c(\"Variable\", \"beta\", \"std.err\",\"tvalue\", \"p\"))\n",
    "my.table <- my.table[,list(Variable, beta, p)]\n",
    "my.table\n",
    "my.table[,beta:=round(as.numeric(beta), 3)]\n",
    "my.table[,p:=formatC(p, format=\"e\",digits=3)]\n",
    "my.table\n"
   ]
  },
  {
   "cell_type": "code",
   "execution_count": 17,
   "metadata": {
    "hidden": true
   },
   "outputs": [
    {
     "name": "stdout",
     "output_type": "stream",
     "text": [
      "[1]  2.152088e-01  2.152088e-01  2.152088e-01  2.152088e-01  2.152088e-01\n",
      "[6]  2.152088e-01  2.152088e-01 -6.262502e+04  9.728357e-01\n",
      "[1]  2.249554e-01  1.548572e-01  2.040229e-01  2.205415e-01  2.190265e-01\n",
      "[6]  2.224634e-01  2.240259e-01 -6.232208e+04  1.020791e+00\n",
      "[1]  2.254168e-01  1.670355e-01  2.045741e-01  2.206769e-01  2.190955e-01\n",
      "[6]  2.227162e-01  2.244020e-01 -6.229406e+04  1.001421e+00\n",
      "[1]  2.254177e-01  1.680686e-01  2.045756e-01  2.206770e-01  2.190955e-01\n",
      "[6]  2.227164e-01  2.244026e-01 -6.229390e+04  1.000009e+00\n"
     ]
    },
    {
     "data": {
      "text/html": [
       "<table class=\"dataframe\">\n",
       "<caption>A data.frame: 7 × 4</caption>\n",
       "<thead>\n",
       "\t<tr><th></th><th scope=col>Est</th><th scope=col>SE</th><th scope=col>Stat</th><th scope=col>pval</th></tr>\n",
       "\t<tr><th></th><th scope=col>&lt;dbl&gt;</th><th scope=col>&lt;dbl&gt;</th><th scope=col>&lt;dbl&gt;</th><th scope=col>&lt;dbl&gt;</th></tr>\n",
       "</thead>\n",
       "<tbody>\n",
       "\t<tr><th scope=row>(Intercept)</th><td> 0.376717269</td><td>0.002260901</td><td>27763.098433</td><td> 0.000000e+00</td></tr>\n",
       "\t<tr><th scope=row>is.AFR</th><td> 0.018352266</td><td>0.003552440</td><td>   26.688606</td><td> 2.390268e-07</td></tr>\n",
       "\t<tr><th scope=row>is.AMR</th><td>-0.086639846</td><td>0.005188158</td><td>  278.874610</td><td> 1.320808e-62</td></tr>\n",
       "\t<tr><th scope=row>is.EAS</th><td>-0.004085938</td><td>0.010535985</td><td>    0.150395</td><td> 6.981582e-01</td></tr>\n",
       "\t<tr><th scope=row>is.MID</th><td>-0.325282091</td><td>0.007747420</td><td> 1762.812364</td><td> 0.000000e+00</td></tr>\n",
       "\t<tr><th scope=row>is.OTH</th><td>-0.108173220</td><td>0.004398231</td><td>  604.899887</td><td>1.438937e-133</td></tr>\n",
       "\t<tr><th scope=row>is.SAS</th><td>-0.125080870</td><td>0.017331498</td><td>   52.084630</td><td> 5.315940e-13</td></tr>\n",
       "</tbody>\n",
       "</table>\n"
      ],
      "text/latex": [
       "A data.frame: 7 × 4\n",
       "\\begin{tabular}{r|llll}\n",
       "  & Est & SE & Stat & pval\\\\\n",
       "  & <dbl> & <dbl> & <dbl> & <dbl>\\\\\n",
       "\\hline\n",
       "\t(Intercept) &  0.376717269 & 0.002260901 & 27763.098433 &  0.000000e+00\\\\\n",
       "\tis.AFR &  0.018352266 & 0.003552440 &    26.688606 &  2.390268e-07\\\\\n",
       "\tis.AMR & -0.086639846 & 0.005188158 &   278.874610 &  1.320808e-62\\\\\n",
       "\tis.EAS & -0.004085938 & 0.010535985 &     0.150395 &  6.981582e-01\\\\\n",
       "\tis.MID & -0.325282091 & 0.007747420 &  1762.812364 &  0.000000e+00\\\\\n",
       "\tis.OTH & -0.108173220 & 0.004398231 &   604.899887 & 1.438937e-133\\\\\n",
       "\tis.SAS & -0.125080870 & 0.017331498 &    52.084630 &  5.315940e-13\\\\\n",
       "\\end{tabular}\n"
      ],
      "text/markdown": [
       "\n",
       "A data.frame: 7 × 4\n",
       "\n",
       "| <!--/--> | Est &lt;dbl&gt; | SE &lt;dbl&gt; | Stat &lt;dbl&gt; | pval &lt;dbl&gt; |\n",
       "|---|---|---|---|---|\n",
       "| (Intercept) |  0.376717269 | 0.002260901 | 27763.098433 |  0.000000e+00 |\n",
       "| is.AFR |  0.018352266 | 0.003552440 |    26.688606 |  2.390268e-07 |\n",
       "| is.AMR | -0.086639846 | 0.005188158 |   278.874610 |  1.320808e-62 |\n",
       "| is.EAS | -0.004085938 | 0.010535985 |     0.150395 |  6.981582e-01 |\n",
       "| is.MID | -0.325282091 | 0.007747420 |  1762.812364 |  0.000000e+00 |\n",
       "| is.OTH | -0.108173220 | 0.004398231 |   604.899887 | 1.438937e-133 |\n",
       "| is.SAS | -0.125080870 | 0.017331498 |    52.084630 |  5.315940e-13 |\n",
       "\n"
      ],
      "text/plain": [
       "            Est          SE          Stat         pval         \n",
       "(Intercept)  0.376717269 0.002260901 27763.098433  0.000000e+00\n",
       "is.AFR       0.018352266 0.003552440    26.688606  2.390268e-07\n",
       "is.AMR      -0.086639846 0.005188158   278.874610  1.320808e-62\n",
       "is.EAS      -0.004085938 0.010535985     0.150395  6.981582e-01\n",
       "is.MID      -0.325282091 0.007747420  1762.812364  0.000000e+00\n",
       "is.OTH      -0.108173220 0.004398231   604.899887 1.438937e-133\n",
       "is.SAS      -0.125080870 0.017331498    52.084630  5.315940e-13"
      ]
     },
     "metadata": {},
     "output_type": "display_data"
    }
   ],
   "source": [
    "# mixed model with group assignments\n",
    "nullmod <- fitNullModel(merge.dt, outcome = \"PRS\",\n",
    "                        covars=c(\"is.AFR\",\"is.AMR\",\"is.EAS\",\"is.MID\",\"is.OTH\",\"is.SAS\"), \n",
    "                        group.var=\"my.ancestry3\", \n",
    "                        family = \"gaussian\")\n",
    "\n",
    "nullmod$fixef"
   ]
  },
  {
   "cell_type": "code",
   "execution_count": 28,
   "metadata": {
    "hidden": true
   },
   "outputs": [
    {
     "data": {
      "text/html": [
       "<table class=\"dataframe\">\n",
       "<caption>A data.table: 7 × 5</caption>\n",
       "<thead>\n",
       "\t<tr><th scope=col>rownames(nullmod$fixef)</th><th scope=col>Est</th><th scope=col>SE</th><th scope=col>Stat</th><th scope=col>pval</th></tr>\n",
       "\t<tr><th scope=col>&lt;chr&gt;</th><th scope=col>&lt;dbl&gt;</th><th scope=col>&lt;dbl&gt;</th><th scope=col>&lt;dbl&gt;</th><th scope=col>&lt;dbl&gt;</th></tr>\n",
       "</thead>\n",
       "<tbody>\n",
       "\t<tr><td>(Intercept)</td><td> 0.376717269</td><td>0.002260901</td><td>27763.098433</td><td> 0.000000e+00</td></tr>\n",
       "\t<tr><td>is.AFR     </td><td> 0.018352266</td><td>0.003552440</td><td>   26.688606</td><td> 2.390268e-07</td></tr>\n",
       "\t<tr><td>is.AMR     </td><td>-0.086639846</td><td>0.005188158</td><td>  278.874610</td><td> 1.320808e-62</td></tr>\n",
       "\t<tr><td>is.EAS     </td><td>-0.004085938</td><td>0.010535985</td><td>    0.150395</td><td> 6.981582e-01</td></tr>\n",
       "\t<tr><td>is.MID     </td><td>-0.325282091</td><td>0.007747420</td><td> 1762.812364</td><td> 0.000000e+00</td></tr>\n",
       "\t<tr><td>is.OTH     </td><td>-0.108173220</td><td>0.004398231</td><td>  604.899887</td><td>1.438937e-133</td></tr>\n",
       "\t<tr><td>is.SAS     </td><td>-0.125080870</td><td>0.017331498</td><td>   52.084630</td><td> 5.315940e-13</td></tr>\n",
       "</tbody>\n",
       "</table>\n"
      ],
      "text/latex": [
       "A data.table: 7 × 5\n",
       "\\begin{tabular}{lllll}\n",
       " rownames(nullmod\\$fixef) & Est & SE & Stat & pval\\\\\n",
       " <chr> & <dbl> & <dbl> & <dbl> & <dbl>\\\\\n",
       "\\hline\n",
       "\t (Intercept) &  0.376717269 & 0.002260901 & 27763.098433 &  0.000000e+00\\\\\n",
       "\t is.AFR      &  0.018352266 & 0.003552440 &    26.688606 &  2.390268e-07\\\\\n",
       "\t is.AMR      & -0.086639846 & 0.005188158 &   278.874610 &  1.320808e-62\\\\\n",
       "\t is.EAS      & -0.004085938 & 0.010535985 &     0.150395 &  6.981582e-01\\\\\n",
       "\t is.MID      & -0.325282091 & 0.007747420 &  1762.812364 &  0.000000e+00\\\\\n",
       "\t is.OTH      & -0.108173220 & 0.004398231 &   604.899887 & 1.438937e-133\\\\\n",
       "\t is.SAS      & -0.125080870 & 0.017331498 &    52.084630 &  5.315940e-13\\\\\n",
       "\\end{tabular}\n"
      ],
      "text/markdown": [
       "\n",
       "A data.table: 7 × 5\n",
       "\n",
       "| rownames(nullmod$fixef) &lt;chr&gt; | Est &lt;dbl&gt; | SE &lt;dbl&gt; | Stat &lt;dbl&gt; | pval &lt;dbl&gt; |\n",
       "|---|---|---|---|---|\n",
       "| (Intercept) |  0.376717269 | 0.002260901 | 27763.098433 |  0.000000e+00 |\n",
       "| is.AFR      |  0.018352266 | 0.003552440 |    26.688606 |  2.390268e-07 |\n",
       "| is.AMR      | -0.086639846 | 0.005188158 |   278.874610 |  1.320808e-62 |\n",
       "| is.EAS      | -0.004085938 | 0.010535985 |     0.150395 |  6.981582e-01 |\n",
       "| is.MID      | -0.325282091 | 0.007747420 |  1762.812364 |  0.000000e+00 |\n",
       "| is.OTH      | -0.108173220 | 0.004398231 |   604.899887 | 1.438937e-133 |\n",
       "| is.SAS      | -0.125080870 | 0.017331498 |    52.084630 |  5.315940e-13 |\n",
       "\n"
      ],
      "text/plain": [
       "  rownames(nullmod$fixef) Est          SE          Stat         pval         \n",
       "1 (Intercept)              0.376717269 0.002260901 27763.098433  0.000000e+00\n",
       "2 is.AFR                   0.018352266 0.003552440    26.688606  2.390268e-07\n",
       "3 is.AMR                  -0.086639846 0.005188158   278.874610  1.320808e-62\n",
       "4 is.EAS                  -0.004085938 0.010535985     0.150395  6.981582e-01\n",
       "5 is.MID                  -0.325282091 0.007747420  1762.812364  0.000000e+00\n",
       "6 is.OTH                  -0.108173220 0.004398231   604.899887 1.438937e-133\n",
       "7 is.SAS                  -0.125080870 0.017331498    52.084630  5.315940e-13"
      ]
     },
     "metadata": {},
     "output_type": "display_data"
    },
    {
     "data": {
      "text/html": [
       "<table class=\"dataframe\">\n",
       "<caption>A data.table: 7 × 3</caption>\n",
       "<thead>\n",
       "\t<tr><th scope=col>Variable</th><th scope=col>beta</th><th scope=col>p</th></tr>\n",
       "\t<tr><th scope=col>&lt;chr&gt;</th><th scope=col>&lt;dbl&gt;</th><th scope=col>&lt;dbl&gt;</th></tr>\n",
       "</thead>\n",
       "<tbody>\n",
       "\t<tr><td>(Intercept)</td><td> 0.376717269</td><td> 0.000000e+00</td></tr>\n",
       "\t<tr><td>is.AFR     </td><td> 0.018352266</td><td> 2.390268e-07</td></tr>\n",
       "\t<tr><td>is.AMR     </td><td>-0.086639846</td><td> 1.320808e-62</td></tr>\n",
       "\t<tr><td>is.EAS     </td><td>-0.004085938</td><td> 6.981582e-01</td></tr>\n",
       "\t<tr><td>is.MID     </td><td>-0.325282091</td><td> 0.000000e+00</td></tr>\n",
       "\t<tr><td>is.OTH     </td><td>-0.108173220</td><td>1.438937e-133</td></tr>\n",
       "\t<tr><td>is.SAS     </td><td>-0.125080870</td><td> 5.315940e-13</td></tr>\n",
       "</tbody>\n",
       "</table>\n"
      ],
      "text/latex": [
       "A data.table: 7 × 3\n",
       "\\begin{tabular}{lll}\n",
       " Variable & beta & p\\\\\n",
       " <chr> & <dbl> & <dbl>\\\\\n",
       "\\hline\n",
       "\t (Intercept) &  0.376717269 &  0.000000e+00\\\\\n",
       "\t is.AFR      &  0.018352266 &  2.390268e-07\\\\\n",
       "\t is.AMR      & -0.086639846 &  1.320808e-62\\\\\n",
       "\t is.EAS      & -0.004085938 &  6.981582e-01\\\\\n",
       "\t is.MID      & -0.325282091 &  0.000000e+00\\\\\n",
       "\t is.OTH      & -0.108173220 & 1.438937e-133\\\\\n",
       "\t is.SAS      & -0.125080870 &  5.315940e-13\\\\\n",
       "\\end{tabular}\n"
      ],
      "text/markdown": [
       "\n",
       "A data.table: 7 × 3\n",
       "\n",
       "| Variable &lt;chr&gt; | beta &lt;dbl&gt; | p &lt;dbl&gt; |\n",
       "|---|---|---|\n",
       "| (Intercept) |  0.376717269 |  0.000000e+00 |\n",
       "| is.AFR      |  0.018352266 |  2.390268e-07 |\n",
       "| is.AMR      | -0.086639846 |  1.320808e-62 |\n",
       "| is.EAS      | -0.004085938 |  6.981582e-01 |\n",
       "| is.MID      | -0.325282091 |  0.000000e+00 |\n",
       "| is.OTH      | -0.108173220 | 1.438937e-133 |\n",
       "| is.SAS      | -0.125080870 |  5.315940e-13 |\n",
       "\n"
      ],
      "text/plain": [
       "  Variable    beta         p            \n",
       "1 (Intercept)  0.376717269  0.000000e+00\n",
       "2 is.AFR       0.018352266  2.390268e-07\n",
       "3 is.AMR      -0.086639846  1.320808e-62\n",
       "4 is.EAS      -0.004085938  6.981582e-01\n",
       "5 is.MID      -0.325282091  0.000000e+00\n",
       "6 is.OTH      -0.108173220 1.438937e-133\n",
       "7 is.SAS      -0.125080870  5.315940e-13"
      ]
     },
     "metadata": {},
     "output_type": "display_data"
    },
    {
     "data": {
      "text/html": [
       "<table class=\"dataframe\">\n",
       "<caption>A data.table: 7 × 3</caption>\n",
       "<thead>\n",
       "\t<tr><th scope=col>Variable</th><th scope=col>beta</th><th scope=col>p</th></tr>\n",
       "\t<tr><th scope=col>&lt;chr&gt;</th><th scope=col>&lt;dbl&gt;</th><th scope=col>&lt;chr&gt;</th></tr>\n",
       "</thead>\n",
       "<tbody>\n",
       "\t<tr><td>(Intercept)</td><td> 0.377</td><td>0.000e+00 </td></tr>\n",
       "\t<tr><td>is.AFR     </td><td> 0.018</td><td>2.390e-07 </td></tr>\n",
       "\t<tr><td>is.AMR     </td><td>-0.087</td><td>1.321e-62 </td></tr>\n",
       "\t<tr><td>is.EAS     </td><td>-0.004</td><td>6.982e-01 </td></tr>\n",
       "\t<tr><td>is.MID     </td><td>-0.325</td><td>0.000e+00 </td></tr>\n",
       "\t<tr><td>is.OTH     </td><td>-0.108</td><td>1.439e-133</td></tr>\n",
       "\t<tr><td>is.SAS     </td><td>-0.125</td><td>5.316e-13 </td></tr>\n",
       "</tbody>\n",
       "</table>\n"
      ],
      "text/latex": [
       "A data.table: 7 × 3\n",
       "\\begin{tabular}{lll}\n",
       " Variable & beta & p\\\\\n",
       " <chr> & <dbl> & <chr>\\\\\n",
       "\\hline\n",
       "\t (Intercept) &  0.377 & 0.000e+00 \\\\\n",
       "\t is.AFR      &  0.018 & 2.390e-07 \\\\\n",
       "\t is.AMR      & -0.087 & 1.321e-62 \\\\\n",
       "\t is.EAS      & -0.004 & 6.982e-01 \\\\\n",
       "\t is.MID      & -0.325 & 0.000e+00 \\\\\n",
       "\t is.OTH      & -0.108 & 1.439e-133\\\\\n",
       "\t is.SAS      & -0.125 & 5.316e-13 \\\\\n",
       "\\end{tabular}\n"
      ],
      "text/markdown": [
       "\n",
       "A data.table: 7 × 3\n",
       "\n",
       "| Variable &lt;chr&gt; | beta &lt;dbl&gt; | p &lt;chr&gt; |\n",
       "|---|---|---|\n",
       "| (Intercept) |  0.377 | 0.000e+00  |\n",
       "| is.AFR      |  0.018 | 2.390e-07  |\n",
       "| is.AMR      | -0.087 | 1.321e-62  |\n",
       "| is.EAS      | -0.004 | 6.982e-01  |\n",
       "| is.MID      | -0.325 | 0.000e+00  |\n",
       "| is.OTH      | -0.108 | 1.439e-133 |\n",
       "| is.SAS      | -0.125 | 5.316e-13  |\n",
       "\n"
      ],
      "text/plain": [
       "  Variable    beta   p         \n",
       "1 (Intercept)  0.377 0.000e+00 \n",
       "2 is.AFR       0.018 2.390e-07 \n",
       "3 is.AMR      -0.087 1.321e-62 \n",
       "4 is.EAS      -0.004 6.982e-01 \n",
       "5 is.MID      -0.325 0.000e+00 \n",
       "6 is.OTH      -0.108 1.439e-133\n",
       "7 is.SAS      -0.125 5.316e-13 "
      ]
     },
     "metadata": {},
     "output_type": "display_data"
    }
   ],
   "source": [
    "(my.table <- data.table(cbind(rownames(nullmod$fixef),nullmod$fixef)))\n",
    "setnames(my.table, c(\"Variable\", \"beta\", \"std.err\",\"stat\", \"p\"))\n",
    "my.table <- my.table[,list(Variable, beta, p)]\n",
    "my.table\n",
    "my.table[,beta:=round(as.numeric(beta), 3)]\n",
    "my.table[,p:=formatC(p, format=\"e\",digits=3)]\n",
    "my.table"
   ]
  },
  {
   "cell_type": "code",
   "execution_count": 16,
   "metadata": {
    "hidden": true
   },
   "outputs": [
    {
     "data": {
      "text/plain": [
       "\n",
       "Call:\n",
       "lm(formula = PRS.ADJ.PC ~ is.AFR + is.AMR + is.EAS + is.MID + \n",
       "    is.OTH + is.SAS, data = merge.dt)\n",
       "\n",
       "Residuals:\n",
       "     Min       1Q   Median       3Q      Max \n",
       "-1.95694 -0.30939 -0.00008  0.30749  1.95041 \n",
       "\n",
       "Coefficients:\n",
       "             Estimate Std. Error t value Pr(>|t|)    \n",
       "(Intercept)  0.041550   0.002177  19.083  < 2e-16 ***\n",
       "is.AFR      -0.034060   0.003752  -9.077  < 2e-16 ***\n",
       "is.AMR      -0.049276   0.005199  -9.479  < 2e-16 ***\n",
       "is.EAS      -0.042716   0.010285  -4.153 3.28e-05 ***\n",
       "is.MID      -0.293342   0.007502 -39.100  < 2e-16 ***\n",
       "is.OTH      -0.108886   0.004269 -25.506  < 2e-16 ***\n",
       "is.SAS       0.142909   0.016728   8.543  < 2e-16 ***\n",
       "---\n",
       "Signif. codes:  0 ‘***’ 0.001 ‘**’ 0.01 ‘*’ 0.05 ‘.’ 0.1 ‘ ’ 1\n",
       "\n",
       "Residual standard error: 0.4572 on 98249 degrees of freedom\n",
       "Multiple R-squared:  0.02056,\tAdjusted R-squared:  0.0205 \n",
       "F-statistic: 343.8 on 6 and 98249 DF,  p-value: < 2.2e-16\n"
      ]
     },
     "metadata": {},
     "output_type": "display_data"
    }
   ],
   "source": [
    "# repeat for the adjusted PRS as well\n",
    "my.model <- (lm(PRS.ADJ.PC ~ is.AFR + is.AMR + is.EAS + is.MID + is.OTH + is.SAS, data=merge.dt))\n",
    "summary(my.model)\n"
   ]
  },
  {
   "cell_type": "code",
   "execution_count": 17,
   "metadata": {
    "hidden": true
   },
   "outputs": [
    {
     "name": "stdout",
     "output_type": "stream",
     "text": [
      "[1]  2.134413e-01  2.134413e-01  2.134413e-01  2.134413e-01  2.134413e-01\n",
      "[6]  2.134413e-01  2.134413e-01 -6.255505e+04  9.794959e-01\n",
      "[1]  2.246671e-01  1.562432e-01  2.044824e-01  2.186014e-01  2.168323e-01\n",
      "[6]  2.229151e-01  2.241839e-01 -6.225482e+04  1.019239e+00\n",
      "[1]  2.252885e-01  1.674636e-01  2.048427e-01  2.187292e-01  2.168871e-01\n",
      "[6]  2.233543e-01  2.247518e-01 -6.223195e+04  1.001185e+00\n",
      "[1]  2.252903e-01  1.683272e-01  2.048433e-01  2.187292e-01  2.168871e-01\n",
      "[6]  2.233551e-01  2.247533e-01 -6.223183e+04  1.000006e+00\n"
     ]
    },
    {
     "data": {
      "text/html": [
       "<table class=\"dataframe\">\n",
       "<caption>A data.frame: 7 × 4</caption>\n",
       "<thead>\n",
       "\t<tr><th></th><th scope=col>Est</th><th scope=col>SE</th><th scope=col>Stat</th><th scope=col>pval</th></tr>\n",
       "\t<tr><th></th><th scope=col>&lt;dbl&gt;</th><th scope=col>&lt;dbl&gt;</th><th scope=col>&lt;dbl&gt;</th><th scope=col>&lt;dbl&gt;</th></tr>\n",
       "</thead>\n",
       "<tbody>\n",
       "\t<tr><th scope=row>(Intercept)</th><td> 0.04155038</td><td>0.002260259</td><td> 337.93536</td><td> 1.796868e-75</td></tr>\n",
       "\t<tr><th scope=row>is.AFR</th><td>-0.03405956</td><td>0.003553654</td><td>  91.86030</td><td> 9.301642e-22</td></tr>\n",
       "\t<tr><th scope=row>is.AMR</th><td>-0.04927580</td><td>0.005190621</td><td>  90.12156</td><td> 2.239675e-21</td></tr>\n",
       "\t<tr><th scope=row>is.EAS</th><td>-0.04271607</td><td>0.010485057</td><td>  16.59744</td><td> 4.621344e-05</td></tr>\n",
       "\t<tr><th scope=row>is.MID</th><td>-0.29334197</td><td>0.007757380</td><td>1429.94164</td><td>6.547805e-313</td></tr>\n",
       "\t<tr><th scope=row>is.OTH</th><td>-0.10888624</td><td>0.004383591</td><td> 617.00122</td><td>3.357253e-136</td></tr>\n",
       "\t<tr><th scope=row>is.SAS</th><td> 0.14290888</td><td>0.017344698</td><td>  67.88674</td><td> 1.731621e-16</td></tr>\n",
       "</tbody>\n",
       "</table>\n"
      ],
      "text/latex": [
       "A data.frame: 7 × 4\n",
       "\\begin{tabular}{r|llll}\n",
       "  & Est & SE & Stat & pval\\\\\n",
       "  & <dbl> & <dbl> & <dbl> & <dbl>\\\\\n",
       "\\hline\n",
       "\t(Intercept) &  0.04155038 & 0.002260259 &  337.93536 &  1.796868e-75\\\\\n",
       "\tis.AFR & -0.03405956 & 0.003553654 &   91.86030 &  9.301642e-22\\\\\n",
       "\tis.AMR & -0.04927580 & 0.005190621 &   90.12156 &  2.239675e-21\\\\\n",
       "\tis.EAS & -0.04271607 & 0.010485057 &   16.59744 &  4.621344e-05\\\\\n",
       "\tis.MID & -0.29334197 & 0.007757380 & 1429.94164 & 6.547805e-313\\\\\n",
       "\tis.OTH & -0.10888624 & 0.004383591 &  617.00122 & 3.357253e-136\\\\\n",
       "\tis.SAS &  0.14290888 & 0.017344698 &   67.88674 &  1.731621e-16\\\\\n",
       "\\end{tabular}\n"
      ],
      "text/markdown": [
       "\n",
       "A data.frame: 7 × 4\n",
       "\n",
       "| <!--/--> | Est &lt;dbl&gt; | SE &lt;dbl&gt; | Stat &lt;dbl&gt; | pval &lt;dbl&gt; |\n",
       "|---|---|---|---|---|\n",
       "| (Intercept) |  0.04155038 | 0.002260259 |  337.93536 |  1.796868e-75 |\n",
       "| is.AFR | -0.03405956 | 0.003553654 |   91.86030 |  9.301642e-22 |\n",
       "| is.AMR | -0.04927580 | 0.005190621 |   90.12156 |  2.239675e-21 |\n",
       "| is.EAS | -0.04271607 | 0.010485057 |   16.59744 |  4.621344e-05 |\n",
       "| is.MID | -0.29334197 | 0.007757380 | 1429.94164 | 6.547805e-313 |\n",
       "| is.OTH | -0.10888624 | 0.004383591 |  617.00122 | 3.357253e-136 |\n",
       "| is.SAS |  0.14290888 | 0.017344698 |   67.88674 |  1.731621e-16 |\n",
       "\n"
      ],
      "text/plain": [
       "            Est         SE          Stat       pval         \n",
       "(Intercept)  0.04155038 0.002260259  337.93536  1.796868e-75\n",
       "is.AFR      -0.03405956 0.003553654   91.86030  9.301642e-22\n",
       "is.AMR      -0.04927580 0.005190621   90.12156  2.239675e-21\n",
       "is.EAS      -0.04271607 0.010485057   16.59744  4.621344e-05\n",
       "is.MID      -0.29334197 0.007757380 1429.94164 6.547805e-313\n",
       "is.OTH      -0.10888624 0.004383591  617.00122 3.357253e-136\n",
       "is.SAS       0.14290888 0.017344698   67.88674  1.731621e-16"
      ]
     },
     "metadata": {},
     "output_type": "display_data"
    },
    {
     "data": {
      "text/html": [
       "<table class=\"dataframe\">\n",
       "<caption>A data.table: 7 × 5</caption>\n",
       "<thead>\n",
       "\t<tr><th scope=col>rownames(nullmod$fixef)</th><th scope=col>Est</th><th scope=col>SE</th><th scope=col>Stat</th><th scope=col>pval</th></tr>\n",
       "\t<tr><th scope=col>&lt;chr&gt;</th><th scope=col>&lt;dbl&gt;</th><th scope=col>&lt;dbl&gt;</th><th scope=col>&lt;dbl&gt;</th><th scope=col>&lt;dbl&gt;</th></tr>\n",
       "</thead>\n",
       "<tbody>\n",
       "\t<tr><td>(Intercept)</td><td> 0.04155038</td><td>0.002260259</td><td> 337.93536</td><td> 1.796868e-75</td></tr>\n",
       "\t<tr><td>is.AFR     </td><td>-0.03405956</td><td>0.003553654</td><td>  91.86030</td><td> 9.301642e-22</td></tr>\n",
       "\t<tr><td>is.AMR     </td><td>-0.04927580</td><td>0.005190621</td><td>  90.12156</td><td> 2.239675e-21</td></tr>\n",
       "\t<tr><td>is.EAS     </td><td>-0.04271607</td><td>0.010485057</td><td>  16.59744</td><td> 4.621344e-05</td></tr>\n",
       "\t<tr><td>is.MID     </td><td>-0.29334197</td><td>0.007757380</td><td>1429.94164</td><td>6.547805e-313</td></tr>\n",
       "\t<tr><td>is.OTH     </td><td>-0.10888624</td><td>0.004383591</td><td> 617.00122</td><td>3.357253e-136</td></tr>\n",
       "\t<tr><td>is.SAS     </td><td> 0.14290888</td><td>0.017344698</td><td>  67.88674</td><td> 1.731621e-16</td></tr>\n",
       "</tbody>\n",
       "</table>\n"
      ],
      "text/latex": [
       "A data.table: 7 × 5\n",
       "\\begin{tabular}{lllll}\n",
       " rownames(nullmod\\$fixef) & Est & SE & Stat & pval\\\\\n",
       " <chr> & <dbl> & <dbl> & <dbl> & <dbl>\\\\\n",
       "\\hline\n",
       "\t (Intercept) &  0.04155038 & 0.002260259 &  337.93536 &  1.796868e-75\\\\\n",
       "\t is.AFR      & -0.03405956 & 0.003553654 &   91.86030 &  9.301642e-22\\\\\n",
       "\t is.AMR      & -0.04927580 & 0.005190621 &   90.12156 &  2.239675e-21\\\\\n",
       "\t is.EAS      & -0.04271607 & 0.010485057 &   16.59744 &  4.621344e-05\\\\\n",
       "\t is.MID      & -0.29334197 & 0.007757380 & 1429.94164 & 6.547805e-313\\\\\n",
       "\t is.OTH      & -0.10888624 & 0.004383591 &  617.00122 & 3.357253e-136\\\\\n",
       "\t is.SAS      &  0.14290888 & 0.017344698 &   67.88674 &  1.731621e-16\\\\\n",
       "\\end{tabular}\n"
      ],
      "text/markdown": [
       "\n",
       "A data.table: 7 × 5\n",
       "\n",
       "| rownames(nullmod$fixef) &lt;chr&gt; | Est &lt;dbl&gt; | SE &lt;dbl&gt; | Stat &lt;dbl&gt; | pval &lt;dbl&gt; |\n",
       "|---|---|---|---|---|\n",
       "| (Intercept) |  0.04155038 | 0.002260259 |  337.93536 |  1.796868e-75 |\n",
       "| is.AFR      | -0.03405956 | 0.003553654 |   91.86030 |  9.301642e-22 |\n",
       "| is.AMR      | -0.04927580 | 0.005190621 |   90.12156 |  2.239675e-21 |\n",
       "| is.EAS      | -0.04271607 | 0.010485057 |   16.59744 |  4.621344e-05 |\n",
       "| is.MID      | -0.29334197 | 0.007757380 | 1429.94164 | 6.547805e-313 |\n",
       "| is.OTH      | -0.10888624 | 0.004383591 |  617.00122 | 3.357253e-136 |\n",
       "| is.SAS      |  0.14290888 | 0.017344698 |   67.88674 |  1.731621e-16 |\n",
       "\n"
      ],
      "text/plain": [
       "  rownames(nullmod$fixef) Est         SE          Stat       pval         \n",
       "1 (Intercept)              0.04155038 0.002260259  337.93536  1.796868e-75\n",
       "2 is.AFR                  -0.03405956 0.003553654   91.86030  9.301642e-22\n",
       "3 is.AMR                  -0.04927580 0.005190621   90.12156  2.239675e-21\n",
       "4 is.EAS                  -0.04271607 0.010485057   16.59744  4.621344e-05\n",
       "5 is.MID                  -0.29334197 0.007757380 1429.94164 6.547805e-313\n",
       "6 is.OTH                  -0.10888624 0.004383591  617.00122 3.357253e-136\n",
       "7 is.SAS                   0.14290888 0.017344698   67.88674  1.731621e-16"
      ]
     },
     "metadata": {},
     "output_type": "display_data"
    },
    {
     "data": {
      "text/html": [
       "<table class=\"dataframe\">\n",
       "<caption>A data.table: 7 × 3</caption>\n",
       "<thead>\n",
       "\t<tr><th scope=col>Variable</th><th scope=col>beta</th><th scope=col>p</th></tr>\n",
       "\t<tr><th scope=col>&lt;chr&gt;</th><th scope=col>&lt;dbl&gt;</th><th scope=col>&lt;dbl&gt;</th></tr>\n",
       "</thead>\n",
       "<tbody>\n",
       "\t<tr><td>(Intercept)</td><td> 0.04155038</td><td> 1.796868e-75</td></tr>\n",
       "\t<tr><td>is.AFR     </td><td>-0.03405956</td><td> 9.301642e-22</td></tr>\n",
       "\t<tr><td>is.AMR     </td><td>-0.04927580</td><td> 2.239675e-21</td></tr>\n",
       "\t<tr><td>is.EAS     </td><td>-0.04271607</td><td> 4.621344e-05</td></tr>\n",
       "\t<tr><td>is.MID     </td><td>-0.29334197</td><td>6.547805e-313</td></tr>\n",
       "\t<tr><td>is.OTH     </td><td>-0.10888624</td><td>3.357253e-136</td></tr>\n",
       "\t<tr><td>is.SAS     </td><td> 0.14290888</td><td> 1.731621e-16</td></tr>\n",
       "</tbody>\n",
       "</table>\n"
      ],
      "text/latex": [
       "A data.table: 7 × 3\n",
       "\\begin{tabular}{lll}\n",
       " Variable & beta & p\\\\\n",
       " <chr> & <dbl> & <dbl>\\\\\n",
       "\\hline\n",
       "\t (Intercept) &  0.04155038 &  1.796868e-75\\\\\n",
       "\t is.AFR      & -0.03405956 &  9.301642e-22\\\\\n",
       "\t is.AMR      & -0.04927580 &  2.239675e-21\\\\\n",
       "\t is.EAS      & -0.04271607 &  4.621344e-05\\\\\n",
       "\t is.MID      & -0.29334197 & 6.547805e-313\\\\\n",
       "\t is.OTH      & -0.10888624 & 3.357253e-136\\\\\n",
       "\t is.SAS      &  0.14290888 &  1.731621e-16\\\\\n",
       "\\end{tabular}\n"
      ],
      "text/markdown": [
       "\n",
       "A data.table: 7 × 3\n",
       "\n",
       "| Variable &lt;chr&gt; | beta &lt;dbl&gt; | p &lt;dbl&gt; |\n",
       "|---|---|---|\n",
       "| (Intercept) |  0.04155038 |  1.796868e-75 |\n",
       "| is.AFR      | -0.03405956 |  9.301642e-22 |\n",
       "| is.AMR      | -0.04927580 |  2.239675e-21 |\n",
       "| is.EAS      | -0.04271607 |  4.621344e-05 |\n",
       "| is.MID      | -0.29334197 | 6.547805e-313 |\n",
       "| is.OTH      | -0.10888624 | 3.357253e-136 |\n",
       "| is.SAS      |  0.14290888 |  1.731621e-16 |\n",
       "\n"
      ],
      "text/plain": [
       "  Variable    beta        p            \n",
       "1 (Intercept)  0.04155038  1.796868e-75\n",
       "2 is.AFR      -0.03405956  9.301642e-22\n",
       "3 is.AMR      -0.04927580  2.239675e-21\n",
       "4 is.EAS      -0.04271607  4.621344e-05\n",
       "5 is.MID      -0.29334197 6.547805e-313\n",
       "6 is.OTH      -0.10888624 3.357253e-136\n",
       "7 is.SAS       0.14290888  1.731621e-16"
      ]
     },
     "metadata": {},
     "output_type": "display_data"
    },
    {
     "data": {
      "text/html": [
       "<table class=\"dataframe\">\n",
       "<caption>A data.table: 7 × 3</caption>\n",
       "<thead>\n",
       "\t<tr><th scope=col>Variable</th><th scope=col>beta</th><th scope=col>p</th></tr>\n",
       "\t<tr><th scope=col>&lt;chr&gt;</th><th scope=col>&lt;dbl&gt;</th><th scope=col>&lt;chr&gt;</th></tr>\n",
       "</thead>\n",
       "<tbody>\n",
       "\t<tr><td>(Intercept)</td><td> 0.042</td><td>1.797e-75 </td></tr>\n",
       "\t<tr><td>is.AFR     </td><td>-0.034</td><td>9.302e-22 </td></tr>\n",
       "\t<tr><td>is.AMR     </td><td>-0.049</td><td>2.240e-21 </td></tr>\n",
       "\t<tr><td>is.EAS     </td><td>-0.043</td><td>4.621e-05 </td></tr>\n",
       "\t<tr><td>is.MID     </td><td>-0.293</td><td>6.548e-313</td></tr>\n",
       "\t<tr><td>is.OTH     </td><td>-0.109</td><td>3.357e-136</td></tr>\n",
       "\t<tr><td>is.SAS     </td><td> 0.143</td><td>1.732e-16 </td></tr>\n",
       "</tbody>\n",
       "</table>\n"
      ],
      "text/latex": [
       "A data.table: 7 × 3\n",
       "\\begin{tabular}{lll}\n",
       " Variable & beta & p\\\\\n",
       " <chr> & <dbl> & <chr>\\\\\n",
       "\\hline\n",
       "\t (Intercept) &  0.042 & 1.797e-75 \\\\\n",
       "\t is.AFR      & -0.034 & 9.302e-22 \\\\\n",
       "\t is.AMR      & -0.049 & 2.240e-21 \\\\\n",
       "\t is.EAS      & -0.043 & 4.621e-05 \\\\\n",
       "\t is.MID      & -0.293 & 6.548e-313\\\\\n",
       "\t is.OTH      & -0.109 & 3.357e-136\\\\\n",
       "\t is.SAS      &  0.143 & 1.732e-16 \\\\\n",
       "\\end{tabular}\n"
      ],
      "text/markdown": [
       "\n",
       "A data.table: 7 × 3\n",
       "\n",
       "| Variable &lt;chr&gt; | beta &lt;dbl&gt; | p &lt;chr&gt; |\n",
       "|---|---|---|\n",
       "| (Intercept) |  0.042 | 1.797e-75  |\n",
       "| is.AFR      | -0.034 | 9.302e-22  |\n",
       "| is.AMR      | -0.049 | 2.240e-21  |\n",
       "| is.EAS      | -0.043 | 4.621e-05  |\n",
       "| is.MID      | -0.293 | 6.548e-313 |\n",
       "| is.OTH      | -0.109 | 3.357e-136 |\n",
       "| is.SAS      |  0.143 | 1.732e-16  |\n",
       "\n"
      ],
      "text/plain": [
       "  Variable    beta   p         \n",
       "1 (Intercept)  0.042 1.797e-75 \n",
       "2 is.AFR      -0.034 9.302e-22 \n",
       "3 is.AMR      -0.049 2.240e-21 \n",
       "4 is.EAS      -0.043 4.621e-05 \n",
       "5 is.MID      -0.293 6.548e-313\n",
       "6 is.OTH      -0.109 3.357e-136\n",
       "7 is.SAS       0.143 1.732e-16 "
      ]
     },
     "metadata": {},
     "output_type": "display_data"
    }
   ],
   "source": [
    "nullmod <- fitNullModel(merge.dt, outcome = \"PRS.ADJ.PC\",\n",
    "                        covars=c(\"is.AFR\",\"is.AMR\",\"is.EAS\",\"is.MID\",\"is.OTH\",\"is.SAS\"), \n",
    "                        group.var=\"my.ancestry3\", \n",
    "                        family = \"gaussian\")\n",
    "\n",
    "nullmod$fixef\n",
    "(my.table <- data.table(cbind(rownames(nullmod$fixef),nullmod$fixef)))\n",
    "setnames(my.table, c(\"Variable\", \"beta\", \"std.err\",\"stat\", \"p\"))\n",
    "my.table <- my.table[,list(Variable, beta, p)]\n",
    "my.table\n",
    "my.table[,beta:=round(as.numeric(beta), 3)]\n",
    "my.table[,p:=formatC(p, format=\"e\",digits=3)]\n",
    "my.table"
   ]
  },
  {
   "cell_type": "code",
   "execution_count": 18,
   "metadata": {
    "hidden": true
   },
   "outputs": [
    {
     "data": {
      "text/plain": [
       "\n",
       "Call:\n",
       "lm(formula = PRS.ADJ.ANC ~ is.AFR + is.AMR + is.EAS + is.MID + \n",
       "    is.OTH + is.SAS, data = merge.dt)\n",
       "\n",
       "Residuals:\n",
       "     Min       1Q   Median       3Q      Max \n",
       "-1.96281 -0.30914 -0.00065  0.30649  1.93889 \n",
       "\n",
       "Coefficients:\n",
       "              Estimate Std. Error t value Pr(>|t|)    \n",
       "(Intercept)  2.505e-03  2.172e-03   1.153 0.248817    \n",
       "is.AFR      -3.886e-03  3.743e-03  -1.038 0.299161    \n",
       "is.AMR      -7.966e-05  5.185e-03  -0.015 0.987743    \n",
       "is.EAS      -2.316e-03  1.026e-02  -0.226 0.821422    \n",
       "is.MID       2.680e-02  7.483e-03   3.581 0.000342 ***\n",
       "is.OTH      -1.730e-02  4.258e-03  -4.062 4.87e-05 ***\n",
       "is.SAS       7.778e-03  1.669e-02   0.466 0.641116    \n",
       "---\n",
       "Signif. codes:  0 ‘***’ 0.001 ‘**’ 0.01 ‘*’ 0.05 ‘.’ 0.1 ‘ ’ 1\n",
       "\n",
       "Residual standard error: 0.4561 on 98249 degrees of freedom\n",
       "Multiple R-squared:  0.0003585,\tAdjusted R-squared:  0.0002975 \n",
       "F-statistic: 5.873 on 6 and 98249 DF,  p-value: 3.886e-06\n"
      ]
     },
     "metadata": {},
     "output_type": "display_data"
    },
    {
     "name": "stdout",
     "output_type": "stream",
     "text": [
      "[1]  2.080730e-01  2.080730e-01  2.080730e-01  2.080730e-01  2.080730e-01\n",
      "[6]  2.080730e-01  2.080730e-01 -6.230683e+04  9.997025e-01\n",
      "[1]  2.237030e-01  1.584503e-01  2.043110e-01  2.135669e-01  2.181606e-01\n",
      "[6]  2.215251e-01  2.233187e-01 -6.200170e+04  1.016692e+00\n",
      "[1]  2.249653e-01  1.674623e-01  2.043778e-01  2.137158e-01  2.186734e-01\n",
      "[6]  2.224510e-01  2.245176e-01 -6.198857e+04  1.000755e+00\n",
      "[1]  2.249725e-01  1.680041e-01  2.043778e-01  2.137159e-01  2.186746e-01\n",
      "[6]  2.224549e-01  2.245241e-01 -6.198852e+04  1.000002e+00\n"
     ]
    },
    {
     "data": {
      "text/html": [
       "<table class=\"dataframe\">\n",
       "<caption>A data.frame: 7 × 4</caption>\n",
       "<thead>\n",
       "\t<tr><th></th><th scope=col>Est</th><th scope=col>SE</th><th scope=col>Stat</th><th scope=col>pval</th></tr>\n",
       "\t<tr><th></th><th scope=col>&lt;dbl&gt;</th><th scope=col>&lt;dbl&gt;</th><th scope=col>&lt;dbl&gt;</th><th scope=col>&lt;dbl&gt;</th></tr>\n",
       "</thead>\n",
       "<tbody>\n",
       "\t<tr><th scope=row>(Intercept)</th><td> 2.504647e-03</td><td>0.002258660</td><td>1.229677e+00</td><td>2.674698e-01</td></tr>\n",
       "\t<tr><th scope=row>is.AFR</th><td>-3.886037e-03</td><td>0.003550601</td><td>1.197871e+00</td><td>2.737477e-01</td></tr>\n",
       "\t<tr><th scope=row>is.AMR</th><td>-7.965878e-05</td><td>0.005185136</td><td>2.360191e-04</td><td>9.877427e-01</td></tr>\n",
       "\t<tr><th scope=row>is.EAS</th><td>-2.315710e-03</td><td>0.010525814</td><td>4.840128e-02</td><td>8.258689e-01</td></tr>\n",
       "\t<tr><th scope=row>is.MID</th><td> 2.679793e-02</td><td>0.007742581</td><td>1.197929e+01</td><td>5.379518e-04</td></tr>\n",
       "\t<tr><th scope=row>is.OTH</th><td>-1.729588e-02</td><td>0.004345717</td><td>1.584027e+01</td><td>6.891994e-05</td></tr>\n",
       "\t<tr><th scope=row>is.SAS</th><td> 7.777917e-03</td><td>0.017335763</td><td>2.012986e-01</td><td>6.536747e-01</td></tr>\n",
       "</tbody>\n",
       "</table>\n"
      ],
      "text/latex": [
       "A data.frame: 7 × 4\n",
       "\\begin{tabular}{r|llll}\n",
       "  & Est & SE & Stat & pval\\\\\n",
       "  & <dbl> & <dbl> & <dbl> & <dbl>\\\\\n",
       "\\hline\n",
       "\t(Intercept) &  2.504647e-03 & 0.002258660 & 1.229677e+00 & 2.674698e-01\\\\\n",
       "\tis.AFR & -3.886037e-03 & 0.003550601 & 1.197871e+00 & 2.737477e-01\\\\\n",
       "\tis.AMR & -7.965878e-05 & 0.005185136 & 2.360191e-04 & 9.877427e-01\\\\\n",
       "\tis.EAS & -2.315710e-03 & 0.010525814 & 4.840128e-02 & 8.258689e-01\\\\\n",
       "\tis.MID &  2.679793e-02 & 0.007742581 & 1.197929e+01 & 5.379518e-04\\\\\n",
       "\tis.OTH & -1.729588e-02 & 0.004345717 & 1.584027e+01 & 6.891994e-05\\\\\n",
       "\tis.SAS &  7.777917e-03 & 0.017335763 & 2.012986e-01 & 6.536747e-01\\\\\n",
       "\\end{tabular}\n"
      ],
      "text/markdown": [
       "\n",
       "A data.frame: 7 × 4\n",
       "\n",
       "| <!--/--> | Est &lt;dbl&gt; | SE &lt;dbl&gt; | Stat &lt;dbl&gt; | pval &lt;dbl&gt; |\n",
       "|---|---|---|---|---|\n",
       "| (Intercept) |  2.504647e-03 | 0.002258660 | 1.229677e+00 | 2.674698e-01 |\n",
       "| is.AFR | -3.886037e-03 | 0.003550601 | 1.197871e+00 | 2.737477e-01 |\n",
       "| is.AMR | -7.965878e-05 | 0.005185136 | 2.360191e-04 | 9.877427e-01 |\n",
       "| is.EAS | -2.315710e-03 | 0.010525814 | 4.840128e-02 | 8.258689e-01 |\n",
       "| is.MID |  2.679793e-02 | 0.007742581 | 1.197929e+01 | 5.379518e-04 |\n",
       "| is.OTH | -1.729588e-02 | 0.004345717 | 1.584027e+01 | 6.891994e-05 |\n",
       "| is.SAS |  7.777917e-03 | 0.017335763 | 2.012986e-01 | 6.536747e-01 |\n",
       "\n"
      ],
      "text/plain": [
       "            Est           SE          Stat         pval        \n",
       "(Intercept)  2.504647e-03 0.002258660 1.229677e+00 2.674698e-01\n",
       "is.AFR      -3.886037e-03 0.003550601 1.197871e+00 2.737477e-01\n",
       "is.AMR      -7.965878e-05 0.005185136 2.360191e-04 9.877427e-01\n",
       "is.EAS      -2.315710e-03 0.010525814 4.840128e-02 8.258689e-01\n",
       "is.MID       2.679793e-02 0.007742581 1.197929e+01 5.379518e-04\n",
       "is.OTH      -1.729588e-02 0.004345717 1.584027e+01 6.891994e-05\n",
       "is.SAS       7.777917e-03 0.017335763 2.012986e-01 6.536747e-01"
      ]
     },
     "metadata": {},
     "output_type": "display_data"
    },
    {
     "data": {
      "text/html": [
       "<table class=\"dataframe\">\n",
       "<caption>A data.table: 7 × 5</caption>\n",
       "<thead>\n",
       "\t<tr><th scope=col>rownames(nullmod$fixef)</th><th scope=col>Est</th><th scope=col>SE</th><th scope=col>Stat</th><th scope=col>pval</th></tr>\n",
       "\t<tr><th scope=col>&lt;chr&gt;</th><th scope=col>&lt;dbl&gt;</th><th scope=col>&lt;dbl&gt;</th><th scope=col>&lt;dbl&gt;</th><th scope=col>&lt;dbl&gt;</th></tr>\n",
       "</thead>\n",
       "<tbody>\n",
       "\t<tr><td>(Intercept)</td><td> 2.504647e-03</td><td>0.002258660</td><td>1.229677e+00</td><td>2.674698e-01</td></tr>\n",
       "\t<tr><td>is.AFR     </td><td>-3.886037e-03</td><td>0.003550601</td><td>1.197871e+00</td><td>2.737477e-01</td></tr>\n",
       "\t<tr><td>is.AMR     </td><td>-7.965878e-05</td><td>0.005185136</td><td>2.360191e-04</td><td>9.877427e-01</td></tr>\n",
       "\t<tr><td>is.EAS     </td><td>-2.315710e-03</td><td>0.010525814</td><td>4.840128e-02</td><td>8.258689e-01</td></tr>\n",
       "\t<tr><td>is.MID     </td><td> 2.679793e-02</td><td>0.007742581</td><td>1.197929e+01</td><td>5.379518e-04</td></tr>\n",
       "\t<tr><td>is.OTH     </td><td>-1.729588e-02</td><td>0.004345717</td><td>1.584027e+01</td><td>6.891994e-05</td></tr>\n",
       "\t<tr><td>is.SAS     </td><td> 7.777917e-03</td><td>0.017335763</td><td>2.012986e-01</td><td>6.536747e-01</td></tr>\n",
       "</tbody>\n",
       "</table>\n"
      ],
      "text/latex": [
       "A data.table: 7 × 5\n",
       "\\begin{tabular}{lllll}\n",
       " rownames(nullmod\\$fixef) & Est & SE & Stat & pval\\\\\n",
       " <chr> & <dbl> & <dbl> & <dbl> & <dbl>\\\\\n",
       "\\hline\n",
       "\t (Intercept) &  2.504647e-03 & 0.002258660 & 1.229677e+00 & 2.674698e-01\\\\\n",
       "\t is.AFR      & -3.886037e-03 & 0.003550601 & 1.197871e+00 & 2.737477e-01\\\\\n",
       "\t is.AMR      & -7.965878e-05 & 0.005185136 & 2.360191e-04 & 9.877427e-01\\\\\n",
       "\t is.EAS      & -2.315710e-03 & 0.010525814 & 4.840128e-02 & 8.258689e-01\\\\\n",
       "\t is.MID      &  2.679793e-02 & 0.007742581 & 1.197929e+01 & 5.379518e-04\\\\\n",
       "\t is.OTH      & -1.729588e-02 & 0.004345717 & 1.584027e+01 & 6.891994e-05\\\\\n",
       "\t is.SAS      &  7.777917e-03 & 0.017335763 & 2.012986e-01 & 6.536747e-01\\\\\n",
       "\\end{tabular}\n"
      ],
      "text/markdown": [
       "\n",
       "A data.table: 7 × 5\n",
       "\n",
       "| rownames(nullmod$fixef) &lt;chr&gt; | Est &lt;dbl&gt; | SE &lt;dbl&gt; | Stat &lt;dbl&gt; | pval &lt;dbl&gt; |\n",
       "|---|---|---|---|---|\n",
       "| (Intercept) |  2.504647e-03 | 0.002258660 | 1.229677e+00 | 2.674698e-01 |\n",
       "| is.AFR      | -3.886037e-03 | 0.003550601 | 1.197871e+00 | 2.737477e-01 |\n",
       "| is.AMR      | -7.965878e-05 | 0.005185136 | 2.360191e-04 | 9.877427e-01 |\n",
       "| is.EAS      | -2.315710e-03 | 0.010525814 | 4.840128e-02 | 8.258689e-01 |\n",
       "| is.MID      |  2.679793e-02 | 0.007742581 | 1.197929e+01 | 5.379518e-04 |\n",
       "| is.OTH      | -1.729588e-02 | 0.004345717 | 1.584027e+01 | 6.891994e-05 |\n",
       "| is.SAS      |  7.777917e-03 | 0.017335763 | 2.012986e-01 | 6.536747e-01 |\n",
       "\n"
      ],
      "text/plain": [
       "  rownames(nullmod$fixef) Est           SE          Stat         pval        \n",
       "1 (Intercept)              2.504647e-03 0.002258660 1.229677e+00 2.674698e-01\n",
       "2 is.AFR                  -3.886037e-03 0.003550601 1.197871e+00 2.737477e-01\n",
       "3 is.AMR                  -7.965878e-05 0.005185136 2.360191e-04 9.877427e-01\n",
       "4 is.EAS                  -2.315710e-03 0.010525814 4.840128e-02 8.258689e-01\n",
       "5 is.MID                   2.679793e-02 0.007742581 1.197929e+01 5.379518e-04\n",
       "6 is.OTH                  -1.729588e-02 0.004345717 1.584027e+01 6.891994e-05\n",
       "7 is.SAS                   7.777917e-03 0.017335763 2.012986e-01 6.536747e-01"
      ]
     },
     "metadata": {},
     "output_type": "display_data"
    },
    {
     "data": {
      "text/html": [
       "<table class=\"dataframe\">\n",
       "<caption>A data.table: 7 × 3</caption>\n",
       "<thead>\n",
       "\t<tr><th scope=col>Variable</th><th scope=col>beta</th><th scope=col>p</th></tr>\n",
       "\t<tr><th scope=col>&lt;chr&gt;</th><th scope=col>&lt;dbl&gt;</th><th scope=col>&lt;dbl&gt;</th></tr>\n",
       "</thead>\n",
       "<tbody>\n",
       "\t<tr><td>(Intercept)</td><td> 2.504647e-03</td><td>2.674698e-01</td></tr>\n",
       "\t<tr><td>is.AFR     </td><td>-3.886037e-03</td><td>2.737477e-01</td></tr>\n",
       "\t<tr><td>is.AMR     </td><td>-7.965878e-05</td><td>9.877427e-01</td></tr>\n",
       "\t<tr><td>is.EAS     </td><td>-2.315710e-03</td><td>8.258689e-01</td></tr>\n",
       "\t<tr><td>is.MID     </td><td> 2.679793e-02</td><td>5.379518e-04</td></tr>\n",
       "\t<tr><td>is.OTH     </td><td>-1.729588e-02</td><td>6.891994e-05</td></tr>\n",
       "\t<tr><td>is.SAS     </td><td> 7.777917e-03</td><td>6.536747e-01</td></tr>\n",
       "</tbody>\n",
       "</table>\n"
      ],
      "text/latex": [
       "A data.table: 7 × 3\n",
       "\\begin{tabular}{lll}\n",
       " Variable & beta & p\\\\\n",
       " <chr> & <dbl> & <dbl>\\\\\n",
       "\\hline\n",
       "\t (Intercept) &  2.504647e-03 & 2.674698e-01\\\\\n",
       "\t is.AFR      & -3.886037e-03 & 2.737477e-01\\\\\n",
       "\t is.AMR      & -7.965878e-05 & 9.877427e-01\\\\\n",
       "\t is.EAS      & -2.315710e-03 & 8.258689e-01\\\\\n",
       "\t is.MID      &  2.679793e-02 & 5.379518e-04\\\\\n",
       "\t is.OTH      & -1.729588e-02 & 6.891994e-05\\\\\n",
       "\t is.SAS      &  7.777917e-03 & 6.536747e-01\\\\\n",
       "\\end{tabular}\n"
      ],
      "text/markdown": [
       "\n",
       "A data.table: 7 × 3\n",
       "\n",
       "| Variable &lt;chr&gt; | beta &lt;dbl&gt; | p &lt;dbl&gt; |\n",
       "|---|---|---|\n",
       "| (Intercept) |  2.504647e-03 | 2.674698e-01 |\n",
       "| is.AFR      | -3.886037e-03 | 2.737477e-01 |\n",
       "| is.AMR      | -7.965878e-05 | 9.877427e-01 |\n",
       "| is.EAS      | -2.315710e-03 | 8.258689e-01 |\n",
       "| is.MID      |  2.679793e-02 | 5.379518e-04 |\n",
       "| is.OTH      | -1.729588e-02 | 6.891994e-05 |\n",
       "| is.SAS      |  7.777917e-03 | 6.536747e-01 |\n",
       "\n"
      ],
      "text/plain": [
       "  Variable    beta          p           \n",
       "1 (Intercept)  2.504647e-03 2.674698e-01\n",
       "2 is.AFR      -3.886037e-03 2.737477e-01\n",
       "3 is.AMR      -7.965878e-05 9.877427e-01\n",
       "4 is.EAS      -2.315710e-03 8.258689e-01\n",
       "5 is.MID       2.679793e-02 5.379518e-04\n",
       "6 is.OTH      -1.729588e-02 6.891994e-05\n",
       "7 is.SAS       7.777917e-03 6.536747e-01"
      ]
     },
     "metadata": {},
     "output_type": "display_data"
    },
    {
     "data": {
      "text/html": [
       "<table class=\"dataframe\">\n",
       "<caption>A data.table: 7 × 3</caption>\n",
       "<thead>\n",
       "\t<tr><th scope=col>Variable</th><th scope=col>beta</th><th scope=col>p</th></tr>\n",
       "\t<tr><th scope=col>&lt;chr&gt;</th><th scope=col>&lt;dbl&gt;</th><th scope=col>&lt;chr&gt;</th></tr>\n",
       "</thead>\n",
       "<tbody>\n",
       "\t<tr><td>(Intercept)</td><td> 0.003</td><td>2.675e-01</td></tr>\n",
       "\t<tr><td>is.AFR     </td><td>-0.004</td><td>2.737e-01</td></tr>\n",
       "\t<tr><td>is.AMR     </td><td> 0.000</td><td>9.877e-01</td></tr>\n",
       "\t<tr><td>is.EAS     </td><td>-0.002</td><td>8.259e-01</td></tr>\n",
       "\t<tr><td>is.MID     </td><td> 0.027</td><td>5.380e-04</td></tr>\n",
       "\t<tr><td>is.OTH     </td><td>-0.017</td><td>6.892e-05</td></tr>\n",
       "\t<tr><td>is.SAS     </td><td> 0.008</td><td>6.537e-01</td></tr>\n",
       "</tbody>\n",
       "</table>\n"
      ],
      "text/latex": [
       "A data.table: 7 × 3\n",
       "\\begin{tabular}{lll}\n",
       " Variable & beta & p\\\\\n",
       " <chr> & <dbl> & <chr>\\\\\n",
       "\\hline\n",
       "\t (Intercept) &  0.003 & 2.675e-01\\\\\n",
       "\t is.AFR      & -0.004 & 2.737e-01\\\\\n",
       "\t is.AMR      &  0.000 & 9.877e-01\\\\\n",
       "\t is.EAS      & -0.002 & 8.259e-01\\\\\n",
       "\t is.MID      &  0.027 & 5.380e-04\\\\\n",
       "\t is.OTH      & -0.017 & 6.892e-05\\\\\n",
       "\t is.SAS      &  0.008 & 6.537e-01\\\\\n",
       "\\end{tabular}\n"
      ],
      "text/markdown": [
       "\n",
       "A data.table: 7 × 3\n",
       "\n",
       "| Variable &lt;chr&gt; | beta &lt;dbl&gt; | p &lt;chr&gt; |\n",
       "|---|---|---|\n",
       "| (Intercept) |  0.003 | 2.675e-01 |\n",
       "| is.AFR      | -0.004 | 2.737e-01 |\n",
       "| is.AMR      |  0.000 | 9.877e-01 |\n",
       "| is.EAS      | -0.002 | 8.259e-01 |\n",
       "| is.MID      |  0.027 | 5.380e-04 |\n",
       "| is.OTH      | -0.017 | 6.892e-05 |\n",
       "| is.SAS      |  0.008 | 6.537e-01 |\n",
       "\n"
      ],
      "text/plain": [
       "  Variable    beta   p        \n",
       "1 (Intercept)  0.003 2.675e-01\n",
       "2 is.AFR      -0.004 2.737e-01\n",
       "3 is.AMR       0.000 9.877e-01\n",
       "4 is.EAS      -0.002 8.259e-01\n",
       "5 is.MID       0.027 5.380e-04\n",
       "6 is.OTH      -0.017 6.892e-05\n",
       "7 is.SAS       0.008 6.537e-01"
      ]
     },
     "metadata": {},
     "output_type": "display_data"
    }
   ],
   "source": [
    "my.model <- (lm(PRS.ADJ.ANC ~ is.AFR + is.AMR + is.EAS + is.MID + is.OTH + is.SAS, data=merge.dt))\n",
    "summary(my.model)\n",
    "\n",
    "nullmod <- fitNullModel(merge.dt, outcome = \"PRS.ADJ.ANC\",\n",
    "                        covars=c(\"is.AFR\",\"is.AMR\",\"is.EAS\",\"is.MID\",\"is.OTH\",\"is.SAS\"), \n",
    "                        group.var=\"my.ancestry3\", \n",
    "                        family = \"gaussian\")\n",
    "\n",
    "nullmod$fixef\n",
    "(my.table <- data.table(cbind(rownames(nullmod$fixef),nullmod$fixef)))\n",
    "setnames(my.table, c(\"Variable\", \"beta\", \"std.err\",\"stat\", \"p\"))\n",
    "my.table <- my.table[,list(Variable, beta, p)]\n",
    "my.table\n",
    "my.table[,beta:=round(as.numeric(beta), 3)]\n",
    "my.table[,p:=formatC(p, format=\"e\",digits=3)]\n",
    "my.table"
   ]
  },
  {
   "cell_type": "code",
   "execution_count": 19,
   "metadata": {
    "hidden": true
   },
   "outputs": [
    {
     "data": {
      "text/plain": [
       "\n",
       "Call:\n",
       "lm(formula = PRS.BR.REF ~ is.AFR + is.AMR + is.EAS + is.MID + \n",
       "    is.OTH + is.SAS, data = merge.dt)\n",
       "\n",
       "Residuals:\n",
       "    Min      1Q  Median      3Q     Max \n",
       "-4.1333 -0.6795 -0.0017  0.6755  4.0386 \n",
       "\n",
       "Coefficients:\n",
       "             Estimate Std. Error t value Pr(>|t|)    \n",
       "(Intercept)  0.280589   0.004765   58.89   <2e-16 ***\n",
       "is.AFR      -0.266858   0.008212  -32.50   <2e-16 ***\n",
       "is.AMR      -0.266871   0.011376  -23.46   <2e-16 ***\n",
       "is.EAS      -0.384981   0.022508  -17.10   <2e-16 ***\n",
       "is.MID      -0.708050   0.016418  -43.13   <2e-16 ***\n",
       "is.OTH      -0.312581   0.009342  -33.46   <2e-16 ***\n",
       "is.SAS      -0.451470   0.036607  -12.33   <2e-16 ***\n",
       "---\n",
       "Signif. codes:  0 ‘***’ 0.001 ‘**’ 0.01 ‘*’ 0.05 ‘.’ 0.1 ‘ ’ 1\n",
       "\n",
       "Residual standard error: 1.001 on 98249 degrees of freedom\n",
       "Multiple R-squared:  0.03164,\tAdjusted R-squared:  0.03158 \n",
       "F-statistic:   535 on 6 and 98249 DF,  p-value: < 2.2e-16\n"
      ]
     },
     "metadata": {},
     "output_type": "display_data"
    },
    {
     "name": "stdout",
     "output_type": "stream",
     "text": [
      "[1]  1.033861e+00  1.033861e+00  1.033861e+00  1.033861e+00  1.033861e+00\n",
      "[6]  1.033861e+00  1.033861e+00 -1.395000e+05  9.684228e-01\n",
      "[1]  9.759833e-01  1.018019e+00  1.015096e+00  1.027917e+00  1.067787e+00\n",
      "[6]  9.727065e-01  1.013555e+00 -1.394868e+05  1.001672e+00\n",
      "[1]  9.790420e-01  1.018258e+00  1.015430e+00  1.027951e+00  1.068937e+00\n",
      "[6]  9.761099e-01  1.013946e+00 -1.394868e+05  1.000005e+00\n"
     ]
    },
    {
     "data": {
      "text/html": [
       "<table class=\"dataframe\">\n",
       "<caption>A data.frame: 7 × 4</caption>\n",
       "<thead>\n",
       "\t<tr><th></th><th scope=col>Est</th><th scope=col>SE</th><th scope=col>Stat</th><th scope=col>pval</th></tr>\n",
       "\t<tr><th></th><th scope=col>&lt;dbl&gt;</th><th scope=col>&lt;dbl&gt;</th><th scope=col>&lt;dbl&gt;</th><th scope=col>&lt;dbl&gt;</th></tr>\n",
       "</thead>\n",
       "<tbody>\n",
       "\t<tr><th scope=row>(Intercept)</th><td> 0.2805891</td><td>0.004711806</td><td>3546.2284</td><td> 0.000000e+00</td></tr>\n",
       "\t<tr><th scope=row>is.AFR</th><td>-0.2668578</td><td>0.008227379</td><td>1052.0509</td><td>8.720839e-231</td></tr>\n",
       "\t<tr><th scope=row>is.AMR</th><td>-0.2668714</td><td>0.011420744</td><td> 546.0284</td><td>9.204132e-121</td></tr>\n",
       "\t<tr><th scope=row>is.EAS</th><td>-0.3849813</td><td>0.023213095</td><td> 275.0510</td><td> 8.997102e-62</td></tr>\n",
       "\t<tr><th scope=row>is.MID</th><td>-0.7080504</td><td>0.016212975</td><td>1907.2294</td><td> 0.000000e+00</td></tr>\n",
       "\t<tr><th scope=row>is.OTH</th><td>-0.3125806</td><td>0.009407415</td><td>1104.0367</td><td>4.380542e-242</td></tr>\n",
       "\t<tr><th scope=row>is.SAS</th><td>-0.4514704</td><td>0.036828615</td><td> 150.2754</td><td> 1.509297e-34</td></tr>\n",
       "</tbody>\n",
       "</table>\n"
      ],
      "text/latex": [
       "A data.frame: 7 × 4\n",
       "\\begin{tabular}{r|llll}\n",
       "  & Est & SE & Stat & pval\\\\\n",
       "  & <dbl> & <dbl> & <dbl> & <dbl>\\\\\n",
       "\\hline\n",
       "\t(Intercept) &  0.2805891 & 0.004711806 & 3546.2284 &  0.000000e+00\\\\\n",
       "\tis.AFR & -0.2668578 & 0.008227379 & 1052.0509 & 8.720839e-231\\\\\n",
       "\tis.AMR & -0.2668714 & 0.011420744 &  546.0284 & 9.204132e-121\\\\\n",
       "\tis.EAS & -0.3849813 & 0.023213095 &  275.0510 &  8.997102e-62\\\\\n",
       "\tis.MID & -0.7080504 & 0.016212975 & 1907.2294 &  0.000000e+00\\\\\n",
       "\tis.OTH & -0.3125806 & 0.009407415 & 1104.0367 & 4.380542e-242\\\\\n",
       "\tis.SAS & -0.4514704 & 0.036828615 &  150.2754 &  1.509297e-34\\\\\n",
       "\\end{tabular}\n"
      ],
      "text/markdown": [
       "\n",
       "A data.frame: 7 × 4\n",
       "\n",
       "| <!--/--> | Est &lt;dbl&gt; | SE &lt;dbl&gt; | Stat &lt;dbl&gt; | pval &lt;dbl&gt; |\n",
       "|---|---|---|---|---|\n",
       "| (Intercept) |  0.2805891 | 0.004711806 | 3546.2284 |  0.000000e+00 |\n",
       "| is.AFR | -0.2668578 | 0.008227379 | 1052.0509 | 8.720839e-231 |\n",
       "| is.AMR | -0.2668714 | 0.011420744 |  546.0284 | 9.204132e-121 |\n",
       "| is.EAS | -0.3849813 | 0.023213095 |  275.0510 |  8.997102e-62 |\n",
       "| is.MID | -0.7080504 | 0.016212975 | 1907.2294 |  0.000000e+00 |\n",
       "| is.OTH | -0.3125806 | 0.009407415 | 1104.0367 | 4.380542e-242 |\n",
       "| is.SAS | -0.4514704 | 0.036828615 |  150.2754 |  1.509297e-34 |\n",
       "\n"
      ],
      "text/plain": [
       "            Est        SE          Stat      pval         \n",
       "(Intercept)  0.2805891 0.004711806 3546.2284  0.000000e+00\n",
       "is.AFR      -0.2668578 0.008227379 1052.0509 8.720839e-231\n",
       "is.AMR      -0.2668714 0.011420744  546.0284 9.204132e-121\n",
       "is.EAS      -0.3849813 0.023213095  275.0510  8.997102e-62\n",
       "is.MID      -0.7080504 0.016212975 1907.2294  0.000000e+00\n",
       "is.OTH      -0.3125806 0.009407415 1104.0367 4.380542e-242\n",
       "is.SAS      -0.4514704 0.036828615  150.2754  1.509297e-34"
      ]
     },
     "metadata": {},
     "output_type": "display_data"
    },
    {
     "data": {
      "text/html": [
       "<table class=\"dataframe\">\n",
       "<caption>A data.table: 7 × 5</caption>\n",
       "<thead>\n",
       "\t<tr><th scope=col>rownames(nullmod$fixef)</th><th scope=col>Est</th><th scope=col>SE</th><th scope=col>Stat</th><th scope=col>pval</th></tr>\n",
       "\t<tr><th scope=col>&lt;chr&gt;</th><th scope=col>&lt;dbl&gt;</th><th scope=col>&lt;dbl&gt;</th><th scope=col>&lt;dbl&gt;</th><th scope=col>&lt;dbl&gt;</th></tr>\n",
       "</thead>\n",
       "<tbody>\n",
       "\t<tr><td>(Intercept)</td><td> 0.2805891</td><td>0.004711806</td><td>3546.2284</td><td> 0.000000e+00</td></tr>\n",
       "\t<tr><td>is.AFR     </td><td>-0.2668578</td><td>0.008227379</td><td>1052.0509</td><td>8.720839e-231</td></tr>\n",
       "\t<tr><td>is.AMR     </td><td>-0.2668714</td><td>0.011420744</td><td> 546.0284</td><td>9.204132e-121</td></tr>\n",
       "\t<tr><td>is.EAS     </td><td>-0.3849813</td><td>0.023213095</td><td> 275.0510</td><td> 8.997102e-62</td></tr>\n",
       "\t<tr><td>is.MID     </td><td>-0.7080504</td><td>0.016212975</td><td>1907.2294</td><td> 0.000000e+00</td></tr>\n",
       "\t<tr><td>is.OTH     </td><td>-0.3125806</td><td>0.009407415</td><td>1104.0367</td><td>4.380542e-242</td></tr>\n",
       "\t<tr><td>is.SAS     </td><td>-0.4514704</td><td>0.036828615</td><td> 150.2754</td><td> 1.509297e-34</td></tr>\n",
       "</tbody>\n",
       "</table>\n"
      ],
      "text/latex": [
       "A data.table: 7 × 5\n",
       "\\begin{tabular}{lllll}\n",
       " rownames(nullmod\\$fixef) & Est & SE & Stat & pval\\\\\n",
       " <chr> & <dbl> & <dbl> & <dbl> & <dbl>\\\\\n",
       "\\hline\n",
       "\t (Intercept) &  0.2805891 & 0.004711806 & 3546.2284 &  0.000000e+00\\\\\n",
       "\t is.AFR      & -0.2668578 & 0.008227379 & 1052.0509 & 8.720839e-231\\\\\n",
       "\t is.AMR      & -0.2668714 & 0.011420744 &  546.0284 & 9.204132e-121\\\\\n",
       "\t is.EAS      & -0.3849813 & 0.023213095 &  275.0510 &  8.997102e-62\\\\\n",
       "\t is.MID      & -0.7080504 & 0.016212975 & 1907.2294 &  0.000000e+00\\\\\n",
       "\t is.OTH      & -0.3125806 & 0.009407415 & 1104.0367 & 4.380542e-242\\\\\n",
       "\t is.SAS      & -0.4514704 & 0.036828615 &  150.2754 &  1.509297e-34\\\\\n",
       "\\end{tabular}\n"
      ],
      "text/markdown": [
       "\n",
       "A data.table: 7 × 5\n",
       "\n",
       "| rownames(nullmod$fixef) &lt;chr&gt; | Est &lt;dbl&gt; | SE &lt;dbl&gt; | Stat &lt;dbl&gt; | pval &lt;dbl&gt; |\n",
       "|---|---|---|---|---|\n",
       "| (Intercept) |  0.2805891 | 0.004711806 | 3546.2284 |  0.000000e+00 |\n",
       "| is.AFR      | -0.2668578 | 0.008227379 | 1052.0509 | 8.720839e-231 |\n",
       "| is.AMR      | -0.2668714 | 0.011420744 |  546.0284 | 9.204132e-121 |\n",
       "| is.EAS      | -0.3849813 | 0.023213095 |  275.0510 |  8.997102e-62 |\n",
       "| is.MID      | -0.7080504 | 0.016212975 | 1907.2294 |  0.000000e+00 |\n",
       "| is.OTH      | -0.3125806 | 0.009407415 | 1104.0367 | 4.380542e-242 |\n",
       "| is.SAS      | -0.4514704 | 0.036828615 |  150.2754 |  1.509297e-34 |\n",
       "\n"
      ],
      "text/plain": [
       "  rownames(nullmod$fixef) Est        SE          Stat      pval         \n",
       "1 (Intercept)              0.2805891 0.004711806 3546.2284  0.000000e+00\n",
       "2 is.AFR                  -0.2668578 0.008227379 1052.0509 8.720839e-231\n",
       "3 is.AMR                  -0.2668714 0.011420744  546.0284 9.204132e-121\n",
       "4 is.EAS                  -0.3849813 0.023213095  275.0510  8.997102e-62\n",
       "5 is.MID                  -0.7080504 0.016212975 1907.2294  0.000000e+00\n",
       "6 is.OTH                  -0.3125806 0.009407415 1104.0367 4.380542e-242\n",
       "7 is.SAS                  -0.4514704 0.036828615  150.2754  1.509297e-34"
      ]
     },
     "metadata": {},
     "output_type": "display_data"
    },
    {
     "data": {
      "text/html": [
       "<table class=\"dataframe\">\n",
       "<caption>A data.table: 7 × 3</caption>\n",
       "<thead>\n",
       "\t<tr><th scope=col>Variable</th><th scope=col>beta</th><th scope=col>p</th></tr>\n",
       "\t<tr><th scope=col>&lt;chr&gt;</th><th scope=col>&lt;dbl&gt;</th><th scope=col>&lt;dbl&gt;</th></tr>\n",
       "</thead>\n",
       "<tbody>\n",
       "\t<tr><td>(Intercept)</td><td> 0.2805891</td><td> 0.000000e+00</td></tr>\n",
       "\t<tr><td>is.AFR     </td><td>-0.2668578</td><td>8.720839e-231</td></tr>\n",
       "\t<tr><td>is.AMR     </td><td>-0.2668714</td><td>9.204132e-121</td></tr>\n",
       "\t<tr><td>is.EAS     </td><td>-0.3849813</td><td> 8.997102e-62</td></tr>\n",
       "\t<tr><td>is.MID     </td><td>-0.7080504</td><td> 0.000000e+00</td></tr>\n",
       "\t<tr><td>is.OTH     </td><td>-0.3125806</td><td>4.380542e-242</td></tr>\n",
       "\t<tr><td>is.SAS     </td><td>-0.4514704</td><td> 1.509297e-34</td></tr>\n",
       "</tbody>\n",
       "</table>\n"
      ],
      "text/latex": [
       "A data.table: 7 × 3\n",
       "\\begin{tabular}{lll}\n",
       " Variable & beta & p\\\\\n",
       " <chr> & <dbl> & <dbl>\\\\\n",
       "\\hline\n",
       "\t (Intercept) &  0.2805891 &  0.000000e+00\\\\\n",
       "\t is.AFR      & -0.2668578 & 8.720839e-231\\\\\n",
       "\t is.AMR      & -0.2668714 & 9.204132e-121\\\\\n",
       "\t is.EAS      & -0.3849813 &  8.997102e-62\\\\\n",
       "\t is.MID      & -0.7080504 &  0.000000e+00\\\\\n",
       "\t is.OTH      & -0.3125806 & 4.380542e-242\\\\\n",
       "\t is.SAS      & -0.4514704 &  1.509297e-34\\\\\n",
       "\\end{tabular}\n"
      ],
      "text/markdown": [
       "\n",
       "A data.table: 7 × 3\n",
       "\n",
       "| Variable &lt;chr&gt; | beta &lt;dbl&gt; | p &lt;dbl&gt; |\n",
       "|---|---|---|\n",
       "| (Intercept) |  0.2805891 |  0.000000e+00 |\n",
       "| is.AFR      | -0.2668578 | 8.720839e-231 |\n",
       "| is.AMR      | -0.2668714 | 9.204132e-121 |\n",
       "| is.EAS      | -0.3849813 |  8.997102e-62 |\n",
       "| is.MID      | -0.7080504 |  0.000000e+00 |\n",
       "| is.OTH      | -0.3125806 | 4.380542e-242 |\n",
       "| is.SAS      | -0.4514704 |  1.509297e-34 |\n",
       "\n"
      ],
      "text/plain": [
       "  Variable    beta       p            \n",
       "1 (Intercept)  0.2805891  0.000000e+00\n",
       "2 is.AFR      -0.2668578 8.720839e-231\n",
       "3 is.AMR      -0.2668714 9.204132e-121\n",
       "4 is.EAS      -0.3849813  8.997102e-62\n",
       "5 is.MID      -0.7080504  0.000000e+00\n",
       "6 is.OTH      -0.3125806 4.380542e-242\n",
       "7 is.SAS      -0.4514704  1.509297e-34"
      ]
     },
     "metadata": {},
     "output_type": "display_data"
    },
    {
     "data": {
      "text/html": [
       "<table class=\"dataframe\">\n",
       "<caption>A data.table: 7 × 3</caption>\n",
       "<thead>\n",
       "\t<tr><th scope=col>Variable</th><th scope=col>beta</th><th scope=col>p</th></tr>\n",
       "\t<tr><th scope=col>&lt;chr&gt;</th><th scope=col>&lt;dbl&gt;</th><th scope=col>&lt;chr&gt;</th></tr>\n",
       "</thead>\n",
       "<tbody>\n",
       "\t<tr><td>(Intercept)</td><td> 0.281</td><td>0.000e+00 </td></tr>\n",
       "\t<tr><td>is.AFR     </td><td>-0.267</td><td>8.721e-231</td></tr>\n",
       "\t<tr><td>is.AMR     </td><td>-0.267</td><td>9.204e-121</td></tr>\n",
       "\t<tr><td>is.EAS     </td><td>-0.385</td><td>8.997e-62 </td></tr>\n",
       "\t<tr><td>is.MID     </td><td>-0.708</td><td>0.000e+00 </td></tr>\n",
       "\t<tr><td>is.OTH     </td><td>-0.313</td><td>4.381e-242</td></tr>\n",
       "\t<tr><td>is.SAS     </td><td>-0.451</td><td>1.509e-34 </td></tr>\n",
       "</tbody>\n",
       "</table>\n"
      ],
      "text/latex": [
       "A data.table: 7 × 3\n",
       "\\begin{tabular}{lll}\n",
       " Variable & beta & p\\\\\n",
       " <chr> & <dbl> & <chr>\\\\\n",
       "\\hline\n",
       "\t (Intercept) &  0.281 & 0.000e+00 \\\\\n",
       "\t is.AFR      & -0.267 & 8.721e-231\\\\\n",
       "\t is.AMR      & -0.267 & 9.204e-121\\\\\n",
       "\t is.EAS      & -0.385 & 8.997e-62 \\\\\n",
       "\t is.MID      & -0.708 & 0.000e+00 \\\\\n",
       "\t is.OTH      & -0.313 & 4.381e-242\\\\\n",
       "\t is.SAS      & -0.451 & 1.509e-34 \\\\\n",
       "\\end{tabular}\n"
      ],
      "text/markdown": [
       "\n",
       "A data.table: 7 × 3\n",
       "\n",
       "| Variable &lt;chr&gt; | beta &lt;dbl&gt; | p &lt;chr&gt; |\n",
       "|---|---|---|\n",
       "| (Intercept) |  0.281 | 0.000e+00  |\n",
       "| is.AFR      | -0.267 | 8.721e-231 |\n",
       "| is.AMR      | -0.267 | 9.204e-121 |\n",
       "| is.EAS      | -0.385 | 8.997e-62  |\n",
       "| is.MID      | -0.708 | 0.000e+00  |\n",
       "| is.OTH      | -0.313 | 4.381e-242 |\n",
       "| is.SAS      | -0.451 | 1.509e-34  |\n",
       "\n"
      ],
      "text/plain": [
       "  Variable    beta   p         \n",
       "1 (Intercept)  0.281 0.000e+00 \n",
       "2 is.AFR      -0.267 8.721e-231\n",
       "3 is.AMR      -0.267 9.204e-121\n",
       "4 is.EAS      -0.385 8.997e-62 \n",
       "5 is.MID      -0.708 0.000e+00 \n",
       "6 is.OTH      -0.313 4.381e-242\n",
       "7 is.SAS      -0.451 1.509e-34 "
      ]
     },
     "metadata": {},
     "output_type": "display_data"
    }
   ],
   "source": [
    "my.model <- (lm(PRS.BR.REF ~ is.AFR + is.AMR + is.EAS + is.MID + is.OTH + is.SAS, data=merge.dt))\n",
    "summary(my.model)\n",
    "\n",
    "nullmod <- fitNullModel(merge.dt, outcome = \"PRS.BR.REF\",\n",
    "                        covars=c(\"is.AFR\",\"is.AMR\",\"is.EAS\",\"is.MID\",\"is.OTH\",\"is.SAS\"), \n",
    "                        group.var=\"my.ancestry3\", \n",
    "                        family = \"gaussian\")\n",
    "\n",
    "nullmod$fixef\n",
    "(my.table <- data.table(cbind(rownames(nullmod$fixef),nullmod$fixef)))\n",
    "setnames(my.table, c(\"Variable\", \"beta\", \"std.err\",\"stat\", \"p\"))\n",
    "my.table <- my.table[,list(Variable, beta, p)]\n",
    "my.table\n",
    "my.table[,beta:=round(as.numeric(beta), 3)]\n",
    "my.table[,p:=formatC(p, format=\"e\",digits=3)]\n",
    "my.table"
   ]
  },
  {
   "cell_type": "code",
   "execution_count": 20,
   "metadata": {
    "hidden": true
   },
   "outputs": [
    {
     "data": {
      "text/plain": [
       "\n",
       "Call:\n",
       "lm(formula = PRS.BR.AOU1 ~ is.AFR + is.AMR + is.EAS + is.MID + \n",
       "    is.OTH + is.SAS, data = merge.dt)\n",
       "\n",
       "Residuals:\n",
       "    Min      1Q  Median      3Q     Max \n",
       "-4.0487 -0.6674 -0.0009  0.6629  3.9778 \n",
       "\n",
       "Coefficients:\n",
       "             Estimate Std. Error t value Pr(>|t|)    \n",
       "(Intercept)  0.099328   0.004675  21.249  < 2e-16 ***\n",
       "is.AFR      -0.091555   0.008056 -11.365  < 2e-16 ***\n",
       "is.AMR      -0.134266   0.011161 -12.030  < 2e-16 ***\n",
       "is.EAS      -0.113796   0.022082  -5.153 2.56e-07 ***\n",
       "is.MID      -0.631424   0.016107 -39.202  < 2e-16 ***\n",
       "is.OTH      -0.239645   0.009165 -26.147  < 2e-16 ***\n",
       "is.SAS       0.176252   0.035914   4.908 9.23e-07 ***\n",
       "---\n",
       "Signif. codes:  0 ‘***’ 0.001 ‘**’ 0.01 ‘*’ 0.05 ‘.’ 0.1 ‘ ’ 1\n",
       "\n",
       "Residual standard error: 0.9816 on 98249 degrees of freedom\n",
       "Multiple R-squared:  0.02028,\tAdjusted R-squared:  0.02022 \n",
       "F-statistic: 338.9 on 6 and 98249 DF,  p-value: < 2.2e-16\n"
      ]
     },
     "metadata": {},
     "output_type": "display_data"
    },
    {
     "name": "stdout",
     "output_type": "stream",
     "text": [
      "[1]  9.835185e-01  9.835185e-01  9.835185e-01  9.835185e-01  9.835185e-01\n",
      "[6]  9.835185e-01  9.835185e-01 -1.376205e+05  9.797814e-01\n",
      "[1]  9.448969e-01  9.723387e-01  9.982908e-01  9.933877e-01  8.897918e-01\n",
      "[6]  9.403942e-01  9.588433e-01 -1.376068e+05  1.001037e+00\n",
      "[1]  9.463540e-01  9.724643e-01  9.985160e-01  9.934877e-01  8.978725e-01\n",
      "[6]  9.422022e-01  9.594468e-01 -1.376068e+05  1.000003e+00\n"
     ]
    },
    {
     "data": {
      "text/html": [
       "<table class=\"dataframe\">\n",
       "<caption>A data.frame: 7 × 4</caption>\n",
       "<thead>\n",
       "\t<tr><th></th><th scope=col>Est</th><th scope=col>SE</th><th scope=col>Stat</th><th scope=col>pval</th></tr>\n",
       "\t<tr><th></th><th scope=col>&lt;dbl&gt;</th><th scope=col>&lt;dbl&gt;</th><th scope=col>&lt;dbl&gt;</th><th scope=col>&lt;dbl&gt;</th></tr>\n",
       "</thead>\n",
       "<tbody>\n",
       "\t<tr><th scope=row>(Intercept)</th><td> 0.09932764</td><td>0.004632475</td><td> 459.74193</td><td>5.470809e-102</td></tr>\n",
       "\t<tr><th scope=row>is.AFR</th><td>-0.09155455</td><td>0.008056217</td><td> 129.15093</td><td> 6.285265e-30</td></tr>\n",
       "\t<tr><th scope=row>is.AMR</th><td>-0.13426647</td><td>0.011308804</td><td> 140.96192</td><td> 1.640097e-32</td></tr>\n",
       "\t<tr><th scope=row>is.EAS</th><td>-0.11379563</td><td>0.021340702</td><td>  28.43373</td><td> 9.696144e-08</td></tr>\n",
       "\t<tr><th scope=row>is.MID</th><td>-0.63142444</td><td>0.015929811</td><td>1571.16401</td><td> 0.000000e+00</td></tr>\n",
       "\t<tr><th scope=row>is.OTH</th><td>-0.23964459</td><td>0.009248531</td><td> 671.41299</td><td>4.924049e-148</td></tr>\n",
       "\t<tr><th scope=row>is.SAS</th><td> 0.17625173</td><td>0.035831461</td><td>  24.19567</td><td> 8.702757e-07</td></tr>\n",
       "</tbody>\n",
       "</table>\n"
      ],
      "text/latex": [
       "A data.frame: 7 × 4\n",
       "\\begin{tabular}{r|llll}\n",
       "  & Est & SE & Stat & pval\\\\\n",
       "  & <dbl> & <dbl> & <dbl> & <dbl>\\\\\n",
       "\\hline\n",
       "\t(Intercept) &  0.09932764 & 0.004632475 &  459.74193 & 5.470809e-102\\\\\n",
       "\tis.AFR & -0.09155455 & 0.008056217 &  129.15093 &  6.285265e-30\\\\\n",
       "\tis.AMR & -0.13426647 & 0.011308804 &  140.96192 &  1.640097e-32\\\\\n",
       "\tis.EAS & -0.11379563 & 0.021340702 &   28.43373 &  9.696144e-08\\\\\n",
       "\tis.MID & -0.63142444 & 0.015929811 & 1571.16401 &  0.000000e+00\\\\\n",
       "\tis.OTH & -0.23964459 & 0.009248531 &  671.41299 & 4.924049e-148\\\\\n",
       "\tis.SAS &  0.17625173 & 0.035831461 &   24.19567 &  8.702757e-07\\\\\n",
       "\\end{tabular}\n"
      ],
      "text/markdown": [
       "\n",
       "A data.frame: 7 × 4\n",
       "\n",
       "| <!--/--> | Est &lt;dbl&gt; | SE &lt;dbl&gt; | Stat &lt;dbl&gt; | pval &lt;dbl&gt; |\n",
       "|---|---|---|---|---|\n",
       "| (Intercept) |  0.09932764 | 0.004632475 |  459.74193 | 5.470809e-102 |\n",
       "| is.AFR | -0.09155455 | 0.008056217 |  129.15093 |  6.285265e-30 |\n",
       "| is.AMR | -0.13426647 | 0.011308804 |  140.96192 |  1.640097e-32 |\n",
       "| is.EAS | -0.11379563 | 0.021340702 |   28.43373 |  9.696144e-08 |\n",
       "| is.MID | -0.63142444 | 0.015929811 | 1571.16401 |  0.000000e+00 |\n",
       "| is.OTH | -0.23964459 | 0.009248531 |  671.41299 | 4.924049e-148 |\n",
       "| is.SAS |  0.17625173 | 0.035831461 |   24.19567 |  8.702757e-07 |\n",
       "\n"
      ],
      "text/plain": [
       "            Est         SE          Stat       pval         \n",
       "(Intercept)  0.09932764 0.004632475  459.74193 5.470809e-102\n",
       "is.AFR      -0.09155455 0.008056217  129.15093  6.285265e-30\n",
       "is.AMR      -0.13426647 0.011308804  140.96192  1.640097e-32\n",
       "is.EAS      -0.11379563 0.021340702   28.43373  9.696144e-08\n",
       "is.MID      -0.63142444 0.015929811 1571.16401  0.000000e+00\n",
       "is.OTH      -0.23964459 0.009248531  671.41299 4.924049e-148\n",
       "is.SAS       0.17625173 0.035831461   24.19567  8.702757e-07"
      ]
     },
     "metadata": {},
     "output_type": "display_data"
    },
    {
     "data": {
      "text/html": [
       "<table class=\"dataframe\">\n",
       "<caption>A data.table: 7 × 5</caption>\n",
       "<thead>\n",
       "\t<tr><th scope=col>rownames(nullmod$fixef)</th><th scope=col>Est</th><th scope=col>SE</th><th scope=col>Stat</th><th scope=col>pval</th></tr>\n",
       "\t<tr><th scope=col>&lt;chr&gt;</th><th scope=col>&lt;dbl&gt;</th><th scope=col>&lt;dbl&gt;</th><th scope=col>&lt;dbl&gt;</th><th scope=col>&lt;dbl&gt;</th></tr>\n",
       "</thead>\n",
       "<tbody>\n",
       "\t<tr><td>(Intercept)</td><td> 0.09932764</td><td>0.004632475</td><td> 459.74193</td><td>5.470809e-102</td></tr>\n",
       "\t<tr><td>is.AFR     </td><td>-0.09155455</td><td>0.008056217</td><td> 129.15093</td><td> 6.285265e-30</td></tr>\n",
       "\t<tr><td>is.AMR     </td><td>-0.13426647</td><td>0.011308804</td><td> 140.96192</td><td> 1.640097e-32</td></tr>\n",
       "\t<tr><td>is.EAS     </td><td>-0.11379563</td><td>0.021340702</td><td>  28.43373</td><td> 9.696144e-08</td></tr>\n",
       "\t<tr><td>is.MID     </td><td>-0.63142444</td><td>0.015929811</td><td>1571.16401</td><td> 0.000000e+00</td></tr>\n",
       "\t<tr><td>is.OTH     </td><td>-0.23964459</td><td>0.009248531</td><td> 671.41299</td><td>4.924049e-148</td></tr>\n",
       "\t<tr><td>is.SAS     </td><td> 0.17625173</td><td>0.035831461</td><td>  24.19567</td><td> 8.702757e-07</td></tr>\n",
       "</tbody>\n",
       "</table>\n"
      ],
      "text/latex": [
       "A data.table: 7 × 5\n",
       "\\begin{tabular}{lllll}\n",
       " rownames(nullmod\\$fixef) & Est & SE & Stat & pval\\\\\n",
       " <chr> & <dbl> & <dbl> & <dbl> & <dbl>\\\\\n",
       "\\hline\n",
       "\t (Intercept) &  0.09932764 & 0.004632475 &  459.74193 & 5.470809e-102\\\\\n",
       "\t is.AFR      & -0.09155455 & 0.008056217 &  129.15093 &  6.285265e-30\\\\\n",
       "\t is.AMR      & -0.13426647 & 0.011308804 &  140.96192 &  1.640097e-32\\\\\n",
       "\t is.EAS      & -0.11379563 & 0.021340702 &   28.43373 &  9.696144e-08\\\\\n",
       "\t is.MID      & -0.63142444 & 0.015929811 & 1571.16401 &  0.000000e+00\\\\\n",
       "\t is.OTH      & -0.23964459 & 0.009248531 &  671.41299 & 4.924049e-148\\\\\n",
       "\t is.SAS      &  0.17625173 & 0.035831461 &   24.19567 &  8.702757e-07\\\\\n",
       "\\end{tabular}\n"
      ],
      "text/markdown": [
       "\n",
       "A data.table: 7 × 5\n",
       "\n",
       "| rownames(nullmod$fixef) &lt;chr&gt; | Est &lt;dbl&gt; | SE &lt;dbl&gt; | Stat &lt;dbl&gt; | pval &lt;dbl&gt; |\n",
       "|---|---|---|---|---|\n",
       "| (Intercept) |  0.09932764 | 0.004632475 |  459.74193 | 5.470809e-102 |\n",
       "| is.AFR      | -0.09155455 | 0.008056217 |  129.15093 |  6.285265e-30 |\n",
       "| is.AMR      | -0.13426647 | 0.011308804 |  140.96192 |  1.640097e-32 |\n",
       "| is.EAS      | -0.11379563 | 0.021340702 |   28.43373 |  9.696144e-08 |\n",
       "| is.MID      | -0.63142444 | 0.015929811 | 1571.16401 |  0.000000e+00 |\n",
       "| is.OTH      | -0.23964459 | 0.009248531 |  671.41299 | 4.924049e-148 |\n",
       "| is.SAS      |  0.17625173 | 0.035831461 |   24.19567 |  8.702757e-07 |\n",
       "\n"
      ],
      "text/plain": [
       "  rownames(nullmod$fixef) Est         SE          Stat       pval         \n",
       "1 (Intercept)              0.09932764 0.004632475  459.74193 5.470809e-102\n",
       "2 is.AFR                  -0.09155455 0.008056217  129.15093  6.285265e-30\n",
       "3 is.AMR                  -0.13426647 0.011308804  140.96192  1.640097e-32\n",
       "4 is.EAS                  -0.11379563 0.021340702   28.43373  9.696144e-08\n",
       "5 is.MID                  -0.63142444 0.015929811 1571.16401  0.000000e+00\n",
       "6 is.OTH                  -0.23964459 0.009248531  671.41299 4.924049e-148\n",
       "7 is.SAS                   0.17625173 0.035831461   24.19567  8.702757e-07"
      ]
     },
     "metadata": {},
     "output_type": "display_data"
    },
    {
     "data": {
      "text/html": [
       "<table class=\"dataframe\">\n",
       "<caption>A data.table: 7 × 3</caption>\n",
       "<thead>\n",
       "\t<tr><th scope=col>Variable</th><th scope=col>beta</th><th scope=col>p</th></tr>\n",
       "\t<tr><th scope=col>&lt;chr&gt;</th><th scope=col>&lt;dbl&gt;</th><th scope=col>&lt;dbl&gt;</th></tr>\n",
       "</thead>\n",
       "<tbody>\n",
       "\t<tr><td>(Intercept)</td><td> 0.09932764</td><td>5.470809e-102</td></tr>\n",
       "\t<tr><td>is.AFR     </td><td>-0.09155455</td><td> 6.285265e-30</td></tr>\n",
       "\t<tr><td>is.AMR     </td><td>-0.13426647</td><td> 1.640097e-32</td></tr>\n",
       "\t<tr><td>is.EAS     </td><td>-0.11379563</td><td> 9.696144e-08</td></tr>\n",
       "\t<tr><td>is.MID     </td><td>-0.63142444</td><td> 0.000000e+00</td></tr>\n",
       "\t<tr><td>is.OTH     </td><td>-0.23964459</td><td>4.924049e-148</td></tr>\n",
       "\t<tr><td>is.SAS     </td><td> 0.17625173</td><td> 8.702757e-07</td></tr>\n",
       "</tbody>\n",
       "</table>\n"
      ],
      "text/latex": [
       "A data.table: 7 × 3\n",
       "\\begin{tabular}{lll}\n",
       " Variable & beta & p\\\\\n",
       " <chr> & <dbl> & <dbl>\\\\\n",
       "\\hline\n",
       "\t (Intercept) &  0.09932764 & 5.470809e-102\\\\\n",
       "\t is.AFR      & -0.09155455 &  6.285265e-30\\\\\n",
       "\t is.AMR      & -0.13426647 &  1.640097e-32\\\\\n",
       "\t is.EAS      & -0.11379563 &  9.696144e-08\\\\\n",
       "\t is.MID      & -0.63142444 &  0.000000e+00\\\\\n",
       "\t is.OTH      & -0.23964459 & 4.924049e-148\\\\\n",
       "\t is.SAS      &  0.17625173 &  8.702757e-07\\\\\n",
       "\\end{tabular}\n"
      ],
      "text/markdown": [
       "\n",
       "A data.table: 7 × 3\n",
       "\n",
       "| Variable &lt;chr&gt; | beta &lt;dbl&gt; | p &lt;dbl&gt; |\n",
       "|---|---|---|\n",
       "| (Intercept) |  0.09932764 | 5.470809e-102 |\n",
       "| is.AFR      | -0.09155455 |  6.285265e-30 |\n",
       "| is.AMR      | -0.13426647 |  1.640097e-32 |\n",
       "| is.EAS      | -0.11379563 |  9.696144e-08 |\n",
       "| is.MID      | -0.63142444 |  0.000000e+00 |\n",
       "| is.OTH      | -0.23964459 | 4.924049e-148 |\n",
       "| is.SAS      |  0.17625173 |  8.702757e-07 |\n",
       "\n"
      ],
      "text/plain": [
       "  Variable    beta        p            \n",
       "1 (Intercept)  0.09932764 5.470809e-102\n",
       "2 is.AFR      -0.09155455  6.285265e-30\n",
       "3 is.AMR      -0.13426647  1.640097e-32\n",
       "4 is.EAS      -0.11379563  9.696144e-08\n",
       "5 is.MID      -0.63142444  0.000000e+00\n",
       "6 is.OTH      -0.23964459 4.924049e-148\n",
       "7 is.SAS       0.17625173  8.702757e-07"
      ]
     },
     "metadata": {},
     "output_type": "display_data"
    },
    {
     "data": {
      "text/html": [
       "<table class=\"dataframe\">\n",
       "<caption>A data.table: 7 × 3</caption>\n",
       "<thead>\n",
       "\t<tr><th scope=col>Variable</th><th scope=col>beta</th><th scope=col>p</th></tr>\n",
       "\t<tr><th scope=col>&lt;chr&gt;</th><th scope=col>&lt;dbl&gt;</th><th scope=col>&lt;chr&gt;</th></tr>\n",
       "</thead>\n",
       "<tbody>\n",
       "\t<tr><td>(Intercept)</td><td> 0.099</td><td>5.471e-102</td></tr>\n",
       "\t<tr><td>is.AFR     </td><td>-0.092</td><td>6.285e-30 </td></tr>\n",
       "\t<tr><td>is.AMR     </td><td>-0.134</td><td>1.640e-32 </td></tr>\n",
       "\t<tr><td>is.EAS     </td><td>-0.114</td><td>9.696e-08 </td></tr>\n",
       "\t<tr><td>is.MID     </td><td>-0.631</td><td>0.000e+00 </td></tr>\n",
       "\t<tr><td>is.OTH     </td><td>-0.240</td><td>4.924e-148</td></tr>\n",
       "\t<tr><td>is.SAS     </td><td> 0.176</td><td>8.703e-07 </td></tr>\n",
       "</tbody>\n",
       "</table>\n"
      ],
      "text/latex": [
       "A data.table: 7 × 3\n",
       "\\begin{tabular}{lll}\n",
       " Variable & beta & p\\\\\n",
       " <chr> & <dbl> & <chr>\\\\\n",
       "\\hline\n",
       "\t (Intercept) &  0.099 & 5.471e-102\\\\\n",
       "\t is.AFR      & -0.092 & 6.285e-30 \\\\\n",
       "\t is.AMR      & -0.134 & 1.640e-32 \\\\\n",
       "\t is.EAS      & -0.114 & 9.696e-08 \\\\\n",
       "\t is.MID      & -0.631 & 0.000e+00 \\\\\n",
       "\t is.OTH      & -0.240 & 4.924e-148\\\\\n",
       "\t is.SAS      &  0.176 & 8.703e-07 \\\\\n",
       "\\end{tabular}\n"
      ],
      "text/markdown": [
       "\n",
       "A data.table: 7 × 3\n",
       "\n",
       "| Variable &lt;chr&gt; | beta &lt;dbl&gt; | p &lt;chr&gt; |\n",
       "|---|---|---|\n",
       "| (Intercept) |  0.099 | 5.471e-102 |\n",
       "| is.AFR      | -0.092 | 6.285e-30  |\n",
       "| is.AMR      | -0.134 | 1.640e-32  |\n",
       "| is.EAS      | -0.114 | 9.696e-08  |\n",
       "| is.MID      | -0.631 | 0.000e+00  |\n",
       "| is.OTH      | -0.240 | 4.924e-148 |\n",
       "| is.SAS      |  0.176 | 8.703e-07  |\n",
       "\n"
      ],
      "text/plain": [
       "  Variable    beta   p         \n",
       "1 (Intercept)  0.099 5.471e-102\n",
       "2 is.AFR      -0.092 6.285e-30 \n",
       "3 is.AMR      -0.134 1.640e-32 \n",
       "4 is.EAS      -0.114 9.696e-08 \n",
       "5 is.MID      -0.631 0.000e+00 \n",
       "6 is.OTH      -0.240 4.924e-148\n",
       "7 is.SAS       0.176 8.703e-07 "
      ]
     },
     "metadata": {},
     "output_type": "display_data"
    }
   ],
   "source": [
    "my.model <- (lm(PRS.BR.AOU1 ~ is.AFR + is.AMR + is.EAS + is.MID + is.OTH + is.SAS, data=merge.dt))\n",
    "summary(my.model)\n",
    "\n",
    "nullmod <- fitNullModel(merge.dt, outcome = \"PRS.BR.AOU1\",\n",
    "                        covars=c(\"is.AFR\",\"is.AMR\",\"is.EAS\",\"is.MID\",\"is.OTH\",\"is.SAS\"), \n",
    "                        group.var=\"my.ancestry3\", \n",
    "                        family = \"gaussian\")\n",
    "\n",
    "nullmod$fixef\n",
    "(my.table <- data.table(cbind(rownames(nullmod$fixef),nullmod$fixef)))\n",
    "setnames(my.table, c(\"Variable\", \"beta\", \"std.err\",\"stat\", \"p\"))\n",
    "my.table <- my.table[,list(Variable, beta, p)]\n",
    "my.table\n",
    "my.table[,beta:=round(as.numeric(beta), 3)]\n",
    "my.table[,p:=formatC(p, format=\"e\",digits=3)]\n",
    "my.table"
   ]
  },
  {
   "cell_type": "code",
   "execution_count": 21,
   "metadata": {
    "hidden": true
   },
   "outputs": [
    {
     "data": {
      "text/plain": [
       "\n",
       "Call:\n",
       "lm(formula = PRS.BR.ANC.AOU1 ~ is.AFR + is.AMR + is.EAS + is.MID + \n",
       "    is.OTH + is.SAS, data = merge.dt)\n",
       "\n",
       "Residuals:\n",
       "    Min      1Q  Median      3Q     Max \n",
       "-4.1299 -0.6749 -0.0015  0.6691  4.0890 \n",
       "\n",
       "Coefficients:\n",
       "             Estimate Std. Error t value Pr(>|t|)    \n",
       "(Intercept)  0.010378   0.004723   2.197 0.028015 *  \n",
       "is.AFR      -0.019786   0.008140  -2.431 0.015070 *  \n",
       "is.AMR      -0.005937   0.011277  -0.526 0.598561    \n",
       "is.EAS      -0.034063   0.022312  -1.527 0.126843    \n",
       "is.MID       0.030978   0.016275   1.903 0.056985 .  \n",
       "is.OTH      -0.043083   0.009261  -4.652 3.29e-06 ***\n",
       "is.SAS       0.129175   0.036288   3.560 0.000371 ***\n",
       "---\n",
       "Signif. codes:  0 ‘***’ 0.001 ‘**’ 0.01 ‘*’ 0.05 ‘.’ 0.1 ‘ ’ 1\n",
       "\n",
       "Residual standard error: 0.9919 on 98249 degrees of freedom\n",
       "Multiple R-squared:  0.0004798,\tAdjusted R-squared:  0.0004188 \n",
       "F-statistic:  7.86 on 6 and 98249 DF,  p-value: 1.746e-08\n"
      ]
     },
     "metadata": {},
     "output_type": "display_data"
    },
    {
     "name": "stdout",
     "output_type": "stream",
     "text": [
      "[1]  9.842233e-01  9.842233e-01  9.842233e-01  9.842233e-01  9.842233e-01\n",
      "[6]  9.842233e-01  9.842233e-01 -1.386386e+05  9.995812e-01\n",
      "[1]  9.957665e-01  9.735780e-01  1.025732e+00  9.760151e-01  8.916208e-01\n",
      "[6]  8.393457e-01  1.086866e+00 -1.386075e+05  1.001457e+00\n",
      "[1]  9.959034e-01  9.736919e-01  1.027556e+00  9.760830e-01  8.995137e-01\n",
      "[6]  8.575325e-01  1.098687e+00 -1.386070e+05  1.000022e+00\n",
      "[1]  9.959034e-01  9.736920e-01  1.027559e+00  9.760830e-01  8.995842e-01\n",
      "[6]  8.579351e-01  1.098817e+00 -1.386070e+05  1.000000e+00\n"
     ]
    },
    {
     "data": {
      "text/html": [
       "<table class=\"dataframe\">\n",
       "<caption>A data.frame: 7 × 4</caption>\n",
       "<thead>\n",
       "\t<tr><th></th><th scope=col>Est</th><th scope=col>SE</th><th scope=col>Stat</th><th scope=col>pval</th></tr>\n",
       "\t<tr><th></th><th scope=col>&lt;dbl&gt;</th><th scope=col>&lt;dbl&gt;</th><th scope=col>&lt;dbl&gt;</th><th scope=col>&lt;dbl&gt;</th></tr>\n",
       "</thead>\n",
       "<tbody>\n",
       "\t<tr><th scope=row>(Intercept)</th><td> 0.010377533</td><td>0.004752195</td><td> 4.7686971</td><td>2.898175e-02</td></tr>\n",
       "\t<tr><th scope=row>is.AFR</th><td>-0.019785972</td><td>0.008129014</td><td> 5.9243263</td><td>1.493325e-02</td></tr>\n",
       "\t<tr><th scope=row>is.AMR</th><td>-0.005937026</td><td>0.011493821</td><td> 0.2668143</td><td>6.054768e-01</td></tr>\n",
       "\t<tr><th scope=row>is.EAS</th><td>-0.034062871</td><td>0.021386331</td><td> 2.5368217</td><td>1.112185e-01</td></tr>\n",
       "\t<tr><th scope=row>is.MID</th><td> 0.030978023</td><td>0.015300517</td><td> 4.0991630</td><td>4.290445e-02</td></tr>\n",
       "\t<tr><th scope=row>is.OTH</th><td>-0.043082520</td><td>0.009248576</td><td>21.6996391</td><td>3.188513e-06</td></tr>\n",
       "\t<tr><th scope=row>is.SAS</th><td> 0.129174954</td><td>0.038319646</td><td>11.3635405</td><td>7.489991e-04</td></tr>\n",
       "</tbody>\n",
       "</table>\n"
      ],
      "text/latex": [
       "A data.frame: 7 × 4\n",
       "\\begin{tabular}{r|llll}\n",
       "  & Est & SE & Stat & pval\\\\\n",
       "  & <dbl> & <dbl> & <dbl> & <dbl>\\\\\n",
       "\\hline\n",
       "\t(Intercept) &  0.010377533 & 0.004752195 &  4.7686971 & 2.898175e-02\\\\\n",
       "\tis.AFR & -0.019785972 & 0.008129014 &  5.9243263 & 1.493325e-02\\\\\n",
       "\tis.AMR & -0.005937026 & 0.011493821 &  0.2668143 & 6.054768e-01\\\\\n",
       "\tis.EAS & -0.034062871 & 0.021386331 &  2.5368217 & 1.112185e-01\\\\\n",
       "\tis.MID &  0.030978023 & 0.015300517 &  4.0991630 & 4.290445e-02\\\\\n",
       "\tis.OTH & -0.043082520 & 0.009248576 & 21.6996391 & 3.188513e-06\\\\\n",
       "\tis.SAS &  0.129174954 & 0.038319646 & 11.3635405 & 7.489991e-04\\\\\n",
       "\\end{tabular}\n"
      ],
      "text/markdown": [
       "\n",
       "A data.frame: 7 × 4\n",
       "\n",
       "| <!--/--> | Est &lt;dbl&gt; | SE &lt;dbl&gt; | Stat &lt;dbl&gt; | pval &lt;dbl&gt; |\n",
       "|---|---|---|---|---|\n",
       "| (Intercept) |  0.010377533 | 0.004752195 |  4.7686971 | 2.898175e-02 |\n",
       "| is.AFR | -0.019785972 | 0.008129014 |  5.9243263 | 1.493325e-02 |\n",
       "| is.AMR | -0.005937026 | 0.011493821 |  0.2668143 | 6.054768e-01 |\n",
       "| is.EAS | -0.034062871 | 0.021386331 |  2.5368217 | 1.112185e-01 |\n",
       "| is.MID |  0.030978023 | 0.015300517 |  4.0991630 | 4.290445e-02 |\n",
       "| is.OTH | -0.043082520 | 0.009248576 | 21.6996391 | 3.188513e-06 |\n",
       "| is.SAS |  0.129174954 | 0.038319646 | 11.3635405 | 7.489991e-04 |\n",
       "\n"
      ],
      "text/plain": [
       "            Est          SE          Stat       pval        \n",
       "(Intercept)  0.010377533 0.004752195  4.7686971 2.898175e-02\n",
       "is.AFR      -0.019785972 0.008129014  5.9243263 1.493325e-02\n",
       "is.AMR      -0.005937026 0.011493821  0.2668143 6.054768e-01\n",
       "is.EAS      -0.034062871 0.021386331  2.5368217 1.112185e-01\n",
       "is.MID       0.030978023 0.015300517  4.0991630 4.290445e-02\n",
       "is.OTH      -0.043082520 0.009248576 21.6996391 3.188513e-06\n",
       "is.SAS       0.129174954 0.038319646 11.3635405 7.489991e-04"
      ]
     },
     "metadata": {},
     "output_type": "display_data"
    },
    {
     "data": {
      "text/html": [
       "<table class=\"dataframe\">\n",
       "<caption>A data.table: 7 × 5</caption>\n",
       "<thead>\n",
       "\t<tr><th scope=col>rownames(nullmod$fixef)</th><th scope=col>Est</th><th scope=col>SE</th><th scope=col>Stat</th><th scope=col>pval</th></tr>\n",
       "\t<tr><th scope=col>&lt;chr&gt;</th><th scope=col>&lt;dbl&gt;</th><th scope=col>&lt;dbl&gt;</th><th scope=col>&lt;dbl&gt;</th><th scope=col>&lt;dbl&gt;</th></tr>\n",
       "</thead>\n",
       "<tbody>\n",
       "\t<tr><td>(Intercept)</td><td> 0.010377533</td><td>0.004752195</td><td> 4.7686971</td><td>2.898175e-02</td></tr>\n",
       "\t<tr><td>is.AFR     </td><td>-0.019785972</td><td>0.008129014</td><td> 5.9243263</td><td>1.493325e-02</td></tr>\n",
       "\t<tr><td>is.AMR     </td><td>-0.005937026</td><td>0.011493821</td><td> 0.2668143</td><td>6.054768e-01</td></tr>\n",
       "\t<tr><td>is.EAS     </td><td>-0.034062871</td><td>0.021386331</td><td> 2.5368217</td><td>1.112185e-01</td></tr>\n",
       "\t<tr><td>is.MID     </td><td> 0.030978023</td><td>0.015300517</td><td> 4.0991630</td><td>4.290445e-02</td></tr>\n",
       "\t<tr><td>is.OTH     </td><td>-0.043082520</td><td>0.009248576</td><td>21.6996391</td><td>3.188513e-06</td></tr>\n",
       "\t<tr><td>is.SAS     </td><td> 0.129174954</td><td>0.038319646</td><td>11.3635405</td><td>7.489991e-04</td></tr>\n",
       "</tbody>\n",
       "</table>\n"
      ],
      "text/latex": [
       "A data.table: 7 × 5\n",
       "\\begin{tabular}{lllll}\n",
       " rownames(nullmod\\$fixef) & Est & SE & Stat & pval\\\\\n",
       " <chr> & <dbl> & <dbl> & <dbl> & <dbl>\\\\\n",
       "\\hline\n",
       "\t (Intercept) &  0.010377533 & 0.004752195 &  4.7686971 & 2.898175e-02\\\\\n",
       "\t is.AFR      & -0.019785972 & 0.008129014 &  5.9243263 & 1.493325e-02\\\\\n",
       "\t is.AMR      & -0.005937026 & 0.011493821 &  0.2668143 & 6.054768e-01\\\\\n",
       "\t is.EAS      & -0.034062871 & 0.021386331 &  2.5368217 & 1.112185e-01\\\\\n",
       "\t is.MID      &  0.030978023 & 0.015300517 &  4.0991630 & 4.290445e-02\\\\\n",
       "\t is.OTH      & -0.043082520 & 0.009248576 & 21.6996391 & 3.188513e-06\\\\\n",
       "\t is.SAS      &  0.129174954 & 0.038319646 & 11.3635405 & 7.489991e-04\\\\\n",
       "\\end{tabular}\n"
      ],
      "text/markdown": [
       "\n",
       "A data.table: 7 × 5\n",
       "\n",
       "| rownames(nullmod$fixef) &lt;chr&gt; | Est &lt;dbl&gt; | SE &lt;dbl&gt; | Stat &lt;dbl&gt; | pval &lt;dbl&gt; |\n",
       "|---|---|---|---|---|\n",
       "| (Intercept) |  0.010377533 | 0.004752195 |  4.7686971 | 2.898175e-02 |\n",
       "| is.AFR      | -0.019785972 | 0.008129014 |  5.9243263 | 1.493325e-02 |\n",
       "| is.AMR      | -0.005937026 | 0.011493821 |  0.2668143 | 6.054768e-01 |\n",
       "| is.EAS      | -0.034062871 | 0.021386331 |  2.5368217 | 1.112185e-01 |\n",
       "| is.MID      |  0.030978023 | 0.015300517 |  4.0991630 | 4.290445e-02 |\n",
       "| is.OTH      | -0.043082520 | 0.009248576 | 21.6996391 | 3.188513e-06 |\n",
       "| is.SAS      |  0.129174954 | 0.038319646 | 11.3635405 | 7.489991e-04 |\n",
       "\n"
      ],
      "text/plain": [
       "  rownames(nullmod$fixef) Est          SE          Stat       pval        \n",
       "1 (Intercept)              0.010377533 0.004752195  4.7686971 2.898175e-02\n",
       "2 is.AFR                  -0.019785972 0.008129014  5.9243263 1.493325e-02\n",
       "3 is.AMR                  -0.005937026 0.011493821  0.2668143 6.054768e-01\n",
       "4 is.EAS                  -0.034062871 0.021386331  2.5368217 1.112185e-01\n",
       "5 is.MID                   0.030978023 0.015300517  4.0991630 4.290445e-02\n",
       "6 is.OTH                  -0.043082520 0.009248576 21.6996391 3.188513e-06\n",
       "7 is.SAS                   0.129174954 0.038319646 11.3635405 7.489991e-04"
      ]
     },
     "metadata": {},
     "output_type": "display_data"
    },
    {
     "data": {
      "text/html": [
       "<table class=\"dataframe\">\n",
       "<caption>A data.table: 7 × 3</caption>\n",
       "<thead>\n",
       "\t<tr><th scope=col>Variable</th><th scope=col>beta</th><th scope=col>p</th></tr>\n",
       "\t<tr><th scope=col>&lt;chr&gt;</th><th scope=col>&lt;dbl&gt;</th><th scope=col>&lt;dbl&gt;</th></tr>\n",
       "</thead>\n",
       "<tbody>\n",
       "\t<tr><td>(Intercept)</td><td> 0.010377533</td><td>2.898175e-02</td></tr>\n",
       "\t<tr><td>is.AFR     </td><td>-0.019785972</td><td>1.493325e-02</td></tr>\n",
       "\t<tr><td>is.AMR     </td><td>-0.005937026</td><td>6.054768e-01</td></tr>\n",
       "\t<tr><td>is.EAS     </td><td>-0.034062871</td><td>1.112185e-01</td></tr>\n",
       "\t<tr><td>is.MID     </td><td> 0.030978023</td><td>4.290445e-02</td></tr>\n",
       "\t<tr><td>is.OTH     </td><td>-0.043082520</td><td>3.188513e-06</td></tr>\n",
       "\t<tr><td>is.SAS     </td><td> 0.129174954</td><td>7.489991e-04</td></tr>\n",
       "</tbody>\n",
       "</table>\n"
      ],
      "text/latex": [
       "A data.table: 7 × 3\n",
       "\\begin{tabular}{lll}\n",
       " Variable & beta & p\\\\\n",
       " <chr> & <dbl> & <dbl>\\\\\n",
       "\\hline\n",
       "\t (Intercept) &  0.010377533 & 2.898175e-02\\\\\n",
       "\t is.AFR      & -0.019785972 & 1.493325e-02\\\\\n",
       "\t is.AMR      & -0.005937026 & 6.054768e-01\\\\\n",
       "\t is.EAS      & -0.034062871 & 1.112185e-01\\\\\n",
       "\t is.MID      &  0.030978023 & 4.290445e-02\\\\\n",
       "\t is.OTH      & -0.043082520 & 3.188513e-06\\\\\n",
       "\t is.SAS      &  0.129174954 & 7.489991e-04\\\\\n",
       "\\end{tabular}\n"
      ],
      "text/markdown": [
       "\n",
       "A data.table: 7 × 3\n",
       "\n",
       "| Variable &lt;chr&gt; | beta &lt;dbl&gt; | p &lt;dbl&gt; |\n",
       "|---|---|---|\n",
       "| (Intercept) |  0.010377533 | 2.898175e-02 |\n",
       "| is.AFR      | -0.019785972 | 1.493325e-02 |\n",
       "| is.AMR      | -0.005937026 | 6.054768e-01 |\n",
       "| is.EAS      | -0.034062871 | 1.112185e-01 |\n",
       "| is.MID      |  0.030978023 | 4.290445e-02 |\n",
       "| is.OTH      | -0.043082520 | 3.188513e-06 |\n",
       "| is.SAS      |  0.129174954 | 7.489991e-04 |\n",
       "\n"
      ],
      "text/plain": [
       "  Variable    beta         p           \n",
       "1 (Intercept)  0.010377533 2.898175e-02\n",
       "2 is.AFR      -0.019785972 1.493325e-02\n",
       "3 is.AMR      -0.005937026 6.054768e-01\n",
       "4 is.EAS      -0.034062871 1.112185e-01\n",
       "5 is.MID       0.030978023 4.290445e-02\n",
       "6 is.OTH      -0.043082520 3.188513e-06\n",
       "7 is.SAS       0.129174954 7.489991e-04"
      ]
     },
     "metadata": {},
     "output_type": "display_data"
    },
    {
     "data": {
      "text/html": [
       "<table class=\"dataframe\">\n",
       "<caption>A data.table: 7 × 3</caption>\n",
       "<thead>\n",
       "\t<tr><th scope=col>Variable</th><th scope=col>beta</th><th scope=col>p</th></tr>\n",
       "\t<tr><th scope=col>&lt;chr&gt;</th><th scope=col>&lt;dbl&gt;</th><th scope=col>&lt;chr&gt;</th></tr>\n",
       "</thead>\n",
       "<tbody>\n",
       "\t<tr><td>(Intercept)</td><td> 0.010</td><td>2.898e-02</td></tr>\n",
       "\t<tr><td>is.AFR     </td><td>-0.020</td><td>1.493e-02</td></tr>\n",
       "\t<tr><td>is.AMR     </td><td>-0.006</td><td>6.055e-01</td></tr>\n",
       "\t<tr><td>is.EAS     </td><td>-0.034</td><td>1.112e-01</td></tr>\n",
       "\t<tr><td>is.MID     </td><td> 0.031</td><td>4.290e-02</td></tr>\n",
       "\t<tr><td>is.OTH     </td><td>-0.043</td><td>3.189e-06</td></tr>\n",
       "\t<tr><td>is.SAS     </td><td> 0.129</td><td>7.490e-04</td></tr>\n",
       "</tbody>\n",
       "</table>\n"
      ],
      "text/latex": [
       "A data.table: 7 × 3\n",
       "\\begin{tabular}{lll}\n",
       " Variable & beta & p\\\\\n",
       " <chr> & <dbl> & <chr>\\\\\n",
       "\\hline\n",
       "\t (Intercept) &  0.010 & 2.898e-02\\\\\n",
       "\t is.AFR      & -0.020 & 1.493e-02\\\\\n",
       "\t is.AMR      & -0.006 & 6.055e-01\\\\\n",
       "\t is.EAS      & -0.034 & 1.112e-01\\\\\n",
       "\t is.MID      &  0.031 & 4.290e-02\\\\\n",
       "\t is.OTH      & -0.043 & 3.189e-06\\\\\n",
       "\t is.SAS      &  0.129 & 7.490e-04\\\\\n",
       "\\end{tabular}\n"
      ],
      "text/markdown": [
       "\n",
       "A data.table: 7 × 3\n",
       "\n",
       "| Variable &lt;chr&gt; | beta &lt;dbl&gt; | p &lt;chr&gt; |\n",
       "|---|---|---|\n",
       "| (Intercept) |  0.010 | 2.898e-02 |\n",
       "| is.AFR      | -0.020 | 1.493e-02 |\n",
       "| is.AMR      | -0.006 | 6.055e-01 |\n",
       "| is.EAS      | -0.034 | 1.112e-01 |\n",
       "| is.MID      |  0.031 | 4.290e-02 |\n",
       "| is.OTH      | -0.043 | 3.189e-06 |\n",
       "| is.SAS      |  0.129 | 7.490e-04 |\n",
       "\n"
      ],
      "text/plain": [
       "  Variable    beta   p        \n",
       "1 (Intercept)  0.010 2.898e-02\n",
       "2 is.AFR      -0.020 1.493e-02\n",
       "3 is.AMR      -0.006 6.055e-01\n",
       "4 is.EAS      -0.034 1.112e-01\n",
       "5 is.MID       0.031 4.290e-02\n",
       "6 is.OTH      -0.043 3.189e-06\n",
       "7 is.SAS       0.129 7.490e-04"
      ]
     },
     "metadata": {},
     "output_type": "display_data"
    }
   ],
   "source": [
    "my.model <- (lm(PRS.BR.ANC.AOU1 ~ is.AFR + is.AMR + is.EAS + is.MID + is.OTH + is.SAS, data=merge.dt))\n",
    "summary(my.model)\n",
    "\n",
    "nullmod <- fitNullModel(merge.dt, outcome = \"PRS.BR.ANC.AOU1\",\n",
    "                        covars=c(\"is.AFR\",\"is.AMR\",\"is.EAS\",\"is.MID\",\"is.OTH\",\"is.SAS\"), \n",
    "                        group.var=\"my.ancestry3\", \n",
    "                        family = \"gaussian\")\n",
    "\n",
    "nullmod$fixef\n",
    "(my.table <- data.table(cbind(rownames(nullmod$fixef),nullmod$fixef)))\n",
    "setnames(my.table, c(\"Variable\", \"beta\", \"std.err\",\"stat\", \"p\"))\n",
    "my.table <- my.table[,list(Variable, beta, p)]\n",
    "my.table\n",
    "my.table[,beta:=round(as.numeric(beta), 3)]\n",
    "my.table[,p:=formatC(p, format=\"e\",digits=3)]\n",
    "my.table"
   ]
  },
  {
   "cell_type": "markdown",
   "metadata": {},
   "source": [
    "# Compare OR across ancestries with single logistic model"
   ]
  },
  {
   "cell_type": "code",
   "execution_count": 19,
   "metadata": {},
   "outputs": [
    {
     "data": {
      "text/plain": [
       "\n",
       "Call:\n",
       "glm(formula = CRC.status ~ norm.PRS, family = \"binomial\", data = merge2.dt)\n",
       "\n",
       "Coefficients:\n",
       "            Estimate Std. Error z value Pr(>|z|)    \n",
       "(Intercept) -3.66324    0.05905 -62.041   <2e-16 ***\n",
       "norm.PRS     0.44671    0.05437   8.216   <2e-16 ***\n",
       "---\n",
       "Signif. codes:  0 ‘***’ 0.001 ‘**’ 0.01 ‘*’ 0.05 ‘.’ 0.1 ‘ ’ 1\n",
       "\n",
       "(Dispersion parameter for binomial family taken to be 1)\n",
       "\n",
       "    Null deviance: 3191.4  on 12725  degrees of freedom\n",
       "Residual deviance: 3123.0  on 12724  degrees of freedom\n",
       "AIC: 3127\n",
       "\n",
       "Number of Fisher Scoring iterations: 6\n"
      ]
     },
     "metadata": {},
     "output_type": "display_data"
    },
    {
     "data": {
      "text/html": [
       "<style>\n",
       ".dl-inline {width: auto; margin:0; padding: 0}\n",
       ".dl-inline>dt, .dl-inline>dd {float: none; width: auto; display: inline-block}\n",
       ".dl-inline>dt::after {content: \":\\0020\"; padding-right: .5ex}\n",
       ".dl-inline>dt:not(:first-of-type) {padding-left: .5ex}\n",
       "</style><dl class=dl-inline><dt>(Intercept)</dt><dd>0.03</dd><dt>norm.PRS</dt><dd>1.56</dd></dl>\n"
      ],
      "text/latex": [
       "\\begin{description*}\n",
       "\\item[(Intercept)] 0.03\n",
       "\\item[norm.PRS] 1.56\n",
       "\\end{description*}\n"
      ],
      "text/markdown": [
       "(Intercept)\n",
       ":   0.03norm.PRS\n",
       ":   1.56\n",
       "\n"
      ],
      "text/plain": [
       "(Intercept)    norm.PRS \n",
       "       0.03        1.56 "
      ]
     },
     "metadata": {},
     "output_type": "display_data"
    }
   ],
   "source": [
    "(glm1 <- summary(glm(CRC.status ~ norm.PRS,data=merge2.dt,family=\"binomial\")))\n",
    "round(exp(glm1$coef[,1]), 2)"
   ]
  },
  {
   "cell_type": "code",
   "execution_count": 28,
   "metadata": {},
   "outputs": [],
   "source": [
    "anc.col <- c(\"EUR\", \"AFR\", \"AMR\", \"EAS\", \"MID\", \"OTH\", \"SAS\")"
   ]
  },
  {
   "cell_type": "code",
   "execution_count": 36,
   "metadata": {},
   "outputs": [
    {
     "data": {
      "text/plain": [
       "\n",
       "Call:\n",
       "glm(formula = CRC.status ~ norm.PRS + is.AFR + is.AMR + is.EAS + \n",
       "    is.MID + is.OTH + is.SAS, family = \"binomial\", data = merge2.dt)\n",
       "\n",
       "Coefficients:\n",
       "            Estimate Std. Error z value Pr(>|z|)    \n",
       "(Intercept) -3.62523    0.07725 -46.929   <2e-16 ***\n",
       "norm.PRS     0.45569    0.05496   8.291   <2e-16 ***\n",
       "is.AFR      -0.36396    0.17178  -2.119   0.0341 *  \n",
       "is.AMR      -0.03636    0.26420  -0.138   0.8905    \n",
       "is.EAS      -0.34181    0.51198  -0.668   0.5044    \n",
       "is.MID       0.22581    0.22712   0.994   0.3201    \n",
       "is.OTH       0.01352    0.15324   0.088   0.9297    \n",
       "is.SAS       0.20421    0.72608   0.281   0.7785    \n",
       "---\n",
       "Signif. codes:  0 ‘***’ 0.001 ‘**’ 0.01 ‘*’ 0.05 ‘.’ 0.1 ‘ ’ 1\n",
       "\n",
       "(Dispersion parameter for binomial family taken to be 1)\n",
       "\n",
       "    Null deviance: 3191.4  on 12725  degrees of freedom\n",
       "Residual deviance: 3115.9  on 12718  degrees of freedom\n",
       "AIC: 3131.9\n",
       "\n",
       "Number of Fisher Scoring iterations: 6\n"
      ]
     },
     "metadata": {},
     "output_type": "display_data"
    },
    {
     "data": {
      "text/html": [
       "<style>\n",
       ".dl-inline {width: auto; margin:0; padding: 0}\n",
       ".dl-inline>dt, .dl-inline>dd {float: none; width: auto; display: inline-block}\n",
       ".dl-inline>dt::after {content: \":\\0020\"; padding-right: .5ex}\n",
       ".dl-inline>dt:not(:first-of-type) {padding-left: .5ex}\n",
       "</style><dl class=dl-inline><dt>(Intercept)</dt><dd>-3.62523046550254</dd><dt>norm.PRS</dt><dd>0.455686209043634</dd><dt>is.AFR</dt><dd>-0.363960801217028</dd><dt>is.AMR</dt><dd>-0.0363569748695948</dd><dt>is.EAS</dt><dd>-0.341806240263736</dd><dt>is.MID</dt><dd>0.225812299945952</dd><dt>is.OTH</dt><dd>0.0135229272071069</dd><dt>is.SAS</dt><dd>0.204208119664753</dd></dl>\n"
      ],
      "text/latex": [
       "\\begin{description*}\n",
       "\\item[(Intercept)] -3.62523046550254\n",
       "\\item[norm.PRS] 0.455686209043634\n",
       "\\item[is.AFR] -0.363960801217028\n",
       "\\item[is.AMR] -0.0363569748695948\n",
       "\\item[is.EAS] -0.341806240263736\n",
       "\\item[is.MID] 0.225812299945952\n",
       "\\item[is.OTH] 0.0135229272071069\n",
       "\\item[is.SAS] 0.204208119664753\n",
       "\\end{description*}\n"
      ],
      "text/markdown": [
       "(Intercept)\n",
       ":   -3.62523046550254norm.PRS\n",
       ":   0.455686209043634is.AFR\n",
       ":   -0.363960801217028is.AMR\n",
       ":   -0.0363569748695948is.EAS\n",
       ":   -0.341806240263736is.MID\n",
       ":   0.225812299945952is.OTH\n",
       ":   0.0135229272071069is.SAS\n",
       ":   0.204208119664753\n",
       "\n"
      ],
      "text/plain": [
       "(Intercept)    norm.PRS      is.AFR      is.AMR      is.EAS      is.MID \n",
       "-3.62523047  0.45568621 -0.36396080 -0.03635697 -0.34180624  0.22581230 \n",
       "     is.OTH      is.SAS \n",
       " 0.01352293  0.20420812 "
      ]
     },
     "metadata": {},
     "output_type": "display_data"
    },
    {
     "data": {
      "text/html": [
       "<style>\n",
       ".dl-inline {width: auto; margin:0; padding: 0}\n",
       ".dl-inline>dt, .dl-inline>dd {float: none; width: auto; display: inline-block}\n",
       ".dl-inline>dt::after {content: \":\\0020\"; padding-right: .5ex}\n",
       ".dl-inline>dt:not(:first-of-type) {padding-left: .5ex}\n",
       "</style><dl class=dl-inline><dt>(Intercept)</dt><dd>-3.16954425645891</dd><dt>norm.PRS</dt><dd>0.911372418087268</dd><dt>is.AFR</dt><dd>0.091725407826606</dd><dt>is.AMR</dt><dd>0.419329234174039</dd><dt>is.EAS</dt><dd>0.113879968779898</dd><dt>is.MID</dt><dd>0.681498508989586</dd><dt>is.OTH</dt><dd>0.469209136250741</dd><dt>is.SAS</dt><dd>0.659894328708387</dd></dl>\n"
      ],
      "text/latex": [
       "\\begin{description*}\n",
       "\\item[(Intercept)] -3.16954425645891\n",
       "\\item[norm.PRS] 0.911372418087268\n",
       "\\item[is.AFR] 0.091725407826606\n",
       "\\item[is.AMR] 0.419329234174039\n",
       "\\item[is.EAS] 0.113879968779898\n",
       "\\item[is.MID] 0.681498508989586\n",
       "\\item[is.OTH] 0.469209136250741\n",
       "\\item[is.SAS] 0.659894328708387\n",
       "\\end{description*}\n"
      ],
      "text/markdown": [
       "(Intercept)\n",
       ":   -3.16954425645891norm.PRS\n",
       ":   0.911372418087268is.AFR\n",
       ":   0.091725407826606is.AMR\n",
       ":   0.419329234174039is.EAS\n",
       ":   0.113879968779898is.MID\n",
       ":   0.681498508989586is.OTH\n",
       ":   0.469209136250741is.SAS\n",
       ":   0.659894328708387\n",
       "\n"
      ],
      "text/plain": [
       "(Intercept)    norm.PRS      is.AFR      is.AMR      is.EAS      is.MID \n",
       "-3.16954426  0.91137242  0.09172541  0.41932923  0.11387997  0.68149851 \n",
       "     is.OTH      is.SAS \n",
       " 0.46920914  0.65989433 "
      ]
     },
     "metadata": {},
     "output_type": "display_data"
    },
    {
     "data": {
      "text/html": [
       "<style>\n",
       ".dl-inline {width: auto; margin:0; padding: 0}\n",
       ".dl-inline>dt, .dl-inline>dd {float: none; width: auto; display: inline-block}\n",
       ".dl-inline>dt::after {content: \":\\0020\"; padding-right: .5ex}\n",
       ".dl-inline>dt:not(:first-of-type) {padding-left: .5ex}\n",
       "</style><dl class=dl-inline><dt>1</dt><dd>1.58</dd><dt>is.AFR</dt><dd>1.1</dd><dt>is.AMR</dt><dd>1.52</dd><dt>is.EAS</dt><dd>1.12</dd><dt>is.MID</dt><dd>1.98</dd><dt>is.OTH</dt><dd>1.6</dd><dt>is.SAS</dt><dd>1.93</dd></dl>\n"
      ],
      "text/latex": [
       "\\begin{description*}\n",
       "\\item[1] 1.58\n",
       "\\item[is.AFR] 1.1\n",
       "\\item[is.AMR] 1.52\n",
       "\\item[is.EAS] 1.12\n",
       "\\item[is.MID] 1.98\n",
       "\\item[is.OTH] 1.6\n",
       "\\item[is.SAS] 1.93\n",
       "\\end{description*}\n"
      ],
      "text/markdown": [
       "1\n",
       ":   1.58is.AFR\n",
       ":   1.1is.AMR\n",
       ":   1.52is.EAS\n",
       ":   1.12is.MID\n",
       ":   1.98is.OTH\n",
       ":   1.6is.SAS\n",
       ":   1.93\n",
       "\n"
      ],
      "text/plain": [
       "       is.AFR is.AMR is.EAS is.MID is.OTH is.SAS \n",
       "  1.58   1.10   1.52   1.12   1.98   1.60   1.93 "
      ]
     },
     "metadata": {},
     "output_type": "display_data"
    },
    {
     "data": {
      "text/html": [
       "<table class=\"dataframe\">\n",
       "<caption>A data.table: 7 × 3</caption>\n",
       "<thead>\n",
       "\t<tr><th scope=col>anc.col</th><th scope=col>OR1</th><th scope=col>p1</th></tr>\n",
       "\t<tr><th scope=col>&lt;chr&gt;</th><th scope=col>&lt;chr&gt;</th><th scope=col>&lt;chr&gt;</th></tr>\n",
       "</thead>\n",
       "<tbody>\n",
       "\t<tr><td>EUR</td><td>1.58</td><td>0   </td></tr>\n",
       "\t<tr><td>AFR</td><td>1.1 </td><td>0.03</td></tr>\n",
       "\t<tr><td>AMR</td><td>1.52</td><td>0.89</td></tr>\n",
       "\t<tr><td>EAS</td><td>1.12</td><td>0.5 </td></tr>\n",
       "\t<tr><td>MID</td><td>1.98</td><td>0.32</td></tr>\n",
       "\t<tr><td>OTH</td><td>1.6 </td><td>0.93</td></tr>\n",
       "\t<tr><td>SAS</td><td>1.93</td><td>0.78</td></tr>\n",
       "</tbody>\n",
       "</table>\n"
      ],
      "text/latex": [
       "A data.table: 7 × 3\n",
       "\\begin{tabular}{lll}\n",
       " anc.col & OR1 & p1\\\\\n",
       " <chr> & <chr> & <chr>\\\\\n",
       "\\hline\n",
       "\t EUR & 1.58 & 0   \\\\\n",
       "\t AFR & 1.1  & 0.03\\\\\n",
       "\t AMR & 1.52 & 0.89\\\\\n",
       "\t EAS & 1.12 & 0.5 \\\\\n",
       "\t MID & 1.98 & 0.32\\\\\n",
       "\t OTH & 1.6  & 0.93\\\\\n",
       "\t SAS & 1.93 & 0.78\\\\\n",
       "\\end{tabular}\n"
      ],
      "text/markdown": [
       "\n",
       "A data.table: 7 × 3\n",
       "\n",
       "| anc.col &lt;chr&gt; | OR1 &lt;chr&gt; | p1 &lt;chr&gt; |\n",
       "|---|---|---|\n",
       "| EUR | 1.58 | 0    |\n",
       "| AFR | 1.1  | 0.03 |\n",
       "| AMR | 1.52 | 0.89 |\n",
       "| EAS | 1.12 | 0.5  |\n",
       "| MID | 1.98 | 0.32 |\n",
       "| OTH | 1.6  | 0.93 |\n",
       "| SAS | 1.93 | 0.78 |\n",
       "\n"
      ],
      "text/plain": [
       "  anc.col OR1  p1  \n",
       "1 EUR     1.58 0   \n",
       "2 AFR     1.1  0.03\n",
       "3 AMR     1.52 0.89\n",
       "4 EAS     1.12 0.5 \n",
       "5 MID     1.98 0.32\n",
       "6 OTH     1.6  0.93\n",
       "7 SAS     1.93 0.78"
      ]
     },
     "metadata": {},
     "output_type": "display_data"
    }
   ],
   "source": [
    "(glm1 <- summary(glm(CRC.status ~ norm.PRS + is.AFR + is.AMR + is.EAS + is.MID + is.OTH + is.SAS , \n",
    "                    data=merge2.dt,family=\"binomial\")))\n",
    "(beta1 <-  glm1$coef[,1])\n",
    "glm1$coef[,1]+glm1$coef[\"norm.PRS\",1]\n",
    "(OR1 <- c(round(exp(glm1$coef[\"norm.PRS\",1]),2) , round(exp(glm1$coef[c(3:8),1] + glm1$coef[\"norm.PRS\",1]), 2)))\n",
    "p1 <-  round(glm1$coef[c(2:8),4],2)\n",
    "(norm.PRS.table <- as.data.table(cbind(anc.col,OR1,p1)))"
   ]
  },
  {
   "cell_type": "code",
   "execution_count": 35,
   "metadata": {},
   "outputs": [
    {
     "data": {
      "text/plain": [
       "\n",
       "Call:\n",
       "glm(formula = CRC.status ~ norm.PRS.ADJ.PC + is.AFR + is.AMR + \n",
       "    is.EAS + is.MID + is.OTH + is.SAS, family = \"binomial\", data = merge2.dt)\n",
       "\n",
       "Coefficients:\n",
       "                Estimate Std. Error z value Pr(>|z|)    \n",
       "(Intercept)     -3.63148    0.07755 -46.829   <2e-16 ***\n",
       "norm.PRS.ADJ.PC  0.45460    0.05480   8.295   <2e-16 ***\n",
       "is.AFR          -0.31089    0.17213  -1.806   0.0709 .  \n",
       "is.AMR          -0.07162    0.26398  -0.271   0.7861    \n",
       "is.EAS          -0.30167    0.51193  -0.589   0.5557    \n",
       "is.MID           0.19646    0.22653   0.867   0.3858    \n",
       "is.OTH           0.01814    0.15331   0.118   0.9058    \n",
       "is.SAS          -0.06094    0.72638  -0.084   0.9331    \n",
       "---\n",
       "Signif. codes:  0 ‘***’ 0.001 ‘**’ 0.01 ‘*’ 0.05 ‘.’ 0.1 ‘ ’ 1\n",
       "\n",
       "(Dispersion parameter for binomial family taken to be 1)\n",
       "\n",
       "    Null deviance: 3191.4  on 12725  degrees of freedom\n",
       "Residual deviance: 3115.8  on 12718  degrees of freedom\n",
       "AIC: 3131.8\n",
       "\n",
       "Number of Fisher Scoring iterations: 6\n"
      ]
     },
     "metadata": {},
     "output_type": "display_data"
    },
    {
     "data": {
      "text/html": [
       "<style>\n",
       ".dl-inline {width: auto; margin:0; padding: 0}\n",
       ".dl-inline>dt, .dl-inline>dd {float: none; width: auto; display: inline-block}\n",
       ".dl-inline>dt::after {content: \":\\0020\"; padding-right: .5ex}\n",
       ".dl-inline>dt:not(:first-of-type) {padding-left: .5ex}\n",
       "</style><dl class=dl-inline><dt>(Intercept)</dt><dd>-3.63147757705814</dd><dt>norm.PRS.ADJ.PC</dt><dd>0.454597397966388</dd><dt>is.AFR</dt><dd>-0.310886262155137</dd><dt>is.AMR</dt><dd>-0.0716212020835915</dd><dt>is.EAS</dt><dd>-0.301671202367094</dd><dt>is.MID</dt><dd>0.19646429851238</dd><dt>is.OTH</dt><dd>0.0181384030809641</dd><dt>is.SAS</dt><dd>-0.060944083213955</dd></dl>\n"
      ],
      "text/latex": [
       "\\begin{description*}\n",
       "\\item[(Intercept)] -3.63147757705814\n",
       "\\item[norm.PRS.ADJ.PC] 0.454597397966388\n",
       "\\item[is.AFR] -0.310886262155137\n",
       "\\item[is.AMR] -0.0716212020835915\n",
       "\\item[is.EAS] -0.301671202367094\n",
       "\\item[is.MID] 0.19646429851238\n",
       "\\item[is.OTH] 0.0181384030809641\n",
       "\\item[is.SAS] -0.060944083213955\n",
       "\\end{description*}\n"
      ],
      "text/markdown": [
       "(Intercept)\n",
       ":   -3.63147757705814norm.PRS.ADJ.PC\n",
       ":   0.454597397966388is.AFR\n",
       ":   -0.310886262155137is.AMR\n",
       ":   -0.0716212020835915is.EAS\n",
       ":   -0.301671202367094is.MID\n",
       ":   0.19646429851238is.OTH\n",
       ":   0.0181384030809641is.SAS\n",
       ":   -0.060944083213955\n",
       "\n"
      ],
      "text/plain": [
       "    (Intercept) norm.PRS.ADJ.PC          is.AFR          is.AMR          is.EAS \n",
       "    -3.63147758      0.45459740     -0.31088626     -0.07162120     -0.30167120 \n",
       "         is.MID          is.OTH          is.SAS \n",
       "     0.19646430      0.01813840     -0.06094408 "
      ]
     },
     "metadata": {},
     "output_type": "display_data"
    },
    {
     "data": {
      "text/html": [
       "<style>\n",
       ".dl-inline {width: auto; margin:0; padding: 0}\n",
       ".dl-inline>dt, .dl-inline>dd {float: none; width: auto; display: inline-block}\n",
       ".dl-inline>dt::after {content: \":\\0020\"; padding-right: .5ex}\n",
       ".dl-inline>dt:not(:first-of-type) {padding-left: .5ex}\n",
       "</style><dl class=dl-inline><dt>(Intercept)</dt><dd>-3.17688017909175</dd><dt>norm.PRS.ADJ.PC</dt><dd>0.909194795932776</dd><dt>is.AFR</dt><dd>0.143711135811251</dd><dt>is.AMR</dt><dd>0.382976195882797</dd><dt>is.EAS</dt><dd>0.152926195599294</dd><dt>is.MID</dt><dd>0.651061696478768</dd><dt>is.OTH</dt><dd>0.472735801047352</dd><dt>is.SAS</dt><dd>0.393653314752433</dd></dl>\n"
      ],
      "text/latex": [
       "\\begin{description*}\n",
       "\\item[(Intercept)] -3.17688017909175\n",
       "\\item[norm.PRS.ADJ.PC] 0.909194795932776\n",
       "\\item[is.AFR] 0.143711135811251\n",
       "\\item[is.AMR] 0.382976195882797\n",
       "\\item[is.EAS] 0.152926195599294\n",
       "\\item[is.MID] 0.651061696478768\n",
       "\\item[is.OTH] 0.472735801047352\n",
       "\\item[is.SAS] 0.393653314752433\n",
       "\\end{description*}\n"
      ],
      "text/markdown": [
       "(Intercept)\n",
       ":   -3.17688017909175norm.PRS.ADJ.PC\n",
       ":   0.909194795932776is.AFR\n",
       ":   0.143711135811251is.AMR\n",
       ":   0.382976195882797is.EAS\n",
       ":   0.152926195599294is.MID\n",
       ":   0.651061696478768is.OTH\n",
       ":   0.472735801047352is.SAS\n",
       ":   0.393653314752433\n",
       "\n"
      ],
      "text/plain": [
       "    (Intercept) norm.PRS.ADJ.PC          is.AFR          is.AMR          is.EAS \n",
       "     -3.1768802       0.9091948       0.1437111       0.3829762       0.1529262 \n",
       "         is.MID          is.OTH          is.SAS \n",
       "      0.6510617       0.4727358       0.3936533 "
      ]
     },
     "metadata": {},
     "output_type": "display_data"
    },
    {
     "data": {
      "text/html": [
       "<style>\n",
       ".dl-inline {width: auto; margin:0; padding: 0}\n",
       ".dl-inline>dt, .dl-inline>dd {float: none; width: auto; display: inline-block}\n",
       ".dl-inline>dt::after {content: \":\\0020\"; padding-right: .5ex}\n",
       ".dl-inline>dt:not(:first-of-type) {padding-left: .5ex}\n",
       "</style><dl class=dl-inline><dt>1</dt><dd>1.58</dd><dt>is.AFR</dt><dd>1.15</dd><dt>is.AMR</dt><dd>1.47</dd><dt>is.EAS</dt><dd>1.17</dd><dt>is.MID</dt><dd>1.92</dd><dt>is.OTH</dt><dd>1.6</dd><dt>is.SAS</dt><dd>1.48</dd></dl>\n"
      ],
      "text/latex": [
       "\\begin{description*}\n",
       "\\item[1] 1.58\n",
       "\\item[is.AFR] 1.15\n",
       "\\item[is.AMR] 1.47\n",
       "\\item[is.EAS] 1.17\n",
       "\\item[is.MID] 1.92\n",
       "\\item[is.OTH] 1.6\n",
       "\\item[is.SAS] 1.48\n",
       "\\end{description*}\n"
      ],
      "text/markdown": [
       "1\n",
       ":   1.58is.AFR\n",
       ":   1.15is.AMR\n",
       ":   1.47is.EAS\n",
       ":   1.17is.MID\n",
       ":   1.92is.OTH\n",
       ":   1.6is.SAS\n",
       ":   1.48\n",
       "\n"
      ],
      "text/plain": [
       "       is.AFR is.AMR is.EAS is.MID is.OTH is.SAS \n",
       "  1.58   1.15   1.47   1.17   1.92   1.60   1.48 "
      ]
     },
     "metadata": {},
     "output_type": "display_data"
    },
    {
     "data": {
      "text/html": [
       "<table class=\"dataframe\">\n",
       "<caption>A data.table: 7 × 3</caption>\n",
       "<thead>\n",
       "\t<tr><th scope=col>anc.col</th><th scope=col>OR1</th><th scope=col>p1</th></tr>\n",
       "\t<tr><th scope=col>&lt;chr&gt;</th><th scope=col>&lt;chr&gt;</th><th scope=col>&lt;chr&gt;</th></tr>\n",
       "</thead>\n",
       "<tbody>\n",
       "\t<tr><td>EUR</td><td>1.58</td><td>0   </td></tr>\n",
       "\t<tr><td>AFR</td><td>1.15</td><td>0.07</td></tr>\n",
       "\t<tr><td>AMR</td><td>1.47</td><td>0.79</td></tr>\n",
       "\t<tr><td>EAS</td><td>1.17</td><td>0.56</td></tr>\n",
       "\t<tr><td>MID</td><td>1.92</td><td>0.39</td></tr>\n",
       "\t<tr><td>OTH</td><td>1.6 </td><td>0.91</td></tr>\n",
       "\t<tr><td>SAS</td><td>1.48</td><td>0.93</td></tr>\n",
       "</tbody>\n",
       "</table>\n"
      ],
      "text/latex": [
       "A data.table: 7 × 3\n",
       "\\begin{tabular}{lll}\n",
       " anc.col & OR1 & p1\\\\\n",
       " <chr> & <chr> & <chr>\\\\\n",
       "\\hline\n",
       "\t EUR & 1.58 & 0   \\\\\n",
       "\t AFR & 1.15 & 0.07\\\\\n",
       "\t AMR & 1.47 & 0.79\\\\\n",
       "\t EAS & 1.17 & 0.56\\\\\n",
       "\t MID & 1.92 & 0.39\\\\\n",
       "\t OTH & 1.6  & 0.91\\\\\n",
       "\t SAS & 1.48 & 0.93\\\\\n",
       "\\end{tabular}\n"
      ],
      "text/markdown": [
       "\n",
       "A data.table: 7 × 3\n",
       "\n",
       "| anc.col &lt;chr&gt; | OR1 &lt;chr&gt; | p1 &lt;chr&gt; |\n",
       "|---|---|---|\n",
       "| EUR | 1.58 | 0    |\n",
       "| AFR | 1.15 | 0.07 |\n",
       "| AMR | 1.47 | 0.79 |\n",
       "| EAS | 1.17 | 0.56 |\n",
       "| MID | 1.92 | 0.39 |\n",
       "| OTH | 1.6  | 0.91 |\n",
       "| SAS | 1.48 | 0.93 |\n",
       "\n"
      ],
      "text/plain": [
       "  anc.col OR1  p1  \n",
       "1 EUR     1.58 0   \n",
       "2 AFR     1.15 0.07\n",
       "3 AMR     1.47 0.79\n",
       "4 EAS     1.17 0.56\n",
       "5 MID     1.92 0.39\n",
       "6 OTH     1.6  0.91\n",
       "7 SAS     1.48 0.93"
      ]
     },
     "metadata": {},
     "output_type": "display_data"
    }
   ],
   "source": [
    "(glm1 <- summary(glm(CRC.status ~ norm.PRS.ADJ.PC + is.AFR + is.AMR + is.EAS + is.MID + is.OTH + is.SAS , \n",
    "                    data=merge2.dt,family=\"binomial\")))\n",
    "(beta1 <-  glm1$coef[,1])\n",
    "glm1$coef[,1]+glm1$coef[\"norm.PRS.ADJ.PC\",1]\n",
    "(OR1 <- c(round(exp(glm1$coef[\"norm.PRS.ADJ.PC\",1]),2) , round(exp(glm1$coef[c(3:8),1] + glm1$coef[\"norm.PRS.ADJ.PC\",1]), 2)))\n",
    "p1 <-  round(glm1$coef[c(2:8),4],2)\n",
    "(norm.PRS.ADJ.PC.table <- as.data.table(cbind(anc.col,OR1,p1)))"
   ]
  },
  {
   "cell_type": "code",
   "execution_count": 37,
   "metadata": {},
   "outputs": [
    {
     "data": {
      "text/plain": [
       "\n",
       "Call:\n",
       "glm(formula = CRC.status ~ norm.PRS.ADJ.ANC + is.AFR + is.AMR + \n",
       "    is.EAS + is.MID + is.OTH + is.SAS, family = \"binomial\", data = merge2.dt)\n",
       "\n",
       "Coefficients:\n",
       "                 Estimate Std. Error z value Pr(>|z|)    \n",
       "(Intercept)      -3.59447    0.07593 -47.342   <2e-16 ***\n",
       "norm.PRS.ADJ.ANC  0.45280    0.05426   8.346   <2e-16 ***\n",
       "is.AFR           -0.34245    0.17190  -1.992   0.0464 *  \n",
       "is.AMR           -0.12185    0.26379  -0.462   0.6441    \n",
       "is.EAS           -0.34345    0.51200  -0.671   0.5023    \n",
       "is.MID           -0.11807    0.22373  -0.528   0.5977    \n",
       "is.OTH           -0.08247    0.15245  -0.541   0.5885    \n",
       "is.SAS            0.07318    0.72611   0.101   0.9197    \n",
       "---\n",
       "Signif. codes:  0 ‘***’ 0.001 ‘**’ 0.01 ‘*’ 0.05 ‘.’ 0.1 ‘ ’ 1\n",
       "\n",
       "(Dispersion parameter for binomial family taken to be 1)\n",
       "\n",
       "    Null deviance: 3191.4  on 12725  degrees of freedom\n",
       "Residual deviance: 3114.9  on 12718  degrees of freedom\n",
       "AIC: 3130.9\n",
       "\n",
       "Number of Fisher Scoring iterations: 6\n"
      ]
     },
     "metadata": {},
     "output_type": "display_data"
    },
    {
     "data": {
      "text/html": [
       "<style>\n",
       ".dl-inline {width: auto; margin:0; padding: 0}\n",
       ".dl-inline>dt, .dl-inline>dd {float: none; width: auto; display: inline-block}\n",
       ".dl-inline>dt::after {content: \":\\0020\"; padding-right: .5ex}\n",
       ".dl-inline>dt:not(:first-of-type) {padding-left: .5ex}\n",
       "</style><dl class=dl-inline><dt>(Intercept)</dt><dd>-3.59447205594154</dd><dt>norm.PRS.ADJ.ANC</dt><dd>0.452797256766975</dd><dt>is.AFR</dt><dd>-0.342446381140513</dd><dt>is.AMR</dt><dd>-0.121846237481623</dd><dt>is.EAS</dt><dd>-0.343454291501996</dd><dt>is.MID</dt><dd>-0.118072169554363</dd><dt>is.OTH</dt><dd>-0.082469914377133</dd><dt>is.SAS</dt><dd>0.0731770922880179</dd></dl>\n"
      ],
      "text/latex": [
       "\\begin{description*}\n",
       "\\item[(Intercept)] -3.59447205594154\n",
       "\\item[norm.PRS.ADJ.ANC] 0.452797256766975\n",
       "\\item[is.AFR] -0.342446381140513\n",
       "\\item[is.AMR] -0.121846237481623\n",
       "\\item[is.EAS] -0.343454291501996\n",
       "\\item[is.MID] -0.118072169554363\n",
       "\\item[is.OTH] -0.082469914377133\n",
       "\\item[is.SAS] 0.0731770922880179\n",
       "\\end{description*}\n"
      ],
      "text/markdown": [
       "(Intercept)\n",
       ":   -3.59447205594154norm.PRS.ADJ.ANC\n",
       ":   0.452797256766975is.AFR\n",
       ":   -0.342446381140513is.AMR\n",
       ":   -0.121846237481623is.EAS\n",
       ":   -0.343454291501996is.MID\n",
       ":   -0.118072169554363is.OTH\n",
       ":   -0.082469914377133is.SAS\n",
       ":   0.0731770922880179\n",
       "\n"
      ],
      "text/plain": [
       "     (Intercept) norm.PRS.ADJ.ANC           is.AFR           is.AMR \n",
       "     -3.59447206       0.45279726      -0.34244638      -0.12184624 \n",
       "          is.EAS           is.MID           is.OTH           is.SAS \n",
       "     -0.34345429      -0.11807217      -0.08246991       0.07317709 "
      ]
     },
     "metadata": {},
     "output_type": "display_data"
    },
    {
     "data": {
      "text/html": [
       "<style>\n",
       ".dl-inline {width: auto; margin:0; padding: 0}\n",
       ".dl-inline>dt, .dl-inline>dd {float: none; width: auto; display: inline-block}\n",
       ".dl-inline>dt::after {content: \":\\0020\"; padding-right: .5ex}\n",
       ".dl-inline>dt:not(:first-of-type) {padding-left: .5ex}\n",
       "</style><dl class=dl-inline><dt>(Intercept)</dt><dd>-3.14167479917457</dd><dt>norm.PRS.ADJ.ANC</dt><dd>0.90559451353395</dd><dt>is.AFR</dt><dd>0.110350875626462</dd><dt>is.AMR</dt><dd>0.330951019285352</dd><dt>is.EAS</dt><dd>0.109342965264978</dd><dt>is.MID</dt><dd>0.334725087212611</dd><dt>is.OTH</dt><dd>0.370327342389842</dd><dt>is.SAS</dt><dd>0.525974349054993</dd></dl>\n"
      ],
      "text/latex": [
       "\\begin{description*}\n",
       "\\item[(Intercept)] -3.14167479917457\n",
       "\\item[norm.PRS.ADJ.ANC] 0.90559451353395\n",
       "\\item[is.AFR] 0.110350875626462\n",
       "\\item[is.AMR] 0.330951019285352\n",
       "\\item[is.EAS] 0.109342965264978\n",
       "\\item[is.MID] 0.334725087212611\n",
       "\\item[is.OTH] 0.370327342389842\n",
       "\\item[is.SAS] 0.525974349054993\n",
       "\\end{description*}\n"
      ],
      "text/markdown": [
       "(Intercept)\n",
       ":   -3.14167479917457norm.PRS.ADJ.ANC\n",
       ":   0.90559451353395is.AFR\n",
       ":   0.110350875626462is.AMR\n",
       ":   0.330951019285352is.EAS\n",
       ":   0.109342965264978is.MID\n",
       ":   0.334725087212611is.OTH\n",
       ":   0.370327342389842is.SAS\n",
       ":   0.525974349054993\n",
       "\n"
      ],
      "text/plain": [
       "     (Intercept) norm.PRS.ADJ.ANC           is.AFR           is.AMR \n",
       "      -3.1416748        0.9055945        0.1103509        0.3309510 \n",
       "          is.EAS           is.MID           is.OTH           is.SAS \n",
       "       0.1093430        0.3347251        0.3703273        0.5259743 "
      ]
     },
     "metadata": {},
     "output_type": "display_data"
    },
    {
     "data": {
      "text/html": [
       "<style>\n",
       ".dl-inline {width: auto; margin:0; padding: 0}\n",
       ".dl-inline>dt, .dl-inline>dd {float: none; width: auto; display: inline-block}\n",
       ".dl-inline>dt::after {content: \":\\0020\"; padding-right: .5ex}\n",
       ".dl-inline>dt:not(:first-of-type) {padding-left: .5ex}\n",
       "</style><dl class=dl-inline><dt>1</dt><dd>1.57</dd><dt>is.AFR</dt><dd>1.12</dd><dt>is.AMR</dt><dd>1.39</dd><dt>is.EAS</dt><dd>1.12</dd><dt>is.MID</dt><dd>1.4</dd><dt>is.OTH</dt><dd>1.45</dd><dt>is.SAS</dt><dd>1.69</dd></dl>\n"
      ],
      "text/latex": [
       "\\begin{description*}\n",
       "\\item[1] 1.57\n",
       "\\item[is.AFR] 1.12\n",
       "\\item[is.AMR] 1.39\n",
       "\\item[is.EAS] 1.12\n",
       "\\item[is.MID] 1.4\n",
       "\\item[is.OTH] 1.45\n",
       "\\item[is.SAS] 1.69\n",
       "\\end{description*}\n"
      ],
      "text/markdown": [
       "1\n",
       ":   1.57is.AFR\n",
       ":   1.12is.AMR\n",
       ":   1.39is.EAS\n",
       ":   1.12is.MID\n",
       ":   1.4is.OTH\n",
       ":   1.45is.SAS\n",
       ":   1.69\n",
       "\n"
      ],
      "text/plain": [
       "       is.AFR is.AMR is.EAS is.MID is.OTH is.SAS \n",
       "  1.57   1.12   1.39   1.12   1.40   1.45   1.69 "
      ]
     },
     "metadata": {},
     "output_type": "display_data"
    },
    {
     "data": {
      "text/html": [
       "<table class=\"dataframe\">\n",
       "<caption>A data.table: 7 × 3</caption>\n",
       "<thead>\n",
       "\t<tr><th scope=col>anc.col</th><th scope=col>OR1</th><th scope=col>p1</th></tr>\n",
       "\t<tr><th scope=col>&lt;chr&gt;</th><th scope=col>&lt;chr&gt;</th><th scope=col>&lt;chr&gt;</th></tr>\n",
       "</thead>\n",
       "<tbody>\n",
       "\t<tr><td>EUR</td><td>1.57</td><td>0   </td></tr>\n",
       "\t<tr><td>AFR</td><td>1.12</td><td>0.05</td></tr>\n",
       "\t<tr><td>AMR</td><td>1.39</td><td>0.64</td></tr>\n",
       "\t<tr><td>EAS</td><td>1.12</td><td>0.5 </td></tr>\n",
       "\t<tr><td>MID</td><td>1.4 </td><td>0.6 </td></tr>\n",
       "\t<tr><td>OTH</td><td>1.45</td><td>0.59</td></tr>\n",
       "\t<tr><td>SAS</td><td>1.69</td><td>0.92</td></tr>\n",
       "</tbody>\n",
       "</table>\n"
      ],
      "text/latex": [
       "A data.table: 7 × 3\n",
       "\\begin{tabular}{lll}\n",
       " anc.col & OR1 & p1\\\\\n",
       " <chr> & <chr> & <chr>\\\\\n",
       "\\hline\n",
       "\t EUR & 1.57 & 0   \\\\\n",
       "\t AFR & 1.12 & 0.05\\\\\n",
       "\t AMR & 1.39 & 0.64\\\\\n",
       "\t EAS & 1.12 & 0.5 \\\\\n",
       "\t MID & 1.4  & 0.6 \\\\\n",
       "\t OTH & 1.45 & 0.59\\\\\n",
       "\t SAS & 1.69 & 0.92\\\\\n",
       "\\end{tabular}\n"
      ],
      "text/markdown": [
       "\n",
       "A data.table: 7 × 3\n",
       "\n",
       "| anc.col &lt;chr&gt; | OR1 &lt;chr&gt; | p1 &lt;chr&gt; |\n",
       "|---|---|---|\n",
       "| EUR | 1.57 | 0    |\n",
       "| AFR | 1.12 | 0.05 |\n",
       "| AMR | 1.39 | 0.64 |\n",
       "| EAS | 1.12 | 0.5  |\n",
       "| MID | 1.4  | 0.6  |\n",
       "| OTH | 1.45 | 0.59 |\n",
       "| SAS | 1.69 | 0.92 |\n",
       "\n"
      ],
      "text/plain": [
       "  anc.col OR1  p1  \n",
       "1 EUR     1.57 0   \n",
       "2 AFR     1.12 0.05\n",
       "3 AMR     1.39 0.64\n",
       "4 EAS     1.12 0.5 \n",
       "5 MID     1.4  0.6 \n",
       "6 OTH     1.45 0.59\n",
       "7 SAS     1.69 0.92"
      ]
     },
     "metadata": {},
     "output_type": "display_data"
    }
   ],
   "source": [
    "(glm1 <- summary(glm(CRC.status ~ norm.PRS.ADJ.ANC + is.AFR + is.AMR + is.EAS + is.MID + is.OTH + is.SAS , \n",
    "                    data=merge2.dt,family=\"binomial\")))\n",
    "(beta1 <-  glm1$coef[,1])\n",
    "glm1$coef[,1]+glm1$coef[\"norm.PRS.ADJ.ANC\",1]\n",
    "(OR1 <- c(round(exp(glm1$coef[\"norm.PRS.ADJ.ANC\",1]),2) , round(exp(glm1$coef[c(3:8),1] + glm1$coef[\"norm.PRS.ADJ.ANC\",1]), 2)))\n",
    "p1 <-  round(glm1$coef[c(2:8),4],2)\n",
    "(norm.PRS.ADJ.ANC.table <- as.data.table(cbind(anc.col,OR1,p1)))"
   ]
  },
  {
   "cell_type": "code",
   "execution_count": 38,
   "metadata": {},
   "outputs": [
    {
     "data": {
      "text/plain": [
       "\n",
       "Call:\n",
       "glm(formula = CRC.status ~ PRS.BR.AOU1 + is.AFR + is.AMR + is.EAS + \n",
       "    is.MID + is.OTH + is.SAS, family = \"binomial\", data = merge2.dt)\n",
       "\n",
       "Coefficients:\n",
       "             Estimate Std. Error z value Pr(>|z|)    \n",
       "(Intercept) -3.630834   0.077270 -46.989   <2e-16 ***\n",
       "PRS.BR.AOU1  0.466141   0.056359   8.271   <2e-16 ***\n",
       "is.AFR      -0.330410   0.171872  -1.922   0.0546 .  \n",
       "is.AMR      -0.071103   0.263966  -0.269   0.7876    \n",
       "is.EAS      -0.287616   0.511841  -0.562   0.5742    \n",
       "is.MID       0.200385   0.226572   0.884   0.3765    \n",
       "is.OTH       0.012798   0.153148   0.084   0.9334    \n",
       "is.SAS      -0.002877   0.726061  -0.004   0.9968    \n",
       "---\n",
       "Signif. codes:  0 ‘***’ 0.001 ‘**’ 0.01 ‘*’ 0.05 ‘.’ 0.1 ‘ ’ 1\n",
       "\n",
       "(Dispersion parameter for binomial family taken to be 1)\n",
       "\n",
       "    Null deviance: 3191.4  on 12725  degrees of freedom\n",
       "Residual deviance: 3116.2  on 12718  degrees of freedom\n",
       "AIC: 3132.2\n",
       "\n",
       "Number of Fisher Scoring iterations: 6\n"
      ]
     },
     "metadata": {},
     "output_type": "display_data"
    },
    {
     "data": {
      "text/html": [
       "<style>\n",
       ".dl-inline {width: auto; margin:0; padding: 0}\n",
       ".dl-inline>dt, .dl-inline>dd {float: none; width: auto; display: inline-block}\n",
       ".dl-inline>dt::after {content: \":\\0020\"; padding-right: .5ex}\n",
       ".dl-inline>dt:not(:first-of-type) {padding-left: .5ex}\n",
       "</style><dl class=dl-inline><dt>(Intercept)</dt><dd>-3.63083447389902</dd><dt>PRS.BR.AOU1</dt><dd>0.466141076483664</dd><dt>is.AFR</dt><dd>-0.330410118861937</dd><dt>is.AMR</dt><dd>-0.0711031913797042</dd><dt>is.EAS</dt><dd>-0.287615558721471</dd><dt>is.MID</dt><dd>0.200385184519533</dd><dt>is.OTH</dt><dd>0.0127981881979789</dd><dt>is.SAS</dt><dd>-0.00287741725889172</dd></dl>\n"
      ],
      "text/latex": [
       "\\begin{description*}\n",
       "\\item[(Intercept)] -3.63083447389902\n",
       "\\item[PRS.BR.AOU1] 0.466141076483664\n",
       "\\item[is.AFR] -0.330410118861937\n",
       "\\item[is.AMR] -0.0711031913797042\n",
       "\\item[is.EAS] -0.287615558721471\n",
       "\\item[is.MID] 0.200385184519533\n",
       "\\item[is.OTH] 0.0127981881979789\n",
       "\\item[is.SAS] -0.00287741725889172\n",
       "\\end{description*}\n"
      ],
      "text/markdown": [
       "(Intercept)\n",
       ":   -3.63083447389902PRS.BR.AOU1\n",
       ":   0.466141076483664is.AFR\n",
       ":   -0.330410118861937is.AMR\n",
       ":   -0.0711031913797042is.EAS\n",
       ":   -0.287615558721471is.MID\n",
       ":   0.200385184519533is.OTH\n",
       ":   0.0127981881979789is.SAS\n",
       ":   -0.00287741725889172\n",
       "\n"
      ],
      "text/plain": [
       " (Intercept)  PRS.BR.AOU1       is.AFR       is.AMR       is.EAS       is.MID \n",
       "-3.630834474  0.466141076 -0.330410119 -0.071103191 -0.287615559  0.200385185 \n",
       "      is.OTH       is.SAS \n",
       " 0.012798188 -0.002877417 "
      ]
     },
     "metadata": {},
     "output_type": "display_data"
    },
    {
     "data": {
      "text/html": [
       "<style>\n",
       ".dl-inline {width: auto; margin:0; padding: 0}\n",
       ".dl-inline>dt, .dl-inline>dd {float: none; width: auto; display: inline-block}\n",
       ".dl-inline>dt::after {content: \":\\0020\"; padding-right: .5ex}\n",
       ".dl-inline>dt:not(:first-of-type) {padding-left: .5ex}\n",
       "</style><dl class=dl-inline><dt>(Intercept)</dt><dd>-3.16469339741536</dd><dt>PRS.BR.AOU1</dt><dd>0.932282152967328</dd><dt>is.AFR</dt><dd>0.135730957621727</dd><dt>is.AMR</dt><dd>0.39503788510396</dd><dt>is.EAS</dt><dd>0.178525517762193</dd><dt>is.MID</dt><dd>0.666526261003197</dd><dt>is.OTH</dt><dd>0.478939264681643</dd><dt>is.SAS</dt><dd>0.463263659224772</dd></dl>\n"
      ],
      "text/latex": [
       "\\begin{description*}\n",
       "\\item[(Intercept)] -3.16469339741536\n",
       "\\item[PRS.BR.AOU1] 0.932282152967328\n",
       "\\item[is.AFR] 0.135730957621727\n",
       "\\item[is.AMR] 0.39503788510396\n",
       "\\item[is.EAS] 0.178525517762193\n",
       "\\item[is.MID] 0.666526261003197\n",
       "\\item[is.OTH] 0.478939264681643\n",
       "\\item[is.SAS] 0.463263659224772\n",
       "\\end{description*}\n"
      ],
      "text/markdown": [
       "(Intercept)\n",
       ":   -3.16469339741536PRS.BR.AOU1\n",
       ":   0.932282152967328is.AFR\n",
       ":   0.135730957621727is.AMR\n",
       ":   0.39503788510396is.EAS\n",
       ":   0.178525517762193is.MID\n",
       ":   0.666526261003197is.OTH\n",
       ":   0.478939264681643is.SAS\n",
       ":   0.463263659224772\n",
       "\n"
      ],
      "text/plain": [
       "(Intercept) PRS.BR.AOU1      is.AFR      is.AMR      is.EAS      is.MID \n",
       " -3.1646934   0.9322822   0.1357310   0.3950379   0.1785255   0.6665263 \n",
       "     is.OTH      is.SAS \n",
       "  0.4789393   0.4632637 "
      ]
     },
     "metadata": {},
     "output_type": "display_data"
    },
    {
     "data": {
      "text/html": [
       "<style>\n",
       ".dl-inline {width: auto; margin:0; padding: 0}\n",
       ".dl-inline>dt, .dl-inline>dd {float: none; width: auto; display: inline-block}\n",
       ".dl-inline>dt::after {content: \":\\0020\"; padding-right: .5ex}\n",
       ".dl-inline>dt:not(:first-of-type) {padding-left: .5ex}\n",
       "</style><dl class=dl-inline><dt>1</dt><dd>1.59</dd><dt>is.AFR</dt><dd>1.15</dd><dt>is.AMR</dt><dd>1.48</dd><dt>is.EAS</dt><dd>1.2</dd><dt>is.MID</dt><dd>1.95</dd><dt>is.OTH</dt><dd>1.61</dd><dt>is.SAS</dt><dd>1.59</dd></dl>\n"
      ],
      "text/latex": [
       "\\begin{description*}\n",
       "\\item[1] 1.59\n",
       "\\item[is.AFR] 1.15\n",
       "\\item[is.AMR] 1.48\n",
       "\\item[is.EAS] 1.2\n",
       "\\item[is.MID] 1.95\n",
       "\\item[is.OTH] 1.61\n",
       "\\item[is.SAS] 1.59\n",
       "\\end{description*}\n"
      ],
      "text/markdown": [
       "1\n",
       ":   1.59is.AFR\n",
       ":   1.15is.AMR\n",
       ":   1.48is.EAS\n",
       ":   1.2is.MID\n",
       ":   1.95is.OTH\n",
       ":   1.61is.SAS\n",
       ":   1.59\n",
       "\n"
      ],
      "text/plain": [
       "       is.AFR is.AMR is.EAS is.MID is.OTH is.SAS \n",
       "  1.59   1.15   1.48   1.20   1.95   1.61   1.59 "
      ]
     },
     "metadata": {},
     "output_type": "display_data"
    },
    {
     "data": {
      "text/html": [
       "<table class=\"dataframe\">\n",
       "<caption>A data.table: 7 × 3</caption>\n",
       "<thead>\n",
       "\t<tr><th scope=col>anc.col</th><th scope=col>OR1</th><th scope=col>p1</th></tr>\n",
       "\t<tr><th scope=col>&lt;chr&gt;</th><th scope=col>&lt;chr&gt;</th><th scope=col>&lt;chr&gt;</th></tr>\n",
       "</thead>\n",
       "<tbody>\n",
       "\t<tr><td>EUR</td><td>1.59</td><td>0   </td></tr>\n",
       "\t<tr><td>AFR</td><td>1.15</td><td>0.05</td></tr>\n",
       "\t<tr><td>AMR</td><td>1.48</td><td>0.79</td></tr>\n",
       "\t<tr><td>EAS</td><td>1.2 </td><td>0.57</td></tr>\n",
       "\t<tr><td>MID</td><td>1.95</td><td>0.38</td></tr>\n",
       "\t<tr><td>OTH</td><td>1.61</td><td>0.93</td></tr>\n",
       "\t<tr><td>SAS</td><td>1.59</td><td>1   </td></tr>\n",
       "</tbody>\n",
       "</table>\n"
      ],
      "text/latex": [
       "A data.table: 7 × 3\n",
       "\\begin{tabular}{lll}\n",
       " anc.col & OR1 & p1\\\\\n",
       " <chr> & <chr> & <chr>\\\\\n",
       "\\hline\n",
       "\t EUR & 1.59 & 0   \\\\\n",
       "\t AFR & 1.15 & 0.05\\\\\n",
       "\t AMR & 1.48 & 0.79\\\\\n",
       "\t EAS & 1.2  & 0.57\\\\\n",
       "\t MID & 1.95 & 0.38\\\\\n",
       "\t OTH & 1.61 & 0.93\\\\\n",
       "\t SAS & 1.59 & 1   \\\\\n",
       "\\end{tabular}\n"
      ],
      "text/markdown": [
       "\n",
       "A data.table: 7 × 3\n",
       "\n",
       "| anc.col &lt;chr&gt; | OR1 &lt;chr&gt; | p1 &lt;chr&gt; |\n",
       "|---|---|---|\n",
       "| EUR | 1.59 | 0    |\n",
       "| AFR | 1.15 | 0.05 |\n",
       "| AMR | 1.48 | 0.79 |\n",
       "| EAS | 1.2  | 0.57 |\n",
       "| MID | 1.95 | 0.38 |\n",
       "| OTH | 1.61 | 0.93 |\n",
       "| SAS | 1.59 | 1    |\n",
       "\n"
      ],
      "text/plain": [
       "  anc.col OR1  p1  \n",
       "1 EUR     1.59 0   \n",
       "2 AFR     1.15 0.05\n",
       "3 AMR     1.48 0.79\n",
       "4 EAS     1.2  0.57\n",
       "5 MID     1.95 0.38\n",
       "6 OTH     1.61 0.93\n",
       "7 SAS     1.59 1   "
      ]
     },
     "metadata": {},
     "output_type": "display_data"
    }
   ],
   "source": [
    "(glm1 <- summary(glm(CRC.status ~ PRS.BR.AOU1 + is.AFR + is.AMR + is.EAS + is.MID + is.OTH + is.SAS , \n",
    "                    data=merge2.dt,family=\"binomial\")))\n",
    "(beta1 <-  glm1$coef[,1])\n",
    "glm1$coef[,1]+glm1$coef[\"PRS.BR.AOU1\",1]\n",
    "(OR1 <- c(round(exp(glm1$coef[\"PRS.BR.AOU1\",1]),2) , round(exp(glm1$coef[c(3:8),1] + glm1$coef[\"PRS.BR.AOU1\",1]), 2)))\n",
    "p1 <-  round(glm1$coef[c(2:8),4],2)\n",
    "(PRS.BR.AOU1.table <- as.data.table(cbind(anc.col,OR1,p1)))"
   ]
  },
  {
   "cell_type": "code",
   "execution_count": 39,
   "metadata": {},
   "outputs": [
    {
     "data": {
      "text/plain": [
       "\n",
       "Call:\n",
       "glm(formula = CRC.status ~ PRS.BR.ANC.AOU1 + is.AFR + is.AMR + \n",
       "    is.EAS + is.MID + is.OTH + is.SAS, family = \"binomial\", data = merge2.dt)\n",
       "\n",
       "Coefficients:\n",
       "                Estimate Std. Error z value Pr(>|z|)    \n",
       "(Intercept)     -3.59417    0.07579 -47.422   <2e-16 ***\n",
       "PRS.BR.ANC.AOU1  0.46571    0.05573   8.357   <2e-16 ***\n",
       "is.AFR          -0.35949    0.17178  -2.093   0.0364 *  \n",
       "is.AMR          -0.13041    0.26381  -0.494   0.6211    \n",
       "is.EAS          -0.31934    0.51185  -0.624   0.5327    \n",
       "is.MID          -0.09280    0.22364  -0.415   0.6782    \n",
       "is.OTH          -0.08225    0.15244  -0.540   0.5895    \n",
       "is.SAS           0.00741    0.72652   0.010   0.9919    \n",
       "---\n",
       "Signif. codes:  0 ‘***’ 0.001 ‘**’ 0.01 ‘*’ 0.05 ‘.’ 0.1 ‘ ’ 1\n",
       "\n",
       "(Dispersion parameter for binomial family taken to be 1)\n",
       "\n",
       "    Null deviance: 3191.4  on 12725  degrees of freedom\n",
       "Residual deviance: 3114.7  on 12718  degrees of freedom\n",
       "AIC: 3130.7\n",
       "\n",
       "Number of Fisher Scoring iterations: 6\n"
      ]
     },
     "metadata": {},
     "output_type": "display_data"
    },
    {
     "data": {
      "text/html": [
       "<style>\n",
       ".dl-inline {width: auto; margin:0; padding: 0}\n",
       ".dl-inline>dt, .dl-inline>dd {float: none; width: auto; display: inline-block}\n",
       ".dl-inline>dt::after {content: \":\\0020\"; padding-right: .5ex}\n",
       ".dl-inline>dt:not(:first-of-type) {padding-left: .5ex}\n",
       "</style><dl class=dl-inline><dt>(Intercept)</dt><dd>-3.59416967544867</dd><dt>PRS.BR.ANC.AOU1</dt><dd>0.465709588060414</dd><dt>is.AFR</dt><dd>-0.359489686367204</dd><dt>is.AMR</dt><dd>-0.130410058925126</dd><dt>is.EAS</dt><dd>-0.319336227382038</dd><dt>is.MID</dt><dd>-0.092796908949775</dd><dt>is.OTH</dt><dd>-0.0822502490331302</dd><dt>is.SAS</dt><dd>0.00741039257646865</dd></dl>\n"
      ],
      "text/latex": [
       "\\begin{description*}\n",
       "\\item[(Intercept)] -3.59416967544867\n",
       "\\item[PRS.BR.ANC.AOU1] 0.465709588060414\n",
       "\\item[is.AFR] -0.359489686367204\n",
       "\\item[is.AMR] -0.130410058925126\n",
       "\\item[is.EAS] -0.319336227382038\n",
       "\\item[is.MID] -0.092796908949775\n",
       "\\item[is.OTH] -0.0822502490331302\n",
       "\\item[is.SAS] 0.00741039257646865\n",
       "\\end{description*}\n"
      ],
      "text/markdown": [
       "(Intercept)\n",
       ":   -3.59416967544867PRS.BR.ANC.AOU1\n",
       ":   0.465709588060414is.AFR\n",
       ":   -0.359489686367204is.AMR\n",
       ":   -0.130410058925126is.EAS\n",
       ":   -0.319336227382038is.MID\n",
       ":   -0.092796908949775is.OTH\n",
       ":   -0.0822502490331302is.SAS\n",
       ":   0.00741039257646865\n",
       "\n"
      ],
      "text/plain": [
       "    (Intercept) PRS.BR.ANC.AOU1          is.AFR          is.AMR          is.EAS \n",
       "   -3.594169675     0.465709588    -0.359489686    -0.130410059    -0.319336227 \n",
       "         is.MID          is.OTH          is.SAS \n",
       "   -0.092796909    -0.082250249     0.007410393 "
      ]
     },
     "metadata": {},
     "output_type": "display_data"
    },
    {
     "data": {
      "text/html": [
       "<style>\n",
       ".dl-inline {width: auto; margin:0; padding: 0}\n",
       ".dl-inline>dt, .dl-inline>dd {float: none; width: auto; display: inline-block}\n",
       ".dl-inline>dt::after {content: \":\\0020\"; padding-right: .5ex}\n",
       ".dl-inline>dt:not(:first-of-type) {padding-left: .5ex}\n",
       "</style><dl class=dl-inline><dt>(Intercept)</dt><dd>-3.12846008738825</dd><dt>PRS.BR.ANC.AOU1</dt><dd>0.931419176120827</dd><dt>is.AFR</dt><dd>0.10621990169321</dd><dt>is.AMR</dt><dd>0.335299529135287</dd><dt>is.EAS</dt><dd>0.146373360678376</dd><dt>is.MID</dt><dd>0.372912679110639</dd><dt>is.OTH</dt><dd>0.383459339027283</dd><dt>is.SAS</dt><dd>0.473119980636882</dd></dl>\n"
      ],
      "text/latex": [
       "\\begin{description*}\n",
       "\\item[(Intercept)] -3.12846008738825\n",
       "\\item[PRS.BR.ANC.AOU1] 0.931419176120827\n",
       "\\item[is.AFR] 0.10621990169321\n",
       "\\item[is.AMR] 0.335299529135287\n",
       "\\item[is.EAS] 0.146373360678376\n",
       "\\item[is.MID] 0.372912679110639\n",
       "\\item[is.OTH] 0.383459339027283\n",
       "\\item[is.SAS] 0.473119980636882\n",
       "\\end{description*}\n"
      ],
      "text/markdown": [
       "(Intercept)\n",
       ":   -3.12846008738825PRS.BR.ANC.AOU1\n",
       ":   0.931419176120827is.AFR\n",
       ":   0.10621990169321is.AMR\n",
       ":   0.335299529135287is.EAS\n",
       ":   0.146373360678376is.MID\n",
       ":   0.372912679110639is.OTH\n",
       ":   0.383459339027283is.SAS\n",
       ":   0.473119980636882\n",
       "\n"
      ],
      "text/plain": [
       "    (Intercept) PRS.BR.ANC.AOU1          is.AFR          is.AMR          is.EAS \n",
       "     -3.1284601       0.9314192       0.1062199       0.3352995       0.1463734 \n",
       "         is.MID          is.OTH          is.SAS \n",
       "      0.3729127       0.3834593       0.4731200 "
      ]
     },
     "metadata": {},
     "output_type": "display_data"
    },
    {
     "data": {
      "text/html": [
       "<style>\n",
       ".dl-inline {width: auto; margin:0; padding: 0}\n",
       ".dl-inline>dt, .dl-inline>dd {float: none; width: auto; display: inline-block}\n",
       ".dl-inline>dt::after {content: \":\\0020\"; padding-right: .5ex}\n",
       ".dl-inline>dt:not(:first-of-type) {padding-left: .5ex}\n",
       "</style><dl class=dl-inline><dt>1</dt><dd>1.59</dd><dt>is.AFR</dt><dd>1.11</dd><dt>is.AMR</dt><dd>1.4</dd><dt>is.EAS</dt><dd>1.16</dd><dt>is.MID</dt><dd>1.45</dd><dt>is.OTH</dt><dd>1.47</dd><dt>is.SAS</dt><dd>1.6</dd></dl>\n"
      ],
      "text/latex": [
       "\\begin{description*}\n",
       "\\item[1] 1.59\n",
       "\\item[is.AFR] 1.11\n",
       "\\item[is.AMR] 1.4\n",
       "\\item[is.EAS] 1.16\n",
       "\\item[is.MID] 1.45\n",
       "\\item[is.OTH] 1.47\n",
       "\\item[is.SAS] 1.6\n",
       "\\end{description*}\n"
      ],
      "text/markdown": [
       "1\n",
       ":   1.59is.AFR\n",
       ":   1.11is.AMR\n",
       ":   1.4is.EAS\n",
       ":   1.16is.MID\n",
       ":   1.45is.OTH\n",
       ":   1.47is.SAS\n",
       ":   1.6\n",
       "\n"
      ],
      "text/plain": [
       "       is.AFR is.AMR is.EAS is.MID is.OTH is.SAS \n",
       "  1.59   1.11   1.40   1.16   1.45   1.47   1.60 "
      ]
     },
     "metadata": {},
     "output_type": "display_data"
    },
    {
     "data": {
      "text/html": [
       "<table class=\"dataframe\">\n",
       "<caption>A data.table: 7 × 3</caption>\n",
       "<thead>\n",
       "\t<tr><th scope=col>anc.col</th><th scope=col>OR1</th><th scope=col>p1</th></tr>\n",
       "\t<tr><th scope=col>&lt;chr&gt;</th><th scope=col>&lt;chr&gt;</th><th scope=col>&lt;chr&gt;</th></tr>\n",
       "</thead>\n",
       "<tbody>\n",
       "\t<tr><td>EUR</td><td>1.59</td><td>0   </td></tr>\n",
       "\t<tr><td>AFR</td><td>1.11</td><td>0.04</td></tr>\n",
       "\t<tr><td>AMR</td><td>1.4 </td><td>0.62</td></tr>\n",
       "\t<tr><td>EAS</td><td>1.16</td><td>0.53</td></tr>\n",
       "\t<tr><td>MID</td><td>1.45</td><td>0.68</td></tr>\n",
       "\t<tr><td>OTH</td><td>1.47</td><td>0.59</td></tr>\n",
       "\t<tr><td>SAS</td><td>1.6 </td><td>0.99</td></tr>\n",
       "</tbody>\n",
       "</table>\n"
      ],
      "text/latex": [
       "A data.table: 7 × 3\n",
       "\\begin{tabular}{lll}\n",
       " anc.col & OR1 & p1\\\\\n",
       " <chr> & <chr> & <chr>\\\\\n",
       "\\hline\n",
       "\t EUR & 1.59 & 0   \\\\\n",
       "\t AFR & 1.11 & 0.04\\\\\n",
       "\t AMR & 1.4  & 0.62\\\\\n",
       "\t EAS & 1.16 & 0.53\\\\\n",
       "\t MID & 1.45 & 0.68\\\\\n",
       "\t OTH & 1.47 & 0.59\\\\\n",
       "\t SAS & 1.6  & 0.99\\\\\n",
       "\\end{tabular}\n"
      ],
      "text/markdown": [
       "\n",
       "A data.table: 7 × 3\n",
       "\n",
       "| anc.col &lt;chr&gt; | OR1 &lt;chr&gt; | p1 &lt;chr&gt; |\n",
       "|---|---|---|\n",
       "| EUR | 1.59 | 0    |\n",
       "| AFR | 1.11 | 0.04 |\n",
       "| AMR | 1.4  | 0.62 |\n",
       "| EAS | 1.16 | 0.53 |\n",
       "| MID | 1.45 | 0.68 |\n",
       "| OTH | 1.47 | 0.59 |\n",
       "| SAS | 1.6  | 0.99 |\n",
       "\n"
      ],
      "text/plain": [
       "  anc.col OR1  p1  \n",
       "1 EUR     1.59 0   \n",
       "2 AFR     1.11 0.04\n",
       "3 AMR     1.4  0.62\n",
       "4 EAS     1.16 0.53\n",
       "5 MID     1.45 0.68\n",
       "6 OTH     1.47 0.59\n",
       "7 SAS     1.6  0.99"
      ]
     },
     "metadata": {},
     "output_type": "display_data"
    }
   ],
   "source": [
    "(glm1 <- summary(glm(CRC.status ~ PRS.BR.ANC.AOU1 + is.AFR + is.AMR + is.EAS + is.MID + is.OTH + is.SAS , \n",
    "                    data=merge2.dt,family=\"binomial\")))\n",
    "(beta1 <-  glm1$coef[,1])\n",
    "glm1$coef[,1]+glm1$coef[\"PRS.BR.ANC.AOU1\",1]\n",
    "(OR1 <- c(round(exp(glm1$coef[\"PRS.BR.ANC.AOU1\",1]),2) , round(exp(glm1$coef[c(3:8),1] + glm1$coef[\"PRS.BR.ANC.AOU1\",1]), 2)))\n",
    "p1 <-  round(glm1$coef[c(2:8),4],2)\n",
    "(PRS.BR.ANC.AOU1.table <- as.data.table(cbind(anc.col,OR1,p1)))"
   ]
  },
  {
   "cell_type": "code",
   "execution_count": null,
   "metadata": {},
   "outputs": [],
   "source": []
  },
  {
   "cell_type": "markdown",
   "metadata": {
    "heading_collapsed": true
   },
   "source": [
    "# Logistic model to get effect of % ancestries"
   ]
  },
  {
   "cell_type": "code",
   "execution_count": 12,
   "metadata": {
    "hidden": true
   },
   "outputs": [
    {
     "data": {
      "text/plain": [
       "\n",
       "Call:\n",
       "glm(formula = CRC.status ~ PRS + AFR + AMR + EAS + MID + SAS, \n",
       "    family = binomial, data = merge2.dt)\n",
       "\n",
       "Coefficients:\n",
       "            Estimate Std. Error z value Pr(>|z|)    \n",
       "(Intercept) -3.96388    0.10221 -38.783   <2e-16 ***\n",
       "PRS          0.99446    0.11887   8.366   <2e-16 ***\n",
       "AFR         -0.41943    0.19774  -2.121   0.0339 *  \n",
       "AMR         -0.04383    0.27971  -0.157   0.8755    \n",
       "EAS         -0.50056    0.55693  -0.899   0.3688    \n",
       "MID          0.36655    0.27643   1.326   0.1848    \n",
       "SAS          0.05596    0.73765   0.076   0.9395    \n",
       "---\n",
       "Signif. codes:  0 ‘***’ 0.001 ‘**’ 0.01 ‘*’ 0.05 ‘.’ 0.1 ‘ ’ 1\n",
       "\n",
       "(Dispersion parameter for binomial family taken to be 1)\n",
       "\n",
       "    Null deviance: 3191.4  on 12725  degrees of freedom\n",
       "Residual deviance: 3114.7  on 12719  degrees of freedom\n",
       "AIC: 3128.7\n",
       "\n",
       "Number of Fisher Scoring iterations: 6\n"
      ]
     },
     "metadata": {},
     "output_type": "display_data"
    },
    {
     "data": {
      "text/html": [
       "<style>\n",
       ".list-inline {list-style: none; margin:0; padding: 0}\n",
       ".list-inline>li {display: inline-block}\n",
       ".list-inline>li:not(:last-child)::after {content: \"\\00b7\"; padding: 0 .5ex}\n",
       "</style>\n",
       "<ol class=list-inline><li>'call'</li><li>'terms'</li><li>'family'</li><li>'deviance'</li><li>'aic'</li><li>'contrasts'</li><li>'df.residual'</li><li>'null.deviance'</li><li>'df.null'</li><li>'iter'</li><li>'deviance.resid'</li><li>'coefficients'</li><li>'aliased'</li><li>'dispersion'</li><li>'df'</li><li>'cov.unscaled'</li><li>'cov.scaled'</li></ol>\n"
      ],
      "text/latex": [
       "\\begin{enumerate*}\n",
       "\\item 'call'\n",
       "\\item 'terms'\n",
       "\\item 'family'\n",
       "\\item 'deviance'\n",
       "\\item 'aic'\n",
       "\\item 'contrasts'\n",
       "\\item 'df.residual'\n",
       "\\item 'null.deviance'\n",
       "\\item 'df.null'\n",
       "\\item 'iter'\n",
       "\\item 'deviance.resid'\n",
       "\\item 'coefficients'\n",
       "\\item 'aliased'\n",
       "\\item 'dispersion'\n",
       "\\item 'df'\n",
       "\\item 'cov.unscaled'\n",
       "\\item 'cov.scaled'\n",
       "\\end{enumerate*}\n"
      ],
      "text/markdown": [
       "1. 'call'\n",
       "2. 'terms'\n",
       "3. 'family'\n",
       "4. 'deviance'\n",
       "5. 'aic'\n",
       "6. 'contrasts'\n",
       "7. 'df.residual'\n",
       "8. 'null.deviance'\n",
       "9. 'df.null'\n",
       "10. 'iter'\n",
       "11. 'deviance.resid'\n",
       "12. 'coefficients'\n",
       "13. 'aliased'\n",
       "14. 'dispersion'\n",
       "15. 'df'\n",
       "16. 'cov.unscaled'\n",
       "17. 'cov.scaled'\n",
       "\n",
       "\n"
      ],
      "text/plain": [
       " [1] \"call\"           \"terms\"          \"family\"         \"deviance\"      \n",
       " [5] \"aic\"            \"contrasts\"      \"df.residual\"    \"null.deviance\" \n",
       " [9] \"df.null\"        \"iter\"           \"deviance.resid\" \"coefficients\"  \n",
       "[13] \"aliased\"        \"dispersion\"     \"df\"             \"cov.unscaled\"  \n",
       "[17] \"cov.scaled\"    "
      ]
     },
     "metadata": {},
     "output_type": "display_data"
    },
    {
     "data": {
      "text/html": [
       "<table class=\"dataframe\">\n",
       "<caption>A data.table: 7 × 3</caption>\n",
       "<thead>\n",
       "\t<tr><th scope=col>V1</th><th scope=col>Estimate</th><th scope=col>Pr(&gt;|z|)</th></tr>\n",
       "\t<tr><th scope=col>&lt;chr&gt;</th><th scope=col>&lt;chr&gt;</th><th scope=col>&lt;chr&gt;</th></tr>\n",
       "</thead>\n",
       "<tbody>\n",
       "\t<tr><td>(Intercept)</td><td>-3.9638788461792   </td><td>0                   </td></tr>\n",
       "\t<tr><td>PRS        </td><td>0.994457433354494  </td><td>5.95765708346203e-17</td></tr>\n",
       "\t<tr><td>AFR        </td><td>-0.419430623638363 </td><td>0.0339126546859659  </td></tr>\n",
       "\t<tr><td>AMR        </td><td>-0.0438279164315118</td><td>0.875488826186392   </td></tr>\n",
       "\t<tr><td>EAS        </td><td>-0.500563896211257 </td><td>0.368759584658337   </td></tr>\n",
       "\t<tr><td>MID        </td><td>0.366549953044384  </td><td>0.184833418550288   </td></tr>\n",
       "\t<tr><td>SAS        </td><td>0.0559564860477948 </td><td>0.93953194879335    </td></tr>\n",
       "</tbody>\n",
       "</table>\n"
      ],
      "text/latex": [
       "A data.table: 7 × 3\n",
       "\\begin{tabular}{lll}\n",
       " V1 & Estimate & Pr(>\\textbar{}z\\textbar{})\\\\\n",
       " <chr> & <chr> & <chr>\\\\\n",
       "\\hline\n",
       "\t (Intercept) & -3.9638788461792    & 0                   \\\\\n",
       "\t PRS         & 0.994457433354494   & 5.95765708346203e-17\\\\\n",
       "\t AFR         & -0.419430623638363  & 0.0339126546859659  \\\\\n",
       "\t AMR         & -0.0438279164315118 & 0.875488826186392   \\\\\n",
       "\t EAS         & -0.500563896211257  & 0.368759584658337   \\\\\n",
       "\t MID         & 0.366549953044384   & 0.184833418550288   \\\\\n",
       "\t SAS         & 0.0559564860477948  & 0.93953194879335    \\\\\n",
       "\\end{tabular}\n"
      ],
      "text/markdown": [
       "\n",
       "A data.table: 7 × 3\n",
       "\n",
       "| V1 &lt;chr&gt; | Estimate &lt;chr&gt; | Pr(&gt;|z|) &lt;chr&gt; |\n",
       "|---|---|---|\n",
       "| (Intercept) | -3.9638788461792    | 0                    |\n",
       "| PRS         | 0.994457433354494   | 5.95765708346203e-17 |\n",
       "| AFR         | -0.419430623638363  | 0.0339126546859659   |\n",
       "| AMR         | -0.0438279164315118 | 0.875488826186392    |\n",
       "| EAS         | -0.500563896211257  | 0.368759584658337    |\n",
       "| MID         | 0.366549953044384   | 0.184833418550288    |\n",
       "| SAS         | 0.0559564860477948  | 0.93953194879335     |\n",
       "\n"
      ],
      "text/plain": [
       "  V1          Estimate            Pr(>|z|)            \n",
       "1 (Intercept) -3.9638788461792    0                   \n",
       "2 PRS         0.994457433354494   5.95765708346203e-17\n",
       "3 AFR         -0.419430623638363  0.0339126546859659  \n",
       "4 AMR         -0.0438279164315118 0.875488826186392   \n",
       "5 EAS         -0.500563896211257  0.368759584658337   \n",
       "6 MID         0.366549953044384   0.184833418550288   \n",
       "7 SAS         0.0559564860477948  0.93953194879335    "
      ]
     },
     "metadata": {},
     "output_type": "display_data"
    },
    {
     "data": {
      "text/html": [
       "<table class=\"dataframe\">\n",
       "<caption>A data.table: 7 × 3</caption>\n",
       "<thead>\n",
       "\t<tr><th scope=col>cov</th><th scope=col>beta</th><th scope=col>p</th></tr>\n",
       "\t<tr><th scope=col>&lt;chr&gt;</th><th scope=col>&lt;chr&gt;</th><th scope=col>&lt;chr&gt;</th></tr>\n",
       "</thead>\n",
       "<tbody>\n",
       "\t<tr><td>(Intercept)</td><td>-3.9638788461792   </td><td>0                   </td></tr>\n",
       "\t<tr><td>PRS        </td><td>0.994457433354494  </td><td>5.95765708346203e-17</td></tr>\n",
       "\t<tr><td>AFR        </td><td>-0.419430623638363 </td><td>0.0339126546859659  </td></tr>\n",
       "\t<tr><td>AMR        </td><td>-0.0438279164315118</td><td>0.875488826186392   </td></tr>\n",
       "\t<tr><td>EAS        </td><td>-0.500563896211257 </td><td>0.368759584658337   </td></tr>\n",
       "\t<tr><td>MID        </td><td>0.366549953044384  </td><td>0.184833418550288   </td></tr>\n",
       "\t<tr><td>SAS        </td><td>0.0559564860477948 </td><td>0.93953194879335    </td></tr>\n",
       "</tbody>\n",
       "</table>\n"
      ],
      "text/latex": [
       "A data.table: 7 × 3\n",
       "\\begin{tabular}{lll}\n",
       " cov & beta & p\\\\\n",
       " <chr> & <chr> & <chr>\\\\\n",
       "\\hline\n",
       "\t (Intercept) & -3.9638788461792    & 0                   \\\\\n",
       "\t PRS         & 0.994457433354494   & 5.95765708346203e-17\\\\\n",
       "\t AFR         & -0.419430623638363  & 0.0339126546859659  \\\\\n",
       "\t AMR         & -0.0438279164315118 & 0.875488826186392   \\\\\n",
       "\t EAS         & -0.500563896211257  & 0.368759584658337   \\\\\n",
       "\t MID         & 0.366549953044384   & 0.184833418550288   \\\\\n",
       "\t SAS         & 0.0559564860477948  & 0.93953194879335    \\\\\n",
       "\\end{tabular}\n"
      ],
      "text/markdown": [
       "\n",
       "A data.table: 7 × 3\n",
       "\n",
       "| cov &lt;chr&gt; | beta &lt;chr&gt; | p &lt;chr&gt; |\n",
       "|---|---|---|\n",
       "| (Intercept) | -3.9638788461792    | 0                    |\n",
       "| PRS         | 0.994457433354494   | 5.95765708346203e-17 |\n",
       "| AFR         | -0.419430623638363  | 0.0339126546859659   |\n",
       "| AMR         | -0.0438279164315118 | 0.875488826186392    |\n",
       "| EAS         | -0.500563896211257  | 0.368759584658337    |\n",
       "| MID         | 0.366549953044384   | 0.184833418550288    |\n",
       "| SAS         | 0.0559564860477948  | 0.93953194879335     |\n",
       "\n"
      ],
      "text/plain": [
       "  cov         beta                p                   \n",
       "1 (Intercept) -3.9638788461792    0                   \n",
       "2 PRS         0.994457433354494   5.95765708346203e-17\n",
       "3 AFR         -0.419430623638363  0.0339126546859659  \n",
       "4 AMR         -0.0438279164315118 0.875488826186392   \n",
       "5 EAS         -0.500563896211257  0.368759584658337   \n",
       "6 MID         0.366549953044384   0.184833418550288   \n",
       "7 SAS         0.0559564860477948  0.93953194879335    "
      ]
     },
     "metadata": {},
     "output_type": "display_data"
    },
    {
     "data": {
      "text/html": [
       "<table class=\"dataframe\">\n",
       "<caption>A data.table: 7 × 3</caption>\n",
       "<thead>\n",
       "\t<tr><th scope=col>cov</th><th scope=col>beta</th><th scope=col>p</th></tr>\n",
       "\t<tr><th scope=col>&lt;chr&gt;</th><th scope=col>&lt;dbl&gt;</th><th scope=col>&lt;chr&gt;</th></tr>\n",
       "</thead>\n",
       "<tbody>\n",
       "\t<tr><td>(Intercept)</td><td>-3.96</td><td>0.0e+00</td></tr>\n",
       "\t<tr><td>PRS        </td><td> 0.99</td><td>6.0e-17</td></tr>\n",
       "\t<tr><td>AFR        </td><td>-0.42</td><td>3.4e-02</td></tr>\n",
       "\t<tr><td>AMR        </td><td>-0.04</td><td>8.8e-01</td></tr>\n",
       "\t<tr><td>EAS        </td><td>-0.50</td><td>3.7e-01</td></tr>\n",
       "\t<tr><td>MID        </td><td> 0.37</td><td>1.8e-01</td></tr>\n",
       "\t<tr><td>SAS        </td><td> 0.06</td><td>9.4e-01</td></tr>\n",
       "</tbody>\n",
       "</table>\n"
      ],
      "text/latex": [
       "A data.table: 7 × 3\n",
       "\\begin{tabular}{lll}\n",
       " cov & beta & p\\\\\n",
       " <chr> & <dbl> & <chr>\\\\\n",
       "\\hline\n",
       "\t (Intercept) & -3.96 & 0.0e+00\\\\\n",
       "\t PRS         &  0.99 & 6.0e-17\\\\\n",
       "\t AFR         & -0.42 & 3.4e-02\\\\\n",
       "\t AMR         & -0.04 & 8.8e-01\\\\\n",
       "\t EAS         & -0.50 & 3.7e-01\\\\\n",
       "\t MID         &  0.37 & 1.8e-01\\\\\n",
       "\t SAS         &  0.06 & 9.4e-01\\\\\n",
       "\\end{tabular}\n"
      ],
      "text/markdown": [
       "\n",
       "A data.table: 7 × 3\n",
       "\n",
       "| cov &lt;chr&gt; | beta &lt;dbl&gt; | p &lt;chr&gt; |\n",
       "|---|---|---|\n",
       "| (Intercept) | -3.96 | 0.0e+00 |\n",
       "| PRS         |  0.99 | 6.0e-17 |\n",
       "| AFR         | -0.42 | 3.4e-02 |\n",
       "| AMR         | -0.04 | 8.8e-01 |\n",
       "| EAS         | -0.50 | 3.7e-01 |\n",
       "| MID         |  0.37 | 1.8e-01 |\n",
       "| SAS         |  0.06 | 9.4e-01 |\n",
       "\n"
      ],
      "text/plain": [
       "  cov         beta  p      \n",
       "1 (Intercept) -3.96 0.0e+00\n",
       "2 PRS          0.99 6.0e-17\n",
       "3 AFR         -0.42 3.4e-02\n",
       "4 AMR         -0.04 8.8e-01\n",
       "5 EAS         -0.50 3.7e-01\n",
       "6 MID          0.37 1.8e-01\n",
       "7 SAS          0.06 9.4e-01"
      ]
     },
     "metadata": {},
     "output_type": "display_data"
    }
   ],
   "source": [
    "my.model <- glm(CRC.status ~ PRS + AFR + AMR + EAS + MID + SAS, family=binomial, data=merge2.dt)\n",
    "(summary.my.model <- summary(my.model))\n",
    "names(summary.my.model)\n",
    "out.table <- data.table(cbind(rownames(summary.my.model$coeff),summary.my.model$coef[,c(1,4)]))\n",
    "out.table\n",
    "setnames(out.table,c(\"cov\",\"beta\",\"p\"))\n",
    "out.table\n",
    "out.table[,beta:=round(as.numeric(beta),2)]\n",
    "out.table[,p:=format(as.numeric(p),format=\"e\",digits=2)]\n",
    "out.table"
   ]
  },
  {
   "cell_type": "code",
   "execution_count": 13,
   "metadata": {
    "hidden": true
   },
   "outputs": [
    {
     "data": {
      "text/plain": [
       "\n",
       "Call:\n",
       "glm(formula = CRC.status ~ PRS + AFR, family = binomial, data = merge2.dt)\n",
       "\n",
       "Coefficients:\n",
       "            Estimate Std. Error z value Pr(>|z|)    \n",
       "(Intercept)  -3.9223     0.0869 -45.138   <2e-16 ***\n",
       "PRS           0.9623     0.1164   8.270   <2e-16 ***\n",
       "AFR          -0.4452     0.1940  -2.294   0.0218 *  \n",
       "---\n",
       "Signif. codes:  0 ‘***’ 0.001 ‘**’ 0.01 ‘*’ 0.05 ‘.’ 0.1 ‘ ’ 1\n",
       "\n",
       "(Dispersion parameter for binomial family taken to be 1)\n",
       "\n",
       "    Null deviance: 3191.4  on 12725  degrees of freedom\n",
       "Residual deviance: 3117.3  on 12723  degrees of freedom\n",
       "AIC: 3123.3\n",
       "\n",
       "Number of Fisher Scoring iterations: 6\n"
      ]
     },
     "metadata": {},
     "output_type": "display_data"
    },
    {
     "data": {
      "text/html": [
       "<style>\n",
       ".list-inline {list-style: none; margin:0; padding: 0}\n",
       ".list-inline>li {display: inline-block}\n",
       ".list-inline>li:not(:last-child)::after {content: \"\\00b7\"; padding: 0 .5ex}\n",
       "</style>\n",
       "<ol class=list-inline><li>'call'</li><li>'terms'</li><li>'family'</li><li>'deviance'</li><li>'aic'</li><li>'contrasts'</li><li>'df.residual'</li><li>'null.deviance'</li><li>'df.null'</li><li>'iter'</li><li>'deviance.resid'</li><li>'coefficients'</li><li>'aliased'</li><li>'dispersion'</li><li>'df'</li><li>'cov.unscaled'</li><li>'cov.scaled'</li></ol>\n"
      ],
      "text/latex": [
       "\\begin{enumerate*}\n",
       "\\item 'call'\n",
       "\\item 'terms'\n",
       "\\item 'family'\n",
       "\\item 'deviance'\n",
       "\\item 'aic'\n",
       "\\item 'contrasts'\n",
       "\\item 'df.residual'\n",
       "\\item 'null.deviance'\n",
       "\\item 'df.null'\n",
       "\\item 'iter'\n",
       "\\item 'deviance.resid'\n",
       "\\item 'coefficients'\n",
       "\\item 'aliased'\n",
       "\\item 'dispersion'\n",
       "\\item 'df'\n",
       "\\item 'cov.unscaled'\n",
       "\\item 'cov.scaled'\n",
       "\\end{enumerate*}\n"
      ],
      "text/markdown": [
       "1. 'call'\n",
       "2. 'terms'\n",
       "3. 'family'\n",
       "4. 'deviance'\n",
       "5. 'aic'\n",
       "6. 'contrasts'\n",
       "7. 'df.residual'\n",
       "8. 'null.deviance'\n",
       "9. 'df.null'\n",
       "10. 'iter'\n",
       "11. 'deviance.resid'\n",
       "12. 'coefficients'\n",
       "13. 'aliased'\n",
       "14. 'dispersion'\n",
       "15. 'df'\n",
       "16. 'cov.unscaled'\n",
       "17. 'cov.scaled'\n",
       "\n",
       "\n"
      ],
      "text/plain": [
       " [1] \"call\"           \"terms\"          \"family\"         \"deviance\"      \n",
       " [5] \"aic\"            \"contrasts\"      \"df.residual\"    \"null.deviance\" \n",
       " [9] \"df.null\"        \"iter\"           \"deviance.resid\" \"coefficients\"  \n",
       "[13] \"aliased\"        \"dispersion\"     \"df\"             \"cov.unscaled\"  \n",
       "[17] \"cov.scaled\"    "
      ]
     },
     "metadata": {},
     "output_type": "display_data"
    },
    {
     "data": {
      "text/html": [
       "<table class=\"dataframe\">\n",
       "<caption>A data.table: 3 × 3</caption>\n",
       "<thead>\n",
       "\t<tr><th scope=col>V1</th><th scope=col>Estimate</th><th scope=col>Pr(&gt;|z|)</th></tr>\n",
       "\t<tr><th scope=col>&lt;chr&gt;</th><th scope=col>&lt;chr&gt;</th><th scope=col>&lt;chr&gt;</th></tr>\n",
       "</thead>\n",
       "<tbody>\n",
       "\t<tr><td>(Intercept)</td><td>-3.9223049199017  </td><td>0                   </td></tr>\n",
       "\t<tr><td>PRS        </td><td>0.962290244480654 </td><td>1.34021183417557e-16</td></tr>\n",
       "\t<tr><td>AFR        </td><td>-0.445180338693074</td><td>0.021778213157467   </td></tr>\n",
       "</tbody>\n",
       "</table>\n"
      ],
      "text/latex": [
       "A data.table: 3 × 3\n",
       "\\begin{tabular}{lll}\n",
       " V1 & Estimate & Pr(>\\textbar{}z\\textbar{})\\\\\n",
       " <chr> & <chr> & <chr>\\\\\n",
       "\\hline\n",
       "\t (Intercept) & -3.9223049199017   & 0                   \\\\\n",
       "\t PRS         & 0.962290244480654  & 1.34021183417557e-16\\\\\n",
       "\t AFR         & -0.445180338693074 & 0.021778213157467   \\\\\n",
       "\\end{tabular}\n"
      ],
      "text/markdown": [
       "\n",
       "A data.table: 3 × 3\n",
       "\n",
       "| V1 &lt;chr&gt; | Estimate &lt;chr&gt; | Pr(&gt;|z|) &lt;chr&gt; |\n",
       "|---|---|---|\n",
       "| (Intercept) | -3.9223049199017   | 0                    |\n",
       "| PRS         | 0.962290244480654  | 1.34021183417557e-16 |\n",
       "| AFR         | -0.445180338693074 | 0.021778213157467    |\n",
       "\n"
      ],
      "text/plain": [
       "  V1          Estimate           Pr(>|z|)            \n",
       "1 (Intercept) -3.9223049199017   0                   \n",
       "2 PRS         0.962290244480654  1.34021183417557e-16\n",
       "3 AFR         -0.445180338693074 0.021778213157467   "
      ]
     },
     "metadata": {},
     "output_type": "display_data"
    },
    {
     "data": {
      "text/html": [
       "<table class=\"dataframe\">\n",
       "<caption>A data.table: 3 × 3</caption>\n",
       "<thead>\n",
       "\t<tr><th scope=col>cov</th><th scope=col>beta</th><th scope=col>p</th></tr>\n",
       "\t<tr><th scope=col>&lt;chr&gt;</th><th scope=col>&lt;chr&gt;</th><th scope=col>&lt;chr&gt;</th></tr>\n",
       "</thead>\n",
       "<tbody>\n",
       "\t<tr><td>(Intercept)</td><td>-3.9223049199017  </td><td>0                   </td></tr>\n",
       "\t<tr><td>PRS        </td><td>0.962290244480654 </td><td>1.34021183417557e-16</td></tr>\n",
       "\t<tr><td>AFR        </td><td>-0.445180338693074</td><td>0.021778213157467   </td></tr>\n",
       "</tbody>\n",
       "</table>\n"
      ],
      "text/latex": [
       "A data.table: 3 × 3\n",
       "\\begin{tabular}{lll}\n",
       " cov & beta & p\\\\\n",
       " <chr> & <chr> & <chr>\\\\\n",
       "\\hline\n",
       "\t (Intercept) & -3.9223049199017   & 0                   \\\\\n",
       "\t PRS         & 0.962290244480654  & 1.34021183417557e-16\\\\\n",
       "\t AFR         & -0.445180338693074 & 0.021778213157467   \\\\\n",
       "\\end{tabular}\n"
      ],
      "text/markdown": [
       "\n",
       "A data.table: 3 × 3\n",
       "\n",
       "| cov &lt;chr&gt; | beta &lt;chr&gt; | p &lt;chr&gt; |\n",
       "|---|---|---|\n",
       "| (Intercept) | -3.9223049199017   | 0                    |\n",
       "| PRS         | 0.962290244480654  | 1.34021183417557e-16 |\n",
       "| AFR         | -0.445180338693074 | 0.021778213157467    |\n",
       "\n"
      ],
      "text/plain": [
       "  cov         beta               p                   \n",
       "1 (Intercept) -3.9223049199017   0                   \n",
       "2 PRS         0.962290244480654  1.34021183417557e-16\n",
       "3 AFR         -0.445180338693074 0.021778213157467   "
      ]
     },
     "metadata": {},
     "output_type": "display_data"
    },
    {
     "data": {
      "text/html": [
       "<table class=\"dataframe\">\n",
       "<caption>A data.table: 3 × 3</caption>\n",
       "<thead>\n",
       "\t<tr><th scope=col>cov</th><th scope=col>beta</th><th scope=col>p</th></tr>\n",
       "\t<tr><th scope=col>&lt;chr&gt;</th><th scope=col>&lt;dbl&gt;</th><th scope=col>&lt;chr&gt;</th></tr>\n",
       "</thead>\n",
       "<tbody>\n",
       "\t<tr><td>(Intercept)</td><td>-3.92</td><td>0.0e+00</td></tr>\n",
       "\t<tr><td>PRS        </td><td> 0.96</td><td>1.3e-16</td></tr>\n",
       "\t<tr><td>AFR        </td><td>-0.45</td><td>2.2e-02</td></tr>\n",
       "</tbody>\n",
       "</table>\n"
      ],
      "text/latex": [
       "A data.table: 3 × 3\n",
       "\\begin{tabular}{lll}\n",
       " cov & beta & p\\\\\n",
       " <chr> & <dbl> & <chr>\\\\\n",
       "\\hline\n",
       "\t (Intercept) & -3.92 & 0.0e+00\\\\\n",
       "\t PRS         &  0.96 & 1.3e-16\\\\\n",
       "\t AFR         & -0.45 & 2.2e-02\\\\\n",
       "\\end{tabular}\n"
      ],
      "text/markdown": [
       "\n",
       "A data.table: 3 × 3\n",
       "\n",
       "| cov &lt;chr&gt; | beta &lt;dbl&gt; | p &lt;chr&gt; |\n",
       "|---|---|---|\n",
       "| (Intercept) | -3.92 | 0.0e+00 |\n",
       "| PRS         |  0.96 | 1.3e-16 |\n",
       "| AFR         | -0.45 | 2.2e-02 |\n",
       "\n"
      ],
      "text/plain": [
       "  cov         beta  p      \n",
       "1 (Intercept) -3.92 0.0e+00\n",
       "2 PRS          0.96 1.3e-16\n",
       "3 AFR         -0.45 2.2e-02"
      ]
     },
     "metadata": {},
     "output_type": "display_data"
    }
   ],
   "source": [
    "# what if I just compare AFR percent to everyone else and not just EUR\n",
    "my.model <- glm(CRC.status ~ PRS + AFR, family=binomial, data=merge2.dt)\n",
    "(summary.my.model <- summary(my.model))\n",
    "names(summary.my.model)\n",
    "out.table <- data.table(cbind(rownames(summary.my.model$coeff),summary.my.model$coef[,c(1,4)]))\n",
    "out.table\n",
    "setnames(out.table,c(\"cov\",\"beta\",\"p\"))\n",
    "out.table\n",
    "out.table[,beta:=round(as.numeric(beta),2)]\n",
    "out.table[,p:=format(as.numeric(p),format=\"e\",digits=2)]\n",
    "out.table"
   ]
  },
  {
   "cell_type": "code",
   "execution_count": 14,
   "metadata": {
    "hidden": true
   },
   "outputs": [
    {
     "data": {
      "text/plain": [
       "\n",
       "Call:\n",
       "glm(formula = CRC.status ~ PRS + AFR + PRS * AFR, family = binomial, \n",
       "    data = merge2.dt)\n",
       "\n",
       "Coefficients:\n",
       "            Estimate Std. Error z value Pr(>|z|)    \n",
       "(Intercept) -3.93636    0.09136 -43.087  < 2e-16 ***\n",
       "PRS          0.98856    0.12668   7.804 6.01e-15 ***\n",
       "AFR         -0.31485    0.30998  -1.016    0.310    \n",
       "PRS:AFR     -0.24934    0.47308  -0.527    0.598    \n",
       "---\n",
       "Signif. codes:  0 ‘***’ 0.001 ‘**’ 0.01 ‘*’ 0.05 ‘.’ 0.1 ‘ ’ 1\n",
       "\n",
       "(Dispersion parameter for binomial family taken to be 1)\n",
       "\n",
       "    Null deviance: 3191.4  on 12725  degrees of freedom\n",
       "Residual deviance: 3117.1  on 12722  degrees of freedom\n",
       "AIC: 3125.1\n",
       "\n",
       "Number of Fisher Scoring iterations: 6\n"
      ]
     },
     "metadata": {},
     "output_type": "display_data"
    },
    {
     "data": {
      "text/html": [
       "<style>\n",
       ".list-inline {list-style: none; margin:0; padding: 0}\n",
       ".list-inline>li {display: inline-block}\n",
       ".list-inline>li:not(:last-child)::after {content: \"\\00b7\"; padding: 0 .5ex}\n",
       "</style>\n",
       "<ol class=list-inline><li>'call'</li><li>'terms'</li><li>'family'</li><li>'deviance'</li><li>'aic'</li><li>'contrasts'</li><li>'df.residual'</li><li>'null.deviance'</li><li>'df.null'</li><li>'iter'</li><li>'deviance.resid'</li><li>'coefficients'</li><li>'aliased'</li><li>'dispersion'</li><li>'df'</li><li>'cov.unscaled'</li><li>'cov.scaled'</li></ol>\n"
      ],
      "text/latex": [
       "\\begin{enumerate*}\n",
       "\\item 'call'\n",
       "\\item 'terms'\n",
       "\\item 'family'\n",
       "\\item 'deviance'\n",
       "\\item 'aic'\n",
       "\\item 'contrasts'\n",
       "\\item 'df.residual'\n",
       "\\item 'null.deviance'\n",
       "\\item 'df.null'\n",
       "\\item 'iter'\n",
       "\\item 'deviance.resid'\n",
       "\\item 'coefficients'\n",
       "\\item 'aliased'\n",
       "\\item 'dispersion'\n",
       "\\item 'df'\n",
       "\\item 'cov.unscaled'\n",
       "\\item 'cov.scaled'\n",
       "\\end{enumerate*}\n"
      ],
      "text/markdown": [
       "1. 'call'\n",
       "2. 'terms'\n",
       "3. 'family'\n",
       "4. 'deviance'\n",
       "5. 'aic'\n",
       "6. 'contrasts'\n",
       "7. 'df.residual'\n",
       "8. 'null.deviance'\n",
       "9. 'df.null'\n",
       "10. 'iter'\n",
       "11. 'deviance.resid'\n",
       "12. 'coefficients'\n",
       "13. 'aliased'\n",
       "14. 'dispersion'\n",
       "15. 'df'\n",
       "16. 'cov.unscaled'\n",
       "17. 'cov.scaled'\n",
       "\n",
       "\n"
      ],
      "text/plain": [
       " [1] \"call\"           \"terms\"          \"family\"         \"deviance\"      \n",
       " [5] \"aic\"            \"contrasts\"      \"df.residual\"    \"null.deviance\" \n",
       " [9] \"df.null\"        \"iter\"           \"deviance.resid\" \"coefficients\"  \n",
       "[13] \"aliased\"        \"dispersion\"     \"df\"             \"cov.unscaled\"  \n",
       "[17] \"cov.scaled\"    "
      ]
     },
     "metadata": {},
     "output_type": "display_data"
    },
    {
     "data": {
      "text/html": [
       "<table class=\"dataframe\">\n",
       "<caption>A data.table: 4 × 3</caption>\n",
       "<thead>\n",
       "\t<tr><th scope=col>V1</th><th scope=col>Estimate</th><th scope=col>Pr(&gt;|z|)</th></tr>\n",
       "\t<tr><th scope=col>&lt;chr&gt;</th><th scope=col>&lt;chr&gt;</th><th scope=col>&lt;chr&gt;</th></tr>\n",
       "</thead>\n",
       "<tbody>\n",
       "\t<tr><td>(Intercept)</td><td>-3.93636270287796 </td><td>0                   </td></tr>\n",
       "\t<tr><td>PRS        </td><td>0.988558391934532 </td><td>6.00741191772496e-15</td></tr>\n",
       "\t<tr><td>AFR        </td><td>-0.314854228868908</td><td>0.309757395372478   </td></tr>\n",
       "\t<tr><td>PRS:AFR    </td><td>-0.249341996172825</td><td>0.598153524323815   </td></tr>\n",
       "</tbody>\n",
       "</table>\n"
      ],
      "text/latex": [
       "A data.table: 4 × 3\n",
       "\\begin{tabular}{lll}\n",
       " V1 & Estimate & Pr(>\\textbar{}z\\textbar{})\\\\\n",
       " <chr> & <chr> & <chr>\\\\\n",
       "\\hline\n",
       "\t (Intercept) & -3.93636270287796  & 0                   \\\\\n",
       "\t PRS         & 0.988558391934532  & 6.00741191772496e-15\\\\\n",
       "\t AFR         & -0.314854228868908 & 0.309757395372478   \\\\\n",
       "\t PRS:AFR     & -0.249341996172825 & 0.598153524323815   \\\\\n",
       "\\end{tabular}\n"
      ],
      "text/markdown": [
       "\n",
       "A data.table: 4 × 3\n",
       "\n",
       "| V1 &lt;chr&gt; | Estimate &lt;chr&gt; | Pr(&gt;|z|) &lt;chr&gt; |\n",
       "|---|---|---|\n",
       "| (Intercept) | -3.93636270287796  | 0                    |\n",
       "| PRS         | 0.988558391934532  | 6.00741191772496e-15 |\n",
       "| AFR         | -0.314854228868908 | 0.309757395372478    |\n",
       "| PRS:AFR     | -0.249341996172825 | 0.598153524323815    |\n",
       "\n"
      ],
      "text/plain": [
       "  V1          Estimate           Pr(>|z|)            \n",
       "1 (Intercept) -3.93636270287796  0                   \n",
       "2 PRS         0.988558391934532  6.00741191772496e-15\n",
       "3 AFR         -0.314854228868908 0.309757395372478   \n",
       "4 PRS:AFR     -0.249341996172825 0.598153524323815   "
      ]
     },
     "metadata": {},
     "output_type": "display_data"
    },
    {
     "data": {
      "text/html": [
       "<table class=\"dataframe\">\n",
       "<caption>A data.table: 4 × 3</caption>\n",
       "<thead>\n",
       "\t<tr><th scope=col>cov</th><th scope=col>beta</th><th scope=col>p</th></tr>\n",
       "\t<tr><th scope=col>&lt;chr&gt;</th><th scope=col>&lt;chr&gt;</th><th scope=col>&lt;chr&gt;</th></tr>\n",
       "</thead>\n",
       "<tbody>\n",
       "\t<tr><td>(Intercept)</td><td>-3.93636270287796 </td><td>0                   </td></tr>\n",
       "\t<tr><td>PRS        </td><td>0.988558391934532 </td><td>6.00741191772496e-15</td></tr>\n",
       "\t<tr><td>AFR        </td><td>-0.314854228868908</td><td>0.309757395372478   </td></tr>\n",
       "\t<tr><td>PRS:AFR    </td><td>-0.249341996172825</td><td>0.598153524323815   </td></tr>\n",
       "</tbody>\n",
       "</table>\n"
      ],
      "text/latex": [
       "A data.table: 4 × 3\n",
       "\\begin{tabular}{lll}\n",
       " cov & beta & p\\\\\n",
       " <chr> & <chr> & <chr>\\\\\n",
       "\\hline\n",
       "\t (Intercept) & -3.93636270287796  & 0                   \\\\\n",
       "\t PRS         & 0.988558391934532  & 6.00741191772496e-15\\\\\n",
       "\t AFR         & -0.314854228868908 & 0.309757395372478   \\\\\n",
       "\t PRS:AFR     & -0.249341996172825 & 0.598153524323815   \\\\\n",
       "\\end{tabular}\n"
      ],
      "text/markdown": [
       "\n",
       "A data.table: 4 × 3\n",
       "\n",
       "| cov &lt;chr&gt; | beta &lt;chr&gt; | p &lt;chr&gt; |\n",
       "|---|---|---|\n",
       "| (Intercept) | -3.93636270287796  | 0                    |\n",
       "| PRS         | 0.988558391934532  | 6.00741191772496e-15 |\n",
       "| AFR         | -0.314854228868908 | 0.309757395372478    |\n",
       "| PRS:AFR     | -0.249341996172825 | 0.598153524323815    |\n",
       "\n"
      ],
      "text/plain": [
       "  cov         beta               p                   \n",
       "1 (Intercept) -3.93636270287796  0                   \n",
       "2 PRS         0.988558391934532  6.00741191772496e-15\n",
       "3 AFR         -0.314854228868908 0.309757395372478   \n",
       "4 PRS:AFR     -0.249341996172825 0.598153524323815   "
      ]
     },
     "metadata": {},
     "output_type": "display_data"
    },
    {
     "data": {
      "text/html": [
       "<table class=\"dataframe\">\n",
       "<caption>A data.table: 4 × 3</caption>\n",
       "<thead>\n",
       "\t<tr><th scope=col>cov</th><th scope=col>beta</th><th scope=col>p</th></tr>\n",
       "\t<tr><th scope=col>&lt;chr&gt;</th><th scope=col>&lt;dbl&gt;</th><th scope=col>&lt;chr&gt;</th></tr>\n",
       "</thead>\n",
       "<tbody>\n",
       "\t<tr><td>(Intercept)</td><td>-3.94</td><td>0.0e+00</td></tr>\n",
       "\t<tr><td>PRS        </td><td> 0.99</td><td>6.0e-15</td></tr>\n",
       "\t<tr><td>AFR        </td><td>-0.31</td><td>3.1e-01</td></tr>\n",
       "\t<tr><td>PRS:AFR    </td><td>-0.25</td><td>6.0e-01</td></tr>\n",
       "</tbody>\n",
       "</table>\n"
      ],
      "text/latex": [
       "A data.table: 4 × 3\n",
       "\\begin{tabular}{lll}\n",
       " cov & beta & p\\\\\n",
       " <chr> & <dbl> & <chr>\\\\\n",
       "\\hline\n",
       "\t (Intercept) & -3.94 & 0.0e+00\\\\\n",
       "\t PRS         &  0.99 & 6.0e-15\\\\\n",
       "\t AFR         & -0.31 & 3.1e-01\\\\\n",
       "\t PRS:AFR     & -0.25 & 6.0e-01\\\\\n",
       "\\end{tabular}\n"
      ],
      "text/markdown": [
       "\n",
       "A data.table: 4 × 3\n",
       "\n",
       "| cov &lt;chr&gt; | beta &lt;dbl&gt; | p &lt;chr&gt; |\n",
       "|---|---|---|\n",
       "| (Intercept) | -3.94 | 0.0e+00 |\n",
       "| PRS         |  0.99 | 6.0e-15 |\n",
       "| AFR         | -0.31 | 3.1e-01 |\n",
       "| PRS:AFR     | -0.25 | 6.0e-01 |\n",
       "\n"
      ],
      "text/plain": [
       "  cov         beta  p      \n",
       "1 (Intercept) -3.94 0.0e+00\n",
       "2 PRS          0.99 6.0e-15\n",
       "3 AFR         -0.31 3.1e-01\n",
       "4 PRS:AFR     -0.25 6.0e-01"
      ]
     },
     "metadata": {},
     "output_type": "display_data"
    }
   ],
   "source": [
    "# Add in interaction term\n",
    "my.model <- glm(CRC.status ~ PRS + AFR + PRS*AFR, family=binomial, data=merge2.dt)\n",
    "(summary.my.model <- summary(my.model))\n",
    "names(summary.my.model)\n",
    "out.table <- data.table(cbind(rownames(summary.my.model$coeff),summary.my.model$coef[,c(1,4)]))\n",
    "out.table\n",
    "setnames(out.table,c(\"cov\",\"beta\",\"p\"))\n",
    "out.table\n",
    "out.table[,beta:=round(as.numeric(beta),2)]\n",
    "out.table[,p:=format(as.numeric(p),format=\"e\",digits=2)]\n",
    "out.table"
   ]
  },
  {
   "cell_type": "code",
   "execution_count": 18,
   "metadata": {
    "hidden": true
   },
   "outputs": [
    {
     "data": {
      "text/plain": [
       "\n",
       "Call:\n",
       "glm(formula = CRC.status ~ PRS.BR.ANC.AOU1 + AFR + AMR + EAS + \n",
       "    MID + SAS, family = binomial, data = merge2.dt)\n",
       "\n",
       "Coefficients:\n",
       "                Estimate Std. Error z value Pr(>|z|)    \n",
       "(Intercept)     -3.58538    0.07789 -46.034   <2e-16 ***\n",
       "PRS.BR.ANC.AOU1  0.46716    0.05574   8.382   <2e-16 ***\n",
       "AFR             -0.41503    0.19775  -2.099   0.0358 *  \n",
       "AMR             -0.14154    0.27932  -0.507   0.6123    \n",
       "EAS             -0.46212    0.55663  -0.830   0.4064    \n",
       "MID             -0.07028    0.27041  -0.260   0.7949    \n",
       "SAS             -0.15678    0.73781  -0.212   0.8317    \n",
       "---\n",
       "Signif. codes:  0 ‘***’ 0.001 ‘**’ 0.01 ‘*’ 0.05 ‘.’ 0.1 ‘ ’ 1\n",
       "\n",
       "(Dispersion parameter for binomial family taken to be 1)\n",
       "\n",
       "    Null deviance: 3191.4  on 12725  degrees of freedom\n",
       "Residual deviance: 3114.4  on 12719  degrees of freedom\n",
       "AIC: 3128.4\n",
       "\n",
       "Number of Fisher Scoring iterations: 6\n"
      ]
     },
     "metadata": {},
     "output_type": "display_data"
    },
    {
     "data": {
      "text/html": [
       "<style>\n",
       ".list-inline {list-style: none; margin:0; padding: 0}\n",
       ".list-inline>li {display: inline-block}\n",
       ".list-inline>li:not(:last-child)::after {content: \"\\00b7\"; padding: 0 .5ex}\n",
       "</style>\n",
       "<ol class=list-inline><li>'call'</li><li>'terms'</li><li>'family'</li><li>'deviance'</li><li>'aic'</li><li>'contrasts'</li><li>'df.residual'</li><li>'null.deviance'</li><li>'df.null'</li><li>'iter'</li><li>'deviance.resid'</li><li>'coefficients'</li><li>'aliased'</li><li>'dispersion'</li><li>'df'</li><li>'cov.unscaled'</li><li>'cov.scaled'</li></ol>\n"
      ],
      "text/latex": [
       "\\begin{enumerate*}\n",
       "\\item 'call'\n",
       "\\item 'terms'\n",
       "\\item 'family'\n",
       "\\item 'deviance'\n",
       "\\item 'aic'\n",
       "\\item 'contrasts'\n",
       "\\item 'df.residual'\n",
       "\\item 'null.deviance'\n",
       "\\item 'df.null'\n",
       "\\item 'iter'\n",
       "\\item 'deviance.resid'\n",
       "\\item 'coefficients'\n",
       "\\item 'aliased'\n",
       "\\item 'dispersion'\n",
       "\\item 'df'\n",
       "\\item 'cov.unscaled'\n",
       "\\item 'cov.scaled'\n",
       "\\end{enumerate*}\n"
      ],
      "text/markdown": [
       "1. 'call'\n",
       "2. 'terms'\n",
       "3. 'family'\n",
       "4. 'deviance'\n",
       "5. 'aic'\n",
       "6. 'contrasts'\n",
       "7. 'df.residual'\n",
       "8. 'null.deviance'\n",
       "9. 'df.null'\n",
       "10. 'iter'\n",
       "11. 'deviance.resid'\n",
       "12. 'coefficients'\n",
       "13. 'aliased'\n",
       "14. 'dispersion'\n",
       "15. 'df'\n",
       "16. 'cov.unscaled'\n",
       "17. 'cov.scaled'\n",
       "\n",
       "\n"
      ],
      "text/plain": [
       " [1] \"call\"           \"terms\"          \"family\"         \"deviance\"      \n",
       " [5] \"aic\"            \"contrasts\"      \"df.residual\"    \"null.deviance\" \n",
       " [9] \"df.null\"        \"iter\"           \"deviance.resid\" \"coefficients\"  \n",
       "[13] \"aliased\"        \"dispersion\"     \"df\"             \"cov.unscaled\"  \n",
       "[17] \"cov.scaled\"    "
      ]
     },
     "metadata": {},
     "output_type": "display_data"
    },
    {
     "data": {
      "text/html": [
       "<table class=\"dataframe\">\n",
       "<caption>A data.table: 7 × 3</caption>\n",
       "<thead>\n",
       "\t<tr><th scope=col>V1</th><th scope=col>Estimate</th><th scope=col>Pr(&gt;|z|)</th></tr>\n",
       "\t<tr><th scope=col>&lt;chr&gt;</th><th scope=col>&lt;chr&gt;</th><th scope=col>&lt;chr&gt;</th></tr>\n",
       "</thead>\n",
       "<tbody>\n",
       "\t<tr><td>(Intercept)    </td><td>-3.58538370918252  </td><td>0                   </td></tr>\n",
       "\t<tr><td>PRS.BR.ANC.AOU1</td><td>0.467159780093534  </td><td>5.22437752124621e-17</td></tr>\n",
       "\t<tr><td>AFR            </td><td>-0.415031208875997 </td><td>0.0358389629695252  </td></tr>\n",
       "\t<tr><td>AMR            </td><td>-0.141543647023793 </td><td>0.612339744774497   </td></tr>\n",
       "\t<tr><td>EAS            </td><td>-0.462117040129885 </td><td>0.406423310963487   </td></tr>\n",
       "\t<tr><td>MID            </td><td>-0.0702779532235259</td><td>0.794943317914325   </td></tr>\n",
       "\t<tr><td>SAS            </td><td>-0.156777051460351 </td><td>0.831725051277703   </td></tr>\n",
       "</tbody>\n",
       "</table>\n"
      ],
      "text/latex": [
       "A data.table: 7 × 3\n",
       "\\begin{tabular}{lll}\n",
       " V1 & Estimate & Pr(>\\textbar{}z\\textbar{})\\\\\n",
       " <chr> & <chr> & <chr>\\\\\n",
       "\\hline\n",
       "\t (Intercept)     & -3.58538370918252   & 0                   \\\\\n",
       "\t PRS.BR.ANC.AOU1 & 0.467159780093534   & 5.22437752124621e-17\\\\\n",
       "\t AFR             & -0.415031208875997  & 0.0358389629695252  \\\\\n",
       "\t AMR             & -0.141543647023793  & 0.612339744774497   \\\\\n",
       "\t EAS             & -0.462117040129885  & 0.406423310963487   \\\\\n",
       "\t MID             & -0.0702779532235259 & 0.794943317914325   \\\\\n",
       "\t SAS             & -0.156777051460351  & 0.831725051277703   \\\\\n",
       "\\end{tabular}\n"
      ],
      "text/markdown": [
       "\n",
       "A data.table: 7 × 3\n",
       "\n",
       "| V1 &lt;chr&gt; | Estimate &lt;chr&gt; | Pr(&gt;|z|) &lt;chr&gt; |\n",
       "|---|---|---|\n",
       "| (Intercept)     | -3.58538370918252   | 0                    |\n",
       "| PRS.BR.ANC.AOU1 | 0.467159780093534   | 5.22437752124621e-17 |\n",
       "| AFR             | -0.415031208875997  | 0.0358389629695252   |\n",
       "| AMR             | -0.141543647023793  | 0.612339744774497    |\n",
       "| EAS             | -0.462117040129885  | 0.406423310963487    |\n",
       "| MID             | -0.0702779532235259 | 0.794943317914325    |\n",
       "| SAS             | -0.156777051460351  | 0.831725051277703    |\n",
       "\n"
      ],
      "text/plain": [
       "  V1              Estimate            Pr(>|z|)            \n",
       "1 (Intercept)     -3.58538370918252   0                   \n",
       "2 PRS.BR.ANC.AOU1 0.467159780093534   5.22437752124621e-17\n",
       "3 AFR             -0.415031208875997  0.0358389629695252  \n",
       "4 AMR             -0.141543647023793  0.612339744774497   \n",
       "5 EAS             -0.462117040129885  0.406423310963487   \n",
       "6 MID             -0.0702779532235259 0.794943317914325   \n",
       "7 SAS             -0.156777051460351  0.831725051277703   "
      ]
     },
     "metadata": {},
     "output_type": "display_data"
    },
    {
     "data": {
      "text/html": [
       "<table class=\"dataframe\">\n",
       "<caption>A data.table: 7 × 3</caption>\n",
       "<thead>\n",
       "\t<tr><th scope=col>cov</th><th scope=col>beta</th><th scope=col>p</th></tr>\n",
       "\t<tr><th scope=col>&lt;chr&gt;</th><th scope=col>&lt;chr&gt;</th><th scope=col>&lt;chr&gt;</th></tr>\n",
       "</thead>\n",
       "<tbody>\n",
       "\t<tr><td>(Intercept)    </td><td>-3.58538370918252  </td><td>0                   </td></tr>\n",
       "\t<tr><td>PRS.BR.ANC.AOU1</td><td>0.467159780093534  </td><td>5.22437752124621e-17</td></tr>\n",
       "\t<tr><td>AFR            </td><td>-0.415031208875997 </td><td>0.0358389629695252  </td></tr>\n",
       "\t<tr><td>AMR            </td><td>-0.141543647023793 </td><td>0.612339744774497   </td></tr>\n",
       "\t<tr><td>EAS            </td><td>-0.462117040129885 </td><td>0.406423310963487   </td></tr>\n",
       "\t<tr><td>MID            </td><td>-0.0702779532235259</td><td>0.794943317914325   </td></tr>\n",
       "\t<tr><td>SAS            </td><td>-0.156777051460351 </td><td>0.831725051277703   </td></tr>\n",
       "</tbody>\n",
       "</table>\n"
      ],
      "text/latex": [
       "A data.table: 7 × 3\n",
       "\\begin{tabular}{lll}\n",
       " cov & beta & p\\\\\n",
       " <chr> & <chr> & <chr>\\\\\n",
       "\\hline\n",
       "\t (Intercept)     & -3.58538370918252   & 0                   \\\\\n",
       "\t PRS.BR.ANC.AOU1 & 0.467159780093534   & 5.22437752124621e-17\\\\\n",
       "\t AFR             & -0.415031208875997  & 0.0358389629695252  \\\\\n",
       "\t AMR             & -0.141543647023793  & 0.612339744774497   \\\\\n",
       "\t EAS             & -0.462117040129885  & 0.406423310963487   \\\\\n",
       "\t MID             & -0.0702779532235259 & 0.794943317914325   \\\\\n",
       "\t SAS             & -0.156777051460351  & 0.831725051277703   \\\\\n",
       "\\end{tabular}\n"
      ],
      "text/markdown": [
       "\n",
       "A data.table: 7 × 3\n",
       "\n",
       "| cov &lt;chr&gt; | beta &lt;chr&gt; | p &lt;chr&gt; |\n",
       "|---|---|---|\n",
       "| (Intercept)     | -3.58538370918252   | 0                    |\n",
       "| PRS.BR.ANC.AOU1 | 0.467159780093534   | 5.22437752124621e-17 |\n",
       "| AFR             | -0.415031208875997  | 0.0358389629695252   |\n",
       "| AMR             | -0.141543647023793  | 0.612339744774497    |\n",
       "| EAS             | -0.462117040129885  | 0.406423310963487    |\n",
       "| MID             | -0.0702779532235259 | 0.794943317914325    |\n",
       "| SAS             | -0.156777051460351  | 0.831725051277703    |\n",
       "\n"
      ],
      "text/plain": [
       "  cov             beta                p                   \n",
       "1 (Intercept)     -3.58538370918252   0                   \n",
       "2 PRS.BR.ANC.AOU1 0.467159780093534   5.22437752124621e-17\n",
       "3 AFR             -0.415031208875997  0.0358389629695252  \n",
       "4 AMR             -0.141543647023793  0.612339744774497   \n",
       "5 EAS             -0.462117040129885  0.406423310963487   \n",
       "6 MID             -0.0702779532235259 0.794943317914325   \n",
       "7 SAS             -0.156777051460351  0.831725051277703   "
      ]
     },
     "metadata": {},
     "output_type": "display_data"
    },
    {
     "data": {
      "text/html": [
       "<table class=\"dataframe\">\n",
       "<caption>A data.table: 7 × 3</caption>\n",
       "<thead>\n",
       "\t<tr><th scope=col>cov</th><th scope=col>beta</th><th scope=col>p</th></tr>\n",
       "\t<tr><th scope=col>&lt;chr&gt;</th><th scope=col>&lt;dbl&gt;</th><th scope=col>&lt;chr&gt;</th></tr>\n",
       "</thead>\n",
       "<tbody>\n",
       "\t<tr><td>(Intercept)    </td><td>-3.59</td><td>0.00e+00</td></tr>\n",
       "\t<tr><td>PRS.BR.ANC.AOU1</td><td> 0.47</td><td>5.22e-17</td></tr>\n",
       "\t<tr><td>AFR            </td><td>-0.42</td><td>3.58e-02</td></tr>\n",
       "\t<tr><td>AMR            </td><td>-0.14</td><td>6.12e-01</td></tr>\n",
       "\t<tr><td>EAS            </td><td>-0.46</td><td>4.06e-01</td></tr>\n",
       "\t<tr><td>MID            </td><td>-0.07</td><td>7.95e-01</td></tr>\n",
       "\t<tr><td>SAS            </td><td>-0.16</td><td>8.32e-01</td></tr>\n",
       "</tbody>\n",
       "</table>\n"
      ],
      "text/latex": [
       "A data.table: 7 × 3\n",
       "\\begin{tabular}{lll}\n",
       " cov & beta & p\\\\\n",
       " <chr> & <dbl> & <chr>\\\\\n",
       "\\hline\n",
       "\t (Intercept)     & -3.59 & 0.00e+00\\\\\n",
       "\t PRS.BR.ANC.AOU1 &  0.47 & 5.22e-17\\\\\n",
       "\t AFR             & -0.42 & 3.58e-02\\\\\n",
       "\t AMR             & -0.14 & 6.12e-01\\\\\n",
       "\t EAS             & -0.46 & 4.06e-01\\\\\n",
       "\t MID             & -0.07 & 7.95e-01\\\\\n",
       "\t SAS             & -0.16 & 8.32e-01\\\\\n",
       "\\end{tabular}\n"
      ],
      "text/markdown": [
       "\n",
       "A data.table: 7 × 3\n",
       "\n",
       "| cov &lt;chr&gt; | beta &lt;dbl&gt; | p &lt;chr&gt; |\n",
       "|---|---|---|\n",
       "| (Intercept)     | -3.59 | 0.00e+00 |\n",
       "| PRS.BR.ANC.AOU1 |  0.47 | 5.22e-17 |\n",
       "| AFR             | -0.42 | 3.58e-02 |\n",
       "| AMR             | -0.14 | 6.12e-01 |\n",
       "| EAS             | -0.46 | 4.06e-01 |\n",
       "| MID             | -0.07 | 7.95e-01 |\n",
       "| SAS             | -0.16 | 8.32e-01 |\n",
       "\n"
      ],
      "text/plain": [
       "  cov             beta  p       \n",
       "1 (Intercept)     -3.59 0.00e+00\n",
       "2 PRS.BR.ANC.AOU1  0.47 5.22e-17\n",
       "3 AFR             -0.42 3.58e-02\n",
       "4 AMR             -0.14 6.12e-01\n",
       "5 EAS             -0.46 4.06e-01\n",
       "6 MID             -0.07 7.95e-01\n",
       "7 SAS             -0.16 8.32e-01"
      ]
     },
     "metadata": {},
     "output_type": "display_data"
    }
   ],
   "source": [
    "#what if we use the 'prefered adjusted PRS'\n",
    "my.model <- glm(CRC.status ~ PRS.BR.ANC.AOU1 + AFR + AMR + EAS + MID + SAS, family=binomial, data=merge2.dt)\n",
    "(summary.my.model <- summary(my.model))\n",
    "names(summary.my.model)\n",
    "out.table <- data.table(cbind(rownames(summary.my.model$coeff),summary.my.model$coef[,c(1,4)]))\n",
    "out.table\n",
    "setnames(out.table,c(\"cov\",\"beta\",\"p\"))\n",
    "out.table\n",
    "out.table[,beta:=round(as.numeric(beta),2)]\n",
    "out.table[,p:=format(as.numeric(p),format=\"e\",digits=3)]\n",
    "out.table"
   ]
  },
  {
   "cell_type": "code",
   "execution_count": 16,
   "metadata": {
    "hidden": true
   },
   "outputs": [
    {
     "data": {
      "text/plain": [
       "\n",
       "Call:\n",
       "glm(formula = CRC.status ~ PRS.BR.ANC.AOU1 + AFR, family = binomial, \n",
       "    data = merge2.dt)\n",
       "\n",
       "Coefficients:\n",
       "                Estimate Std. Error z value Pr(>|z|)    \n",
       "(Intercept)     -3.61556    0.06547 -55.225   <2e-16 ***\n",
       "PRS.BR.ANC.AOU1  0.46705    0.05573   8.381   <2e-16 ***\n",
       "AFR             -0.38924    0.19439  -2.002   0.0452 *  \n",
       "---\n",
       "Signif. codes:  0 ‘***’ 0.001 ‘**’ 0.01 ‘*’ 0.05 ‘.’ 0.1 ‘ ’ 1\n",
       "\n",
       "(Dispersion parameter for binomial family taken to be 1)\n",
       "\n",
       "    Null deviance: 3191.4  on 12725  degrees of freedom\n",
       "Residual deviance: 3115.5  on 12723  degrees of freedom\n",
       "AIC: 3121.5\n",
       "\n",
       "Number of Fisher Scoring iterations: 6\n"
      ]
     },
     "metadata": {},
     "output_type": "display_data"
    },
    {
     "data": {
      "text/html": [
       "<style>\n",
       ".list-inline {list-style: none; margin:0; padding: 0}\n",
       ".list-inline>li {display: inline-block}\n",
       ".list-inline>li:not(:last-child)::after {content: \"\\00b7\"; padding: 0 .5ex}\n",
       "</style>\n",
       "<ol class=list-inline><li>'call'</li><li>'terms'</li><li>'family'</li><li>'deviance'</li><li>'aic'</li><li>'contrasts'</li><li>'df.residual'</li><li>'null.deviance'</li><li>'df.null'</li><li>'iter'</li><li>'deviance.resid'</li><li>'coefficients'</li><li>'aliased'</li><li>'dispersion'</li><li>'df'</li><li>'cov.unscaled'</li><li>'cov.scaled'</li></ol>\n"
      ],
      "text/latex": [
       "\\begin{enumerate*}\n",
       "\\item 'call'\n",
       "\\item 'terms'\n",
       "\\item 'family'\n",
       "\\item 'deviance'\n",
       "\\item 'aic'\n",
       "\\item 'contrasts'\n",
       "\\item 'df.residual'\n",
       "\\item 'null.deviance'\n",
       "\\item 'df.null'\n",
       "\\item 'iter'\n",
       "\\item 'deviance.resid'\n",
       "\\item 'coefficients'\n",
       "\\item 'aliased'\n",
       "\\item 'dispersion'\n",
       "\\item 'df'\n",
       "\\item 'cov.unscaled'\n",
       "\\item 'cov.scaled'\n",
       "\\end{enumerate*}\n"
      ],
      "text/markdown": [
       "1. 'call'\n",
       "2. 'terms'\n",
       "3. 'family'\n",
       "4. 'deviance'\n",
       "5. 'aic'\n",
       "6. 'contrasts'\n",
       "7. 'df.residual'\n",
       "8. 'null.deviance'\n",
       "9. 'df.null'\n",
       "10. 'iter'\n",
       "11. 'deviance.resid'\n",
       "12. 'coefficients'\n",
       "13. 'aliased'\n",
       "14. 'dispersion'\n",
       "15. 'df'\n",
       "16. 'cov.unscaled'\n",
       "17. 'cov.scaled'\n",
       "\n",
       "\n"
      ],
      "text/plain": [
       " [1] \"call\"           \"terms\"          \"family\"         \"deviance\"      \n",
       " [5] \"aic\"            \"contrasts\"      \"df.residual\"    \"null.deviance\" \n",
       " [9] \"df.null\"        \"iter\"           \"deviance.resid\" \"coefficients\"  \n",
       "[13] \"aliased\"        \"dispersion\"     \"df\"             \"cov.unscaled\"  \n",
       "[17] \"cov.scaled\"    "
      ]
     },
     "metadata": {},
     "output_type": "display_data"
    },
    {
     "data": {
      "text/html": [
       "<table class=\"dataframe\">\n",
       "<caption>A data.table: 3 × 3</caption>\n",
       "<thead>\n",
       "\t<tr><th scope=col>V1</th><th scope=col>Estimate</th><th scope=col>Pr(&gt;|z|)</th></tr>\n",
       "\t<tr><th scope=col>&lt;chr&gt;</th><th scope=col>&lt;chr&gt;</th><th scope=col>&lt;chr&gt;</th></tr>\n",
       "</thead>\n",
       "<tbody>\n",
       "\t<tr><td>(Intercept)    </td><td>-3.61556234394036 </td><td>0                   </td></tr>\n",
       "\t<tr><td>PRS.BR.ANC.AOU1</td><td>0.467053995518191 </td><td>5.26705420407678e-17</td></tr>\n",
       "\t<tr><td>AFR            </td><td>-0.389243965290082</td><td>0.0452481555766005  </td></tr>\n",
       "</tbody>\n",
       "</table>\n"
      ],
      "text/latex": [
       "A data.table: 3 × 3\n",
       "\\begin{tabular}{lll}\n",
       " V1 & Estimate & Pr(>\\textbar{}z\\textbar{})\\\\\n",
       " <chr> & <chr> & <chr>\\\\\n",
       "\\hline\n",
       "\t (Intercept)     & -3.61556234394036  & 0                   \\\\\n",
       "\t PRS.BR.ANC.AOU1 & 0.467053995518191  & 5.26705420407678e-17\\\\\n",
       "\t AFR             & -0.389243965290082 & 0.0452481555766005  \\\\\n",
       "\\end{tabular}\n"
      ],
      "text/markdown": [
       "\n",
       "A data.table: 3 × 3\n",
       "\n",
       "| V1 &lt;chr&gt; | Estimate &lt;chr&gt; | Pr(&gt;|z|) &lt;chr&gt; |\n",
       "|---|---|---|\n",
       "| (Intercept)     | -3.61556234394036  | 0                    |\n",
       "| PRS.BR.ANC.AOU1 | 0.467053995518191  | 5.26705420407678e-17 |\n",
       "| AFR             | -0.389243965290082 | 0.0452481555766005   |\n",
       "\n"
      ],
      "text/plain": [
       "  V1              Estimate           Pr(>|z|)            \n",
       "1 (Intercept)     -3.61556234394036  0                   \n",
       "2 PRS.BR.ANC.AOU1 0.467053995518191  5.26705420407678e-17\n",
       "3 AFR             -0.389243965290082 0.0452481555766005  "
      ]
     },
     "metadata": {},
     "output_type": "display_data"
    },
    {
     "data": {
      "text/html": [
       "<table class=\"dataframe\">\n",
       "<caption>A data.table: 3 × 3</caption>\n",
       "<thead>\n",
       "\t<tr><th scope=col>cov</th><th scope=col>beta</th><th scope=col>p</th></tr>\n",
       "\t<tr><th scope=col>&lt;chr&gt;</th><th scope=col>&lt;chr&gt;</th><th scope=col>&lt;chr&gt;</th></tr>\n",
       "</thead>\n",
       "<tbody>\n",
       "\t<tr><td>(Intercept)    </td><td>-3.61556234394036 </td><td>0                   </td></tr>\n",
       "\t<tr><td>PRS.BR.ANC.AOU1</td><td>0.467053995518191 </td><td>5.26705420407678e-17</td></tr>\n",
       "\t<tr><td>AFR            </td><td>-0.389243965290082</td><td>0.0452481555766005  </td></tr>\n",
       "</tbody>\n",
       "</table>\n"
      ],
      "text/latex": [
       "A data.table: 3 × 3\n",
       "\\begin{tabular}{lll}\n",
       " cov & beta & p\\\\\n",
       " <chr> & <chr> & <chr>\\\\\n",
       "\\hline\n",
       "\t (Intercept)     & -3.61556234394036  & 0                   \\\\\n",
       "\t PRS.BR.ANC.AOU1 & 0.467053995518191  & 5.26705420407678e-17\\\\\n",
       "\t AFR             & -0.389243965290082 & 0.0452481555766005  \\\\\n",
       "\\end{tabular}\n"
      ],
      "text/markdown": [
       "\n",
       "A data.table: 3 × 3\n",
       "\n",
       "| cov &lt;chr&gt; | beta &lt;chr&gt; | p &lt;chr&gt; |\n",
       "|---|---|---|\n",
       "| (Intercept)     | -3.61556234394036  | 0                    |\n",
       "| PRS.BR.ANC.AOU1 | 0.467053995518191  | 5.26705420407678e-17 |\n",
       "| AFR             | -0.389243965290082 | 0.0452481555766005   |\n",
       "\n"
      ],
      "text/plain": [
       "  cov             beta               p                   \n",
       "1 (Intercept)     -3.61556234394036  0                   \n",
       "2 PRS.BR.ANC.AOU1 0.467053995518191  5.26705420407678e-17\n",
       "3 AFR             -0.389243965290082 0.0452481555766005  "
      ]
     },
     "metadata": {},
     "output_type": "display_data"
    },
    {
     "data": {
      "text/html": [
       "<table class=\"dataframe\">\n",
       "<caption>A data.table: 3 × 3</caption>\n",
       "<thead>\n",
       "\t<tr><th scope=col>cov</th><th scope=col>beta</th><th scope=col>p</th></tr>\n",
       "\t<tr><th scope=col>&lt;chr&gt;</th><th scope=col>&lt;dbl&gt;</th><th scope=col>&lt;chr&gt;</th></tr>\n",
       "</thead>\n",
       "<tbody>\n",
       "\t<tr><td>(Intercept)    </td><td>-3.62</td><td>0.0e+00</td></tr>\n",
       "\t<tr><td>PRS.BR.ANC.AOU1</td><td> 0.47</td><td>5.3e-17</td></tr>\n",
       "\t<tr><td>AFR            </td><td>-0.39</td><td>4.5e-02</td></tr>\n",
       "</tbody>\n",
       "</table>\n"
      ],
      "text/latex": [
       "A data.table: 3 × 3\n",
       "\\begin{tabular}{lll}\n",
       " cov & beta & p\\\\\n",
       " <chr> & <dbl> & <chr>\\\\\n",
       "\\hline\n",
       "\t (Intercept)     & -3.62 & 0.0e+00\\\\\n",
       "\t PRS.BR.ANC.AOU1 &  0.47 & 5.3e-17\\\\\n",
       "\t AFR             & -0.39 & 4.5e-02\\\\\n",
       "\\end{tabular}\n"
      ],
      "text/markdown": [
       "\n",
       "A data.table: 3 × 3\n",
       "\n",
       "| cov &lt;chr&gt; | beta &lt;dbl&gt; | p &lt;chr&gt; |\n",
       "|---|---|---|\n",
       "| (Intercept)     | -3.62 | 0.0e+00 |\n",
       "| PRS.BR.ANC.AOU1 |  0.47 | 5.3e-17 |\n",
       "| AFR             | -0.39 | 4.5e-02 |\n",
       "\n"
      ],
      "text/plain": [
       "  cov             beta  p      \n",
       "1 (Intercept)     -3.62 0.0e+00\n",
       "2 PRS.BR.ANC.AOU1  0.47 5.3e-17\n",
       "3 AFR             -0.39 4.5e-02"
      ]
     },
     "metadata": {},
     "output_type": "display_data"
    }
   ],
   "source": [
    "my.model <- glm(CRC.status ~ PRS.BR.ANC.AOU1 + AFR, family=binomial, data=merge2.dt)\n",
    "(summary.my.model <- summary(my.model))\n",
    "names(summary.my.model)\n",
    "out.table <- data.table(cbind(rownames(summary.my.model$coeff),summary.my.model$coef[,c(1,4)]))\n",
    "out.table\n",
    "setnames(out.table,c(\"cov\",\"beta\",\"p\"))\n",
    "out.table\n",
    "out.table[,beta:=round(as.numeric(beta),2)]\n",
    "out.table[,p:=format(as.numeric(p),format=\"e\",digits=2)]\n",
    "out.table"
   ]
  },
  {
   "cell_type": "code",
   "execution_count": 17,
   "metadata": {
    "hidden": true
   },
   "outputs": [
    {
     "data": {
      "text/plain": [
       "\n",
       "Call:\n",
       "glm(formula = CRC.status ~ PRS.BR.ANC.AOU1 + AFR + PRS.BR.ANC.AOU1 * \n",
       "    AFR, family = binomial, data = merge2.dt)\n",
       "\n",
       "Coefficients:\n",
       "                    Estimate Std. Error z value Pr(>|z|)    \n",
       "(Intercept)         -3.62769    0.06701 -54.137  < 2e-16 ***\n",
       "PRS.BR.ANC.AOU1      0.49537    0.06184   8.010 1.15e-15 ***\n",
       "AFR                 -0.31530    0.20322  -1.552    0.121    \n",
       "PRS.BR.ANC.AOU1:AFR -0.21475    0.20164  -1.065    0.287    \n",
       "---\n",
       "Signif. codes:  0 ‘***’ 0.001 ‘**’ 0.01 ‘*’ 0.05 ‘.’ 0.1 ‘ ’ 1\n",
       "\n",
       "(Dispersion parameter for binomial family taken to be 1)\n",
       "\n",
       "    Null deviance: 3191.4  on 12725  degrees of freedom\n",
       "Residual deviance: 3114.3  on 12722  degrees of freedom\n",
       "AIC: 3122.3\n",
       "\n",
       "Number of Fisher Scoring iterations: 6\n"
      ]
     },
     "metadata": {},
     "output_type": "display_data"
    },
    {
     "data": {
      "text/html": [
       "<style>\n",
       ".list-inline {list-style: none; margin:0; padding: 0}\n",
       ".list-inline>li {display: inline-block}\n",
       ".list-inline>li:not(:last-child)::after {content: \"\\00b7\"; padding: 0 .5ex}\n",
       "</style>\n",
       "<ol class=list-inline><li>'call'</li><li>'terms'</li><li>'family'</li><li>'deviance'</li><li>'aic'</li><li>'contrasts'</li><li>'df.residual'</li><li>'null.deviance'</li><li>'df.null'</li><li>'iter'</li><li>'deviance.resid'</li><li>'coefficients'</li><li>'aliased'</li><li>'dispersion'</li><li>'df'</li><li>'cov.unscaled'</li><li>'cov.scaled'</li></ol>\n"
      ],
      "text/latex": [
       "\\begin{enumerate*}\n",
       "\\item 'call'\n",
       "\\item 'terms'\n",
       "\\item 'family'\n",
       "\\item 'deviance'\n",
       "\\item 'aic'\n",
       "\\item 'contrasts'\n",
       "\\item 'df.residual'\n",
       "\\item 'null.deviance'\n",
       "\\item 'df.null'\n",
       "\\item 'iter'\n",
       "\\item 'deviance.resid'\n",
       "\\item 'coefficients'\n",
       "\\item 'aliased'\n",
       "\\item 'dispersion'\n",
       "\\item 'df'\n",
       "\\item 'cov.unscaled'\n",
       "\\item 'cov.scaled'\n",
       "\\end{enumerate*}\n"
      ],
      "text/markdown": [
       "1. 'call'\n",
       "2. 'terms'\n",
       "3. 'family'\n",
       "4. 'deviance'\n",
       "5. 'aic'\n",
       "6. 'contrasts'\n",
       "7. 'df.residual'\n",
       "8. 'null.deviance'\n",
       "9. 'df.null'\n",
       "10. 'iter'\n",
       "11. 'deviance.resid'\n",
       "12. 'coefficients'\n",
       "13. 'aliased'\n",
       "14. 'dispersion'\n",
       "15. 'df'\n",
       "16. 'cov.unscaled'\n",
       "17. 'cov.scaled'\n",
       "\n",
       "\n"
      ],
      "text/plain": [
       " [1] \"call\"           \"terms\"          \"family\"         \"deviance\"      \n",
       " [5] \"aic\"            \"contrasts\"      \"df.residual\"    \"null.deviance\" \n",
       " [9] \"df.null\"        \"iter\"           \"deviance.resid\" \"coefficients\"  \n",
       "[13] \"aliased\"        \"dispersion\"     \"df\"             \"cov.unscaled\"  \n",
       "[17] \"cov.scaled\"    "
      ]
     },
     "metadata": {},
     "output_type": "display_data"
    },
    {
     "data": {
      "text/html": [
       "<table class=\"dataframe\">\n",
       "<caption>A data.table: 4 × 3</caption>\n",
       "<thead>\n",
       "\t<tr><th scope=col>V1</th><th scope=col>Estimate</th><th scope=col>Pr(&gt;|z|)</th></tr>\n",
       "\t<tr><th scope=col>&lt;chr&gt;</th><th scope=col>&lt;chr&gt;</th><th scope=col>&lt;chr&gt;</th></tr>\n",
       "</thead>\n",
       "<tbody>\n",
       "\t<tr><td>(Intercept)        </td><td>-3.62768785171339 </td><td>0                  </td></tr>\n",
       "\t<tr><td>PRS.BR.ANC.AOU1    </td><td>0.495366017635993 </td><td>1.1489288552046e-15</td></tr>\n",
       "\t<tr><td>AFR                </td><td>-0.31530499136271 </td><td>0.120776752123566  </td></tr>\n",
       "\t<tr><td>PRS.BR.ANC.AOU1:AFR</td><td>-0.214747884273123</td><td>0.286865623399787  </td></tr>\n",
       "</tbody>\n",
       "</table>\n"
      ],
      "text/latex": [
       "A data.table: 4 × 3\n",
       "\\begin{tabular}{lll}\n",
       " V1 & Estimate & Pr(>\\textbar{}z\\textbar{})\\\\\n",
       " <chr> & <chr> & <chr>\\\\\n",
       "\\hline\n",
       "\t (Intercept)         & -3.62768785171339  & 0                  \\\\\n",
       "\t PRS.BR.ANC.AOU1     & 0.495366017635993  & 1.1489288552046e-15\\\\\n",
       "\t AFR                 & -0.31530499136271  & 0.120776752123566  \\\\\n",
       "\t PRS.BR.ANC.AOU1:AFR & -0.214747884273123 & 0.286865623399787  \\\\\n",
       "\\end{tabular}\n"
      ],
      "text/markdown": [
       "\n",
       "A data.table: 4 × 3\n",
       "\n",
       "| V1 &lt;chr&gt; | Estimate &lt;chr&gt; | Pr(&gt;|z|) &lt;chr&gt; |\n",
       "|---|---|---|\n",
       "| (Intercept)         | -3.62768785171339  | 0                   |\n",
       "| PRS.BR.ANC.AOU1     | 0.495366017635993  | 1.1489288552046e-15 |\n",
       "| AFR                 | -0.31530499136271  | 0.120776752123566   |\n",
       "| PRS.BR.ANC.AOU1:AFR | -0.214747884273123 | 0.286865623399787   |\n",
       "\n"
      ],
      "text/plain": [
       "  V1                  Estimate           Pr(>|z|)           \n",
       "1 (Intercept)         -3.62768785171339  0                  \n",
       "2 PRS.BR.ANC.AOU1     0.495366017635993  1.1489288552046e-15\n",
       "3 AFR                 -0.31530499136271  0.120776752123566  \n",
       "4 PRS.BR.ANC.AOU1:AFR -0.214747884273123 0.286865623399787  "
      ]
     },
     "metadata": {},
     "output_type": "display_data"
    },
    {
     "data": {
      "text/html": [
       "<table class=\"dataframe\">\n",
       "<caption>A data.table: 4 × 3</caption>\n",
       "<thead>\n",
       "\t<tr><th scope=col>cov</th><th scope=col>beta</th><th scope=col>p</th></tr>\n",
       "\t<tr><th scope=col>&lt;chr&gt;</th><th scope=col>&lt;chr&gt;</th><th scope=col>&lt;chr&gt;</th></tr>\n",
       "</thead>\n",
       "<tbody>\n",
       "\t<tr><td>(Intercept)        </td><td>-3.62768785171339 </td><td>0                  </td></tr>\n",
       "\t<tr><td>PRS.BR.ANC.AOU1    </td><td>0.495366017635993 </td><td>1.1489288552046e-15</td></tr>\n",
       "\t<tr><td>AFR                </td><td>-0.31530499136271 </td><td>0.120776752123566  </td></tr>\n",
       "\t<tr><td>PRS.BR.ANC.AOU1:AFR</td><td>-0.214747884273123</td><td>0.286865623399787  </td></tr>\n",
       "</tbody>\n",
       "</table>\n"
      ],
      "text/latex": [
       "A data.table: 4 × 3\n",
       "\\begin{tabular}{lll}\n",
       " cov & beta & p\\\\\n",
       " <chr> & <chr> & <chr>\\\\\n",
       "\\hline\n",
       "\t (Intercept)         & -3.62768785171339  & 0                  \\\\\n",
       "\t PRS.BR.ANC.AOU1     & 0.495366017635993  & 1.1489288552046e-15\\\\\n",
       "\t AFR                 & -0.31530499136271  & 0.120776752123566  \\\\\n",
       "\t PRS.BR.ANC.AOU1:AFR & -0.214747884273123 & 0.286865623399787  \\\\\n",
       "\\end{tabular}\n"
      ],
      "text/markdown": [
       "\n",
       "A data.table: 4 × 3\n",
       "\n",
       "| cov &lt;chr&gt; | beta &lt;chr&gt; | p &lt;chr&gt; |\n",
       "|---|---|---|\n",
       "| (Intercept)         | -3.62768785171339  | 0                   |\n",
       "| PRS.BR.ANC.AOU1     | 0.495366017635993  | 1.1489288552046e-15 |\n",
       "| AFR                 | -0.31530499136271  | 0.120776752123566   |\n",
       "| PRS.BR.ANC.AOU1:AFR | -0.214747884273123 | 0.286865623399787   |\n",
       "\n"
      ],
      "text/plain": [
       "  cov                 beta               p                  \n",
       "1 (Intercept)         -3.62768785171339  0                  \n",
       "2 PRS.BR.ANC.AOU1     0.495366017635993  1.1489288552046e-15\n",
       "3 AFR                 -0.31530499136271  0.120776752123566  \n",
       "4 PRS.BR.ANC.AOU1:AFR -0.214747884273123 0.286865623399787  "
      ]
     },
     "metadata": {},
     "output_type": "display_data"
    },
    {
     "data": {
      "text/html": [
       "<table class=\"dataframe\">\n",
       "<caption>A data.table: 4 × 3</caption>\n",
       "<thead>\n",
       "\t<tr><th scope=col>cov</th><th scope=col>beta</th><th scope=col>p</th></tr>\n",
       "\t<tr><th scope=col>&lt;chr&gt;</th><th scope=col>&lt;dbl&gt;</th><th scope=col>&lt;chr&gt;</th></tr>\n",
       "</thead>\n",
       "<tbody>\n",
       "\t<tr><td>(Intercept)        </td><td>-3.63</td><td>0.0e+00</td></tr>\n",
       "\t<tr><td>PRS.BR.ANC.AOU1    </td><td> 0.50</td><td>1.1e-15</td></tr>\n",
       "\t<tr><td>AFR                </td><td>-0.32</td><td>1.2e-01</td></tr>\n",
       "\t<tr><td>PRS.BR.ANC.AOU1:AFR</td><td>-0.21</td><td>2.9e-01</td></tr>\n",
       "</tbody>\n",
       "</table>\n"
      ],
      "text/latex": [
       "A data.table: 4 × 3\n",
       "\\begin{tabular}{lll}\n",
       " cov & beta & p\\\\\n",
       " <chr> & <dbl> & <chr>\\\\\n",
       "\\hline\n",
       "\t (Intercept)         & -3.63 & 0.0e+00\\\\\n",
       "\t PRS.BR.ANC.AOU1     &  0.50 & 1.1e-15\\\\\n",
       "\t AFR                 & -0.32 & 1.2e-01\\\\\n",
       "\t PRS.BR.ANC.AOU1:AFR & -0.21 & 2.9e-01\\\\\n",
       "\\end{tabular}\n"
      ],
      "text/markdown": [
       "\n",
       "A data.table: 4 × 3\n",
       "\n",
       "| cov &lt;chr&gt; | beta &lt;dbl&gt; | p &lt;chr&gt; |\n",
       "|---|---|---|\n",
       "| (Intercept)         | -3.63 | 0.0e+00 |\n",
       "| PRS.BR.ANC.AOU1     |  0.50 | 1.1e-15 |\n",
       "| AFR                 | -0.32 | 1.2e-01 |\n",
       "| PRS.BR.ANC.AOU1:AFR | -0.21 | 2.9e-01 |\n",
       "\n"
      ],
      "text/plain": [
       "  cov                 beta  p      \n",
       "1 (Intercept)         -3.63 0.0e+00\n",
       "2 PRS.BR.ANC.AOU1      0.50 1.1e-15\n",
       "3 AFR                 -0.32 1.2e-01\n",
       "4 PRS.BR.ANC.AOU1:AFR -0.21 2.9e-01"
      ]
     },
     "metadata": {},
     "output_type": "display_data"
    }
   ],
   "source": [
    "my.model <- glm(CRC.status ~ PRS.BR.ANC.AOU1 + AFR + PRS.BR.ANC.AOU1 * AFR, family=binomial, data=merge2.dt)\n",
    "(summary.my.model <- summary(my.model))\n",
    "names(summary.my.model)\n",
    "out.table <- data.table(cbind(rownames(summary.my.model$coeff),summary.my.model$coef[,c(1,4)]))\n",
    "out.table\n",
    "setnames(out.table,c(\"cov\",\"beta\",\"p\"))\n",
    "out.table\n",
    "out.table[,beta:=round(as.numeric(beta),2)]\n",
    "out.table[,p:=format(as.numeric(p),format=\"e\",digits=2)]\n",
    "out.table"
   ]
  },
  {
   "cell_type": "code",
   "execution_count": 19,
   "metadata": {
    "hidden": true
   },
   "outputs": [
    {
     "data": {
      "text/plain": [
       "\n",
       "Call:\n",
       "glm(formula = CRC.status ~ PRS.ADJ.ANC + AFR + AMR + EAS + MID + \n",
       "    SAS, family = binomial, data = merge2.dt)\n",
       "\n",
       "Coefficients:\n",
       "            Estimate Std. Error z value Pr(>|z|)    \n",
       "(Intercept) -3.58662    0.07806 -45.947   <2e-16 ***\n",
       "PRS.ADJ.ANC  0.99446    0.11887   8.366   <2e-16 ***\n",
       "AFR         -0.39402    0.19786  -1.991   0.0464 *  \n",
       "AMR         -0.13038    0.27931  -0.467   0.6407    \n",
       "EAS         -0.48775    0.55690  -0.876   0.3811    \n",
       "MID         -0.10031    0.27033  -0.371   0.7106    \n",
       "SAS         -0.08657    0.73752  -0.117   0.9066    \n",
       "---\n",
       "Signif. codes:  0 ‘***’ 0.001 ‘**’ 0.01 ‘*’ 0.05 ‘.’ 0.1 ‘ ’ 1\n",
       "\n",
       "(Dispersion parameter for binomial family taken to be 1)\n",
       "\n",
       "    Null deviance: 3191.4  on 12725  degrees of freedom\n",
       "Residual deviance: 3114.7  on 12719  degrees of freedom\n",
       "AIC: 3128.7\n",
       "\n",
       "Number of Fisher Scoring iterations: 6\n"
      ]
     },
     "metadata": {},
     "output_type": "display_data"
    },
    {
     "data": {
      "text/html": [
       "<style>\n",
       ".list-inline {list-style: none; margin:0; padding: 0}\n",
       ".list-inline>li {display: inline-block}\n",
       ".list-inline>li:not(:last-child)::after {content: \"\\00b7\"; padding: 0 .5ex}\n",
       "</style>\n",
       "<ol class=list-inline><li>'call'</li><li>'terms'</li><li>'family'</li><li>'deviance'</li><li>'aic'</li><li>'contrasts'</li><li>'df.residual'</li><li>'null.deviance'</li><li>'df.null'</li><li>'iter'</li><li>'deviance.resid'</li><li>'coefficients'</li><li>'aliased'</li><li>'dispersion'</li><li>'df'</li><li>'cov.unscaled'</li><li>'cov.scaled'</li></ol>\n"
      ],
      "text/latex": [
       "\\begin{enumerate*}\n",
       "\\item 'call'\n",
       "\\item 'terms'\n",
       "\\item 'family'\n",
       "\\item 'deviance'\n",
       "\\item 'aic'\n",
       "\\item 'contrasts'\n",
       "\\item 'df.residual'\n",
       "\\item 'null.deviance'\n",
       "\\item 'df.null'\n",
       "\\item 'iter'\n",
       "\\item 'deviance.resid'\n",
       "\\item 'coefficients'\n",
       "\\item 'aliased'\n",
       "\\item 'dispersion'\n",
       "\\item 'df'\n",
       "\\item 'cov.unscaled'\n",
       "\\item 'cov.scaled'\n",
       "\\end{enumerate*}\n"
      ],
      "text/markdown": [
       "1. 'call'\n",
       "2. 'terms'\n",
       "3. 'family'\n",
       "4. 'deviance'\n",
       "5. 'aic'\n",
       "6. 'contrasts'\n",
       "7. 'df.residual'\n",
       "8. 'null.deviance'\n",
       "9. 'df.null'\n",
       "10. 'iter'\n",
       "11. 'deviance.resid'\n",
       "12. 'coefficients'\n",
       "13. 'aliased'\n",
       "14. 'dispersion'\n",
       "15. 'df'\n",
       "16. 'cov.unscaled'\n",
       "17. 'cov.scaled'\n",
       "\n",
       "\n"
      ],
      "text/plain": [
       " [1] \"call\"           \"terms\"          \"family\"         \"deviance\"      \n",
       " [5] \"aic\"            \"contrasts\"      \"df.residual\"    \"null.deviance\" \n",
       " [9] \"df.null\"        \"iter\"           \"deviance.resid\" \"coefficients\"  \n",
       "[13] \"aliased\"        \"dispersion\"     \"df\"             \"cov.unscaled\"  \n",
       "[17] \"cov.scaled\"    "
      ]
     },
     "metadata": {},
     "output_type": "display_data"
    },
    {
     "data": {
      "text/html": [
       "<table class=\"dataframe\">\n",
       "<caption>A data.table: 7 × 3</caption>\n",
       "<thead>\n",
       "\t<tr><th scope=col>V1</th><th scope=col>Estimate</th><th scope=col>Pr(&gt;|z|)</th></tr>\n",
       "\t<tr><th scope=col>&lt;chr&gt;</th><th scope=col>&lt;chr&gt;</th><th scope=col>&lt;chr&gt;</th></tr>\n",
       "</thead>\n",
       "<tbody>\n",
       "\t<tr><td>(Intercept)</td><td>-3.58662171315193  </td><td>0                   </td></tr>\n",
       "\t<tr><td>PRS.ADJ.ANC</td><td>0.994457433354494  </td><td>5.95765708346212e-17</td></tr>\n",
       "\t<tr><td>AFR        </td><td>-0.39401508958675  </td><td>0.0464406022218238  </td></tr>\n",
       "\t<tr><td>AMR        </td><td>-0.130375114536754 </td><td>0.640654970783138   </td></tr>\n",
       "\t<tr><td>EAS        </td><td>-0.487753309232895 </td><td>0.381115879378756   </td></tr>\n",
       "\t<tr><td>MID        </td><td>-0.100310996454609 </td><td>0.710586600717826   </td></tr>\n",
       "\t<tr><td>SAS        </td><td>-0.0865714657260395</td><td>0.906556964282218   </td></tr>\n",
       "</tbody>\n",
       "</table>\n"
      ],
      "text/latex": [
       "A data.table: 7 × 3\n",
       "\\begin{tabular}{lll}\n",
       " V1 & Estimate & Pr(>\\textbar{}z\\textbar{})\\\\\n",
       " <chr> & <chr> & <chr>\\\\\n",
       "\\hline\n",
       "\t (Intercept) & -3.58662171315193   & 0                   \\\\\n",
       "\t PRS.ADJ.ANC & 0.994457433354494   & 5.95765708346212e-17\\\\\n",
       "\t AFR         & -0.39401508958675   & 0.0464406022218238  \\\\\n",
       "\t AMR         & -0.130375114536754  & 0.640654970783138   \\\\\n",
       "\t EAS         & -0.487753309232895  & 0.381115879378756   \\\\\n",
       "\t MID         & -0.100310996454609  & 0.710586600717826   \\\\\n",
       "\t SAS         & -0.0865714657260395 & 0.906556964282218   \\\\\n",
       "\\end{tabular}\n"
      ],
      "text/markdown": [
       "\n",
       "A data.table: 7 × 3\n",
       "\n",
       "| V1 &lt;chr&gt; | Estimate &lt;chr&gt; | Pr(&gt;|z|) &lt;chr&gt; |\n",
       "|---|---|---|\n",
       "| (Intercept) | -3.58662171315193   | 0                    |\n",
       "| PRS.ADJ.ANC | 0.994457433354494   | 5.95765708346212e-17 |\n",
       "| AFR         | -0.39401508958675   | 0.0464406022218238   |\n",
       "| AMR         | -0.130375114536754  | 0.640654970783138    |\n",
       "| EAS         | -0.487753309232895  | 0.381115879378756    |\n",
       "| MID         | -0.100310996454609  | 0.710586600717826    |\n",
       "| SAS         | -0.0865714657260395 | 0.906556964282218    |\n",
       "\n"
      ],
      "text/plain": [
       "  V1          Estimate            Pr(>|z|)            \n",
       "1 (Intercept) -3.58662171315193   0                   \n",
       "2 PRS.ADJ.ANC 0.994457433354494   5.95765708346212e-17\n",
       "3 AFR         -0.39401508958675   0.0464406022218238  \n",
       "4 AMR         -0.130375114536754  0.640654970783138   \n",
       "5 EAS         -0.487753309232895  0.381115879378756   \n",
       "6 MID         -0.100310996454609  0.710586600717826   \n",
       "7 SAS         -0.0865714657260395 0.906556964282218   "
      ]
     },
     "metadata": {},
     "output_type": "display_data"
    },
    {
     "data": {
      "text/html": [
       "<table class=\"dataframe\">\n",
       "<caption>A data.table: 7 × 3</caption>\n",
       "<thead>\n",
       "\t<tr><th scope=col>cov</th><th scope=col>beta</th><th scope=col>p</th></tr>\n",
       "\t<tr><th scope=col>&lt;chr&gt;</th><th scope=col>&lt;chr&gt;</th><th scope=col>&lt;chr&gt;</th></tr>\n",
       "</thead>\n",
       "<tbody>\n",
       "\t<tr><td>(Intercept)</td><td>-3.58662171315193  </td><td>0                   </td></tr>\n",
       "\t<tr><td>PRS.ADJ.ANC</td><td>0.994457433354494  </td><td>5.95765708346212e-17</td></tr>\n",
       "\t<tr><td>AFR        </td><td>-0.39401508958675  </td><td>0.0464406022218238  </td></tr>\n",
       "\t<tr><td>AMR        </td><td>-0.130375114536754 </td><td>0.640654970783138   </td></tr>\n",
       "\t<tr><td>EAS        </td><td>-0.487753309232895 </td><td>0.381115879378756   </td></tr>\n",
       "\t<tr><td>MID        </td><td>-0.100310996454609 </td><td>0.710586600717826   </td></tr>\n",
       "\t<tr><td>SAS        </td><td>-0.0865714657260395</td><td>0.906556964282218   </td></tr>\n",
       "</tbody>\n",
       "</table>\n"
      ],
      "text/latex": [
       "A data.table: 7 × 3\n",
       "\\begin{tabular}{lll}\n",
       " cov & beta & p\\\\\n",
       " <chr> & <chr> & <chr>\\\\\n",
       "\\hline\n",
       "\t (Intercept) & -3.58662171315193   & 0                   \\\\\n",
       "\t PRS.ADJ.ANC & 0.994457433354494   & 5.95765708346212e-17\\\\\n",
       "\t AFR         & -0.39401508958675   & 0.0464406022218238  \\\\\n",
       "\t AMR         & -0.130375114536754  & 0.640654970783138   \\\\\n",
       "\t EAS         & -0.487753309232895  & 0.381115879378756   \\\\\n",
       "\t MID         & -0.100310996454609  & 0.710586600717826   \\\\\n",
       "\t SAS         & -0.0865714657260395 & 0.906556964282218   \\\\\n",
       "\\end{tabular}\n"
      ],
      "text/markdown": [
       "\n",
       "A data.table: 7 × 3\n",
       "\n",
       "| cov &lt;chr&gt; | beta &lt;chr&gt; | p &lt;chr&gt; |\n",
       "|---|---|---|\n",
       "| (Intercept) | -3.58662171315193   | 0                    |\n",
       "| PRS.ADJ.ANC | 0.994457433354494   | 5.95765708346212e-17 |\n",
       "| AFR         | -0.39401508958675   | 0.0464406022218238   |\n",
       "| AMR         | -0.130375114536754  | 0.640654970783138    |\n",
       "| EAS         | -0.487753309232895  | 0.381115879378756    |\n",
       "| MID         | -0.100310996454609  | 0.710586600717826    |\n",
       "| SAS         | -0.0865714657260395 | 0.906556964282218    |\n",
       "\n"
      ],
      "text/plain": [
       "  cov         beta                p                   \n",
       "1 (Intercept) -3.58662171315193   0                   \n",
       "2 PRS.ADJ.ANC 0.994457433354494   5.95765708346212e-17\n",
       "3 AFR         -0.39401508958675   0.0464406022218238  \n",
       "4 AMR         -0.130375114536754  0.640654970783138   \n",
       "5 EAS         -0.487753309232895  0.381115879378756   \n",
       "6 MID         -0.100310996454609  0.710586600717826   \n",
       "7 SAS         -0.0865714657260395 0.906556964282218   "
      ]
     },
     "metadata": {},
     "output_type": "display_data"
    },
    {
     "data": {
      "text/html": [
       "<table class=\"dataframe\">\n",
       "<caption>A data.table: 7 × 3</caption>\n",
       "<thead>\n",
       "\t<tr><th scope=col>cov</th><th scope=col>beta</th><th scope=col>p</th></tr>\n",
       "\t<tr><th scope=col>&lt;chr&gt;</th><th scope=col>&lt;dbl&gt;</th><th scope=col>&lt;chr&gt;</th></tr>\n",
       "</thead>\n",
       "<tbody>\n",
       "\t<tr><td>(Intercept)</td><td>-3.59</td><td>0.0e+00</td></tr>\n",
       "\t<tr><td>PRS.ADJ.ANC</td><td> 0.99</td><td>6.0e-17</td></tr>\n",
       "\t<tr><td>AFR        </td><td>-0.39</td><td>4.6e-02</td></tr>\n",
       "\t<tr><td>AMR        </td><td>-0.13</td><td>6.4e-01</td></tr>\n",
       "\t<tr><td>EAS        </td><td>-0.49</td><td>3.8e-01</td></tr>\n",
       "\t<tr><td>MID        </td><td>-0.10</td><td>7.1e-01</td></tr>\n",
       "\t<tr><td>SAS        </td><td>-0.09</td><td>9.1e-01</td></tr>\n",
       "</tbody>\n",
       "</table>\n"
      ],
      "text/latex": [
       "A data.table: 7 × 3\n",
       "\\begin{tabular}{lll}\n",
       " cov & beta & p\\\\\n",
       " <chr> & <dbl> & <chr>\\\\\n",
       "\\hline\n",
       "\t (Intercept) & -3.59 & 0.0e+00\\\\\n",
       "\t PRS.ADJ.ANC &  0.99 & 6.0e-17\\\\\n",
       "\t AFR         & -0.39 & 4.6e-02\\\\\n",
       "\t AMR         & -0.13 & 6.4e-01\\\\\n",
       "\t EAS         & -0.49 & 3.8e-01\\\\\n",
       "\t MID         & -0.10 & 7.1e-01\\\\\n",
       "\t SAS         & -0.09 & 9.1e-01\\\\\n",
       "\\end{tabular}\n"
      ],
      "text/markdown": [
       "\n",
       "A data.table: 7 × 3\n",
       "\n",
       "| cov &lt;chr&gt; | beta &lt;dbl&gt; | p &lt;chr&gt; |\n",
       "|---|---|---|\n",
       "| (Intercept) | -3.59 | 0.0e+00 |\n",
       "| PRS.ADJ.ANC |  0.99 | 6.0e-17 |\n",
       "| AFR         | -0.39 | 4.6e-02 |\n",
       "| AMR         | -0.13 | 6.4e-01 |\n",
       "| EAS         | -0.49 | 3.8e-01 |\n",
       "| MID         | -0.10 | 7.1e-01 |\n",
       "| SAS         | -0.09 | 9.1e-01 |\n",
       "\n"
      ],
      "text/plain": [
       "  cov         beta  p      \n",
       "1 (Intercept) -3.59 0.0e+00\n",
       "2 PRS.ADJ.ANC  0.99 6.0e-17\n",
       "3 AFR         -0.39 4.6e-02\n",
       "4 AMR         -0.13 6.4e-01\n",
       "5 EAS         -0.49 3.8e-01\n",
       "6 MID         -0.10 7.1e-01\n",
       "7 SAS         -0.09 9.1e-01"
      ]
     },
     "metadata": {},
     "output_type": "display_data"
    }
   ],
   "source": [
    "my.model <- glm(CRC.status ~ PRS.ADJ.ANC + AFR + AMR + EAS + MID + SAS, family=binomial, data=merge2.dt)\n",
    "(summary.my.model <- summary(my.model))\n",
    "names(summary.my.model)\n",
    "out.table <- data.table(cbind(rownames(summary.my.model$coeff),summary.my.model$coef[,c(1,4)]))\n",
    "out.table\n",
    "setnames(out.table,c(\"cov\",\"beta\",\"p\"))\n",
    "out.table\n",
    "out.table[,beta:=round(as.numeric(beta),2)]\n",
    "out.table[,p:=format(as.numeric(p),format=\"e\",digits=2)]\n",
    "out.table"
   ]
  },
  {
   "cell_type": "code",
   "execution_count": 20,
   "metadata": {
    "hidden": true
   },
   "outputs": [
    {
     "data": {
      "text/plain": [
       "\n",
       "Call:\n",
       "glm(formula = CRC.status ~ PRS.ADJ.ANC + AFR, family = binomial, \n",
       "    data = merge2.dt)\n",
       "\n",
       "Coefficients:\n",
       "            Estimate Std. Error z value Pr(>|z|)    \n",
       "(Intercept) -3.61811    0.06576 -55.020   <2e-16 ***\n",
       "PRS.ADJ.ANC  0.99374    0.11889   8.358   <2e-16 ***\n",
       "AFR         -0.36574    0.19450  -1.880   0.0601 .  \n",
       "---\n",
       "Signif. codes:  0 ‘***’ 0.001 ‘**’ 0.01 ‘*’ 0.05 ‘.’ 0.1 ‘ ’ 1\n",
       "\n",
       "(Dispersion parameter for binomial family taken to be 1)\n",
       "\n",
       "    Null deviance: 3191.4  on 12725  degrees of freedom\n",
       "Residual deviance: 3115.9  on 12723  degrees of freedom\n",
       "AIC: 3121.9\n",
       "\n",
       "Number of Fisher Scoring iterations: 6\n"
      ]
     },
     "metadata": {},
     "output_type": "display_data"
    },
    {
     "data": {
      "text/html": [
       "<style>\n",
       ".list-inline {list-style: none; margin:0; padding: 0}\n",
       ".list-inline>li {display: inline-block}\n",
       ".list-inline>li:not(:last-child)::after {content: \"\\00b7\"; padding: 0 .5ex}\n",
       "</style>\n",
       "<ol class=list-inline><li>'call'</li><li>'terms'</li><li>'family'</li><li>'deviance'</li><li>'aic'</li><li>'contrasts'</li><li>'df.residual'</li><li>'null.deviance'</li><li>'df.null'</li><li>'iter'</li><li>'deviance.resid'</li><li>'coefficients'</li><li>'aliased'</li><li>'dispersion'</li><li>'df'</li><li>'cov.unscaled'</li><li>'cov.scaled'</li></ol>\n"
      ],
      "text/latex": [
       "\\begin{enumerate*}\n",
       "\\item 'call'\n",
       "\\item 'terms'\n",
       "\\item 'family'\n",
       "\\item 'deviance'\n",
       "\\item 'aic'\n",
       "\\item 'contrasts'\n",
       "\\item 'df.residual'\n",
       "\\item 'null.deviance'\n",
       "\\item 'df.null'\n",
       "\\item 'iter'\n",
       "\\item 'deviance.resid'\n",
       "\\item 'coefficients'\n",
       "\\item 'aliased'\n",
       "\\item 'dispersion'\n",
       "\\item 'df'\n",
       "\\item 'cov.unscaled'\n",
       "\\item 'cov.scaled'\n",
       "\\end{enumerate*}\n"
      ],
      "text/markdown": [
       "1. 'call'\n",
       "2. 'terms'\n",
       "3. 'family'\n",
       "4. 'deviance'\n",
       "5. 'aic'\n",
       "6. 'contrasts'\n",
       "7. 'df.residual'\n",
       "8. 'null.deviance'\n",
       "9. 'df.null'\n",
       "10. 'iter'\n",
       "11. 'deviance.resid'\n",
       "12. 'coefficients'\n",
       "13. 'aliased'\n",
       "14. 'dispersion'\n",
       "15. 'df'\n",
       "16. 'cov.unscaled'\n",
       "17. 'cov.scaled'\n",
       "\n",
       "\n"
      ],
      "text/plain": [
       " [1] \"call\"           \"terms\"          \"family\"         \"deviance\"      \n",
       " [5] \"aic\"            \"contrasts\"      \"df.residual\"    \"null.deviance\" \n",
       " [9] \"df.null\"        \"iter\"           \"deviance.resid\" \"coefficients\"  \n",
       "[13] \"aliased\"        \"dispersion\"     \"df\"             \"cov.unscaled\"  \n",
       "[17] \"cov.scaled\"    "
      ]
     },
     "metadata": {},
     "output_type": "display_data"
    },
    {
     "data": {
      "text/html": [
       "<table class=\"dataframe\">\n",
       "<caption>A data.table: 3 × 3</caption>\n",
       "<thead>\n",
       "\t<tr><th scope=col>V1</th><th scope=col>Estimate</th><th scope=col>Pr(&gt;|z|)</th></tr>\n",
       "\t<tr><th scope=col>&lt;chr&gt;</th><th scope=col>&lt;chr&gt;</th><th scope=col>&lt;chr&gt;</th></tr>\n",
       "</thead>\n",
       "<tbody>\n",
       "\t<tr><td>(Intercept)</td><td>-3.61811411263942 </td><td>0                   </td></tr>\n",
       "\t<tr><td>PRS.ADJ.ANC</td><td>0.993738616820808 </td><td>6.36152433433963e-17</td></tr>\n",
       "\t<tr><td>AFR        </td><td>-0.365737116987433</td><td>0.0600549722481615  </td></tr>\n",
       "</tbody>\n",
       "</table>\n"
      ],
      "text/latex": [
       "A data.table: 3 × 3\n",
       "\\begin{tabular}{lll}\n",
       " V1 & Estimate & Pr(>\\textbar{}z\\textbar{})\\\\\n",
       " <chr> & <chr> & <chr>\\\\\n",
       "\\hline\n",
       "\t (Intercept) & -3.61811411263942  & 0                   \\\\\n",
       "\t PRS.ADJ.ANC & 0.993738616820808  & 6.36152433433963e-17\\\\\n",
       "\t AFR         & -0.365737116987433 & 0.0600549722481615  \\\\\n",
       "\\end{tabular}\n"
      ],
      "text/markdown": [
       "\n",
       "A data.table: 3 × 3\n",
       "\n",
       "| V1 &lt;chr&gt; | Estimate &lt;chr&gt; | Pr(&gt;|z|) &lt;chr&gt; |\n",
       "|---|---|---|\n",
       "| (Intercept) | -3.61811411263942  | 0                    |\n",
       "| PRS.ADJ.ANC | 0.993738616820808  | 6.36152433433963e-17 |\n",
       "| AFR         | -0.365737116987433 | 0.0600549722481615   |\n",
       "\n"
      ],
      "text/plain": [
       "  V1          Estimate           Pr(>|z|)            \n",
       "1 (Intercept) -3.61811411263942  0                   \n",
       "2 PRS.ADJ.ANC 0.993738616820808  6.36152433433963e-17\n",
       "3 AFR         -0.365737116987433 0.0600549722481615  "
      ]
     },
     "metadata": {},
     "output_type": "display_data"
    },
    {
     "data": {
      "text/html": [
       "<table class=\"dataframe\">\n",
       "<caption>A data.table: 3 × 3</caption>\n",
       "<thead>\n",
       "\t<tr><th scope=col>cov</th><th scope=col>beta</th><th scope=col>p</th></tr>\n",
       "\t<tr><th scope=col>&lt;chr&gt;</th><th scope=col>&lt;chr&gt;</th><th scope=col>&lt;chr&gt;</th></tr>\n",
       "</thead>\n",
       "<tbody>\n",
       "\t<tr><td>(Intercept)</td><td>-3.61811411263942 </td><td>0                   </td></tr>\n",
       "\t<tr><td>PRS.ADJ.ANC</td><td>0.993738616820808 </td><td>6.36152433433963e-17</td></tr>\n",
       "\t<tr><td>AFR        </td><td>-0.365737116987433</td><td>0.0600549722481615  </td></tr>\n",
       "</tbody>\n",
       "</table>\n"
      ],
      "text/latex": [
       "A data.table: 3 × 3\n",
       "\\begin{tabular}{lll}\n",
       " cov & beta & p\\\\\n",
       " <chr> & <chr> & <chr>\\\\\n",
       "\\hline\n",
       "\t (Intercept) & -3.61811411263942  & 0                   \\\\\n",
       "\t PRS.ADJ.ANC & 0.993738616820808  & 6.36152433433963e-17\\\\\n",
       "\t AFR         & -0.365737116987433 & 0.0600549722481615  \\\\\n",
       "\\end{tabular}\n"
      ],
      "text/markdown": [
       "\n",
       "A data.table: 3 × 3\n",
       "\n",
       "| cov &lt;chr&gt; | beta &lt;chr&gt; | p &lt;chr&gt; |\n",
       "|---|---|---|\n",
       "| (Intercept) | -3.61811411263942  | 0                    |\n",
       "| PRS.ADJ.ANC | 0.993738616820808  | 6.36152433433963e-17 |\n",
       "| AFR         | -0.365737116987433 | 0.0600549722481615   |\n",
       "\n"
      ],
      "text/plain": [
       "  cov         beta               p                   \n",
       "1 (Intercept) -3.61811411263942  0                   \n",
       "2 PRS.ADJ.ANC 0.993738616820808  6.36152433433963e-17\n",
       "3 AFR         -0.365737116987433 0.0600549722481615  "
      ]
     },
     "metadata": {},
     "output_type": "display_data"
    },
    {
     "data": {
      "text/html": [
       "<table class=\"dataframe\">\n",
       "<caption>A data.table: 3 × 3</caption>\n",
       "<thead>\n",
       "\t<tr><th scope=col>cov</th><th scope=col>beta</th><th scope=col>p</th></tr>\n",
       "\t<tr><th scope=col>&lt;chr&gt;</th><th scope=col>&lt;dbl&gt;</th><th scope=col>&lt;chr&gt;</th></tr>\n",
       "</thead>\n",
       "<tbody>\n",
       "\t<tr><td>(Intercept)</td><td>-3.62</td><td>0.0e+00</td></tr>\n",
       "\t<tr><td>PRS.ADJ.ANC</td><td> 0.99</td><td>6.4e-17</td></tr>\n",
       "\t<tr><td>AFR        </td><td>-0.37</td><td>6.0e-02</td></tr>\n",
       "</tbody>\n",
       "</table>\n"
      ],
      "text/latex": [
       "A data.table: 3 × 3\n",
       "\\begin{tabular}{lll}\n",
       " cov & beta & p\\\\\n",
       " <chr> & <dbl> & <chr>\\\\\n",
       "\\hline\n",
       "\t (Intercept) & -3.62 & 0.0e+00\\\\\n",
       "\t PRS.ADJ.ANC &  0.99 & 6.4e-17\\\\\n",
       "\t AFR         & -0.37 & 6.0e-02\\\\\n",
       "\\end{tabular}\n"
      ],
      "text/markdown": [
       "\n",
       "A data.table: 3 × 3\n",
       "\n",
       "| cov &lt;chr&gt; | beta &lt;dbl&gt; | p &lt;chr&gt; |\n",
       "|---|---|---|\n",
       "| (Intercept) | -3.62 | 0.0e+00 |\n",
       "| PRS.ADJ.ANC |  0.99 | 6.4e-17 |\n",
       "| AFR         | -0.37 | 6.0e-02 |\n",
       "\n"
      ],
      "text/plain": [
       "  cov         beta  p      \n",
       "1 (Intercept) -3.62 0.0e+00\n",
       "2 PRS.ADJ.ANC  0.99 6.4e-17\n",
       "3 AFR         -0.37 6.0e-02"
      ]
     },
     "metadata": {},
     "output_type": "display_data"
    }
   ],
   "source": [
    "my.model <- glm(CRC.status ~ PRS.ADJ.ANC + AFR , family=binomial, data=merge2.dt)\n",
    "(summary.my.model <- summary(my.model))\n",
    "names(summary.my.model)\n",
    "out.table <- data.table(cbind(rownames(summary.my.model$coeff),summary.my.model$coef[,c(1,4)]))\n",
    "out.table\n",
    "setnames(out.table,c(\"cov\",\"beta\",\"p\"))\n",
    "out.table\n",
    "out.table[,beta:=round(as.numeric(beta),2)]\n",
    "out.table[,p:=format(as.numeric(p),format=\"e\",digits=2)]\n",
    "out.table"
   ]
  },
  {
   "cell_type": "code",
   "execution_count": 22,
   "metadata": {
    "hidden": true
   },
   "outputs": [
    {
     "data": {
      "text/plain": [
       "\n",
       "Call:\n",
       "glm(formula = CRC.status ~ PRS.ADJ.PC + AFR + AMR + EAS + MID + \n",
       "    SAS, family = binomial, data = merge2.dt)\n",
       "\n",
       "Coefficients:\n",
       "            Estimate Std. Error z value Pr(>|z|)    \n",
       "(Intercept) -3.62539    0.07969 -45.496   <2e-16 ***\n",
       "PRS.ADJ.PC   0.99447    0.11888   8.365   <2e-16 ***\n",
       "AFR         -0.35554    0.19803  -1.795   0.0726 .  \n",
       "AMR         -0.08216    0.27902  -0.294   0.7684    \n",
       "EAS         -0.45632    0.55689  -0.819   0.4126    \n",
       "MID          0.32420    0.27519   1.178   0.2388    \n",
       "SAS         -0.23406    0.73829  -0.317   0.7512    \n",
       "---\n",
       "Signif. codes:  0 ‘***’ 0.001 ‘**’ 0.01 ‘*’ 0.05 ‘.’ 0.1 ‘ ’ 1\n",
       "\n",
       "(Dispersion parameter for binomial family taken to be 1)\n",
       "\n",
       "    Null deviance: 3191.4  on 12725  degrees of freedom\n",
       "Residual deviance: 3114.7  on 12719  degrees of freedom\n",
       "AIC: 3128.7\n",
       "\n",
       "Number of Fisher Scoring iterations: 6\n"
      ]
     },
     "metadata": {},
     "output_type": "display_data"
    },
    {
     "data": {
      "text/html": [
       "<style>\n",
       ".list-inline {list-style: none; margin:0; padding: 0}\n",
       ".list-inline>li {display: inline-block}\n",
       ".list-inline>li:not(:last-child)::after {content: \"\\00b7\"; padding: 0 .5ex}\n",
       "</style>\n",
       "<ol class=list-inline><li>'call'</li><li>'terms'</li><li>'family'</li><li>'deviance'</li><li>'aic'</li><li>'contrasts'</li><li>'df.residual'</li><li>'null.deviance'</li><li>'df.null'</li><li>'iter'</li><li>'deviance.resid'</li><li>'coefficients'</li><li>'aliased'</li><li>'dispersion'</li><li>'df'</li><li>'cov.unscaled'</li><li>'cov.scaled'</li></ol>\n"
      ],
      "text/latex": [
       "\\begin{enumerate*}\n",
       "\\item 'call'\n",
       "\\item 'terms'\n",
       "\\item 'family'\n",
       "\\item 'deviance'\n",
       "\\item 'aic'\n",
       "\\item 'contrasts'\n",
       "\\item 'df.residual'\n",
       "\\item 'null.deviance'\n",
       "\\item 'df.null'\n",
       "\\item 'iter'\n",
       "\\item 'deviance.resid'\n",
       "\\item 'coefficients'\n",
       "\\item 'aliased'\n",
       "\\item 'dispersion'\n",
       "\\item 'df'\n",
       "\\item 'cov.unscaled'\n",
       "\\item 'cov.scaled'\n",
       "\\end{enumerate*}\n"
      ],
      "text/markdown": [
       "1. 'call'\n",
       "2. 'terms'\n",
       "3. 'family'\n",
       "4. 'deviance'\n",
       "5. 'aic'\n",
       "6. 'contrasts'\n",
       "7. 'df.residual'\n",
       "8. 'null.deviance'\n",
       "9. 'df.null'\n",
       "10. 'iter'\n",
       "11. 'deviance.resid'\n",
       "12. 'coefficients'\n",
       "13. 'aliased'\n",
       "14. 'dispersion'\n",
       "15. 'df'\n",
       "16. 'cov.unscaled'\n",
       "17. 'cov.scaled'\n",
       "\n",
       "\n"
      ],
      "text/plain": [
       " [1] \"call\"           \"terms\"          \"family\"         \"deviance\"      \n",
       " [5] \"aic\"            \"contrasts\"      \"df.residual\"    \"null.deviance\" \n",
       " [9] \"df.null\"        \"iter\"           \"deviance.resid\" \"coefficients\"  \n",
       "[13] \"aliased\"        \"dispersion\"     \"df\"             \"cov.unscaled\"  \n",
       "[17] \"cov.scaled\"    "
      ]
     },
     "metadata": {},
     "output_type": "display_data"
    },
    {
     "data": {
      "text/html": [
       "<table class=\"dataframe\">\n",
       "<caption>A data.table: 7 × 3</caption>\n",
       "<thead>\n",
       "\t<tr><th scope=col>V1</th><th scope=col>Estimate</th><th scope=col>Pr(&gt;|z|)</th></tr>\n",
       "\t<tr><th scope=col>&lt;chr&gt;</th><th scope=col>&lt;chr&gt;</th><th scope=col>&lt;chr&gt;</th></tr>\n",
       "</thead>\n",
       "<tbody>\n",
       "\t<tr><td>(Intercept)</td><td>-3.6253925548597   </td><td>0                   </td></tr>\n",
       "\t<tr><td>PRS.ADJ.PC </td><td>0.994471015967087  </td><td>5.99354482091748e-17</td></tr>\n",
       "\t<tr><td>AFR        </td><td>-0.355542353749483 </td><td>0.0725861595755327  </td></tr>\n",
       "\t<tr><td>AMR        </td><td>-0.0821619895816947</td><td>0.768404224381061   </td></tr>\n",
       "\t<tr><td>EAS        </td><td>-0.456320663713773 </td><td>0.412551784193739   </td></tr>\n",
       "\t<tr><td>MID        </td><td>0.324204069849256  </td><td>0.238751339580433   </td></tr>\n",
       "\t<tr><td>SAS        </td><td>-0.234063325051496 </td><td>0.751216652351434   </td></tr>\n",
       "</tbody>\n",
       "</table>\n"
      ],
      "text/latex": [
       "A data.table: 7 × 3\n",
       "\\begin{tabular}{lll}\n",
       " V1 & Estimate & Pr(>\\textbar{}z\\textbar{})\\\\\n",
       " <chr> & <chr> & <chr>\\\\\n",
       "\\hline\n",
       "\t (Intercept) & -3.6253925548597    & 0                   \\\\\n",
       "\t PRS.ADJ.PC  & 0.994471015967087   & 5.99354482091748e-17\\\\\n",
       "\t AFR         & -0.355542353749483  & 0.0725861595755327  \\\\\n",
       "\t AMR         & -0.0821619895816947 & 0.768404224381061   \\\\\n",
       "\t EAS         & -0.456320663713773  & 0.412551784193739   \\\\\n",
       "\t MID         & 0.324204069849256   & 0.238751339580433   \\\\\n",
       "\t SAS         & -0.234063325051496  & 0.751216652351434   \\\\\n",
       "\\end{tabular}\n"
      ],
      "text/markdown": [
       "\n",
       "A data.table: 7 × 3\n",
       "\n",
       "| V1 &lt;chr&gt; | Estimate &lt;chr&gt; | Pr(&gt;|z|) &lt;chr&gt; |\n",
       "|---|---|---|\n",
       "| (Intercept) | -3.6253925548597    | 0                    |\n",
       "| PRS.ADJ.PC  | 0.994471015967087   | 5.99354482091748e-17 |\n",
       "| AFR         | -0.355542353749483  | 0.0725861595755327   |\n",
       "| AMR         | -0.0821619895816947 | 0.768404224381061    |\n",
       "| EAS         | -0.456320663713773  | 0.412551784193739    |\n",
       "| MID         | 0.324204069849256   | 0.238751339580433    |\n",
       "| SAS         | -0.234063325051496  | 0.751216652351434    |\n",
       "\n"
      ],
      "text/plain": [
       "  V1          Estimate            Pr(>|z|)            \n",
       "1 (Intercept) -3.6253925548597    0                   \n",
       "2 PRS.ADJ.PC  0.994471015967087   5.99354482091748e-17\n",
       "3 AFR         -0.355542353749483  0.0725861595755327  \n",
       "4 AMR         -0.0821619895816947 0.768404224381061   \n",
       "5 EAS         -0.456320663713773  0.412551784193739   \n",
       "6 MID         0.324204069849256   0.238751339580433   \n",
       "7 SAS         -0.234063325051496  0.751216652351434   "
      ]
     },
     "metadata": {},
     "output_type": "display_data"
    },
    {
     "data": {
      "text/html": [
       "<table class=\"dataframe\">\n",
       "<caption>A data.table: 7 × 3</caption>\n",
       "<thead>\n",
       "\t<tr><th scope=col>cov</th><th scope=col>beta</th><th scope=col>p</th></tr>\n",
       "\t<tr><th scope=col>&lt;chr&gt;</th><th scope=col>&lt;chr&gt;</th><th scope=col>&lt;chr&gt;</th></tr>\n",
       "</thead>\n",
       "<tbody>\n",
       "\t<tr><td>(Intercept)</td><td>-3.6253925548597   </td><td>0                   </td></tr>\n",
       "\t<tr><td>PRS.ADJ.PC </td><td>0.994471015967087  </td><td>5.99354482091748e-17</td></tr>\n",
       "\t<tr><td>AFR        </td><td>-0.355542353749483 </td><td>0.0725861595755327  </td></tr>\n",
       "\t<tr><td>AMR        </td><td>-0.0821619895816947</td><td>0.768404224381061   </td></tr>\n",
       "\t<tr><td>EAS        </td><td>-0.456320663713773 </td><td>0.412551784193739   </td></tr>\n",
       "\t<tr><td>MID        </td><td>0.324204069849256  </td><td>0.238751339580433   </td></tr>\n",
       "\t<tr><td>SAS        </td><td>-0.234063325051496 </td><td>0.751216652351434   </td></tr>\n",
       "</tbody>\n",
       "</table>\n"
      ],
      "text/latex": [
       "A data.table: 7 × 3\n",
       "\\begin{tabular}{lll}\n",
       " cov & beta & p\\\\\n",
       " <chr> & <chr> & <chr>\\\\\n",
       "\\hline\n",
       "\t (Intercept) & -3.6253925548597    & 0                   \\\\\n",
       "\t PRS.ADJ.PC  & 0.994471015967087   & 5.99354482091748e-17\\\\\n",
       "\t AFR         & -0.355542353749483  & 0.0725861595755327  \\\\\n",
       "\t AMR         & -0.0821619895816947 & 0.768404224381061   \\\\\n",
       "\t EAS         & -0.456320663713773  & 0.412551784193739   \\\\\n",
       "\t MID         & 0.324204069849256   & 0.238751339580433   \\\\\n",
       "\t SAS         & -0.234063325051496  & 0.751216652351434   \\\\\n",
       "\\end{tabular}\n"
      ],
      "text/markdown": [
       "\n",
       "A data.table: 7 × 3\n",
       "\n",
       "| cov &lt;chr&gt; | beta &lt;chr&gt; | p &lt;chr&gt; |\n",
       "|---|---|---|\n",
       "| (Intercept) | -3.6253925548597    | 0                    |\n",
       "| PRS.ADJ.PC  | 0.994471015967087   | 5.99354482091748e-17 |\n",
       "| AFR         | -0.355542353749483  | 0.0725861595755327   |\n",
       "| AMR         | -0.0821619895816947 | 0.768404224381061    |\n",
       "| EAS         | -0.456320663713773  | 0.412551784193739    |\n",
       "| MID         | 0.324204069849256   | 0.238751339580433    |\n",
       "| SAS         | -0.234063325051496  | 0.751216652351434    |\n",
       "\n"
      ],
      "text/plain": [
       "  cov         beta                p                   \n",
       "1 (Intercept) -3.6253925548597    0                   \n",
       "2 PRS.ADJ.PC  0.994471015967087   5.99354482091748e-17\n",
       "3 AFR         -0.355542353749483  0.0725861595755327  \n",
       "4 AMR         -0.0821619895816947 0.768404224381061   \n",
       "5 EAS         -0.456320663713773  0.412551784193739   \n",
       "6 MID         0.324204069849256   0.238751339580433   \n",
       "7 SAS         -0.234063325051496  0.751216652351434   "
      ]
     },
     "metadata": {},
     "output_type": "display_data"
    },
    {
     "data": {
      "text/html": [
       "<table class=\"dataframe\">\n",
       "<caption>A data.table: 7 × 3</caption>\n",
       "<thead>\n",
       "\t<tr><th scope=col>cov</th><th scope=col>beta</th><th scope=col>p</th></tr>\n",
       "\t<tr><th scope=col>&lt;chr&gt;</th><th scope=col>&lt;dbl&gt;</th><th scope=col>&lt;chr&gt;</th></tr>\n",
       "</thead>\n",
       "<tbody>\n",
       "\t<tr><td>(Intercept)</td><td>-3.63</td><td>0.0e+00</td></tr>\n",
       "\t<tr><td>PRS.ADJ.PC </td><td> 0.99</td><td>6.0e-17</td></tr>\n",
       "\t<tr><td>AFR        </td><td>-0.36</td><td>7.3e-02</td></tr>\n",
       "\t<tr><td>AMR        </td><td>-0.08</td><td>7.7e-01</td></tr>\n",
       "\t<tr><td>EAS        </td><td>-0.46</td><td>4.1e-01</td></tr>\n",
       "\t<tr><td>MID        </td><td> 0.32</td><td>2.4e-01</td></tr>\n",
       "\t<tr><td>SAS        </td><td>-0.23</td><td>7.5e-01</td></tr>\n",
       "</tbody>\n",
       "</table>\n"
      ],
      "text/latex": [
       "A data.table: 7 × 3\n",
       "\\begin{tabular}{lll}\n",
       " cov & beta & p\\\\\n",
       " <chr> & <dbl> & <chr>\\\\\n",
       "\\hline\n",
       "\t (Intercept) & -3.63 & 0.0e+00\\\\\n",
       "\t PRS.ADJ.PC  &  0.99 & 6.0e-17\\\\\n",
       "\t AFR         & -0.36 & 7.3e-02\\\\\n",
       "\t AMR         & -0.08 & 7.7e-01\\\\\n",
       "\t EAS         & -0.46 & 4.1e-01\\\\\n",
       "\t MID         &  0.32 & 2.4e-01\\\\\n",
       "\t SAS         & -0.23 & 7.5e-01\\\\\n",
       "\\end{tabular}\n"
      ],
      "text/markdown": [
       "\n",
       "A data.table: 7 × 3\n",
       "\n",
       "| cov &lt;chr&gt; | beta &lt;dbl&gt; | p &lt;chr&gt; |\n",
       "|---|---|---|\n",
       "| (Intercept) | -3.63 | 0.0e+00 |\n",
       "| PRS.ADJ.PC  |  0.99 | 6.0e-17 |\n",
       "| AFR         | -0.36 | 7.3e-02 |\n",
       "| AMR         | -0.08 | 7.7e-01 |\n",
       "| EAS         | -0.46 | 4.1e-01 |\n",
       "| MID         |  0.32 | 2.4e-01 |\n",
       "| SAS         | -0.23 | 7.5e-01 |\n",
       "\n"
      ],
      "text/plain": [
       "  cov         beta  p      \n",
       "1 (Intercept) -3.63 0.0e+00\n",
       "2 PRS.ADJ.PC   0.99 6.0e-17\n",
       "3 AFR         -0.36 7.3e-02\n",
       "4 AMR         -0.08 7.7e-01\n",
       "5 EAS         -0.46 4.1e-01\n",
       "6 MID          0.32 2.4e-01\n",
       "7 SAS         -0.23 7.5e-01"
      ]
     },
     "metadata": {},
     "output_type": "display_data"
    }
   ],
   "source": [
    "my.model <- glm(CRC.status ~ PRS.ADJ.PC + AFR + AMR + EAS + MID + SAS, family=binomial, data=merge2.dt)\n",
    "(summary.my.model <- summary(my.model))\n",
    "names(summary.my.model)\n",
    "out.table <- data.table(cbind(rownames(summary.my.model$coeff),summary.my.model$coef[,c(1,4)]))\n",
    "out.table\n",
    "setnames(out.table,c(\"cov\",\"beta\",\"p\"))\n",
    "out.table\n",
    "out.table[,beta:=round(as.numeric(beta),2)]\n",
    "out.table[,p:=format(as.numeric(p),format=\"e\",digits=2)]\n",
    "out.table"
   ]
  }
 ],
 "metadata": {
  "kernelspec": {
   "display_name": "R",
   "language": "R",
   "name": "ir"
  },
  "language_info": {
   "codemirror_mode": "r",
   "file_extension": ".r",
   "mimetype": "text/x-r-source",
   "name": "R",
   "pygments_lexer": "r",
   "version": "4.3.1"
  },
  "toc": {
   "base_numbering": 1,
   "nav_menu": {
    "height": "240.994px",
    "width": "305.604px"
   },
   "number_sections": true,
   "sideBar": true,
   "skip_h1_title": false,
   "title_cell": "Table of Contents",
   "title_sidebar": "Contents",
   "toc_cell": false,
   "toc_position": {},
   "toc_section_display": true,
   "toc_window_display": false
  }
 },
 "nbformat": 4,
 "nbformat_minor": 2
}
