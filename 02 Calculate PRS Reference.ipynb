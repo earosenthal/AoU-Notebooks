{
 "cells": [
  {
   "cell_type": "markdown",
   "metadata": {},
   "source": [
    "02 Calculate PRS Reference\n",
    "Purpose: Calcuate the PRS in reference samples, accounting for mismatches, strand flips and duplicate positions and counting these\n",
    "\n",
    "using 4 CPUs, 15 GB Ram, 100 GB Disk (Standard VM)\n",
    "\n"
   ]
  },
  {
   "cell_type": "code",
   "execution_count": 1,
   "metadata": {},
   "outputs": [
    {
     "data": {
      "text/html": [
       "<ol>\n",
       "\t<li>NULL</li>\n",
       "\t<li>NULL</li>\n",
       "\t<li>NULL</li>\n",
       "\t<li>NULL</li>\n",
       "\t<li>NULL</li>\n",
       "</ol>\n"
      ],
      "text/latex": [
       "\\begin{enumerate}\n",
       "\\item NULL\n",
       "\\item NULL\n",
       "\\item NULL\n",
       "\\item NULL\n",
       "\\item NULL\n",
       "\\end{enumerate}\n"
      ],
      "text/markdown": [
       "1. NULL\n",
       "2. NULL\n",
       "3. NULL\n",
       "4. NULL\n",
       "5. NULL\n",
       "\n",
       "\n"
      ],
      "text/plain": [
       "[[1]]\n",
       "NULL\n",
       "\n",
       "[[2]]\n",
       "NULL\n",
       "\n",
       "[[3]]\n",
       "NULL\n",
       "\n",
       "[[4]]\n",
       "NULL\n",
       "\n",
       "[[5]]\n",
       "NULL\n"
      ]
     },
     "metadata": {},
     "output_type": "display_data"
    },
    {
     "name": "stderr",
     "output_type": "stream",
     "text": [
      "Loading required package: lattice\n",
      "\n",
      "Loading required package: survival\n",
      "\n",
      "Loading required package: Formula\n",
      "\n",
      "Loading required package: ggplot2\n",
      "\n",
      "\n",
      "Attaching package: ‘Hmisc’\n",
      "\n",
      "\n",
      "The following objects are masked from ‘package:base’:\n",
      "\n",
      "    format.pval, units\n",
      "\n",
      "\n",
      "Loading required package: bigstatsr\n",
      "\n",
      "\n",
      "Attaching package: ‘dplyr’\n",
      "\n",
      "\n",
      "The following objects are masked from ‘package:Hmisc’:\n",
      "\n",
      "    src, summarize\n",
      "\n",
      "\n",
      "The following objects are masked from ‘package:data.table’:\n",
      "\n",
      "    between, first, last\n",
      "\n",
      "\n",
      "The following objects are masked from ‘package:stats’:\n",
      "\n",
      "    filter, lag\n",
      "\n",
      "\n",
      "The following objects are masked from ‘package:base’:\n",
      "\n",
      "    intersect, setdiff, setequal, union\n",
      "\n",
      "\n"
     ]
    }
   ],
   "source": [
    "lapply(c('data.table', 'Hmisc', 'bigsnpr','dplyr','stringr'),\n",
    "       function(pkg) { if(! pkg %in% installed.packages()) { install.packages(pkg)} } )\n",
    "library(data.table)\n",
    "library(Hmisc)\n",
    "library(bigsnpr)\n",
    "library(dplyr)\n",
    "library(stringr)"
   ]
  },
  {
   "cell_type": "code",
   "execution_count": 2,
   "metadata": {},
   "outputs": [
    {
     "data": {
      "text/plain": [
       "R version 4.2.0 (2022-04-22)\n",
       "Platform: x86_64-pc-linux-gnu (64-bit)\n",
       "Running under: Ubuntu 20.04.3 LTS\n",
       "\n",
       "Matrix products: default\n",
       "BLAS:   /usr/lib/x86_64-linux-gnu/openblas-pthread/libblas.so.3\n",
       "LAPACK: /usr/lib/x86_64-linux-gnu/openblas-pthread/liblapack.so.3\n",
       "\n",
       "locale:\n",
       " [1] LC_CTYPE=en_US.UTF-8       LC_NUMERIC=C              \n",
       " [3] LC_TIME=en_US.UTF-8        LC_COLLATE=en_US.UTF-8    \n",
       " [5] LC_MONETARY=en_US.UTF-8    LC_MESSAGES=en_US.UTF-8   \n",
       " [7] LC_PAPER=en_US.UTF-8       LC_NAME=C                 \n",
       " [9] LC_ADDRESS=C               LC_TELEPHONE=C            \n",
       "[11] LC_MEASUREMENT=en_US.UTF-8 LC_IDENTIFICATION=C       \n",
       "\n",
       "attached base packages:\n",
       "[1] stats     graphics  grDevices utils     datasets  methods   base     \n",
       "\n",
       "other attached packages:\n",
       " [1] stringr_1.4.0     dplyr_1.0.9       bigsnpr_1.10.8    bigstatsr_1.5.6  \n",
       " [5] Hmisc_4.7-1       ggplot2_3.3.6     Formula_1.2-4     survival_3.3-1   \n",
       " [9] lattice_0.20-45   data.table_1.14.2\n",
       "\n",
       "loaded via a namespace (and not attached):\n",
       " [1] jsonlite_1.8.0      splines_4.2.0       foreach_1.5.2      \n",
       " [4] assertthat_0.2.1    latticeExtra_0.6-30 doRNG_1.8.2        \n",
       " [7] pillar_1.7.0        backports_1.4.1     glue_1.6.2         \n",
       "[10] uuid_1.1-0          digest_0.6.29       RColorBrewer_1.1-3 \n",
       "[13] checkmate_2.1.0     colorspace_2.0-3    cowplot_1.1.1      \n",
       "[16] htmltools_0.5.2     Matrix_1.4-1        pkgconfig_2.0.3    \n",
       "[19] bigparallelr_0.3.2  purrr_0.3.4         scales_1.2.0       \n",
       "[22] jpeg_0.1-9          htmlTable_2.4.1     tibble_3.1.7       \n",
       "[25] generics_0.1.2      ellipsis_0.3.2      withr_2.5.0        \n",
       "[28] repr_1.1.4          nnet_7.3-17         cli_3.3.0          \n",
       "[31] magrittr_2.0.3      crayon_1.5.1        deldir_1.0-6       \n",
       "[34] evaluate_0.15       bigassertr_0.1.5    fansi_1.0.3        \n",
       "[37] doParallel_1.0.17   foreign_0.8-82      tools_4.2.0        \n",
       "[40] lifecycle_1.0.1     interp_1.1-3        bigsparser_0.6.1   \n",
       "[43] munsell_0.5.0       rngtools_1.5.2      cluster_2.1.3      \n",
       "[46] compiler_4.2.0      rlang_1.0.2         grid_4.2.0         \n",
       "[49] pbdZMQ_0.3-7        iterators_1.0.14    IRkernel_1.3       \n",
       "[52] rstudioapi_0.13     htmlwidgets_1.5.4   base64enc_0.1-3    \n",
       "[55] gtable_0.3.0        codetools_0.2-18    flock_0.7          \n",
       "[58] DBI_1.1.3           R6_2.5.1            gridExtra_2.3      \n",
       "[61] knitr_1.39          fastmap_1.1.0       utf8_1.2.2         \n",
       "[64] stringi_1.7.6       parallel_4.2.0      IRdisplay_1.1      \n",
       "[67] Rcpp_1.0.8.3        vctrs_0.4.1         rpart_4.1.16       \n",
       "[70] png_0.1-7           tidyselect_1.1.2    xfun_0.31          "
      ]
     },
     "metadata": {},
     "output_type": "display_data"
    }
   ],
   "source": [
    "sessionInfo()"
   ]
  },
  {
   "cell_type": "code",
   "execution_count": 3,
   "metadata": {},
   "outputs": [
    {
     "data": {
      "text/html": [
       "<style>\n",
       ".list-inline {list-style: none; margin:0; padding: 0}\n",
       ".list-inline>li {display: inline-block}\n",
       ".list-inline>li:not(:last-child)::after {content: \"\\00b7\"; padding: 0 .5ex}\n",
       "</style>\n",
       "<ol class=list-inline><li>'T'</li><li>'G'</li><li>'C'</li></ol>\n"
      ],
      "text/latex": [
       "\\begin{enumerate*}\n",
       "\\item 'T'\n",
       "\\item 'G'\n",
       "\\item 'C'\n",
       "\\end{enumerate*}\n"
      ],
      "text/markdown": [
       "1. 'T'\n",
       "2. 'G'\n",
       "3. 'C'\n",
       "\n",
       "\n"
      ],
      "text/plain": [
       "[1] \"T\" \"G\" \"C\""
      ]
     },
     "metadata": {},
     "output_type": "display_data"
    }
   ],
   "source": [
    "# function to get the complement allele\n",
    "complement.allele <- function(allele)\n",
    "{\n",
    "  out <- ifelse(allele==\"A\",\"T\",NA)\n",
    "  out <- ifelse(allele==\"T\",\"A\",out)\n",
    "  out <- ifelse(allele==\"C\",\"G\",out)\n",
    "  out <- ifelse(allele==\"G\",\"C\",out)\n",
    "  out\n",
    "}\n",
    "# check that it works\n",
    "check <- c(\"A\",\"C\",\"G\")\n",
    "complement.allele(check)"
   ]
  },
  {
   "cell_type": "code",
   "execution_count": 4,
   "metadata": {},
   "outputs": [
    {
     "name": "stderr",
     "output_type": "stream",
     "text": [
      "Warning message in rm(prs.total):\n",
      "“object 'prs.total' not found”\n"
     ]
    },
    {
     "name": "stdout",
     "output_type": "stream",
     "text": [
      "chr 1\n",
      "Initialized PRS total mean is 0.000\n",
      "Number positions with indels 0\n",
      "Number multiallelic positions (including indels) 2036\n",
      "Number multiallelic positions (excluding indels) 2036\n"
     ]
    },
    {
     "name": "stderr",
     "output_type": "stream",
     "text": [
      "85,997 variants to be matched.\n",
      "\n",
      "0 ambiguous SNPs have been removed.\n",
      "\n",
      "85,997 variants have been matched; 120 were flipped and 309 were reversed.\n",
      "\n"
     ]
    },
    {
     "name": "stdout",
     "output_type": "stream",
     "text": [
      "Number flipped positions 118\n",
      "Number reversed strand positions 302\n",
      "Number both flipped and reversed positions 31\n"
     ]
    },
    {
     "name": "stderr",
     "output_type": "stream",
     "text": [
      "'lpS.keep' or 'thr.list' was not specified. Thresholding disabled.\n",
      "\n"
     ]
    },
    {
     "name": "stdout",
     "output_type": "stream",
     "text": [
      "mean PRS for the chr is -0.111\n",
      "mean PRS total before adding 0.000\n",
      "mean PRS total after adding -0.111\n",
      "chr 2\n"
     ]
    },
    {
     "name": "stderr",
     "output_type": "stream",
     "text": [
      "Creating directory \"/tmp/RtmpOYJCSW\" which didn't exist..\n",
      "\n"
     ]
    },
    {
     "name": "stdout",
     "output_type": "stream",
     "text": [
      "Number positions with indels 0\n",
      "Number multiallelic positions (including indels) 2196\n",
      "Number multiallelic positions (excluding indels) 2196\n"
     ]
    },
    {
     "name": "stderr",
     "output_type": "stream",
     "text": [
      "87,140 variants to be matched.\n",
      "\n",
      "0 ambiguous SNPs have been removed.\n",
      "\n",
      "87,140 variants have been matched; 7 were flipped and 76 were reversed.\n",
      "\n"
     ]
    },
    {
     "name": "stdout",
     "output_type": "stream",
     "text": [
      "Number flipped positions 7\n",
      "Number reversed strand positions 73\n",
      "Number both flipped and reversed positions 0\n"
     ]
    },
    {
     "name": "stderr",
     "output_type": "stream",
     "text": [
      "'lpS.keep' or 'thr.list' was not specified. Thresholding disabled.\n",
      "\n"
     ]
    },
    {
     "name": "stdout",
     "output_type": "stream",
     "text": [
      "mean PRS for the chr is 0.141\n",
      "mean PRS total before adding -0.111\n",
      "mean PRS total after adding 0.030\n",
      "chr 3\n"
     ]
    },
    {
     "name": "stderr",
     "output_type": "stream",
     "text": [
      "Creating directory \"/tmp/RtmpOYJCSW\" which didn't exist..\n",
      "\n"
     ]
    },
    {
     "name": "stdout",
     "output_type": "stream",
     "text": [
      "Number positions with indels 0\n",
      "Number multiallelic positions (including indels) 1772\n",
      "Number multiallelic positions (excluding indels) 1772\n"
     ]
    },
    {
     "name": "stderr",
     "output_type": "stream",
     "text": [
      "73,064 variants to be matched.\n",
      "\n",
      "0 ambiguous SNPs have been removed.\n",
      "\n",
      "73,064 variants have been matched; 0 were flipped and 100 were reversed.\n",
      "\n"
     ]
    },
    {
     "name": "stdout",
     "output_type": "stream",
     "text": [
      "Number flipped positions 0\n",
      "Number reversed strand positions 100\n",
      "Number both flipped and reversed positions 0\n"
     ]
    },
    {
     "name": "stderr",
     "output_type": "stream",
     "text": [
      "'lpS.keep' or 'thr.list' was not specified. Thresholding disabled.\n",
      "\n"
     ]
    },
    {
     "name": "stdout",
     "output_type": "stream",
     "text": [
      "mean PRS for the chr is -0.079\n",
      "mean PRS total before adding 0.030\n",
      "mean PRS total after adding -0.048\n",
      "chr 4\n"
     ]
    },
    {
     "name": "stderr",
     "output_type": "stream",
     "text": [
      "Creating directory \"/tmp/RtmpOYJCSW\" which didn't exist..\n",
      "\n"
     ]
    },
    {
     "name": "stdout",
     "output_type": "stream",
     "text": [
      "Number positions with indels 0\n",
      "Number multiallelic positions (including indels) 1642\n",
      "Number multiallelic positions (excluding indels) 1642\n"
     ]
    },
    {
     "name": "stderr",
     "output_type": "stream",
     "text": [
      "65,288 variants to be matched.\n",
      "\n",
      "0 ambiguous SNPs have been removed.\n",
      "\n",
      "65,288 variants have been matched; 0 were flipped and 23 were reversed.\n",
      "\n"
     ]
    },
    {
     "name": "stdout",
     "output_type": "stream",
     "text": [
      "Number flipped positions 0\n",
      "Number reversed strand positions 23\n",
      "Number both flipped and reversed positions 0\n"
     ]
    },
    {
     "name": "stderr",
     "output_type": "stream",
     "text": [
      "'lpS.keep' or 'thr.list' was not specified. Thresholding disabled.\n",
      "\n"
     ]
    },
    {
     "name": "stdout",
     "output_type": "stream",
     "text": [
      "mean PRS for the chr is -0.071\n",
      "mean PRS total before adding -0.048\n",
      "mean PRS total after adding -0.120\n",
      "chr 5\n"
     ]
    },
    {
     "name": "stderr",
     "output_type": "stream",
     "text": [
      "Creating directory \"/tmp/RtmpOYJCSW\" which didn't exist..\n",
      "\n"
     ]
    },
    {
     "name": "stdout",
     "output_type": "stream",
     "text": [
      "Number positions with indels 0\n",
      "Number multiallelic positions (including indels) 982\n",
      "Number multiallelic positions (excluding indels) 982\n"
     ]
    },
    {
     "name": "stderr",
     "output_type": "stream",
     "text": [
      "65,848 variants to be matched.\n",
      "\n",
      "0 ambiguous SNPs have been removed.\n",
      "\n",
      "65,848 variants have been matched; 0 were flipped and 15 were reversed.\n",
      "\n"
     ]
    },
    {
     "name": "stdout",
     "output_type": "stream",
     "text": [
      "Number flipped positions 0\n",
      "Number reversed strand positions 15\n",
      "Number both flipped and reversed positions 0\n"
     ]
    },
    {
     "name": "stderr",
     "output_type": "stream",
     "text": [
      "'lpS.keep' or 'thr.list' was not specified. Thresholding disabled.\n",
      "\n"
     ]
    },
    {
     "name": "stdout",
     "output_type": "stream",
     "text": [
      "mean PRS for the chr is -0.140\n",
      "mean PRS total before adding -0.120\n",
      "mean PRS total after adding -0.260\n",
      "chr 6\n"
     ]
    },
    {
     "name": "stderr",
     "output_type": "stream",
     "text": [
      "Creating directory \"/tmp/RtmpOYJCSW\" which didn't exist..\n",
      "\n"
     ]
    },
    {
     "name": "stdout",
     "output_type": "stream",
     "text": [
      "Number positions with indels 0\n",
      "Number multiallelic positions (including indels) 1574\n",
      "Number multiallelic positions (excluding indels) 1574\n"
     ]
    },
    {
     "name": "stderr",
     "output_type": "stream",
     "text": [
      "68,844 variants to be matched.\n",
      "\n",
      "0 ambiguous SNPs have been removed.\n",
      "\n",
      "68,844 variants have been matched; 34 were flipped and 114 were reversed.\n",
      "\n"
     ]
    },
    {
     "name": "stdout",
     "output_type": "stream",
     "text": [
      "Number flipped positions 34\n",
      "Number reversed strand positions 111\n",
      "Number both flipped and reversed positions 2\n"
     ]
    },
    {
     "name": "stderr",
     "output_type": "stream",
     "text": [
      "'lpS.keep' or 'thr.list' was not specified. Thresholding disabled.\n",
      "\n"
     ]
    },
    {
     "name": "stdout",
     "output_type": "stream",
     "text": [
      "mean PRS for the chr is 0.436\n",
      "mean PRS total before adding -0.260\n",
      "mean PRS total after adding 0.176\n",
      "chr 7\n"
     ]
    },
    {
     "name": "stderr",
     "output_type": "stream",
     "text": [
      "Creating directory \"/tmp/RtmpOYJCSW\" which didn't exist..\n",
      "\n"
     ]
    },
    {
     "name": "stdout",
     "output_type": "stream",
     "text": [
      "Number positions with indels 0\n",
      "Number multiallelic positions (including indels) 1445\n",
      "Number multiallelic positions (excluding indels) 1445\n"
     ]
    },
    {
     "name": "stderr",
     "output_type": "stream",
     "text": [
      "57,703 variants to be matched.\n",
      "\n",
      "0 ambiguous SNPs have been removed.\n",
      "\n",
      "57,703 variants have been matched; 0 were flipped and 162 were reversed.\n",
      "\n"
     ]
    },
    {
     "name": "stdout",
     "output_type": "stream",
     "text": [
      "Number flipped positions 0\n",
      "Number reversed strand positions 159\n",
      "Number both flipped and reversed positions 0\n"
     ]
    },
    {
     "name": "stderr",
     "output_type": "stream",
     "text": [
      "'lpS.keep' or 'thr.list' was not specified. Thresholding disabled.\n",
      "\n"
     ]
    },
    {
     "name": "stdout",
     "output_type": "stream",
     "text": [
      "mean PRS for the chr is 0.027\n",
      "mean PRS total before adding 0.176\n",
      "mean PRS total after adding 0.202\n",
      "chr 8\n"
     ]
    },
    {
     "name": "stderr",
     "output_type": "stream",
     "text": [
      "Creating directory \"/tmp/RtmpOYJCSW\" which didn't exist..\n",
      "\n"
     ]
    },
    {
     "name": "stdout",
     "output_type": "stream",
     "text": [
      "Number positions with indels 0\n",
      "Number multiallelic positions (including indels) 1712\n",
      "Number multiallelic positions (excluding indels) 1712\n"
     ]
    },
    {
     "name": "stderr",
     "output_type": "stream",
     "text": [
      "57,315 variants to be matched.\n",
      "\n",
      "0 ambiguous SNPs have been removed.\n",
      "\n",
      "57,315 variants have been matched; 1 were flipped and 200 were reversed.\n",
      "\n"
     ]
    },
    {
     "name": "stdout",
     "output_type": "stream",
     "text": [
      "Number flipped positions 1\n",
      "Number reversed strand positions 187\n",
      "Number both flipped and reversed positions 0\n"
     ]
    },
    {
     "name": "stderr",
     "output_type": "stream",
     "text": [
      "'lpS.keep' or 'thr.list' was not specified. Thresholding disabled.\n",
      "\n"
     ]
    },
    {
     "name": "stdout",
     "output_type": "stream",
     "text": [
      "mean PRS for the chr is -0.177\n",
      "mean PRS total before adding 0.202\n",
      "mean PRS total after adding 0.025\n",
      "chr 9\n"
     ]
    },
    {
     "name": "stderr",
     "output_type": "stream",
     "text": [
      "Creating directory \"/tmp/RtmpOYJCSW\" which didn't exist..\n",
      "\n"
     ]
    },
    {
     "name": "stdout",
     "output_type": "stream",
     "text": [
      "Number positions with indels 0\n",
      "Number multiallelic positions (including indels) 1279\n",
      "Number multiallelic positions (excluding indels) 1279\n"
     ]
    },
    {
     "name": "stderr",
     "output_type": "stream",
     "text": [
      "48,263 variants to be matched.\n",
      "\n",
      "0 ambiguous SNPs have been removed.\n",
      "\n",
      "48,263 variants have been matched; 0 were flipped and 11 were reversed.\n",
      "\n"
     ]
    },
    {
     "name": "stdout",
     "output_type": "stream",
     "text": [
      "Number flipped positions 0\n",
      "Number reversed strand positions 11\n",
      "Number both flipped and reversed positions 0\n"
     ]
    },
    {
     "name": "stderr",
     "output_type": "stream",
     "text": [
      "'lpS.keep' or 'thr.list' was not specified. Thresholding disabled.\n",
      "\n"
     ]
    },
    {
     "name": "stdout",
     "output_type": "stream",
     "text": [
      "mean PRS for the chr is -0.093\n",
      "mean PRS total before adding 0.025\n",
      "mean PRS total after adding -0.068\n",
      "chr 10\n"
     ]
    },
    {
     "name": "stderr",
     "output_type": "stream",
     "text": [
      "Creating directory \"/tmp/RtmpOYJCSW\" which didn't exist..\n",
      "\n"
     ]
    },
    {
     "name": "stdout",
     "output_type": "stream",
     "text": [
      "Number positions with indels 0\n",
      "Number multiallelic positions (including indels) 1404\n",
      "Number multiallelic positions (excluding indels) 1404\n"
     ]
    },
    {
     "name": "stderr",
     "output_type": "stream",
     "text": [
      "56,333 variants to be matched.\n",
      "\n",
      "0 ambiguous SNPs have been removed.\n",
      "\n",
      "56,333 variants have been matched; 200 were flipped and 18 were reversed.\n",
      "\n"
     ]
    },
    {
     "name": "stdout",
     "output_type": "stream",
     "text": [
      "Number flipped positions 197\n",
      "Number reversed strand positions 18\n",
      "Number both flipped and reversed positions 0\n"
     ]
    },
    {
     "name": "stderr",
     "output_type": "stream",
     "text": [
      "'lpS.keep' or 'thr.list' was not specified. Thresholding disabled.\n",
      "\n"
     ]
    },
    {
     "name": "stdout",
     "output_type": "stream",
     "text": [
      "mean PRS for the chr is -0.029\n",
      "mean PRS total before adding -0.068\n",
      "mean PRS total after adding -0.097\n",
      "chr 11\n"
     ]
    },
    {
     "name": "stderr",
     "output_type": "stream",
     "text": [
      "Creating directory \"/tmp/RtmpOYJCSW\" which didn't exist..\n",
      "\n"
     ]
    },
    {
     "name": "stdout",
     "output_type": "stream",
     "text": [
      "Number positions with indels 0\n",
      "Number multiallelic positions (including indels) 1361\n",
      "Number multiallelic positions (excluding indels) 1361\n"
     ]
    },
    {
     "name": "stderr",
     "output_type": "stream",
     "text": [
      "53,794 variants to be matched.\n",
      "\n",
      "0 ambiguous SNPs have been removed.\n",
      "\n",
      "53,794 variants have been matched; 27 were flipped and 23 were reversed.\n",
      "\n"
     ]
    },
    {
     "name": "stdout",
     "output_type": "stream",
     "text": [
      "Number flipped positions 23\n",
      "Number reversed strand positions 23\n",
      "Number both flipped and reversed positions 0\n"
     ]
    },
    {
     "name": "stderr",
     "output_type": "stream",
     "text": [
      "'lpS.keep' or 'thr.list' was not specified. Thresholding disabled.\n",
      "\n"
     ]
    },
    {
     "name": "stdout",
     "output_type": "stream",
     "text": [
      "mean PRS for the chr is 0.090\n",
      "mean PRS total before adding -0.097\n",
      "mean PRS total after adding -0.007\n",
      "chr 12\n"
     ]
    },
    {
     "name": "stderr",
     "output_type": "stream",
     "text": [
      "Creating directory \"/tmp/RtmpOYJCSW\" which didn't exist..\n",
      "\n"
     ]
    },
    {
     "name": "stdout",
     "output_type": "stream",
     "text": [
      "Number positions with indels 0\n",
      "Number multiallelic positions (including indels) 1133\n",
      "Number multiallelic positions (excluding indels) 1133\n"
     ]
    },
    {
     "name": "stderr",
     "output_type": "stream",
     "text": [
      "50,615 variants to be matched.\n",
      "\n",
      "0 ambiguous SNPs have been removed.\n",
      "\n",
      "50,615 variants have been matched; 9 were flipped and 18 were reversed.\n",
      "\n"
     ]
    },
    {
     "name": "stdout",
     "output_type": "stream",
     "text": [
      "Number flipped positions 9\n",
      "Number reversed strand positions 18\n",
      "Number both flipped and reversed positions 1\n"
     ]
    },
    {
     "name": "stderr",
     "output_type": "stream",
     "text": [
      "'lpS.keep' or 'thr.list' was not specified. Thresholding disabled.\n",
      "\n"
     ]
    },
    {
     "name": "stdout",
     "output_type": "stream",
     "text": [
      "mean PRS for the chr is 0.320\n",
      "mean PRS total before adding -0.007\n",
      "mean PRS total after adding 0.313\n",
      "chr 13\n"
     ]
    },
    {
     "name": "stderr",
     "output_type": "stream",
     "text": [
      "Creating directory \"/tmp/RtmpOYJCSW\" which didn't exist..\n",
      "\n"
     ]
    },
    {
     "name": "stdout",
     "output_type": "stream",
     "text": [
      "Number positions with indels 0\n",
      "Number multiallelic positions (including indels) 934\n",
      "Number multiallelic positions (excluding indels) 934\n"
     ]
    },
    {
     "name": "stderr",
     "output_type": "stream",
     "text": [
      "39,449 variants to be matched.\n",
      "\n",
      "0 ambiguous SNPs have been removed.\n",
      "\n",
      "39,449 variants have been matched; 0 were flipped and 5 were reversed.\n",
      "\n"
     ]
    },
    {
     "name": "stdout",
     "output_type": "stream",
     "text": [
      "Number flipped positions 0\n",
      "Number reversed strand positions 5\n",
      "Number both flipped and reversed positions 0\n"
     ]
    },
    {
     "name": "stderr",
     "output_type": "stream",
     "text": [
      "'lpS.keep' or 'thr.list' was not specified. Thresholding disabled.\n",
      "\n"
     ]
    },
    {
     "name": "stdout",
     "output_type": "stream",
     "text": [
      "mean PRS for the chr is 0.174\n",
      "mean PRS total before adding 0.313\n",
      "mean PRS total after adding 0.487\n",
      "chr 14\n"
     ]
    },
    {
     "name": "stderr",
     "output_type": "stream",
     "text": [
      "Creating directory \"/tmp/RtmpOYJCSW\" which didn't exist..\n",
      "\n"
     ]
    },
    {
     "name": "stdout",
     "output_type": "stream",
     "text": [
      "Number positions with indels 0\n",
      "Number multiallelic positions (including indels) 823\n",
      "Number multiallelic positions (excluding indels) 823\n"
     ]
    },
    {
     "name": "stderr",
     "output_type": "stream",
     "text": [
      "34,308 variants to be matched.\n",
      "\n",
      "0 ambiguous SNPs have been removed.\n",
      "\n",
      "34,308 variants have been matched; 0 were flipped and 271 were reversed.\n",
      "\n"
     ]
    },
    {
     "name": "stdout",
     "output_type": "stream",
     "text": [
      "Number flipped positions 0\n",
      "Number reversed strand positions 267\n",
      "Number both flipped and reversed positions 0\n"
     ]
    },
    {
     "name": "stderr",
     "output_type": "stream",
     "text": [
      "'lpS.keep' or 'thr.list' was not specified. Thresholding disabled.\n",
      "\n"
     ]
    },
    {
     "name": "stdout",
     "output_type": "stream",
     "text": [
      "mean PRS for the chr is 0.143\n",
      "mean PRS total before adding 0.487\n",
      "mean PRS total after adding 0.630\n",
      "chr 15\n"
     ]
    },
    {
     "name": "stderr",
     "output_type": "stream",
     "text": [
      "Creating directory \"/tmp/RtmpOYJCSW\" which didn't exist..\n",
      "\n"
     ]
    },
    {
     "name": "stdout",
     "output_type": "stream",
     "text": [
      "Number positions with indels 0\n",
      "Number multiallelic positions (including indels) 826\n",
      "Number multiallelic positions (excluding indels) 826\n"
     ]
    },
    {
     "name": "stderr",
     "output_type": "stream",
     "text": [
      "30,639 variants to be matched.\n",
      "\n",
      "0 ambiguous SNPs have been removed.\n",
      "\n",
      "30,639 variants have been matched; 149 were flipped and 16 were reversed.\n",
      "\n"
     ]
    },
    {
     "name": "stdout",
     "output_type": "stream",
     "text": [
      "Number flipped positions 147\n",
      "Number reversed strand positions 15\n",
      "Number both flipped and reversed positions 1\n"
     ]
    },
    {
     "name": "stderr",
     "output_type": "stream",
     "text": [
      "'lpS.keep' or 'thr.list' was not specified. Thresholding disabled.\n",
      "\n"
     ]
    },
    {
     "name": "stdout",
     "output_type": "stream",
     "text": [
      "mean PRS for the chr is 0.131\n",
      "mean PRS total before adding 0.630\n",
      "mean PRS total after adding 0.761\n",
      "chr 16\n"
     ]
    },
    {
     "name": "stderr",
     "output_type": "stream",
     "text": [
      "Creating directory \"/tmp/RtmpOYJCSW\" which didn't exist..\n",
      "\n"
     ]
    },
    {
     "name": "stdout",
     "output_type": "stream",
     "text": [
      "Number positions with indels 0\n",
      "Number multiallelic positions (including indels) 1080\n",
      "Number multiallelic positions (excluding indels) 1080\n"
     ]
    },
    {
     "name": "stderr",
     "output_type": "stream",
     "text": [
      "32,055 variants to be matched.\n",
      "\n",
      "0 ambiguous SNPs have been removed.\n",
      "\n",
      "32,055 variants have been matched; 0 were flipped and 0 were reversed.\n",
      "\n"
     ]
    },
    {
     "name": "stdout",
     "output_type": "stream",
     "text": [
      "Number flipped positions 0\n",
      "Number reversed strand positions 0\n",
      "Number both flipped and reversed positions 0\n"
     ]
    },
    {
     "name": "stderr",
     "output_type": "stream",
     "text": [
      "'lpS.keep' or 'thr.list' was not specified. Thresholding disabled.\n",
      "\n"
     ]
    },
    {
     "name": "stdout",
     "output_type": "stream",
     "text": [
      "mean PRS for the chr is -0.094\n",
      "mean PRS total before adding 0.761\n",
      "mean PRS total after adding 0.667\n",
      "chr 17\n"
     ]
    },
    {
     "name": "stderr",
     "output_type": "stream",
     "text": [
      "Creating directory \"/tmp/RtmpOYJCSW\" which didn't exist..\n",
      "\n"
     ]
    },
    {
     "name": "stdout",
     "output_type": "stream",
     "text": [
      "Number positions with indels 0\n",
      "Number multiallelic positions (including indels) 615\n",
      "Number multiallelic positions (excluding indels) 615\n"
     ]
    },
    {
     "name": "stderr",
     "output_type": "stream",
     "text": [
      "27,337 variants to be matched.\n",
      "\n",
      "0 ambiguous SNPs have been removed.\n",
      "\n",
      "27,337 variants have been matched; 0 were flipped and 360 were reversed.\n",
      "\n"
     ]
    },
    {
     "name": "stdout",
     "output_type": "stream",
     "text": [
      "Number flipped positions 0\n",
      "Number reversed strand positions 349\n",
      "Number both flipped and reversed positions 0\n"
     ]
    },
    {
     "name": "stderr",
     "output_type": "stream",
     "text": [
      "'lpS.keep' or 'thr.list' was not specified. Thresholding disabled.\n",
      "\n"
     ]
    },
    {
     "name": "stdout",
     "output_type": "stream",
     "text": [
      "mean PRS for the chr is 0.060\n",
      "mean PRS total before adding 0.667\n",
      "mean PRS total after adding 0.727\n",
      "chr 18\n"
     ]
    },
    {
     "name": "stderr",
     "output_type": "stream",
     "text": [
      "Creating directory \"/tmp/RtmpOYJCSW\" which didn't exist..\n",
      "\n"
     ]
    },
    {
     "name": "stdout",
     "output_type": "stream",
     "text": [
      "Number positions with indels 0\n",
      "Number multiallelic positions (including indels) 721\n",
      "Number multiallelic positions (excluding indels) 721\n"
     ]
    },
    {
     "name": "stderr",
     "output_type": "stream",
     "text": [
      "30,664 variants to be matched.\n",
      "\n",
      "0 ambiguous SNPs have been removed.\n",
      "\n",
      "30,664 variants have been matched; 0 were flipped and 7 were reversed.\n",
      "\n"
     ]
    },
    {
     "name": "stdout",
     "output_type": "stream",
     "text": [
      "Number flipped positions 0\n",
      "Number reversed strand positions 6\n",
      "Number both flipped and reversed positions 0\n"
     ]
    },
    {
     "name": "stderr",
     "output_type": "stream",
     "text": [
      "'lpS.keep' or 'thr.list' was not specified. Thresholding disabled.\n",
      "\n"
     ]
    },
    {
     "name": "stdout",
     "output_type": "stream",
     "text": [
      "mean PRS for the chr is -0.147\n",
      "mean PRS total before adding 0.727\n",
      "mean PRS total after adding 0.580\n",
      "chr 19\n"
     ]
    },
    {
     "name": "stderr",
     "output_type": "stream",
     "text": [
      "Creating directory \"/tmp/RtmpOYJCSW\" which didn't exist..\n",
      "\n"
     ]
    },
    {
     "name": "stdout",
     "output_type": "stream",
     "text": [
      "Number positions with indels 0\n",
      "Number multiallelic positions (including indels) 432\n",
      "Number multiallelic positions (excluding indels) 432\n"
     ]
    },
    {
     "name": "stderr",
     "output_type": "stream",
     "text": [
      "17,900 variants to be matched.\n",
      "\n",
      "0 ambiguous SNPs have been removed.\n",
      "\n",
      "17,900 variants have been matched; 0 were flipped and 309 were reversed.\n",
      "\n"
     ]
    },
    {
     "name": "stdout",
     "output_type": "stream",
     "text": [
      "Number flipped positions 0\n",
      "Number reversed strand positions 302\n",
      "Number both flipped and reversed positions 0\n"
     ]
    },
    {
     "name": "stderr",
     "output_type": "stream",
     "text": [
      "'lpS.keep' or 'thr.list' was not specified. Thresholding disabled.\n",
      "\n"
     ]
    },
    {
     "name": "stdout",
     "output_type": "stream",
     "text": [
      "mean PRS for the chr is 0.056\n",
      "mean PRS total before adding 0.580\n",
      "mean PRS total after adding 0.636\n",
      "chr 20\n"
     ]
    },
    {
     "name": "stderr",
     "output_type": "stream",
     "text": [
      "Creating directory \"/tmp/RtmpOYJCSW\" which didn't exist..\n",
      "\n"
     ]
    },
    {
     "name": "stdout",
     "output_type": "stream",
     "text": [
      "Number positions with indels 0\n",
      "Number multiallelic positions (including indels) 623\n",
      "Number multiallelic positions (excluding indels) 623\n"
     ]
    },
    {
     "name": "stderr",
     "output_type": "stream",
     "text": [
      "27,423 variants to be matched.\n",
      "\n",
      "0 ambiguous SNPs have been removed.\n",
      "\n",
      "27,423 variants have been matched; 0 were flipped and 46 were reversed.\n",
      "\n"
     ]
    },
    {
     "name": "stdout",
     "output_type": "stream",
     "text": [
      "Number flipped positions 0\n",
      "Number reversed strand positions 45\n",
      "Number both flipped and reversed positions 0\n"
     ]
    },
    {
     "name": "stderr",
     "output_type": "stream",
     "text": [
      "'lpS.keep' or 'thr.list' was not specified. Thresholding disabled.\n",
      "\n"
     ]
    },
    {
     "name": "stdout",
     "output_type": "stream",
     "text": [
      "mean PRS for the chr is -0.179\n",
      "mean PRS total before adding 0.636\n",
      "mean PRS total after adding 0.457\n",
      "chr 21\n"
     ]
    },
    {
     "name": "stderr",
     "output_type": "stream",
     "text": [
      "Creating directory \"/tmp/RtmpOYJCSW\" which didn't exist..\n",
      "\n"
     ]
    },
    {
     "name": "stdout",
     "output_type": "stream",
     "text": [
      "Number positions with indels 0\n",
      "Number multiallelic positions (including indels) 349\n",
      "Number multiallelic positions (excluding indels) 349\n"
     ]
    },
    {
     "name": "stderr",
     "output_type": "stream",
     "text": [
      "14,348 variants to be matched.\n",
      "\n",
      "0 ambiguous SNPs have been removed.\n",
      "\n",
      "14,348 variants have been matched; 0 were flipped and 21 were reversed.\n",
      "\n"
     ]
    },
    {
     "name": "stdout",
     "output_type": "stream",
     "text": [
      "Number flipped positions 0\n",
      "Number reversed strand positions 19\n",
      "Number both flipped and reversed positions 0\n"
     ]
    },
    {
     "name": "stderr",
     "output_type": "stream",
     "text": [
      "'lpS.keep' or 'thr.list' was not specified. Thresholding disabled.\n",
      "\n"
     ]
    },
    {
     "name": "stdout",
     "output_type": "stream",
     "text": [
      "mean PRS for the chr is 0.036\n",
      "mean PRS total before adding 0.457\n",
      "mean PRS total after adding 0.493\n",
      "chr 22\n"
     ]
    },
    {
     "name": "stderr",
     "output_type": "stream",
     "text": [
      "Creating directory \"/tmp/RtmpOYJCSW\" which didn't exist..\n",
      "\n"
     ]
    },
    {
     "name": "stdout",
     "output_type": "stream",
     "text": [
      "Number positions with indels 0\n",
      "Number multiallelic positions (including indels) 345\n",
      "Number multiallelic positions (excluding indels) 345\n"
     ]
    },
    {
     "name": "stderr",
     "output_type": "stream",
     "text": [
      "14,472 variants to be matched.\n",
      "\n",
      "0 ambiguous SNPs have been removed.\n",
      "\n",
      "14,472 variants have been matched; 0 were flipped and 196 were reversed.\n",
      "\n"
     ]
    },
    {
     "name": "stdout",
     "output_type": "stream",
     "text": [
      "Number flipped positions 0\n",
      "Number reversed strand positions 191\n",
      "Number both flipped and reversed positions 0\n"
     ]
    },
    {
     "name": "stderr",
     "output_type": "stream",
     "text": [
      "'lpS.keep' or 'thr.list' was not specified. Thresholding disabled.\n",
      "\n"
     ]
    },
    {
     "name": "stdout",
     "output_type": "stream",
     "text": [
      "mean PRS for the chr is -0.087\n",
      "mean PRS total before adding 0.493\n",
      "mean PRS total after adding 0.406\n"
     ]
    }
   ],
   "source": [
    "#describe(prs.total)\n",
    "rm(prs.total)\n",
    "for(i in 1:22)\n",
    "{\n",
    "    cat(sprintf(\"chr %d\\n\",i)) #write to sink file\n",
    "    \n",
    "\n",
    "    # read in files\n",
    "    # alpha plink files\n",
    "    infile <- paste0(\"chr\",i)\n",
    "    cp.command <- paste0(\"gsutil -m cp -r gs://fc-secure-30fdbdfd-a46b-406d-9617-1bc69ae1da9d/data/reference/plink_chr/\",infile,\".* .\")\n",
    "    system(cp.command, intern=TRUE)\n",
    "    rm.command1 <- paste0(\"rm \",infile,\".*\") #create the command here, but use later\n",
    "    bedfile <- paste0(infile,\".bed\")\n",
    "    rds <- snp_readBed(bedfile,backingfile = tempfile())\n",
    "    obj.bigSNP <- snp_attach(rds)\n",
    "    # SNP beta file\n",
    "    infile <- paste0(\"ldpred_new_fe2021-chr\",i,\".b38.txt\")\n",
    "    cp.command <- paste0(\"gsutil -m cp -r gs://fc-secure-30fdbdfd-a46b-406d-9617-1bc69ae1da9d/\",infile,\" .\")\n",
    "    system(cp.command, intern=TRUE)\n",
    "    rm.command2 <- paste0(\"rm ldpred_new_fe2021-chr\",i,\".b38.txt\") #create the command here, but use later\n",
    "\n",
    "    #get the alpha genotype data\n",
    "    ID <- obj.bigSNP$fam$sample.ID\n",
    "    CHR <- obj.bigSNP$map$chromosome\n",
    "    POS <- obj.bigSNP$map$physical.pos\n",
    "    G   <- obj.bigSNP$genotypes\n",
    "    A1 <- obj.bigSNP$map$allele1\n",
    "    A2 <- obj.bigSNP$map$allele2\n",
    "    alpha.snps.dt <- data.table(cbind(CHR,POS,A1,A2))\n",
    "    alpha.snps.dt[,CHR:=str_replace(CHR,\"chr\",\"\")]\n",
    "    alpha.snps.dt[,CHR:=as.integer(CHR)]\n",
    "    alpha.snps.dt[,POS:=as.integer(POS)]\n",
    "\n",
    "    #initialize prs.total if it doesn't exist yet\n",
    "   if(!exists(\"prs.total\")){\n",
    "    prs.total <- rep(0,length(ID))\n",
    "    cat(sprintf(\"Initialized PRS total mean is %0.3f\\n\",mean(prs.total)))\n",
    "   }\n",
    "\n",
    "    \n",
    "    # get the SNP betas\n",
    "    prs.snps <- fread(infile)\n",
    "    setnames(prs.snps,names(prs.snps),make.names(names(prs.snps)))\n",
    "    prs.snps[,CHR:=as.integer(CHR)]\n",
    "    prs.snps[,POS:=as.integer(POS)]\n",
    "\n",
    "    #combine SNP info from alpha and beta files\n",
    "    setkeyv(alpha.snps.dt,c(\"CHR\",\"POS\"))\n",
    "    setkeyv(prs.snps,c(\"CHR\",\"POS\"))\n",
    "    betas.dt <- prs.snps[alpha.snps.dt]\n",
    "\n",
    "    # add in the complement alleles\n",
    "    betas.dt[,a0c:=complement.allele(a0)]\n",
    "    betas.dt[,a1c:=complement.allele(a1)]\n",
    "    \n",
    "    # zero out the betas for the indels so that they are not included in the analysis\n",
    "    betas.dt[,num.nucs:=str_length(A1) + str_length(A2)]\n",
    "    betas.dt[,beta.fix:=ifelse(num.nucs>2,0,beta)]\n",
    "    cat(sprintf(\"Number positions with indels %d\\n\",length(unique(betas.dt$POS[betas.dt$num.nucs>2]))))\n",
    "    \n",
    "    # determine which positions have duplicates. some of these will correspond to the indels\n",
    "    dup.pos <- betas.dt$POS[duplicated(betas.dt$POS)]\n",
    "    cat(sprintf(\"Number multiallelic positions (including indels) %d\\n\",length(unique(dup.pos))))\n",
    "    cat(sprintf(\"Number multiallelic positions (excluding indels) %d\\n\",\n",
    "                length(setdiff(unique(dup.pos),unique(betas.dt$POS[betas.dt$num.nucs>2])))))\n",
    "    \n",
    "    # remove (zero out) the duplicated positions with mismatched alleles. Hopefully there won't be \n",
    "    # strand flips that need to be dealt with\n",
    "    betas.dt[,rm.dup:=ifelse( POS %in% dup.pos & !( (a0==A1 & a1==A2) | (a0==A2 & a1==A1) | \n",
    "                                               (a0c==A1 & a1c==A2) | (a0c==A2 & a1c==A1)), 1, 0)]\n",
    "    betas.dt[,beta.fix:=ifelse(rm.dup==1,0,beta.fix)]\n",
    "    \n",
    "    # set up the data tables that go into snp_match(), which corrects the betas automatically\n",
    "    sumstats <- betas.dt[,list(chr=CHR,pos=POS,a0,a1,beta=beta.fix)]\n",
    "    info_snp <- betas.dt[,list(chr=CHR,pos=POS,a0=A2,a1=A1)] \n",
    "    \n",
    "    # run the snp_match()\n",
    "    beta.match.dt <- data.table(snp_match(sumstats,info_snp,return_flip_and_rev=TRUE,remove_dups=FALSE))\n",
    "    \n",
    "    #check for SNPs that don't match\n",
    "    if(length(betas.dt$POS) > length(beta.match.dt$pos))\n",
    "    { #need to zero out the beta for these SNPs and put back into the data table in correct order\n",
    "        missing.pos <- setdiff(info_snp$pos,beta.match.dt$pos)\n",
    "        keep.cols <- c(\"CHR\",\"POS\",\"A1\",\"A2\")\n",
    "        add.rows <- betas.dt[,.SD,.SDcols=keep.cols][betas.dt$POS %in% missing.pos]\n",
    "        setnames(add.rows,c(\"chr\",\"pos\",\"a0\",\"a1\"))\n",
    "        add.rows[,beta:=0]\n",
    "        add.rows[,\"_NUM_ID_.ss\":=-1]\n",
    "        add.rows[,\"_FLIP_\":=FALSE]\n",
    "        add.rows[,\"_REV_\":=FALSE]\n",
    "        add.rows[,\"_NUM_ID_\":=-1]\n",
    "        beta.match.dt <- rbind(add.rows,beta.match.dt)\n",
    "        setkeyv(beta.match.dt,c(\"pos\",\"_NUM_ID_.ss\"))\n",
    "    }\n",
    "    # output number flipped/reversed\n",
    "    cat(sprintf(\"Number flipped positions %d\\n\",length(unique(beta.match.dt$pos[beta.match.dt$\"_FLIP_\" == TRUE]))))\n",
    "    cat(sprintf(\"Number reversed strand positions %d\\n\",length(unique(beta.match.dt$pos[beta.match.dt$\"_REV_\" == TRUE]))))    \n",
    "    cat(sprintf(\"Number both flipped and reversed positions %d\\n\",\n",
    "                length(unique(beta.match.dt$pos[beta.match.dt$\"_REV_\" == TRUE & beta.match.dt$\"_FLIP_\" == TRUE]))))\n",
    "    # impute missing genoytpes useing the mode genotype\n",
    "    G2 <- snp_fastImputeSimple(G,method=\"mode\")\n",
    "\n",
    "    #calculate the chr. PRS using the betas from beta.match.dt\n",
    "    prs <- snp_PRS(G=G2, betas.keep = beta.match.dt$beta)[,1]\n",
    "    prs.dt <- data.table(cbind(ID,prs))\n",
    "    setnames(prs.dt,c(\"ID\",\"PRS\"))\n",
    "    cat(sprintf(\"mean PRS for the chr is %0.3f\\n\",mean(prs)))\n",
    "\n",
    "    #output the chr. PRS\n",
    "    outfile <- paste0(\"PRS-chr\",i,\".csv\")\n",
    "    write.csv(prs.dt,outfile,quote=FALSE,row.names=FALSE)\n",
    "    #cp.command <- paste0(\"gsutil -m cp -r \",outfile,\" gs://fc-secure-30fdbdfd-a46b-406d-9617-1bc69ae1da9d/data/reference/\")\n",
    "    cp.command <- paste0(\"gsutil -m cp -r \",outfile,\" gs://fc-secure-91b7b957-58d8-4142-b93b-c3a2635f2d78/data/reference/\")\n",
    "\n",
    "    system(cp.command, intern=TRUE)\n",
    "    \n",
    "    #calculate total PRS up to this point\n",
    "    #prs.total <- prs.total + prs.dt$PRS\n",
    "    cat(sprintf(\"mean PRS total before adding %0.3f\\n\",mean(prs.total)))\n",
    "    prs.total <- prs.total + prs #does this fix my problem\n",
    "    cat(sprintf(\"mean PRS total after adding %0.3f\\n\",mean(prs.total)))\n",
    "   \n",
    "    #remove the temporary file\n",
    "    system(rm.command1, intern=TRUE)\n",
    "    system(rm.command2, intern=TRUE)\n",
    "    rm(rds)\n",
    "    system(\"rm -r /tmp/Rtmp*\")\n",
    "    \n",
    "}\n",
    "#describe(prs.dt$PRS)\n",
    "\n",
    "#sink()"
   ]
  },
  {
   "cell_type": "code",
   "execution_count": 5,
   "metadata": {},
   "outputs": [
    {
     "data": {
      "text/plain": [
       "prs.dt \n",
       "\n",
       " 2  Variables      4151  Observations\n",
       "--------------------------------------------------------------------------------\n",
       "ID \n",
       "       n  missing distinct \n",
       "    4151        0     4151 \n",
       "\n",
       "lowest : CHMI_CHMI3_WGS2 HG00096         HG00097         HG00099         HG00100        \n",
       "highest: SS6004471       SS6004473       SS6004474       SS6004475       SS6004476      \n",
       "--------------------------------------------------------------------------------\n",
       "PRS \n",
       "       n  missing distinct \n",
       "    4151        0     4151 \n",
       "\n",
       "lowest : -0.00077996788063231  -0.000908344492693225 -0.00158847477005243  -0.00190508890119928  -0.00201781930007565 \n",
       "highest: 1.84503778796546      1.84792126024738      1.8677841067253       1.90223732499217      2.02037169079321     \n",
       "--------------------------------------------------------------------------------"
      ]
     },
     "metadata": {},
     "output_type": "display_data"
    }
   ],
   "source": [
    "prs.dt <- data.table(cbind(ID,prs.total))\n",
    "setnames(prs.dt,c(\"ID\",\"PRS\"))\n",
    "describe(prs.dt)\n",
    "outfile <- \"total-LDpred.prs.csv\"\n",
    "write.csv(prs.dt,outfile,quote=FALSE,row.names=FALSE)\n",
    "#cp.command <- paste0(\"gsutil -m cp -r \",outfile,\" gs://fc-secure-30fdbdfd-a46b-406d-9617-1bc69ae1da9d/data/reference/\")\n",
    "cp.command <- paste0(\"gsutil -m cp -r \",outfile,\" gs://fc-secure-91b7b957-58d8-4142-b93b-c3a2635f2d78/data/reference/\")\n",
    "system(cp.command)"
   ]
  },
  {
   "cell_type": "code",
   "execution_count": 6,
   "metadata": {},
   "outputs": [
    {
     "name": "stdout",
     "output_type": "stream",
     "text": [
      "Classes ‘data.table’ and 'data.frame':\t4151 obs. of  2 variables:\n",
      " $ ID : chr  \"CHMI_CHMI3_WGS2\" \"LP6005441-DNA_F08\" \"HGDP00843\" \"HGDP00392\" ...\n",
      " $ PRS: chr  \"-0.524065416978136\" \"0.579402123918608\" \"-0.281544811877835\" \"-0.524343970859505\" ...\n",
      " - attr(*, \".internal.selfref\")=<externalptr> \n"
     ]
    }
   ],
   "source": [
    "str(prs.dt)"
   ]
  },
  {
   "cell_type": "code",
   "execution_count": null,
   "metadata": {},
   "outputs": [],
   "source": [
    "#png(\"check-ref.png\")\n",
    "hist(as.numeric(prs.dt$PRS))\n",
    "#dev.off()"
   ]
  },
  {
   "cell_type": "code",
   "execution_count": null,
   "metadata": {},
   "outputs": [],
   "source": []
  }
 ],
 "metadata": {
  "kernelspec": {
   "display_name": "R",
   "language": "R",
   "name": "ir"
  },
  "language_info": {
   "codemirror_mode": "r",
   "file_extension": ".r",
   "mimetype": "text/x-r-source",
   "name": "R",
   "pygments_lexer": "r",
   "version": "4.3.1"
  },
  "toc": {
   "base_numbering": 1,
   "nav_menu": {},
   "number_sections": true,
   "sideBar": true,
   "skip_h1_title": false,
   "title_cell": "Table of Contents",
   "title_sidebar": "Contents",
   "toc_cell": false,
   "toc_position": {},
   "toc_section_display": true,
   "toc_window_display": false
  }
 },
 "nbformat": 4,
 "nbformat_minor": 2
}
