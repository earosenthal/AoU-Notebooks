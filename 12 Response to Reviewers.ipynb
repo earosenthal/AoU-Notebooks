{
 "cells": [
  {
   "cell_type": "markdown",
   "metadata": {},
   "source": [
    "12 response to reviewers\n",
    "\n",
    "Possible additional analysis in reposne to reviewers \n",
    "\n",
    "use standard VM"
   ]
  },
  {
   "cell_type": "markdown",
   "metadata": {
    "heading_collapsed": true
   },
   "source": [
    "# Load libraries"
   ]
  },
  {
   "cell_type": "code",
   "execution_count": 1,
   "metadata": {
    "hidden": true
   },
   "outputs": [],
   "source": [
    "rm(list=ls())"
   ]
  },
  {
   "cell_type": "code",
   "execution_count": 22,
   "metadata": {
    "hidden": true
   },
   "outputs": [
    {
     "data": {
      "text/html": [
       "<ol>\n",
       "\t<li>NULL</li>\n",
       "\t<li>NULL</li>\n",
       "\t<li>NULL</li>\n",
       "\t<li>NULL</li>\n",
       "\t<li>NULL</li>\n",
       "\t<li>NULL</li>\n",
       "\t<li>NULL</li>\n",
       "</ol>\n"
      ],
      "text/latex": [
       "\\begin{enumerate}\n",
       "\\item NULL\n",
       "\\item NULL\n",
       "\\item NULL\n",
       "\\item NULL\n",
       "\\item NULL\n",
       "\\item NULL\n",
       "\\item NULL\n",
       "\\end{enumerate}\n"
      ],
      "text/markdown": [
       "1. NULL\n",
       "2. NULL\n",
       "3. NULL\n",
       "4. NULL\n",
       "5. NULL\n",
       "6. NULL\n",
       "7. NULL\n",
       "\n",
       "\n"
      ],
      "text/plain": [
       "[[1]]\n",
       "NULL\n",
       "\n",
       "[[2]]\n",
       "NULL\n",
       "\n",
       "[[3]]\n",
       "NULL\n",
       "\n",
       "[[4]]\n",
       "NULL\n",
       "\n",
       "[[5]]\n",
       "NULL\n",
       "\n",
       "[[6]]\n",
       "NULL\n",
       "\n",
       "[[7]]\n",
       "NULL\n"
      ]
     },
     "metadata": {},
     "output_type": "display_data"
    },
    {
     "data": {
      "text/html": [
       "<ol>\n",
       "\t<li><style>\n",
       ".list-inline {list-style: none; margin:0; padding: 0}\n",
       ".list-inline>li {display: inline-block}\n",
       ".list-inline>li:not(:last-child)::after {content: \"\\00b7\"; padding: 0 .5ex}\n",
       "</style>\n",
       "<ol class=list-inline><li>'pROC'</li><li>'bigrquery'</li><li>'lubridate'</li><li>'forcats'</li><li>'stringr'</li><li>'dplyr'</li><li>'purrr'</li><li>'readr'</li><li>'tidyr'</li><li>'tibble'</li><li>'ggplot2'</li><li>'tidyverse'</li><li>'Hmisc'</li><li>'data.table'</li><li>'stats'</li><li>'graphics'</li><li>'grDevices'</li><li>'utils'</li><li>'datasets'</li><li>'methods'</li><li>'base'</li></ol>\n",
       "</li>\n",
       "\t<li><style>\n",
       ".list-inline {list-style: none; margin:0; padding: 0}\n",
       ".list-inline>li {display: inline-block}\n",
       ".list-inline>li:not(:last-child)::after {content: \"\\00b7\"; padding: 0 .5ex}\n",
       "</style>\n",
       "<ol class=list-inline><li>'pROC'</li><li>'bigrquery'</li><li>'lubridate'</li><li>'forcats'</li><li>'stringr'</li><li>'dplyr'</li><li>'purrr'</li><li>'readr'</li><li>'tidyr'</li><li>'tibble'</li><li>'ggplot2'</li><li>'tidyverse'</li><li>'Hmisc'</li><li>'data.table'</li><li>'stats'</li><li>'graphics'</li><li>'grDevices'</li><li>'utils'</li><li>'datasets'</li><li>'methods'</li><li>'base'</li></ol>\n",
       "</li>\n",
       "\t<li><style>\n",
       ".list-inline {list-style: none; margin:0; padding: 0}\n",
       ".list-inline>li {display: inline-block}\n",
       ".list-inline>li:not(:last-child)::after {content: \"\\00b7\"; padding: 0 .5ex}\n",
       "</style>\n",
       "<ol class=list-inline><li>'pROC'</li><li>'bigrquery'</li><li>'lubridate'</li><li>'forcats'</li><li>'stringr'</li><li>'dplyr'</li><li>'purrr'</li><li>'readr'</li><li>'tidyr'</li><li>'tibble'</li><li>'ggplot2'</li><li>'tidyverse'</li><li>'Hmisc'</li><li>'data.table'</li><li>'stats'</li><li>'graphics'</li><li>'grDevices'</li><li>'utils'</li><li>'datasets'</li><li>'methods'</li><li>'base'</li></ol>\n",
       "</li>\n",
       "\t<li><style>\n",
       ".list-inline {list-style: none; margin:0; padding: 0}\n",
       ".list-inline>li {display: inline-block}\n",
       ".list-inline>li:not(:last-child)::after {content: \"\\00b7\"; padding: 0 .5ex}\n",
       "</style>\n",
       "<ol class=list-inline><li>'pROC'</li><li>'bigrquery'</li><li>'lubridate'</li><li>'forcats'</li><li>'stringr'</li><li>'dplyr'</li><li>'purrr'</li><li>'readr'</li><li>'tidyr'</li><li>'tibble'</li><li>'ggplot2'</li><li>'tidyverse'</li><li>'Hmisc'</li><li>'data.table'</li><li>'stats'</li><li>'graphics'</li><li>'grDevices'</li><li>'utils'</li><li>'datasets'</li><li>'methods'</li><li>'base'</li></ol>\n",
       "</li>\n",
       "\t<li><style>\n",
       ".list-inline {list-style: none; margin:0; padding: 0}\n",
       ".list-inline>li {display: inline-block}\n",
       ".list-inline>li:not(:last-child)::after {content: \"\\00b7\"; padding: 0 .5ex}\n",
       "</style>\n",
       "<ol class=list-inline><li>'pROC'</li><li>'bigrquery'</li><li>'lubridate'</li><li>'forcats'</li><li>'stringr'</li><li>'dplyr'</li><li>'purrr'</li><li>'readr'</li><li>'tidyr'</li><li>'tibble'</li><li>'ggplot2'</li><li>'tidyverse'</li><li>'Hmisc'</li><li>'data.table'</li><li>'stats'</li><li>'graphics'</li><li>'grDevices'</li><li>'utils'</li><li>'datasets'</li><li>'methods'</li><li>'base'</li></ol>\n",
       "</li>\n",
       "\t<li><style>\n",
       ".list-inline {list-style: none; margin:0; padding: 0}\n",
       ".list-inline>li {display: inline-block}\n",
       ".list-inline>li:not(:last-child)::after {content: \"\\00b7\"; padding: 0 .5ex}\n",
       "</style>\n",
       "<ol class=list-inline><li>'pROC'</li><li>'bigrquery'</li><li>'lubridate'</li><li>'forcats'</li><li>'stringr'</li><li>'dplyr'</li><li>'purrr'</li><li>'readr'</li><li>'tidyr'</li><li>'tibble'</li><li>'ggplot2'</li><li>'tidyverse'</li><li>'Hmisc'</li><li>'data.table'</li><li>'stats'</li><li>'graphics'</li><li>'grDevices'</li><li>'utils'</li><li>'datasets'</li><li>'methods'</li><li>'base'</li></ol>\n",
       "</li>\n",
       "\t<li><style>\n",
       ".list-inline {list-style: none; margin:0; padding: 0}\n",
       ".list-inline>li {display: inline-block}\n",
       ".list-inline>li:not(:last-child)::after {content: \"\\00b7\"; padding: 0 .5ex}\n",
       "</style>\n",
       "<ol class=list-inline><li>'pROC'</li><li>'bigrquery'</li><li>'lubridate'</li><li>'forcats'</li><li>'stringr'</li><li>'dplyr'</li><li>'purrr'</li><li>'readr'</li><li>'tidyr'</li><li>'tibble'</li><li>'ggplot2'</li><li>'tidyverse'</li><li>'Hmisc'</li><li>'data.table'</li><li>'stats'</li><li>'graphics'</li><li>'grDevices'</li><li>'utils'</li><li>'datasets'</li><li>'methods'</li><li>'base'</li></ol>\n",
       "</li>\n",
       "</ol>\n"
      ],
      "text/latex": [
       "\\begin{enumerate}\n",
       "\\item \\begin{enumerate*}\n",
       "\\item 'pROC'\n",
       "\\item 'bigrquery'\n",
       "\\item 'lubridate'\n",
       "\\item 'forcats'\n",
       "\\item 'stringr'\n",
       "\\item 'dplyr'\n",
       "\\item 'purrr'\n",
       "\\item 'readr'\n",
       "\\item 'tidyr'\n",
       "\\item 'tibble'\n",
       "\\item 'ggplot2'\n",
       "\\item 'tidyverse'\n",
       "\\item 'Hmisc'\n",
       "\\item 'data.table'\n",
       "\\item 'stats'\n",
       "\\item 'graphics'\n",
       "\\item 'grDevices'\n",
       "\\item 'utils'\n",
       "\\item 'datasets'\n",
       "\\item 'methods'\n",
       "\\item 'base'\n",
       "\\end{enumerate*}\n",
       "\n",
       "\\item \\begin{enumerate*}\n",
       "\\item 'pROC'\n",
       "\\item 'bigrquery'\n",
       "\\item 'lubridate'\n",
       "\\item 'forcats'\n",
       "\\item 'stringr'\n",
       "\\item 'dplyr'\n",
       "\\item 'purrr'\n",
       "\\item 'readr'\n",
       "\\item 'tidyr'\n",
       "\\item 'tibble'\n",
       "\\item 'ggplot2'\n",
       "\\item 'tidyverse'\n",
       "\\item 'Hmisc'\n",
       "\\item 'data.table'\n",
       "\\item 'stats'\n",
       "\\item 'graphics'\n",
       "\\item 'grDevices'\n",
       "\\item 'utils'\n",
       "\\item 'datasets'\n",
       "\\item 'methods'\n",
       "\\item 'base'\n",
       "\\end{enumerate*}\n",
       "\n",
       "\\item \\begin{enumerate*}\n",
       "\\item 'pROC'\n",
       "\\item 'bigrquery'\n",
       "\\item 'lubridate'\n",
       "\\item 'forcats'\n",
       "\\item 'stringr'\n",
       "\\item 'dplyr'\n",
       "\\item 'purrr'\n",
       "\\item 'readr'\n",
       "\\item 'tidyr'\n",
       "\\item 'tibble'\n",
       "\\item 'ggplot2'\n",
       "\\item 'tidyverse'\n",
       "\\item 'Hmisc'\n",
       "\\item 'data.table'\n",
       "\\item 'stats'\n",
       "\\item 'graphics'\n",
       "\\item 'grDevices'\n",
       "\\item 'utils'\n",
       "\\item 'datasets'\n",
       "\\item 'methods'\n",
       "\\item 'base'\n",
       "\\end{enumerate*}\n",
       "\n",
       "\\item \\begin{enumerate*}\n",
       "\\item 'pROC'\n",
       "\\item 'bigrquery'\n",
       "\\item 'lubridate'\n",
       "\\item 'forcats'\n",
       "\\item 'stringr'\n",
       "\\item 'dplyr'\n",
       "\\item 'purrr'\n",
       "\\item 'readr'\n",
       "\\item 'tidyr'\n",
       "\\item 'tibble'\n",
       "\\item 'ggplot2'\n",
       "\\item 'tidyverse'\n",
       "\\item 'Hmisc'\n",
       "\\item 'data.table'\n",
       "\\item 'stats'\n",
       "\\item 'graphics'\n",
       "\\item 'grDevices'\n",
       "\\item 'utils'\n",
       "\\item 'datasets'\n",
       "\\item 'methods'\n",
       "\\item 'base'\n",
       "\\end{enumerate*}\n",
       "\n",
       "\\item \\begin{enumerate*}\n",
       "\\item 'pROC'\n",
       "\\item 'bigrquery'\n",
       "\\item 'lubridate'\n",
       "\\item 'forcats'\n",
       "\\item 'stringr'\n",
       "\\item 'dplyr'\n",
       "\\item 'purrr'\n",
       "\\item 'readr'\n",
       "\\item 'tidyr'\n",
       "\\item 'tibble'\n",
       "\\item 'ggplot2'\n",
       "\\item 'tidyverse'\n",
       "\\item 'Hmisc'\n",
       "\\item 'data.table'\n",
       "\\item 'stats'\n",
       "\\item 'graphics'\n",
       "\\item 'grDevices'\n",
       "\\item 'utils'\n",
       "\\item 'datasets'\n",
       "\\item 'methods'\n",
       "\\item 'base'\n",
       "\\end{enumerate*}\n",
       "\n",
       "\\item \\begin{enumerate*}\n",
       "\\item 'pROC'\n",
       "\\item 'bigrquery'\n",
       "\\item 'lubridate'\n",
       "\\item 'forcats'\n",
       "\\item 'stringr'\n",
       "\\item 'dplyr'\n",
       "\\item 'purrr'\n",
       "\\item 'readr'\n",
       "\\item 'tidyr'\n",
       "\\item 'tibble'\n",
       "\\item 'ggplot2'\n",
       "\\item 'tidyverse'\n",
       "\\item 'Hmisc'\n",
       "\\item 'data.table'\n",
       "\\item 'stats'\n",
       "\\item 'graphics'\n",
       "\\item 'grDevices'\n",
       "\\item 'utils'\n",
       "\\item 'datasets'\n",
       "\\item 'methods'\n",
       "\\item 'base'\n",
       "\\end{enumerate*}\n",
       "\n",
       "\\item \\begin{enumerate*}\n",
       "\\item 'pROC'\n",
       "\\item 'bigrquery'\n",
       "\\item 'lubridate'\n",
       "\\item 'forcats'\n",
       "\\item 'stringr'\n",
       "\\item 'dplyr'\n",
       "\\item 'purrr'\n",
       "\\item 'readr'\n",
       "\\item 'tidyr'\n",
       "\\item 'tibble'\n",
       "\\item 'ggplot2'\n",
       "\\item 'tidyverse'\n",
       "\\item 'Hmisc'\n",
       "\\item 'data.table'\n",
       "\\item 'stats'\n",
       "\\item 'graphics'\n",
       "\\item 'grDevices'\n",
       "\\item 'utils'\n",
       "\\item 'datasets'\n",
       "\\item 'methods'\n",
       "\\item 'base'\n",
       "\\end{enumerate*}\n",
       "\n",
       "\\end{enumerate}\n"
      ],
      "text/markdown": [
       "1. 1. 'pROC'\n",
       "2. 'bigrquery'\n",
       "3. 'lubridate'\n",
       "4. 'forcats'\n",
       "5. 'stringr'\n",
       "6. 'dplyr'\n",
       "7. 'purrr'\n",
       "8. 'readr'\n",
       "9. 'tidyr'\n",
       "10. 'tibble'\n",
       "11. 'ggplot2'\n",
       "12. 'tidyverse'\n",
       "13. 'Hmisc'\n",
       "14. 'data.table'\n",
       "15. 'stats'\n",
       "16. 'graphics'\n",
       "17. 'grDevices'\n",
       "18. 'utils'\n",
       "19. 'datasets'\n",
       "20. 'methods'\n",
       "21. 'base'\n",
       "\n",
       "\n",
       "\n",
       "2. 1. 'pROC'\n",
       "2. 'bigrquery'\n",
       "3. 'lubridate'\n",
       "4. 'forcats'\n",
       "5. 'stringr'\n",
       "6. 'dplyr'\n",
       "7. 'purrr'\n",
       "8. 'readr'\n",
       "9. 'tidyr'\n",
       "10. 'tibble'\n",
       "11. 'ggplot2'\n",
       "12. 'tidyverse'\n",
       "13. 'Hmisc'\n",
       "14. 'data.table'\n",
       "15. 'stats'\n",
       "16. 'graphics'\n",
       "17. 'grDevices'\n",
       "18. 'utils'\n",
       "19. 'datasets'\n",
       "20. 'methods'\n",
       "21. 'base'\n",
       "\n",
       "\n",
       "\n",
       "3. 1. 'pROC'\n",
       "2. 'bigrquery'\n",
       "3. 'lubridate'\n",
       "4. 'forcats'\n",
       "5. 'stringr'\n",
       "6. 'dplyr'\n",
       "7. 'purrr'\n",
       "8. 'readr'\n",
       "9. 'tidyr'\n",
       "10. 'tibble'\n",
       "11. 'ggplot2'\n",
       "12. 'tidyverse'\n",
       "13. 'Hmisc'\n",
       "14. 'data.table'\n",
       "15. 'stats'\n",
       "16. 'graphics'\n",
       "17. 'grDevices'\n",
       "18. 'utils'\n",
       "19. 'datasets'\n",
       "20. 'methods'\n",
       "21. 'base'\n",
       "\n",
       "\n",
       "\n",
       "4. 1. 'pROC'\n",
       "2. 'bigrquery'\n",
       "3. 'lubridate'\n",
       "4. 'forcats'\n",
       "5. 'stringr'\n",
       "6. 'dplyr'\n",
       "7. 'purrr'\n",
       "8. 'readr'\n",
       "9. 'tidyr'\n",
       "10. 'tibble'\n",
       "11. 'ggplot2'\n",
       "12. 'tidyverse'\n",
       "13. 'Hmisc'\n",
       "14. 'data.table'\n",
       "15. 'stats'\n",
       "16. 'graphics'\n",
       "17. 'grDevices'\n",
       "18. 'utils'\n",
       "19. 'datasets'\n",
       "20. 'methods'\n",
       "21. 'base'\n",
       "\n",
       "\n",
       "\n",
       "5. 1. 'pROC'\n",
       "2. 'bigrquery'\n",
       "3. 'lubridate'\n",
       "4. 'forcats'\n",
       "5. 'stringr'\n",
       "6. 'dplyr'\n",
       "7. 'purrr'\n",
       "8. 'readr'\n",
       "9. 'tidyr'\n",
       "10. 'tibble'\n",
       "11. 'ggplot2'\n",
       "12. 'tidyverse'\n",
       "13. 'Hmisc'\n",
       "14. 'data.table'\n",
       "15. 'stats'\n",
       "16. 'graphics'\n",
       "17. 'grDevices'\n",
       "18. 'utils'\n",
       "19. 'datasets'\n",
       "20. 'methods'\n",
       "21. 'base'\n",
       "\n",
       "\n",
       "\n",
       "6. 1. 'pROC'\n",
       "2. 'bigrquery'\n",
       "3. 'lubridate'\n",
       "4. 'forcats'\n",
       "5. 'stringr'\n",
       "6. 'dplyr'\n",
       "7. 'purrr'\n",
       "8. 'readr'\n",
       "9. 'tidyr'\n",
       "10. 'tibble'\n",
       "11. 'ggplot2'\n",
       "12. 'tidyverse'\n",
       "13. 'Hmisc'\n",
       "14. 'data.table'\n",
       "15. 'stats'\n",
       "16. 'graphics'\n",
       "17. 'grDevices'\n",
       "18. 'utils'\n",
       "19. 'datasets'\n",
       "20. 'methods'\n",
       "21. 'base'\n",
       "\n",
       "\n",
       "\n",
       "7. 1. 'pROC'\n",
       "2. 'bigrquery'\n",
       "3. 'lubridate'\n",
       "4. 'forcats'\n",
       "5. 'stringr'\n",
       "6. 'dplyr'\n",
       "7. 'purrr'\n",
       "8. 'readr'\n",
       "9. 'tidyr'\n",
       "10. 'tibble'\n",
       "11. 'ggplot2'\n",
       "12. 'tidyverse'\n",
       "13. 'Hmisc'\n",
       "14. 'data.table'\n",
       "15. 'stats'\n",
       "16. 'graphics'\n",
       "17. 'grDevices'\n",
       "18. 'utils'\n",
       "19. 'datasets'\n",
       "20. 'methods'\n",
       "21. 'base'\n",
       "\n",
       "\n",
       "\n",
       "\n",
       "\n"
      ],
      "text/plain": [
       "[[1]]\n",
       " [1] \"pROC\"       \"bigrquery\"  \"lubridate\"  \"forcats\"    \"stringr\"   \n",
       " [6] \"dplyr\"      \"purrr\"      \"readr\"      \"tidyr\"      \"tibble\"    \n",
       "[11] \"ggplot2\"    \"tidyverse\"  \"Hmisc\"      \"data.table\" \"stats\"     \n",
       "[16] \"graphics\"   \"grDevices\"  \"utils\"      \"datasets\"   \"methods\"   \n",
       "[21] \"base\"      \n",
       "\n",
       "[[2]]\n",
       " [1] \"pROC\"       \"bigrquery\"  \"lubridate\"  \"forcats\"    \"stringr\"   \n",
       " [6] \"dplyr\"      \"purrr\"      \"readr\"      \"tidyr\"      \"tibble\"    \n",
       "[11] \"ggplot2\"    \"tidyverse\"  \"Hmisc\"      \"data.table\" \"stats\"     \n",
       "[16] \"graphics\"   \"grDevices\"  \"utils\"      \"datasets\"   \"methods\"   \n",
       "[21] \"base\"      \n",
       "\n",
       "[[3]]\n",
       " [1] \"pROC\"       \"bigrquery\"  \"lubridate\"  \"forcats\"    \"stringr\"   \n",
       " [6] \"dplyr\"      \"purrr\"      \"readr\"      \"tidyr\"      \"tibble\"    \n",
       "[11] \"ggplot2\"    \"tidyverse\"  \"Hmisc\"      \"data.table\" \"stats\"     \n",
       "[16] \"graphics\"   \"grDevices\"  \"utils\"      \"datasets\"   \"methods\"   \n",
       "[21] \"base\"      \n",
       "\n",
       "[[4]]\n",
       " [1] \"pROC\"       \"bigrquery\"  \"lubridate\"  \"forcats\"    \"stringr\"   \n",
       " [6] \"dplyr\"      \"purrr\"      \"readr\"      \"tidyr\"      \"tibble\"    \n",
       "[11] \"ggplot2\"    \"tidyverse\"  \"Hmisc\"      \"data.table\" \"stats\"     \n",
       "[16] \"graphics\"   \"grDevices\"  \"utils\"      \"datasets\"   \"methods\"   \n",
       "[21] \"base\"      \n",
       "\n",
       "[[5]]\n",
       " [1] \"pROC\"       \"bigrquery\"  \"lubridate\"  \"forcats\"    \"stringr\"   \n",
       " [6] \"dplyr\"      \"purrr\"      \"readr\"      \"tidyr\"      \"tibble\"    \n",
       "[11] \"ggplot2\"    \"tidyverse\"  \"Hmisc\"      \"data.table\" \"stats\"     \n",
       "[16] \"graphics\"   \"grDevices\"  \"utils\"      \"datasets\"   \"methods\"   \n",
       "[21] \"base\"      \n",
       "\n",
       "[[6]]\n",
       " [1] \"pROC\"       \"bigrquery\"  \"lubridate\"  \"forcats\"    \"stringr\"   \n",
       " [6] \"dplyr\"      \"purrr\"      \"readr\"      \"tidyr\"      \"tibble\"    \n",
       "[11] \"ggplot2\"    \"tidyverse\"  \"Hmisc\"      \"data.table\" \"stats\"     \n",
       "[16] \"graphics\"   \"grDevices\"  \"utils\"      \"datasets\"   \"methods\"   \n",
       "[21] \"base\"      \n",
       "\n",
       "[[7]]\n",
       " [1] \"pROC\"       \"bigrquery\"  \"lubridate\"  \"forcats\"    \"stringr\"   \n",
       " [6] \"dplyr\"      \"purrr\"      \"readr\"      \"tidyr\"      \"tibble\"    \n",
       "[11] \"ggplot2\"    \"tidyverse\"  \"Hmisc\"      \"data.table\" \"stats\"     \n",
       "[16] \"graphics\"   \"grDevices\"  \"utils\"      \"datasets\"   \"methods\"   \n",
       "[21] \"base\"      \n"
      ]
     },
     "metadata": {},
     "output_type": "display_data"
    }
   ],
   "source": [
    "my.packages <- c('data.table','Hmisc','tidyverse','bigrquery','lubridate','pROC','stats')\n",
    "lapply(my.packages,\n",
    "       function(pkg) { if(! pkg %in% installed.packages()) { install.packages(pkg)} } )\n",
    "lapply(my.packages,library,character.only = TRUE)"
   ]
  },
  {
   "cell_type": "code",
   "execution_count": 23,
   "metadata": {
    "hidden": true
   },
   "outputs": [
    {
     "data": {
      "text/plain": [
       "R version 4.3.1 (2023-06-16)\n",
       "Platform: x86_64-pc-linux-gnu (64-bit)\n",
       "Running under: Ubuntu 20.04.6 LTS\n",
       "\n",
       "Matrix products: default\n",
       "BLAS:   /usr/lib/x86_64-linux-gnu/openblas-pthread/libblas.so.3 \n",
       "LAPACK: /usr/lib/x86_64-linux-gnu/openblas-pthread/liblapack.so.3;  LAPACK version 3.9.0\n",
       "\n",
       "locale:\n",
       " [1] LC_CTYPE=en_US.UTF-8       LC_NUMERIC=C              \n",
       " [3] LC_TIME=en_US.UTF-8        LC_COLLATE=en_US.UTF-8    \n",
       " [5] LC_MONETARY=en_US.UTF-8    LC_MESSAGES=en_US.UTF-8   \n",
       " [7] LC_PAPER=en_US.UTF-8       LC_NAME=C                 \n",
       " [9] LC_ADDRESS=C               LC_TELEPHONE=C            \n",
       "[11] LC_MEASUREMENT=en_US.UTF-8 LC_IDENTIFICATION=C       \n",
       "\n",
       "time zone: Etc/UTC\n",
       "tzcode source: system (glibc)\n",
       "\n",
       "attached base packages:\n",
       "[1] stats     graphics  grDevices utils     datasets  methods   base     \n",
       "\n",
       "other attached packages:\n",
       " [1] pROC_1.18.2       bigrquery_1.4.2   lubridate_1.9.3   forcats_1.0.0    \n",
       " [5] stringr_1.5.0     dplyr_1.1.2       purrr_1.0.1       readr_2.1.4      \n",
       " [9] tidyr_1.3.0       tibble_3.2.1      ggplot2_3.4.3     tidyverse_2.0.0  \n",
       "[13] Hmisc_5.1-0       data.table_1.14.8\n",
       "\n",
       "loaded via a namespace (and not attached):\n",
       " [1] gtable_0.3.4      xfun_0.40         htmlwidgets_1.6.2 gargle_1.5.2     \n",
       " [5] tzdb_0.4.0        vctrs_0.6.2       tools_4.3.1       generics_0.1.3   \n",
       " [9] fansi_1.0.4       cluster_2.1.4     pkgconfig_2.0.3   checkmate_2.2.0  \n",
       "[13] dbplyr_2.3.4      assertthat_0.2.1  uuid_1.1-1        lifecycle_1.0.3  \n",
       "[17] compiler_4.3.1    munsell_0.5.0     repr_1.1.6        htmltools_0.5.6  \n",
       "[21] htmlTable_2.4.1   Formula_1.2-5     pillar_1.9.0      crayon_1.5.2     \n",
       "[25] rpart_4.1.19      tidyselect_1.2.0  digest_0.6.33     stringi_1.7.12   \n",
       "[29] fastmap_1.1.1     grid_4.3.1        colorspace_2.1-0  cli_3.6.1        \n",
       "[33] magrittr_2.0.3    base64enc_0.1-3   utf8_1.2.3        IRdisplay_1.1    \n",
       "[37] foreign_0.8-85    withr_2.5.1       scales_1.2.1      backports_1.4.1  \n",
       "[41] IRkernel_1.3.2    bit64_4.0.5       timechange_0.2.0  rmarkdown_2.25   \n",
       "[45] httr_1.4.7        bit_4.0.5         nnet_7.3-19       gridExtra_2.3    \n",
       "[49] pbdZMQ_0.3-10     hms_1.1.3         evaluate_0.22     knitr_1.44       \n",
       "[53] rlang_1.1.1       Rcpp_1.0.11       glue_1.6.2        DBI_1.1.3        \n",
       "[57] rstudioapi_0.15.0 jsonlite_1.8.7    plyr_1.8.9        R6_2.5.1         \n",
       "[61] fs_1.6.3         "
      ]
     },
     "metadata": {},
     "output_type": "display_data"
    }
   ],
   "source": [
    "sessionInfo()"
   ]
  },
  {
   "cell_type": "markdown",
   "metadata": {
    "heading_collapsed": true
   },
   "source": [
    "# Functions used in this notebook"
   ]
  },
  {
   "cell_type": "code",
   "execution_count": 4,
   "metadata": {
    "hidden": true
   },
   "outputs": [],
   "source": [
    "# Functions that are used in this notebook\n",
    "# need to add in UC1 or UC2. Need to check the OR analysis firt to decide which to use. \n",
    "# It doesn't look like either UC1 or UC2 is significant, so may be best to ignore\n",
    "# the data set must contain variables named my.PRS, CRC.status, sex and censored.age\n",
    "\n",
    "# function to get the ORs and CIs for one s.d. change in PRS\n",
    "addparentheses <- function(x){paste0(\"(\", x, \")\")}\n",
    "\n",
    "get.sex.age.pvalue <- function(subset.dt)\n",
    "    {\n",
    "    glm2 <- summary(glm(CRC.status ~ my.PRS + sex + censored.age, data=subset.dt,family=\"binomial\"))\n",
    "    (p.sex <- formatC((glm2$coef[\"sex\",4]), format=\"e\", digits=2))\n",
    "    (p.age <- round((glm2$coef[\"censored.age\",4]), 2))\n",
    "    c(p.sex,p.age)\n",
    "}\n",
    "\n",
    "get.OR.round <- function(subset.dt)\n",
    "    {\n",
    "    glm1 <- summary(glm(CRC.status ~ my.PRS, data=subset.dt,family=\"binomial\"))\n",
    "    glm2 <- summary(glm(CRC.status ~ my.PRS + sex + censored.age, data=subset.dt,family=\"binomial\"))\n",
    "    beta1 <-  (glm1$coef[\"my.PRS\",1])\n",
    "    beta2 <- (glm2$coef[\"my.PRS\",1])\n",
    "    OR1 <- round(exp(glm1$coef[\"my.PRS\",1]), 2)\n",
    "    OR2 <- round(exp(glm2$coef[\"my.PRS\",1]), 2)\n",
    "    SD1 <- glm1$coef[\"my.PRS\",2]\n",
    "    SD2 <- glm2$coef[\"my.PRS\",2]\n",
    "    CI1 <- round(exp(beta1 + (SD1* qnorm(c(0.025,0.975)))), 2) \n",
    "    CI2 <- round(exp(beta2 + (SD2* qnorm(c(0.025,0.975)))), 2)\n",
    "    rbind( c(OR1,paste(CI1[1],CI1[2],sep=\",\")), c(OR2, paste(CI2[1],CI2[2],sep=\",\")))\n",
    "}\n",
    "get.OR <- function(subset.dt)\n",
    "    {\n",
    "    glm1 <- summary(glm(CRC.status ~ my.PRS, data=subset.dt,family=\"binomial\"))\n",
    "    glm2 <- summary(glm(CRC.status ~ my.PRS + sex + censored.age, data=subset.dt,family=\"binomial\"))\n",
    "    beta1 <-  (glm1$coef[\"my.PRS\",1])\n",
    "    beta2 <- (glm2$coef[\"my.PRS\",1])\n",
    "    OR1 <- exp(glm1$coef[\"my.PRS\",1])\n",
    "    OR2 <- exp(glm2$coef[\"my.PRS\",1])\n",
    "    SD1 <- glm1$coef[\"my.PRS\",2]\n",
    "    SD2 <- glm2$coef[\"my.PRS\",2]\n",
    "    CI1 <- exp(beta1 + (SD1* qnorm(c(0.025,0.975))))\n",
    "    CI2 <- exp(beta2 + (SD2* qnorm(c(0.025,0.975))))\n",
    "    rbind( c(OR1,paste(CI1[1],CI1[2],sep=\",\")), c(OR2, paste(CI2[1],CI2[2],sep=\",\")))\n",
    "}\n",
    "\n",
    "# function to get the ORs and CIs for comparing top group to middle group\n",
    "get.OR.group.round <- function(subset.dt)\n",
    "    {\n",
    "    glm1 <- summary(glm(CRC.status ~ my.group, data=subset.dt,family=\"binomial\"))\n",
    "    glm2 <- summary(glm(CRC.status ~ my.group + sex + censored.age, data=subset.dt,family=\"binomial\"))\n",
    "    beta1 <-  (glm1$coef[\"my.group\",1])\n",
    "    beta2 <- (glm2$coef[\"my.group\",1])\n",
    "    OR1 <- round(exp(glm1$coef[\"my.group\",1]), 2)\n",
    "    OR2 <- round(exp(glm2$coef[\"my.group\",1]), 2)\n",
    "    SD1 <- glm1$coef[\"my.group\",2]\n",
    "    SD2 <- glm2$coef[\"my.group\",2]\n",
    "    CI1 <- round(exp(beta1 + (SD1* qnorm(c(0.025,0.975)))), 2) \n",
    "    CI2 <- round(exp(beta2 + (SD2* qnorm(c(0.025,0.975)))), 2)\n",
    "    rbind( c(OR1,paste(CI1[1],CI1[2],sep=\",\")), c(OR2, paste(CI2[1],CI2[2],sep=\",\")))\n",
    "}\n",
    "\n",
    "get.OR.quants <- function(subset.dt)\n",
    "    {\n",
    "    glm1 <- summary(glm(CRC.status ~ T1 + T2 + T4 + T5, data=subset.dt,family=\"binomial\"))\n",
    "    glm2 <- summary(glm(CRC.status ~ T1 + T2 + T4 + T5 + sex + censored.age, data=subset.dt,family=\"binomial\"))\n",
    "    beta1 <-  c(glm1$coef[\"T1\",1],glm1$coef[\"T2\",1],0,glm1$coef[\"T4\",1],glm1$coef[\"T5\",1])\n",
    "    beta2 <- c(glm2$coef[\"T1\",1],glm2$coef[\"T2\",1],0,glm2$coef[\"T4\",1],glm2$coef[\"T5\",1])\n",
    "    OR1 <- exp(beta1)\n",
    "    OR2 <- exp(beta2)\n",
    "    SD1 <- c(glm1$coef[\"T1\",2],glm1$coef[\"T2\",2],0, glm1$coef[\"T4\",2],glm1$coef[\"T5\",2]) \n",
    "    SD2 <- c(glm2$coef[\"T1\",2],glm2$coef[\"T2\",2],0, glm2$coef[\"T4\",2],glm2$coef[\"T5\",2])\n",
    "    CI1.low <- (exp(beta1 + (SD1* qnorm(0.025)))) \n",
    "    CI1.upp <- (exp(beta1 + (SD1* qnorm(0.975))))\n",
    "    CI2.low <- (exp(beta2 + (SD2* qnorm(0.025)))) \n",
    "    CI2.upp <- (exp(beta2 + (SD2* qnorm(0.975))))\n",
    "    \n",
    "    cbind(OR1,CI1.low,CI1.upp, OR2,CI2.low,CI2.upp)\n",
    "    \n",
    "}\n",
    "#need to deal with inf and -inf\n",
    "plot.quant.OR <- function(df.raw,df.pc,df.anc,df.broad,df.branc,main.title=\"\",color=\"black\"){\n",
    "    mid.quant <- c(10,30,50,70,90)\n",
    "    min.check <- c(df.raw[,2], df.pc[,2], df.anc[,2], df.broad[,2],df.branc[,2])\n",
    "    max.check <- c(df.raw[,3], df.pc[,3], df.anc[,3], df.broad[,3],df.branc[,3])\n",
    "    min.y <- min(min.check[is.finite(min.check)])\n",
    "    max.y <- max(max.check[is.finite(max.check)])\n",
    "#    min.y <- min(df.raw[,2], df.pc[,2], df.anc[,2], df.broad[,2],df.branc[,2])\n",
    "#    max.y <- max(df.raw[,3], df.pc[,3], df.anc[,3], df.broad[,3],df.branc[,3])\n",
    "    par(mfrow=c(6,1), mar= c(0.4, 4.1,1, 2.1))\n",
    "    plot(mid.quant,df.raw[,1],type=\"p\", ylim=c(min.y, max.y), main=main.title, xlab=\"\", ylab=\"PRS.RAW\",xaxt='n',col=color)\n",
    "    arrows(x0=mid.quant,y0=df.raw[,2],x1=mid.quant,y1=df.raw[,3],col=color,code=3,angle=90,length=1/20,lwd=2)\n",
    "    abline(h=1, lty=2, col=\"gray\")\n",
    "    plot(mid.quant,df.pc[,1],type=\"p\", ylim=c(min.y, max.y), main=\"\", xlab=\"\", ylab=\"PRS.PC\",xaxt='n',col=color)\n",
    "    arrows(x0=mid.quant,y0=df.pc[,2],x1=mid.quant,y1=df.pc[,3],col=color,code=3,angle=90,length=1/20,lwd=2)\n",
    "    abline(h=1, lty=2, col=\"gray\")\n",
    "    plot(mid.quant,df.anc[,1],type=\"p\", ylim=c(min.y, max.y), main=\"\", xlab=\"\", ylab=\"PRS.ANC\",xaxt='n',col=color)\n",
    "    arrows(x0=mid.quant,y0=df.anc[,2],x1=mid.quant,y1=df.anc[,3],col=color,code=3,angle=90,length=1/20,lwd=2)\n",
    "    abline(h=1, lty=2, col=\"gray\")\n",
    "    plot(mid.quant,df.broad[,1],type=\"p\", ylim=c(min.y, max.y), main=\"\", xlab=\"Quantiles\", ylab=\"BROAD.PRS\",xaxt='n',col=color)\n",
    "    arrows(x0=mid.quant,y0=df.broad[,2],x1=mid.quant,y1=df.broad[,3],col=color,code=3,angle=90,length=1/20,lwd=2)\n",
    "    abline(h=1, lty=2, col=\"gray\")\n",
    "    plot(mid.quant,df.branc[,1],type=\"p\", ylim=c(min.y, max.y), main=\"\", xlab=\"Quantiles\", ylab=\"BRANC.PRS\",col=color)\n",
    "    arrows(x0=mid.quant,y0=df.branc[,2],x1=mid.quant,y1=df.broad[,3],col=color,code=3,angle=90,length=1/20,lwd=2)\n",
    "    abline(h=1, lty=2, col=\"gray\")\n",
    "\n",
    "}\n",
    "\n",
    "\n",
    "plot.quant.logOR <- function(df.raw,df.pc,df.anc,df.broad,df.branc,main.title=\"\",color=\"black\"){\n",
    "    mid.quant <- c(10,30,50,70,90)\n",
    "    min.check <- c(df.raw[,2], df.pc[,2], df.anc[,2], df.broad[,2],df.branc[,2])\n",
    "    max.check <- c(df.raw[,3], df.pc[,3], df.anc[,3], df.broad[,3],df.branc[,3])\n",
    "    min.y <- log(min(min.check[is.finite(min.check) & min.check>0]))\n",
    "    max.y <- log(max(max.check[is.finite(max.check) & max.check>0]))\n",
    "    letter.at <- max.y - 0.15 * (max.y-min.y)\n",
    "    par(mfrow=c(6,1), mar= c(0.4, 4.1,1, 2.1))\n",
    "    plot(mid.quant,log(df.raw[,1]),type=\"p\", ylim=c(min.y, max.y), main=\"\", xlab=\"\", ylab=\"\",xaxt='n',col=color)\n",
    "    arrows(x0=mid.quant,y0=log(df.raw[,2]),x1=mid.quant,y1=log(df.raw[,3]),col=color,code=3,angle=90,length=1/20,lwd=2)\n",
    "    abline(h=0, lty=2, col=\"gray\")\n",
    "    mtext(\"A\", 2, adj=1, padj=0, line=3, las=2,at=letter.at)\n",
    "    plot(mid.quant,log(df.pc[,1]),type=\"p\", ylim=c(min.y, max.y), main=\"\", xlab=\"\", ylab=\"\",xaxt='n',col=color)\n",
    "    arrows(x0=mid.quant,y0=log(df.pc[,2]),x1=mid.quant,y1=log(df.pc[,3]),col=color,code=3,angle=90,length=1/20,lwd=2)\n",
    "    abline(h=0, lty=2, col=\"gray\")\n",
    "    mtext(\"B\", 2, adj=1, padj=0, line=3, las=2,at=letter.at)\n",
    "    plot(mid.quant,log(df.anc[,1]),type=\"p\", ylim=c(min.y, max.y), main=\"\", xlab=\"\", ylab=\"\",xaxt='n',col=color)\n",
    "    arrows(x0=mid.quant,y0=log(df.anc[,2]),x1=mid.quant,y1=log(df.anc[,3]),col=color,code=3,angle=90,length=1/20,lwd=2)\n",
    "    abline(h=0, lty=2, col=\"gray\")\n",
    "    mtext(\"C\", 2, adj=1, padj=0, line=3, las=2,at=letter.at)\n",
    "    plot(mid.quant,log(df.broad[,1]),type=\"p\", ylim=c(min.y, max.y), main=\"\", xlab=\"Quantiles\", ylab=\"\",xaxt='n',col=color)\n",
    "    arrows(x0=mid.quant,y0=log(df.broad[,2]),x1=mid.quant,y1=log(df.broad[,3]),col=color,code=3,angle=90,length=1/20,lwd=2)\n",
    "    abline(h=0, lty=2, col=\"gray\")\n",
    "    mtext(\"D\", 2, adj=1, padj=0, line=3, las=2,at=letter.at)\n",
    "    plot(mid.quant,log(df.branc[,1]),type=\"p\", ylim=c(min.y, max.y), main=\"\", xlab=\"Quantiles\", ylab=\"\",col=color)\n",
    "    arrows(x0=mid.quant,y0=log(df.branc[,2]),x1=mid.quant,y1=log(df.branc[,3]),col=color,code=3,angle=90,length=1/20,lwd=2)\n",
    "    abline(h=0, lty=2, col=\"gray\")\n",
    "    mtext(\"E\", 2, adj=1, padj=0, line=3, las=2,at=letter.at)\n",
    "\n",
    "}\n",
    "\n",
    "\n",
    "plot.obs.exp.ci <- function(horiz.axis=c(1:5), actuals.mat, lower.mat, upper.mat, my.ancestry=\"\", col=\"black\")\n",
    "{\n",
    "    matplot(horiz.axis,t(actuals.mat), type=\"n\", main=my.ancestry, xlab=\"PRS\", ylab=\"actual %\", xaxt = \"n\", \n",
    "        xlim=c(0.5, 5.5),ylim=c(0,20))\n",
    "    axis(1, at=1:5, labels=c(\"RAW\", \"PC\",\"BR.AOU\",\"ANC\",\"BR.ANC\"))\n",
    "    matpoints(horiz.axis, t(actuals.mat), lwd=c(4, 3, 2), col=col, pch=1)\n",
    "    matlines(horiz.axis, t(actuals.mat), lwd=c(4, 3, 2), col=col)\n",
    "    arrows(x0=1,y0=lower.mat[,1],x1=1,y1=upper.mat[,1],col=col,lwd=2,code=3,angle=90,length=1/10)\n",
    "    arrows(x0=2,y0=lower.mat[,2],x1=2,y1=upper.mat[,2],col=col,lwd=2,code=3,angle=90,length=1/10)\n",
    "    arrows(x0=3,y0=lower.mat[,3],x1=3,y1=upper.mat[,3],col=col,lwd=2,code=3,angle=90,length=1/10)\n",
    "    arrows(x0=4,y0=lower.mat[,4],x1=4,y1=upper.mat[,4],col=col,lwd=2,code=3,angle=90,length=1/10)\n",
    "    arrows(x0=5,y0=lower.mat[,5],x1=5,y1=upper.mat[,5],col=col,lwd=2,code=3,angle=90,length=1/10)\n",
    "    abline(h=5,lwd=2,lty=3)\n",
    "    abline(h=7.5,lwd=3, lty=2)\n",
    "    abline(h=10,lwd=4,lty=1)\n",
    "}"
   ]
  },
  {
   "cell_type": "markdown",
   "metadata": {},
   "source": [
    "# Prepare the data"
   ]
  },
  {
   "cell_type": "code",
   "execution_count": 5,
   "metadata": {
    "code_folding": []
   },
   "outputs": [
    {
     "data": {
      "text/html": [
       "<span style=white-space:pre-wrap>'gsutil -m cp -r  gs://fc-secure-30fdbdfd-a46b-406d-9617-1bc69ae1da9d/alpha3/CRC-Nov2021-PRS-adjustments-2023-03-02.tsv .'</span>"
      ],
      "text/latex": [
       "'gsutil -m cp -r  gs://fc-secure-30fdbdfd-a46b-406d-9617-1bc69ae1da9d/alpha3/CRC-Nov2021-PRS-adjustments-2023-03-02.tsv .'"
      ],
      "text/markdown": [
       "<span style=white-space:pre-wrap>'gsutil -m cp -r  gs://fc-secure-30fdbdfd-a46b-406d-9617-1bc69ae1da9d/alpha3/CRC-Nov2021-PRS-adjustments-2023-03-02.tsv .'</span>"
      ],
      "text/plain": [
       "[1] \"gsutil -m cp -r  gs://fc-secure-30fdbdfd-a46b-406d-9617-1bc69ae1da9d/alpha3/CRC-Nov2021-PRS-adjustments-2023-03-02.tsv .\""
      ]
     },
     "metadata": {},
     "output_type": "display_data"
    }
   ],
   "source": [
    "# copy over the output file from 25 Adjust alpha3 PRS by WG PCs or admixture\n",
    "#infile <- \"CRC-Nov2021-PRS-adjustments-2023-03-02.tsv\"\n",
    "#(cp.command <- paste0(\"gsutil -m cp -r  gs://fc-secure-30fdbdfd-a46b-406d-9617-1bc69ae1da9d/alpha3/\",infile,\" .\"))\n",
    "infile <- \"CRC-PRS-adjustments-2023-03-02.tsv\"\n",
    "(cp.command <- paste0(\"gsutil -m cp -r   gs://fc-secure-91b7b957-58d8-4142-b93b-c3a2635f2d78/alpha3/\",infile,\" .\"))\n",
    "system(cp.command)"
   ]
  },
  {
   "cell_type": "code",
   "execution_count": null,
   "metadata": {},
   "outputs": [],
   "source": [
    "merge.dt <- fread(infile)\n",
    "str(merge.dt)"
   ]
  },
  {
   "cell_type": "code",
   "execution_count": 7,
   "metadata": {},
   "outputs": [],
   "source": [
    "# standardise raw PRS, PC adjusted PRS and ANC adjusted PRS  for the OR calculations\n",
    "# standardization needs to happen before reducing to the cleaned cases and screened controls\n",
    "merge.dt[,norm.PRS := (PRS-mean(PRS))/sd(PRS)]\n",
    "merge.dt[,norm.PRS.ADJ.PC := (PRS.ADJ.PC)/sd(PRS.ADJ.PC)]\n",
    "merge.dt[,norm.PRS.ADJ.ANC := (PRS.ADJ.ANC)/sd(PRS.ADJ.ANC)]\n",
    "# The broad adjustments don't need to be standardized because theoretically, they already do this\n",
    "#merge.dt[,norm.BROAD.PRS := BROAD.PRS] "
   ]
  },
  {
   "cell_type": "code",
   "execution_count": 8,
   "metadata": {},
   "outputs": [],
   "source": [
    "# need to have sex be numeric\n",
    "#merge.dt <- merge.dt[][!is.na(merge.dt$sex_at_birth)]\n",
    "merge.dt[,sex:=ifelse(sex_at_birth==\"Male\",1,NA)] #since there are fewer males than females, males are 1 and females are 0\n",
    "merge.dt[,sex:=ifelse(sex_at_birth==\"Female\",0,sex)]"
   ]
  },
  {
   "cell_type": "code",
   "execution_count": null,
   "metadata": {},
   "outputs": [],
   "source": [
    "describe(merge.dt$sex_at_birth)\n",
    "describe(merge.dt$sex)"
   ]
  },
  {
   "cell_type": "code",
   "execution_count": 10,
   "metadata": {},
   "outputs": [],
   "source": [
    "# get percentiles for comparisons. Does it make sense to just look at the middle and top percentiles for now? \n",
    "# T1 bottom 20%\n",
    "# T2 20-40%\n",
    "# T3 40-60%\n",
    "# T4 60-80%\n",
    "# T5 80-100%\n",
    "# Below are used for specific comparisons with the T3 group\n",
    "# T6 90-100%\n",
    "# T7 92.5-100%\n",
    "# T8 95-100%\n",
    "merge.dt[,T1.PRS:=ifelse(norm.PRS <= qnorm(.20),1,0)]\n",
    "merge.dt[,T2.PRS:=ifelse(norm.PRS <= qnorm(.40) & norm.PRS > qnorm(.20),1,0)]\n",
    "merge.dt[,T3.PRS:=ifelse(norm.PRS <= qnorm(.60) & norm.PRS > qnorm(.40),1,0)]\n",
    "merge.dt[,T4.PRS:=ifelse(norm.PRS <= qnorm(.80) & norm.PRS > qnorm(.60),1,0)]\n",
    "merge.dt[,T5.PRS:=ifelse(norm.PRS > qnorm(.80),1,0)]\n",
    "\n",
    "merge.dt[,T6.PRS:=ifelse(norm.PRS > qnorm(.90),1,0)]\n",
    "merge.dt[,T7.PRS:=ifelse(norm.PRS > qnorm(.925),1,0)]\n",
    "merge.dt[,T8.PRS:=ifelse(norm.PRS > qnorm(.95),1,0)]"
   ]
  },
  {
   "cell_type": "code",
   "execution_count": 11,
   "metadata": {},
   "outputs": [],
   "source": [
    "merge.dt[,T1.PRS.ADJ.PC:=ifelse(norm.PRS.ADJ.PC <= qnorm(.20),1,0)]\n",
    "merge.dt[,T2.PRS.ADJ.PC:=ifelse(norm.PRS.ADJ.PC <= qnorm(.40) & norm.PRS.ADJ.PC > qnorm(.20),1,0)]\n",
    "merge.dt[,T3.PRS.ADJ.PC:=ifelse(norm.PRS.ADJ.PC <= qnorm(.60) & norm.PRS.ADJ.PC > qnorm(.40),1,0)]\n",
    "merge.dt[,T4.PRS.ADJ.PC:=ifelse(norm.PRS.ADJ.PC <= qnorm(.80) & norm.PRS.ADJ.PC > qnorm(.60),1,0)]\n",
    "merge.dt[,T5.PRS.ADJ.PC:=ifelse(norm.PRS.ADJ.PC > qnorm(.80),1,0)]\n",
    "\n",
    "merge.dt[,T6.PRS.ADJ.PC:=ifelse(norm.PRS.ADJ.PC > qnorm(.90),1,0)]\n",
    "merge.dt[,T7.PRS.ADJ.PC:=ifelse(norm.PRS.ADJ.PC > qnorm(.925),1,0)]\n",
    "merge.dt[,T8.PRS.ADJ.PC:=ifelse(norm.PRS.ADJ.PC > qnorm(.95),1,0)]"
   ]
  },
  {
   "cell_type": "code",
   "execution_count": 12,
   "metadata": {},
   "outputs": [],
   "source": [
    "merge.dt[,T1.PRS.ADJ.ANC:=ifelse(norm.PRS.ADJ.ANC <= qnorm(.20),1,0)]\n",
    "merge.dt[,T2.PRS.ADJ.ANC:=ifelse(norm.PRS.ADJ.ANC <= qnorm(.40) & norm.PRS.ADJ.ANC > qnorm(.20),1,0)]\n",
    "merge.dt[,T3.PRS.ADJ.ANC:=ifelse(norm.PRS.ADJ.ANC <= qnorm(.60) & norm.PRS.ADJ.ANC > qnorm(.40),1,0)]\n",
    "merge.dt[,T4.PRS.ADJ.ANC:=ifelse(norm.PRS.ADJ.ANC <= qnorm(.80) & norm.PRS.ADJ.ANC > qnorm(.60),1,0)]\n",
    "merge.dt[,T5.PRS.ADJ.ANC:=ifelse(norm.PRS.ADJ.ANC > qnorm(.80),1,0)]\n",
    "\n",
    "merge.dt[,T6.PRS.ADJ.ANC:=ifelse(norm.PRS.ADJ.ANC > qnorm(.90),1,0)]\n",
    "merge.dt[,T7.PRS.ADJ.ANC:=ifelse(norm.PRS.ADJ.ANC > qnorm(.925),1,0)]\n",
    "merge.dt[,T8.PRS.ADJ.ANC:=ifelse(norm.PRS.ADJ.ANC > qnorm(.95),1,0)]"
   ]
  },
  {
   "cell_type": "code",
   "execution_count": 13,
   "metadata": {},
   "outputs": [],
   "source": [
    "merge.dt[,T1.PRS.BR.AOU1:=ifelse(PRS.BR.AOU1 <= qnorm(.20),1,0)]\n",
    "merge.dt[,T2.PRS.BR.AOU1:=ifelse(PRS.BR.AOU1 <= qnorm(.40) & PRS.BR.AOU1 > qnorm(.20),1,0)]\n",
    "merge.dt[,T3.PRS.BR.AOU1:=ifelse(PRS.BR.AOU1 <= qnorm(.60) & PRS.BR.AOU1 > qnorm(.40),1,0)]\n",
    "merge.dt[,T4.PRS.BR.AOU1:=ifelse(PRS.BR.AOU1 <= qnorm(.80) & PRS.BR.AOU1 > qnorm(.60),1,0)]\n",
    "merge.dt[,T5.PRS.BR.AOU1:=ifelse(PRS.BR.AOU1 > qnorm(.80),1,0)]\n",
    "\n",
    "merge.dt[,T6.PRS.BR.AOU1:=ifelse(PRS.BR.AOU1 > qnorm(.90),1,0)]\n",
    "merge.dt[,T7.PRS.BR.AOU1:=ifelse(PRS.BR.AOU1 > qnorm(.925),1,0)]\n",
    "merge.dt[,T8.PRS.BR.AOU1:=ifelse(PRS.BR.AOU1 > qnorm(.95),1,0)]"
   ]
  },
  {
   "cell_type": "code",
   "execution_count": 14,
   "metadata": {},
   "outputs": [],
   "source": [
    "merge.dt[,T1.PRS.BR.ANC.AOU1:=ifelse(PRS.BR.ANC.AOU1 <= qnorm(.20),1,0)]\n",
    "merge.dt[,T2.PRS.BR.ANC.AOU1:=ifelse(PRS.BR.ANC.AOU1 <= qnorm(.40) & PRS.BR.ANC.AOU1 > qnorm(.20),1,0)]\n",
    "merge.dt[,T3.PRS.BR.ANC.AOU1:=ifelse(PRS.BR.ANC.AOU1 <= qnorm(.60) & PRS.BR.ANC.AOU1 > qnorm(.40),1,0)]\n",
    "merge.dt[,T4.PRS.BR.ANC.AOU1:=ifelse(PRS.BR.ANC.AOU1 <= qnorm(.80) & PRS.BR.ANC.AOU1 > qnorm(.60),1,0)]\n",
    "merge.dt[,T5.PRS.BR.ANC.AOU1:=ifelse(PRS.BR.ANC.AOU1 > qnorm(.80),1,0)]\n",
    "\n",
    "merge.dt[,T6.PRS.BR.ANC.AOU1:=ifelse(PRS.BR.ANC.AOU1 > qnorm(.90),1,0)]\n",
    "merge.dt[,T7.PRS.BR.ANC.AOU1:=ifelse(PRS.BR.ANC.AOU1 > qnorm(.925),1,0)]\n",
    "merge.dt[,T8.PRS.BR.ANC.AOU1:=ifelse(PRS.BR.ANC.AOU1 > qnorm(.95),1,0)]"
   ]
  },
  {
   "cell_type": "code",
   "execution_count": 15,
   "metadata": {},
   "outputs": [
    {
     "data": {
      "text/plain": [
       "merge.dt$is.admixed \n",
       "       n  missing distinct     Info      Sum     Mean      Gmd \n",
       "   98256        0        2    0.183     6421  0.06535   0.1222 \n"
      ]
     },
     "metadata": {},
     "output_type": "display_data"
    }
   ],
   "source": [
    "# get participants who are less than 50% any ancestry\n",
    "merge.dt[, is.admixed:=ifelse(AFR < 0.5 & AMR < 0.5 & EUR < 0.5 & EAS < 0.5 & MID < 0.5 & SAS < 0.5, 1, 0)]\n",
    "describe(merge.dt$is.admixed)"
   ]
  },
  {
   "cell_type": "code",
   "execution_count": 16,
   "metadata": {},
   "outputs": [
    {
     "data": {
      "text/html": [
       "<table class=\"dataframe\">\n",
       "<caption>A data.frame: 2 × 5</caption>\n",
       "<thead>\n",
       "\t<tr><th scope=col>CRC.status</th><th scope=col>CSET1</th><th scope=col>CSET3</th><th scope=col>SCREENED</th><th scope=col>n</th></tr>\n",
       "\t<tr><th scope=col>&lt;int&gt;</th><th scope=col>&lt;int&gt;</th><th scope=col>&lt;int&gt;</th><th scope=col>&lt;int&gt;</th><th scope=col>&lt;int&gt;</th></tr>\n",
       "</thead>\n",
       "<tbody>\n",
       "\t<tr><td>0</td><td>0</td><td>0</td><td>1</td><td>12378</td></tr>\n",
       "\t<tr><td>1</td><td>1</td><td>1</td><td>0</td><td>  348</td></tr>\n",
       "</tbody>\n",
       "</table>\n"
      ],
      "text/latex": [
       "A data.frame: 2 × 5\n",
       "\\begin{tabular}{lllll}\n",
       " CRC.status & CSET1 & CSET3 & SCREENED & n\\\\\n",
       " <int> & <int> & <int> & <int> & <int>\\\\\n",
       "\\hline\n",
       "\t 0 & 0 & 0 & 1 & 12378\\\\\n",
       "\t 1 & 1 & 1 & 0 &   348\\\\\n",
       "\\end{tabular}\n"
      ],
      "text/markdown": [
       "\n",
       "A data.frame: 2 × 5\n",
       "\n",
       "| CRC.status &lt;int&gt; | CSET1 &lt;int&gt; | CSET3 &lt;int&gt; | SCREENED &lt;int&gt; | n &lt;int&gt; |\n",
       "|---|---|---|---|---|\n",
       "| 0 | 0 | 0 | 1 | 12378 |\n",
       "| 1 | 1 | 1 | 0 |   348 |\n",
       "\n"
      ],
      "text/plain": [
       "  CRC.status CSET1 CSET3 SCREENED n    \n",
       "1 0          0     0     1        12378\n",
       "2 1          1     1     0          348"
      ]
     },
     "metadata": {},
     "output_type": "display_data"
    }
   ],
   "source": [
    "# Get subset with just cleaned cases and screened controls\n",
    "merge2.dt <- merge.dt[][(merge.dt$CSET3==1 | merge.dt$SCREENED==1) ]\n",
    "as.data.frame(merge2.dt) %>%\n",
    "    count(CRC.status,CSET1, CSET3, SCREENED)"
   ]
  },
  {
   "cell_type": "code",
   "execution_count": 17,
   "metadata": {},
   "outputs": [
    {
     "data": {
      "text/plain": [
       "merge2.dt$is.admixed \n",
       "       n  missing distinct     Info      Sum     Mean      Gmd \n",
       "   12726        0        2    0.209      959  0.07536   0.1394 \n"
      ]
     },
     "metadata": {},
     "output_type": "display_data"
    }
   ],
   "source": [
    "describe(merge2.dt$is.admixed)"
   ]
  },
  {
   "cell_type": "markdown",
   "metadata": {},
   "source": [
    "# Means and S.D. after scaling PC_my and AD_mu"
   ]
  },
  {
   "cell_type": "code",
   "execution_count": 18,
   "metadata": {},
   "outputs": [
    {
     "data": {
      "text/html": [
       "<style>\n",
       ".list-inline {list-style: none; margin:0; padding: 0}\n",
       ".list-inline>li {display: inline-block}\n",
       ".list-inline>li:not(:last-child)::after {content: \"\\00b7\"; padding: 0 .5ex}\n",
       "</style>\n",
       "<ol class=list-inline><li>0.0162139854172826</li><li>-0.0167218055732475</li><li>-0.00252315798875259</li><li>0.089936453117929</li><li>-0.545006896686404</li><li>0.399264986414491</li><li>-0.145749547408026</li></ol>\n"
      ],
      "text/latex": [
       "\\begin{enumerate*}\n",
       "\\item 0.0162139854172826\n",
       "\\item -0.0167218055732475\n",
       "\\item -0.00252315798875259\n",
       "\\item 0.089936453117929\n",
       "\\item -0.545006896686404\n",
       "\\item 0.399264986414491\n",
       "\\item -0.145749547408026\n",
       "\\end{enumerate*}\n"
      ],
      "text/markdown": [
       "1. 0.0162139854172826\n",
       "2. -0.0167218055732475\n",
       "3. -0.00252315798875259\n",
       "4. 0.089936453117929\n",
       "5. -0.545006896686404\n",
       "6. 0.399264986414491\n",
       "7. -0.145749547408026\n",
       "\n",
       "\n"
      ],
      "text/plain": [
       "[1]  0.016213985 -0.016721806 -0.002523158  0.089936453 -0.545006897\n",
       "[6]  0.399264986 -0.145749547"
      ]
     },
     "metadata": {},
     "output_type": "display_data"
    },
    {
     "data": {
      "text/html": [
       "<style>\n",
       ".list-inline {list-style: none; margin:0; padding: 0}\n",
       ".list-inline>li {display: inline-block}\n",
       ".list-inline>li:not(:last-child)::after {content: \"\\00b7\"; padding: 0 .5ex}\n",
       "</style>\n",
       "<ol class=list-inline><li>0.888062831698699</li><li>0.979651603471226</li><li>1.00803963977379</li><li>1.02738209233977</li><li>1.0229602370687</li><li>1.02615693894189</li><li>1.01231154198275</li></ol>\n"
      ],
      "text/latex": [
       "\\begin{enumerate*}\n",
       "\\item 0.888062831698699\n",
       "\\item 0.979651603471226\n",
       "\\item 1.00803963977379\n",
       "\\item 1.02738209233977\n",
       "\\item 1.0229602370687\n",
       "\\item 1.02615693894189\n",
       "\\item 1.01231154198275\n",
       "\\end{enumerate*}\n"
      ],
      "text/markdown": [
       "1. 0.888062831698699\n",
       "2. 0.979651603471226\n",
       "3. 1.00803963977379\n",
       "4. 1.02738209233977\n",
       "5. 1.0229602370687\n",
       "6. 1.02615693894189\n",
       "7. 1.01231154198275\n",
       "\n",
       "\n"
      ],
      "text/plain": [
       "[1] 0.8880628 0.9796516 1.0080396 1.0273821 1.0229602 1.0261569 1.0123115"
      ]
     },
     "metadata": {},
     "output_type": "display_data"
    },
    {
     "data": {
      "text/html": [
       "<style>\n",
       ".list-inline {list-style: none; margin:0; padding: 0}\n",
       ".list-inline>li {display: inline-block}\n",
       ".list-inline>li:not(:last-child)::after {content: \"\\00b7\"; padding: 0 .5ex}\n",
       "</style>\n",
       "<ol class=list-inline><li>22385</li><li>9382</li><li>2069</li><li>44099</li><li>4056</li><li>760</li><li>15505</li></ol>\n"
      ],
      "text/latex": [
       "\\begin{enumerate*}\n",
       "\\item 22385\n",
       "\\item 9382\n",
       "\\item 2069\n",
       "\\item 44099\n",
       "\\item 4056\n",
       "\\item 760\n",
       "\\item 15505\n",
       "\\end{enumerate*}\n"
      ],
      "text/markdown": [
       "1. 22385\n",
       "2. 9382\n",
       "3. 2069\n",
       "4. 44099\n",
       "5. 4056\n",
       "6. 760\n",
       "7. 15505\n",
       "\n",
       "\n"
      ],
      "text/plain": [
       "[1] 22385  9382  2069 44099  4056   760 15505"
      ]
     },
     "metadata": {},
     "output_type": "display_data"
    }
   ],
   "source": [
    "(norm.PRS.ADJ.PC.means <- c(mean(merge.dt$norm.PRS.ADJ.PC[merge.dt$my.ancestry3==\"AFR\"]),\n",
    "               mean(merge.dt$norm.PRS.ADJ.PC[merge.dt$my.ancestry3==\"AMR\"]),\n",
    "               mean(merge.dt$norm.PRS.ADJ.PC[merge.dt$my.ancestry3==\"EAS\"]),\n",
    "               mean(merge.dt$norm.PRS.ADJ.PC[merge.dt$my.ancestry3==\"EUR\"]),\n",
    "               mean(merge.dt$norm.PRS.ADJ.PC[merge.dt$my.ancestry3==\"MID\"]),\n",
    "               mean(merge.dt$norm.PRS.ADJ.PC[merge.dt$my.ancestry3==\"SAS\"]),\n",
    "               mean(merge.dt$norm.PRS.ADJ.PC[merge.dt$my.ancestry3==\"OTH\"])))\n",
    "\n",
    "(norm.PRS.ADJ.PC.sds <- c(sd(merge.dt$norm.PRS.ADJ.PC[merge.dt$my.ancestry3==\"AFR\"]),\n",
    "               sd(merge.dt$norm.PRS.ADJ.PC[merge.dt$my.ancestry3==\"AMR\"]),\n",
    "               sd(merge.dt$norm.PRS.ADJ.PC[merge.dt$my.ancestry3==\"EAS\"]),\n",
    "               sd(merge.dt$norm.PRS.ADJ.PC[merge.dt$my.ancestry3==\"EUR\"]),\n",
    "               sd(merge.dt$norm.PRS.ADJ.PC[merge.dt$my.ancestry3==\"MID\"]),\n",
    "               sd(merge.dt$norm.PRS.ADJ.PC[merge.dt$my.ancestry3==\"SAS\"]),\n",
    "               sd(merge.dt$norm.PRS.ADJ.PC[merge.dt$my.ancestry3==\"OTH\"])))\n",
    "\n",
    "(sample.size <- c(length(merge.dt$norm.PRS.ADJ.PC[merge.dt$my.ancestry3==\"AFR\"]),\n",
    "               length(merge.dt$norm.PRS.ADJ.PC[merge.dt$my.ancestry3==\"AMR\"]),\n",
    "               length(merge.dt$norm.PRS.ADJ.PC[merge.dt$my.ancestry3==\"EAS\"]),\n",
    "               length(merge.dt$norm.PRS.ADJ.PC[merge.dt$my.ancestry3==\"EUR\"]),\n",
    "               length(merge.dt$norm.PRS.ADJ.PC[merge.dt$my.ancestry3==\"MID\"]),\n",
    "               length(merge.dt$norm.PRS.ADJ.PC[merge.dt$my.ancestry3==\"SAS\"]),\n",
    "               length(merge.dt$norm.PRS.ADJ.PC[merge.dt$my.ancestry3==\"OTH\"])))"
   ]
  },
  {
   "cell_type": "code",
   "execution_count": 19,
   "metadata": {},
   "outputs": [
    {
     "data": {
      "text/html": [
       "<style>\n",
       ".list-inline {list-style: none; margin:0; padding: 0}\n",
       ".list-inline>li {display: inline-block}\n",
       ".list-inline>li:not(:last-child)::after {content: \"\\00b7\"; padding: 0 .5ex}\n",
       "</style>\n",
       "<ol class=list-inline><li>-0.00302836666483295</li><li>0.00531620400665203</li><li>0.00041419847561544</li><li>0.00549083678666214</li><li>0.0642388658705483</li><li>0.0225420541389584</li><li>-0.0324262384660264</li></ol>\n"
      ],
      "text/latex": [
       "\\begin{enumerate*}\n",
       "\\item -0.00302836666483295\n",
       "\\item 0.00531620400665203\n",
       "\\item 0.00041419847561544\n",
       "\\item 0.00549083678666214\n",
       "\\item 0.0642388658705483\n",
       "\\item 0.0225420541389584\n",
       "\\item -0.0324262384660264\n",
       "\\end{enumerate*}\n"
      ],
      "text/markdown": [
       "1. -0.00302836666483295\n",
       "2. 0.00531620400665203\n",
       "3. 0.00041419847561544\n",
       "4. 0.00549083678666214\n",
       "5. 0.0642388658705483\n",
       "6. 0.0225420541389584\n",
       "7. -0.0324262384660264\n",
       "\n",
       "\n"
      ],
      "text/plain": [
       "[1] -0.0030283667  0.0053162040  0.0004141985  0.0054908368  0.0642388659\n",
       "[6]  0.0225420541 -0.0324262385"
      ]
     },
     "metadata": {},
     "output_type": "display_data"
    },
    {
     "data": {
      "text/html": [
       "<style>\n",
       ".list-inline {list-style: none; margin:0; padding: 0}\n",
       ".list-inline>li {display: inline-block}\n",
       ".list-inline>li:not(:last-child)::after {content: \"\\00b7\"; padding: 0 .5ex}\n",
       "</style>\n",
       "<ol class=list-inline><li>0.898574857747188</li><li>0.991080604681896</li><li>1.02515909071258</li><li>1.0398167461886</li><li>1.0339822023227</li><li>1.03877993639682</li><li>1.01346912371463</li></ol>\n"
      ],
      "text/latex": [
       "\\begin{enumerate*}\n",
       "\\item 0.898574857747188\n",
       "\\item 0.991080604681896\n",
       "\\item 1.02515909071258\n",
       "\\item 1.0398167461886\n",
       "\\item 1.0339822023227\n",
       "\\item 1.03877993639682\n",
       "\\item 1.01346912371463\n",
       "\\end{enumerate*}\n"
      ],
      "text/markdown": [
       "1. 0.898574857747188\n",
       "2. 0.991080604681896\n",
       "3. 1.02515909071258\n",
       "4. 1.0398167461886\n",
       "5. 1.0339822023227\n",
       "6. 1.03877993639682\n",
       "7. 1.01346912371463\n",
       "\n",
       "\n"
      ],
      "text/plain": [
       "[1] 0.8985749 0.9910806 1.0251591 1.0398167 1.0339822 1.0387799 1.0134691"
      ]
     },
     "metadata": {},
     "output_type": "display_data"
    },
    {
     "data": {
      "text/html": [
       "<style>\n",
       ".list-inline {list-style: none; margin:0; padding: 0}\n",
       ".list-inline>li {display: inline-block}\n",
       ".list-inline>li:not(:last-child)::after {content: \"\\00b7\"; padding: 0 .5ex}\n",
       "</style>\n",
       "<ol class=list-inline><li>22385</li><li>9382</li><li>2069</li><li>44099</li><li>4056</li><li>760</li><li>15505</li></ol>\n"
      ],
      "text/latex": [
       "\\begin{enumerate*}\n",
       "\\item 22385\n",
       "\\item 9382\n",
       "\\item 2069\n",
       "\\item 44099\n",
       "\\item 4056\n",
       "\\item 760\n",
       "\\item 15505\n",
       "\\end{enumerate*}\n"
      ],
      "text/markdown": [
       "1. 22385\n",
       "2. 9382\n",
       "3. 2069\n",
       "4. 44099\n",
       "5. 4056\n",
       "6. 760\n",
       "7. 15505\n",
       "\n",
       "\n"
      ],
      "text/plain": [
       "[1] 22385  9382  2069 44099  4056   760 15505"
      ]
     },
     "metadata": {},
     "output_type": "display_data"
    }
   ],
   "source": [
    "(norm.PRS.ADJ.ANC.means <- c(mean(merge.dt$norm.PRS.ADJ.ANC[merge.dt$my.ancestry3==\"AFR\"]),\n",
    "               mean(merge.dt$norm.PRS.ADJ.ANC[merge.dt$my.ancestry3==\"AMR\"]),\n",
    "               mean(merge.dt$norm.PRS.ADJ.ANC[merge.dt$my.ancestry3==\"EAS\"]),\n",
    "               mean(merge.dt$norm.PRS.ADJ.ANC[merge.dt$my.ancestry3==\"EUR\"]),\n",
    "               mean(merge.dt$norm.PRS.ADJ.ANC[merge.dt$my.ancestry3==\"MID\"]),\n",
    "               mean(merge.dt$norm.PRS.ADJ.ANC[merge.dt$my.ancestry3==\"SAS\"]),\n",
    "               mean(merge.dt$norm.PRS.ADJ.ANC[merge.dt$my.ancestry3==\"OTH\"])))\n",
    "\n",
    "(norm.PRS.ADJ.ANC.sds <- c(sd(merge.dt$norm.PRS.ADJ.ANC[merge.dt$my.ancestry3==\"AFR\"]),\n",
    "               sd(merge.dt$norm.PRS.ADJ.ANC[merge.dt$my.ancestry3==\"AMR\"]),\n",
    "               sd(merge.dt$norm.PRS.ADJ.ANC[merge.dt$my.ancestry3==\"EAS\"]),\n",
    "               sd(merge.dt$norm.PRS.ADJ.ANC[merge.dt$my.ancestry3==\"EUR\"]),\n",
    "               sd(merge.dt$norm.PRS.ADJ.ANC[merge.dt$my.ancestry3==\"MID\"]),\n",
    "               sd(merge.dt$norm.PRS.ADJ.ANC[merge.dt$my.ancestry3==\"SAS\"]),\n",
    "               sd(merge.dt$norm.PRS.ADJ.ANC[merge.dt$my.ancestry3==\"OTH\"])))\n",
    "\n",
    "(sample.size <- c(length(merge.dt$norm.PRS.ADJ.ANC[merge.dt$my.ancestry3==\"AFR\"]),\n",
    "               length(merge.dt$norm.PRS.ADJ.ANC[merge.dt$my.ancestry3==\"AMR\"]),\n",
    "               length(merge.dt$norm.PRS.ADJ.ANC[merge.dt$my.ancestry3==\"EAS\"]),\n",
    "               length(merge.dt$norm.PRS.ADJ.ANC[merge.dt$my.ancestry3==\"EUR\"]),\n",
    "               length(merge.dt$norm.PRS.ADJ.ANC[merge.dt$my.ancestry3==\"MID\"]),\n",
    "               length(merge.dt$norm.PRS.ADJ.ANC[merge.dt$my.ancestry3==\"SAS\"]),\n",
    "               length(merge.dt$norm.PRS.ADJ.ANC[merge.dt$my.ancestry3==\"OTH\"])))"
   ]
  },
  {
   "cell_type": "code",
   "execution_count": 20,
   "metadata": {},
   "outputs": [],
   "source": [
    "sample.size <- c(length(merge.dt$norm.PRS.ADJ.PC[merge.dt$my.ancestry3==\"AFR\"]),\n",
    "               length(merge.dt$norm.PRS.ADJ.PC[merge.dt$my.ancestry3==\"AMR\"]),\n",
    "               length(merge.dt$norm.PRS.ADJ.PC[merge.dt$my.ancestry3==\"EAS\"]),\n",
    "               length(merge.dt$norm.PRS.ADJ.PC[merge.dt$my.ancestry3==\"EUR\"]),\n",
    "               length(merge.dt$norm.PRS.ADJ.PC[merge.dt$my.ancestry3==\"MID\"]),\n",
    "               length(merge.dt$norm.PRS.ADJ.PC[merge.dt$my.ancestry3==\"SAS\"]),\n",
    "               length(merge.dt$norm.PRS.ADJ.PC[merge.dt$my.ancestry3==\"OTH\"]))"
   ]
  },
  {
   "cell_type": "markdown",
   "metadata": {},
   "source": [
    "# Kolmogorov-Smirnov tests for N(0,1)"
   ]
  },
  {
   "cell_type": "code",
   "execution_count": 32,
   "metadata": {},
   "outputs": [],
   "source": [
    "anc.names <- c(\"AFR\",\"AMR\",\"EAS\",\"EUR\",\"MID\",\"SAS\",\"OTH\")"
   ]
  },
  {
   "cell_type": "code",
   "execution_count": 33,
   "metadata": {},
   "outputs": [
    {
     "data": {
      "text/html": [
       "<style>\n",
       ".list-inline {list-style: none; margin:0; padding: 0}\n",
       ".list-inline>li {display: inline-block}\n",
       ".list-inline>li:not(:last-child)::after {content: \"\\00b7\"; padding: 0 .5ex}\n",
       "</style>\n",
       "<ol class=list-inline><li>0</li><li>0.0419732863978562</li><li>0.657568685555203</li><li>0</li><li>0</li><li>0</li><li>0</li></ol>\n"
      ],
      "text/latex": [
       "\\begin{enumerate*}\n",
       "\\item 0\n",
       "\\item 0.0419732863978562\n",
       "\\item 0.657568685555203\n",
       "\\item 0\n",
       "\\item 0\n",
       "\\item 0\n",
       "\\item 0\n",
       "\\end{enumerate*}\n"
      ],
      "text/markdown": [
       "1. 0\n",
       "2. 0.0419732863978562\n",
       "3. 0.657568685555203\n",
       "4. 0\n",
       "5. 0\n",
       "6. 0\n",
       "7. 0\n",
       "\n",
       "\n"
      ],
      "text/plain": [
       "[1] 0.00000000 0.04197329 0.65756869 0.00000000 0.00000000 0.00000000 0.00000000"
      ]
     },
     "metadata": {},
     "output_type": "display_data"
    },
    {
     "data": {
      "text/html": [
       "<table class=\"dataframe\">\n",
       "<caption>A matrix: 7 × 2 of type chr</caption>\n",
       "<thead>\n",
       "\t<tr><th scope=col>anc.names</th><th scope=col>norm.PRS.ADJ.PC.ks.tests</th></tr>\n",
       "</thead>\n",
       "<tbody>\n",
       "\t<tr><td>AFR</td><td>0                 </td></tr>\n",
       "\t<tr><td>AMR</td><td>0.0419732863978562</td></tr>\n",
       "\t<tr><td>EAS</td><td>0.657568685555203 </td></tr>\n",
       "\t<tr><td>EUR</td><td>0                 </td></tr>\n",
       "\t<tr><td>MID</td><td>0                 </td></tr>\n",
       "\t<tr><td>SAS</td><td>0                 </td></tr>\n",
       "\t<tr><td>OTH</td><td>0                 </td></tr>\n",
       "</tbody>\n",
       "</table>\n"
      ],
      "text/latex": [
       "A matrix: 7 × 2 of type chr\n",
       "\\begin{tabular}{ll}\n",
       " anc.names & norm.PRS.ADJ.PC.ks.tests\\\\\n",
       "\\hline\n",
       "\t AFR & 0                 \\\\\n",
       "\t AMR & 0.0419732863978562\\\\\n",
       "\t EAS & 0.657568685555203 \\\\\n",
       "\t EUR & 0                 \\\\\n",
       "\t MID & 0                 \\\\\n",
       "\t SAS & 0                 \\\\\n",
       "\t OTH & 0                 \\\\\n",
       "\\end{tabular}\n"
      ],
      "text/markdown": [
       "\n",
       "A matrix: 7 × 2 of type chr\n",
       "\n",
       "| anc.names | norm.PRS.ADJ.PC.ks.tests |\n",
       "|---|---|\n",
       "| AFR | 0                  |\n",
       "| AMR | 0.0419732863978562 |\n",
       "| EAS | 0.657568685555203  |\n",
       "| EUR | 0                  |\n",
       "| MID | 0                  |\n",
       "| SAS | 0                  |\n",
       "| OTH | 0                  |\n",
       "\n"
      ],
      "text/plain": [
       "     anc.names norm.PRS.ADJ.PC.ks.tests\n",
       "[1,] AFR       0                       \n",
       "[2,] AMR       0.0419732863978562      \n",
       "[3,] EAS       0.657568685555203       \n",
       "[4,] EUR       0                       \n",
       "[5,] MID       0                       \n",
       "[6,] SAS       0                       \n",
       "[7,] OTH       0                       "
      ]
     },
     "metadata": {},
     "output_type": "display_data"
    }
   ],
   "source": [
    "(norm.PRS.ADJ.PC.ks.tests <- c(ks.test(merge.dt$norm.PRS.ADJ.PC[merge.dt$my.ancestry3==\"AFR\"], \"pnorm\",0,1)$p.value,\n",
    "               ks.test(merge.dt$norm.PRS.ADJ.PC[merge.dt$my.ancestry3==\"AMR\"], \"pnorm\",0,1)$p.value,\n",
    "               ks.test(merge.dt$norm.PRS.ADJ.PC[merge.dt$my.ancestry3==\"EAS\"], \"pnorm\",0,1)$p.value,\n",
    "               ks.test(merge.dt$norm.PRS.ADJ.PC[merge.dt$my.ancestry3==\"EUR\"], \"pnorm\",0,1)$p.value,\n",
    "               ks.test(merge.dt$norm.PRS.ADJ.PC[merge.dt$my.ancestry3==\"MID\"], \"pnorm\",0,1)$p.value,\n",
    "               ks.test(merge.dt$norm.PRS.ADJ.PC[merge.dt$my.ancestry3==\"SAS\"], \"pnorm\",0,1)$p.value,\n",
    "               ks.test(merge.dt$norm.PRS.ADJ.PC[merge.dt$my.ancestry3==\"OTH\"], \"pnorm\",0,1)$p.value))\n",
    "cbind(anc.names,norm.PRS.ADJ.PC.ks.tests)"
   ]
  },
  {
   "cell_type": "code",
   "execution_count": 35,
   "metadata": {},
   "outputs": [
    {
     "data": {
      "text/html": [
       "0.657568685555203"
      ],
      "text/latex": [
       "0.657568685555203"
      ],
      "text/markdown": [
       "0.657568685555203"
      ],
      "text/plain": [
       "[1] 0.6575687"
      ]
     },
     "metadata": {},
     "output_type": "display_data"
    }
   ],
   "source": [
    "ks.test(merge.dt$norm.PRS.ADJ.PC[merge.dt$my.ancestry3==\"EAS\"], \"pnorm\",0,1)$p.value"
   ]
  },
  {
   "cell_type": "code",
   "execution_count": 34,
   "metadata": {},
   "outputs": [
    {
     "data": {
      "text/html": [
       "<style>\n",
       ".list-inline {list-style: none; margin:0; padding: 0}\n",
       ".list-inline>li {display: inline-block}\n",
       ".list-inline>li:not(:last-child)::after {content: \"\\00b7\"; padding: 0 .5ex}\n",
       "</style>\n",
       "<ol class=list-inline><li>7.21644966006352e-15</li><li>0.715323670740276</li><li>0.30152065887154</li><li>8.74510358173097e-06</li><li>0.00174119343729495</li><li>0.912936743987376</li><li>6.60382897382794e-05</li></ol>\n"
      ],
      "text/latex": [
       "\\begin{enumerate*}\n",
       "\\item 7.21644966006352e-15\n",
       "\\item 0.715323670740276\n",
       "\\item 0.30152065887154\n",
       "\\item 8.74510358173097e-06\n",
       "\\item 0.00174119343729495\n",
       "\\item 0.912936743987376\n",
       "\\item 6.60382897382794e-05\n",
       "\\end{enumerate*}\n"
      ],
      "text/markdown": [
       "1. 7.21644966006352e-15\n",
       "2. 0.715323670740276\n",
       "3. 0.30152065887154\n",
       "4. 8.74510358173097e-06\n",
       "5. 0.00174119343729495\n",
       "6. 0.912936743987376\n",
       "7. 6.60382897382794e-05\n",
       "\n",
       "\n"
      ],
      "text/plain": [
       "[1] 7.216450e-15 7.153237e-01 3.015207e-01 8.745104e-06 1.741193e-03\n",
       "[6] 9.129367e-01 6.603829e-05"
      ]
     },
     "metadata": {},
     "output_type": "display_data"
    },
    {
     "data": {
      "text/html": [
       "<table class=\"dataframe\">\n",
       "<caption>A matrix: 7 × 2 of type chr</caption>\n",
       "<thead>\n",
       "\t<tr><th scope=col>anc.names</th><th scope=col>norm.PRS.ADJ.ANC.ks.tests</th></tr>\n",
       "</thead>\n",
       "<tbody>\n",
       "\t<tr><td>AFR</td><td>7.21644966006352e-15</td></tr>\n",
       "\t<tr><td>AMR</td><td>0.715323670740276   </td></tr>\n",
       "\t<tr><td>EAS</td><td>0.30152065887154    </td></tr>\n",
       "\t<tr><td>EUR</td><td>8.74510358173097e-06</td></tr>\n",
       "\t<tr><td>MID</td><td>0.00174119343729495 </td></tr>\n",
       "\t<tr><td>SAS</td><td>0.912936743987376   </td></tr>\n",
       "\t<tr><td>OTH</td><td>6.60382897382794e-05</td></tr>\n",
       "</tbody>\n",
       "</table>\n"
      ],
      "text/latex": [
       "A matrix: 7 × 2 of type chr\n",
       "\\begin{tabular}{ll}\n",
       " anc.names & norm.PRS.ADJ.ANC.ks.tests\\\\\n",
       "\\hline\n",
       "\t AFR & 7.21644966006352e-15\\\\\n",
       "\t AMR & 0.715323670740276   \\\\\n",
       "\t EAS & 0.30152065887154    \\\\\n",
       "\t EUR & 8.74510358173097e-06\\\\\n",
       "\t MID & 0.00174119343729495 \\\\\n",
       "\t SAS & 0.912936743987376   \\\\\n",
       "\t OTH & 6.60382897382794e-05\\\\\n",
       "\\end{tabular}\n"
      ],
      "text/markdown": [
       "\n",
       "A matrix: 7 × 2 of type chr\n",
       "\n",
       "| anc.names | norm.PRS.ADJ.ANC.ks.tests |\n",
       "|---|---|\n",
       "| AFR | 7.21644966006352e-15 |\n",
       "| AMR | 0.715323670740276    |\n",
       "| EAS | 0.30152065887154     |\n",
       "| EUR | 8.74510358173097e-06 |\n",
       "| MID | 0.00174119343729495  |\n",
       "| SAS | 0.912936743987376    |\n",
       "| OTH | 6.60382897382794e-05 |\n",
       "\n"
      ],
      "text/plain": [
       "     anc.names norm.PRS.ADJ.ANC.ks.tests\n",
       "[1,] AFR       7.21644966006352e-15     \n",
       "[2,] AMR       0.715323670740276        \n",
       "[3,] EAS       0.30152065887154         \n",
       "[4,] EUR       8.74510358173097e-06     \n",
       "[5,] MID       0.00174119343729495      \n",
       "[6,] SAS       0.912936743987376        \n",
       "[7,] OTH       6.60382897382794e-05     "
      ]
     },
     "metadata": {},
     "output_type": "display_data"
    }
   ],
   "source": [
    "(norm.PRS.ADJ.ANC.ks.tests <- c(ks.test(merge.dt$norm.PRS.ADJ.ANC[merge.dt$my.ancestry3==\"AFR\"], \"pnorm\",0,1)$p.value,\n",
    "               ks.test(merge.dt$norm.PRS.ADJ.ANC[merge.dt$my.ancestry3==\"AMR\"], \"pnorm\",0,1)$p.value,\n",
    "               ks.test(merge.dt$norm.PRS.ADJ.ANC[merge.dt$my.ancestry3==\"EAS\"], \"pnorm\",0,1)$p.value,\n",
    "               ks.test(merge.dt$norm.PRS.ADJ.ANC[merge.dt$my.ancestry3==\"EUR\"], \"pnorm\",0,1)$p.value,\n",
    "               ks.test(merge.dt$norm.PRS.ADJ.ANC[merge.dt$my.ancestry3==\"MID\"], \"pnorm\",0,1)$p.value,\n",
    "               ks.test(merge.dt$norm.PRS.ADJ.ANC[merge.dt$my.ancestry3==\"SAS\"], \"pnorm\",0,1)$p.value,\n",
    "               ks.test(merge.dt$norm.PRS.ADJ.ANC[merge.dt$my.ancestry3==\"OTH\"], \"pnorm\",0,1)$p.value))\n",
    "cbind(anc.names,norm.PRS.ADJ.ANC.ks.tests)"
   ]
  },
  {
   "cell_type": "code",
   "execution_count": 36,
   "metadata": {},
   "outputs": [
    {
     "data": {
      "text/html": [
       "<style>\n",
       ".list-inline {list-style: none; margin:0; padding: 0}\n",
       ".list-inline>li {display: inline-block}\n",
       ".list-inline>li:not(:last-child)::after {content: \"\\00b7\"; padding: 0 .5ex}\n",
       "</style>\n",
       "<ol class=list-inline><li>0.00461678897300111</li><li>0.119235140669971</li><li>5.13992501227634e-06</li><li>0</li><li>0</li><li>0.000528828689058791</li><li>2.20166017250722e-06</li></ol>\n"
      ],
      "text/latex": [
       "\\begin{enumerate*}\n",
       "\\item 0.00461678897300111\n",
       "\\item 0.119235140669971\n",
       "\\item 5.13992501227634e-06\n",
       "\\item 0\n",
       "\\item 0\n",
       "\\item 0.000528828689058791\n",
       "\\item 2.20166017250722e-06\n",
       "\\end{enumerate*}\n"
      ],
      "text/markdown": [
       "1. 0.00461678897300111\n",
       "2. 0.119235140669971\n",
       "3. 5.13992501227634e-06\n",
       "4. 0\n",
       "5. 0\n",
       "6. 0.000528828689058791\n",
       "7. 2.20166017250722e-06\n",
       "\n",
       "\n"
      ],
      "text/plain": [
       "[1] 4.616789e-03 1.192351e-01 5.139925e-06 0.000000e+00 0.000000e+00\n",
       "[6] 5.288287e-04 2.201660e-06"
      ]
     },
     "metadata": {},
     "output_type": "display_data"
    },
    {
     "data": {
      "text/html": [
       "<table class=\"dataframe\">\n",
       "<caption>A matrix: 7 × 2 of type chr</caption>\n",
       "<thead>\n",
       "\t<tr><th scope=col>anc.names</th><th scope=col>PRS.BR.REF.ks.tests</th></tr>\n",
       "</thead>\n",
       "<tbody>\n",
       "\t<tr><td>AFR</td><td>0.00461678897300111 </td></tr>\n",
       "\t<tr><td>AMR</td><td>0.119235140669971   </td></tr>\n",
       "\t<tr><td>EAS</td><td>5.13992501227634e-06</td></tr>\n",
       "\t<tr><td>EUR</td><td>0                   </td></tr>\n",
       "\t<tr><td>MID</td><td>0                   </td></tr>\n",
       "\t<tr><td>SAS</td><td>0.000528828689058791</td></tr>\n",
       "\t<tr><td>OTH</td><td>2.20166017250722e-06</td></tr>\n",
       "</tbody>\n",
       "</table>\n"
      ],
      "text/latex": [
       "A matrix: 7 × 2 of type chr\n",
       "\\begin{tabular}{ll}\n",
       " anc.names & PRS.BR.REF.ks.tests\\\\\n",
       "\\hline\n",
       "\t AFR & 0.00461678897300111 \\\\\n",
       "\t AMR & 0.119235140669971   \\\\\n",
       "\t EAS & 5.13992501227634e-06\\\\\n",
       "\t EUR & 0                   \\\\\n",
       "\t MID & 0                   \\\\\n",
       "\t SAS & 0.000528828689058791\\\\\n",
       "\t OTH & 2.20166017250722e-06\\\\\n",
       "\\end{tabular}\n"
      ],
      "text/markdown": [
       "\n",
       "A matrix: 7 × 2 of type chr\n",
       "\n",
       "| anc.names | PRS.BR.REF.ks.tests |\n",
       "|---|---|\n",
       "| AFR | 0.00461678897300111  |\n",
       "| AMR | 0.119235140669971    |\n",
       "| EAS | 5.13992501227634e-06 |\n",
       "| EUR | 0                    |\n",
       "| MID | 0                    |\n",
       "| SAS | 0.000528828689058791 |\n",
       "| OTH | 2.20166017250722e-06 |\n",
       "\n"
      ],
      "text/plain": [
       "     anc.names PRS.BR.REF.ks.tests \n",
       "[1,] AFR       0.00461678897300111 \n",
       "[2,] AMR       0.119235140669971   \n",
       "[3,] EAS       5.13992501227634e-06\n",
       "[4,] EUR       0                   \n",
       "[5,] MID       0                   \n",
       "[6,] SAS       0.000528828689058791\n",
       "[7,] OTH       2.20166017250722e-06"
      ]
     },
     "metadata": {},
     "output_type": "display_data"
    }
   ],
   "source": [
    "(PRS.BR.REF.ks.tests <- c(ks.test(merge.dt$PRS.BR.REF[merge.dt$my.ancestry3==\"AFR\"], \"pnorm\",0,1)$p.value,\n",
    "               ks.test(merge.dt$PRS.BR.REF[merge.dt$my.ancestry3==\"AMR\"], \"pnorm\",0,1)$p.value,\n",
    "               ks.test(merge.dt$PRS.BR.REF[merge.dt$my.ancestry3==\"EAS\"], \"pnorm\",0,1)$p.value,\n",
    "               ks.test(merge.dt$PRS.BR.REF[merge.dt$my.ancestry3==\"EUR\"], \"pnorm\",0,1)$p.value,\n",
    "               ks.test(merge.dt$PRS.BR.REF[merge.dt$my.ancestry3==\"MID\"], \"pnorm\",0,1)$p.value,\n",
    "               ks.test(merge.dt$PRS.BR.REF[merge.dt$my.ancestry3==\"SAS\"], \"pnorm\",0,1)$p.value,\n",
    "               ks.test(merge.dt$PRS.BR.REF[merge.dt$my.ancestry3==\"OTH\"], \"pnorm\",0,1)$p.value))\n",
    "cbind(anc.names,PRS.BR.REF.ks.tests)"
   ]
  },
  {
   "cell_type": "code",
   "execution_count": 38,
   "metadata": {},
   "outputs": [
    {
     "data": {
      "text/html": [
       "<style>\n",
       ".list-inline {list-style: none; margin:0; padding: 0}\n",
       ".list-inline>li {display: inline-block}\n",
       ".list-inline>li:not(:last-child)::after {content: \"\\00b7\"; padding: 0 .5ex}\n",
       "</style>\n",
       "<ol class=list-inline><li>0.136687745792963</li><li>0.00740854241022959</li><li>0.330477438741942</li><li>0</li><li>0</li><li>1.67136304796145e-10</li><li>0</li></ol>\n"
      ],
      "text/latex": [
       "\\begin{enumerate*}\n",
       "\\item 0.136687745792963\n",
       "\\item 0.00740854241022959\n",
       "\\item 0.330477438741942\n",
       "\\item 0\n",
       "\\item 0\n",
       "\\item 1.67136304796145e-10\n",
       "\\item 0\n",
       "\\end{enumerate*}\n"
      ],
      "text/markdown": [
       "1. 0.136687745792963\n",
       "2. 0.00740854241022959\n",
       "3. 0.330477438741942\n",
       "4. 0\n",
       "5. 0\n",
       "6. 1.67136304796145e-10\n",
       "7. 0\n",
       "\n",
       "\n"
      ],
      "text/plain": [
       "[1] 1.366877e-01 7.408542e-03 3.304774e-01 0.000000e+00 0.000000e+00\n",
       "[6] 1.671363e-10 0.000000e+00"
      ]
     },
     "metadata": {},
     "output_type": "display_data"
    },
    {
     "data": {
      "text/html": [
       "<table class=\"dataframe\">\n",
       "<caption>A matrix: 7 × 2 of type chr</caption>\n",
       "<thead>\n",
       "\t<tr><th scope=col>anc.names</th><th scope=col>PRS.BR.AOU1.ks.tests</th></tr>\n",
       "</thead>\n",
       "<tbody>\n",
       "\t<tr><td>AFR</td><td>0.136687745792963   </td></tr>\n",
       "\t<tr><td>AMR</td><td>0.00740854241022959 </td></tr>\n",
       "\t<tr><td>EAS</td><td>0.330477438741942   </td></tr>\n",
       "\t<tr><td>EUR</td><td>0                   </td></tr>\n",
       "\t<tr><td>MID</td><td>0                   </td></tr>\n",
       "\t<tr><td>SAS</td><td>1.67136304796145e-10</td></tr>\n",
       "\t<tr><td>OTH</td><td>0                   </td></tr>\n",
       "</tbody>\n",
       "</table>\n"
      ],
      "text/latex": [
       "A matrix: 7 × 2 of type chr\n",
       "\\begin{tabular}{ll}\n",
       " anc.names & PRS.BR.AOU1.ks.tests\\\\\n",
       "\\hline\n",
       "\t AFR & 0.136687745792963   \\\\\n",
       "\t AMR & 0.00740854241022959 \\\\\n",
       "\t EAS & 0.330477438741942   \\\\\n",
       "\t EUR & 0                   \\\\\n",
       "\t MID & 0                   \\\\\n",
       "\t SAS & 1.67136304796145e-10\\\\\n",
       "\t OTH & 0                   \\\\\n",
       "\\end{tabular}\n"
      ],
      "text/markdown": [
       "\n",
       "A matrix: 7 × 2 of type chr\n",
       "\n",
       "| anc.names | PRS.BR.AOU1.ks.tests |\n",
       "|---|---|\n",
       "| AFR | 0.136687745792963    |\n",
       "| AMR | 0.00740854241022959  |\n",
       "| EAS | 0.330477438741942    |\n",
       "| EUR | 0                    |\n",
       "| MID | 0                    |\n",
       "| SAS | 1.67136304796145e-10 |\n",
       "| OTH | 0                    |\n",
       "\n"
      ],
      "text/plain": [
       "     anc.names PRS.BR.AOU1.ks.tests\n",
       "[1,] AFR       0.136687745792963   \n",
       "[2,] AMR       0.00740854241022959 \n",
       "[3,] EAS       0.330477438741942   \n",
       "[4,] EUR       0                   \n",
       "[5,] MID       0                   \n",
       "[6,] SAS       1.67136304796145e-10\n",
       "[7,] OTH       0                   "
      ]
     },
     "metadata": {},
     "output_type": "display_data"
    }
   ],
   "source": [
    "(PRS.BR.AOU1.ks.tests <- c(ks.test(merge.dt$PRS.BR.AOU1[merge.dt$my.ancestry3==\"AFR\"], \"pnorm\",0,1)$p.value,\n",
    "               ks.test(merge.dt$PRS.BR.AOU1[merge.dt$my.ancestry3==\"AMR\"], \"pnorm\",0,1)$p.value,\n",
    "               ks.test(merge.dt$PRS.BR.AOU1[merge.dt$my.ancestry3==\"EAS\"], \"pnorm\",0,1)$p.value,\n",
    "               ks.test(merge.dt$PRS.BR.AOU1[merge.dt$my.ancestry3==\"EUR\"], \"pnorm\",0,1)$p.value,\n",
    "               ks.test(merge.dt$PRS.BR.AOU1[merge.dt$my.ancestry3==\"MID\"], \"pnorm\",0,1)$p.value,\n",
    "               ks.test(merge.dt$PRS.BR.AOU1[merge.dt$my.ancestry3==\"SAS\"], \"pnorm\",0,1)$p.value,\n",
    "               ks.test(merge.dt$PRS.BR.AOU1[merge.dt$my.ancestry3==\"OTH\"], \"pnorm\",0,1)$p.value))\n",
    "cbind(anc.names,PRS.BR.AOU1.ks.tests)"
   ]
  },
  {
   "cell_type": "code",
   "execution_count": 39,
   "metadata": {},
   "outputs": [
    {
     "data": {
      "text/html": [
       "<style>\n",
       ".list-inline {list-style: none; margin:0; padding: 0}\n",
       ".list-inline>li {display: inline-block}\n",
       ".list-inline>li:not(:last-child)::after {content: \"\\00b7\"; padding: 0 .5ex}\n",
       "</style>\n",
       "<ol class=list-inline><li>0.27590171225782</li><li>0.234521613338031</li><li>0.293043195521015</li><li>0.246007418144529</li><li>0.000181289951764918</li><li>0.00226168901385082</li><li>3.91837367691439e-05</li></ol>\n"
      ],
      "text/latex": [
       "\\begin{enumerate*}\n",
       "\\item 0.27590171225782\n",
       "\\item 0.234521613338031\n",
       "\\item 0.293043195521015\n",
       "\\item 0.246007418144529\n",
       "\\item 0.000181289951764918\n",
       "\\item 0.00226168901385082\n",
       "\\item 3.91837367691439e-05\n",
       "\\end{enumerate*}\n"
      ],
      "text/markdown": [
       "1. 0.27590171225782\n",
       "2. 0.234521613338031\n",
       "3. 0.293043195521015\n",
       "4. 0.246007418144529\n",
       "5. 0.000181289951764918\n",
       "6. 0.00226168901385082\n",
       "7. 3.91837367691439e-05\n",
       "\n",
       "\n"
      ],
      "text/plain": [
       "[1] 2.759017e-01 2.345216e-01 2.930432e-01 2.460074e-01 1.812900e-04\n",
       "[6] 2.261689e-03 3.918374e-05"
      ]
     },
     "metadata": {},
     "output_type": "display_data"
    },
    {
     "data": {
      "text/html": [
       "<table class=\"dataframe\">\n",
       "<caption>A matrix: 7 × 2 of type chr</caption>\n",
       "<thead>\n",
       "\t<tr><th scope=col>anc.names</th><th scope=col>PRS.BR.ANC.AOU1.ks.tests</th></tr>\n",
       "</thead>\n",
       "<tbody>\n",
       "\t<tr><td>AFR</td><td>0.27590171225782    </td></tr>\n",
       "\t<tr><td>AMR</td><td>0.234521613338031   </td></tr>\n",
       "\t<tr><td>EAS</td><td>0.293043195521015   </td></tr>\n",
       "\t<tr><td>EUR</td><td>0.246007418144529   </td></tr>\n",
       "\t<tr><td>MID</td><td>0.000181289951764918</td></tr>\n",
       "\t<tr><td>SAS</td><td>0.00226168901385082 </td></tr>\n",
       "\t<tr><td>OTH</td><td>3.91837367691439e-05</td></tr>\n",
       "</tbody>\n",
       "</table>\n"
      ],
      "text/latex": [
       "A matrix: 7 × 2 of type chr\n",
       "\\begin{tabular}{ll}\n",
       " anc.names & PRS.BR.ANC.AOU1.ks.tests\\\\\n",
       "\\hline\n",
       "\t AFR & 0.27590171225782    \\\\\n",
       "\t AMR & 0.234521613338031   \\\\\n",
       "\t EAS & 0.293043195521015   \\\\\n",
       "\t EUR & 0.246007418144529   \\\\\n",
       "\t MID & 0.000181289951764918\\\\\n",
       "\t SAS & 0.00226168901385082 \\\\\n",
       "\t OTH & 3.91837367691439e-05\\\\\n",
       "\\end{tabular}\n"
      ],
      "text/markdown": [
       "\n",
       "A matrix: 7 × 2 of type chr\n",
       "\n",
       "| anc.names | PRS.BR.ANC.AOU1.ks.tests |\n",
       "|---|---|\n",
       "| AFR | 0.27590171225782     |\n",
       "| AMR | 0.234521613338031    |\n",
       "| EAS | 0.293043195521015    |\n",
       "| EUR | 0.246007418144529    |\n",
       "| MID | 0.000181289951764918 |\n",
       "| SAS | 0.00226168901385082  |\n",
       "| OTH | 3.91837367691439e-05 |\n",
       "\n"
      ],
      "text/plain": [
       "     anc.names PRS.BR.ANC.AOU1.ks.tests\n",
       "[1,] AFR       0.27590171225782        \n",
       "[2,] AMR       0.234521613338031       \n",
       "[3,] EAS       0.293043195521015       \n",
       "[4,] EUR       0.246007418144529       \n",
       "[5,] MID       0.000181289951764918    \n",
       "[6,] SAS       0.00226168901385082     \n",
       "[7,] OTH       3.91837367691439e-05    "
      ]
     },
     "metadata": {},
     "output_type": "display_data"
    }
   ],
   "source": [
    "(PRS.BR.ANC.AOU1.ks.tests <- c(ks.test(merge.dt$PRS.BR.ANC.AOU1[merge.dt$my.ancestry3==\"AFR\"], \"pnorm\",0,1)$p.value,\n",
    "               ks.test(merge.dt$PRS.BR.ANC.AOU1[merge.dt$my.ancestry3==\"AMR\"], \"pnorm\",0,1)$p.value,\n",
    "               ks.test(merge.dt$PRS.BR.ANC.AOU1[merge.dt$my.ancestry3==\"EAS\"], \"pnorm\",0,1)$p.value,\n",
    "               ks.test(merge.dt$PRS.BR.ANC.AOU1[merge.dt$my.ancestry3==\"EUR\"], \"pnorm\",0,1)$p.value,\n",
    "               ks.test(merge.dt$PRS.BR.ANC.AOU1[merge.dt$my.ancestry3==\"MID\"], \"pnorm\",0,1)$p.value,\n",
    "               ks.test(merge.dt$PRS.BR.ANC.AOU1[merge.dt$my.ancestry3==\"SAS\"], \"pnorm\",0,1)$p.value,\n",
    "               ks.test(merge.dt$PRS.BR.ANC.AOU1[merge.dt$my.ancestry3==\"OTH\"], \"pnorm\",0,1)$p.value))\n",
    "cbind(anc.names,PRS.BR.ANC.AOU1.ks.tests)"
   ]
  },
  {
   "cell_type": "markdown",
   "metadata": {},
   "source": [
    "# Distribution of PRSs for is.admixed"
   ]
  },
  {
   "cell_type": "code",
   "execution_count": 41,
   "metadata": {},
   "outputs": [],
   "source": [
    "merge.admix.dt <- merge.dt[][merge.dt$is.admixed==1]"
   ]
  },
  {
   "cell_type": "code",
   "execution_count": 21,
   "metadata": {},
   "outputs": [
    {
     "data": {
      "text/html": [
       "<style>\n",
       ".list-inline {list-style: none; margin:0; padding: 0}\n",
       ".list-inline>li {display: inline-block}\n",
       ".list-inline>li:not(:last-child)::after {content: \"\\00b7\"; padding: 0 .5ex}\n",
       "</style>\n",
       "<ol class=list-inline><li>0.297119281855318</li><li>-0.0506613061636096</li><li>0.00424861690472743</li><li>-0.107247758324533</li><li>0.00402473910778826</li></ol>\n"
      ],
      "text/latex": [
       "\\begin{enumerate*}\n",
       "\\item 0.297119281855318\n",
       "\\item -0.0506613061636096\n",
       "\\item 0.00424861690472743\n",
       "\\item -0.107247758324533\n",
       "\\item 0.00402473910778826\n",
       "\\end{enumerate*}\n"
      ],
      "text/markdown": [
       "1. 0.297119281855318\n",
       "2. -0.0506613061636096\n",
       "3. 0.00424861690472743\n",
       "4. -0.107247758324533\n",
       "5. 0.00402473910778826\n",
       "\n",
       "\n"
      ],
      "text/plain": [
       "[1]  0.297119282 -0.050661306  0.004248617 -0.107247758  0.004024739"
      ]
     },
     "metadata": {},
     "output_type": "display_data"
    }
   ],
   "source": [
    "(means.admixed <- c(mean(merge.admix.dt$PRS), mean(merge.admix.dt$PRS.ADJ.PC), mean(merge.admix.dt$PRS.ADJ.ANC),\n",
    "                   mean(merge.admix.dt$PRS.BR.AOU1 ), mean(merge.admix.dt$PRS.BR.ANC.AOU1)))"
   ]
  },
  {
   "cell_type": "code",
   "execution_count": 22,
   "metadata": {},
   "outputs": [
    {
     "data": {
      "text/html": [
       "<style>\n",
       ".list-inline {list-style: none; margin:0; padding: 0}\n",
       ".list-inline>li {display: inline-block}\n",
       ".list-inline>li:not(:last-child)::after {content: \"\\00b7\"; padding: 0 .5ex}\n",
       "</style>\n",
       "<ol class=list-inline><li>0.463262474836052</li><li>0.462440429100584</li><li>0.461506124721479</li><li>1.00619477055928</li><li>1.00416903769457</li></ol>\n"
      ],
      "text/latex": [
       "\\begin{enumerate*}\n",
       "\\item 0.463262474836052\n",
       "\\item 0.462440429100584\n",
       "\\item 0.461506124721479\n",
       "\\item 1.00619477055928\n",
       "\\item 1.00416903769457\n",
       "\\end{enumerate*}\n"
      ],
      "text/markdown": [
       "1. 0.463262474836052\n",
       "2. 0.462440429100584\n",
       "3. 0.461506124721479\n",
       "4. 1.00619477055928\n",
       "5. 1.00416903769457\n",
       "\n",
       "\n"
      ],
      "text/plain": [
       "[1] 0.4632625 0.4624404 0.4615061 1.0061948 1.0041690"
      ]
     },
     "metadata": {},
     "output_type": "display_data"
    }
   ],
   "source": [
    "(sds.admixed <- c(sd(merge.admix.dt$PRS), sd(merge.admix.dt$PRS.ADJ.PC), sd(merge.admix.dt$PRS.ADJ.ANC),\n",
    "                   sd(merge.admix.dt$PRS.BR.AOU1 ), sd(merge.admix.dt$PRS.BR.ANC.AOU1)))"
   ]
  },
  {
   "cell_type": "code",
   "execution_count": 22,
   "metadata": {},
   "outputs": [
    {
     "data": {
      "text/html": [
       "<style>\n",
       ".list-inline {list-style: none; margin:0; padding: 0}\n",
       ".list-inline>li {display: inline-block}\n",
       ".list-inline>li:not(:last-child)::after {content: \"\\00b7\"; padding: 0 .5ex}\n",
       "</style>\n",
       "<ol class=list-inline><li>0.297119281855318</li><li>-0.109657200865253</li><li>0.00931407359263192</li><li>-0.107247758324533</li><li>0.00402473910778826</li></ol>\n"
      ],
      "text/latex": [
       "\\begin{enumerate*}\n",
       "\\item 0.297119281855318\n",
       "\\item -0.109657200865253\n",
       "\\item 0.00931407359263192\n",
       "\\item -0.107247758324533\n",
       "\\item 0.00402473910778826\n",
       "\\end{enumerate*}\n"
      ],
      "text/markdown": [
       "1. 0.297119281855318\n",
       "2. -0.109657200865253\n",
       "3. 0.00931407359263192\n",
       "4. -0.107247758324533\n",
       "5. 0.00402473910778826\n",
       "\n",
       "\n"
      ],
      "text/plain": [
       "[1]  0.297119282 -0.109657201  0.009314074 -0.107247758  0.004024739"
      ]
     },
     "metadata": {},
     "output_type": "display_data"
    }
   ],
   "source": [
    "c(mean(merge.admix.dt$PRS), mean(merge.admix.dt$norm.PRS.ADJ.PC), mean(merge.admix.dt$norm.PRS.ADJ.ANC),\n",
    "                   mean(merge.admix.dt$PRS.BR.AOU1 ), mean(merge.admix.dt$PRS.BR.ANC.AOU1))"
   ]
  },
  {
   "cell_type": "code",
   "execution_count": 23,
   "metadata": {},
   "outputs": [
    {
     "data": {
      "text/html": [
       "<style>\n",
       ".list-inline {list-style: none; margin:0; padding: 0}\n",
       ".list-inline>li {display: inline-block}\n",
       ".list-inline>li:not(:last-child)::after {content: \"\\00b7\"; padding: 0 .5ex}\n",
       "</style>\n",
       "<ol class=list-inline><li>0.463262474836052</li><li>1.00095964478945</li><li>1.01174149270161</li><li>1.00619477055928</li><li>1.00416903769457</li></ol>\n"
      ],
      "text/latex": [
       "\\begin{enumerate*}\n",
       "\\item 0.463262474836052\n",
       "\\item 1.00095964478945\n",
       "\\item 1.01174149270161\n",
       "\\item 1.00619477055928\n",
       "\\item 1.00416903769457\n",
       "\\end{enumerate*}\n"
      ],
      "text/markdown": [
       "1. 0.463262474836052\n",
       "2. 1.00095964478945\n",
       "3. 1.01174149270161\n",
       "4. 1.00619477055928\n",
       "5. 1.00416903769457\n",
       "\n",
       "\n"
      ],
      "text/plain": [
       "[1] 0.4632625 1.0009596 1.0117415 1.0061948 1.0041690"
      ]
     },
     "metadata": {},
     "output_type": "display_data"
    }
   ],
   "source": [
    "c(sd(merge.admix.dt$PRS), sd(merge.admix.dt$norm.PRS.ADJ.PC), sd(merge.admix.dt$norm.PRS.ADJ.ANC),\n",
    "                   sd(merge.admix.dt$PRS.BR.AOU1 ), sd(merge.admix.dt$PRS.BR.ANC.AOU1))"
   ]
  },
  {
   "cell_type": "code",
   "execution_count": 23,
   "metadata": {},
   "outputs": [],
   "source": [
    "dist.dt <- data.table(cbind(round(means.admixed,2),round(sds.admixed,2)))\n",
    "setnames(dist.dt,c(\"mean\",\"SD\"))"
   ]
  },
  {
   "cell_type": "code",
   "execution_count": 26,
   "metadata": {},
   "outputs": [
    {
     "data": {
      "text/html": [
       "'SD'"
      ],
      "text/latex": [
       "'SD'"
      ],
      "text/markdown": [
       "'SD'"
      ],
      "text/plain": [
       "[1] \"SD\""
      ]
     },
     "metadata": {},
     "output_type": "display_data"
    }
   ],
   "source": [
    "(sd.cols <- names(dist.dt)[names(dist.dt) %like% \"SD\"])\n",
    "dist.dt[ ,(sd.cols):=lapply(.SD, addparentheses), .SDcols=sd.cols]"
   ]
  },
  {
   "cell_type": "code",
   "execution_count": 31,
   "metadata": {},
   "outputs": [
    {
     "data": {
      "text/html": [
       "<table class=\"dataframe\">\n",
       "<caption>A data.frame: 5 × 1</caption>\n",
       "<thead>\n",
       "\t<tr><th scope=col>mean.sd</th></tr>\n",
       "\t<tr><th scope=col>&lt;chr&gt;</th></tr>\n",
       "</thead>\n",
       "<tbody>\n",
       "\t<tr><td>0.3 (0.46)  </td></tr>\n",
       "\t<tr><td>-0.05 (0.46)</td></tr>\n",
       "\t<tr><td>0 (0.46)    </td></tr>\n",
       "\t<tr><td>-0.11 (1.01)</td></tr>\n",
       "\t<tr><td>0 (1)       </td></tr>\n",
       "</tbody>\n",
       "</table>\n"
      ],
      "text/latex": [
       "A data.frame: 5 × 1\n",
       "\\begin{tabular}{l}\n",
       " mean.sd\\\\\n",
       " <chr>\\\\\n",
       "\\hline\n",
       "\t 0.3 (0.46)  \\\\\n",
       "\t -0.05 (0.46)\\\\\n",
       "\t 0 (0.46)    \\\\\n",
       "\t -0.11 (1.01)\\\\\n",
       "\t 0 (1)       \\\\\n",
       "\\end{tabular}\n"
      ],
      "text/markdown": [
       "\n",
       "A data.frame: 5 × 1\n",
       "\n",
       "| mean.sd &lt;chr&gt; |\n",
       "|---|\n",
       "| 0.3 (0.46)   |\n",
       "| -0.05 (0.46) |\n",
       "| 0 (0.46)     |\n",
       "| -0.11 (1.01) |\n",
       "| 0 (1)        |\n",
       "\n"
      ],
      "text/plain": [
       "  mean.sd     \n",
       "1 0.3 (0.46)  \n",
       "2 -0.05 (0.46)\n",
       "3 0 (0.46)    \n",
       "4 -0.11 (1.01)\n",
       "5 0 (1)       "
      ]
     },
     "metadata": {},
     "output_type": "display_data"
    }
   ],
   "source": [
    "(out.table <- as.data.frame(dist.dt) %>%\n",
    "  unite(mean.sd,c(mean,SD),sep=\" \"))"
   ]
  },
  {
   "cell_type": "code",
   "execution_count": 32,
   "metadata": {},
   "outputs": [
    {
     "data": {
      "text/html": [
       "<table class=\"dataframe\">\n",
       "<caption>A data.frame: 5 × 1</caption>\n",
       "<thead>\n",
       "\t<tr><th></th><th scope=col>mean.sd</th></tr>\n",
       "\t<tr><th></th><th scope=col>&lt;chr&gt;</th></tr>\n",
       "</thead>\n",
       "<tbody>\n",
       "\t<tr><th scope=row>PRS</th><td>0.3 (0.46)  </td></tr>\n",
       "\t<tr><th scope=row>PC</th><td>-0.05 (0.46)</td></tr>\n",
       "\t<tr><th scope=row>ANC</th><td>0 (0.46)    </td></tr>\n",
       "\t<tr><th scope=row>BR.PC</th><td>-0.11 (1.01)</td></tr>\n",
       "\t<tr><th scope=row>BR.ANC</th><td>0 (1)       </td></tr>\n",
       "</tbody>\n",
       "</table>\n"
      ],
      "text/latex": [
       "A data.frame: 5 × 1\n",
       "\\begin{tabular}{r|l}\n",
       "  & mean.sd\\\\\n",
       "  & <chr>\\\\\n",
       "\\hline\n",
       "\tPRS & 0.3 (0.46)  \\\\\n",
       "\tPC & -0.05 (0.46)\\\\\n",
       "\tANC & 0 (0.46)    \\\\\n",
       "\tBR.PC & -0.11 (1.01)\\\\\n",
       "\tBR.ANC & 0 (1)       \\\\\n",
       "\\end{tabular}\n"
      ],
      "text/markdown": [
       "\n",
       "A data.frame: 5 × 1\n",
       "\n",
       "| <!--/--> | mean.sd &lt;chr&gt; |\n",
       "|---|---|\n",
       "| PRS | 0.3 (0.46)   |\n",
       "| PC | -0.05 (0.46) |\n",
       "| ANC | 0 (0.46)     |\n",
       "| BR.PC | -0.11 (1.01) |\n",
       "| BR.ANC | 0 (1)        |\n",
       "\n"
      ],
      "text/plain": [
       "       mean.sd     \n",
       "PRS    0.3 (0.46)  \n",
       "PC     -0.05 (0.46)\n",
       "ANC    0 (0.46)    \n",
       "BR.PC  -0.11 (1.01)\n",
       "BR.ANC 0 (1)       "
      ]
     },
     "metadata": {},
     "output_type": "display_data"
    }
   ],
   "source": [
    "rownames(out.table) <- c(\"PRS\", \"PC\",\"ANC\", \"BR.PC\", \"BR.ANC\")\n",
    "out.table"
   ]
  },
  {
   "cell_type": "code",
   "execution_count": 33,
   "metadata": {},
   "outputs": [
    {
     "data": {
      "text/html": [
       "<table class=\"dataframe\">\n",
       "<caption>A matrix: 1 × 5 of type chr</caption>\n",
       "<thead>\n",
       "\t<tr><th></th><th scope=col>PRS</th><th scope=col>PC</th><th scope=col>ANC</th><th scope=col>BR.PC</th><th scope=col>BR.ANC</th></tr>\n",
       "</thead>\n",
       "<tbody>\n",
       "\t<tr><th scope=row>mean.sd</th><td>0.3 (0.46)</td><td>-0.05 (0.46)</td><td>0 (0.46)</td><td>-0.11 (1.01)</td><td>0 (1)</td></tr>\n",
       "</tbody>\n",
       "</table>\n"
      ],
      "text/latex": [
       "A matrix: 1 × 5 of type chr\n",
       "\\begin{tabular}{r|lllll}\n",
       "  & PRS & PC & ANC & BR.PC & BR.ANC\\\\\n",
       "\\hline\n",
       "\tmean.sd & 0.3 (0.46) & -0.05 (0.46) & 0 (0.46) & -0.11 (1.01) & 0 (1)\\\\\n",
       "\\end{tabular}\n"
      ],
      "text/markdown": [
       "\n",
       "A matrix: 1 × 5 of type chr\n",
       "\n",
       "| <!--/--> | PRS | PC | ANC | BR.PC | BR.ANC |\n",
       "|---|---|---|---|---|---|\n",
       "| mean.sd | 0.3 (0.46) | -0.05 (0.46) | 0 (0.46) | -0.11 (1.01) | 0 (1) |\n",
       "\n"
      ],
      "text/plain": [
       "        PRS        PC           ANC      BR.PC        BR.ANC\n",
       "mean.sd 0.3 (0.46) -0.05 (0.46) 0 (0.46) -0.11 (1.01) 0 (1) "
      ]
     },
     "metadata": {},
     "output_type": "display_data"
    }
   ],
   "source": [
    "t(out.table)"
   ]
  },
  {
   "cell_type": "code",
   "execution_count": 42,
   "metadata": {},
   "outputs": [
    {
     "data": {
      "text/html": [
       "<style>\n",
       ".list-inline {list-style: none; margin:0; padding: 0}\n",
       ".list-inline>li {display: inline-block}\n",
       ".list-inline>li:not(:last-child)::after {content: \"\\00b7\"; padding: 0 .5ex}\n",
       "</style>\n",
       "<ol class=list-inline><li>0</li><li>0</li><li>0</li><li>5.18474152499948e-13</li><li>0.753559406377373</li></ol>\n"
      ],
      "text/latex": [
       "\\begin{enumerate*}\n",
       "\\item 0\n",
       "\\item 0\n",
       "\\item 0\n",
       "\\item 5.18474152499948e-13\n",
       "\\item 0.753559406377373\n",
       "\\end{enumerate*}\n"
      ],
      "text/markdown": [
       "1. 0\n",
       "2. 0\n",
       "3. 0\n",
       "4. 5.18474152499948e-13\n",
       "5. 0.753559406377373\n",
       "\n",
       "\n"
      ],
      "text/plain": [
       "[1] 0.000000e+00 0.000000e+00 0.000000e+00 5.184742e-13 7.535594e-01"
      ]
     },
     "metadata": {},
     "output_type": "display_data"
    }
   ],
   "source": [
    "(ks.tests.admixed <- c(ks.test(merge.admix.dt$PRS, \"pnorm\",0,1)$p.value, \n",
    "                       ks.test(merge.admix.dt$PRS.ADJ.PC, \"pnorm\",0,1)$p.value, \n",
    "                       ks.test(merge.admix.dt$PRS.ADJ.ANC, \"pnorm\",0,1)$p.value,\n",
    "                   ks.test(merge.admix.dt$PRS.BR.AOU1, \"pnorm\",0,1)$p.value, \n",
    "                       ks.test(merge.admix.dt$PRS.BR.ANC.AOU1, \"pnorm\",0,1)$p.value))"
   ]
  },
  {
   "cell_type": "markdown",
   "metadata": {},
   "source": [
    "# Look at upper tails of is.admixed"
   ]
  },
  {
   "cell_type": "code",
   "execution_count": 18,
   "metadata": {},
   "outputs": [
    {
     "data": {
      "text/html": [
       "<style>\n",
       ".list-inline {list-style: none; margin:0; padding: 0}\n",
       ".list-inline>li {display: inline-block}\n",
       ".list-inline>li:not(:last-child)::after {content: \"\\00b7\"; padding: 0 .5ex}\n",
       "</style>\n",
       "<ol class=list-inline><li>1.2815515655446</li><li>1.43953147093846</li><li>1.64485362695147</li></ol>\n"
      ],
      "text/latex": [
       "\\begin{enumerate*}\n",
       "\\item 1.2815515655446\n",
       "\\item 1.43953147093846\n",
       "\\item 1.64485362695147\n",
       "\\end{enumerate*}\n"
      ],
      "text/markdown": [
       "1. 1.2815515655446\n",
       "2. 1.43953147093846\n",
       "3. 1.64485362695147\n",
       "\n",
       "\n"
      ],
      "text/plain": [
       "[1] 1.281552 1.439531 1.644854"
      ]
     },
     "metadata": {},
     "output_type": "display_data"
    }
   ],
   "source": [
    "cutoffs <- c(0.90, 0.925, 0.95)\n",
    "qnorm(cutoffs)"
   ]
  },
  {
   "cell_type": "code",
   "execution_count": 19,
   "metadata": {},
   "outputs": [],
   "source": [
    "get.observed.freq <- function(subset.dt, cutoff)\n",
    "    {\n",
    "    #cutoff <- 0.9\n",
    "    (total <- length(subset.dt$my.prs))\n",
    "    (count <- length(subset.dt$my.prs[subset.dt$my.prs > qnorm(cutoff)]))\n",
    "    (prop <- 1 - cutoff)\n",
    "    obs.freq <- round(100*binom.test(x=count,n=total,p=prop)$estimate,2)\n",
    "    ci.freq <- round(100*binom.test(x=count,n=total,p=prop)$conf.int,2)\n",
    "    c(obs.freq, ci.freq)\n",
    "    }"
   ]
  },
  {
   "cell_type": "code",
   "execution_count": null,
   "metadata": {},
   "outputs": [],
   "source": []
  },
  {
   "cell_type": "code",
   "execution_count": 20,
   "metadata": {},
   "outputs": [
    {
     "ename": "ERROR",
     "evalue": "Error in eval(expr, envir, enclos): object 'merge.admix.dt' not found\n",
     "output_type": "error",
     "traceback": [
      "Error in eval(expr, envir, enclos): object 'merge.admix.dt' not found\nTraceback:\n",
      "1. copy(merge.admix.dt)"
     ]
    }
   ],
   "source": [
    "subset.dt <- copy(merge.admix.dt) \n",
    "\n",
    "subset.dt$my.prs <- subset.dt$norm.PRS\n",
    "length(subset.dt$my.prs)\n",
    "(actual.admixed.norm <- t(matrix(c(get.observed.freq(subset.dt=subset.dt,cutoff=0.9),get.observed.freq(subset.dt=subset.dt,cutoff=0.925),\n",
    "                     get.observed.freq(subset.dt=subset.dt,cutoff=0.95)),ncol=3)))\n",
    "\n",
    "subset.dt$my.prs <- subset.dt$norm.PRS.ADJ.PC\n",
    "length(subset.dt$my.prs)\n",
    "(actual.admixed.norm.ADJ.PC <- t(matrix(c(get.observed.freq(subset.dt=subset.dt,cutoff=0.9),get.observed.freq(subset.dt=subset.dt,cutoff=0.925),\n",
    "                     get.observed.freq(subset.dt=subset.dt,cutoff=0.95)),ncol=3)))\n",
    "\n",
    "subset.dt$my.prs <- subset.dt$norm.PRS.ADJ.ANC\n",
    "length(subset.dt$my.prs)\n",
    "(actual.admixed.norm.ADJ.ANC <- t(matrix(c(get.observed.freq(subset.dt=subset.dt,cutoff=0.9),get.observed.freq(subset.dt=subset.dt,cutoff=0.925),\n",
    "                     get.observed.freq(subset.dt=subset.dt,cutoff=0.95)),ncol=3)))\n",
    "\n",
    "subset.dt$my.prs <- subset.dt$PRS.BR.AOU1\n",
    "length(subset.dt$my.prs)\n",
    "(actual.admixed.BR.AOU1 <- t(matrix(c(get.observed.freq(subset.dt=subset.dt,cutoff=0.9),get.observed.freq(subset.dt=subset.dt,cutoff=0.925),\n",
    "                     get.observed.freq(subset.dt=subset.dt,cutoff=0.95)),ncol=3)))\n",
    "\n",
    "subset.dt$my.prs <- subset.dt$PRS.BR.ANC.AOU1\n",
    "length(subset.dt$my.prs)\n",
    "(actual.admixed.BR.ANC.AOU1 <- t(matrix(c(get.observed.freq(subset.dt=subset.dt,cutoff=0.9),get.observed.freq(subset.dt=subset.dt,cutoff=0.925),\n",
    "                     get.observed.freq(subset.dt=subset.dt,cutoff=0.95)),ncol=3)))\n",
    "(admixed.actuals <- cbind(actual.admixed.norm[,1], actual.admixed.norm.ADJ.PC[,1],actual.admixed.BR.AOU1[,1], \n",
    "                     actual.admixed.norm.ADJ.ANC[,1], \n",
    "                     actual.admixed.BR.ANC.AOU1[,1]))\n",
    "(admixed.lower <- cbind(actual.admixed.norm[,2], actual.admixed.norm.ADJ.PC[,2],actual.admixed.BR.AOU1[,2], \n",
    "                     actual.admixed.norm.ADJ.ANC[,2], \n",
    "                     actual.admixed.BR.ANC.AOU1[,2]))\n",
    "(admixed.upper <- cbind(actual.admixed.norm[,3], actual.admixed.norm.ADJ.PC[,3],actual.admixed.BR.AOU1[,3], \n",
    "                     actual.admixed.norm.ADJ.ANC[,3], \n",
    "                     actual.admixed.BR.ANC.AOU1[,3]))\n",
    "\n"
   ]
  },
  {
   "cell_type": "code",
   "execution_count": 44,
   "metadata": {},
   "outputs": [
    {
     "data": {
      "image/png": "[encoded data removed]",
      "text/plain": [
       "Plot with title “admixed”"
      ]
     },
     "metadata": {
      "image/png": {
       "height": 420,
       "width": 420
      }
     },
     "output_type": "display_data"
    }
   ],
   "source": [
    "plot.obs.exp.ci(actuals.mat=admixed.actuals,lower.mat=admixed.lower, upper.mat=admixed.upper, my.ancestry=\"admixed\",\n",
    "                col=\"darkolivegreen4\")"
   ]
  }
 ],
 "metadata": {
  "kernelspec": {
   "display_name": "R",
   "language": "R",
   "name": "ir"
  },
  "language_info": {
   "codemirror_mode": "r",
   "file_extension": ".r",
   "mimetype": "text/x-r-source",
   "name": "R",
   "pygments_lexer": "r",
   "version": "4.3.1"
  },
  "toc": {
   "base_numbering": 1,
   "nav_menu": {
    "height": "240.994px",
    "width": "305.604px"
   },
   "number_sections": true,
   "sideBar": true,
   "skip_h1_title": false,
   "title_cell": "Table of Contents",
   "title_sidebar": "Contents",
   "toc_cell": false,
   "toc_position": {},
   "toc_section_display": true,
   "toc_window_display": false
  }
 },
 "nbformat": 4,
 "nbformat_minor": 2
}
